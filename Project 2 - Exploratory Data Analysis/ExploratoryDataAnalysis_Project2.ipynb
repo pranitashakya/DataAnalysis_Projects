{
 "cells": [
  {
   "cell_type": "markdown",
   "metadata": {},
   "source": [
    "# Research on Car Sales Advertisements\n",
    "\n",
    "There are hundreds of free advertisements for vehicles sales published every day. As an analyst at Crankshaft List, we need to study data collected over the last few years and determine which factors influence the price of a vehicle. "
   ]
  },
  {
   "cell_type": "markdown",
   "metadata": {},
   "source": [
    "### Here are the steps followed to complete the project:"
   ]
  },
  {
   "cell_type": "markdown",
   "metadata": {},
   "source": [
    "\n",
    "\n",
    "##  Step 1: Open the data file and study the general information. "
   ]
  },
  {
   "cell_type": "code",
   "execution_count": 1,
   "metadata": {},
   "outputs": [],
   "source": [
    " # Import default libraries\n",
    "    \n",
    "import pandas as pd # manipulate and wrangle the data  \n",
    "import matplotlib.pyplot as plt #2d plotting library which produces publication quality figures in a variety of formats\n",
    "import seaborn as sns # Seaborn provides a high-level interface for drawing attractive and informative statistical graphics\n",
    "\n",
    "from scipy import stats # for mathematics, science, and engineering"
   ]
  },
  {
   "cell_type": "code",
   "execution_count": 2,
   "metadata": {
    "scrolled": true
   },
   "outputs": [
    {
     "name": "stdout",
     "output_type": "stream",
     "text": [
      "<class 'pandas.core.frame.DataFrame'>\n",
      "RangeIndex: 51525 entries, 0 to 51524\n",
      "Data columns (total 13 columns):\n",
      "price           51525 non-null int64\n",
      "model_year      47906 non-null float64\n",
      "model           51525 non-null object\n",
      "condition       51525 non-null object\n",
      "cylinders       46265 non-null float64\n",
      "fuel            51525 non-null object\n",
      "odometer        43633 non-null float64\n",
      "transmission    51525 non-null object\n",
      "type            51525 non-null object\n",
      "paint_color     42258 non-null object\n",
      "is_4wd          25572 non-null float64\n",
      "date_posted     51525 non-null object\n",
      "days_listed     51525 non-null int64\n",
      "dtypes: float64(4), int64(2), object(7)\n",
      "memory usage: 5.1+ MB\n"
     ]
    },
    {
     "data": {
      "text/html": [
       "<div>\n",
       "<style scoped>\n",
       "    .dataframe tbody tr th:only-of-type {\n",
       "        vertical-align: middle;\n",
       "    }\n",
       "\n",
       "    .dataframe tbody tr th {\n",
       "        vertical-align: top;\n",
       "    }\n",
       "\n",
       "    .dataframe thead th {\n",
       "        text-align: right;\n",
       "    }\n",
       "</style>\n",
       "<table border=\"1\" class=\"dataframe\">\n",
       "  <thead>\n",
       "    <tr style=\"text-align: right;\">\n",
       "      <th></th>\n",
       "      <th>price</th>\n",
       "      <th>model_year</th>\n",
       "      <th>model</th>\n",
       "      <th>condition</th>\n",
       "      <th>cylinders</th>\n",
       "      <th>fuel</th>\n",
       "      <th>odometer</th>\n",
       "      <th>transmission</th>\n",
       "      <th>type</th>\n",
       "      <th>paint_color</th>\n",
       "      <th>is_4wd</th>\n",
       "      <th>date_posted</th>\n",
       "      <th>days_listed</th>\n",
       "    </tr>\n",
       "  </thead>\n",
       "  <tbody>\n",
       "    <tr>\n",
       "      <td>count</td>\n",
       "      <td>51525.000000</td>\n",
       "      <td>47906.000000</td>\n",
       "      <td>51525</td>\n",
       "      <td>51525</td>\n",
       "      <td>46265.000000</td>\n",
       "      <td>51525</td>\n",
       "      <td>43633.000000</td>\n",
       "      <td>51525</td>\n",
       "      <td>51525</td>\n",
       "      <td>42258</td>\n",
       "      <td>25572.0</td>\n",
       "      <td>51525</td>\n",
       "      <td>51525.00000</td>\n",
       "    </tr>\n",
       "    <tr>\n",
       "      <td>unique</td>\n",
       "      <td>NaN</td>\n",
       "      <td>NaN</td>\n",
       "      <td>100</td>\n",
       "      <td>6</td>\n",
       "      <td>NaN</td>\n",
       "      <td>5</td>\n",
       "      <td>NaN</td>\n",
       "      <td>3</td>\n",
       "      <td>13</td>\n",
       "      <td>12</td>\n",
       "      <td>NaN</td>\n",
       "      <td>354</td>\n",
       "      <td>NaN</td>\n",
       "    </tr>\n",
       "    <tr>\n",
       "      <td>top</td>\n",
       "      <td>NaN</td>\n",
       "      <td>NaN</td>\n",
       "      <td>ford f-150</td>\n",
       "      <td>excellent</td>\n",
       "      <td>NaN</td>\n",
       "      <td>gas</td>\n",
       "      <td>NaN</td>\n",
       "      <td>automatic</td>\n",
       "      <td>SUV</td>\n",
       "      <td>white</td>\n",
       "      <td>NaN</td>\n",
       "      <td>2019-03-17</td>\n",
       "      <td>NaN</td>\n",
       "    </tr>\n",
       "    <tr>\n",
       "      <td>freq</td>\n",
       "      <td>NaN</td>\n",
       "      <td>NaN</td>\n",
       "      <td>2796</td>\n",
       "      <td>24773</td>\n",
       "      <td>NaN</td>\n",
       "      <td>47288</td>\n",
       "      <td>NaN</td>\n",
       "      <td>46902</td>\n",
       "      <td>12405</td>\n",
       "      <td>10029</td>\n",
       "      <td>NaN</td>\n",
       "      <td>186</td>\n",
       "      <td>NaN</td>\n",
       "    </tr>\n",
       "    <tr>\n",
       "      <td>mean</td>\n",
       "      <td>12132.464920</td>\n",
       "      <td>2009.750470</td>\n",
       "      <td>NaN</td>\n",
       "      <td>NaN</td>\n",
       "      <td>6.125235</td>\n",
       "      <td>NaN</td>\n",
       "      <td>115553.461738</td>\n",
       "      <td>NaN</td>\n",
       "      <td>NaN</td>\n",
       "      <td>NaN</td>\n",
       "      <td>1.0</td>\n",
       "      <td>NaN</td>\n",
       "      <td>39.55476</td>\n",
       "    </tr>\n",
       "    <tr>\n",
       "      <td>std</td>\n",
       "      <td>10040.803015</td>\n",
       "      <td>6.282065</td>\n",
       "      <td>NaN</td>\n",
       "      <td>NaN</td>\n",
       "      <td>1.660360</td>\n",
       "      <td>NaN</td>\n",
       "      <td>65094.611341</td>\n",
       "      <td>NaN</td>\n",
       "      <td>NaN</td>\n",
       "      <td>NaN</td>\n",
       "      <td>0.0</td>\n",
       "      <td>NaN</td>\n",
       "      <td>28.20427</td>\n",
       "    </tr>\n",
       "    <tr>\n",
       "      <td>min</td>\n",
       "      <td>1.000000</td>\n",
       "      <td>1908.000000</td>\n",
       "      <td>NaN</td>\n",
       "      <td>NaN</td>\n",
       "      <td>3.000000</td>\n",
       "      <td>NaN</td>\n",
       "      <td>0.000000</td>\n",
       "      <td>NaN</td>\n",
       "      <td>NaN</td>\n",
       "      <td>NaN</td>\n",
       "      <td>1.0</td>\n",
       "      <td>NaN</td>\n",
       "      <td>0.00000</td>\n",
       "    </tr>\n",
       "    <tr>\n",
       "      <td>25%</td>\n",
       "      <td>5000.000000</td>\n",
       "      <td>2006.000000</td>\n",
       "      <td>NaN</td>\n",
       "      <td>NaN</td>\n",
       "      <td>4.000000</td>\n",
       "      <td>NaN</td>\n",
       "      <td>70000.000000</td>\n",
       "      <td>NaN</td>\n",
       "      <td>NaN</td>\n",
       "      <td>NaN</td>\n",
       "      <td>1.0</td>\n",
       "      <td>NaN</td>\n",
       "      <td>19.00000</td>\n",
       "    </tr>\n",
       "    <tr>\n",
       "      <td>50%</td>\n",
       "      <td>9000.000000</td>\n",
       "      <td>2011.000000</td>\n",
       "      <td>NaN</td>\n",
       "      <td>NaN</td>\n",
       "      <td>6.000000</td>\n",
       "      <td>NaN</td>\n",
       "      <td>113000.000000</td>\n",
       "      <td>NaN</td>\n",
       "      <td>NaN</td>\n",
       "      <td>NaN</td>\n",
       "      <td>1.0</td>\n",
       "      <td>NaN</td>\n",
       "      <td>33.00000</td>\n",
       "    </tr>\n",
       "    <tr>\n",
       "      <td>75%</td>\n",
       "      <td>16839.000000</td>\n",
       "      <td>2014.000000</td>\n",
       "      <td>NaN</td>\n",
       "      <td>NaN</td>\n",
       "      <td>8.000000</td>\n",
       "      <td>NaN</td>\n",
       "      <td>155000.000000</td>\n",
       "      <td>NaN</td>\n",
       "      <td>NaN</td>\n",
       "      <td>NaN</td>\n",
       "      <td>1.0</td>\n",
       "      <td>NaN</td>\n",
       "      <td>53.00000</td>\n",
       "    </tr>\n",
       "    <tr>\n",
       "      <td>max</td>\n",
       "      <td>375000.000000</td>\n",
       "      <td>2019.000000</td>\n",
       "      <td>NaN</td>\n",
       "      <td>NaN</td>\n",
       "      <td>12.000000</td>\n",
       "      <td>NaN</td>\n",
       "      <td>990000.000000</td>\n",
       "      <td>NaN</td>\n",
       "      <td>NaN</td>\n",
       "      <td>NaN</td>\n",
       "      <td>1.0</td>\n",
       "      <td>NaN</td>\n",
       "      <td>271.00000</td>\n",
       "    </tr>\n",
       "  </tbody>\n",
       "</table>\n",
       "</div>"
      ],
      "text/plain": [
       "                price    model_year       model  condition     cylinders  \\\n",
       "count    51525.000000  47906.000000       51525      51525  46265.000000   \n",
       "unique            NaN           NaN         100          6           NaN   \n",
       "top               NaN           NaN  ford f-150  excellent           NaN   \n",
       "freq              NaN           NaN        2796      24773           NaN   \n",
       "mean     12132.464920   2009.750470         NaN        NaN      6.125235   \n",
       "std      10040.803015      6.282065         NaN        NaN      1.660360   \n",
       "min          1.000000   1908.000000         NaN        NaN      3.000000   \n",
       "25%       5000.000000   2006.000000         NaN        NaN      4.000000   \n",
       "50%       9000.000000   2011.000000         NaN        NaN      6.000000   \n",
       "75%      16839.000000   2014.000000         NaN        NaN      8.000000   \n",
       "max     375000.000000   2019.000000         NaN        NaN     12.000000   \n",
       "\n",
       "         fuel       odometer transmission   type paint_color   is_4wd  \\\n",
       "count   51525   43633.000000        51525  51525       42258  25572.0   \n",
       "unique      5            NaN            3     13          12      NaN   \n",
       "top       gas            NaN    automatic    SUV       white      NaN   \n",
       "freq    47288            NaN        46902  12405       10029      NaN   \n",
       "mean      NaN  115553.461738          NaN    NaN         NaN      1.0   \n",
       "std       NaN   65094.611341          NaN    NaN         NaN      0.0   \n",
       "min       NaN       0.000000          NaN    NaN         NaN      1.0   \n",
       "25%       NaN   70000.000000          NaN    NaN         NaN      1.0   \n",
       "50%       NaN  113000.000000          NaN    NaN         NaN      1.0   \n",
       "75%       NaN  155000.000000          NaN    NaN         NaN      1.0   \n",
       "max       NaN  990000.000000          NaN    NaN         NaN      1.0   \n",
       "\n",
       "       date_posted  days_listed  \n",
       "count        51525  51525.00000  \n",
       "unique         354          NaN  \n",
       "top     2019-03-17          NaN  \n",
       "freq           186          NaN  \n",
       "mean           NaN     39.55476  \n",
       "std            NaN     28.20427  \n",
       "min            NaN      0.00000  \n",
       "25%            NaN     19.00000  \n",
       "50%            NaN     33.00000  \n",
       "75%            NaN     53.00000  \n",
       "max            NaN    271.00000  "
      ]
     },
     "metadata": {},
     "output_type": "display_data"
    }
   ],
   "source": [
    "#read data from file 'vehicles_us.csv'\n",
    "df = pd.read_csv('/datasets/vehicles_us.csv')\n",
    "\n",
    "# preview the loaded data\n",
    "df.info()\n",
    "\n",
    "# provides descriptive statistics\n",
    "display(df.describe(include= 'all')) "
   ]
  },
  {
   "cell_type": "code",
   "execution_count": 3,
   "metadata": {
    "scrolled": true
   },
   "outputs": [
    {
     "data": {
      "text/html": [
       "<div>\n",
       "<style scoped>\n",
       "    .dataframe tbody tr th:only-of-type {\n",
       "        vertical-align: middle;\n",
       "    }\n",
       "\n",
       "    .dataframe tbody tr th {\n",
       "        vertical-align: top;\n",
       "    }\n",
       "\n",
       "    .dataframe thead th {\n",
       "        text-align: right;\n",
       "    }\n",
       "</style>\n",
       "<table border=\"1\" class=\"dataframe\">\n",
       "  <thead>\n",
       "    <tr style=\"text-align: right;\">\n",
       "      <th></th>\n",
       "      <th>price</th>\n",
       "      <th>model_year</th>\n",
       "      <th>model</th>\n",
       "      <th>condition</th>\n",
       "      <th>cylinders</th>\n",
       "      <th>fuel</th>\n",
       "      <th>odometer</th>\n",
       "      <th>transmission</th>\n",
       "      <th>type</th>\n",
       "      <th>paint_color</th>\n",
       "      <th>is_4wd</th>\n",
       "      <th>date_posted</th>\n",
       "      <th>days_listed</th>\n",
       "    </tr>\n",
       "  </thead>\n",
       "  <tbody>\n",
       "    <tr>\n",
       "      <td>0</td>\n",
       "      <td>9400</td>\n",
       "      <td>2011.0</td>\n",
       "      <td>bmw x5</td>\n",
       "      <td>good</td>\n",
       "      <td>6.0</td>\n",
       "      <td>gas</td>\n",
       "      <td>145000.0</td>\n",
       "      <td>automatic</td>\n",
       "      <td>SUV</td>\n",
       "      <td>NaN</td>\n",
       "      <td>1.0</td>\n",
       "      <td>2018-06-23</td>\n",
       "      <td>19</td>\n",
       "    </tr>\n",
       "    <tr>\n",
       "      <td>1</td>\n",
       "      <td>25500</td>\n",
       "      <td>NaN</td>\n",
       "      <td>ford f-150</td>\n",
       "      <td>good</td>\n",
       "      <td>6.0</td>\n",
       "      <td>gas</td>\n",
       "      <td>88705.0</td>\n",
       "      <td>automatic</td>\n",
       "      <td>pickup</td>\n",
       "      <td>white</td>\n",
       "      <td>1.0</td>\n",
       "      <td>2018-10-19</td>\n",
       "      <td>50</td>\n",
       "    </tr>\n",
       "    <tr>\n",
       "      <td>2</td>\n",
       "      <td>5500</td>\n",
       "      <td>2013.0</td>\n",
       "      <td>hyundai sonata</td>\n",
       "      <td>like new</td>\n",
       "      <td>4.0</td>\n",
       "      <td>gas</td>\n",
       "      <td>110000.0</td>\n",
       "      <td>automatic</td>\n",
       "      <td>sedan</td>\n",
       "      <td>red</td>\n",
       "      <td>NaN</td>\n",
       "      <td>2019-02-07</td>\n",
       "      <td>79</td>\n",
       "    </tr>\n",
       "    <tr>\n",
       "      <td>3</td>\n",
       "      <td>1500</td>\n",
       "      <td>2003.0</td>\n",
       "      <td>ford f-150</td>\n",
       "      <td>fair</td>\n",
       "      <td>8.0</td>\n",
       "      <td>gas</td>\n",
       "      <td>NaN</td>\n",
       "      <td>automatic</td>\n",
       "      <td>pickup</td>\n",
       "      <td>NaN</td>\n",
       "      <td>NaN</td>\n",
       "      <td>2019-03-22</td>\n",
       "      <td>9</td>\n",
       "    </tr>\n",
       "    <tr>\n",
       "      <td>4</td>\n",
       "      <td>14900</td>\n",
       "      <td>2017.0</td>\n",
       "      <td>chrysler 200</td>\n",
       "      <td>excellent</td>\n",
       "      <td>4.0</td>\n",
       "      <td>gas</td>\n",
       "      <td>80903.0</td>\n",
       "      <td>automatic</td>\n",
       "      <td>sedan</td>\n",
       "      <td>black</td>\n",
       "      <td>NaN</td>\n",
       "      <td>2019-04-02</td>\n",
       "      <td>28</td>\n",
       "    </tr>\n",
       "    <tr>\n",
       "      <td>5</td>\n",
       "      <td>14990</td>\n",
       "      <td>2014.0</td>\n",
       "      <td>chrysler 300</td>\n",
       "      <td>excellent</td>\n",
       "      <td>6.0</td>\n",
       "      <td>gas</td>\n",
       "      <td>57954.0</td>\n",
       "      <td>automatic</td>\n",
       "      <td>sedan</td>\n",
       "      <td>black</td>\n",
       "      <td>1.0</td>\n",
       "      <td>2018-06-20</td>\n",
       "      <td>15</td>\n",
       "    </tr>\n",
       "    <tr>\n",
       "      <td>6</td>\n",
       "      <td>12990</td>\n",
       "      <td>2015.0</td>\n",
       "      <td>toyota camry</td>\n",
       "      <td>excellent</td>\n",
       "      <td>4.0</td>\n",
       "      <td>gas</td>\n",
       "      <td>79212.0</td>\n",
       "      <td>automatic</td>\n",
       "      <td>sedan</td>\n",
       "      <td>white</td>\n",
       "      <td>NaN</td>\n",
       "      <td>2018-12-27</td>\n",
       "      <td>73</td>\n",
       "    </tr>\n",
       "    <tr>\n",
       "      <td>7</td>\n",
       "      <td>15990</td>\n",
       "      <td>2013.0</td>\n",
       "      <td>honda pilot</td>\n",
       "      <td>excellent</td>\n",
       "      <td>6.0</td>\n",
       "      <td>gas</td>\n",
       "      <td>109473.0</td>\n",
       "      <td>automatic</td>\n",
       "      <td>SUV</td>\n",
       "      <td>black</td>\n",
       "      <td>1.0</td>\n",
       "      <td>2019-01-07</td>\n",
       "      <td>68</td>\n",
       "    </tr>\n",
       "    <tr>\n",
       "      <td>8</td>\n",
       "      <td>11500</td>\n",
       "      <td>2012.0</td>\n",
       "      <td>kia sorento</td>\n",
       "      <td>excellent</td>\n",
       "      <td>4.0</td>\n",
       "      <td>gas</td>\n",
       "      <td>104174.0</td>\n",
       "      <td>automatic</td>\n",
       "      <td>SUV</td>\n",
       "      <td>NaN</td>\n",
       "      <td>1.0</td>\n",
       "      <td>2018-07-16</td>\n",
       "      <td>19</td>\n",
       "    </tr>\n",
       "    <tr>\n",
       "      <td>9</td>\n",
       "      <td>9200</td>\n",
       "      <td>2008.0</td>\n",
       "      <td>honda pilot</td>\n",
       "      <td>excellent</td>\n",
       "      <td>NaN</td>\n",
       "      <td>gas</td>\n",
       "      <td>147191.0</td>\n",
       "      <td>automatic</td>\n",
       "      <td>SUV</td>\n",
       "      <td>blue</td>\n",
       "      <td>1.0</td>\n",
       "      <td>2019-02-15</td>\n",
       "      <td>17</td>\n",
       "    </tr>\n",
       "  </tbody>\n",
       "</table>\n",
       "</div>"
      ],
      "text/plain": [
       "   price  model_year           model  condition  cylinders fuel  odometer  \\\n",
       "0   9400      2011.0          bmw x5       good        6.0  gas  145000.0   \n",
       "1  25500         NaN      ford f-150       good        6.0  gas   88705.0   \n",
       "2   5500      2013.0  hyundai sonata   like new        4.0  gas  110000.0   \n",
       "3   1500      2003.0      ford f-150       fair        8.0  gas       NaN   \n",
       "4  14900      2017.0    chrysler 200  excellent        4.0  gas   80903.0   \n",
       "5  14990      2014.0    chrysler 300  excellent        6.0  gas   57954.0   \n",
       "6  12990      2015.0    toyota camry  excellent        4.0  gas   79212.0   \n",
       "7  15990      2013.0     honda pilot  excellent        6.0  gas  109473.0   \n",
       "8  11500      2012.0     kia sorento  excellent        4.0  gas  104174.0   \n",
       "9   9200      2008.0     honda pilot  excellent        NaN  gas  147191.0   \n",
       "\n",
       "  transmission    type paint_color  is_4wd date_posted  days_listed  \n",
       "0    automatic     SUV         NaN     1.0  2018-06-23           19  \n",
       "1    automatic  pickup       white     1.0  2018-10-19           50  \n",
       "2    automatic   sedan         red     NaN  2019-02-07           79  \n",
       "3    automatic  pickup         NaN     NaN  2019-03-22            9  \n",
       "4    automatic   sedan       black     NaN  2019-04-02           28  \n",
       "5    automatic   sedan       black     1.0  2018-06-20           15  \n",
       "6    automatic   sedan       white     NaN  2018-12-27           73  \n",
       "7    automatic     SUV       black     1.0  2019-01-07           68  \n",
       "8    automatic     SUV         NaN     1.0  2018-07-16           19  \n",
       "9    automatic     SUV        blue     1.0  2019-02-15           17  "
      ]
     },
     "execution_count": 3,
     "metadata": {},
     "output_type": "execute_result"
    }
   ],
   "source": [
    "# return the top n- rows of dataframe\n",
    "df.head(10)"
   ]
  },
  {
   "cell_type": "markdown",
   "metadata": {},
   "source": [
    "#### Conclusion:"
   ]
  },
  {
   "cell_type": "markdown",
   "metadata": {},
   "source": [
    "- We checked the general information of 'vehicles_us' file.\n",
    "\n",
    "- Upon checking data, we found that there is not a column like car_id that uniquely identifies a car. Because of that, there's not enough information to conclude that duplicate rows belong to the same car/customer or not.\n",
    "\n",
    "- The 'price' range of cars ranges from 1 to 375000. Price under 100 sounds strange to me. We'll check in detail further if there's any correlation with other columns.\n",
    "\n",
    "- The 'model_year' , 'cylinder', 'point_color', 'odometer' and 'is_4wd'columns are found to be blank (missing values). These are keys things that people check when they buy a car. At this point, we are not sure why those columns havng missing values.However, missing values are significantly less. We will dig in more detail in the steps below.\n",
    "\n",
    "- The 'is_4wd' , 'odometer' and 'model_year' columns are float datatypes  and 'date_posted' should be date type. This could probably be an error in the data retrieving process.\n",
    "\n",
    "- The 'is_4wd' is a boolean column represented by o's and 1s.\n"
   ]
  },
  {
   "cell_type": "markdown",
   "metadata": {},
   "source": [
    "## Step 2:  Data preprocessing:\n",
    "In this step, we are viewing the data in more detail to identify missing values, data types and address potential duplicates."
   ]
  },
  {
   "cell_type": "markdown",
   "metadata": {},
   "source": [
    "### Checking  missing values "
   ]
  },
  {
   "cell_type": "code",
   "execution_count": 4,
   "metadata": {
    "scrolled": true
   },
   "outputs": [
    {
     "data": {
      "text/html": [
       "<div>\n",
       "<style scoped>\n",
       "    .dataframe tbody tr th:only-of-type {\n",
       "        vertical-align: middle;\n",
       "    }\n",
       "\n",
       "    .dataframe tbody tr th {\n",
       "        vertical-align: top;\n",
       "    }\n",
       "\n",
       "    .dataframe thead th {\n",
       "        text-align: right;\n",
       "    }\n",
       "</style>\n",
       "<table border=\"1\" class=\"dataframe\">\n",
       "  <thead>\n",
       "    <tr style=\"text-align: right;\">\n",
       "      <th></th>\n",
       "      <th>Total</th>\n",
       "      <th>Percent</th>\n",
       "    </tr>\n",
       "  </thead>\n",
       "  <tbody>\n",
       "    <tr>\n",
       "      <td>is_4wd</td>\n",
       "      <td>25953</td>\n",
       "      <td>50.369723</td>\n",
       "    </tr>\n",
       "    <tr>\n",
       "      <td>paint_color</td>\n",
       "      <td>9267</td>\n",
       "      <td>17.985444</td>\n",
       "    </tr>\n",
       "    <tr>\n",
       "      <td>odometer</td>\n",
       "      <td>7892</td>\n",
       "      <td>15.316836</td>\n",
       "    </tr>\n",
       "    <tr>\n",
       "      <td>cylinders</td>\n",
       "      <td>5260</td>\n",
       "      <td>10.208637</td>\n",
       "    </tr>\n",
       "    <tr>\n",
       "      <td>model_year</td>\n",
       "      <td>3619</td>\n",
       "      <td>7.023775</td>\n",
       "    </tr>\n",
       "    <tr>\n",
       "      <td>days_listed</td>\n",
       "      <td>0</td>\n",
       "      <td>0.000000</td>\n",
       "    </tr>\n",
       "    <tr>\n",
       "      <td>date_posted</td>\n",
       "      <td>0</td>\n",
       "      <td>0.000000</td>\n",
       "    </tr>\n",
       "    <tr>\n",
       "      <td>type</td>\n",
       "      <td>0</td>\n",
       "      <td>0.000000</td>\n",
       "    </tr>\n",
       "  </tbody>\n",
       "</table>\n",
       "</div>"
      ],
      "text/plain": [
       "             Total    Percent\n",
       "is_4wd       25953  50.369723\n",
       "paint_color   9267  17.985444\n",
       "odometer      7892  15.316836\n",
       "cylinders     5260  10.208637\n",
       "model_year    3619   7.023775\n",
       "days_listed      0   0.000000\n",
       "date_posted      0   0.000000\n",
       "type             0   0.000000"
      ]
     },
     "execution_count": 4,
     "metadata": {},
     "output_type": "execute_result"
    }
   ],
   "source": [
    "\n",
    "#display all missing values columns along with %\n",
    "\n",
    "total = df.isnull().sum().sort_values(ascending=False)\n",
    "percent =total/len(df)*100\n",
    "pd.concat([total,percent], axis=1, keys=['Total','Percent']).head(8)\n",
    "\n"
   ]
  },
  {
   "cell_type": "markdown",
   "metadata": {},
   "source": [
    "Conclusion: Upon checking data, found out that there are missing values in 'model_year', 'cylinders','odometer', 'paint_color' and 'is_4wd' columns. There could be missing values for a number of reasons like observations that were not recorded and data corruption and many more. Missing values can be replaced with statistical measures (mean/median). However, we need to be careful. We have to make sure that values we replace don't make significant impact on data. Some data description show that they have potential outliers in the quantitative values (data). We'll further investigate and impute missing values in the steps below.\n",
    "\n",
    "\n"
   ]
  },
  {
   "cell_type": "markdown",
   "metadata": {},
   "source": [
    "### Handing Missing Values for 'is_4wd', 'model_year','paint_color', 'odometer' , 'cylinders' columns"
   ]
  },
  {
   "cell_type": "code",
   "execution_count": 5,
   "metadata": {},
   "outputs": [
    {
     "data": {
      "text/plain": [
       "array([1., 0.])"
      ]
     },
     "execution_count": 5,
     "metadata": {},
     "output_type": "execute_result"
    }
   ],
   "source": [
    "# 1)'is_4wd' column\n",
    "\n",
    "df['is_4wd'] = df['is_4wd'].fillna(0)\n",
    "\n",
    "df['is_4wd'].unique()\n"
   ]
  },
  {
   "cell_type": "markdown",
   "metadata": {},
   "source": [
    "Conclusion: The 'is_4wd' column has 50% missing values. Based on the values, it looks like the column is boolean type. If 1's are for 4wd then blanks ones are obviously not 4wd as there's not a single 0's. Hence, we can conclude that blank/missing values ones are 0's. Therefore, we backfilled the column with zeros. \n"
   ]
  },
  {
   "cell_type": "code",
   "execution_count": 6,
   "metadata": {},
   "outputs": [],
   "source": [
    "# 2)'model_year' column\n",
    "\n",
    "## 3619 nulls model years\n",
    "# checking if blank 'model_year's have dependency to type\n",
    "df[df['model_year'].isnull()]['type'].value_counts()\n",
    "\n",
    "# checking if blank 'model_year's have dependency to model\n",
    "df[df['model_year'].isnull()]['model'].value_counts()\n",
    "\n",
    "# checking if blank 'model_year's have dependency to paint_color\n",
    "df[df['model_year'].isnull()]['paint_color'].value_counts()\n",
    "\n",
    "#correlation_df = df.corr()\n",
    "#print(correlation_df)\n",
    "#df['model_year']=df['model_year'].fillna((df['model_year'].median()))\n",
    "df['model_year'] = df['model_year'].fillna(round(df.groupby('model')['model_year'].transform('median'),0))\n",
    "\n",
    "\n",
    "\n",
    "\n"
   ]
  },
  {
   "cell_type": "code",
   "execution_count": 7,
   "metadata": {
    "scrolled": true
   },
   "outputs": [
    {
     "data": {
      "text/html": [
       "<div>\n",
       "<style scoped>\n",
       "    .dataframe tbody tr th:only-of-type {\n",
       "        vertical-align: middle;\n",
       "    }\n",
       "\n",
       "    .dataframe tbody tr th {\n",
       "        vertical-align: top;\n",
       "    }\n",
       "\n",
       "    .dataframe thead th {\n",
       "        text-align: right;\n",
       "    }\n",
       "</style>\n",
       "<table border=\"1\" class=\"dataframe\">\n",
       "  <thead>\n",
       "    <tr style=\"text-align: right;\">\n",
       "      <th></th>\n",
       "      <th>price</th>\n",
       "      <th>model_year</th>\n",
       "      <th>model</th>\n",
       "      <th>condition</th>\n",
       "      <th>cylinders</th>\n",
       "      <th>fuel</th>\n",
       "      <th>odometer</th>\n",
       "      <th>transmission</th>\n",
       "      <th>type</th>\n",
       "      <th>paint_color</th>\n",
       "      <th>is_4wd</th>\n",
       "      <th>date_posted</th>\n",
       "      <th>days_listed</th>\n",
       "    </tr>\n",
       "  </thead>\n",
       "  <tbody>\n",
       "  </tbody>\n",
       "</table>\n",
       "</div>"
      ],
      "text/plain": [
       "Empty DataFrame\n",
       "Columns: [price, model_year, model, condition, cylinders, fuel, odometer, transmission, type, paint_color, is_4wd, date_posted, days_listed]\n",
       "Index: []"
      ]
     },
     "execution_count": 7,
     "metadata": {},
     "output_type": "execute_result"
    }
   ],
   "source": [
    "df[df['model_year'].isnull()]"
   ]
  },
  {
   "cell_type": "markdown",
   "metadata": {},
   "source": [
    "Conclusion: The 'model_year' column has 7% missing values. Before we impute missing values with mean/median, let's first analyze if 'model_year' is correlated with any other columns. \n",
    "Based on the correlation data above, there's no clear correlation between 'model_year' and other columns. We checked if missing values in 'model_year'is dependent on any columns above. However, we couldn't find any evidence/connection. So, we replaced missing values with the median of the'model_year' column based on car model. "
   ]
  },
  {
   "cell_type": "code",
   "execution_count": 8,
   "metadata": {
    "scrolled": true
   },
   "outputs": [],
   "source": [
    "# 3)'paint_color' column\n",
    "\n",
    "## 9267 nulls paint_color\n",
    "\n",
    "# checking if blank 'paint_color's have dependency to type\n",
    "df[df['paint_color'].isnull()]['type'].value_counts()\n",
    "\n",
    "# checking if blank 'paint_color's have dependency to model\n",
    "df[df['paint_color'].isnull()]['model'].value_counts()\n",
    "\n",
    "# checking if blank 'paint_color's have dependency to model_year\n",
    "df[df['paint_color'].isnull()]['model_year'].value_counts()\n",
    "\n",
    "\n",
    "df['paint_color']=df['paint_color'].fillna(value = 'no_color')\n",
    "\n",
    "#df['paint_color'].value_counts()\n"
   ]
  },
  {
   "cell_type": "markdown",
   "metadata": {},
   "source": [
    "Conclusion: The 'paint_color' column has 17% missing values.We don't know why the 'paint_color' column was left blank. Hence, we analyzed this column with other columns to see if there is a pattern or correlation with other columns like type, model, and transmission. We couldn't find a clear connection of missing values in 'paint_color'. Since, there's no connection of missing values in 'paint_color' with other columns, some people purposely left it blank. We filled these missing values with the default hardcoded value 'no_color'."
   ]
  },
  {
   "cell_type": "code",
   "execution_count": 9,
   "metadata": {},
   "outputs": [],
   "source": [
    "# 4) 'odometer' column\n",
    "\n",
    "# 7892 missing values\n",
    "\n",
    "# checking if blank 'odometer's have dependency to type\n",
    "df[df['odometer'].isnull()]['type'].value_counts()\n",
    "\n",
    "# checking if blank 'odometer's have dependency to model\n",
    "df[df['odometer'].isnull()]['model'].value_counts()\n",
    "\n",
    "# checking if blank 'odometer's have dependency to model_year\n",
    "df[df['odometer'].isnull()]['model_year'].value_counts()\n",
    "\n",
    "# checking if blank 'odometer's have dependency to condition\n",
    "df[df['odometer'].isnull()]['condition'].value_counts()\n",
    "\n",
    "#df['odometer']=df['odometer'].fillna((df['odometer'].median()))\n",
    "\n",
    "df['odometer'] = df['odometer'].fillna(round(df.groupby(['model','model_year'])['odometer'].transform('median'),0))\n",
    "\n",
    "\n"
   ]
  },
  {
   "cell_type": "code",
   "execution_count": 75,
   "metadata": {
    "scrolled": false
   },
   "outputs": [
    {
     "data": {
      "text/html": [
       "<div>\n",
       "<style scoped>\n",
       "    .dataframe tbody tr th:only-of-type {\n",
       "        vertical-align: middle;\n",
       "    }\n",
       "\n",
       "    .dataframe tbody tr th {\n",
       "        vertical-align: top;\n",
       "    }\n",
       "\n",
       "    .dataframe thead th {\n",
       "        text-align: right;\n",
       "    }\n",
       "</style>\n",
       "<table border=\"1\" class=\"dataframe\">\n",
       "  <thead>\n",
       "    <tr style=\"text-align: right;\">\n",
       "      <th></th>\n",
       "      <th>price</th>\n",
       "      <th>model_year</th>\n",
       "      <th>model</th>\n",
       "      <th>condition</th>\n",
       "      <th>cylinders</th>\n",
       "      <th>fuel</th>\n",
       "      <th>odometer</th>\n",
       "      <th>transmission</th>\n",
       "      <th>type</th>\n",
       "      <th>paint_color</th>\n",
       "      <th>is_4wd</th>\n",
       "      <th>date_posted</th>\n",
       "      <th>days_listed</th>\n",
       "    </tr>\n",
       "  </thead>\n",
       "  <tbody>\n",
       "    <tr>\n",
       "      <td>24</td>\n",
       "      <td>3950</td>\n",
       "      <td>2009.0</td>\n",
       "      <td>chrysler 200</td>\n",
       "      <td>excellent</td>\n",
       "      <td>4.0</td>\n",
       "      <td>gas</td>\n",
       "      <td>NaN</td>\n",
       "      <td>automatic</td>\n",
       "      <td>sedan</td>\n",
       "      <td>red</td>\n",
       "      <td>0.0</td>\n",
       "      <td>2018-06-11</td>\n",
       "      <td>40</td>\n",
       "    </tr>\n",
       "    <tr>\n",
       "      <td>42</td>\n",
       "      <td>34900</td>\n",
       "      <td>2013.0</td>\n",
       "      <td>mercedes-benz benze sprinter 2500</td>\n",
       "      <td>excellent</td>\n",
       "      <td>6.0</td>\n",
       "      <td>diesel</td>\n",
       "      <td>NaN</td>\n",
       "      <td>automatic</td>\n",
       "      <td>van</td>\n",
       "      <td>black</td>\n",
       "      <td>0.0</td>\n",
       "      <td>2019-01-15</td>\n",
       "      <td>16</td>\n",
       "    </tr>\n",
       "    <tr>\n",
       "      <td>1101</td>\n",
       "      <td>9200</td>\n",
       "      <td>1975.0</td>\n",
       "      <td>ford f-150</td>\n",
       "      <td>excellent</td>\n",
       "      <td>NaN</td>\n",
       "      <td>gas</td>\n",
       "      <td>NaN</td>\n",
       "      <td>automatic</td>\n",
       "      <td>truck</td>\n",
       "      <td>green</td>\n",
       "      <td>0.0</td>\n",
       "      <td>2018-08-28</td>\n",
       "      <td>40</td>\n",
       "    </tr>\n",
       "    <tr>\n",
       "      <td>1642</td>\n",
       "      <td>34900</td>\n",
       "      <td>2013.0</td>\n",
       "      <td>mercedes-benz benze sprinter 2500</td>\n",
       "      <td>excellent</td>\n",
       "      <td>6.0</td>\n",
       "      <td>diesel</td>\n",
       "      <td>NaN</td>\n",
       "      <td>automatic</td>\n",
       "      <td>van</td>\n",
       "      <td>black</td>\n",
       "      <td>0.0</td>\n",
       "      <td>2018-12-04</td>\n",
       "      <td>36</td>\n",
       "    </tr>\n",
       "    <tr>\n",
       "      <td>2232</td>\n",
       "      <td>34900</td>\n",
       "      <td>2013.0</td>\n",
       "      <td>mercedes-benz benze sprinter 2500</td>\n",
       "      <td>excellent</td>\n",
       "      <td>6.0</td>\n",
       "      <td>diesel</td>\n",
       "      <td>NaN</td>\n",
       "      <td>automatic</td>\n",
       "      <td>van</td>\n",
       "      <td>black</td>\n",
       "      <td>0.0</td>\n",
       "      <td>2018-08-23</td>\n",
       "      <td>70</td>\n",
       "    </tr>\n",
       "    <tr>\n",
       "      <td>...</td>\n",
       "      <td>...</td>\n",
       "      <td>...</td>\n",
       "      <td>...</td>\n",
       "      <td>...</td>\n",
       "      <td>...</td>\n",
       "      <td>...</td>\n",
       "      <td>...</td>\n",
       "      <td>...</td>\n",
       "      <td>...</td>\n",
       "      <td>...</td>\n",
       "      <td>...</td>\n",
       "      <td>...</td>\n",
       "      <td>...</td>\n",
       "    </tr>\n",
       "    <tr>\n",
       "      <td>48453</td>\n",
       "      <td>4600</td>\n",
       "      <td>1994.0</td>\n",
       "      <td>ford f150</td>\n",
       "      <td>good</td>\n",
       "      <td>8.0</td>\n",
       "      <td>gas</td>\n",
       "      <td>NaN</td>\n",
       "      <td>automatic</td>\n",
       "      <td>truck</td>\n",
       "      <td>red</td>\n",
       "      <td>1.0</td>\n",
       "      <td>2018-10-05</td>\n",
       "      <td>60</td>\n",
       "    </tr>\n",
       "    <tr>\n",
       "      <td>48483</td>\n",
       "      <td>34900</td>\n",
       "      <td>2013.0</td>\n",
       "      <td>mercedes-benz benze sprinter 2500</td>\n",
       "      <td>excellent</td>\n",
       "      <td>6.0</td>\n",
       "      <td>diesel</td>\n",
       "      <td>NaN</td>\n",
       "      <td>automatic</td>\n",
       "      <td>van</td>\n",
       "      <td>black</td>\n",
       "      <td>0.0</td>\n",
       "      <td>2018-08-19</td>\n",
       "      <td>27</td>\n",
       "    </tr>\n",
       "    <tr>\n",
       "      <td>50062</td>\n",
       "      <td>1695</td>\n",
       "      <td>1991.0</td>\n",
       "      <td>jeep cherokee</td>\n",
       "      <td>fair</td>\n",
       "      <td>6.0</td>\n",
       "      <td>gas</td>\n",
       "      <td>NaN</td>\n",
       "      <td>automatic</td>\n",
       "      <td>SUV</td>\n",
       "      <td>white</td>\n",
       "      <td>1.0</td>\n",
       "      <td>2018-05-25</td>\n",
       "      <td>16</td>\n",
       "    </tr>\n",
       "    <tr>\n",
       "      <td>50547</td>\n",
       "      <td>34900</td>\n",
       "      <td>2013.0</td>\n",
       "      <td>mercedes-benz benze sprinter 2500</td>\n",
       "      <td>excellent</td>\n",
       "      <td>6.0</td>\n",
       "      <td>diesel</td>\n",
       "      <td>NaN</td>\n",
       "      <td>automatic</td>\n",
       "      <td>van</td>\n",
       "      <td>black</td>\n",
       "      <td>0.0</td>\n",
       "      <td>2018-12-28</td>\n",
       "      <td>49</td>\n",
       "    </tr>\n",
       "    <tr>\n",
       "      <td>50624</td>\n",
       "      <td>34900</td>\n",
       "      <td>2013.0</td>\n",
       "      <td>mercedes-benz benze sprinter 2500</td>\n",
       "      <td>excellent</td>\n",
       "      <td>6.0</td>\n",
       "      <td>diesel</td>\n",
       "      <td>NaN</td>\n",
       "      <td>automatic</td>\n",
       "      <td>van</td>\n",
       "      <td>black</td>\n",
       "      <td>0.0</td>\n",
       "      <td>2019-04-13</td>\n",
       "      <td>40</td>\n",
       "    </tr>\n",
       "  </tbody>\n",
       "</table>\n",
       "<p>83 rows × 13 columns</p>\n",
       "</div>"
      ],
      "text/plain": [
       "       price  model_year                              model  condition  \\\n",
       "24      3950      2009.0                       chrysler 200  excellent   \n",
       "42     34900      2013.0  mercedes-benz benze sprinter 2500  excellent   \n",
       "1101    9200      1975.0                         ford f-150  excellent   \n",
       "1642   34900      2013.0  mercedes-benz benze sprinter 2500  excellent   \n",
       "2232   34900      2013.0  mercedes-benz benze sprinter 2500  excellent   \n",
       "...      ...         ...                                ...        ...   \n",
       "48453   4600      1994.0                          ford f150       good   \n",
       "48483  34900      2013.0  mercedes-benz benze sprinter 2500  excellent   \n",
       "50062   1695      1991.0                      jeep cherokee       fair   \n",
       "50547  34900      2013.0  mercedes-benz benze sprinter 2500  excellent   \n",
       "50624  34900      2013.0  mercedes-benz benze sprinter 2500  excellent   \n",
       "\n",
       "       cylinders    fuel  odometer transmission   type paint_color  is_4wd  \\\n",
       "24           4.0     gas       NaN    automatic  sedan         red     0.0   \n",
       "42           6.0  diesel       NaN    automatic    van       black     0.0   \n",
       "1101         NaN     gas       NaN    automatic  truck       green     0.0   \n",
       "1642         6.0  diesel       NaN    automatic    van       black     0.0   \n",
       "2232         6.0  diesel       NaN    automatic    van       black     0.0   \n",
       "...          ...     ...       ...          ...    ...         ...     ...   \n",
       "48453        8.0     gas       NaN    automatic  truck         red     1.0   \n",
       "48483        6.0  diesel       NaN    automatic    van       black     0.0   \n",
       "50062        6.0     gas       NaN    automatic    SUV       white     1.0   \n",
       "50547        6.0  diesel       NaN    automatic    van       black     0.0   \n",
       "50624        6.0  diesel       NaN    automatic    van       black     0.0   \n",
       "\n",
       "      date_posted  days_listed  \n",
       "24     2018-06-11           40  \n",
       "42     2019-01-15           16  \n",
       "1101   2018-08-28           40  \n",
       "1642   2018-12-04           36  \n",
       "2232   2018-08-23           70  \n",
       "...           ...          ...  \n",
       "48453  2018-10-05           60  \n",
       "48483  2018-08-19           27  \n",
       "50062  2018-05-25           16  \n",
       "50547  2018-12-28           49  \n",
       "50624  2019-04-13           40  \n",
       "\n",
       "[83 rows x 13 columns]"
      ]
     },
     "execution_count": 75,
     "metadata": {},
     "output_type": "execute_result"
    }
   ],
   "source": [
    "df[df['odometer'].isnull()]"
   ]
  },
  {
   "cell_type": "markdown",
   "metadata": {},
   "source": [
    "There are still 83 rows that have missing values in 'odometer' column. Let's investigate why it is so. It looks like majority(41 rows) of missing ones have model type 'mercedes-benz benze sprinter 2500'  and with rest of them,  we couldn't find any correlation with other columns. Since there is no value for these models, let's just DROP these columns in steps below (check duplicate section)."
   ]
  },
  {
   "cell_type": "code",
   "execution_count": 10,
   "metadata": {
    "scrolled": true
   },
   "outputs": [
    {
     "data": {
      "text/plain": [
       "41"
      ]
     },
     "execution_count": 10,
     "metadata": {},
     "output_type": "execute_result"
    }
   ],
   "source": [
    "df.query('model ==\"mercedes-benz benze sprinter 2500\"').shape[0]"
   ]
  },
  {
   "cell_type": "markdown",
   "metadata": {},
   "source": [
    "Conclusion: The 'odometer' column has 15% missing values which are considerably less. We also don't know why the 'odometer' column has missing values. Hence, we analyzed this column with other columns to see if there is a pattern or relation with other columns like type, model,model_year and transmission. The first thing that comes to mind when the odometer is blank is probably because cars are new or too old. So, we checked the conditions of those missing values. We also checked if something to do with the type of car which isn't, apparently. We couldn't find the clear connection of missing values in the 'paint_color'. Since there's no connection of missing values in the 'odometer' with other columns, we just filled them by the median value of the odometer based on car model and year."
   ]
  },
  {
   "cell_type": "code",
   "execution_count": 11,
   "metadata": {},
   "outputs": [],
   "source": [
    "#5) 'cylinders'column\n",
    "\n",
    "# 5260 missing values\n",
    "\n",
    "#df[(df['cylinders'].isnull())] & (df['fuel']=='electric')]\n",
    " \n",
    "    # checking if blank 'cylinders's have dependency to type\n",
    "df[df['cylinders'].isnull()]['type'].value_counts()\n",
    "\n",
    "# checking if blank 'cylinders's have dependency to model\n",
    "df[df['cylinders'].isnull()]['model'].value_counts()\n",
    "\n",
    "# checking if blank 'cylinders's have dependency to model_year\n",
    "df[df['cylinders'].isnull()]['model_year'].value_counts()\n",
    "\n",
    "# checking if blank 'cylinders's have dependency to condition\n",
    "df[df['cylinders'].isnull()]['condition'].value_counts()\n",
    "\n",
    "#df['cylinders']=df['cylinders'].fillna((df['cylinders'].median()))\n",
    "\n",
    "\n",
    "df['cylinders'] = df['cylinders'].fillna(round(df.groupby('model_year')['cylinders'].transform('median'),0))\n"
   ]
  },
  {
   "cell_type": "code",
   "execution_count": 11,
   "metadata": {},
   "outputs": [
    {
     "data": {
      "text/html": [
       "<div>\n",
       "<style scoped>\n",
       "    .dataframe tbody tr th:only-of-type {\n",
       "        vertical-align: middle;\n",
       "    }\n",
       "\n",
       "    .dataframe tbody tr th {\n",
       "        vertical-align: top;\n",
       "    }\n",
       "\n",
       "    .dataframe thead th {\n",
       "        text-align: right;\n",
       "    }\n",
       "</style>\n",
       "<table border=\"1\" class=\"dataframe\">\n",
       "  <thead>\n",
       "    <tr style=\"text-align: right;\">\n",
       "      <th></th>\n",
       "      <th>price</th>\n",
       "      <th>model_year</th>\n",
       "      <th>model</th>\n",
       "      <th>condition</th>\n",
       "      <th>cylinders</th>\n",
       "      <th>fuel</th>\n",
       "      <th>odometer</th>\n",
       "      <th>transmission</th>\n",
       "      <th>type</th>\n",
       "      <th>paint_color</th>\n",
       "      <th>is_4wd</th>\n",
       "      <th>date_posted</th>\n",
       "      <th>days_listed</th>\n",
       "    </tr>\n",
       "  </thead>\n",
       "  <tbody>\n",
       "    <tr>\n",
       "      <td>14752</td>\n",
       "      <td>15000</td>\n",
       "      <td>1954.0</td>\n",
       "      <td>ford f-150</td>\n",
       "      <td>excellent</td>\n",
       "      <td>NaN</td>\n",
       "      <td>gas</td>\n",
       "      <td>3565.0</td>\n",
       "      <td>manual</td>\n",
       "      <td>pickup</td>\n",
       "      <td>black</td>\n",
       "      <td>0.0</td>\n",
       "      <td>2019-02-16</td>\n",
       "      <td>13</td>\n",
       "    </tr>\n",
       "    <tr>\n",
       "      <td>36582</td>\n",
       "      <td>44900</td>\n",
       "      <td>1949.0</td>\n",
       "      <td>chevrolet suburban</td>\n",
       "      <td>good</td>\n",
       "      <td>NaN</td>\n",
       "      <td>gas</td>\n",
       "      <td>1800.0</td>\n",
       "      <td>automatic</td>\n",
       "      <td>wagon</td>\n",
       "      <td>orange</td>\n",
       "      <td>0.0</td>\n",
       "      <td>2018-08-19</td>\n",
       "      <td>10</td>\n",
       "    </tr>\n",
       "  </tbody>\n",
       "</table>\n",
       "</div>"
      ],
      "text/plain": [
       "       price  model_year               model  condition  cylinders fuel  \\\n",
       "14752  15000      1954.0          ford f-150  excellent        NaN  gas   \n",
       "36582  44900      1949.0  chevrolet suburban       good        NaN  gas   \n",
       "\n",
       "       odometer transmission    type paint_color  is_4wd date_posted  \\\n",
       "14752    3565.0       manual  pickup       black     0.0  2019-02-16   \n",
       "36582    1800.0    automatic   wagon      orange     0.0  2018-08-19   \n",
       "\n",
       "       days_listed  \n",
       "14752           13  \n",
       "36582           10  "
      ]
     },
     "execution_count": 11,
     "metadata": {},
     "output_type": "execute_result"
    }
   ],
   "source": [
    "df[df['cylinders'].isnull()]\n",
    "\n",
    "#df.dropna(inplace = True)"
   ]
  },
  {
   "cell_type": "markdown",
   "metadata": {},
   "source": [
    "There are two missing values in 'cylinders' column.Looking at these rows, we couldn't find any correlation. Hence, we will DROP these two rows in the step below."
   ]
  },
  {
   "cell_type": "markdown",
   "metadata": {},
   "source": [
    "Conclusion: The 'cylinders' column has 10% missing values. As we know that electric cars do not have cylinders, we first checked if those missing values are for electric cars. However, that's not the case here. We confirmed that zero-cylinder are electric cars for sure. We checked dependencies with model, model_year, condition and type columns but we couldn't find a clear pattern. So, we replaced missing values in the 'cylinders' column with the median of the 'cylinders' column based on carmodel."
   ]
  },
  {
   "cell_type": "code",
   "execution_count": 12,
   "metadata": {},
   "outputs": [],
   "source": [
    "## dropping missing values for 'cylinder' and 'model' columns\n",
    "df.dropna(inplace = True)"
   ]
  },
  {
   "cell_type": "code",
   "execution_count": 13,
   "metadata": {},
   "outputs": [
    {
     "data": {
      "text/plain": [
       "price           0\n",
       "model_year      0\n",
       "model           0\n",
       "condition       0\n",
       "cylinders       0\n",
       "fuel            0\n",
       "odometer        0\n",
       "transmission    0\n",
       "type            0\n",
       "paint_color     0\n",
       "is_4wd          0\n",
       "date_posted     0\n",
       "days_listed     0\n",
       "dtype: int64"
      ]
     },
     "execution_count": 13,
     "metadata": {},
     "output_type": "execute_result"
    }
   ],
   "source": [
    "# Just checking if there's any mising values\n",
    "df.isna().sum()\n",
    "\n"
   ]
  },
  {
   "cell_type": "markdown",
   "metadata": {},
   "source": [
    "### Checking for duplicates\n"
   ]
  },
  {
   "cell_type": "code",
   "execution_count": 14,
   "metadata": {},
   "outputs": [
    {
     "name": "stdout",
     "output_type": "stream",
     "text": [
      "Dataframe shape is: (51440, 13)\n"
     ]
    }
   ],
   "source": [
    "# drop all those rows containing missing values to avoid any error\n",
    "\n",
    "df.dropna(inplace = True)\n",
    "# drop duplicates\n",
    "df.drop_duplicates(inplace = True)\n",
    "print('Dataframe shape is:', df.shape)\n",
    "\n",
    "#df.info()"
   ]
  },
  {
   "cell_type": "markdown",
   "metadata": {},
   "source": [
    " ### Checking  Data Types of columns"
   ]
  },
  {
   "cell_type": "code",
   "execution_count": 15,
   "metadata": {},
   "outputs": [
    {
     "name": "stdout",
     "output_type": "stream",
     "text": [
      "<class 'pandas.core.frame.DataFrame'>\n",
      "Int64Index: 51440 entries, 0 to 51524\n",
      "Data columns (total 13 columns):\n",
      "price           51440 non-null int64\n",
      "model_year      51440 non-null int64\n",
      "model           51440 non-null object\n",
      "condition       51440 non-null object\n",
      "cylinders       51440 non-null int64\n",
      "fuel            51440 non-null object\n",
      "odometer        51440 non-null float64\n",
      "transmission    51440 non-null object\n",
      "type            51440 non-null object\n",
      "paint_color     51440 non-null object\n",
      "is_4wd          51440 non-null int64\n",
      "date_posted     51440 non-null datetime64[ns]\n",
      "days_listed     51440 non-null int64\n",
      "dtypes: datetime64[ns](1), float64(1), int64(5), object(6)\n",
      "memory usage: 5.5+ MB\n"
     ]
    }
   ],
   "source": [
    "#converting float data numbers into integers\n",
    "df['model_year'] = df['model_year'].astype(int)\n",
    "df['is_4wd'] = df['is_4wd'].astype(int)\n",
    "df['cylinders'] =df['cylinders'].astype(int)\n",
    "\n",
    "#converting float data numbers into date time\n",
    "df['date_posted'] = pd.to_datetime(df['date_posted'], format = \"%Y-%m-%d\")\n",
    "\n",
    "# checking data types after conversion\n",
    "df.info()\n"
   ]
  },
  {
   "cell_type": "code",
   "execution_count": 16,
   "metadata": {
    "scrolled": false
   },
   "outputs": [
    {
     "name": "stdout",
     "output_type": "stream",
     "text": [
      "price                    int64\n",
      "model_year               int64\n",
      "model                   object\n",
      "condition               object\n",
      "cylinders                int64\n",
      "fuel                    object\n",
      "odometer               float64\n",
      "transmission            object\n",
      "type                    object\n",
      "paint_color             object\n",
      "is_4wd                   int64\n",
      "date_posted     datetime64[ns]\n",
      "days_listed              int64\n",
      "dtype: object\n"
     ]
    }
   ],
   "source": [
    "# check data types of columns\n",
    "print(df.dtypes)"
   ]
  },
  {
   "cell_type": "markdown",
   "metadata": {},
   "source": [
    "Conclusion: Upon checking data, found out that 'model_year', 'cylinders', 'odometer' and 'is_4wd' columns are float types. Possible reasons for being float could be bugs in the data retrieval process. We will convert them to whole numbers (integers) in the steps below."
   ]
  },
  {
   "cell_type": "markdown",
   "metadata": {},
   "source": [
    "Conclusion:\n",
    "We converted the data types of 'model_year', 'is_4wd', 'cylinders', and 'date_posted' columns as required."
   ]
  },
  {
   "cell_type": "markdown",
   "metadata": {},
   "source": [
    "## Step 3: Make calculations and add them to the table\n",
    " We will calculate and add the following columns\n",
    " \n",
    "1. Day of the week, month, and year the ad was placed\n",
    "2. The vehicle's age (in years) when the ad was placed\n",
    "3. The vehicle's average mileage per year\n"
   ]
  },
  {
   "cell_type": "code",
   "execution_count": 29,
   "metadata": {},
   "outputs": [],
   "source": [
    "# calculating day of the week, month, and year\n",
    "df['day_of_the_week'] = df['date_posted'].dt.weekday\n",
    "\n",
    "# calculating day of the month\n",
    "df['month'] = df['date_posted'].dt.month\n",
    "\n",
    "# calculating day of the year\n",
    "df['year'] = df['date_posted'].dt.year\n",
    "\n",
    "# vehicle's age (in years)\n",
    "df['vehicle_age'] = df['year'] - df['model_year']\n",
    "\n",
    "# calculating vehicle's average mileage per year\n",
    "df['avg_mileage'] = (df['odometer']/df['vehicle_age']).where (df['vehicle_age']!=0)\n",
    "\n"
   ]
  },
  {
   "cell_type": "code",
   "execution_count": 30,
   "metadata": {
    "scrolled": true
   },
   "outputs": [],
   "source": [
    "# Replacing string values with numeric values for 'condition' column\n",
    "\n",
    "def conditions(num):\n",
    "    condition = num['condition']\n",
    "    if condition == 'new':\n",
    "        return 5\n",
    "    elif condition == 'like new':\n",
    "        return 4\n",
    "    elif condition == 'excellent':\n",
    "        return 3\n",
    "    elif condition == 'good':\n",
    "        return 2\n",
    "    elif condition == 'fair':\n",
    "        return 1\n",
    "    return 0\n",
    "\n",
    "df['condition']= df.apply(conditions, axis = 1)\n",
    "#print(df['condition'].value_counts())\n",
    "#print(df['condition'])"
   ]
  },
  {
   "cell_type": "markdown",
   "metadata": {},
   "source": [
    "Conclusion: We calculated day of the week, month, and year. We also calculated vehicle's age and vehicle's average mileage per year. \n",
    "    "
   ]
  },
  {
   "cell_type": "markdown",
   "metadata": {},
   "source": [
    "## Step 4: Carry out exploratory data analysis"
   ]
  },
  {
   "cell_type": "markdown",
   "metadata": {},
   "source": [
    "•\tStudying the following parameters: price, vehicle's age (when the ad was placed), mileage, number of cylinders, and condition. \n",
    "•\tPlotting histograms for each of these parameters. \n"
   ]
  },
  {
   "cell_type": "code",
   "execution_count": 31,
   "metadata": {
    "scrolled": true
   },
   "outputs": [
    {
     "data": {
      "image/png": "[encoded data removed]",
      "text/plain": [
       "<Figure size 864x576 with 6 Axes>"
      ]
     },
     "metadata": {
      "needs_background": "light"
     },
     "output_type": "display_data"
    }
   ],
   "source": [
    "#Plotting histograms for each parameter\n",
    "\n",
    "hist_df = df[['price','vehicle_age','avg_mileage','cylinders','condition','days_listed']]\n",
    "\n",
    "hist_df.hist(figsize =(12,8),bins=25)\n",
    "\n",
    "plt.show()"
   ]
  },
  {
   "cell_type": "markdown",
   "metadata": {},
   "source": [
    "•\tDetermine the upper limits of outliers\n",
    "•\tRemove the outliers\n",
    "•\tStore the outliers in a separate DataFrame, and continue the work with the filtered data."
   ]
  },
  {
   "cell_type": "code",
   "execution_count": 32,
   "metadata": {},
   "outputs": [
    {
     "data": {
      "image/png": "[encoded data removed]",
      "text/plain": [
       "<Figure size 864x576 with 6 Axes>"
      ]
     },
     "metadata": {
      "needs_background": "light"
     },
     "output_type": "display_data"
    }
   ],
   "source": [
    "#Filter outliers and replot histogtrams\n",
    "\n",
    "# The rule of thumb is that anything not in the range of \n",
    "#(Q1 - 1.5 IQR) and (Q3 + 1.5 IQR) is an outlier, and can be removed\n",
    "\n",
    "Q1 = hist_df.quantile(0.25)\n",
    "Q3 = hist_df.quantile(0.75)\n",
    "IQR = Q3 - Q1\n",
    "#print(IQR)\n",
    "\n",
    "filtered_df = hist_df[(hist_df < (Q3 + 1.5 * IQR))]\n",
    "filtered_df.hist(figsize=(12,8),bins= 25)\n",
    "plt.show()"
   ]
  },
  {
   "cell_type": "markdown",
   "metadata": {},
   "source": [
    "•\tUse the filtered data to plot new histograms. Compare them with the earlier histograms (the ones that included outliers). Draw conclusions for each histogram."
   ]
  },
  {
   "cell_type": "markdown",
   "metadata": {},
   "source": [
    "Conclusion: \n",
    "\n",
    " We plotted histograms with 'price', 'vehicle_age', 'avg_mileage', 'cylinders' and 'condition' parameters using hist(). During data analysis, we detected the outliers. We saw some outliers extended to the data. To remove outliers, we calculated the IQR scores. The rule of thumb is that anything not in the range of (Q1 - 1.5 IQR) and (Q3 + 1.5 IQR) is an outlier, and can be removed. We filtered data and considered only those data less than (Q3 + 1.5 IQR) and replotted histogram. \n",
    " \n",
    "Based on histograms plotted above, we concluded that:\n",
    "'Condition' - When car condition is excellent, it is most frequently advertised. There are fewer outliers but that doesn't effect the readability of the histogram.\n",
    "\n",
    "'cylinders'- Most frequently used cylinders numbers are 8 and 6. As there are no outliers in this column, the readability of histograms do not effect much and are same with and without outliers.\n",
    "\n",
    "'avg_mileage' -  From the histogram above, it was concluded that car mileage ranged from 0 to 2000 with outliers and without outliers ranged from 0 to 3000. Hence, avg_mileage affects the readability of the program.\n",
    "\n",
    "'price' -The histogram is much flatter without outliers. Hence, affects the readability of the program.\n",
    "\n",
    "'vehicle_age' - Without outliers, the histogram is much flatter and peaks at a different vehicle age.Hence, affects the readability of the program.\n"
   ]
  },
  {
   "cell_type": "markdown",
   "metadata": {},
   "source": [
    "•\tStudy how many days advertisements were displayed (days_listed). Plot a histogram. "
   ]
  },
  {
   "cell_type": "code",
   "execution_count": 33,
   "metadata": {},
   "outputs": [
    {
     "data": {
      "image/png": "[encoded data removed]",
      "text/plain": [
       "<Figure size 864x576 with 1 Axes>"
      ]
     },
     "metadata": {
      "needs_background": "light"
     },
     "output_type": "display_data"
    }
   ],
   "source": [
    "#Plotting a histogram of the number of days advertisements are displayed\n",
    "\n",
    "hist_ad= df['days_listed'].hist(figsize=(12,8), bins= 25)\n",
    "\n",
    "plt.xlabel(\"Days Listed\")\n",
    "plt.ylabel(\"Frequency\")\n",
    "plt.title(\"A Histogram of the Number of Days Ads are Displayed\")\n",
    "plt.show()\n",
    "\n"
   ]
  },
  {
   "cell_type": "markdown",
   "metadata": {},
   "source": [
    "Calculate the mean and median. Describe the typical lifetime of an ad. Determine when ads were removed quickly, and when they were listed for an abnormally long time."
   ]
  },
  {
   "cell_type": "code",
   "execution_count": 34,
   "metadata": {},
   "outputs": [
    {
     "data": {
      "text/plain": [
       "40.0"
      ]
     },
     "execution_count": 34,
     "metadata": {},
     "output_type": "execute_result"
    }
   ],
   "source": [
    "# calculating mean of number of days ads published\n",
    "round(df['days_listed'].mean(),0)\n",
    "\n"
   ]
  },
  {
   "cell_type": "code",
   "execution_count": 35,
   "metadata": {},
   "outputs": [
    {
     "data": {
      "text/plain": [
       "33.0"
      ]
     },
     "execution_count": 35,
     "metadata": {},
     "output_type": "execute_result"
    }
   ],
   "source": [
    "# calculating median of number of days ads published\n",
    "round(df['days_listed'].median(),0)\n",
    "\n"
   ]
  },
  {
   "cell_type": "code",
   "execution_count": 36,
   "metadata": {},
   "outputs": [
    {
     "data": {
      "text/plain": [
       "1945"
      ]
     },
     "execution_count": 36,
     "metadata": {},
     "output_type": "execute_result"
    }
   ],
   "source": [
    "# number of times ads lasted for 100 plus days\n",
    "df[df['days_listed']>100].shape[0] \n"
   ]
  },
  {
   "cell_type": "code",
   "execution_count": 37,
   "metadata": {},
   "outputs": [
    {
     "data": {
      "text/plain": [
       "54"
      ]
     },
     "execution_count": 37,
     "metadata": {},
     "output_type": "execute_result"
    }
   ],
   "source": [
    "# number of times ads did not last up to a day\n",
    "df[df['days_listed']<1].shape[0]"
   ]
  },
  {
   "cell_type": "markdown",
   "metadata": {},
   "source": [
    "Conclusion: From the histogram data above, we can conclude that an ad normally publishes for 40 days on average. There are 1945 times (taking 100 days as a benchmark) that ads lasted for a long time whereas there are 54 times, ads were removed."
   ]
  },
  {
   "cell_type": "markdown",
   "metadata": {},
   "source": [
    "•\tAnalyze the number of ads and the average price for each type of vehicle. "
   ]
  },
  {
   "cell_type": "code",
   "execution_count": 38,
   "metadata": {},
   "outputs": [
    {
     "data": {
      "text/html": [
       "<div>\n",
       "<style scoped>\n",
       "    .dataframe tbody tr th:only-of-type {\n",
       "        vertical-align: middle;\n",
       "    }\n",
       "\n",
       "    .dataframe tbody tr th {\n",
       "        vertical-align: top;\n",
       "    }\n",
       "\n",
       "    .dataframe thead th {\n",
       "        text-align: right;\n",
       "    }\n",
       "</style>\n",
       "<table border=\"1\" class=\"dataframe\">\n",
       "  <thead>\n",
       "    <tr style=\"text-align: right;\">\n",
       "      <th></th>\n",
       "      <th>number_of_ads</th>\n",
       "      <th>avg_price</th>\n",
       "    </tr>\n",
       "    <tr>\n",
       "      <th>type</th>\n",
       "      <th></th>\n",
       "      <th></th>\n",
       "    </tr>\n",
       "  </thead>\n",
       "  <tbody>\n",
       "    <tr>\n",
       "      <td>SUV</td>\n",
       "      <td>12073</td>\n",
       "      <td>10314.780088</td>\n",
       "    </tr>\n",
       "    <tr>\n",
       "      <td>bus</td>\n",
       "      <td>24</td>\n",
       "      <td>17135.666667</td>\n",
       "    </tr>\n",
       "    <tr>\n",
       "      <td>convertible</td>\n",
       "      <td>421</td>\n",
       "      <td>12407.159145</td>\n",
       "    </tr>\n",
       "    <tr>\n",
       "      <td>coupe</td>\n",
       "      <td>2221</td>\n",
       "      <td>13262.727600</td>\n",
       "    </tr>\n",
       "    <tr>\n",
       "      <td>hatchback</td>\n",
       "      <td>1045</td>\n",
       "      <td>6846.253589</td>\n",
       "    </tr>\n",
       "    <tr>\n",
       "      <td>mini-van</td>\n",
       "      <td>1157</td>\n",
       "      <td>8004.687986</td>\n",
       "    </tr>\n",
       "    <tr>\n",
       "      <td>offroad</td>\n",
       "      <td>206</td>\n",
       "      <td>13177.674757</td>\n",
       "    </tr>\n",
       "    <tr>\n",
       "      <td>other</td>\n",
       "      <td>251</td>\n",
       "      <td>10477.342629</td>\n",
       "    </tr>\n",
       "    <tr>\n",
       "      <td>pickup</td>\n",
       "      <td>6608</td>\n",
       "      <td>14588.977300</td>\n",
       "    </tr>\n",
       "    <tr>\n",
       "      <td>sedan</td>\n",
       "      <td>12137</td>\n",
       "      <td>6944.729340</td>\n",
       "    </tr>\n",
       "    <tr>\n",
       "      <td>truck</td>\n",
       "      <td>11536</td>\n",
       "      <td>14816.679525</td>\n",
       "    </tr>\n",
       "    <tr>\n",
       "      <td>van</td>\n",
       "      <td>589</td>\n",
       "      <td>8759.106961</td>\n",
       "    </tr>\n",
       "    <tr>\n",
       "      <td>wagon</td>\n",
       "      <td>1531</td>\n",
       "      <td>8880.496408</td>\n",
       "    </tr>\n",
       "  </tbody>\n",
       "</table>\n",
       "</div>"
      ],
      "text/plain": [
       "             number_of_ads     avg_price\n",
       "type                                    \n",
       "SUV                  12073  10314.780088\n",
       "bus                     24  17135.666667\n",
       "convertible            421  12407.159145\n",
       "coupe                 2221  13262.727600\n",
       "hatchback             1045   6846.253589\n",
       "mini-van              1157   8004.687986\n",
       "offroad                206  13177.674757\n",
       "other                  251  10477.342629\n",
       "pickup                6608  14588.977300\n",
       "sedan                12137   6944.729340\n",
       "truck                11536  14816.679525\n",
       "van                    589   8759.106961\n",
       "wagon                 1531   8880.496408"
      ]
     },
     "execution_count": 38,
     "metadata": {},
     "output_type": "execute_result"
    }
   ],
   "source": [
    "#Analyzing the number of ads and the average price for each type of vehicle\n",
    "\n",
    "filtered_df['type'] = df['type']\n",
    "\n",
    "#print(filtered_df.head(20))\n",
    "ads_avgprice_pertype = filtered_df.pivot_table(index='type'\n",
    "                                    , values= ['price']\n",
    "                                   , aggfunc =['count', 'mean'])\n",
    "ads_avgprice_pertype.columns= ['number_of_ads', 'avg_price']\n",
    "ads_avgprice_pertype"
   ]
  },
  {
   "cell_type": "code",
   "execution_count": 26,
   "metadata": {},
   "outputs": [
    {
     "data": {
      "image/png": "[encoded data removed]",
      "text/plain": [
       "<Figure size 864x432 with 1 Axes>"
      ]
     },
     "metadata": {
      "needs_background": "light"
     },
     "output_type": "display_data"
    }
   ],
   "source": [
    "#Ploting a bar chart showing the dependence of the number of ads on the vehicle type.\n",
    "\n",
    "import seaborn as sns\n",
    "\n",
    "# Figure Size\n",
    "fig, ax = plt.subplots()\n",
    "fig.set_size_inches(12,6)\n",
    "\n",
    "sns.barplot(x=ads_avgprice_pertype.index, y='number_of_ads'\n",
    "            , data=ads_avgprice_pertype\n",
    "            , ax=ax\n",
    "            , capsize=10)\n",
    "\n",
    "plt.ylabel('Number of Ads')\n",
    "plt.xlabel('Vehicle Type')\n",
    "plt.title('Type of Cars and Number of Advertisement')\n",
    "          \n",
    "plt.show()\n"
   ]
  },
  {
   "cell_type": "markdown",
   "metadata": {},
   "source": [
    "#### Select the two types with the greatest number of ads"
   ]
  },
  {
   "cell_type": "code",
   "execution_count": 39,
   "metadata": {
    "scrolled": true
   },
   "outputs": [
    {
     "data": {
      "text/plain": [
       "['sedan', 'SUV']"
      ]
     },
     "execution_count": 39,
     "metadata": {},
     "output_type": "execute_result"
    }
   ],
   "source": [
    "top_2_ads =ads_avgprice_pertype.sort_values(by='number_of_ads', ascending=False).index[0:2]\n",
    "top_2_ads.tolist()\n"
   ]
  },
  {
   "cell_type": "markdown",
   "metadata": {},
   "source": [
    "Conclusion:  From the graph above,we can conclude that SUV and sedan have greatest number of ads."
   ]
  },
  {
   "cell_type": "markdown",
   "metadata": {},
   "source": [
    "### What factors impact the price most? "
   ]
  },
  {
   "cell_type": "markdown",
   "metadata": {},
   "source": [
    "Studying whether the price depends on age, mileage, condition, transmission type, and color. \n",
    "\n",
    "Take each of the popular types you detected at the previous stage and \n",
    "study whether the price depends on age, mileage, condition, transmission type, and color. \n",
    "\n",
    "Create scatterplots for the rest. \n",
    "\n",
    "When analyzing categorical variables, note that the categories must have at least 50 ads; otherwise, their parameters won't be valid for analysis"
   ]
  },
  {
   "cell_type": "markdown",
   "metadata": {},
   "source": [
    "#### Taking each of the popular types you detected at the previous stage and study whether the price depends on age, mileage, condition, transmission type, and color."
   ]
  },
  {
   "cell_type": "code",
   "execution_count": 40,
   "metadata": {},
   "outputs": [
    {
     "name": "stdout",
     "output_type": "stream",
     "text": [
      "         price  vehicle_age   avg_mileage  cylinders  condition  days_listed  \\\n",
      "0       9400.0          7.0  20714.285714          6        2.0         19.0   \n",
      "1      25500.0          7.0  12672.142857          6        2.0         50.0   \n",
      "2       5500.0          6.0  18333.333333          4        4.0         79.0   \n",
      "3       1500.0         16.0  11093.750000          8        1.0          9.0   \n",
      "4      14900.0          2.0           NaN          4        3.0         28.0   \n",
      "...        ...          ...           ...        ...        ...          ...   \n",
      "51520   9249.0          5.0  17627.200000          6        4.0         37.0   \n",
      "51521   2700.0         16.0  11343.750000          4        0.0         22.0   \n",
      "51522   3950.0          9.0  14222.222222          4        3.0         32.0   \n",
      "51523   7455.0          5.0  27914.600000          4        2.0         71.0   \n",
      "51524   6300.0          4.0  24813.250000          4        2.0         10.0   \n",
      "\n",
      "         type  \n",
      "0         SUV  \n",
      "1      pickup  \n",
      "2       sedan  \n",
      "3      pickup  \n",
      "4       sedan  \n",
      "...       ...  \n",
      "51520   sedan  \n",
      "51521   sedan  \n",
      "51522   sedan  \n",
      "51523   sedan  \n",
      "51524   sedan  \n",
      "\n",
      "[51440 rows x 7 columns]\n"
     ]
    }
   ],
   "source": [
    "filtered_df_SUV = filtered_df.query('type ==\"SUV\"')\n",
    "filtered_df_sedan = filtered_df.query('type ==\"sedan\"')\n",
    "#print(filtered_df)"
   ]
  },
  {
   "cell_type": "code",
   "execution_count": 41,
   "metadata": {
    "scrolled": true
   },
   "outputs": [
    {
     "name": "stdout",
     "output_type": "stream",
     "text": [
      "         price  vehicle_age   avg_mileage  cylinders  condition  days_listed  \\\n",
      "0       9400.0          7.0  20714.285714          6        2.0         19.0   \n",
      "7      15990.0          6.0  18245.500000          6        3.0         68.0   \n",
      "8      11500.0          6.0  17362.333333          4        3.0         19.0   \n",
      "9       9200.0         11.0  13381.000000          6        3.0         17.0   \n",
      "14     12990.0         10.0  13228.500000          8        3.0         24.0   \n",
      "...        ...          ...           ...        ...        ...          ...   \n",
      "51495   9500.0          7.0  20642.857143          6        2.0          1.0   \n",
      "51496   4999.0         16.0  11118.812500          6        3.0         59.0   \n",
      "51500   6995.0          6.0  26166.666667          6        3.0         17.0   \n",
      "51502   7995.0          8.0  13886.000000          4        4.0          NaN   \n",
      "51516   8999.0          7.0  17428.571429          6        2.0         51.0   \n",
      "\n",
      "      type  \n",
      "0      SUV  \n",
      "7      SUV  \n",
      "8      SUV  \n",
      "9      SUV  \n",
      "14     SUV  \n",
      "...    ...  \n",
      "51495  SUV  \n",
      "51496  SUV  \n",
      "51500  SUV  \n",
      "51502  SUV  \n",
      "51516  SUV  \n",
      "\n",
      "[12397 rows x 7 columns]\n"
     ]
    }
   ],
   "source": [
    "print(filtered_df_SUV)"
   ]
  },
  {
   "cell_type": "markdown",
   "metadata": {},
   "source": [
    "### For categorical variables (transmission type and color), plot box-and-whisker charts . "
   ]
  },
  {
   "cell_type": "code",
   "execution_count": 42,
   "metadata": {
    "scrolled": true
   },
   "outputs": [],
   "source": [
    "# adding two categorical variables (transmission type and color)\n",
    "\n",
    "#filtered_df[['transmission','paint_color']] = df[['','']]\n",
    "\n",
    "filtered_df['transmission'] = df[(df['days_listed'] > 50)][\"transmission\"]\n",
    "filtered_df['paint_color'] = df[(df['days_listed'] > 50)][\"paint_color\"]\n",
    "#print(filtered_df)\n"
   ]
  },
  {
   "cell_type": "markdown",
   "metadata": {},
   "source": [
    "##### Student's comment:\n",
    "this is how I tried to analyze the categorical variables. I am still doubtful. Is there a way to contact you if I need more hints?\n"
   ]
  },
  {
   "cell_type": "code",
   "execution_count": 43,
   "metadata": {
    "scrolled": true
   },
   "outputs": [
    {
     "data": {
      "image/png": "[encoded data removed]",
      "text/plain": [
       "<Figure size 576x432 with 1 Axes>"
      ]
     },
     "metadata": {
      "needs_background": "light"
     },
     "output_type": "display_data"
    }
   ],
   "source": [
    "# categorical:plotting a boxplotbox to check if price dependent on transmission \n",
    "\n",
    "fig, ax = plt.subplots()\n",
    "fig.set_size_inches(8,6)\n",
    "sns.boxplot(x='transmission'\n",
    "            , y='price'\n",
    "            , data =filtered_df\n",
    "            , linewidth =3\n",
    "            , ax=ax)\n",
    "plt.title('Price of cars by transmission')\n",
    "plt.ylabel('Price')\n",
    "plt.xlabel('Transmission')\n",
    "plt.show()"
   ]
  },
  {
   "cell_type": "markdown",
   "metadata": {},
   "source": [
    "Conclusion: Car price depends on transmission type. Manual transmission has the least median price, where as automatic tranmission has a medium price. Other transmissions(could be semi-automatic, dual-clutch and many latest tech) have higher prices which are kind of obvious."
   ]
  },
  {
   "cell_type": "code",
   "execution_count": 44,
   "metadata": {
    "scrolled": true
   },
   "outputs": [
    {
     "data": {
      "image/png": "[encoded data removed]",
      "text/plain": [
       "<Figure size 576x432 with 1 Axes>"
      ]
     },
     "metadata": {
      "needs_background": "light"
     },
     "output_type": "display_data"
    }
   ],
   "source": [
    "# categorical:Plotting a boxplot to see if price depends on the paint_color\n",
    "\n",
    "fig, ax = plt.subplots()\n",
    "fig.set_size_inches(8,6)\n",
    "\n",
    "sns.boxplot(x='paint_color'\n",
    "            , y='price'\n",
    "            , data =filtered_df\n",
    "            , linewidth =3\n",
    "            , ax=ax)\n",
    "plt.title('Vehicle paint color and price dependency')\n",
    "plt.ylabel('Price')\n",
    "plt.xlabel('paint_color')\n",
    "plt.show()"
   ]
  },
  {
   "cell_type": "markdown",
   "metadata": {},
   "source": [
    "Conclusion: Price depends on the paint color. Yellow, black and orange colors have median prices whereas purple is least one.\n"
   ]
  },
  {
   "cell_type": "code",
   "execution_count": 41,
   "metadata": {
    "scrolled": true
   },
   "outputs": [
    {
     "data": {
      "image/png": "[encoded data removed]",
      "text/plain": [
       "<Figure size 432x288 with 1 Axes>"
      ]
     },
     "metadata": {
      "needs_background": "light"
     },
     "output_type": "display_data"
    }
   ],
   "source": [
    "#For SUV: Displaying Price VS Vehicle_age relationships in scatter plots\n",
    "\n",
    "plt.scatter(filtered_df_SUV['vehicle_age'], filtered_df_SUV['price'])\n",
    "plt.title('Scatterplot of vehicle_age vs Price')\n",
    "plt.xlabel('vehicle_age')\n",
    "plt.ylabel('Price')\n",
    "plt.grid()\n",
    "plt.show()\n"
   ]
  },
  {
   "cell_type": "code",
   "execution_count": 45,
   "metadata": {
    "scrolled": true
   },
   "outputs": [
    {
     "data": {
      "image/png": "[encoded data removed]",
      "text/plain": [
       "<Figure size 432x288 with 1 Axes>"
      ]
     },
     "metadata": {
      "needs_background": "light"
     },
     "output_type": "display_data"
    }
   ],
   "source": [
    "#For sedan: Displaying Price VS Vehicle_age relationships in scatter plots\n",
    "\n",
    "plt.scatter(filtered_df_sedan['vehicle_age'], filtered_df_sedan['price'])\n",
    "plt.title('Scatterplot of vehicle_age vs Price')\n",
    "plt.xlabel('vehicle_age')\n",
    "plt.ylabel('Price')\n",
    "plt.grid()\n",
    "plt.show()"
   ]
  },
  {
   "cell_type": "code",
   "execution_count": 46,
   "metadata": {
    "scrolled": true
   },
   "outputs": [
    {
     "data": {
      "image/png": "[encoded data removed]",
      "text/plain": [
       "<Figure size 432x288 with 1 Axes>"
      ]
     },
     "metadata": {
      "needs_background": "light"
     },
     "output_type": "display_data"
    }
   ],
   "source": [
    "#For SUV: Displaying Price VS mileage relationships in scatter plots\n",
    "\n",
    "plt.scatter(filtered_df_SUV['avg_mileage'], filtered_df_SUV['price'])\n",
    "plt.title('Scatterplot of avg_mileage vs Price')\n",
    "plt.xlabel('avg_mileage')\n",
    "plt.ylabel('Price')\n",
    "plt.grid()\n",
    "plt.show()\n"
   ]
  },
  {
   "cell_type": "code",
   "execution_count": 44,
   "metadata": {},
   "outputs": [
    {
     "data": {
      "image/png": "[encoded data removed]",
      "text/plain": [
       "<Figure size 432x288 with 1 Axes>"
      ]
     },
     "metadata": {
      "needs_background": "light"
     },
     "output_type": "display_data"
    }
   ],
   "source": [
    "#For sedan: Displaying Price VS mileage relationships in scatter plots\n",
    "\n",
    "plt.scatter(filtered_df_sedan['avg_mileage'], filtered_df_sedan['price'])\n",
    "plt.title('Scatterplot of avg_mileage vs Price')\n",
    "plt.xlabel('avg_mileage')\n",
    "plt.ylabel('Price')\n",
    "plt.grid()\n",
    "plt.show()"
   ]
  },
  {
   "cell_type": "code",
   "execution_count": 47,
   "metadata": {
    "scrolled": false
   },
   "outputs": [
    {
     "data": {
      "image/png": "[encoded data removed]",
      "text/plain": [
       "<Figure size 432x288 with 1 Axes>"
      ]
     },
     "metadata": {
      "needs_background": "light"
     },
     "output_type": "display_data"
    }
   ],
   "source": [
    "# For SUV: Displaying price VS condition relationships in scatter plots\n",
    "plt.scatter(filtered_df_SUV['condition'], filtered_df_SUV['price'])\n",
    "plt.title('Scatterplot of condition vs Price')\n",
    "plt.xlabel('condition')\n",
    "plt.ylabel('Price')\n",
    "plt.grid()\n",
    "plt.show()"
   ]
  },
  {
   "cell_type": "code",
   "execution_count": 48,
   "metadata": {},
   "outputs": [
    {
     "data": {
      "image/png": "[encoded data removed]",
      "text/plain": [
       "<Figure size 432x288 with 1 Axes>"
      ]
     },
     "metadata": {
      "needs_background": "light"
     },
     "output_type": "display_data"
    }
   ],
   "source": [
    "# For sedan: Displaying price VS condition relationships in scatter plots\n",
    "plt.scatter(filtered_df_sedan['condition'], filtered_df_sedan['price'])\n",
    "plt.title('Scatterplot of condition vs Price')\n",
    "plt.xlabel('condition')\n",
    "plt.ylabel('Price')\n",
    "plt.grid()\n",
    "plt.show()"
   ]
  },
  {
   "cell_type": "code",
   "execution_count": 28,
   "metadata": {
    "scrolled": true
   },
   "outputs": [
    {
     "data": {
      "image/png": "[encoded data removed]",
      "text/plain": [
       "<Figure size 720x576 with 2 Axes>"
      ]
     },
     "metadata": {
      "needs_background": "light"
     },
     "output_type": "display_data"
    }
   ],
   "source": [
    "#Previewing the correlation among the quantitative variables with a seaborn heatmap\n",
    "\n",
    "plt.figure(figsize = (10, 8))\n",
    "sns.heatmap(filtered_df[['price'\n",
    "                         , 'vehicle_age'\n",
    "                         , 'cylinders'\n",
    "                         , 'condition']].corr(), \n",
    "            annot = True)\n",
    "          \n",
    "plt.show()\n"
   ]
  },
  {
   "cell_type": "markdown",
   "metadata": {},
   "source": [
    "Conclusion: There is a trend of price increases with a decrease in vehicle age.  The vehicle's age affects the price the most. Although the number of cylinders in a vehicle has a positive correlation with price, it has the least impact on price. There is also a positive and significant relationship between vehicle condition and price."
   ]
  },
  {
   "cell_type": "markdown",
   "metadata": {},
   "source": [
    "Conclusion: From the figure above, the vehicle age relates to the price. As vehicle ages, it becomes cheaper."
   ]
  },
  {
   "cell_type": "markdown",
   "metadata": {},
   "source": [
    "Conclusion: The more mileage a vehicle has, the lower the price is"
   ]
  },
  {
   "cell_type": "markdown",
   "metadata": {},
   "source": [
    "Conclusion: Cars in a good condition have higher prices."
   ]
  },
  {
   "cell_type": "markdown",
   "metadata": {},
   "source": [
    "## Overall conclusion:"
   ]
  },
  {
   "cell_type": "markdown",
   "metadata": {},
   "source": [
    "The goal of this project is to identify car sales advertisements in general.\n",
    "\n",
    "To do that, we first preprocessed the dataset. We identified missing values and inconsistencies in the dataset and tried to identify why they were missing. The possible reasons for missing values could be many. However, we will report them to the concerned person so that we can prevent potential discrepancies in the future.\n",
    "\n",
    "However, we tried to replace the missing values as accurately as we can by checking the relationship between mileage on a car, condition of the car and price of the car, and many more. \n",
    "\n",
    "We also changed the data types of  'price', 'vehicle age,' mileage', 'cylinders', 'condition' columns as changing them to integers made more sense. \n",
    "\n",
    "We calculated values like 'Day of the week, month, and year the ad was placed, the vehicle's age (in years) when the ads and vehicle's average mileage per year was placed so that we can better identify advertisements in car sales. \n",
    "\n",
    "We plotted graphs of the dataset to visualize the relationship of car prices with car types, models, transmissions, colors, vehicle age, and mileage. This was an indicator of the presence of outliers, which could greatly hinder the performance of our analysis. So, we only considered data less than the upper limits of outliers. We found out that outliers significantly affect the readability of histograms.\n",
    "\n",
    " An ad typically lasts for 40 days or so. About 54 ads lasted less than a day. The longest time an ad lasted for 1946 days.\n",
    " Sedan and SUV are the vehicle types with the highest number of ads.\n",
    "\n",
    "Vehicle price depends on the type of vehicle transmission. Other transmissions have the highest median prices while manual transmissions have the lowest median prices.\n",
    "\n",
    "-  We also checked the relationship between the year and the price of a car. Obviously, older cars are cheaper with some exceptions to antique cars and newer cars are always expensive. Among all of these, a vehicle's age correlates the greatest with a price.\n",
    "\n",
    "-  Another main factor contributing to the price of a car was the condition of the car. Good and excellent condition cars were priced higher than fair and salvage cars. As we all know the more miles on the car, the price will go down. Cars with fewer miles are always expensive."
   ]
  }
 ],
 "metadata": {
  "kernelspec": {
   "display_name": "Python 3 (ipykernel)",
   "language": "python",
   "name": "python3"
  },
  "language_info": {
   "codemirror_mode": {
    "name": "ipython",
    "version": 3
   },
   "file_extension": ".py",
   "mimetype": "text/x-python",
   "name": "python",
   "nbconvert_exporter": "python",
   "pygments_lexer": "ipython3",
   "version": "3.9.7"
  },
  "toc": {
   "base_numbering": "",
   "nav_menu": {},
   "number_sections": false,
   "sideBar": true,
   "skip_h1_title": false,
   "title_cell": "Table of Contents",
   "title_sidebar": "Contents",
   "toc_cell": false,
   "toc_position": {
    "height": "calc(100% - 180px)",
    "left": "10px",
    "top": "150px",
    "width": "165px"
   },
   "toc_section_display": true,
   "toc_window_display": false
  }
 },
 "nbformat": 4,
 "nbformat_minor": 2
}
