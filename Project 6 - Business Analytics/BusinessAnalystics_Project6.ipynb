{
 "cells": [
  {
   "cell_type": "markdown",
   "metadata": {},
   "source": [
    "---"
   ]
  },
  {
   "cell_type": "markdown",
   "metadata": {},
   "source": [
    "# Optimize Marketing Expense for Yandex.Afisha\n",
    "\n",
    "#### Project description:\n",
    "\n",
    "We are working on a project in the analytical department at Yandex.Afisha.Our first task is to help optimize marketing expenses. \n",
    "\n",
    "##### Data description\n",
    "\n",
    "The visits table (server logs with data on website visits):\n",
    "- Uid — user's unique identifier\n",
    "- Device — user's device\n",
    "- Start Ts — session start date and time\n",
    "- End Ts — session end date and time\n",
    "- Source Id — identifier of the ad source the user came from\n",
    "\n",
    "All dates in this table are in YYYY-MM-DD format.\n",
    "\n",
    "The orders table (data on orders):\n",
    "- Uid — unique identifier of the user making an order\n",
    "- Buy Ts — order date and time\n",
    "- Revenue — Yandex.Afisha's revenue from the order\n",
    "\n",
    "The costs table (data on marketing expenses):\n",
    "- source_id — ad source identifier\n",
    "- dt — date\n",
    "- costs — expenses on this ad source on this day\n",
    "\n",
    "#### Steps to take:\n",
    "- Step 1: Open the data file and study the general information.\n",
    "- Step 2: Prepare the data/Preprocessing data\n",
    "    - We will view the data in more detail to convert them to the required types, replace the coluimn names and find missing values.Find and eliminate errors in the data.\n",
    "- Step 3: Analyze the data \n",
    "    - 1.Product:\n",
    "         - How many people use it every day, week, and month?\n",
    "         - How many sessions are there per day? (One user might have more than one session.)\n",
    "         - What is the length of each session?\n",
    "         - How often do users come back?\n",
    "    - 2.Sales:\n",
    "        - When do people start buying? \n",
    "        - How many orders do they make during a given period of time?\n",
    "        - What is the average purchase size?\n",
    "        - How much money do they bring? (LTV)\n",
    "       \n",
    "     - 3. Marketing:\n",
    "         - How much money was spent? Overall/per source/over time\n",
    "         - How much did customer acquisition from each of the sources cost?\n",
    "         - How worthwhile where the investments? (ROI)\n",
    "         \n",
    "    Plot graphs to display how these metrics differ for various devices and ad sources and how they change in time\n",
    "    \n",
    "\n",
    "- Step 5: \n",
    "   - Advise marketing experts how much money to invest and where.\n",
    "   - What sources/platforms would you recommend? Back up your choice: what metrics did you focus on? \n",
    "   - Why? What conclusions did you draw after finding the metric values?\n",
    "  \n",
    "#### Goal:\n",
    "Our goal is to help optimize marketing expenses for Yandex.Afisha\n"
   ]
  },
  {
   "cell_type": "markdown",
   "metadata": {},
   "source": [
    "## Steps followed to complete the project:"
   ]
  },
  {
   "cell_type": "markdown",
   "metadata": {},
   "source": [
    "## Step 1. Open the data file and study the general information"
   ]
  },
  {
   "cell_type": "code",
   "execution_count": 40,
   "metadata": {},
   "outputs": [],
   "source": [
    "##### Import default libraries\n",
    "import pandas as pd # manipulate and wrangle the data  \n",
    "import numpy as np\n",
    "import matplotlib.pyplot as plt #2d plotting library which produces publication quality figures in a variety of formats\n",
    "import seaborn as sns # Seaborn provides a high-level interface for drawing attractive and informative statistical graphics\n",
    "\n",
    "from scipy import stats # for mathematics, science, and engineering\n",
    "from math import ceil as math\n",
    "from scipy import stats as st\n",
    "\n",
    "#read data from file\n",
    "visits = pd.read_csv('/datasets/visits_log_us.csv')\n",
    "orders = pd.read_csv('/datasets/orders_log_us.csv')\n",
    "costs = pd.read_csv('/datasets/costs_us.csv')"
   ]
  },
  {
   "cell_type": "code",
   "execution_count": 31,
   "metadata": {},
   "outputs": [
    {
     "name": "stdout",
     "output_type": "stream",
     "text": [
      "<class 'pandas.core.frame.DataFrame'>\n",
      "RangeIndex: 359400 entries, 0 to 359399\n",
      "Data columns (total 5 columns):\n",
      "Device       359400 non-null object\n",
      "End Ts       359400 non-null object\n",
      "Source Id    359400 non-null int64\n",
      "Start Ts     359400 non-null object\n",
      "Uid          359400 non-null uint64\n",
      "dtypes: int64(1), object(3), uint64(1)\n",
      "memory usage: 13.7+ MB\n"
     ]
    },
    {
     "data": {
      "text/html": [
       "<div>\n",
       "<style scoped>\n",
       "    .dataframe tbody tr th:only-of-type {\n",
       "        vertical-align: middle;\n",
       "    }\n",
       "\n",
       "    .dataframe tbody tr th {\n",
       "        vertical-align: top;\n",
       "    }\n",
       "\n",
       "    .dataframe thead th {\n",
       "        text-align: right;\n",
       "    }\n",
       "</style>\n",
       "<table border=\"1\" class=\"dataframe\">\n",
       "  <thead>\n",
       "    <tr style=\"text-align: right;\">\n",
       "      <th></th>\n",
       "      <th>Device</th>\n",
       "      <th>End Ts</th>\n",
       "      <th>Source Id</th>\n",
       "      <th>Start Ts</th>\n",
       "      <th>Uid</th>\n",
       "    </tr>\n",
       "  </thead>\n",
       "  <tbody>\n",
       "    <tr>\n",
       "      <td>0</td>\n",
       "      <td>touch</td>\n",
       "      <td>2017-12-20 17:38:00</td>\n",
       "      <td>4</td>\n",
       "      <td>2017-12-20 17:20:00</td>\n",
       "      <td>16879256277535980062</td>\n",
       "    </tr>\n",
       "    <tr>\n",
       "      <td>1</td>\n",
       "      <td>desktop</td>\n",
       "      <td>2018-02-19 17:21:00</td>\n",
       "      <td>2</td>\n",
       "      <td>2018-02-19 16:53:00</td>\n",
       "      <td>104060357244891740</td>\n",
       "    </tr>\n",
       "    <tr>\n",
       "      <td>2</td>\n",
       "      <td>touch</td>\n",
       "      <td>2017-07-01 01:54:00</td>\n",
       "      <td>5</td>\n",
       "      <td>2017-07-01 01:54:00</td>\n",
       "      <td>7459035603376831527</td>\n",
       "    </tr>\n",
       "    <tr>\n",
       "      <td>3</td>\n",
       "      <td>desktop</td>\n",
       "      <td>2018-05-20 11:23:00</td>\n",
       "      <td>9</td>\n",
       "      <td>2018-05-20 10:59:00</td>\n",
       "      <td>16174680259334210214</td>\n",
       "    </tr>\n",
       "    <tr>\n",
       "      <td>4</td>\n",
       "      <td>desktop</td>\n",
       "      <td>2017-12-27 14:06:00</td>\n",
       "      <td>3</td>\n",
       "      <td>2017-12-27 14:06:00</td>\n",
       "      <td>9969694820036681168</td>\n",
       "    </tr>\n",
       "    <tr>\n",
       "      <td>5</td>\n",
       "      <td>desktop</td>\n",
       "      <td>2017-09-03 21:36:00</td>\n",
       "      <td>5</td>\n",
       "      <td>2017-09-03 21:35:00</td>\n",
       "      <td>16007536194108375387</td>\n",
       "    </tr>\n",
       "    <tr>\n",
       "      <td>6</td>\n",
       "      <td>desktop</td>\n",
       "      <td>2018-01-30 12:09:00</td>\n",
       "      <td>1</td>\n",
       "      <td>2018-01-30 11:13:00</td>\n",
       "      <td>6661610529277171451</td>\n",
       "    </tr>\n",
       "    <tr>\n",
       "      <td>7</td>\n",
       "      <td>touch</td>\n",
       "      <td>2017-11-05 15:15:00</td>\n",
       "      <td>3</td>\n",
       "      <td>2017-11-05 15:14:00</td>\n",
       "      <td>11423865690854540312</td>\n",
       "    </tr>\n",
       "    <tr>\n",
       "      <td>8</td>\n",
       "      <td>desktop</td>\n",
       "      <td>2017-07-19 10:44:00</td>\n",
       "      <td>3</td>\n",
       "      <td>2017-07-19 10:41:00</td>\n",
       "      <td>2987360259350925644</td>\n",
       "    </tr>\n",
       "    <tr>\n",
       "      <td>9</td>\n",
       "      <td>desktop</td>\n",
       "      <td>2017-11-08 13:43:00</td>\n",
       "      <td>5</td>\n",
       "      <td>2017-11-08 13:42:00</td>\n",
       "      <td>1289240080042562063</td>\n",
       "    </tr>\n",
       "  </tbody>\n",
       "</table>\n",
       "</div>"
      ],
      "text/plain": [
       "    Device               End Ts  Source Id             Start Ts  \\\n",
       "0    touch  2017-12-20 17:38:00          4  2017-12-20 17:20:00   \n",
       "1  desktop  2018-02-19 17:21:00          2  2018-02-19 16:53:00   \n",
       "2    touch  2017-07-01 01:54:00          5  2017-07-01 01:54:00   \n",
       "3  desktop  2018-05-20 11:23:00          9  2018-05-20 10:59:00   \n",
       "4  desktop  2017-12-27 14:06:00          3  2017-12-27 14:06:00   \n",
       "5  desktop  2017-09-03 21:36:00          5  2017-09-03 21:35:00   \n",
       "6  desktop  2018-01-30 12:09:00          1  2018-01-30 11:13:00   \n",
       "7    touch  2017-11-05 15:15:00          3  2017-11-05 15:14:00   \n",
       "8  desktop  2017-07-19 10:44:00          3  2017-07-19 10:41:00   \n",
       "9  desktop  2017-11-08 13:43:00          5  2017-11-08 13:42:00   \n",
       "\n",
       "                    Uid  \n",
       "0  16879256277535980062  \n",
       "1    104060357244891740  \n",
       "2   7459035603376831527  \n",
       "3  16174680259334210214  \n",
       "4   9969694820036681168  \n",
       "5  16007536194108375387  \n",
       "6   6661610529277171451  \n",
       "7  11423865690854540312  \n",
       "8   2987360259350925644  \n",
       "9   1289240080042562063  "
      ]
     },
     "execution_count": 31,
     "metadata": {},
     "output_type": "execute_result"
    }
   ],
   "source": [
    "##### preview the loaded data\n",
    "visits.info()\n",
    "\n",
    "# return the top n- rows of dataframe\n",
    "visits.head(10)\n",
    "\n",
    "#visits.describe()"
   ]
  },
  {
   "cell_type": "code",
   "execution_count": 2,
   "metadata": {},
   "outputs": [
    {
     "name": "stdout",
     "output_type": "stream",
     "text": [
      "<class 'pandas.core.frame.DataFrame'>\n",
      "RangeIndex: 50415 entries, 0 to 50414\n",
      "Data columns (total 3 columns):\n",
      "Buy Ts     50415 non-null object\n",
      "Revenue    50415 non-null float64\n",
      "Uid        50415 non-null uint64\n",
      "dtypes: float64(1), object(1), uint64(1)\n",
      "memory usage: 1.2+ MB\n"
     ]
    },
    {
     "data": {
      "text/html": [
       "<div>\n",
       "<style scoped>\n",
       "    .dataframe tbody tr th:only-of-type {\n",
       "        vertical-align: middle;\n",
       "    }\n",
       "\n",
       "    .dataframe tbody tr th {\n",
       "        vertical-align: top;\n",
       "    }\n",
       "\n",
       "    .dataframe thead th {\n",
       "        text-align: right;\n",
       "    }\n",
       "</style>\n",
       "<table border=\"1\" class=\"dataframe\">\n",
       "  <thead>\n",
       "    <tr style=\"text-align: right;\">\n",
       "      <th></th>\n",
       "      <th>Buy Ts</th>\n",
       "      <th>Revenue</th>\n",
       "      <th>Uid</th>\n",
       "    </tr>\n",
       "  </thead>\n",
       "  <tbody>\n",
       "    <tr>\n",
       "      <td>0</td>\n",
       "      <td>2017-06-01 00:10:00</td>\n",
       "      <td>17.00</td>\n",
       "      <td>10329302124590727494</td>\n",
       "    </tr>\n",
       "    <tr>\n",
       "      <td>1</td>\n",
       "      <td>2017-06-01 00:25:00</td>\n",
       "      <td>0.55</td>\n",
       "      <td>11627257723692907447</td>\n",
       "    </tr>\n",
       "    <tr>\n",
       "      <td>2</td>\n",
       "      <td>2017-06-01 00:27:00</td>\n",
       "      <td>0.37</td>\n",
       "      <td>17903680561304213844</td>\n",
       "    </tr>\n",
       "    <tr>\n",
       "      <td>3</td>\n",
       "      <td>2017-06-01 00:29:00</td>\n",
       "      <td>0.55</td>\n",
       "      <td>16109239769442553005</td>\n",
       "    </tr>\n",
       "    <tr>\n",
       "      <td>4</td>\n",
       "      <td>2017-06-01 07:58:00</td>\n",
       "      <td>0.37</td>\n",
       "      <td>14200605875248379450</td>\n",
       "    </tr>\n",
       "    <tr>\n",
       "      <td>5</td>\n",
       "      <td>2017-06-01 08:43:00</td>\n",
       "      <td>0.18</td>\n",
       "      <td>10402394430196413321</td>\n",
       "    </tr>\n",
       "    <tr>\n",
       "      <td>6</td>\n",
       "      <td>2017-06-01 08:54:00</td>\n",
       "      <td>1.83</td>\n",
       "      <td>12464626743129688638</td>\n",
       "    </tr>\n",
       "    <tr>\n",
       "      <td>7</td>\n",
       "      <td>2017-06-01 09:22:00</td>\n",
       "      <td>1.22</td>\n",
       "      <td>3644482766749211722</td>\n",
       "    </tr>\n",
       "    <tr>\n",
       "      <td>8</td>\n",
       "      <td>2017-06-01 09:22:00</td>\n",
       "      <td>3.30</td>\n",
       "      <td>17542070709969841479</td>\n",
       "    </tr>\n",
       "    <tr>\n",
       "      <td>9</td>\n",
       "      <td>2017-06-01 09:23:00</td>\n",
       "      <td>0.37</td>\n",
       "      <td>1074355127080856382</td>\n",
       "    </tr>\n",
       "  </tbody>\n",
       "</table>\n",
       "</div>"
      ],
      "text/plain": [
       "                Buy Ts  Revenue                   Uid\n",
       "0  2017-06-01 00:10:00    17.00  10329302124590727494\n",
       "1  2017-06-01 00:25:00     0.55  11627257723692907447\n",
       "2  2017-06-01 00:27:00     0.37  17903680561304213844\n",
       "3  2017-06-01 00:29:00     0.55  16109239769442553005\n",
       "4  2017-06-01 07:58:00     0.37  14200605875248379450\n",
       "5  2017-06-01 08:43:00     0.18  10402394430196413321\n",
       "6  2017-06-01 08:54:00     1.83  12464626743129688638\n",
       "7  2017-06-01 09:22:00     1.22   3644482766749211722\n",
       "8  2017-06-01 09:22:00     3.30  17542070709969841479\n",
       "9  2017-06-01 09:23:00     0.37   1074355127080856382"
      ]
     },
     "execution_count": 2,
     "metadata": {},
     "output_type": "execute_result"
    }
   ],
   "source": [
    "##### preview the loaded data\n",
    "orders.info()\n",
    "\n",
    "# return the top n- rows of dataframe\n",
    "orders.head(10)"
   ]
  },
  {
   "cell_type": "code",
   "execution_count": 33,
   "metadata": {},
   "outputs": [
    {
     "name": "stdout",
     "output_type": "stream",
     "text": [
      "<class 'pandas.core.frame.DataFrame'>\n",
      "RangeIndex: 2542 entries, 0 to 2541\n",
      "Data columns (total 3 columns):\n",
      "source_id    2542 non-null int64\n",
      "dt           2542 non-null object\n",
      "costs        2542 non-null float64\n",
      "dtypes: float64(1), int64(1), object(1)\n",
      "memory usage: 59.7+ KB\n"
     ]
    },
    {
     "data": {
      "text/html": [
       "<div>\n",
       "<style scoped>\n",
       "    .dataframe tbody tr th:only-of-type {\n",
       "        vertical-align: middle;\n",
       "    }\n",
       "\n",
       "    .dataframe tbody tr th {\n",
       "        vertical-align: top;\n",
       "    }\n",
       "\n",
       "    .dataframe thead th {\n",
       "        text-align: right;\n",
       "    }\n",
       "</style>\n",
       "<table border=\"1\" class=\"dataframe\">\n",
       "  <thead>\n",
       "    <tr style=\"text-align: right;\">\n",
       "      <th></th>\n",
       "      <th>source_id</th>\n",
       "      <th>dt</th>\n",
       "      <th>costs</th>\n",
       "    </tr>\n",
       "  </thead>\n",
       "  <tbody>\n",
       "    <tr>\n",
       "      <td>0</td>\n",
       "      <td>1</td>\n",
       "      <td>2017-06-01</td>\n",
       "      <td>75.20</td>\n",
       "    </tr>\n",
       "    <tr>\n",
       "      <td>1</td>\n",
       "      <td>1</td>\n",
       "      <td>2017-06-02</td>\n",
       "      <td>62.25</td>\n",
       "    </tr>\n",
       "    <tr>\n",
       "      <td>2</td>\n",
       "      <td>1</td>\n",
       "      <td>2017-06-03</td>\n",
       "      <td>36.53</td>\n",
       "    </tr>\n",
       "    <tr>\n",
       "      <td>3</td>\n",
       "      <td>1</td>\n",
       "      <td>2017-06-04</td>\n",
       "      <td>55.00</td>\n",
       "    </tr>\n",
       "    <tr>\n",
       "      <td>4</td>\n",
       "      <td>1</td>\n",
       "      <td>2017-06-05</td>\n",
       "      <td>57.08</td>\n",
       "    </tr>\n",
       "    <tr>\n",
       "      <td>5</td>\n",
       "      <td>1</td>\n",
       "      <td>2017-06-06</td>\n",
       "      <td>40.39</td>\n",
       "    </tr>\n",
       "    <tr>\n",
       "      <td>6</td>\n",
       "      <td>1</td>\n",
       "      <td>2017-06-07</td>\n",
       "      <td>40.59</td>\n",
       "    </tr>\n",
       "    <tr>\n",
       "      <td>7</td>\n",
       "      <td>1</td>\n",
       "      <td>2017-06-08</td>\n",
       "      <td>56.63</td>\n",
       "    </tr>\n",
       "    <tr>\n",
       "      <td>8</td>\n",
       "      <td>1</td>\n",
       "      <td>2017-06-09</td>\n",
       "      <td>40.16</td>\n",
       "    </tr>\n",
       "    <tr>\n",
       "      <td>9</td>\n",
       "      <td>1</td>\n",
       "      <td>2017-06-10</td>\n",
       "      <td>43.24</td>\n",
       "    </tr>\n",
       "  </tbody>\n",
       "</table>\n",
       "</div>"
      ],
      "text/plain": [
       "   source_id          dt  costs\n",
       "0          1  2017-06-01  75.20\n",
       "1          1  2017-06-02  62.25\n",
       "2          1  2017-06-03  36.53\n",
       "3          1  2017-06-04  55.00\n",
       "4          1  2017-06-05  57.08\n",
       "5          1  2017-06-06  40.39\n",
       "6          1  2017-06-07  40.59\n",
       "7          1  2017-06-08  56.63\n",
       "8          1  2017-06-09  40.16\n",
       "9          1  2017-06-10  43.24"
      ]
     },
     "execution_count": 33,
     "metadata": {},
     "output_type": "execute_result"
    }
   ],
   "source": [
    "##### preview the loaded data\n",
    "costs.info()\n",
    "\n",
    "# return the top n- rows of dataframe\n",
    "costs.head(10)"
   ]
  },
  {
   "cell_type": "markdown",
   "metadata": {},
   "source": [
    "## Step 2. Preprocessing"
   ]
  },
  {
   "cell_type": "code",
   "execution_count": 41,
   "metadata": {},
   "outputs": [],
   "source": [
    "# modify visits column names\n",
    "\n",
    "visits = visits.rename(columns={'Device': 'device_type', 'End Ts':'end_date', 'Start Ts':'start_date', 'Source Id':'source_id','Uid':'user_id'})\n",
    "#visits.info()\n",
    "\n",
    "orders = orders.rename(columns={'Buy Ts': 'order_date', 'Revenue':'revenue', 'Uid':'user_id' })\n",
    "#orders.info()\n",
    "\n",
    "costs = costs.rename(columns={'dt': 'ad_date', 'costs':'ad_cost'})\n",
    "#costs.info()\n",
    "\n",
    "#converting float data numbers into string type\n",
    "visits['device_type'] = visits['device_type'].astype(str)\n",
    "\n",
    "visits['start_date'] = pd.to_datetime(visits['start_date'])\n",
    "visits['end_date'] = pd.to_datetime(visits['end_date'])\n",
    "\n",
    "costs['ad_date'] = pd.to_datetime(costs['ad_date'])\n",
    "orders['order_date'] = pd.to_datetime(orders['order_date'])\n",
    "\n"
   ]
  },
  {
   "cell_type": "code",
   "execution_count": 42,
   "metadata": {},
   "outputs": [
    {
     "name": "stdout",
     "output_type": "stream",
     "text": [
      "0\n",
      "0\n",
      "0\n"
     ]
    }
   ],
   "source": [
    "# check for duplicate rows\n",
    "\n",
    "print (visits.duplicated().sum())\n",
    "print (orders.duplicated().sum())\n",
    "print (costs.duplicated().sum())\n",
    "\n"
   ]
  },
  {
   "cell_type": "code",
   "execution_count": 8,
   "metadata": {},
   "outputs": [
    {
     "data": {
      "text/plain": [
       "source_id    0\n",
       "ad_date      0\n",
       "ad_cost      0\n",
       "dtype: int64"
      ]
     },
     "execution_count": 8,
     "metadata": {},
     "output_type": "execute_result"
    }
   ],
   "source": [
    "# checking null columns\n",
    "\n",
    "visits.isnull().sum()\n",
    "orders.isnull().sum()\n",
    "costs.isnull().sum()"
   ]
  },
  {
   "cell_type": "code",
   "execution_count": 8,
   "metadata": {},
   "outputs": [],
   "source": [
    "# Drop any duplicates in the database\n",
    "visits.drop_duplicates(inplace=True)\n",
    "orders.drop_duplicates(inplace=True)\n",
    "costs.drop_duplicates(inplace=True)\n",
    "\n",
    "#Conclusion: There is no duplicates and null values in these datasets.\n"
   ]
  },
  {
   "cell_type": "markdown",
   "metadata": {},
   "source": [
    "#### Conclusion:\n",
    "We checked the general information of 'visits','orders','costs' datasets. Upon checking data, we found that the datasets are much cleaner. We didn't find any big issues and discrepancies.  However, there are some minor issues that are listed below:\n",
    " - converted the datatypes of some date column to date type\n",
    " - renamed the column names of datasets to remove space in between\n",
    " - checked for any blank records and duplicates"
   ]
  },
  {
   "cell_type": "markdown",
   "metadata": {},
   "source": [
    "## Step 3. Make report and calculate metrics"
   ]
  },
  {
   "cell_type": "markdown",
   "metadata": {},
   "source": [
    "### Make Reports and Calculate Product Metrics:"
   ]
  },
  {
   "cell_type": "code",
   "execution_count": 43,
   "metadata": {},
   "outputs": [
    {
     "name": "stdout",
     "output_type": "stream",
     "text": [
      "Daily Total Usage: 907.99 users\n"
     ]
    }
   ],
   "source": [
    "#Product:How many people use it every day, week, and month?\n",
    "\n",
    "# add columns for day, week, month values\n",
    "\n",
    "visits['session_year'] = visits['start_date'].astype(\"datetime64[Y]\")\n",
    "visits['session_month'] = visits['start_date'].astype(\"datetime64[M]\")\n",
    "visits['session_week']  = visits['start_date'].astype(\"datetime64[W]\")\n",
    "\n",
    "visits['session_date'] = visits['start_date'].astype(\"datetime64[D]\")\n",
    "\n",
    "# calculate DAU (daily active unique)\n",
    "dau_total = visits.groupby('session_date').agg({'user_id':'nunique'}).reset_index()\n",
    "dau_total.columns = ['session_date', 'users']\n",
    "dau_mean = dau_total['users'].mean()\n",
    "\n",
    "print('Daily Total Usage: ' + str(dau_mean.round(decimals = 2)) + ' users')\n",
    "\n",
    "    \n"
   ]
  },
  {
   "cell_type": "code",
   "execution_count": 5,
   "metadata": {
    "scrolled": true
   },
   "outputs": [
    {
     "name": "stderr",
     "output_type": "stream",
     "text": [
      "/opt/conda/lib/python3.7/site-packages/pandas/plotting/_matplotlib/converter.py:103: FutureWarning: Using an implicitly registered datetime converter for a matplotlib plotting method. The converter was registered by pandas on import. Future versions of pandas will require you to explicitly register matplotlib converters.\n",
      "\n",
      "To register the converters:\n",
      "\t>>> from pandas.plotting import register_matplotlib_converters\n",
      "\t>>> register_matplotlib_converters()\n",
      "  warnings.warn(msg, FutureWarning)\n"
     ]
    },
    {
     "data": {
      "image/png": "[encoded data removed]",
      "text/plain": [
       "<Figure size 864x576 with 1 Axes>"
      ]
     },
     "metadata": {
      "needs_background": "light"
     },
     "output_type": "display_data"
    }
   ],
   "source": [
    "# plot daily users\n",
    "plt.figure(figsize=(12,8))\n",
    "plt.plot(dau_total['session_date'],dau_total['users'])\n",
    "plt.title(\"Daily Active Users\")\n",
    "plt.xlabel(\"Session Dates\")\n",
    "plt.ylabel(\"Number of Daily Users\")\n",
    "plt.show()"
   ]
  },
  {
   "cell_type": "code",
   "execution_count": 46,
   "metadata": {
    "scrolled": true
   },
   "outputs": [
    {
     "name": "stdout",
     "output_type": "stream",
     "text": [
      "Weekly Total Usage: 5724.42 users\n"
     ]
    },
    {
     "data": {
      "image/png": "[encoded data removed]",
      "text/plain": [
       "<Figure size 864x576 with 1 Axes>"
      ]
     },
     "metadata": {
      "needs_background": "light"
     },
     "output_type": "display_data"
    }
   ],
   "source": [
    "# calculate WAU (weekly active unique)\n",
    "wau_total = visits.groupby('session_week').agg({'user_id':'nunique'}).reset_index()\n",
    "wau_total.columns = ['session_week', 'users']\n",
    "wau_mean = wau_total['users'].mean()\n",
    "print('Weekly Total Usage: ' + str(wau_mean.round(decimals = 2)) + ' users')\n",
    "\n",
    "      \n",
    "# plot weekly users\n",
    "plt.figure(figsize=(12,8))\n",
    "plt.plot(wau_total['session_week'],wau_total['users'])\n",
    "plt. title(\"Weekly Active Users\")\n",
    "plt. xlabel(\"Session Weeks\")\n",
    "plt. ylabel(\"Number of Weekly Users\")\n",
    "plt.show()"
   ]
  },
  {
   "cell_type": "code",
   "execution_count": 47,
   "metadata": {
    "scrolled": false
   },
   "outputs": [
    {
     "name": "stdout",
     "output_type": "stream",
     "text": [
      "Monthly Total Usage: 23228.42 users\n"
     ]
    },
    {
     "data": {
      "image/png": "[encoded data removed]",
      "text/plain": [
       "<Figure size 864x576 with 1 Axes>"
      ]
     },
     "metadata": {
      "needs_background": "light"
     },
     "output_type": "display_data"
    }
   ],
   "source": [
    "# calculate MAU (monthly active unique)\n",
    "mau_total = visits.groupby('session_month').agg({'user_id':'nunique'}).reset_index()\n",
    "mau_total.columns = ['session_month', 'users']\n",
    "mau_mean = mau_total['users'].mean()\n",
    "print('Monthly Total Usage: ' + str(mau_mean.round(decimals = 2)) + ' users')\n",
    "\n",
    "# plot monthly users\n",
    "plt.figure(figsize=(12,8))\n",
    "plt.plot(mau_total['session_month'],mau_total['users'])\n",
    "plt. title(\"Monthly Active Users\")\n",
    "plt. xlabel(\"Session Months\")\n",
    "plt. ylabel(\"Number of Monthly Users\")\n",
    "plt.show()\n"
   ]
  },
  {
   "cell_type": "markdown",
   "metadata": {},
   "source": [
    "### Conclusion:\n",
    "To calculate daily, weekly and monthly activities, we first created separate columns of the year, month, and week values. We grouped the data by session date, week, and month and calculated the means.\n",
    "\n",
    "The number of daily users of Yandex. Afisha is 908. '2017-11-24' date is the highest visited while '2018-03-31' date is lowest visited. The number of weekly users is 5825 and the number of monthly users is 23228.\n"
   ]
  },
  {
   "cell_type": "code",
   "execution_count": 49,
   "metadata": {},
   "outputs": [
    {
     "name": "stdout",
     "output_type": "stream",
     "text": [
      "987.36 sessions per day\n"
     ]
    },
    {
     "data": {
      "image/png": "[encoded data removed]",
      "text/plain": [
       "<Figure size 576x432 with 1 Axes>"
      ]
     },
     "metadata": {
      "needs_background": "light"
     },
     "output_type": "display_data"
    }
   ],
   "source": [
    "# Product:How many sessions are there per day?\n",
    "#One user might have more than one session\n",
    "\n",
    "sessions_perday = visits.groupby('session_date').agg({'user_id':['count','nunique']}).reset_index()\n",
    "sessions_perday.columns = ['session_date','sessions','users']\n",
    "sessions_perday_mean = sessions_perday['sessions'].mean()\n",
    "\n",
    "print(str(sessions_perday_mean.round(decimals=2)) + ' sessions per day')\n",
    "\n",
    "# plot sessions\n",
    "plt.figure(figsize=(8,6))\n",
    "plt.plot(pd.to_datetime(sessions_perday['session_date']),sessions_perday['sessions'])\n",
    "plt.title('Sessions per Day')\n",
    "plt.xlabel('Session Dates')\n",
    "plt.ylabel('Number of Sessions acessing website')\n",
    "plt.show()"
   ]
  },
  {
   "cell_type": "markdown",
   "metadata": {},
   "source": [
    "### Conclusion:\n",
    "\n",
    "To calculate the unique sessions per day, we grouped the visit data by session date and counted the number of unique users and the number of unique sessions.\n",
    "It is useful to determine the number of sessions per use per month as it is a good indicator of app usage frequency.\n",
    "\n",
    "There are 987.36 unique sessions per day for Yandex.Afisha.\n"
   ]
  },
  {
   "cell_type": "code",
   "execution_count": 51,
   "metadata": {},
   "outputs": [
    {
     "name": "stdout",
     "output_type": "stream",
     "text": [
      " The length per session: 300.0 secs\n"
     ]
    },
    {
     "data": {
      "image/png": "[encoded data removed]",
      "text/plain": [
       "<Figure size 432x288 with 1 Axes>"
      ]
     },
     "metadata": {
      "needs_background": "light"
     },
     "output_type": "display_data"
    }
   ],
   "source": [
    "# What is the length of each session?\n",
    "\n",
    "visits['session_duration_sec'] = (visits['end_date'] - visits['start_date']).dt.seconds\n",
    "\n",
    "#length_per_session = visits['session_duration_sec'].mean()\n",
    "length_per_session = visits['session_duration_sec'].median()\n",
    "print(\" The length per session: \" + str(length_per_session.round(decimals=2)) + \" secs\")\n",
    "\n",
    "#plotting\n",
    "plt.hist(visits['session_duration_sec'],range=[0,2500],bins=50)\n",
    "plt.title('Session Distribution')\n",
    "plt.xlabel('length in Secs')\n",
    "plt.ylabel('Number of Sessions')\n",
    "plt.show()"
   ]
  },
  {
   "cell_type": "markdown",
   "metadata": {},
   "source": [
    "### Conclusion:\n",
    "To calculate the length of each session, we calculated the difference of session end date and start date.\n",
    "\n",
    "The average length of per session is 300 secs."
   ]
  },
  {
   "cell_type": "code",
   "execution_count": 52,
   "metadata": {},
   "outputs": [
    {
     "name": "stdout",
     "output_type": "stream",
     "text": [
      "15.86 users come back weekly\n",
      "3.91 users come back monthly\n"
     ]
    },
    {
     "data": {
      "text/plain": [
       "Text(0, 0.5, 'Number of Returning Users')"
      ]
     },
     "execution_count": 52,
     "metadata": {},
     "output_type": "execute_result"
    },
    {
     "data": {
      "image/png": "[encoded data removed]",
      "text/plain": [
       "<Figure size 864x576 with 1 Axes>"
      ]
     },
     "metadata": {
      "needs_background": "light"
     },
     "output_type": "display_data"
    },
    {
     "data": {
      "image/png": "[encoded data removed]",
      "text/plain": [
       "<Figure size 864x576 with 1 Axes>"
      ]
     },
     "metadata": {
      "needs_background": "light"
     },
     "output_type": "display_data"
    }
   ],
   "source": [
    "# 1. Product: How often do users come back (Returning customers)?\n",
    "#ASL\n",
    "# calculate sticky factor metrics\n",
    "sticky_weekly_mean = (dau_mean / wau_mean) * 100\n",
    "print(str(sticky_weekly_mean.round(decimals=2)) + \" users come back weekly\")\n",
    "\n",
    "sticky_monthly_mean = (dau_mean / mau_mean) * 100\n",
    "print(str(sticky_monthly_mean.round(decimals=2)) + \" users come back monthly\")\n",
    "\n",
    "# plotting for weekly sticky factor metrics\n",
    "wau_total['stickyfactor_weekly'] = (dau_mean / wau_total['users']) * 100\n",
    "plt.figure(figsize=(12,8))\n",
    "plt.plot(wau_total['session_week'],wau_total['stickyfactor_weekly'])\n",
    "plt. title(\"Number of Users coming back weekly\")\n",
    "plt. xlabel(\"Weeks\")\n",
    "plt. ylabel(\"Number of Returning Users\")\n",
    "\n",
    "# plotting for monthly sticky factor metrics\n",
    "mau_total['stickyfactor_monthly'] = (dau_mean / mau_total['users']) * 100\n",
    "plt.figure(figsize=(12,8))\n",
    "plt.plot(mau_total['session_month'],mau_total['stickyfactor_monthly'])\n",
    "plt. title(\"Number of Users coming back monthly\")\n",
    "plt. xlabel(\"Months\")\n",
    "plt. ylabel(\"Number of Returning Users\")"
   ]
  },
  {
   "cell_type": "code",
   "execution_count": 53,
   "metadata": {
    "scrolled": true
   },
   "outputs": [
    {
     "data": {
      "image/png": "[encoded data removed]",
      "text/plain": [
       "<Figure size 936x648 with 2 Axes>"
      ]
     },
     "metadata": {
      "needs_background": "light"
     },
     "output_type": "display_data"
    }
   ],
   "source": [
    "#How often do users come back (returning customers)?\n",
    "\n",
    "#Retention rate cohort analysis\n",
    "first_order_date = visits.groupby('user_id').agg({'start_date':'min'}).reset_index()\n",
    "first_order_date.columns = ['user_id','first_order_date']\n",
    "\n",
    "user_visits = visits.merge(first_order_date, on='user_id')\n",
    "#print(user_visits)\n",
    "user_visits['order_month'] = user_visits['start_date'].astype('datetime64[M]')\n",
    "user_visits['first_month'] = user_visits['first_order_date'].astype('datetime64[M]')\n",
    "\n",
    "user_visits['cohort_lifetime'] = ( user_visits['order_month'] - user_visits['first_month'] ) \n",
    "user_visits['cohort_lifetime'] = (user_visits[ 'cohort_lifetime' ] / np.timedelta64(1, 'M')).round().astype(int)\n",
    "\n",
    "cohorts = (user_visits.groupby(['first_month', 'cohort_lifetime']).agg({'user_id': 'nunique'})\\\n",
    "           .reset_index())\n",
    "\n",
    "first_visits_count = cohorts[cohorts['cohort_lifetime'] == 0][['first_month', 'user_id']]\n",
    "first_visits_count = first_visits_count.rename(columns={'user_id': 'cohort_users'}) \n",
    "cohorts = cohorts.merge(first_visits_count, on='first_month')\n",
    "\n",
    "cohorts['retention'] = cohorts['user_id'] / cohorts['cohort_users'] \n",
    "\n",
    "retention_pivot = cohorts.pivot_table(index='first_month',columns='cohort_lifetime',values='retention',aggfunc='sum')\n",
    "plt.figure(figsize=(13, 9))\n",
    "plt.title('Retention Rate Cohort Analysis')\n",
    "sns.heatmap(retention_pivot, annot=True, fmt='.1%', linewidths=1, linecolor='gray')\n",
    "plt.show()"
   ]
  },
  {
   "cell_type": "markdown",
   "metadata": {},
   "source": [
    "#### Conclusion:\n",
    "To calculate how often users come back, we calculated the sticky factor metrics in weeks and months. The sticky factor metric tells how loyal the audience is. \n",
    "\n",
    "Based on sticky factor metric, 16% of users come back weekly whereas 4% of users come back monthly.\n",
    "\n",
    "Based on heatmap above, we can conclude that June 2017 had the highest retention rate of 11 months. After first month, all cohorts retention went down and is less than 10%. May 2018 has the least rention rate.\n",
    "\n"
   ]
  },
  {
   "cell_type": "markdown",
   "metadata": {},
   "source": [
    "### Make Reports and Calculate Sales Metrics:"
   ]
  },
  {
   "cell_type": "code",
   "execution_count": 54,
   "metadata": {},
   "outputs": [
    {
     "data": {
      "image/png": "[encoded data removed]",
      "text/plain": [
       "<Figure size 576x432 with 1 Axes>"
      ]
     },
     "metadata": {
      "needs_background": "light"
     },
     "output_type": "display_data"
    },
    {
     "name": "stdout",
     "output_type": "stream",
     "text": [
      "On average people start buying in 0 minutes\n"
     ]
    }
   ],
   "source": [
    "#2.Sales: When do people start buying?\n",
    "\n",
    "orders['order_month'] = orders['order_date'].astype('datetime64[M]') \n",
    "first_orders = orders.groupby('user_id').agg({'order_month': 'min'}).reset_index()\n",
    "first_orders.columns = ['user_id', 'first_month']\n",
    "\n",
    "user_orders = pd.merge(orders,first_orders, on='user_id')\n",
    "\n",
    "user_orders['duration'] = (user_orders['order_month'] - user_orders['first_month']) / np.timedelta64(1, 'm')\n",
    "user_orders['duration'] = user_orders['duration'].round().astype('int')\n",
    "user_orders['duration'].hist(figsize=(8,6))\n",
    "\n",
    "plt.title('Buying Duration', fontdict={\"size\":14})\n",
    "plt.xlabel('Minutes')\n",
    "plt.ylabel('Frequency')\n",
    "plt.show()\n",
    "print('On average people start buying in '+ str(round(int(user_orders['duration'].mode()))) + ' minutes')"
   ]
  },
  {
   "cell_type": "markdown",
   "metadata": {},
   "source": [
    "### Conclusion:\n",
    "On average people start buying or place their first orders right after (immediately) they login to on the Yandex.afisha. "
   ]
  },
  {
   "cell_type": "code",
   "execution_count": 55,
   "metadata": {
    "scrolled": true
   },
   "outputs": [
    {
     "data": {
      "image/png": "[encoded data removed]",
      "text/plain": [
       "<Figure size 936x648 with 2 Axes>"
      ]
     },
     "metadata": {
      "needs_background": "light"
     },
     "output_type": "display_data"
    }
   ],
   "source": [
    "#2.Sales: How many orders do they make during a given period of time?\n",
    "\n",
    "# get first order month\n",
    "orders['order_date'] = orders['order_date'].astype('datetime64[D]')\n",
    "#print(orders)\n",
    "first_orders = orders.groupby('user_id').agg({'order_date': 'min'}).reset_index()\n",
    "first_orders.columns = ['user_id', 'first_order_date']\n",
    "\n",
    "# merge first orders and orders\n",
    "orders_ = pd.merge(orders,first_orders, on='user_id')\n",
    "#print(orders_)\n",
    "orders_['first_order_month'] = orders_['first_order_date'].astype('datetime64[M]')\n",
    "orders_['order_month'] = orders_['order_date'].astype('datetime64[M]')\n",
    "\n",
    "#print(orders_)\n",
    "monthly_order_bycohorts = orders_.pivot_table(index='first_order_month',\n",
    "                        columns='order_month',\n",
    "                        values='user_id',\n",
    "                        aggfunc='nunique')\n",
    "\n",
    "plt.figure(figsize=(13, 9))\n",
    "sns.heatmap(monthly_order_bycohorts, annot=True, linewidths=.5,fmt = '.1f', linecolor='gray')\n",
    "plt.title('Number of Order per month BY Cohorts')\n",
    "plt.xlabel('Cohort Lifetime')\n",
    "plt.ylabel('First Order Month')\n",
    "plt.show()\n",
    "\n"
   ]
  },
  {
   "cell_type": "markdown",
   "metadata": {},
   "source": [
    "#### Conclusion:\n",
    "On December 2017, Customer made highest orders of 4383. This is followed by October 2017, and November 2017. This is probably holiday shopping. The June,2017 and July,2017 have the least number of orders.It's probability because in summer, people tend to go outside and do summer activities like vacations and beaches. "
   ]
  },
  {
   "cell_type": "code",
   "execution_count": 16,
   "metadata": {},
   "outputs": [
    {
     "name": "stdout",
     "output_type": "stream",
     "text": [
      "Total revenue: 252057.2\n",
      "Average purchase size: 5.0\n"
     ]
    }
   ],
   "source": [
    "#2.Sales:What is the average purchase size?\n",
    "print('Total revenue: '+ str(orders['revenue'].sum().round(decimals=2)))\n",
    "print('Average purchase size: '+ str(orders['revenue'].mean().round(decimals=2)))"
   ]
  },
  {
   "cell_type": "code",
   "execution_count": 58,
   "metadata": {
    "scrolled": false
   },
   "outputs": [
    {
     "data": {
      "image/png": "[encoded data removed]",
      "text/plain": [
       "<Figure size 1080x360 with 2 Axes>"
      ]
     },
     "metadata": {
      "needs_background": "light"
     },
     "output_type": "display_data"
    }
   ],
   "source": [
    "#2.Sales:How much money do they bring? (LTV)\n",
    "\n",
    "orders['order_date'] = pd.to_datetime(orders['order_date'])\n",
    "costs['ad_date'] = pd.to_datetime(costs['ad_date'])\n",
    "\n",
    "orders['order_month'] = orders['order_date'].astype('datetime64[M]')\n",
    "costs['month'] = costs['ad_date'].astype('datetime64[M]')\n",
    "\n",
    "\n",
    "first_orders = orders.groupby('user_id').agg({'order_month': 'min'}).reset_index()\n",
    "first_orders.columns = ['user_id', 'first_order_month']\n",
    "\n",
    "\n",
    "cohort_size  = (\n",
    "    first_orders.groupby('first_order_month').agg({'user_id': 'nunique'}).reset_index()\n",
    ")\n",
    "\n",
    "#cohort_size.columns = ['first_order_month', 'buyers']\n",
    "cohort_size.rename(columns={'user_id': 'buyers'}, inplace=True)\n",
    "\n",
    "user_orders_visit = pd.merge(orders,first_orders, on='user_id')\n",
    "\n",
    "cohorts = (user_orders_visit.groupby(['first_order_month', 'order_month']).agg({'revenue': 'sum'}).reset_index())\n",
    "\n",
    "report = pd.merge(cohort_size, cohorts, on='first_order_month')\n",
    "\n",
    "margin_rate = .5\n",
    "\n",
    "report['grossprofit'] = report['revenue'] * margin_rate\n",
    "report['age'] = (report['order_month'] - report['first_order_month']) / np.timedelta64(1, 'M')\n",
    "report['age'] = report['age'].round().astype('int')\n",
    "report['order_month'] = report['order_month'].dt.month\n",
    "report['ltv'] = report['grossprofit'] / report['buyers']\n",
    "\n",
    "ltv_pivot= report.pivot_table(\n",
    "    index='first_order_month', \n",
    "    columns='age', \n",
    "    values='ltv', \n",
    "    aggfunc='mean').cumsum(axis=1)\n",
    "\n",
    "# Set the figure size\n",
    "# Set the visualization title\n",
    "# Make a heatmap\n",
    "\n",
    "plt.figure(figsize=(15, 5))\n",
    "plt.title('LTV Cohorts Analysis')\n",
    "sns.heatmap(ltv_pivot, annot=True, fmt='.1f');\n",
    "plt.show()\n",
    "\n"
   ]
  },
  {
   "cell_type": "markdown",
   "metadata": {},
   "source": [
    "\n",
    "\n",
    "### Conclusion:\n",
    "LTV (lifetime value) is the total amount of money a customer brings to the company on average by making purchases. It is an estimate of the average revenue that a customer will generate throughout their lifespan as a customer To calculate LTV, we should consider the gross revenue/profit from a buyer per period. To do that, we first grouped the data by 'first_order_month' users and by purchase month 'order_month'. We plotted a pivot table that showed a change in revenue per user by the purchase month and then calculated LTV from that.\n",
    "\n",
    "Based on the heatmap plotted above, June 2017 cohort had the longest duration of age 11(LTV) while September 2017 cohort had the highest LTV 6.72. Cohorts in April, May, June 2018 had the least LTVs.\n"
   ]
  },
  {
   "cell_type": "markdown",
   "metadata": {},
   "source": [
    "### Make Reports and Calculate Marketing Metrics:"
   ]
  },
  {
   "cell_type": "code",
   "execution_count": 62,
   "metadata": {
    "scrolled": true
   },
   "outputs": [
    {
     "name": "stdout",
     "output_type": "stream",
     "text": [
      "Overall amount spent on marketing was $329131.62\n"
     ]
    },
    {
     "data": {
      "image/png": "[encoded data removed]",
      "text/plain": [
       "<Figure size 720x432 with 1 Axes>"
      ]
     },
     "metadata": {
      "needs_background": "light"
     },
     "output_type": "display_data"
    }
   ],
   "source": [
    "#3.Marketing: How much money was spent? Overall/per source/over time\n",
    "\n",
    "\n",
    "# Overall\n",
    "print('Overall amount spent on marketing was $' + str(costs['ad_cost'].sum()))\n",
    "\n",
    "# per source\n",
    "fig, ax = plt.subplots()\n",
    "fig.set_size_inches(10,6)\n",
    "splot=sns.barplot(y='total_cost', x= 'source_id', data=cost_per_source)  \n",
    "ax.set_title('Money Spent per source_id', fontdict={\"size\":14})\n",
    "plt.xlabel('source_id', fontdict={\"size\":14})\n",
    "plt.ylabel('Costs', fontdict={\"size\":14})\n",
    "for p in splot.patches:\n",
    "    splot.annotate(format(p.get_height(), '.2f'), \n",
    "                   (p.get_x() + p.get_width() / 2., p.get_height()), \n",
    "                   ha = 'center', va = 'center', \n",
    "                   xytext= (0, -8), \n",
    "                   textcoords = 'offset points', weight='bold')\n",
    "\n",
    "    \n"
   ]
  },
  {
   "cell_type": "code",
   "execution_count": 63,
   "metadata": {
    "scrolled": true
   },
   "outputs": [
    {
     "data": {
      "image/png": "[encoded data removed]",
      "text/plain": [
       "<Figure size 576x432 with 1 Axes>"
      ]
     },
     "metadata": {
      "needs_background": "light"
     },
     "output_type": "display_data"
    }
   ],
   "source": [
    "# Over time\n",
    "costs['month'] = costs['ad_date'].astype('datetime64[M]')\n",
    "costs_overtime = costs.groupby('month').agg({'ad_cost':'sum'}).reset_index()\n",
    "costs_overtime.columns = ['month','cost']\n",
    "\n",
    "plt.figure(figsize=(8,6))\n",
    "plt.plot(costs_overtime['month'],costs_overtime['cost'])\n",
    "plt.title('Ad Costs Over Time')\n",
    "plt.xlabel('Months')\n",
    "plt.ylabel('Amount Spent ($)')\n",
    "plt.show()"
   ]
  },
  {
   "cell_type": "markdown",
   "metadata": {},
   "source": [
    "### Conclusion:\n",
    "Overall, $329131.62 amount was spent on marketing.There were about 7 different sources recorded. The source that we spent most is source no.3 ( about 141000) whereas spent least on sources 9 and 10."
   ]
  },
  {
   "cell_type": "code",
   "execution_count": 68,
   "metadata": {
    "scrolled": true
   },
   "outputs": [
    {
     "data": {
      "image/png": "[encoded data removed]",
      "text/plain": [
       "<Figure size 720x432 with 1 Axes>"
      ]
     },
     "metadata": {
      "needs_background": "light"
     },
     "output_type": "display_data"
    }
   ],
   "source": [
    "#3.Marketing: How much did customer acquisition from each of the sources cost?\n",
    "\n",
    "#CAC by source\n",
    "\n",
    "User_withsource = visits[['user_id', 'source_id']]\n",
    "\n",
    "User_withsource= User_withsource.drop_duplicates(subset=['user_id'], keep='first')\n",
    "\n",
    "orders_ = orders_.merge(User_withsource, on= 'user_id')\n",
    "#print(orders_)\n",
    "CAC_Cohort = orders_.groupby(['source_id'], as_index=False).agg({'user_id':'nunique'}).rename(columns={'user_id':'buyers', 'source_id': 'source_id'})\n",
    "#print(CAC_Cohort)\n",
    "#print(costs)\n",
    "source_costs = costs.groupby('source_id').agg({'ad_cost': 'sum'}).reset_index()\n",
    "\n",
    "CAC_bySource = CAC_Cohort.merge(source_costs, on='source_id')\n",
    "\n",
    "CAC_bySource['cac'] = CAC_bySource['ad_cost'] / CAC_bySource['buyers']\n",
    "#print(CAC_bySource)\n",
    "\n",
    "fig, ax = plt.subplots()\n",
    "fig.set_size_inches(10,6)\n",
    "splot=sns.barplot(y=\"cac\", x= \"source_id\", data=CAC_bySource.sort_values(ascending =False, by= \"cac\" ))  \n",
    "ax.set_title(\"CAC by Source\", fontdict={\"size\":14})\n",
    "plt.xlabel(\"Source\", fontdict={\"size\":14})\n",
    "plt.ylabel(\"customer aquisition cost\", fontdict={\"size\":14})\n",
    "\n",
    "plt.show()\n"
   ]
  },
  {
   "cell_type": "markdown",
   "metadata": {},
   "source": [
    "### Conclusion:\n",
    "The source with the highest cost is no. 3 whereas no.9 has the least cost. Sources no.1 and no.2 are comparatively having lower costs than platform 3. "
   ]
  },
  {
   "cell_type": "code",
   "execution_count": 69,
   "metadata": {},
   "outputs": [
    {
     "data": {
      "image/png": "[encoded data removed]",
      "text/plain": [
       "<Figure size 936x648 with 2 Axes>"
      ]
     },
     "metadata": {
      "needs_background": "light"
     },
     "output_type": "display_data"
    }
   ],
   "source": [
    "#CAC by month/cohort\n",
    "#print(costs)\n",
    "\n",
    "#Grouping cost by month\n",
    "costs['cost_month'] = costs['ad_date'].astype('datetime64[M]')\n",
    "monthly_costs = costs.groupby('cost_month')['ad_cost'].sum()\n",
    "monthly_costs.head()\n",
    "#print(report)\n",
    "report_ = pd.merge(report, monthly_costs, left_on='first_order_month', right_on='cost_month')\n",
    "#report_.head()\n",
    "\n",
    "report_['cac'] = report_['ad_cost'] / report_['buyers']\n",
    "cac_pivot= report_.pivot_table(\n",
    "    index='first_order_month', \n",
    "    columns='age', \n",
    "    values='cac', \n",
    "    aggfunc='mean')\n",
    "\n",
    "plt.figure(figsize=(13, 9))\n",
    "plt.title('Cohorts Analysis: CAC')\n",
    "sns.heatmap(cac_pivot, annot=True, fmt='.1f', linewidths=1, linecolor='gray')\n",
    "plt.show()"
   ]
  },
  {
   "cell_type": "markdown",
   "metadata": {},
   "source": [
    "### Conclusion:\n",
    "CAC (customer acquisition cost) is the cost of attracting a customer - the money a new customer costs a company. This is calculated as marketing expenses divided by the number of customers.\n",
    "\n",
    "Based on the heatmap plotted above, CAC per month/cohorts shows a uniform but different costs for each cohort.The August 2017 cohort had the highest cost in a given month while the May 2018 cohort had the least.\n"
   ]
  },
  {
   "cell_type": "code",
   "execution_count": 70,
   "metadata": {
    "scrolled": false
   },
   "outputs": [
    {
     "data": {
      "image/png": "[encoded data removed]",
      "text/plain": [
       "<Figure size 936x648 with 2 Axes>"
      ]
     },
     "metadata": {
      "needs_background": "light"
     },
     "output_type": "display_data"
    }
   ],
   "source": [
    "#3.Marketing.(ROI)How worthwhile were the investments?\n",
    "#ROI = LTV / CAC\n",
    "\n",
    "report_['romi'] = report_['ltv'] / report_['cac']\n",
    "\n",
    "output = report_.pivot_table(index='first_order_month', columns='age',values='romi',aggfunc='mean')\n",
    "output = output.cumsum(axis=1).round(2)\n",
    "\n",
    "# Set the figure size\n",
    "# Set the visualization title\n",
    "# Make a heatmap\n",
    "\n",
    "\n",
    "plt.figure(figsize=(13,9))\n",
    "plt.title('ROI per Cohort')\n",
    "sns.heatmap(output, annot=True, fmt='.1f', linewidths=1, linecolor='gray')\n",
    "plt.show()"
   ]
  },
  {
   "cell_type": "markdown",
   "metadata": {},
   "source": [
    "### Conclusion:\n",
    "ROMI (return on marketing investment) is a metric of investment quality for marketing campaigns. Its formula is ROMI of ad campaign = campaign's gross profit/expenses.\n",
    "The conversion rate is the share of people who changed their status within a business process.\n",
    "\n",
    "Based on the heatmap plot above, September 2017 cohort had the highest return on investments, followed by the June 2017 cohort. May 2018 cohort had the lowest return on investments.Overall, none of the cohorts had compensated for the money spent. "
   ]
  },
  {
   "cell_type": "markdown",
   "metadata": {},
   "source": [
    "### Overall Conclusion:\n",
    "On Average, 907.99 customers use Yandex.Afisha every day. The highest visit was on November 24 which was black Friday. Likewise, 5825.29 customers use Yandex.Afisha every week and 23228.42 customers every month.\n",
    "There are about 987 unique sessions per day for Yandex.Afisha. The average length of a session is 300 secs (5 mins). Based on the sticky factor metric, 16% of users come back weekly whereas 4% of users come back monthly. Likewise, June 2017 had the highest retention rate of 11 months. May 2018 has the least retention rate.\n",
    "\n",
    "On average people start buying or place their first orders right after (immediately) they log in to on the Yandex.afisha. They make about .82 orders per month. The average purchase size is about 5.0.\n",
    "\n",
    "The lifetime value, a customer brings to the company varies from 1.71 to 6.72. September 2017 cohort had the highest LTV while cohorts in April, may, June 2018 had the least LTVs.\n",
    "\n",
    "Overall, the amount spent on marketing was $329131.62. CAC (customer acquisition cost) was highest in, August 2017. It's probably because we launched some marketing campaign that month.\n",
    "\n",
    "Based on ROMI plotting, the investments had not been worthwhile. We should come up with a better marketing strategy to compensate for investment expenses.\n"
   ]
  }
 ],
 "metadata": {
  "ExecuteTimeLog": [
   {
    "duration": 137,
    "start_time": "2021-08-02T01:55:31.217Z"
   },
   {
    "duration": 1509,
    "start_time": "2021-08-02T02:24:49.756Z"
   },
   {
    "duration": 863,
    "start_time": "2021-08-02T02:27:59.837Z"
   },
   {
    "duration": 87,
    "start_time": "2021-08-02T02:28:28.950Z"
   },
   {
    "duration": 24,
    "start_time": "2021-08-02T02:29:04.923Z"
   },
   {
    "duration": 2303,
    "start_time": "2021-08-02T17:08:55.250Z"
   },
   {
    "duration": 21,
    "start_time": "2021-08-02T17:09:00.395Z"
   },
   {
    "duration": 69,
    "start_time": "2021-08-02T19:03:07.711Z"
   },
   {
    "duration": 140,
    "start_time": "2021-08-02T19:10:15.335Z"
   },
   {
    "duration": 145,
    "start_time": "2021-08-02T19:19:26.976Z"
   },
   {
    "duration": 77,
    "start_time": "2021-08-02T19:21:31.073Z"
   },
   {
    "duration": 67,
    "start_time": "2021-08-02T19:21:51.149Z"
   },
   {
    "duration": 64,
    "start_time": "2021-08-02T19:22:36.440Z"
   },
   {
    "duration": 67,
    "start_time": "2021-08-02T19:23:06.770Z"
   },
   {
    "duration": 62,
    "start_time": "2021-08-02T19:23:16.084Z"
   },
   {
    "duration": 67,
    "start_time": "2021-08-02T19:29:14.067Z"
   },
   {
    "duration": 68,
    "start_time": "2021-08-02T19:29:30.396Z"
   },
   {
    "duration": 129,
    "start_time": "2021-08-02T19:31:42.845Z"
   },
   {
    "duration": 121,
    "start_time": "2021-08-02T19:32:45.598Z"
   },
   {
    "duration": 170,
    "start_time": "2021-08-02T19:33:12.837Z"
   },
   {
    "duration": 131,
    "start_time": "2021-08-02T19:34:35.350Z"
   },
   {
    "duration": 116,
    "start_time": "2021-08-02T19:39:21.344Z"
   },
   {
    "duration": 68,
    "start_time": "2021-08-02T19:54:29.838Z"
   },
   {
    "duration": 72,
    "start_time": "2021-08-02T19:58:57.164Z"
   },
   {
    "duration": 497,
    "start_time": "2021-08-02T20:25:44.894Z"
   },
   {
    "duration": 493,
    "start_time": "2021-08-02T20:28:29.991Z"
   },
   {
    "duration": 867,
    "start_time": "2021-08-02T20:28:41.384Z"
   },
   {
    "duration": 109,
    "start_time": "2021-08-02T20:28:43.714Z"
   },
   {
    "duration": 18,
    "start_time": "2021-08-02T20:28:45.404Z"
   },
   {
    "duration": 15,
    "start_time": "2021-08-02T20:28:48.849Z"
   },
   {
    "duration": 875,
    "start_time": "2021-08-02T20:28:51.821Z"
   },
   {
    "duration": 69,
    "start_time": "2021-08-02T20:28:55.904Z"
   },
   {
    "duration": 300,
    "start_time": "2021-08-02T20:28:58.428Z"
   },
   {
    "duration": 290,
    "start_time": "2021-08-02T20:34:21.327Z"
   },
   {
    "duration": 113,
    "start_time": "2021-08-02T20:35:08.215Z"
   },
   {
    "duration": 862,
    "start_time": "2021-08-02T20:36:01.828Z"
   },
   {
    "duration": 671,
    "start_time": "2021-08-02T20:36:43.601Z"
   },
   {
    "duration": 752,
    "start_time": "2021-08-02T20:38:19.208Z"
   },
   {
    "duration": 675,
    "start_time": "2021-08-02T20:38:52.544Z"
   },
   {
    "duration": 672,
    "start_time": "2021-08-02T20:39:05.832Z"
   },
   {
    "duration": 106,
    "start_time": "2021-08-02T20:54:00.861Z"
   },
   {
    "duration": 748,
    "start_time": "2021-08-02T20:54:08.608Z"
   },
   {
    "duration": 2050,
    "start_time": "2021-08-02T20:54:27.441Z"
   },
   {
    "duration": 1036,
    "start_time": "2021-08-02T20:55:42.892Z"
   },
   {
    "duration": 750,
    "start_time": "2021-08-02T20:55:56.664Z"
   },
   {
    "duration": 738,
    "start_time": "2021-08-02T20:56:25.544Z"
   },
   {
    "duration": 764,
    "start_time": "2021-08-02T20:56:45.516Z"
   },
   {
    "duration": 500,
    "start_time": "2021-08-02T20:57:04.402Z"
   },
   {
    "duration": 670,
    "start_time": "2021-08-02T20:59:08.631Z"
   },
   {
    "duration": 690,
    "start_time": "2021-08-02T20:59:50.866Z"
   },
   {
    "duration": 2031,
    "start_time": "2021-08-02T21:01:19.893Z"
   },
   {
    "duration": 677,
    "start_time": "2021-08-02T21:02:51.130Z"
   },
   {
    "duration": 283,
    "start_time": "2021-08-02T21:02:55.376Z"
   },
   {
    "duration": 281,
    "start_time": "2021-08-02T21:09:46.000Z"
   },
   {
    "duration": 11244,
    "start_time": "2021-08-02T21:16:06.726Z"
   },
   {
    "duration": 445,
    "start_time": "2021-08-02T21:22:20.004Z"
   },
   {
    "duration": 439,
    "start_time": "2021-08-02T21:22:45.352Z"
   },
   {
    "duration": 1304,
    "start_time": "2021-08-02T21:24:29.077Z"
   },
   {
    "duration": 431,
    "start_time": "2021-08-02T21:28:33.438Z"
   },
   {
    "duration": 348,
    "start_time": "2021-08-02T21:29:19.593Z"
   },
   {
    "duration": 6253,
    "start_time": "2021-08-02T21:29:29.078Z"
   },
   {
    "duration": 453,
    "start_time": "2021-08-02T21:29:46.677Z"
   },
   {
    "duration": 150,
    "start_time": "2021-08-02T21:30:02.531Z"
   },
   {
    "duration": 150,
    "start_time": "2021-08-02T21:30:10.169Z"
   },
   {
    "duration": 758,
    "start_time": "2021-08-02T21:31:59.637Z"
   },
   {
    "duration": 11464,
    "start_time": "2021-08-02T21:34:06.067Z"
   },
   {
    "duration": 12070,
    "start_time": "2021-08-02T21:34:51.469Z"
   },
   {
    "duration": 486,
    "start_time": "2021-08-02T21:37:28.109Z"
   },
   {
    "duration": 6234,
    "start_time": "2021-08-02T21:44:13.456Z"
   },
   {
    "duration": 286,
    "start_time": "2021-08-02T21:45:10.038Z"
   },
   {
    "duration": 340,
    "start_time": "2021-08-02T21:45:36.551Z"
   },
   {
    "duration": 289,
    "start_time": "2021-08-02T21:48:17.108Z"
   },
   {
    "duration": 275,
    "start_time": "2021-08-02T21:48:30.733Z"
   },
   {
    "duration": 395,
    "start_time": "2021-08-02T22:08:16.264Z"
   },
   {
    "duration": 311,
    "start_time": "2021-08-02T22:10:03.161Z"
   },
   {
    "duration": 254,
    "start_time": "2021-08-02T22:10:57.583Z"
   },
   {
    "duration": 3192,
    "start_time": "2021-08-02T22:11:57.076Z"
   },
   {
    "duration": 3144,
    "start_time": "2021-08-02T22:12:10.924Z"
   },
   {
    "duration": 69,
    "start_time": "2021-08-02T22:14:54.965Z"
   },
   {
    "duration": 73,
    "start_time": "2021-08-02T22:30:54.004Z"
   },
   {
    "duration": 123,
    "start_time": "2021-08-02T22:37:30.368Z"
   },
   {
    "duration": 78,
    "start_time": "2021-08-02T22:39:39.850Z"
   },
   {
    "duration": 68,
    "start_time": "2021-08-02T22:40:08.082Z"
   },
   {
    "duration": 84,
    "start_time": "2021-08-02T22:40:32.499Z"
   },
   {
    "duration": 83,
    "start_time": "2021-08-02T22:40:46.772Z"
   },
   {
    "duration": 100,
    "start_time": "2021-08-02T22:43:51.703Z"
   },
   {
    "duration": 82,
    "start_time": "2021-08-02T22:43:58.662Z"
   },
   {
    "duration": 29,
    "start_time": "2021-08-02T22:44:18.596Z"
   },
   {
    "duration": 28,
    "start_time": "2021-08-02T22:44:35.882Z"
   },
   {
    "duration": 29,
    "start_time": "2021-08-02T22:44:46.966Z"
   },
   {
    "duration": 81,
    "start_time": "2021-08-02T22:46:11.549Z"
   },
   {
    "duration": 349,
    "start_time": "2021-08-02T22:46:21.807Z"
   },
   {
    "duration": 260,
    "start_time": "2021-08-02T22:47:43.074Z"
   },
   {
    "duration": 247,
    "start_time": "2021-08-02T22:47:53.350Z"
   },
   {
    "duration": 33,
    "start_time": "2021-08-02T22:48:14.687Z"
   },
   {
    "duration": 527,
    "start_time": "2021-08-02T22:48:41.282Z"
   },
   {
    "duration": 436,
    "start_time": "2021-08-02T22:49:15.843Z"
   },
   {
    "duration": 409,
    "start_time": "2021-08-02T22:49:27.196Z"
   },
   {
    "duration": 464,
    "start_time": "2021-08-02T22:49:46.572Z"
   },
   {
    "duration": 426,
    "start_time": "2021-08-02T22:49:57.944Z"
   },
   {
    "duration": 648,
    "start_time": "2021-08-02T22:50:08.145Z"
   },
   {
    "duration": 438,
    "start_time": "2021-08-02T22:50:16.238Z"
   },
   {
    "duration": 424,
    "start_time": "2021-08-02T22:50:59.277Z"
   },
   {
    "duration": 6,
    "start_time": "2021-08-02T23:48:24.165Z"
   },
   {
    "duration": 464,
    "start_time": "2021-08-02T23:53:15.055Z"
   },
   {
    "duration": 911,
    "start_time": "2021-08-02T23:58:10.667Z"
   },
   {
    "duration": 1009,
    "start_time": "2021-08-03T00:04:57.197Z"
   },
   {
    "duration": 5658,
    "start_time": "2021-08-03T00:24:55.782Z"
   },
   {
    "duration": 5930,
    "start_time": "2021-08-03T00:25:23.160Z"
   },
   {
    "duration": 5611,
    "start_time": "2021-08-03T00:38:45.413Z"
   },
   {
    "duration": 5570,
    "start_time": "2021-08-03T00:39:43.041Z"
   },
   {
    "duration": 5659,
    "start_time": "2021-08-03T00:40:07.680Z"
   },
   {
    "duration": 6134,
    "start_time": "2021-08-03T02:27:18.401Z"
   },
   {
    "duration": 5877,
    "start_time": "2021-08-03T02:28:50.886Z"
   },
   {
    "duration": 6001,
    "start_time": "2021-08-03T02:40:48.328Z"
   },
   {
    "duration": 12205,
    "start_time": "2021-08-03T02:41:13.131Z"
   },
   {
    "duration": 6095,
    "start_time": "2021-08-03T02:51:17.760Z"
   },
   {
    "duration": 12801,
    "start_time": "2021-08-03T03:02:20.235Z"
   },
   {
    "duration": 5995,
    "start_time": "2021-08-03T03:04:42.331Z"
   },
   {
    "duration": 6020,
    "start_time": "2021-08-03T03:11:27.200Z"
   },
   {
    "duration": 6327,
    "start_time": "2021-08-03T03:11:57.224Z"
   },
   {
    "duration": 86,
    "start_time": "2021-08-03T03:17:20.474Z"
   },
   {
    "duration": 5867,
    "start_time": "2021-08-03T03:17:37.361Z"
   },
   {
    "duration": 6190,
    "start_time": "2021-08-03T04:09:30.132Z"
   },
   {
    "duration": 12002,
    "start_time": "2021-08-03T04:10:48.893Z"
   },
   {
    "duration": 11906,
    "start_time": "2021-08-03T04:11:22.483Z"
   },
   {
    "duration": -991,
    "start_time": "2021-08-03T04:12:11.001Z"
   },
   {
    "duration": 11826,
    "start_time": "2021-08-03T04:12:14.540Z"
   },
   {
    "duration": 4686,
    "start_time": "2021-08-03T14:07:08.039Z"
   },
   {
    "duration": 141,
    "start_time": "2021-08-03T14:07:12.728Z"
   },
   {
    "duration": 970,
    "start_time": "2021-08-03T14:07:16.172Z"
   },
   {
    "duration": 903,
    "start_time": "2021-08-03T14:07:27.691Z"
   },
   {
    "duration": 1379,
    "start_time": "2021-08-03T14:07:31.346Z"
   },
   {
    "duration": 605,
    "start_time": "2021-08-03T14:07:34.863Z"
   },
   {
    "duration": 1054,
    "start_time": "2021-08-03T14:08:09.819Z"
   },
   {
    "duration": 16147,
    "start_time": "2021-08-03T14:08:14.883Z"
   },
   {
    "duration": 16003,
    "start_time": "2021-08-03T14:14:51.936Z"
   },
   {
    "duration": 16525,
    "start_time": "2021-08-03T14:20:34.529Z"
   },
   {
    "duration": 17332,
    "start_time": "2021-08-03T14:21:35.212Z"
   },
   {
    "duration": 16789,
    "start_time": "2021-08-03T14:21:58.648Z"
   },
   {
    "duration": 6528,
    "start_time": "2021-08-03T14:28:32.595Z"
   },
   {
    "duration": 6268,
    "start_time": "2021-08-03T14:28:53.372Z"
   },
   {
    "duration": 6563,
    "start_time": "2021-08-03T14:29:54.911Z"
   },
   {
    "duration": 6082,
    "start_time": "2021-08-03T14:30:59.606Z"
   },
   {
    "duration": 6221,
    "start_time": "2021-08-03T14:32:44.950Z"
   },
   {
    "duration": 9,
    "start_time": "2021-08-03T14:38:14.693Z"
   },
   {
    "duration": 383,
    "start_time": "2021-08-03T14:38:59.727Z"
   },
   {
    "duration": 31,
    "start_time": "2021-08-03T14:39:18.456Z"
   },
   {
    "duration": 60,
    "start_time": "2021-08-03T14:45:22.288Z"
   },
   {
    "duration": 9672,
    "start_time": "2021-08-03T14:49:03.386Z"
   },
   {
    "duration": 9106,
    "start_time": "2021-08-03T14:49:58.047Z"
   },
   {
    "duration": 9415,
    "start_time": "2021-08-03T14:57:01.379Z"
   },
   {
    "duration": 10,
    "start_time": "2021-08-03T14:57:53.017Z"
   },
   {
    "duration": 763,
    "start_time": "2021-08-03T15:02:55.206Z"
   },
   {
    "duration": 9,
    "start_time": "2021-08-03T15:03:02.628Z"
   },
   {
    "duration": 692,
    "start_time": "2021-08-03T15:03:22.849Z"
   },
   {
    "duration": 11,
    "start_time": "2021-08-03T15:03:31.003Z"
   },
   {
    "duration": 50,
    "start_time": "2021-08-03T15:03:54.109Z"
   },
   {
    "duration": 500,
    "start_time": "2021-08-03T15:08:07.288Z"
   },
   {
    "duration": 45,
    "start_time": "2021-08-03T15:11:01.641Z"
   },
   {
    "duration": 3449,
    "start_time": "2021-08-03T23:38:44.080Z"
   },
   {
    "duration": 148,
    "start_time": "2021-08-03T23:38:47.532Z"
   },
   {
    "duration": 6427,
    "start_time": "2021-08-03T23:38:57.114Z"
   },
   {
    "duration": 760,
    "start_time": "2021-08-03T23:39:49.916Z"
   },
   {
    "duration": 687,
    "start_time": "2021-08-03T23:39:53.270Z"
   },
   {
    "duration": 47,
    "start_time": "2021-08-03T23:41:04.806Z"
   },
   {
    "duration": 44,
    "start_time": "2021-08-03T23:49:32.529Z"
   },
   {
    "duration": 51,
    "start_time": "2021-08-03T23:57:35.166Z"
   },
   {
    "duration": 343,
    "start_time": "2021-08-04T00:30:51.313Z"
   },
   {
    "duration": 10,
    "start_time": "2021-08-04T00:30:58.382Z"
   },
   {
    "duration": 252,
    "start_time": "2021-08-04T00:32:25.479Z"
   },
   {
    "duration": 5,
    "start_time": "2021-08-04T00:32:50.946Z"
   },
   {
    "duration": 10,
    "start_time": "2021-08-04T00:41:30.335Z"
   },
   {
    "duration": 8,
    "start_time": "2021-08-04T00:41:53.953Z"
   },
   {
    "duration": 281,
    "start_time": "2021-08-04T00:43:20.523Z"
   },
   {
    "duration": 27,
    "start_time": "2021-08-04T00:45:51.983Z"
   },
   {
    "duration": 39,
    "start_time": "2021-08-04T01:14:35.055Z"
   },
   {
    "duration": 258,
    "start_time": "2021-08-04T04:16:54.308Z"
   },
   {
    "duration": 6766,
    "start_time": "2021-08-04T04:17:14.302Z"
   },
   {
    "duration": 6362,
    "start_time": "2021-08-04T04:17:21.606Z"
   },
   {
    "duration": 6304,
    "start_time": "2021-08-04T04:18:08.529Z"
   },
   {
    "duration": 5,
    "start_time": "2021-08-04T04:19:05.546Z"
   },
   {
    "duration": 342,
    "start_time": "2021-08-04T04:19:19.016Z"
   },
   {
    "duration": 591,
    "start_time": "2021-08-04T04:21:23.153Z"
   },
   {
    "duration": 595,
    "start_time": "2021-08-04T04:21:59.970Z"
   },
   {
    "duration": 634,
    "start_time": "2021-08-04T04:22:45.726Z"
   },
   {
    "duration": 329,
    "start_time": "2021-08-04T16:46:18.836Z"
   },
   {
    "duration": 2475,
    "start_time": "2021-08-04T16:46:29.559Z"
   },
   {
    "duration": 148,
    "start_time": "2021-08-04T16:46:32.036Z"
   },
   {
    "duration": 20,
    "start_time": "2021-08-04T16:46:32.187Z"
   },
   {
    "duration": 1090,
    "start_time": "2021-08-04T16:52:42.748Z"
   },
   {
    "duration": 1007,
    "start_time": "2021-08-04T16:52:47.299Z"
   },
   {
    "duration": 597,
    "start_time": "2021-08-04T16:52:52.046Z"
   },
   {
    "duration": 1246,
    "start_time": "2021-08-04T16:52:54.958Z"
   },
   {
    "duration": 6306,
    "start_time": "2021-08-04T16:52:58.387Z"
   },
   {
    "duration": 44,
    "start_time": "2021-08-04T16:53:04.695Z"
   },
   {
    "duration": 399,
    "start_time": "2021-08-04T16:53:04.741Z"
   },
   {
    "duration": 11,
    "start_time": "2021-08-04T16:53:10.804Z"
   },
   {
    "duration": 289,
    "start_time": "2021-08-04T16:53:36.852Z"
   },
   {
    "duration": 6998,
    "start_time": "2021-08-04T16:53:50.096Z"
   },
   {
    "duration": 90,
    "start_time": "2021-08-04T16:54:52.399Z"
   },
   {
    "duration": 305,
    "start_time": "2021-08-04T16:55:06.426Z"
   },
   {
    "duration": 12778,
    "start_time": "2021-08-04T16:55:59.193Z"
   },
   {
    "duration": 12468,
    "start_time": "2021-08-04T16:57:11.285Z"
   },
   {
    "duration": 12481,
    "start_time": "2021-08-04T17:01:54.755Z"
   },
   {
    "duration": 924,
    "start_time": "2021-08-04T17:02:24.842Z"
   },
   {
    "duration": 113,
    "start_time": "2021-08-04T17:02:26.360Z"
   },
   {
    "duration": 20,
    "start_time": "2021-08-04T17:02:28.249Z"
   },
   {
    "duration": 15,
    "start_time": "2021-08-04T17:02:29.928Z"
   },
   {
    "duration": 711,
    "start_time": "2021-08-04T17:02:37.708Z"
   },
   {
    "duration": 32,
    "start_time": "2021-08-04T17:02:40.629Z"
   },
   {
    "duration": 682,
    "start_time": "2021-08-04T17:02:43.631Z"
   },
   {
    "duration": 1305,
    "start_time": "2021-08-04T17:02:46.681Z"
   },
   {
    "duration": 427,
    "start_time": "2021-08-04T17:02:51.278Z"
   },
   {
    "duration": 404,
    "start_time": "2021-08-04T17:02:56.736Z"
   },
   {
    "duration": 1053,
    "start_time": "2021-08-04T17:03:00.512Z"
   },
   {
    "duration": 6067,
    "start_time": "2021-08-04T17:03:04.492Z"
   },
   {
    "duration": 47,
    "start_time": "2021-08-04T17:03:10.561Z"
   },
   {
    "duration": 6,
    "start_time": "2021-08-04T17:03:10.611Z"
   },
   {
    "duration": 203,
    "start_time": "2021-08-04T17:03:23.570Z"
   },
   {
    "duration": 15031,
    "start_time": "2021-08-04T17:03:30.782Z"
   },
   {
    "duration": 293,
    "start_time": "2021-08-04T17:05:13.735Z"
   },
   {
    "duration": 11018,
    "start_time": "2021-08-04T17:10:09.353Z"
   },
   {
    "duration": 7156,
    "start_time": "2021-08-04T17:11:05.761Z"
   },
   {
    "duration": 445,
    "start_time": "2021-08-04T17:13:48.178Z"
   },
   {
    "duration": 312,
    "start_time": "2021-08-04T18:23:35.420Z"
   },
   {
    "duration": 6223,
    "start_time": "2021-08-04T18:29:01.197Z"
   },
   {
    "duration": 6675,
    "start_time": "2021-08-04T18:42:07.096Z"
   },
   {
    "duration": 6214,
    "start_time": "2021-08-04T18:43:53.219Z"
   },
   {
    "duration": 6001,
    "start_time": "2021-08-04T18:49:42.535Z"
   },
   {
    "duration": 331,
    "start_time": "2021-08-04T18:50:52.617Z"
   },
   {
    "duration": 311,
    "start_time": "2021-08-04T18:54:20.459Z"
   },
   {
    "duration": 316,
    "start_time": "2021-08-04T18:57:34.953Z"
   },
   {
    "duration": 371,
    "start_time": "2021-08-04T19:01:15.719Z"
   },
   {
    "duration": 1342,
    "start_time": "2021-08-04T19:02:29.135Z"
   },
   {
    "duration": 1761,
    "start_time": "2021-08-04T19:04:15.668Z"
   },
   {
    "duration": 6988,
    "start_time": "2021-08-04T19:19:11.422Z"
   },
   {
    "duration": 400,
    "start_time": "2021-08-04T19:20:16.836Z"
   },
   {
    "duration": 1210,
    "start_time": "2021-08-04T19:21:13.342Z"
   },
   {
    "duration": 1189,
    "start_time": "2021-08-04T19:22:03.549Z"
   },
   {
    "duration": 642,
    "start_time": "2021-08-04T19:22:28.500Z"
   },
   {
    "duration": 6530,
    "start_time": "2021-08-04T19:24:19.840Z"
   },
   {
    "duration": 373,
    "start_time": "2021-08-04T19:25:54.213Z"
   },
   {
    "duration": 6113,
    "start_time": "2021-08-04T19:27:26.901Z"
   },
   {
    "duration": 6268,
    "start_time": "2021-08-04T19:32:11.380Z"
   },
   {
    "duration": 5878,
    "start_time": "2021-08-04T19:32:39.769Z"
   },
   {
    "duration": 385,
    "start_time": "2021-08-04T19:33:02.039Z"
   },
   {
    "duration": 395,
    "start_time": "2021-08-04T19:36:30.165Z"
   },
   {
    "duration": 2281,
    "start_time": "2021-08-04T19:37:10.662Z"
   },
   {
    "duration": 373,
    "start_time": "2021-08-04T19:38:25.860Z"
   },
   {
    "duration": 393,
    "start_time": "2021-08-04T19:39:31.320Z"
   },
   {
    "duration": 7639,
    "start_time": "2021-08-04T19:39:48.616Z"
   },
   {
    "duration": 6144,
    "start_time": "2021-08-04T19:41:07.809Z"
   },
   {
    "duration": 770,
    "start_time": "2021-08-04T19:41:53.321Z"
   },
   {
    "duration": 677,
    "start_time": "2021-08-04T19:42:53.832Z"
   },
   {
    "duration": 689,
    "start_time": "2021-08-04T19:43:04.225Z"
   },
   {
    "duration": 6592,
    "start_time": "2021-08-04T19:43:29.755Z"
   },
   {
    "duration": 6081,
    "start_time": "2021-08-04T19:45:31.024Z"
   },
   {
    "duration": 6199,
    "start_time": "2021-08-04T19:47:32.039Z"
   },
   {
    "duration": 7550,
    "start_time": "2021-08-04T19:48:25.588Z"
   },
   {
    "duration": 1663,
    "start_time": "2021-08-04T19:51:13.330Z"
   },
   {
    "duration": 1208,
    "start_time": "2021-08-04T19:51:25.748Z"
   },
   {
    "duration": -124,
    "start_time": "2021-08-04T19:54:45.571Z"
   },
   {
    "duration": 1238,
    "start_time": "2021-08-04T19:55:56.152Z"
   },
   {
    "duration": 5,
    "start_time": "2021-08-04T19:57:03.753Z"
   },
   {
    "duration": 671,
    "start_time": "2021-08-04T20:03:16.152Z"
   },
   {
    "duration": 658,
    "start_time": "2021-08-04T20:04:01.540Z"
   },
   {
    "duration": 689,
    "start_time": "2021-08-04T20:04:37.057Z"
   },
   {
    "duration": 673,
    "start_time": "2021-08-04T20:05:09.141Z"
   },
   {
    "duration": 1889,
    "start_time": "2021-08-04T20:20:28.787Z"
   },
   {
    "duration": 1105,
    "start_time": "2021-08-04T21:35:58.513Z"
   },
   {
    "duration": 1179,
    "start_time": "2021-08-04T21:50:43.639Z"
   },
   {
    "duration": 180,
    "start_time": "2021-08-04T21:50:47.284Z"
   },
   {
    "duration": 29,
    "start_time": "2021-08-04T21:50:47.468Z"
   },
   {
    "duration": 445,
    "start_time": "2021-08-04T23:16:55.783Z"
   },
   {
    "duration": 266,
    "start_time": "2021-08-04T23:17:00.405Z"
   },
   {
    "duration": 773,
    "start_time": "2021-08-04T23:17:09.427Z"
   },
   {
    "duration": 4,
    "start_time": "2021-08-04T23:23:49.750Z"
   },
   {
    "duration": 4,
    "start_time": "2021-08-04T23:24:05.240Z"
   },
   {
    "duration": 4,
    "start_time": "2021-08-04T23:24:11.237Z"
   },
   {
    "duration": 4,
    "start_time": "2021-08-04T23:24:19.783Z"
   },
   {
    "duration": 782,
    "start_time": "2021-08-04T23:28:41.717Z"
   },
   {
    "duration": 625,
    "start_time": "2021-08-04T23:38:09.292Z"
   },
   {
    "duration": 436,
    "start_time": "2021-08-04T23:40:42.183Z"
   },
   {
    "duration": 981,
    "start_time": "2021-08-04T23:43:11.943Z"
   },
   {
    "duration": 977,
    "start_time": "2021-08-04T23:43:39.802Z"
   },
   {
    "duration": 7409,
    "start_time": "2021-08-04T23:49:00.803Z"
   },
   {
    "duration": 6155,
    "start_time": "2021-08-04T23:53:37.651Z"
   },
   {
    "duration": 69,
    "start_time": "2021-08-04T23:53:43.808Z"
   },
   {
    "duration": 6194,
    "start_time": "2021-08-04T23:55:10.188Z"
   },
   {
    "duration": 63,
    "start_time": "2021-08-04T23:55:24.666Z"
   },
   {
    "duration": 50,
    "start_time": "2021-08-04T23:55:53.022Z"
   },
   {
    "duration": 5,
    "start_time": "2021-08-04T23:56:02.924Z"
   },
   {
    "duration": 6,
    "start_time": "2021-08-04T23:56:13.501Z"
   },
   {
    "duration": 11056,
    "start_time": "2021-08-04T23:58:24.453Z"
   },
   {
    "duration": 1401,
    "start_time": "2021-08-04T23:59:51.709Z"
   },
   {
    "duration": 114,
    "start_time": "2021-08-05T00:06:22.342Z"
   },
   {
    "duration": 1385,
    "start_time": "2021-08-05T00:06:35.577Z"
   },
   {
    "duration": 2252,
    "start_time": "2021-08-05T03:50:42.091Z"
   },
   {
    "duration": 383,
    "start_time": "2021-08-05T03:50:50.786Z"
   },
   {
    "duration": 699,
    "start_time": "2021-08-05T03:50:55.199Z"
   },
   {
    "duration": 487,
    "start_time": "2021-08-05T03:50:58.467Z"
   },
   {
    "duration": 432,
    "start_time": "2021-08-05T03:51:13.354Z"
   },
   {
    "duration": 9,
    "start_time": "2021-08-05T04:05:03.305Z"
   },
   {
    "duration": 1693,
    "start_time": "2021-08-05T13:53:17.354Z"
   },
   {
    "duration": 108,
    "start_time": "2021-08-05T13:53:45.202Z"
   },
   {
    "duration": 14,
    "start_time": "2021-08-05T13:54:20.856Z"
   },
   {
    "duration": 12,
    "start_time": "2021-08-05T13:55:03.236Z"
   },
   {
    "duration": 298,
    "start_time": "2021-08-05T13:55:25.891Z"
   },
   {
    "duration": 71,
    "start_time": "2021-08-05T13:55:35.761Z"
   },
   {
    "duration": 129,
    "start_time": "2021-08-05T13:55:39.457Z"
   },
   {
    "duration": 527,
    "start_time": "2021-08-05T13:55:46.722Z"
   },
   {
    "duration": 343,
    "start_time": "2021-08-05T13:56:03.226Z"
   },
   {
    "duration": 336,
    "start_time": "2021-08-05T13:56:37.661Z"
   },
   {
    "duration": 263,
    "start_time": "2021-08-05T13:57:03.398Z"
   },
   {
    "duration": 596,
    "start_time": "2021-08-05T13:57:15.532Z"
   },
   {
    "duration": 4794,
    "start_time": "2021-08-05T14:09:35.449Z"
   },
   {
    "duration": 5996,
    "start_time": "2021-08-05T14:10:11.138Z"
   },
   {
    "duration": 510,
    "start_time": "2021-08-05T14:12:15.884Z"
   },
   {
    "duration": 4779,
    "start_time": "2021-08-05T14:13:09.905Z"
   },
   {
    "duration": 4698,
    "start_time": "2021-08-05T14:13:42.154Z"
   },
   {
    "duration": 4939,
    "start_time": "2021-08-05T14:14:05.026Z"
   },
   {
    "duration": 4929,
    "start_time": "2021-08-05T14:14:56.018Z"
   },
   {
    "duration": 193,
    "start_time": "2021-08-05T14:15:16.340Z"
   },
   {
    "duration": 200,
    "start_time": "2021-08-05T14:15:34.815Z"
   },
   {
    "duration": 297,
    "start_time": "2021-08-05T14:18:15.436Z"
   },
   {
    "duration": 4741,
    "start_time": "2021-08-05T14:18:47.227Z"
   },
   {
    "duration": 663,
    "start_time": "2021-08-05T14:19:09.531Z"
   },
   {
    "duration": 277,
    "start_time": "2021-08-05T14:19:15.004Z"
   },
   {
    "duration": 890,
    "start_time": "2021-08-05T14:20:12.037Z"
   },
   {
    "duration": 4574,
    "start_time": "2021-08-05T14:20:32.775Z"
   },
   {
    "duration": 444,
    "start_time": "2021-08-05T14:21:01.605Z"
   },
   {
    "duration": 200,
    "start_time": "2021-08-05T14:21:18.052Z"
   },
   {
    "duration": 6591,
    "start_time": "2021-08-05T14:21:50.970Z"
   },
   {
    "duration": 4735,
    "start_time": "2021-08-05T14:22:15.150Z"
   },
   {
    "duration": 5471,
    "start_time": "2021-08-05T14:23:34.333Z"
   },
   {
    "duration": 661,
    "start_time": "2021-08-05T14:24:09.396Z"
   },
   {
    "duration": 262,
    "start_time": "2021-08-05T14:24:17.017Z"
   },
   {
    "duration": 554,
    "start_time": "2021-08-05T14:24:21.204Z"
   },
   {
    "duration": 343,
    "start_time": "2021-08-05T14:24:24.900Z"
   },
   {
    "duration": 427,
    "start_time": "2021-08-05T14:24:39.352Z"
   },
   {
    "duration": 190,
    "start_time": "2021-08-05T14:24:45.429Z"
   },
   {
    "duration": 4,
    "start_time": "2021-08-05T14:28:18.230Z"
   },
   {
    "duration": 199,
    "start_time": "2021-08-05T14:36:06.125Z"
   },
   {
    "duration": 219,
    "start_time": "2021-08-05T14:36:35.938Z"
   },
   {
    "duration": 871,
    "start_time": "2021-08-05T14:50:48.467Z"
   },
   {
    "duration": 937,
    "start_time": "2021-08-05T14:54:18.091Z"
   },
   {
    "duration": 877,
    "start_time": "2021-08-05T14:54:53.467Z"
   },
   {
    "duration": 852,
    "start_time": "2021-08-05T14:55:44.383Z"
   },
   {
    "duration": 285,
    "start_time": "2021-08-05T14:59:24.284Z"
   },
   {
    "duration": 8,
    "start_time": "2021-08-05T15:22:33.696Z"
   },
   {
    "duration": 16,
    "start_time": "2021-08-05T15:24:01.175Z"
   },
   {
    "duration": 192,
    "start_time": "2021-08-05T15:30:34.832Z"
   },
   {
    "duration": 270,
    "start_time": "2021-08-05T15:30:52.247Z"
   },
   {
    "duration": 191,
    "start_time": "2021-08-05T15:31:26.463Z"
   },
   {
    "duration": 220,
    "start_time": "2021-08-05T15:31:35.985Z"
   },
   {
    "duration": 192,
    "start_time": "2021-08-05T15:31:50.831Z"
   },
   {
    "duration": 27,
    "start_time": "2021-08-05T15:32:14.801Z"
   },
   {
    "duration": 20,
    "start_time": "2021-08-05T15:32:33.339Z"
   },
   {
    "duration": 7044,
    "start_time": "2021-08-05T15:34:10.865Z"
   },
   {
    "duration": 898,
    "start_time": "2021-08-05T15:35:28.544Z"
   },
   {
    "duration": 646,
    "start_time": "2021-08-05T15:36:36.027Z"
   },
   {
    "duration": 798,
    "start_time": "2021-08-05T15:37:04.370Z"
   },
   {
    "duration": 723,
    "start_time": "2021-08-05T15:38:02.991Z"
   },
   {
    "duration": 2260,
    "start_time": "2021-08-06T00:47:21.798Z"
   },
   {
    "duration": 143,
    "start_time": "2021-08-06T00:47:24.061Z"
   },
   {
    "duration": 18,
    "start_time": "2021-08-06T00:47:24.207Z"
   },
   {
    "duration": 43,
    "start_time": "2021-08-06T00:47:24.227Z"
   },
   {
    "duration": 389,
    "start_time": "2021-08-06T00:47:28.959Z"
   },
   {
    "duration": 709,
    "start_time": "2021-08-06T00:47:33.033Z"
   },
   {
    "duration": 125,
    "start_time": "2021-08-06T00:50:34.199Z"
   },
   {
    "duration": 676,
    "start_time": "2021-08-06T00:50:52.711Z"
   },
   {
    "duration": 500,
    "start_time": "2021-08-06T00:52:05.191Z"
   },
   {
    "duration": 443,
    "start_time": "2021-08-06T00:52:15.975Z"
   },
   {
    "duration": 900,
    "start_time": "2021-08-06T00:52:24.375Z"
   },
   {
    "duration": 214,
    "start_time": "2021-08-06T00:52:39.289Z"
   },
   {
    "duration": 34,
    "start_time": "2021-08-06T00:52:55.351Z"
   },
   {
    "duration": 1265,
    "start_time": "2021-08-06T00:53:04.456Z"
   },
   {
    "duration": 1369,
    "start_time": "2021-08-06T00:55:40.255Z"
   },
   {
    "duration": 701,
    "start_time": "2021-08-06T00:57:00.223Z"
   },
   {
    "duration": 1258,
    "start_time": "2021-08-06T02:14:34.531Z"
   },
   {
    "duration": 100,
    "start_time": "2021-08-06T03:24:22.154Z"
   },
   {
    "duration": 84,
    "start_time": "2021-08-06T03:26:43.452Z"
   },
   {
    "duration": 1220,
    "start_time": "2021-08-06T03:27:17.223Z"
   },
   {
    "duration": 1229,
    "start_time": "2021-08-06T03:27:37.078Z"
   },
   {
    "duration": 1219,
    "start_time": "2021-08-06T04:18:03.474Z"
   },
   {
    "duration": 1612,
    "start_time": "2021-08-08T23:06:13.568Z"
   },
   {
    "duration": 99,
    "start_time": "2021-08-08T23:06:15.182Z"
   },
   {
    "duration": 13,
    "start_time": "2021-08-08T23:06:15.291Z"
   },
   {
    "duration": 10,
    "start_time": "2021-08-08T23:06:15.306Z"
   },
   {
    "duration": 297,
    "start_time": "2021-08-08T23:06:15.318Z"
   },
   {
    "duration": 131,
    "start_time": "2021-08-08T23:06:15.617Z"
   },
   {
    "duration": 460,
    "start_time": "2021-08-08T23:06:15.749Z"
   },
   {
    "duration": 700,
    "start_time": "2021-08-08T23:06:16.212Z"
   },
   {
    "duration": 297,
    "start_time": "2021-08-08T23:06:16.914Z"
   },
   {
    "duration": 227,
    "start_time": "2021-08-08T23:06:17.213Z"
   },
   {
    "duration": 481,
    "start_time": "2021-08-08T23:06:17.442Z"
   },
   {
    "duration": 150,
    "start_time": "2021-08-08T23:06:17.925Z"
   },
   {
    "duration": 28,
    "start_time": "2021-08-08T23:06:18.077Z"
   },
   {
    "duration": 4,
    "start_time": "2021-08-08T23:06:18.106Z"
   },
   {
    "duration": 807,
    "start_time": "2021-08-08T23:06:18.112Z"
   },
   {
    "duration": 348,
    "start_time": "2021-08-08T23:06:18.920Z"
   },
   {
    "duration": 314,
    "start_time": "2021-08-08T23:06:19.269Z"
   },
   {
    "duration": -92,
    "start_time": "2021-08-08T23:06:19.677Z"
   },
   {
    "duration": 2210,
    "start_time": "2021-08-08T23:28:56.742Z"
   },
   {
    "duration": 146,
    "start_time": "2021-08-08T23:29:01.397Z"
   },
   {
    "duration": 22,
    "start_time": "2021-08-08T23:29:05.228Z"
   },
   {
    "duration": 18,
    "start_time": "2021-08-08T23:29:09.042Z"
   },
   {
    "duration": 379,
    "start_time": "2021-08-08T23:29:12.248Z"
   },
   {
    "duration": 214,
    "start_time": "2021-08-08T23:29:20.888Z"
   },
   {
    "duration": 650,
    "start_time": "2021-08-08T23:29:24.164Z"
   },
   {
    "duration": 487,
    "start_time": "2021-08-08T23:29:33.735Z"
   },
   {
    "duration": 428,
    "start_time": "2021-08-08T23:29:39.942Z"
   },
   {
    "duration": 847,
    "start_time": "2021-08-08T23:29:45.077Z"
   },
   {
    "duration": 228,
    "start_time": "2021-08-08T23:29:50.368Z"
   },
   {
    "duration": 34,
    "start_time": "2021-08-08T23:29:54.328Z"
   },
   {
    "duration": 5,
    "start_time": "2021-08-08T23:29:57.888Z"
   },
   {
    "duration": 1223,
    "start_time": "2021-08-08T23:30:01.011Z"
   },
   {
    "duration": 620,
    "start_time": "2021-08-08T23:30:07.454Z"
   },
   {
    "duration": 474,
    "start_time": "2021-08-08T23:31:34.350Z"
   },
   {
    "duration": 363,
    "start_time": "2021-08-08T23:31:46.804Z"
   },
   {
    "duration": 376,
    "start_time": "2021-08-08T23:32:13.163Z"
   },
   {
    "duration": 357,
    "start_time": "2021-08-08T23:32:25.450Z"
   },
   {
    "duration": 871,
    "start_time": "2021-08-08T23:34:16.773Z"
   },
   {
    "duration": 1123,
    "start_time": "2021-08-08T23:34:38.637Z"
   },
   {
    "duration": 715,
    "start_time": "2021-08-08T23:38:11.443Z"
   },
   {
    "duration": 355,
    "start_time": "2021-08-08T23:38:32.178Z"
   },
   {
    "duration": 348,
    "start_time": "2021-08-08T23:38:46.529Z"
   },
   {
    "duration": 687,
    "start_time": "2021-08-09T00:02:43.447Z"
   },
   {
    "duration": 696,
    "start_time": "2021-08-09T00:02:55.666Z"
   },
   {
    "duration": 761,
    "start_time": "2021-08-09T00:04:28.347Z"
   },
   {
    "duration": 110,
    "start_time": "2021-08-09T00:04:32.322Z"
   },
   {
    "duration": 19,
    "start_time": "2021-08-09T00:04:35.562Z"
   },
   {
    "duration": 19,
    "start_time": "2021-08-09T00:04:41.421Z"
   },
   {
    "duration": 338,
    "start_time": "2021-08-09T00:04:44.551Z"
   },
   {
    "duration": 207,
    "start_time": "2021-08-09T00:05:00.720Z"
   },
   {
    "duration": 659,
    "start_time": "2021-08-09T00:05:05.754Z"
   },
   {
    "duration": 637,
    "start_time": "2021-08-09T00:05:19.835Z"
   },
   {
    "duration": 396,
    "start_time": "2021-08-09T00:05:25.025Z"
   },
   {
    "duration": 860,
    "start_time": "2021-08-09T00:05:28.930Z"
   },
   {
    "duration": 217,
    "start_time": "2021-08-09T00:05:34.513Z"
   },
   {
    "duration": 33,
    "start_time": "2021-08-09T00:05:37.175Z"
   },
   {
    "duration": 6,
    "start_time": "2021-08-09T00:05:38.065Z"
   },
   {
    "duration": 1192,
    "start_time": "2021-08-09T00:05:39.497Z"
   },
   {
    "duration": 725,
    "start_time": "2021-08-09T00:05:55.351Z"
   },
   {
    "duration": 1157,
    "start_time": "2021-08-09T00:06:01.823Z"
   },
   {
    "duration": 422,
    "start_time": "2021-08-09T00:41:27.378Z"
   },
   {
    "duration": 703,
    "start_time": "2021-08-09T01:10:45.321Z"
   },
   {
    "duration": 116,
    "start_time": "2021-08-09T01:10:47.367Z"
   },
   {
    "duration": 18,
    "start_time": "2021-08-09T01:10:49.071Z"
   },
   {
    "duration": 338,
    "start_time": "2021-08-09T01:10:54.429Z"
   },
   {
    "duration": 186,
    "start_time": "2021-08-09T01:10:56.901Z"
   },
   {
    "duration": 125,
    "start_time": "2021-08-09T01:10:59.432Z"
   },
   {
    "duration": 1265,
    "start_time": "2021-08-09T01:13:33.601Z"
   },
   {
    "duration": 1007,
    "start_time": "2021-08-09T01:17:00.632Z"
   },
   {
    "duration": 867,
    "start_time": "2021-08-09T01:17:22.657Z"
   },
   {
    "duration": 846,
    "start_time": "2021-08-09T01:22:10.947Z"
   },
   {
    "duration": 116,
    "start_time": "2021-08-09T01:22:49.021Z"
   },
   {
    "duration": 119,
    "start_time": "2021-08-09T01:23:11.634Z"
   },
   {
    "duration": 131,
    "start_time": "2021-08-09T01:23:24.722Z"
   },
   {
    "duration": 463,
    "start_time": "2021-08-09T01:23:34.130Z"
   },
   {
    "duration": 445,
    "start_time": "2021-08-09T01:24:10.195Z"
   },
   {
    "duration": 586,
    "start_time": "2021-08-09T01:24:30.587Z"
   },
   {
    "duration": 424,
    "start_time": "2021-08-09T01:24:37.780Z"
   },
   {
    "duration": 839,
    "start_time": "2021-08-09T01:24:46.538Z"
   },
   {
    "duration": 8810,
    "start_time": "2021-08-09T01:26:35.613Z"
   },
   {
    "duration": 768,
    "start_time": "2021-08-09T01:27:06.292Z"
   },
   {
    "duration": 208,
    "start_time": "2021-08-09T01:29:56.846Z"
   },
   {
    "duration": 35,
    "start_time": "2021-08-09T01:30:00.700Z"
   },
   {
    "duration": 5,
    "start_time": "2021-08-09T01:30:04.688Z"
   },
   {
    "duration": 7,
    "start_time": "2021-08-09T02:06:47.405Z"
   },
   {
    "duration": 427,
    "start_time": "2021-08-09T02:19:27.425Z"
   },
   {
    "duration": 428,
    "start_time": "2021-08-09T02:19:45.043Z"
   },
   {
    "duration": 1121,
    "start_time": "2021-08-09T02:19:58.916Z"
   },
   {
    "duration": 658,
    "start_time": "2021-08-09T02:20:57.048Z"
   },
   {
    "duration": 359,
    "start_time": "2021-08-09T02:22:36.592Z"
   },
   {
    "duration": 361,
    "start_time": "2021-08-09T02:23:26.018Z"
   },
   {
    "duration": 8612,
    "start_time": "2021-08-09T02:29:22.364Z"
   },
   {
    "duration": 8428,
    "start_time": "2021-08-09T02:30:27.870Z"
   },
   {
    "duration": 352,
    "start_time": "2021-08-09T02:32:26.361Z"
   },
   {
    "duration": 353,
    "start_time": "2021-08-09T02:33:18.059Z"
   },
   {
    "duration": 357,
    "start_time": "2021-08-09T02:33:34.737Z"
   },
   {
    "duration": 349,
    "start_time": "2021-08-09T02:35:45.096Z"
   },
   {
    "duration": 368,
    "start_time": "2021-08-09T02:36:11.068Z"
   },
   {
    "duration": 349,
    "start_time": "2021-08-09T02:37:07.152Z"
   },
   {
    "duration": 362,
    "start_time": "2021-08-09T02:37:15.814Z"
   },
   {
    "duration": 360,
    "start_time": "2021-08-09T02:39:00.730Z"
   },
   {
    "duration": 666,
    "start_time": "2021-08-09T02:40:02.039Z"
   },
   {
    "duration": 369,
    "start_time": "2021-08-09T02:42:28.489Z"
   },
   {
    "duration": 8387,
    "start_time": "2021-08-09T02:42:40.324Z"
   },
   {
    "duration": 660,
    "start_time": "2021-08-09T02:44:27.240Z"
   },
   {
    "duration": 9273,
    "start_time": "2021-08-09T02:45:08.912Z"
   },
   {
    "duration": 732,
    "start_time": "2021-08-09T02:48:05.172Z"
   },
   {
    "duration": 8282,
    "start_time": "2021-08-09T02:48:20.005Z"
   },
   {
    "duration": 701,
    "start_time": "2021-08-09T02:48:58.989Z"
   },
   {
    "duration": 347,
    "start_time": "2021-08-09T02:53:32.147Z"
   },
   {
    "duration": 8278,
    "start_time": "2021-08-09T02:54:04.889Z"
   },
   {
    "duration": 1358,
    "start_time": "2021-08-09T02:54:30.100Z"
   },
   {
    "duration": 356,
    "start_time": "2021-08-09T03:01:44.801Z"
   },
   {
    "duration": 491,
    "start_time": "2021-08-09T03:03:22.464Z"
   },
   {
    "duration": 361,
    "start_time": "2021-08-09T03:03:49.341Z"
   },
   {
    "duration": 386,
    "start_time": "2021-08-09T03:04:18.824Z"
   },
   {
    "duration": 382,
    "start_time": "2021-08-09T03:04:35.981Z"
   },
   {
    "duration": 1021,
    "start_time": "2021-08-09T03:05:13.373Z"
   },
   {
    "duration": 378,
    "start_time": "2021-08-09T03:06:35.445Z"
   },
   {
    "duration": 8987,
    "start_time": "2021-08-09T03:06:54.464Z"
   },
   {
    "duration": 625,
    "start_time": "2021-08-09T03:07:36.259Z"
   },
   {
    "duration": 629,
    "start_time": "2021-08-09T03:12:16.972Z"
   },
   {
    "duration": 650,
    "start_time": "2021-08-09T03:13:02.653Z"
   },
   {
    "duration": 676,
    "start_time": "2021-08-09T03:13:36.260Z"
   },
   {
    "duration": 4367,
    "start_time": "2021-08-09T03:14:27.901Z"
   },
   {
    "duration": 4605,
    "start_time": "2021-08-09T03:14:49.205Z"
   },
   {
    "duration": 4474,
    "start_time": "2021-08-09T03:15:21.391Z"
   },
   {
    "duration": 654,
    "start_time": "2021-08-09T03:15:32.453Z"
   },
   {
    "duration": 733,
    "start_time": "2021-08-09T03:16:04.982Z"
   },
   {
    "duration": 388,
    "start_time": "2021-08-09T03:45:26.420Z"
   },
   {
    "duration": 1028,
    "start_time": "2021-08-09T03:50:06.237Z"
   },
   {
    "duration": 752,
    "start_time": "2021-08-09T03:55:18.588Z"
   },
   {
    "duration": 109,
    "start_time": "2021-08-09T03:55:22.731Z"
   },
   {
    "duration": 19,
    "start_time": "2021-08-09T03:55:56.652Z"
   },
   {
    "duration": 21,
    "start_time": "2021-08-09T03:56:03.308Z"
   },
   {
    "duration": 18,
    "start_time": "2021-08-09T03:56:06.227Z"
   },
   {
    "duration": 357,
    "start_time": "2021-08-09T03:56:10.196Z"
   },
   {
    "duration": 849,
    "start_time": "2021-08-09T03:56:22.364Z"
   },
   {
    "duration": 1657,
    "start_time": "2021-08-09T15:28:18.274Z"
   },
   {
    "duration": 102,
    "start_time": "2021-08-09T15:28:20.347Z"
   },
   {
    "duration": 95,
    "start_time": "2021-08-09T15:29:19.864Z"
   },
   {
    "duration": 14,
    "start_time": "2021-08-09T15:29:22.481Z"
   },
   {
    "duration": 11,
    "start_time": "2021-08-09T15:29:25.304Z"
   },
   {
    "duration": 292,
    "start_time": "2021-08-09T15:29:30.191Z"
   },
   {
    "duration": 130,
    "start_time": "2021-08-09T15:29:34.016Z"
   },
   {
    "duration": 561,
    "start_time": "2021-08-09T15:29:36.648Z"
   },
   {
    "duration": 284,
    "start_time": "2021-08-09T15:29:41.759Z"
   },
   {
    "duration": 302,
    "start_time": "2021-08-09T15:32:56.082Z"
   },
   {
    "duration": 370,
    "start_time": "2021-08-09T15:33:02.747Z"
   },
   {
    "duration": 312,
    "start_time": "2021-08-09T15:56:44.443Z"
   },
   {
    "duration": 277,
    "start_time": "2021-08-09T15:57:07.775Z"
   },
   {
    "duration": 289,
    "start_time": "2021-08-09T15:57:12.874Z"
   },
   {
    "duration": 441,
    "start_time": "2021-08-09T15:57:21.706Z"
   },
   {
    "duration": 131,
    "start_time": "2021-08-09T15:58:40.122Z"
   },
   {
    "duration": 22,
    "start_time": "2021-08-09T15:58:43.114Z"
   },
   {
    "duration": 5,
    "start_time": "2021-08-09T15:58:46.026Z"
   },
   {
    "duration": 823,
    "start_time": "2021-08-09T15:58:49.092Z"
   },
   {
    "duration": 354,
    "start_time": "2021-08-09T16:14:19.225Z"
   },
   {
    "duration": 422,
    "start_time": "2021-08-09T16:14:45.146Z"
   },
   {
    "duration": 256,
    "start_time": "2021-08-09T16:16:33.804Z"
   },
   {
    "duration": 257,
    "start_time": "2021-08-09T16:22:52.025Z"
   },
   {
    "duration": 413,
    "start_time": "2021-08-09T16:23:31.028Z"
   },
   {
    "duration": 276,
    "start_time": "2021-08-09T16:23:36.107Z"
   },
   {
    "duration": 714,
    "start_time": "2021-08-09T16:25:59.327Z"
   },
   {
    "duration": 355,
    "start_time": "2021-08-09T16:26:05.628Z"
   },
   {
    "duration": 400,
    "start_time": "2021-08-09T16:26:09.964Z"
   },
   {
    "duration": 430,
    "start_time": "2021-08-09T16:26:14.106Z"
   },
   {
    "duration": 400,
    "start_time": "2021-08-09T16:28:17.357Z"
   },
   {
    "duration": 783,
    "start_time": "2021-08-09T16:29:13.485Z"
   },
   {
    "duration": 407,
    "start_time": "2021-08-09T16:29:35.365Z"
   },
   {
    "duration": 414,
    "start_time": "2021-08-09T16:30:00.778Z"
   },
   {
    "duration": 583,
    "start_time": "2021-08-09T16:30:39.750Z"
   },
   {
    "duration": 405,
    "start_time": "2021-08-09T16:30:50.648Z"
   },
   {
    "duration": 253,
    "start_time": "2021-08-09T16:38:33.961Z"
   },
   {
    "duration": 318,
    "start_time": "2021-08-09T16:39:07.135Z"
   },
   {
    "duration": 685,
    "start_time": "2021-08-09T16:39:14.096Z"
   },
   {
    "duration": 471,
    "start_time": "2021-08-09T16:40:23.602Z"
   },
   {
    "duration": 566,
    "start_time": "2021-08-09T17:17:04.040Z"
   },
   {
    "duration": 80,
    "start_time": "2021-08-09T17:17:06.164Z"
   },
   {
    "duration": 237,
    "start_time": "2021-08-09T17:17:10.307Z"
   },
   {
    "duration": 562,
    "start_time": "2021-08-09T17:17:14.943Z"
   },
   {
    "duration": 374,
    "start_time": "2021-08-09T17:17:18.535Z"
   },
   {
    "duration": 276,
    "start_time": "2021-08-09T17:17:22.218Z"
   },
   {
    "duration": 299,
    "start_time": "2021-08-09T17:17:52.836Z"
   },
   {
    "duration": 248,
    "start_time": "2021-08-09T17:17:57.346Z"
   },
   {
    "duration": 475,
    "start_time": "2021-08-09T17:18:01.384Z"
   },
   {
    "duration": 129,
    "start_time": "2021-08-09T17:18:07.217Z"
   },
   {
    "duration": 23,
    "start_time": "2021-08-09T17:18:09.681Z"
   },
   {
    "duration": 5,
    "start_time": "2021-08-09T17:18:12.430Z"
   },
   {
    "duration": 720,
    "start_time": "2021-08-09T17:18:14.487Z"
   },
   {
    "duration": 351,
    "start_time": "2021-08-09T17:19:52.367Z"
   },
   {
    "duration": 556,
    "start_time": "2021-08-09T17:24:26.082Z"
   },
   {
    "duration": 82,
    "start_time": "2021-08-09T17:24:28.381Z"
   },
   {
    "duration": 13,
    "start_time": "2021-08-09T17:24:29.719Z"
   },
   {
    "duration": 11,
    "start_time": "2021-08-09T17:24:33.938Z"
   },
   {
    "duration": 242,
    "start_time": "2021-08-09T17:24:38.004Z"
   },
   {
    "duration": 114,
    "start_time": "2021-08-09T17:24:39.066Z"
   },
   {
    "duration": 553,
    "start_time": "2021-08-09T17:24:42.640Z"
   },
   {
    "duration": 274,
    "start_time": "2021-08-09T17:24:45.656Z"
   },
   {
    "duration": 391,
    "start_time": "2021-08-09T17:24:48.915Z"
   },
   {
    "duration": 245,
    "start_time": "2021-08-09T17:24:54.250Z"
   },
   {
    "duration": 428,
    "start_time": "2021-08-09T17:24:57.296Z"
   },
   {
    "duration": 142,
    "start_time": "2021-08-09T17:25:01.473Z"
   },
   {
    "duration": 26,
    "start_time": "2021-08-09T17:25:03.817Z"
   },
   {
    "duration": 5,
    "start_time": "2021-08-09T17:25:07.437Z"
   },
   {
    "duration": 825,
    "start_time": "2021-08-09T17:25:09.202Z"
   },
   {
    "duration": 359,
    "start_time": "2021-08-09T17:25:13.695Z"
   },
   {
    "duration": 429,
    "start_time": "2021-08-09T17:25:16.715Z"
   },
   {
    "duration": 443,
    "start_time": "2021-08-09T17:25:20.185Z"
   },
   {
    "duration": 2196,
    "start_time": "2021-08-10T15:06:24.842Z"
   },
   {
    "duration": 139,
    "start_time": "2021-08-10T15:06:27.041Z"
   },
   {
    "duration": 41,
    "start_time": "2021-08-10T15:06:27.185Z"
   },
   {
    "duration": 22,
    "start_time": "2021-08-10T15:06:27.229Z"
   },
   {
    "duration": 418,
    "start_time": "2021-08-10T15:06:27.253Z"
   },
   {
    "duration": 242,
    "start_time": "2021-08-10T15:06:27.673Z"
   },
   {
    "duration": 495,
    "start_time": "2021-08-10T15:06:27.917Z"
   },
   {
    "duration": 436,
    "start_time": "2021-08-10T15:06:28.415Z"
   },
   {
    "duration": 496,
    "start_time": "2021-08-10T15:06:28.855Z"
   },
   {
    "duration": 479,
    "start_time": "2021-08-10T15:06:29.354Z"
   },
   {
    "duration": 498,
    "start_time": "2021-08-10T15:06:29.836Z"
   },
   {
    "duration": 435,
    "start_time": "2021-08-10T15:06:30.337Z"
   },
   {
    "duration": 818,
    "start_time": "2021-08-10T15:06:30.775Z"
   },
   {
    "duration": 258,
    "start_time": "2021-08-10T15:06:31.596Z"
   },
   {
    "duration": 46,
    "start_time": "2021-08-10T15:06:31.857Z"
   },
   {
    "duration": 7,
    "start_time": "2021-08-10T15:06:31.906Z"
   },
   {
    "duration": 1313,
    "start_time": "2021-08-10T15:06:31.915Z"
   },
   {
    "duration": 692,
    "start_time": "2021-08-10T15:06:33.231Z"
   },
   {
    "duration": 683,
    "start_time": "2021-08-10T15:06:33.925Z"
   },
   {
    "duration": 721,
    "start_time": "2021-08-10T15:06:34.611Z"
   },
   {
    "duration": 306,
    "start_time": "2021-08-10T15:15:12.494Z"
   },
   {
    "duration": 327,
    "start_time": "2021-08-10T15:15:15.767Z"
   },
   {
    "duration": 257,
    "start_time": "2021-08-10T18:41:55.926Z"
   },
   {
    "duration": 305,
    "start_time": "2021-08-10T18:42:02.374Z"
   },
   {
    "duration": 1616,
    "start_time": "2021-08-10T18:42:08.465Z"
   },
   {
    "duration": 261,
    "start_time": "2021-08-10T18:42:14.629Z"
   },
   {
    "duration": 26,
    "start_time": "2021-08-10T18:42:16.934Z"
   },
   {
    "duration": 89,
    "start_time": "2021-08-10T18:42:19.305Z"
   },
   {
    "duration": 189,
    "start_time": "2021-08-10T18:54:57.385Z"
   },
   {
    "duration": 223,
    "start_time": "2021-08-10T18:55:18.950Z"
   },
   {
    "duration": 285,
    "start_time": "2021-08-10T18:55:36.018Z"
   },
   {
    "duration": 277,
    "start_time": "2021-08-10T18:55:44.887Z"
   },
   {
    "duration": 385,
    "start_time": "2021-08-10T18:57:16.736Z"
   },
   {
    "duration": 281,
    "start_time": "2021-08-10T19:05:32.982Z"
   },
   {
    "duration": 184,
    "start_time": "2021-08-10T19:06:54.271Z"
   },
   {
    "duration": 179,
    "start_time": "2021-08-10T19:07:51.077Z"
   },
   {
    "duration": 81,
    "start_time": "2021-08-10T19:10:08.996Z"
   },
   {
    "duration": 283,
    "start_time": "2021-08-10T19:10:18.171Z"
   },
   {
    "duration": 299,
    "start_time": "2021-08-10T19:10:33.976Z"
   },
   {
    "duration": 820,
    "start_time": "2021-08-10T19:11:28.662Z"
   },
   {
    "duration": 418,
    "start_time": "2021-08-10T19:11:35.468Z"
   },
   {
    "duration": 87,
    "start_time": "2021-08-10T19:11:38.934Z"
   },
   {
    "duration": 275,
    "start_time": "2021-08-10T19:11:44.976Z"
   },
   {
    "duration": 338,
    "start_time": "2021-08-10T19:11:52.045Z"
   },
   {
    "duration": 371,
    "start_time": "2021-08-10T19:11:56.931Z"
   },
   {
    "duration": 390,
    "start_time": "2021-08-10T19:29:11.289Z"
   },
   {
    "duration": 318,
    "start_time": "2021-08-10T19:35:19.191Z"
   },
   {
    "duration": 301,
    "start_time": "2021-08-10T19:36:14.260Z"
   },
   {
    "duration": 220,
    "start_time": "2021-08-10T19:36:22.164Z"
   },
   {
    "duration": 275,
    "start_time": "2021-08-10T19:36:26.422Z"
   },
   {
    "duration": 266,
    "start_time": "2021-08-10T19:36:39.310Z"
   },
   {
    "duration": 230,
    "start_time": "2021-08-10T19:38:55.845Z"
   },
   {
    "duration": 334,
    "start_time": "2021-08-10T19:39:05.999Z"
   },
   {
    "duration": 426,
    "start_time": "2021-08-10T19:49:20.180Z"
   },
   {
    "duration": 5687,
    "start_time": "2021-08-10T19:58:05.202Z"
   },
   {
    "duration": 361,
    "start_time": "2021-08-10T20:00:13.269Z"
   },
   {
    "duration": 302,
    "start_time": "2021-08-10T20:00:48.379Z"
   },
   {
    "duration": 5801,
    "start_time": "2021-08-10T20:01:17.028Z"
   },
   {
    "duration": 1116,
    "start_time": "2021-08-10T20:02:37.596Z"
   },
   {
    "duration": 6646,
    "start_time": "2021-08-10T20:22:16.292Z"
   },
   {
    "duration": 5951,
    "start_time": "2021-08-10T20:28:08.221Z"
   },
   {
    "duration": 265,
    "start_time": "2021-08-10T20:28:49.812Z"
   },
   {
    "duration": 227,
    "start_time": "2021-08-10T20:28:54.908Z"
   },
   {
    "duration": 250,
    "start_time": "2021-08-10T20:29:46.333Z"
   },
   {
    "duration": 237,
    "start_time": "2021-08-10T20:31:48.834Z"
   },
   {
    "duration": 520,
    "start_time": "2021-08-10T20:32:19.543Z"
   },
   {
    "duration": 273,
    "start_time": "2021-08-10T20:32:24.328Z"
   },
   {
    "duration": 314,
    "start_time": "2021-08-10T20:32:36.154Z"
   },
   {
    "duration": 5794,
    "start_time": "2021-08-10T20:32:55.115Z"
   },
   {
    "duration": 5690,
    "start_time": "2021-08-10T20:33:37.722Z"
   },
   {
    "duration": 5772,
    "start_time": "2021-08-10T20:34:07.729Z"
   },
   {
    "duration": 5751,
    "start_time": "2021-08-10T20:39:47.751Z"
   },
   {
    "duration": 6158,
    "start_time": "2021-08-10T20:42:02.280Z"
   },
   {
    "duration": 354,
    "start_time": "2021-08-10T20:42:49.821Z"
   },
   {
    "duration": 5514,
    "start_time": "2021-08-10T20:49:47.721Z"
   },
   {
    "duration": 371,
    "start_time": "2021-08-10T20:50:52.568Z"
   },
   {
    "duration": 361,
    "start_time": "2021-08-10T20:52:03.265Z"
   },
   {
    "duration": 1238,
    "start_time": "2021-08-10T20:52:26.834Z"
   },
   {
    "duration": 220,
    "start_time": "2021-08-10T20:53:01.455Z"
   },
   {
    "duration": 1063,
    "start_time": "2021-08-10T20:53:13.911Z"
   },
   {
    "duration": 5435,
    "start_time": "2021-08-10T20:56:32.024Z"
   },
   {
    "duration": 207,
    "start_time": "2021-08-10T21:08:53.501Z"
   },
   {
    "duration": 198,
    "start_time": "2021-08-10T21:13:17.684Z"
   },
   {
    "duration": 200,
    "start_time": "2021-08-10T21:14:54.931Z"
   },
   {
    "duration": 550,
    "start_time": "2021-08-10T21:16:47.352Z"
   },
   {
    "duration": 557,
    "start_time": "2021-08-10T21:17:28.175Z"
   },
   {
    "duration": 435,
    "start_time": "2021-08-10T21:27:23.303Z"
   },
   {
    "duration": 258,
    "start_time": "2021-08-10T21:32:21.365Z"
   },
   {
    "duration": 462,
    "start_time": "2021-08-10T21:33:16.517Z"
   },
   {
    "duration": 254,
    "start_time": "2021-08-10T21:42:31.034Z"
   },
   {
    "duration": 253,
    "start_time": "2021-08-10T21:42:45.856Z"
   },
   {
    "duration": 283,
    "start_time": "2021-08-10T21:43:21.724Z"
   },
   {
    "duration": 437,
    "start_time": "2021-08-10T21:43:37.806Z"
   },
   {
    "duration": 335,
    "start_time": "2021-08-10T21:44:16.131Z"
   },
   {
    "duration": 22,
    "start_time": "2021-08-10T21:49:38.003Z"
   },
   {
    "duration": 7,
    "start_time": "2021-08-10T22:27:11.468Z"
   },
   {
    "duration": 1729,
    "start_time": "2021-08-11T01:01:16.265Z"
   },
   {
    "duration": 2222,
    "start_time": "2021-08-11T15:56:57.389Z"
   },
   {
    "duration": 140,
    "start_time": "2021-08-11T15:57:00.069Z"
   },
   {
    "duration": 19,
    "start_time": "2021-08-11T15:57:02.854Z"
   },
   {
    "duration": 371,
    "start_time": "2021-08-11T15:57:13.699Z"
   },
   {
    "duration": 9023,
    "start_time": "2021-08-11T16:00:21.320Z"
   },
   {
    "duration": 51,
    "start_time": "2021-08-11T16:01:41.388Z"
   },
   {
    "duration": 94,
    "start_time": "2021-08-11T16:02:34.465Z"
   },
   {
    "duration": 28,
    "start_time": "2021-08-11T16:02:37.312Z"
   },
   {
    "duration": 186,
    "start_time": "2021-08-11T16:02:40.959Z"
   },
   {
    "duration": 480,
    "start_time": "2021-08-11T16:02:44.513Z"
   },
   {
    "duration": 411,
    "start_time": "2021-08-11T16:03:31.761Z"
   },
   {
    "duration": 464,
    "start_time": "2021-08-11T16:03:38.988Z"
   },
   {
    "duration": 471,
    "start_time": "2021-08-11T16:06:08.580Z"
   },
   {
    "duration": 508,
    "start_time": "2021-08-11T16:06:19.717Z"
   },
   {
    "duration": 435,
    "start_time": "2021-08-11T16:06:23.904Z"
   },
   {
    "duration": 799,
    "start_time": "2021-08-11T16:06:28.689Z"
   },
   {
    "duration": 431,
    "start_time": "2021-08-11T16:06:35.194Z"
   },
   {
    "duration": 32,
    "start_time": "2021-08-11T16:06:44.505Z"
   },
   {
    "duration": 1163,
    "start_time": "2021-08-11T16:10:08.085Z"
   },
   {
    "duration": 356,
    "start_time": "2021-08-11T16:24:13.812Z"
   },
   {
    "duration": 425,
    "start_time": "2021-08-11T16:27:45.833Z"
   },
   {
    "duration": 364,
    "start_time": "2021-08-11T16:29:39.620Z"
   },
   {
    "duration": 1163,
    "start_time": "2021-08-11T16:47:41.965Z"
   },
   {
    "duration": 1131,
    "start_time": "2021-08-11T16:48:23.949Z"
   },
   {
    "duration": 1156,
    "start_time": "2021-08-11T16:57:46.744Z"
   },
   {
    "duration": 361,
    "start_time": "2021-08-11T16:57:59.778Z"
   },
   {
    "duration": 370,
    "start_time": "2021-08-11T16:58:07.550Z"
   },
   {
    "duration": 358,
    "start_time": "2021-08-11T16:59:03.536Z"
   },
   {
    "duration": 351,
    "start_time": "2021-08-11T16:59:36.209Z"
   },
   {
    "duration": 815,
    "start_time": "2021-08-11T18:28:49.772Z"
   },
   {
    "duration": 82,
    "start_time": "2021-08-11T18:28:53.560Z"
   },
   {
    "duration": 23,
    "start_time": "2021-08-11T18:28:57.401Z"
   },
   {
    "duration": 16,
    "start_time": "2021-08-11T18:29:00.375Z"
   },
   {
    "duration": 359,
    "start_time": "2021-08-11T18:29:04.063Z"
   },
   {
    "duration": 495,
    "start_time": "2021-08-11T18:29:09.037Z"
   },
   {
    "duration": 483,
    "start_time": "2021-08-11T18:30:33.264Z"
   },
   {
    "duration": 625,
    "start_time": "2021-08-11T18:32:43.572Z"
   },
   {
    "duration": 464,
    "start_time": "2021-08-11T18:33:51.384Z"
   },
   {
    "duration": 521,
    "start_time": "2021-08-11T18:34:37.124Z"
   },
   {
    "duration": 8480,
    "start_time": "2021-08-11T18:36:36.303Z"
   },
   {
    "duration": 276,
    "start_time": "2021-08-11T18:36:58.340Z"
   },
   {
    "duration": 388,
    "start_time": "2021-08-11T18:37:47.187Z"
   },
   {
    "duration": 15,
    "start_time": "2021-08-11T18:38:35.025Z"
   },
   {
    "duration": 752,
    "start_time": "2021-08-11T18:38:51.701Z"
   },
   {
    "duration": 358,
    "start_time": "2021-08-11T18:38:58.210Z"
   },
   {
    "duration": 266,
    "start_time": "2021-08-11T18:39:03.745Z"
   },
   {
    "duration": 15,
    "start_time": "2021-08-11T18:39:18.934Z"
   },
   {
    "duration": 414,
    "start_time": "2021-08-11T18:47:02.110Z"
   },
   {
    "duration": 579,
    "start_time": "2021-08-11T18:47:59.962Z"
   },
   {
    "duration": 478,
    "start_time": "2021-08-11T18:48:22.312Z"
   },
   {
    "duration": 552,
    "start_time": "2021-08-11T18:49:46.273Z"
   },
   {
    "duration": 618,
    "start_time": "2021-08-11T18:50:18.520Z"
   },
   {
    "duration": 437,
    "start_time": "2021-08-11T18:53:39.760Z"
   },
   {
    "duration": 426,
    "start_time": "2021-08-11T19:01:56.420Z"
   },
   {
    "duration": 543,
    "start_time": "2021-08-11T19:02:12.029Z"
   },
   {
    "duration": 763,
    "start_time": "2021-08-11T19:02:45.259Z"
   },
   {
    "duration": 1726,
    "start_time": "2021-08-11T19:04:01.833Z"
   },
   {
    "duration": 378,
    "start_time": "2021-08-11T19:24:19.215Z"
   },
   {
    "duration": 449,
    "start_time": "2021-08-11T19:25:50.460Z"
   },
   {
    "duration": 352,
    "start_time": "2021-08-11T19:25:57.556Z"
   },
   {
    "duration": 375,
    "start_time": "2021-08-11T19:45:38.121Z"
   },
   {
    "duration": 404,
    "start_time": "2021-08-11T19:46:27.159Z"
   },
   {
    "duration": 30,
    "start_time": "2021-08-11T19:46:38.880Z"
   },
   {
    "duration": 397,
    "start_time": "2021-08-11T19:52:24.037Z"
   },
   {
    "duration": 77,
    "start_time": "2021-08-11T19:52:39.110Z"
   },
   {
    "duration": 422,
    "start_time": "2021-08-11T19:56:57.452Z"
   },
   {
    "duration": 11254,
    "start_time": "2021-08-11T19:58:02.077Z"
   },
   {
    "duration": 9048,
    "start_time": "2021-08-11T19:58:26.661Z"
   },
   {
    "duration": 691,
    "start_time": "2021-08-11T20:07:45.071Z"
   },
   {
    "duration": 1200,
    "start_time": "2021-08-11T20:28:29.297Z"
   },
   {
    "duration": 458,
    "start_time": "2021-08-11T20:41:39.402Z"
   },
   {
    "duration": 993,
    "start_time": "2021-08-11T20:43:46.610Z"
   },
   {
    "duration": 803,
    "start_time": "2021-08-11T21:05:10.618Z"
   },
   {
    "duration": 820,
    "start_time": "2021-08-11T21:08:27.557Z"
   },
   {
    "duration": 617,
    "start_time": "2021-08-11T21:08:50.044Z"
   },
   {
    "duration": 485,
    "start_time": "2021-08-11T21:10:04.610Z"
   },
   {
    "duration": 177,
    "start_time": "2021-08-11T21:10:21.923Z"
   },
   {
    "duration": 667,
    "start_time": "2021-08-11T21:12:36.330Z"
   },
   {
    "duration": 170,
    "start_time": "2021-08-11T21:13:59.656Z"
   },
   {
    "duration": 688,
    "start_time": "2021-08-11T22:46:53.921Z"
   },
   {
    "duration": 367,
    "start_time": "2021-08-11T22:51:53.738Z"
   },
   {
    "duration": 11,
    "start_time": "2021-08-11T22:52:05.448Z"
   },
   {
    "duration": 16,
    "start_time": "2021-08-11T22:57:47.569Z"
   },
   {
    "duration": 372,
    "start_time": "2021-08-11T22:59:22.467Z"
   },
   {
    "duration": 14,
    "start_time": "2021-08-11T22:59:53.151Z"
   },
   {
    "duration": 440,
    "start_time": "2021-08-11T23:35:41.607Z"
   },
   {
    "duration": 61,
    "start_time": "2021-08-11T23:40:16.166Z"
   },
   {
    "duration": 148,
    "start_time": "2021-08-11T23:47:38.595Z"
   },
   {
    "duration": 477,
    "start_time": "2021-08-11T23:53:07.849Z"
   },
   {
    "duration": 8671,
    "start_time": "2021-08-11T23:53:52.651Z"
   },
   {
    "duration": 496,
    "start_time": "2021-08-11T23:56:36.596Z"
   },
   {
    "duration": 8875,
    "start_time": "2021-08-12T00:02:40.382Z"
   },
   {
    "duration": 1010,
    "start_time": "2021-08-12T00:03:20.774Z"
   },
   {
    "duration": 9533,
    "start_time": "2021-08-12T00:03:35.429Z"
   },
   {
    "duration": 532,
    "start_time": "2021-08-12T00:04:16.561Z"
   },
   {
    "duration": 183,
    "start_time": "2021-08-12T00:04:45.120Z"
   },
   {
    "duration": 570,
    "start_time": "2021-08-12T00:11:07.865Z"
   },
   {
    "duration": 376,
    "start_time": "2021-08-12T00:12:19.048Z"
   },
   {
    "duration": 357,
    "start_time": "2021-08-12T00:12:55.679Z"
   },
   {
    "duration": 354,
    "start_time": "2021-08-12T00:13:49.572Z"
   },
   {
    "duration": 8663,
    "start_time": "2021-08-12T00:14:43.957Z"
   },
   {
    "duration": 20,
    "start_time": "2021-08-12T00:18:43.639Z"
   },
   {
    "duration": 381,
    "start_time": "2021-08-12T00:23:02.049Z"
   },
   {
    "duration": 404,
    "start_time": "2021-08-12T00:23:18.644Z"
   },
   {
    "duration": 51,
    "start_time": "2021-08-12T00:24:12.016Z"
   },
   {
    "duration": 8534,
    "start_time": "2021-08-12T00:28:37.147Z"
   },
   {
    "duration": 392,
    "start_time": "2021-08-12T00:29:44.042Z"
   },
   {
    "duration": 1298,
    "start_time": "2021-08-12T00:30:11.918Z"
   },
   {
    "duration": 376,
    "start_time": "2021-08-12T00:38:01.694Z"
   },
   {
    "duration": 384,
    "start_time": "2021-08-12T00:38:16.088Z"
   },
   {
    "duration": 1313,
    "start_time": "2021-08-12T00:38:52.092Z"
   },
   {
    "duration": 1739,
    "start_time": "2021-08-12T16:05:04.116Z"
   },
   {
    "duration": 18,
    "start_time": "2021-08-12T16:05:07.080Z"
   },
   {
    "duration": 285,
    "start_time": "2021-08-12T16:05:11.943Z"
   },
   {
    "duration": 313,
    "start_time": "2021-08-12T16:20:48.980Z"
   },
   {
    "duration": 8,
    "start_time": "2021-08-12T16:21:02.607Z"
   },
   {
    "duration": 5,
    "start_time": "2021-08-12T16:21:28.043Z"
   },
   {
    "duration": 197,
    "start_time": "2021-08-12T16:29:18.667Z"
   },
   {
    "duration": 292,
    "start_time": "2021-08-12T16:31:35.089Z"
   },
   {
    "duration": 283,
    "start_time": "2021-08-12T16:32:21.762Z"
   },
   {
    "duration": 280,
    "start_time": "2021-08-12T16:32:53.273Z"
   },
   {
    "duration": 1091,
    "start_time": "2021-08-12T16:43:59.486Z"
   },
   {
    "duration": 1038,
    "start_time": "2021-08-12T16:57:35.067Z"
   },
   {
    "duration": 358,
    "start_time": "2021-08-12T17:06:45.053Z"
   },
   {
    "duration": 278,
    "start_time": "2021-08-12T17:07:21.007Z"
   },
   {
    "duration": 608,
    "start_time": "2021-08-12T17:07:55.674Z"
   },
   {
    "duration": 261,
    "start_time": "2021-08-12T17:08:09.497Z"
   },
   {
    "duration": 199,
    "start_time": "2021-08-12T17:08:15.664Z"
   },
   {
    "duration": 204,
    "start_time": "2021-08-12T17:08:42.166Z"
   },
   {
    "duration": 250,
    "start_time": "2021-08-12T17:08:58.147Z"
   },
   {
    "duration": 5681,
    "start_time": "2021-08-12T17:09:35.254Z"
   },
   {
    "duration": 281,
    "start_time": "2021-08-12T17:11:20.616Z"
   },
   {
    "duration": 266,
    "start_time": "2021-08-12T17:11:55.697Z"
   },
   {
    "duration": 922,
    "start_time": "2021-08-12T17:12:23.533Z"
   },
   {
    "duration": 909,
    "start_time": "2021-08-12T17:14:48.446Z"
   },
   {
    "duration": 1034,
    "start_time": "2021-08-12T17:15:29.926Z"
   },
   {
    "duration": 214,
    "start_time": "2021-08-12T17:22:11.650Z"
   },
   {
    "duration": 214,
    "start_time": "2021-08-12T17:22:25.591Z"
   },
   {
    "duration": 945,
    "start_time": "2021-08-12T17:23:19.084Z"
   },
   {
    "duration": 992,
    "start_time": "2021-08-12T17:24:55.922Z"
   },
   {
    "duration": 283,
    "start_time": "2021-08-12T17:34:22.938Z"
   },
   {
    "duration": 2235,
    "start_time": "2021-08-12T23:38:18.683Z"
   },
   {
    "duration": 413,
    "start_time": "2021-08-12T23:38:25.408Z"
   },
   {
    "duration": 150,
    "start_time": "2021-08-12T23:40:52.879Z"
   },
   {
    "duration": 279,
    "start_time": "2021-08-12T23:42:17.170Z"
   },
   {
    "duration": 420,
    "start_time": "2021-08-12T23:42:28.443Z"
   },
   {
    "duration": 478,
    "start_time": "2021-08-12T23:42:53.151Z"
   },
   {
    "duration": 472,
    "start_time": "2021-08-12T23:43:02.434Z"
   },
   {
    "duration": 3,
    "start_time": "2021-08-12T23:44:02.839Z"
   },
   {
    "duration": 781,
    "start_time": "2021-08-12T23:52:20.358Z"
   },
   {
    "duration": 359,
    "start_time": "2021-08-12T23:56:54.208Z"
   },
   {
    "duration": 1409,
    "start_time": "2021-08-12T23:58:33.376Z"
   },
   {
    "duration": 1219,
    "start_time": "2021-08-13T00:09:31.055Z"
   },
   {
    "duration": 1118,
    "start_time": "2021-08-13T00:10:07.392Z"
   },
   {
    "duration": 326,
    "start_time": "2021-08-13T00:15:11.000Z"
   },
   {
    "duration": 296,
    "start_time": "2021-08-13T00:15:39.616Z"
   },
   {
    "duration": 447,
    "start_time": "2021-08-13T00:19:00.228Z"
   },
   {
    "duration": 346,
    "start_time": "2021-08-13T00:22:40.842Z"
   },
   {
    "duration": 11,
    "start_time": "2021-08-13T00:25:17.735Z"
   },
   {
    "duration": -288,
    "start_time": "2021-08-13T00:28:04.271Z"
   },
   {
    "duration": 8824,
    "start_time": "2021-08-13T00:28:36.239Z"
   },
   {
    "duration": 8471,
    "start_time": "2021-08-13T00:28:48.091Z"
   },
   {
    "duration": 8522,
    "start_time": "2021-08-13T00:29:03.785Z"
   },
   {
    "duration": 8542,
    "start_time": "2021-08-13T00:30:17.033Z"
   },
   {
    "duration": 759,
    "start_time": "2021-08-13T00:34:09.112Z"
   },
   {
    "duration": 1173,
    "start_time": "2021-08-13T00:34:32.576Z"
   },
   {
    "duration": 78,
    "start_time": "2021-08-13T00:36:03.739Z"
   },
   {
    "duration": 523,
    "start_time": "2021-08-13T00:39:20.345Z"
   },
   {
    "duration": 574,
    "start_time": "2021-08-13T00:55:02.424Z"
   },
   {
    "duration": 310,
    "start_time": "2021-08-13T00:55:37.191Z"
   },
   {
    "duration": 505,
    "start_time": "2021-08-13T00:55:46.714Z"
   },
   {
    "duration": 516,
    "start_time": "2021-08-13T00:56:10.640Z"
   },
   {
    "duration": 1197,
    "start_time": "2021-08-13T00:56:33.454Z"
   },
   {
    "duration": 342,
    "start_time": "2021-08-13T00:56:42.778Z"
   },
   {
    "duration": 309,
    "start_time": "2021-08-13T00:56:49.651Z"
   },
   {
    "duration": 480,
    "start_time": "2021-08-13T00:57:14.885Z"
   },
   {
    "duration": 1263,
    "start_time": "2021-08-13T00:57:54.039Z"
   },
   {
    "duration": 1105,
    "start_time": "2021-08-13T00:59:26.332Z"
   },
   {
    "duration": 1127,
    "start_time": "2021-08-13T00:59:40.878Z"
   },
   {
    "duration": 1252,
    "start_time": "2021-08-13T01:00:10.167Z"
   },
   {
    "duration": 781,
    "start_time": "2021-08-13T01:37:22.082Z"
   },
   {
    "duration": 379,
    "start_time": "2021-08-13T01:37:28.239Z"
   },
   {
    "duration": 149,
    "start_time": "2021-08-13T01:37:44.783Z"
   },
   {
    "duration": 271,
    "start_time": "2021-08-13T01:37:55.177Z"
   },
   {
    "duration": 489,
    "start_time": "2021-08-13T01:38:17.999Z"
   },
   {
    "duration": 490,
    "start_time": "2021-08-13T01:38:36.457Z"
   },
   {
    "duration": 500,
    "start_time": "2021-08-13T01:38:46.341Z"
   },
   {
    "duration": 477,
    "start_time": "2021-08-13T01:38:59.774Z"
   },
   {
    "duration": 462,
    "start_time": "2021-08-13T01:39:23.003Z"
   },
   {
    "duration": 448,
    "start_time": "2021-08-13T01:39:35.198Z"
   },
   {
    "duration": 417,
    "start_time": "2021-08-13T01:39:44.398Z"
   },
   {
    "duration": 426,
    "start_time": "2021-08-13T01:39:58.956Z"
   },
   {
    "duration": 804,
    "start_time": "2021-08-13T01:40:02.785Z"
   },
   {
    "duration": 1769,
    "start_time": "2021-08-13T01:40:20.308Z"
   },
   {
    "duration": 374,
    "start_time": "2021-08-13T01:40:59.853Z"
   },
   {
    "duration": 1402,
    "start_time": "2021-08-13T01:41:07.230Z"
   },
   {
    "duration": 1153,
    "start_time": "2021-08-13T01:41:25.812Z"
   },
   {
    "duration": 1168,
    "start_time": "2021-08-13T01:42:44.882Z"
   },
   {
    "duration": 1202,
    "start_time": "2021-08-13T01:43:13.573Z"
   },
   {
    "duration": 469,
    "start_time": "2021-08-13T01:43:47.557Z"
   },
   {
    "duration": 702,
    "start_time": "2021-08-13T01:45:46.538Z"
   },
   {
    "duration": 384,
    "start_time": "2021-08-13T01:46:16.763Z"
   },
   {
    "duration": 387,
    "start_time": "2021-08-13T01:46:48.659Z"
   },
   {
    "duration": 297,
    "start_time": "2021-08-13T01:47:12.977Z"
   },
   {
    "duration": 818,
    "start_time": "2021-08-13T01:49:03.146Z"
   },
   {
    "duration": 501,
    "start_time": "2021-08-13T01:49:35.612Z"
   },
   {
    "duration": 483,
    "start_time": "2021-08-13T01:50:48.824Z"
   },
   {
    "duration": 491,
    "start_time": "2021-08-13T01:51:21.344Z"
   },
   {
    "duration": 495,
    "start_time": "2021-08-13T01:51:50.661Z"
   },
   {
    "duration": 1150,
    "start_time": "2021-08-13T01:52:09.751Z"
   },
   {
    "duration": 1255,
    "start_time": "2021-08-13T01:52:17.671Z"
   }
  ],
  "kernelspec": {
   "display_name": "Python 3 (ipykernel)",
   "language": "python",
   "name": "python3"
  },
  "language_info": {
   "codemirror_mode": {
    "name": "ipython",
    "version": 3
   },
   "file_extension": ".py",
   "mimetype": "text/x-python",
   "name": "python",
   "nbconvert_exporter": "python",
   "pygments_lexer": "ipython3",
   "version": "3.9.7"
  },
  "toc": {
   "base_numbering": "",
   "nav_menu": {},
   "number_sections": false,
   "sideBar": true,
   "skip_h1_title": false,
   "title_cell": "Table of Contents",
   "title_sidebar": "Contents",
   "toc_cell": false,
   "toc_position": {
    "height": "calc(100% - 180px)",
    "left": "10px",
    "top": "150px",
    "width": "165px"
   },
   "toc_section_display": true,
   "toc_window_display": false
  }
 },
 "nbformat": 4,
 "nbformat_minor": 2
}
