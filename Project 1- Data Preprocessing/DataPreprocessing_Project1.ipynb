{
 "cells": [
  {
   "cell_type": "markdown",
   "metadata": {},
   "source": [
    "<div style=\"border:solid Chocolate 2px; padding: 40px\">\n",
    "\n",
    "<b>Hello, Pranita!👋 How are you today?</b>\n",
    "    \n",
    "My name is Arina U. and I am glad to be your reviewer in this project! Nice to meet you!<br />\n",
    "\n",
    "\n",
    "You can find my comments in <font color='green'>green</font>, <font color='gold'>yellow</font> and <font color='red'>red</font> boxes. Examples you can see below:\n",
    "    \n",
    "<div class=\"alert alert-block alert-success\">\n",
    "    <h2>Reviewer's commentary <a class=\"tocSkip\"> </h2>\n",
    "    <br/>\n",
    "<b>Well done!👍:</b> In case if task is completely correct and everything is alright!\n",
    "</div>\n",
    "\n",
    "\n",
    "<div class=\"alert alert-block alert-warning\">\n",
    "   <h2>Reviewer's commentary <a class=\"tocSkip\"> </h2>\n",
    "    <br/>\n",
    "<b>Remarks and recommendations📌:</b>  In case when I can give some advice that can help you to improve your work or recommend you some useful links and resources that can help you widen your knowledge and help in future tasks.\n",
    "</div>\n",
    "\n",
    "<div class=\"alert alert-block alert-danger\">\n",
    "    <h2>Reviewer's commentary <a class=\"tocSkip\"> </h2>\n",
    "    <br/>\n",
    "<b>Needs fixing!🤔:</b> In case when step requires some extra work and some corrections. Project can't be accepted with comments in the red boxes\n",
    "</div>\n",
    "\n",
    "Please pay attention to not move or change my comments. It would be good to highlight your answers in some way. \n",
    "\n",
    "#### <font color='Purple'>Student's commentary:</font> for example like this <a class=\"tocSkip\"> </div>\n",
    "    \n",
    "OK, now let's go!😏\n",
    "</font>"
   ]
  },
  {
   "cell_type": "markdown",
   "metadata": {},
   "source": [
    "# Analyzing borrowers’ risk of defaulting\n",
    "\n",
    "- Your project is to prepare a report for a bank’s loan division. You’ll need to find out if a customer’s marital status and number of children has an impact on whether they will default on a loan. The bank already has some data on customers’ credit worthiness.\n",
    "\n",
    "\n",
    "- Your report will be considered when building a **credit scoring** of a potential customer. A ** credit scoring ** is used to evaluate the ability of a potential borrower to repay their loan."
   ]
  },
  {
   "cell_type": "markdown",
   "metadata": {},
   "source": [
    "<div class=\"alert alert-block alert-success\">\n",
    "    <h2>Reviewer's commentary <a class=\"tocSkip\"> </h2>\n",
    "    <br/>\n",
    "<b>Well done!👍:</b>\n",
    "\n",
    "Ok, Pranita,  it is great that you started your project with the short introduction, it is also important to fix the main aim of the project and include the content plan of your work, so, try to do it next time!"
   ]
  },
  {
   "cell_type": "markdown",
   "metadata": {},
   "source": [
    "## Step 1: Open the data file and have a look at the general information."
   ]
  },
  {
   "cell_type": "code",
   "execution_count": 1,
   "metadata": {},
   "outputs": [],
   "source": [
    "#import library with alias 'pd'\n",
    "import pandas as pd\n"
   ]
  },
  {
   "cell_type": "code",
   "execution_count": 2,
   "metadata": {
    "scrolled": true
   },
   "outputs": [
    {
     "data": {
      "text/html": [
       "<div>\n",
       "<style scoped>\n",
       "    .dataframe tbody tr th:only-of-type {\n",
       "        vertical-align: middle;\n",
       "    }\n",
       "\n",
       "    .dataframe tbody tr th {\n",
       "        vertical-align: top;\n",
       "    }\n",
       "\n",
       "    .dataframe thead th {\n",
       "        text-align: right;\n",
       "    }\n",
       "</style>\n",
       "<table border=\"1\" class=\"dataframe\">\n",
       "  <thead>\n",
       "    <tr style=\"text-align: right;\">\n",
       "      <th></th>\n",
       "      <th>children</th>\n",
       "      <th>days_employed</th>\n",
       "      <th>dob_years</th>\n",
       "      <th>education</th>\n",
       "      <th>education_id</th>\n",
       "      <th>family_status</th>\n",
       "      <th>family_status_id</th>\n",
       "      <th>gender</th>\n",
       "      <th>income_type</th>\n",
       "      <th>debt</th>\n",
       "      <th>total_income</th>\n",
       "      <th>purpose</th>\n",
       "    </tr>\n",
       "  </thead>\n",
       "  <tbody>\n",
       "    <tr>\n",
       "      <td>0</td>\n",
       "      <td>1</td>\n",
       "      <td>-8437.673028</td>\n",
       "      <td>42</td>\n",
       "      <td>bachelor's degree</td>\n",
       "      <td>0</td>\n",
       "      <td>married</td>\n",
       "      <td>0</td>\n",
       "      <td>F</td>\n",
       "      <td>employee</td>\n",
       "      <td>0</td>\n",
       "      <td>40620.102</td>\n",
       "      <td>purchase of the house</td>\n",
       "    </tr>\n",
       "    <tr>\n",
       "      <td>1</td>\n",
       "      <td>1</td>\n",
       "      <td>-4024.803754</td>\n",
       "      <td>36</td>\n",
       "      <td>secondary education</td>\n",
       "      <td>1</td>\n",
       "      <td>married</td>\n",
       "      <td>0</td>\n",
       "      <td>F</td>\n",
       "      <td>employee</td>\n",
       "      <td>0</td>\n",
       "      <td>17932.802</td>\n",
       "      <td>car purchase</td>\n",
       "    </tr>\n",
       "    <tr>\n",
       "      <td>2</td>\n",
       "      <td>0</td>\n",
       "      <td>-5623.422610</td>\n",
       "      <td>33</td>\n",
       "      <td>Secondary Education</td>\n",
       "      <td>1</td>\n",
       "      <td>married</td>\n",
       "      <td>0</td>\n",
       "      <td>M</td>\n",
       "      <td>employee</td>\n",
       "      <td>0</td>\n",
       "      <td>23341.752</td>\n",
       "      <td>purchase of the house</td>\n",
       "    </tr>\n",
       "    <tr>\n",
       "      <td>3</td>\n",
       "      <td>3</td>\n",
       "      <td>-4124.747207</td>\n",
       "      <td>32</td>\n",
       "      <td>secondary education</td>\n",
       "      <td>1</td>\n",
       "      <td>married</td>\n",
       "      <td>0</td>\n",
       "      <td>M</td>\n",
       "      <td>employee</td>\n",
       "      <td>0</td>\n",
       "      <td>42820.568</td>\n",
       "      <td>supplementary education</td>\n",
       "    </tr>\n",
       "    <tr>\n",
       "      <td>4</td>\n",
       "      <td>0</td>\n",
       "      <td>340266.072047</td>\n",
       "      <td>53</td>\n",
       "      <td>secondary education</td>\n",
       "      <td>1</td>\n",
       "      <td>civil partnership</td>\n",
       "      <td>1</td>\n",
       "      <td>F</td>\n",
       "      <td>retiree</td>\n",
       "      <td>0</td>\n",
       "      <td>25378.572</td>\n",
       "      <td>to have a wedding</td>\n",
       "    </tr>\n",
       "    <tr>\n",
       "      <td>...</td>\n",
       "      <td>...</td>\n",
       "      <td>...</td>\n",
       "      <td>...</td>\n",
       "      <td>...</td>\n",
       "      <td>...</td>\n",
       "      <td>...</td>\n",
       "      <td>...</td>\n",
       "      <td>...</td>\n",
       "      <td>...</td>\n",
       "      <td>...</td>\n",
       "      <td>...</td>\n",
       "      <td>...</td>\n",
       "    </tr>\n",
       "    <tr>\n",
       "      <td>21520</td>\n",
       "      <td>1</td>\n",
       "      <td>-4529.316663</td>\n",
       "      <td>43</td>\n",
       "      <td>secondary education</td>\n",
       "      <td>1</td>\n",
       "      <td>civil partnership</td>\n",
       "      <td>1</td>\n",
       "      <td>F</td>\n",
       "      <td>business</td>\n",
       "      <td>0</td>\n",
       "      <td>35966.698</td>\n",
       "      <td>housing transactions</td>\n",
       "    </tr>\n",
       "    <tr>\n",
       "      <td>21521</td>\n",
       "      <td>0</td>\n",
       "      <td>343937.404131</td>\n",
       "      <td>67</td>\n",
       "      <td>secondary education</td>\n",
       "      <td>1</td>\n",
       "      <td>married</td>\n",
       "      <td>0</td>\n",
       "      <td>F</td>\n",
       "      <td>retiree</td>\n",
       "      <td>0</td>\n",
       "      <td>24959.969</td>\n",
       "      <td>purchase of a car</td>\n",
       "    </tr>\n",
       "    <tr>\n",
       "      <td>21522</td>\n",
       "      <td>1</td>\n",
       "      <td>-2113.346888</td>\n",
       "      <td>38</td>\n",
       "      <td>secondary education</td>\n",
       "      <td>1</td>\n",
       "      <td>civil partnership</td>\n",
       "      <td>1</td>\n",
       "      <td>M</td>\n",
       "      <td>employee</td>\n",
       "      <td>1</td>\n",
       "      <td>14347.610</td>\n",
       "      <td>property</td>\n",
       "    </tr>\n",
       "    <tr>\n",
       "      <td>21523</td>\n",
       "      <td>3</td>\n",
       "      <td>-3112.481705</td>\n",
       "      <td>38</td>\n",
       "      <td>secondary education</td>\n",
       "      <td>1</td>\n",
       "      <td>married</td>\n",
       "      <td>0</td>\n",
       "      <td>M</td>\n",
       "      <td>employee</td>\n",
       "      <td>1</td>\n",
       "      <td>39054.888</td>\n",
       "      <td>buying my own car</td>\n",
       "    </tr>\n",
       "    <tr>\n",
       "      <td>21524</td>\n",
       "      <td>2</td>\n",
       "      <td>-1984.507589</td>\n",
       "      <td>40</td>\n",
       "      <td>secondary education</td>\n",
       "      <td>1</td>\n",
       "      <td>married</td>\n",
       "      <td>0</td>\n",
       "      <td>F</td>\n",
       "      <td>employee</td>\n",
       "      <td>0</td>\n",
       "      <td>13127.587</td>\n",
       "      <td>to buy a car</td>\n",
       "    </tr>\n",
       "  </tbody>\n",
       "</table>\n",
       "<p>21525 rows × 12 columns</p>\n",
       "</div>"
      ],
      "text/plain": [
       "       children  days_employed  dob_years            education  education_id  \\\n",
       "0             1   -8437.673028         42    bachelor's degree             0   \n",
       "1             1   -4024.803754         36  secondary education             1   \n",
       "2             0   -5623.422610         33  Secondary Education             1   \n",
       "3             3   -4124.747207         32  secondary education             1   \n",
       "4             0  340266.072047         53  secondary education             1   \n",
       "...         ...            ...        ...                  ...           ...   \n",
       "21520         1   -4529.316663         43  secondary education             1   \n",
       "21521         0  343937.404131         67  secondary education             1   \n",
       "21522         1   -2113.346888         38  secondary education             1   \n",
       "21523         3   -3112.481705         38  secondary education             1   \n",
       "21524         2   -1984.507589         40  secondary education             1   \n",
       "\n",
       "           family_status  family_status_id gender income_type  debt  \\\n",
       "0                married                 0      F    employee     0   \n",
       "1                married                 0      F    employee     0   \n",
       "2                married                 0      M    employee     0   \n",
       "3                married                 0      M    employee     0   \n",
       "4      civil partnership                 1      F     retiree     0   \n",
       "...                  ...               ...    ...         ...   ...   \n",
       "21520  civil partnership                 1      F    business     0   \n",
       "21521            married                 0      F     retiree     0   \n",
       "21522  civil partnership                 1      M    employee     1   \n",
       "21523            married                 0      M    employee     1   \n",
       "21524            married                 0      F    employee     0   \n",
       "\n",
       "       total_income                  purpose  \n",
       "0         40620.102    purchase of the house  \n",
       "1         17932.802             car purchase  \n",
       "2         23341.752    purchase of the house  \n",
       "3         42820.568  supplementary education  \n",
       "4         25378.572        to have a wedding  \n",
       "...             ...                      ...  \n",
       "21520     35966.698     housing transactions  \n",
       "21521     24959.969        purchase of a car  \n",
       "21522     14347.610                 property  \n",
       "21523     39054.888        buying my own car  \n",
       "21524     13127.587             to buy a car  \n",
       "\n",
       "[21525 rows x 12 columns]"
      ]
     },
     "metadata": {},
     "output_type": "display_data"
    },
    {
     "name": "stdout",
     "output_type": "stream",
     "text": [
      "<class 'pandas.core.frame.DataFrame'>\n",
      "RangeIndex: 21525 entries, 0 to 21524\n",
      "Data columns (total 12 columns):\n",
      "children            21525 non-null int64\n",
      "days_employed       19351 non-null float64\n",
      "dob_years           21525 non-null int64\n",
      "education           21525 non-null object\n",
      "education_id        21525 non-null int64\n",
      "family_status       21525 non-null object\n",
      "family_status_id    21525 non-null int64\n",
      "gender              21525 non-null object\n",
      "income_type         21525 non-null object\n",
      "debt                21525 non-null int64\n",
      "total_income        19351 non-null float64\n",
      "purpose             21525 non-null object\n",
      "dtypes: float64(2), int64(5), object(5)\n",
      "memory usage: 2.0+ MB\n"
     ]
    }
   ],
   "source": [
    "#read data from file 'credit_scoring_eng.csv'\n",
    "import pandas as pd\n",
    "\n",
    "# make data frame from csv file\n",
    "df = pd.read_csv('/datasets/credit_scoring_eng.csv')\n",
    "\n",
    "# preview the loaded data\n",
    "display(df)\n",
    "\n",
    "df.info()"
   ]
  },
  {
   "cell_type": "markdown",
   "metadata": {},
   "source": [
    "### Conclusion:"
   ]
  },
  {
   "cell_type": "markdown",
   "metadata": {},
   "source": [
    "- We imported the Pandas library as pd, then read the .csv file using the read_csv method and saved it to the variable 'df'. Then we printed the dataframe using the info() method to see the general information.\n",
    "\n",
    "- Upon checking data, we found that there is not a column like customer_id, SSN that uniquely identifies a customer. Because of that there's not enough information to conclude that duplicate rows belong to the same customer or not.\n",
    "\n",
    "- 'days_employed' column found to be negative which is a big red flag as working days should always add-up and must be postive.\n",
    "\n",
    "- 'days_employed' and 'total_income' columns are float datatype as well. \n",
    "\n",
    "- the table/file is not normalized. 'education' and 'family_status' columns can be separated and stored in different tables. These columns can be refered by 'education_id' and 'family_status_id'.\n"
   ]
  },
  {
   "cell_type": "markdown",
   "metadata": {},
   "source": [
    "<div class=\"alert alert-block alert-success\">\n",
    "    <h2>Reviewer's commentary<a class=\"tocSkip\"> </h2>\n",
    "    <br/>\n",
    "<b>Well done!👍:</b> \n",
    "\n",
    "Ok, you have explored the data in detail, pointed out the main problems with the data, so, let's see what results you got at the next steps of the analysis!👀"
   ]
  },
  {
   "cell_type": "markdown",
   "metadata": {},
   "source": [
    "## Step 2: Data preprocessing"
   ]
  },
  {
   "cell_type": "markdown",
   "metadata": {},
   "source": [
    "#### In this step, we are viewing the data in more detail to identify missing values, data types and address potential duplicates."
   ]
  },
  {
   "cell_type": "code",
   "execution_count": 3,
   "metadata": {
    "scrolled": false
   },
   "outputs": [
    {
     "data": {
      "text/html": [
       "<div>\n",
       "<style scoped>\n",
       "    .dataframe tbody tr th:only-of-type {\n",
       "        vertical-align: middle;\n",
       "    }\n",
       "\n",
       "    .dataframe tbody tr th {\n",
       "        vertical-align: top;\n",
       "    }\n",
       "\n",
       "    .dataframe thead th {\n",
       "        text-align: right;\n",
       "    }\n",
       "</style>\n",
       "<table border=\"1\" class=\"dataframe\">\n",
       "  <thead>\n",
       "    <tr style=\"text-align: right;\">\n",
       "      <th></th>\n",
       "      <th>missing_values</th>\n",
       "      <th>% of total</th>\n",
       "    </tr>\n",
       "  </thead>\n",
       "  <tbody>\n",
       "    <tr>\n",
       "      <td>children</td>\n",
       "      <td>0</td>\n",
       "      <td>0.0</td>\n",
       "    </tr>\n",
       "    <tr>\n",
       "      <td>days_employed</td>\n",
       "      <td>2174</td>\n",
       "      <td>0.1</td>\n",
       "    </tr>\n",
       "    <tr>\n",
       "      <td>dob_years</td>\n",
       "      <td>0</td>\n",
       "      <td>0.0</td>\n",
       "    </tr>\n",
       "    <tr>\n",
       "      <td>education</td>\n",
       "      <td>0</td>\n",
       "      <td>0.0</td>\n",
       "    </tr>\n",
       "    <tr>\n",
       "      <td>education_id</td>\n",
       "      <td>0</td>\n",
       "      <td>0.0</td>\n",
       "    </tr>\n",
       "    <tr>\n",
       "      <td>family_status</td>\n",
       "      <td>0</td>\n",
       "      <td>0.0</td>\n",
       "    </tr>\n",
       "    <tr>\n",
       "      <td>family_status_id</td>\n",
       "      <td>0</td>\n",
       "      <td>0.0</td>\n",
       "    </tr>\n",
       "    <tr>\n",
       "      <td>gender</td>\n",
       "      <td>0</td>\n",
       "      <td>0.0</td>\n",
       "    </tr>\n",
       "    <tr>\n",
       "      <td>income_type</td>\n",
       "      <td>0</td>\n",
       "      <td>0.0</td>\n",
       "    </tr>\n",
       "    <tr>\n",
       "      <td>debt</td>\n",
       "      <td>0</td>\n",
       "      <td>0.0</td>\n",
       "    </tr>\n",
       "    <tr>\n",
       "      <td>total_income</td>\n",
       "      <td>2174</td>\n",
       "      <td>0.1</td>\n",
       "    </tr>\n",
       "    <tr>\n",
       "      <td>purpose</td>\n",
       "      <td>0</td>\n",
       "      <td>0.0</td>\n",
       "    </tr>\n",
       "  </tbody>\n",
       "</table>\n",
       "</div>"
      ],
      "text/plain": [
       "                  missing_values  % of total\n",
       "children                       0         0.0\n",
       "days_employed               2174         0.1\n",
       "dob_years                      0         0.0\n",
       "education                      0         0.0\n",
       "education_id                   0         0.0\n",
       "family_status                  0         0.0\n",
       "family_status_id               0         0.0\n",
       "gender                         0         0.0\n",
       "income_type                    0         0.0\n",
       "debt                           0         0.0\n",
       "total_income                2174         0.1\n",
       "purpose                        0         0.0"
      ]
     },
     "metadata": {},
     "output_type": "display_data"
    }
   ],
   "source": [
    "#read data from file 'credit_scoring_eng.csv'\n",
    "import pandas as pd\n",
    "\n",
    "# make data frame from csv file\n",
    "df = pd.read_csv('/datasets/credit_scoring_eng.csv')\n",
    "\n",
    "# check missing values rows\n",
    "df.isnull().sum()\n",
    "\n",
    "# checking the perentage of missing values\n",
    "#df.isnull().sum()*100/len(df)\n",
    "\n",
    "#display all missing values columns along with %\n",
    "report = df.isna().sum().to_frame()\n",
    "report = report.rename(columns = {0: 'missing_values'})\n",
    "report['% of total'] = (report['missing_values'] / df.shape[0]).round(2)\n",
    "report.sort_values(by = 'missing_values', ascending = False)\n",
    "display(report)\n",
    "\n"
   ]
  },
  {
   "cell_type": "markdown",
   "metadata": {},
   "source": [
    "<div class=\"alert alert-block alert-warning\">\n",
    "   <h2>Reviewer's commentary <a class=\"tocSkip\"> </h2>\n",
    "    <br/>\n",
    "<b>Remarks and recommendations📌:</b>  \n",
    "    \n",
    "It is important to look not just at the amount of missing values in every column, but at the percentage of missing values in columns, for example, like this:\n",
    "    \n",
    "`data.isnull().sum()*100/len(data)`\n",
    "\n",
    "Or like this:\n",
    "    \n",
    "`report = data.isna().sum().to_frame()\n",
    "report = report.rename(columns = {0: 'missing_values'})\n",
    "report['% of total'] = (report['missing_values'] / data.shape[0]).round(2)\n",
    "report.sort_values(by = 'missing_values', ascending = False)`"
   ]
  },
  {
   "attachments": {
    "image.png": {
     "image/png": "[encoded data removed]"
    }
   },
   "cell_type": "markdown",
   "metadata": {},
   "source": [
    "<div class=\"alert alert-block alert-danger\">\n",
    "    <h2>Reviewer's commentary: second iteration of the review <a class=\"tocSkip\"> </h2>\n",
    "    <br/>\n",
    "<b>Needs fixing!🤔:</b> \n",
    "        \n",
    "Pranita, it is great that you tried to check the percent of missing values, but you used the code I suggested not in a very correct way, now your code provides error. So, please, be more attentive here! I am sure it will be easy for you to fix the problem!\n",
    "        \n",
    "![image.png](attachment:image.png)"
   ]
  },
  {
   "cell_type": "markdown",
   "metadata": {},
   "source": [
    "<div class=\"alert alert-block alert-success\">\n",
    "    <h2>Reviewer's commentary:second iteration of the review <a class=\"tocSkip\"> </h2>\n",
    "    <br/>\n",
    "<b>Well done!👍:</b> \n",
    "        \n",
    "Ok, this time your code works correctly!"
   ]
  },
  {
   "cell_type": "markdown",
   "metadata": {},
   "source": [
    "Upon checking data, found out that \n",
    "- ‘days_employed’ and ‘total_income‘ have 2,174 missing values. However, we can consider to drop those rows as missing values are only 10 % of the data. We can assume that the customer has not been employed and have no income. We can also backfill 'days_employed' and 'total_income' with mean/median of the columns. If we consider to backfill values, then we have to make sure that it shouldn't make a significant impact on your analysis. To further analyse this issue, we are taking  more actions/steps below.  \n",
    "\n",
    "- There are 47 records with children as -1. We can raise this issue to concern person. However, 47 records out of 21,525 will not make a big difference so we can assume that negative children equal no children. Steps to replace this value are shown below.\n",
    "\n",
    "- There are negative values for ‘days_employed’ column. As we know that an individual’s working or employed days cannot be negative, we should raise this question to the concern person. Negative values could be an error of data retrieving process. Actions taken to fix this issue is shown below.\n"
   ]
  },
  {
   "cell_type": "code",
   "execution_count": 4,
   "metadata": {
    "scrolled": true
   },
   "outputs": [
    {
     "name": "stdout",
     "output_type": "stream",
     "text": [
      "children              int64\n",
      "days_employed       float64\n",
      "dob_years             int64\n",
      "education            object\n",
      "education_id          int64\n",
      "family_status        object\n",
      "family_status_id      int64\n",
      "gender               object\n",
      "income_type          object\n",
      "debt                  int64\n",
      "total_income        float64\n",
      "purpose              object\n",
      "dtype: object\n"
     ]
    }
   ],
   "source": [
    "# check data types of columns\n",
    "print(df.dtypes)\n"
   ]
  },
  {
   "cell_type": "markdown",
   "metadata": {},
   "source": [
    "- 'days_employed' and 'total_income' are float data types.To round up the values we are converting them to whole numbers (whole numbers)"
   ]
  },
  {
   "cell_type": "code",
   "execution_count": 5,
   "metadata": {},
   "outputs": [
    {
     "name": "stdout",
     "output_type": "stream",
     "text": [
      "F      14236\n",
      "M       7288\n",
      "XNA        1\n",
      "Name: gender, dtype: int64\n",
      " 0     14149\n",
      " 1      4818\n",
      " 2      2055\n",
      " 3       330\n",
      " 20       76\n",
      "-1        47\n",
      " 4        41\n",
      " 5         9\n",
      "Name: children, dtype: int64\n"
     ]
    }
   ],
   "source": [
    "# check for more data discrepancies\n",
    "\n",
    "#print(df['education'].value_counts())\n",
    "#print(df['family_status'].value_counts())\n",
    "print(df['gender'].value_counts())\n",
    "\n",
    "print(df['children'].value_counts())\n",
    "#print(df['income_type'].value_counts())\n",
    "#print(df['purpose'].value_counts())\n"
   ]
  },
  {
   "cell_type": "markdown",
   "metadata": {},
   "source": [
    "-'education' column has duplicate values due to the case-sensitivity. The reason could probably be an programming error (not handling case converting) while collecting data.\n",
    "\n",
    "-'gender' column has invalid value. It could be probably because there are  people who do not want to disclose their gender or not an option to choose what they want to.\n",
    "\n",
    "-'children' column has values from -1 to 20. -1 is again invalid and could be error in data retrieving process or they just want to indicate no child or lost child which aren't options there. However, -1 indicates more like no or none to us.So, we are moving 41 records with 'no children' to zero children bucket.\n",
    "\n",
    "For all the issues above, I would definitely raise to concern person (developers) so that we can get more accurate data in future.\n"
   ]
  },
  {
   "cell_type": "code",
   "execution_count": 6,
   "metadata": {
    "scrolled": true
   },
   "outputs": [
    {
     "name": "stdout",
     "output_type": "stream",
     "text": [
      "Dataframe shape is: (19351, 12)\n"
     ]
    }
   ],
   "source": [
    "# drop all those rows containing missing values to avoid any error\n",
    "\n",
    "df.dropna(inplace = True)\n",
    "# drop duplicates\n",
    "df.drop_duplicates(inplace = True)\n",
    "print('Dataframe shape is:', df.shape)\n",
    "\n",
    "\n",
    "#df.info()"
   ]
  },
  {
   "cell_type": "markdown",
   "metadata": {},
   "source": [
    "- while preprocessing data, we also checked for the existence of duplicate records in the file/table. If there are, dropna(), drop_duplicates() methods will allow us to analyze and drop rows/columns with null values."
   ]
  },
  {
   "cell_type": "markdown",
   "metadata": {},
   "source": [
    "<div class=\"alert alert-block alert-warning\">\n",
    "   <h2>Reviewer's commentary <a class=\"tocSkip\"> </h2>\n",
    "    <br/>\n",
    "<b>Remarks and recommendations📌:</b>  \n",
    "       \n",
    "Ok, yes, it is better not to remove so great amount of the data from the dataframe, but thnk about the strategies of filling in the missing values or if it is impossible to fill in the missing values we can simply leave missing values in the data unchanged, because sometimes when the procent of the missing values is big and the data is rather sensitive our attempts to fill in missing values using mean or median can be risky in terms of distortion of the original data, so it is important to take it into consideration!👀"
   ]
  },
  {
   "cell_type": "markdown",
   "metadata": {},
   "source": [
    "## Step 3: Data type replacement"
   ]
  },
  {
   "cell_type": "code",
   "execution_count": 7,
   "metadata": {
    "scrolled": false
   },
   "outputs": [
    {
     "data": {
      "text/plain": [
       "children              int64\n",
       "days_employed       float64\n",
       "dob_years             int64\n",
       "education            object\n",
       "education_id          int64\n",
       "family_status        object\n",
       "family_status_id      int64\n",
       "gender               object\n",
       "income_type          object\n",
       "debt                  int64\n",
       "total_income        float64\n",
       "purpose              object\n",
       "dtype: object"
      ]
     },
     "metadata": {},
     "output_type": "display_data"
    },
    {
     "data": {
      "text/html": [
       "<div>\n",
       "<style scoped>\n",
       "    .dataframe tbody tr th:only-of-type {\n",
       "        vertical-align: middle;\n",
       "    }\n",
       "\n",
       "    .dataframe tbody tr th {\n",
       "        vertical-align: top;\n",
       "    }\n",
       "\n",
       "    .dataframe thead th {\n",
       "        text-align: right;\n",
       "    }\n",
       "</style>\n",
       "<table border=\"1\" class=\"dataframe\">\n",
       "  <thead>\n",
       "    <tr style=\"text-align: right;\">\n",
       "      <th></th>\n",
       "      <th>children</th>\n",
       "      <th>days_employed</th>\n",
       "      <th>dob_years</th>\n",
       "      <th>education_id</th>\n",
       "      <th>family_status_id</th>\n",
       "      <th>debt</th>\n",
       "      <th>total_income</th>\n",
       "    </tr>\n",
       "  </thead>\n",
       "  <tbody>\n",
       "    <tr>\n",
       "      <td>count</td>\n",
       "      <td>19351.000000</td>\n",
       "      <td>19351.000000</td>\n",
       "      <td>19351.000000</td>\n",
       "      <td>19351.000000</td>\n",
       "      <td>19351.000000</td>\n",
       "      <td>19351.000000</td>\n",
       "      <td>19351.000000</td>\n",
       "    </tr>\n",
       "    <tr>\n",
       "      <td>mean</td>\n",
       "      <td>0.537388</td>\n",
       "      <td>63046.497661</td>\n",
       "      <td>43.255336</td>\n",
       "      <td>0.819079</td>\n",
       "      <td>0.972249</td>\n",
       "      <td>0.081184</td>\n",
       "      <td>26787.568355</td>\n",
       "    </tr>\n",
       "    <tr>\n",
       "      <td>std</td>\n",
       "      <td>1.371408</td>\n",
       "      <td>140827.311974</td>\n",
       "      <td>12.579170</td>\n",
       "      <td>0.550104</td>\n",
       "      <td>1.420596</td>\n",
       "      <td>0.273125</td>\n",
       "      <td>16475.450632</td>\n",
       "    </tr>\n",
       "    <tr>\n",
       "      <td>min</td>\n",
       "      <td>-1.000000</td>\n",
       "      <td>-18388.949901</td>\n",
       "      <td>0.000000</td>\n",
       "      <td>0.000000</td>\n",
       "      <td>0.000000</td>\n",
       "      <td>0.000000</td>\n",
       "      <td>3306.762000</td>\n",
       "    </tr>\n",
       "    <tr>\n",
       "      <td>25%</td>\n",
       "      <td>0.000000</td>\n",
       "      <td>-2747.423625</td>\n",
       "      <td>33.000000</td>\n",
       "      <td>1.000000</td>\n",
       "      <td>0.000000</td>\n",
       "      <td>0.000000</td>\n",
       "      <td>16488.504500</td>\n",
       "    </tr>\n",
       "    <tr>\n",
       "      <td>50%</td>\n",
       "      <td>0.000000</td>\n",
       "      <td>-1203.369529</td>\n",
       "      <td>42.000000</td>\n",
       "      <td>1.000000</td>\n",
       "      <td>0.000000</td>\n",
       "      <td>0.000000</td>\n",
       "      <td>23202.870000</td>\n",
       "    </tr>\n",
       "    <tr>\n",
       "      <td>75%</td>\n",
       "      <td>1.000000</td>\n",
       "      <td>-291.095954</td>\n",
       "      <td>53.000000</td>\n",
       "      <td>1.000000</td>\n",
       "      <td>1.000000</td>\n",
       "      <td>0.000000</td>\n",
       "      <td>32549.611000</td>\n",
       "    </tr>\n",
       "    <tr>\n",
       "      <td>max</td>\n",
       "      <td>20.000000</td>\n",
       "      <td>401755.400475</td>\n",
       "      <td>75.000000</td>\n",
       "      <td>4.000000</td>\n",
       "      <td>4.000000</td>\n",
       "      <td>1.000000</td>\n",
       "      <td>362496.645000</td>\n",
       "    </tr>\n",
       "  </tbody>\n",
       "</table>\n",
       "</div>"
      ],
      "text/plain": [
       "           children  days_employed     dob_years  education_id  \\\n",
       "count  19351.000000   19351.000000  19351.000000  19351.000000   \n",
       "mean       0.537388   63046.497661     43.255336      0.819079   \n",
       "std        1.371408  140827.311974     12.579170      0.550104   \n",
       "min       -1.000000  -18388.949901      0.000000      0.000000   \n",
       "25%        0.000000   -2747.423625     33.000000      1.000000   \n",
       "50%        0.000000   -1203.369529     42.000000      1.000000   \n",
       "75%        1.000000    -291.095954     53.000000      1.000000   \n",
       "max       20.000000  401755.400475     75.000000      4.000000   \n",
       "\n",
       "       family_status_id          debt   total_income  \n",
       "count      19351.000000  19351.000000   19351.000000  \n",
       "mean           0.972249      0.081184   26787.568355  \n",
       "std            1.420596      0.273125   16475.450632  \n",
       "min            0.000000      0.000000    3306.762000  \n",
       "25%            0.000000      0.000000   16488.504500  \n",
       "50%            0.000000      0.000000   23202.870000  \n",
       "75%            1.000000      0.000000   32549.611000  \n",
       "max            4.000000      1.000000  362496.645000  "
      ]
     },
     "execution_count": 7,
     "metadata": {},
     "output_type": "execute_result"
    }
   ],
   "source": [
    "#checking the datatypes to see if datatypes need conversion \n",
    "display(df.dtypes)\n",
    "\n",
    "#calculating descriptive statistics to get idea how data is distributed\n",
    "df.describe()"
   ]
  },
  {
   "cell_type": "markdown",
   "metadata": {},
   "source": [
    "- checking data typed of the columns"
   ]
  },
  {
   "cell_type": "code",
   "execution_count": 8,
   "metadata": {
    "scrolled": false
   },
   "outputs": [
    {
     "data": {
      "text/html": [
       "<div>\n",
       "<style scoped>\n",
       "    .dataframe tbody tr th:only-of-type {\n",
       "        vertical-align: middle;\n",
       "    }\n",
       "\n",
       "    .dataframe tbody tr th {\n",
       "        vertical-align: top;\n",
       "    }\n",
       "\n",
       "    .dataframe thead th {\n",
       "        text-align: right;\n",
       "    }\n",
       "</style>\n",
       "<table border=\"1\" class=\"dataframe\">\n",
       "  <thead>\n",
       "    <tr style=\"text-align: right;\">\n",
       "      <th></th>\n",
       "      <th>children</th>\n",
       "      <th>days_employed</th>\n",
       "      <th>dob_years</th>\n",
       "      <th>education_id</th>\n",
       "      <th>family_status_id</th>\n",
       "      <th>debt</th>\n",
       "      <th>total_income</th>\n",
       "    </tr>\n",
       "  </thead>\n",
       "  <tbody>\n",
       "    <tr>\n",
       "      <td>count</td>\n",
       "      <td>19351.000000</td>\n",
       "      <td>19351.000000</td>\n",
       "      <td>19351.000000</td>\n",
       "      <td>19351.000000</td>\n",
       "      <td>19351.000000</td>\n",
       "      <td>19351.000000</td>\n",
       "      <td>19351.000000</td>\n",
       "    </tr>\n",
       "    <tr>\n",
       "      <td>mean</td>\n",
       "      <td>0.537388</td>\n",
       "      <td>66914.229601</td>\n",
       "      <td>43.255336</td>\n",
       "      <td>0.819079</td>\n",
       "      <td>0.972249</td>\n",
       "      <td>0.081184</td>\n",
       "      <td>26787.071262</td>\n",
       "    </tr>\n",
       "    <tr>\n",
       "      <td>std</td>\n",
       "      <td>1.371408</td>\n",
       "      <td>139030.879867</td>\n",
       "      <td>12.579170</td>\n",
       "      <td>0.550104</td>\n",
       "      <td>1.420596</td>\n",
       "      <td>0.273125</td>\n",
       "      <td>16475.452412</td>\n",
       "    </tr>\n",
       "    <tr>\n",
       "      <td>min</td>\n",
       "      <td>-1.000000</td>\n",
       "      <td>24.000000</td>\n",
       "      <td>0.000000</td>\n",
       "      <td>0.000000</td>\n",
       "      <td>0.000000</td>\n",
       "      <td>0.000000</td>\n",
       "      <td>3306.000000</td>\n",
       "    </tr>\n",
       "    <tr>\n",
       "      <td>25%</td>\n",
       "      <td>0.000000</td>\n",
       "      <td>926.500000</td>\n",
       "      <td>33.000000</td>\n",
       "      <td>1.000000</td>\n",
       "      <td>0.000000</td>\n",
       "      <td>0.000000</td>\n",
       "      <td>16488.000000</td>\n",
       "    </tr>\n",
       "    <tr>\n",
       "      <td>50%</td>\n",
       "      <td>0.000000</td>\n",
       "      <td>2194.000000</td>\n",
       "      <td>42.000000</td>\n",
       "      <td>1.000000</td>\n",
       "      <td>0.000000</td>\n",
       "      <td>0.000000</td>\n",
       "      <td>23202.000000</td>\n",
       "    </tr>\n",
       "    <tr>\n",
       "      <td>75%</td>\n",
       "      <td>1.000000</td>\n",
       "      <td>5537.000000</td>\n",
       "      <td>53.000000</td>\n",
       "      <td>1.000000</td>\n",
       "      <td>1.000000</td>\n",
       "      <td>0.000000</td>\n",
       "      <td>32549.500000</td>\n",
       "    </tr>\n",
       "    <tr>\n",
       "      <td>max</td>\n",
       "      <td>20.000000</td>\n",
       "      <td>401755.000000</td>\n",
       "      <td>75.000000</td>\n",
       "      <td>4.000000</td>\n",
       "      <td>4.000000</td>\n",
       "      <td>1.000000</td>\n",
       "      <td>362496.000000</td>\n",
       "    </tr>\n",
       "  </tbody>\n",
       "</table>\n",
       "</div>"
      ],
      "text/plain": [
       "           children  days_employed     dob_years  education_id  \\\n",
       "count  19351.000000   19351.000000  19351.000000  19351.000000   \n",
       "mean       0.537388   66914.229601     43.255336      0.819079   \n",
       "std        1.371408  139030.879867     12.579170      0.550104   \n",
       "min       -1.000000      24.000000      0.000000      0.000000   \n",
       "25%        0.000000     926.500000     33.000000      1.000000   \n",
       "50%        0.000000    2194.000000     42.000000      1.000000   \n",
       "75%        1.000000    5537.000000     53.000000      1.000000   \n",
       "max       20.000000  401755.000000     75.000000      4.000000   \n",
       "\n",
       "       family_status_id          debt   total_income  \n",
       "count      19351.000000  19351.000000   19351.000000  \n",
       "mean           0.972249      0.081184   26787.071262  \n",
       "std            1.420596      0.273125   16475.452412  \n",
       "min            0.000000      0.000000    3306.000000  \n",
       "25%            0.000000      0.000000   16488.000000  \n",
       "50%            0.000000      0.000000   23202.000000  \n",
       "75%            1.000000      0.000000   32549.500000  \n",
       "max            4.000000      1.000000  362496.000000  "
      ]
     },
     "execution_count": 8,
     "metadata": {},
     "output_type": "execute_result"
    }
   ],
   "source": [
    "\n",
    "#step 1: converting negative numbers to positive numbers\n",
    "df['days_employed'] = abs(df['days_employed'])\n",
    "\n",
    "#step 2:converting float data numbers into integers\n",
    "df['days_employed'] = df['days_employed'].astype(int)\n",
    "df['total_income'] = df['total_income'].astype(int)\n",
    "\n",
    "#step 3:filling up nullvalues by the median value of the column\n",
    "df['days_employed'] = df['days_employed'].fillna(value = df['days_employed'].median())\n",
    "df['total_income'] = df['total_income'].fillna(value=df['total_income'].median())\n",
    "\n",
    "# step 4:converting all uppercase characters in a string into lowercase charaters\n",
    "# this converts the column values to string and apply str.lower() function, \n",
    "# make it easily to find unique values\n",
    "df['family_status'] = df['family_status'].str.lower()\n",
    "df['education'] = df['education'].str.lower()\n",
    "df['income_type'] = df['income_type'].str.lower()\n",
    "df['purpose'] = df['purpose'].str.lower()\n",
    "#df.info()\n",
    "#print(df['purpose'].value_counts())\n",
    "\n",
    "# we can choose only those columns that we want to analyze \n",
    "#by using this syntax df[[]]\n",
    "#subset of the columns you want to see\n",
    "df[['days_employed','total_income','education','family_status','income_type','purpose']]\n",
    "\n",
    "#calculating descriptive statistics\n",
    "df.describe()"
   ]
  },
  {
   "cell_type": "code",
   "execution_count": 9,
   "metadata": {},
   "outputs": [
    {
     "name": "stdout",
     "output_type": "stream",
     "text": [
      "F          12752\n",
      "M           6598\n",
      "Unknown        1\n",
      "Name: gender, dtype: int64\n",
      "0     12754\n",
      "1      4343\n",
      "2      1851\n",
      "3       294\n",
      "20       67\n",
      "4        34\n",
      "5         8\n",
      "Name: children, dtype: int64\n",
      "secondary education    13693\n",
      "bachelor's degree       4716\n",
      "some college             675\n",
      "primary education        261\n",
      "graduate degree            6\n",
      "Name: education, dtype: int64\n",
      "<class 'pandas.core.frame.DataFrame'>\n",
      "Int64Index: 19351 entries, 0 to 21524\n",
      "Data columns (total 12 columns):\n",
      "children            19351 non-null int64\n",
      "days_employed       19351 non-null int64\n",
      "dob_years           19351 non-null int64\n",
      "education           19351 non-null object\n",
      "education_id        19351 non-null int64\n",
      "family_status       19351 non-null object\n",
      "family_status_id    19351 non-null int64\n",
      "gender              19351 non-null object\n",
      "income_type         19351 non-null object\n",
      "debt                19351 non-null int64\n",
      "total_income        19351 non-null int64\n",
      "purpose             19351 non-null object\n",
      "dtypes: int64(7), object(5)\n",
      "memory usage: 1.9+ MB\n"
     ]
    }
   ],
   "source": [
    "\n",
    "#step 5: fixing data discrepancies using loc method to replace invalid column values\n",
    "\n",
    "df.loc[df.gender =='XNA','gender']='Unknown'\n",
    "print(df['gender'].value_counts())\n",
    "\n",
    "df.loc[df.children == -1,'children'] = 0\n",
    "print(df['children'].value_counts())\n",
    "#print(df['purpose'].value_counts())\n",
    "print(df['education'].value_counts())\n",
    "\n",
    "df.info()"
   ]
  },
  {
   "cell_type": "markdown",
   "metadata": {},
   "source": [
    "### Conclusion:"
   ]
  },
  {
   "cell_type": "markdown",
   "metadata": {},
   "source": [
    "There will always be potential bad data as nothing is perfect in this world. Possible reasons why there are data discrepancies are probably because:\n",
    "    a) users forgot to fill in\n",
    "    b) not an option to choose what they prefer to choose or users choose not to fill in data\n",
    "    c) data lost while retrieving\n",
    "    d) programming error\n",
    "    e) and many more\n",
    "As a good practice, an analyst should always start by finding, cleansing and organizing data before beginning the real analysis.\n",
    "To do that: \n",
    "- We used astype() method  to change 'days_employed' and 'total_income' to integer and abs()method to remove negative numbers.\n",
    "\n",
    "- We used fillna() method to backfill 'days_employed' and 'total_income' columns with mean.\n",
    "\n",
    "- We used loc() method to replace invalid values. We could take that decision because those values are significantly less (.1% of overall data) and will not make impact on the analysis. Apparently, the goal here is to fix as much as we can so that we can get accurate analysis.\n",
    "\n",
    "- There are duplicates in the 'education', 'family_status','income_type' and 'purpose' columns due to case-sensitivity. We converted the values to lower-case using str.lower() method. There are similar values in those columns which we can be handled in the step 5 through stemming and lemmatization.\n",
    "\n",
    "- We used median values of the columns 'days_employed' and 'total_income' to replace missing values respectively. Mean,median and mode are the appropriate ways to replace missing values and measure central tendency of data. In our case, there are several large values of data points which act as outliers in 'days_employed' and 'total_income' columns. For example, 'days_employed' value range from 139.53 to 401755.40. Hence, it is not recommended to use mean for replacing the missing values. Instead, we used median imputation. When data is skewed, it is good to consider using median value. \n",
    " \n"
   ]
  },
  {
   "cell_type": "markdown",
   "metadata": {},
   "source": [
    "<div class=\"alert alert-block alert-danger\">\n",
    "    <h2>Reviewer's commentary <a class=\"tocSkip\"> </h2>\n",
    "    <br/>\n",
    "<b>Needs fixing!🤔:</b>\n",
    "       \n",
    "Pranita, I have some recommendations for you at this step of the analysis:\n",
    "        \n",
    "1) you noticed earlier that the column `days_employed` has negative values, so it is better to get rid of them before filling in missing values, so use `abs()` method to fix this moment. So, firstly you need to change the data type from `float` to `int` an then use `abs()` method that can help you to get rid of negative values in the column `days_employed`, because in reality we cannot have a negative days of employment\n",
    "        \n",
    "2) some of the columns have error values, for example XNA in gender, -1 and 20 in children, it is better to investigate all the columns for such values and offer a strategy of dealing with such anomalies and artefacts values.\n",
    "        \n",
    "3) as for filling in missing values: you used the mean, but it is better to use median, because this statistics is more resistant to outliers. As a whole I would like to recommend you to be more careful with handling missing values first you should check how large their share is.\n",
    "        \n",
    "So, finally is important to understand the nature of the missing values, formulate hypotheses or reasons for the presence of missing values in the data, and based on these hypotheses, try to choose a way to fill the data. It is important to understand that replacing missing values with a simple median or mean by column can significantly distort the original data if the percentage of gaps in the columns exceeds 10%.\n",
    "    \n",
    "So here you can use grouping method, when you try to understand what factors can be connected to each other and use `groupby` method for aggregating and filling in the data. For example, you can check the typical values of the client, depending on the age, education and type of employment of the client. Or check other dependencies. You can lso use correlation to check the dependancies and then use grouping method to restore the data."
   ]
  },
  {
   "cell_type": "markdown",
   "metadata": {},
   "source": [
    "<div class=\"alert alert-block alert-success\">\n",
    "    <h2>Reviewer's commentary: second iteration of the review <a class=\"tocSkip\"> </h2>\n",
    "    <br/>\n",
    "<b>Well done!👍:</b> \n",
    "        \n",
    "Ok, it is great that you tried to follow my recommendations in some cases, you preprocess the anomalies in column children and gender correctly."
   ]
  },
  {
   "cell_type": "markdown",
   "metadata": {},
   "source": [
    "<div class=\"alert alert-block alert-success\">\n",
    "    <h2>Reviewer's commentary<a class=\"tocSkip\"> </h2>\n",
    "    <br/>\n",
    "<b>Well done!👍:</b> \n",
    "        \n",
    "Ok, it is correct action to use the str.lower here, it can help to remove some dublicates in column education especially!"
   ]
  },
  {
   "cell_type": "markdown",
   "metadata": {},
   "source": [
    "## Step 4: Processing duplicates"
   ]
  },
  {
   "cell_type": "code",
   "execution_count": 10,
   "metadata": {
    "scrolled": true
   },
   "outputs": [
    {
     "name": "stdout",
     "output_type": "stream",
     "text": [
      "0\n",
      "Empty DataFrame\n",
      "Columns: [children, days_employed, dob_years, education, education_id, family_status, family_status_id, gender, income_type, debt, total_income, purpose]\n",
      "Index: []\n",
      "<class 'pandas.core.frame.DataFrame'>\n",
      "Int64Index: 19351 entries, 0 to 21524\n",
      "Data columns (total 12 columns):\n",
      "children            19351 non-null int64\n",
      "days_employed       19351 non-null int64\n",
      "dob_years           19351 non-null int64\n",
      "education           19351 non-null object\n",
      "education_id        19351 non-null int64\n",
      "family_status       19351 non-null object\n",
      "family_status_id    19351 non-null int64\n",
      "gender              19351 non-null object\n",
      "income_type         19351 non-null object\n",
      "debt                19351 non-null int64\n",
      "total_income        19351 non-null int64\n",
      "purpose             19351 non-null object\n",
      "dtypes: int64(7), object(5)\n",
      "memory usage: 1.9+ MB\n"
     ]
    }
   ],
   "source": [
    "#finding duplicate data\n",
    "#print(df[df.duplicated(subset = None, keep = 'first')])\n",
    "print(df.duplicated().sum())\n",
    "print(df[df.duplicated()])\n",
    "df.info()\n",
    "\n",
    "\n",
    "\n"
   ]
  },
  {
   "cell_type": "markdown",
   "metadata": {},
   "source": [
    "## Conclusion:"
   ]
  },
  {
   "cell_type": "markdown",
   "metadata": {},
   "source": [
    "After we are done with preprocessing, we dropped duplicates at the end, just in case, if there are any left. It is a good practice to check duplicates and delete them after we're done with the rest of the preprocessing."
   ]
  },
  {
   "cell_type": "markdown",
   "metadata": {},
   "source": [
    "## Step 5:  Categorizing Data"
   ]
  },
  {
   "cell_type": "code",
   "execution_count": 11,
   "metadata": {
    "scrolled": true
   },
   "outputs": [
    {
     "name": "stdout",
     "output_type": "stream",
     "text": [
      "house        8050\n",
      "car          3897\n",
      "education    3240\n",
      "wedding      2099\n",
      "Name: purpose, dtype: int64\n",
      "       days_employed  debt  total_income    purpose\n",
      "0               8437     0         40620      house\n",
      "1               4024     0         17932        car\n",
      "2               5623     0         23341      house\n",
      "3               4124     0         42820  education\n",
      "4             340266     0         25378    wedding\n",
      "...              ...   ...           ...        ...\n",
      "19346           4529     0         35966       None\n",
      "19347         343937     0         24959        car\n",
      "19348           2113     1         14347      house\n",
      "19349           3112     1         39054        car\n",
      "19350           1984     0         13127        car\n",
      "\n",
      "[19351 rows x 4 columns]\n"
     ]
    }
   ],
   "source": [
    "import nltk\n",
    "from nltk.stem import WordNetLemmatizer\n",
    "wordnet_lemma = WordNetLemmatizer()\n",
    "\n",
    "#import pandas as pd\n",
    "#df = pd.read_csv('/datasets/credit_scoring_eng.csv')\n",
    "\n",
    "#df['purpose'] = df['purpose'].str.lower()\n",
    "#print(df['purpose'])\n",
    "\n",
    "# copying modified dataframe\n",
    "df = df.copy()\n",
    "\n",
    "def lemma_words(row):\n",
    "    return [wordnet_lemma.lemmatize(word, pos='n') for word in nltk.word_tokenize(row)]\n",
    "\n",
    "#lemmatizing with lemmatize() method\n",
    "df['purpose'] = df['purpose'].apply(lemma_words)\n",
    "#print(df['purpose'].value_counts())\n",
    "\n",
    "# 'purpose_category' function will put customer into categories\n",
    "def purpose_category(row):\n",
    "    if 'car' in row:\n",
    "        return 'car'\n",
    "    elif 'house' in row  or 'rent' in row or 'resident' in row or'estate' in row or 'property' in row:\n",
    "        return 'house'\n",
    "    elif 'wedding' in row:\n",
    "        return 'wedding'\n",
    "    elif 'education' in row or 'university' in row:\n",
    "        return 'education'\n",
    "            \n",
    "df['purpose'] = df['purpose'].apply(purpose_category)\n",
    "print(df['purpose'].value_counts())\n",
    "\n",
    "loan_dict = df[['days_employed', 'debt', 'total_income', 'purpose']]\n",
    "loan_dict = loan_dict.drop_duplicates().reset_index(drop=True)\n",
    "print(loan_dict)\n",
    "\n",
    "\n"
   ]
  },
  {
   "cell_type": "markdown",
   "metadata": {},
   "source": [
    "### Conclusion:"
   ]
  },
  {
   "cell_type": "markdown",
   "metadata": {},
   "source": [
    "We created a function using if rules to categorize 'purpose' column to sort the data into four unique categories. This allowed us to categorize the data based on one of the four for basic categories. We did that by lemmatizing the data in 'purpose' column.\n",
    "We created 'loan_dict' dictionary and dropped all the duplicates to make our data unique and get more accurate analysis at the end.\n"
   ]
  },
  {
   "cell_type": "markdown",
   "metadata": {},
   "source": [
    "<div class=\"alert alert-block alert-success\">\n",
    "    <h2>Reviewer's commentary <a class=\"tocSkip\"> </h2>\n",
    "    <br/>\n",
    "<b>Well done!👍:</b> \n",
    "    \n",
    "Ok, I agree with your decision and actions here! You correctly conducted the categorization of the data,  good job! "
   ]
  },
  {
   "cell_type": "markdown",
   "metadata": {},
   "source": [
    "## Answer these questions"
   ]
  },
  {
   "cell_type": "markdown",
   "metadata": {},
   "source": [
    "- Is there a relation between having kids and repaying a loan on time?"
   ]
  },
  {
   "cell_type": "code",
   "execution_count": 12,
   "metadata": {
    "scrolled": false
   },
   "outputs": [
    {
     "name": "stdout",
     "output_type": "stream",
     "text": [
      "no kid repays loans 7.47%\n",
      "one kid repays loans 9.39%\n",
      "two kids repays loans 9.56%\n",
      "three kids repays loans 7.48%\n",
      "four kids repays loans 8.82%\n",
      "twenty kids pay loans 11.94% \n"
     ]
    }
   ],
   "source": [
    "# replacing/copy modified dataframe \n",
    "df = df.copy()\n",
    "#df.info()\n",
    "#display(df.dtypes)\n",
    "\n",
    "children_debt = df[['children', 'debt']].copy()\n",
    "#print(children_debt.groupby('children'))\n",
    "\n",
    "\n",
    "def children_debt_func(row):\n",
    "    children = row['children']\n",
    "    debt = row['debt']\n",
    "    if children == 0 and debt == 0 :\n",
    "        return 'no_children_paid'\n",
    "    elif children == 0 and debt == 1: \n",
    "        return 'no_children_unpaid'\n",
    "    elif children == 1 and debt == 0:\n",
    "        return 'one_children_paid'\n",
    "    elif children == 1 and debt == 1:\n",
    "        return 'one_children_unpaid'\n",
    "    elif children == 2 and debt == 0: \n",
    "        return 'two_children_paid'\n",
    "    elif children == 2 and debt == 1: \n",
    "        return 'two_children_unpaid'\n",
    "    elif children == 3 and debt == 0:\n",
    "        return 'three_children_paid'\n",
    "    elif children == 3 and debt == 1: \n",
    "        return 'three_children_unpaid'\n",
    "    elif children == 4 and debt == 0:\n",
    "        return 'four_children_paid'\n",
    "    elif children == 4 and debt == 1: \n",
    "        return 'four_children_unpaid'\n",
    "    elif children == 5 and debt == 0:\n",
    "        return 'five_children_paid'\n",
    "    elif children == 5 and debt == 1: \n",
    "        return 'five_children_unpaid'\n",
    "    elif children == 20 and debt == 0: \n",
    "         return 'twenty_children_paid'\n",
    "    elif children == 20 and debt == 1: \n",
    "        return 'twenty_children_unpaid'\n",
    "\n",
    "# function to be applied to each column of datafram\n",
    "children_debt['children_debt_group'] = children_debt.apply(children_debt_func, axis=1)\n",
    "\n",
    "\n",
    "#children_debt['children_total'] = children_debt.groupby('children')['debt'].count()\n",
    "\n",
    "children_debt = children_debt.dropna()\n",
    "children_debt = children_debt['children_debt_group'].value_counts()\n",
    "#print(children_debt.head(10))\n",
    "\n",
    "#calculating loans(paid and uppaid) grouped by number of childrens\n",
    "no_children_total = children_debt['no_children_unpaid'] + children_debt['no_children_paid']\n",
    "one_children_total = children_debt['one_children_unpaid'] + children_debt['one_children_paid']\n",
    "two_children_total = children_debt['two_children_unpaid'] + children_debt['two_children_paid']\n",
    "three_children_total = children_debt['three_children_unpaid'] + children_debt['three_children_paid']\n",
    "four_children_total = children_debt['four_children_unpaid'] + children_debt['four_children_paid']\n",
    "#five_children_total = children_debt['five_children_unpaid'] + children_debt['five_children_paid']\n",
    "\n",
    "#calculating loan rate per number of children\n",
    "no_children_loan_rate = children_debt['no_children_unpaid'] / no_children_total\n",
    "one_children_loan_rate = children_debt['one_children_unpaid'] / one_children_total\n",
    "two_children_loan_rate = children_debt['two_children_unpaid'] / two_children_total\n",
    "three_children_loan_rate = children_debt['three_children_unpaid'] / three_children_total\n",
    "four_children_loan_rate = children_debt['four_children_unpaid'] /four_children_total\n",
    "#five_children_loan_rate = children_debt['five_children_unpaid'] / five_children_total\n",
    "\n",
    "#there were only 9 indiviuals in the data set with 5 children so I excluded them\n",
    "\n",
    "twenty_children_total = children_debt['twenty_children_unpaid'] + children_debt['twenty_children_paid']\n",
    "twenty_children_loan_rate = children_debt['twenty_children_unpaid'] / twenty_children_total\n",
    "\n",
    "print('no kid repays loans {:.2%}'.format(no_children_loan_rate))\n",
    "\n",
    "print('one kid repays loans {:.2%}'.format(one_children_loan_rate))\n",
    "\n",
    "print('two kids repays loans {:.2%}'.format(two_children_loan_rate))\n",
    "\n",
    "print('three kids repays loans {:.2%}'.format(three_children_loan_rate))\n",
    "\n",
    "print('four kids repays loans {:.2%}'.format(four_children_loan_rate))\n",
    "\n",
    "#print('five kids pay loans {:.2%}'.format(five_children_loan_rate))\n",
    "\n",
    "print('twenty kids pay loans {:.2%} '.format(twenty_children_loan_rate))\n"
   ]
  },
  {
   "cell_type": "markdown",
   "metadata": {},
   "source": [
    "### Conclusion:"
   ]
  },
  {
   "cell_type": "markdown",
   "metadata": {},
   "source": [
    "- Customer with no child has repay rate of 7.47% .\n",
    "- Customer with one child has repay rate of 9.39%.\n",
    "- Customer with two children has repay rate of 9.56%.\n",
    "- Customer with three children has repay rate of 7.48%.\n",
    "- Customer with four children has repay rate of 8.82%.\n",
    "  *Removed customer with five children as there are only 9 entries for that   category.\n",
    "- Customer with 20 children has repay rate of 11.94%.\n",
    "\n",
    "- The data above shows that the repay rate of the customer who has no kid is less than those customers who have one or more kids. As the number of children increase, the repay rate also increase slightly (except for customer with three children). This proves that there is a correlation between the number of kids and repaying ability. With extra expense with kids, customers tend to delay the  their loan payment.\n"
   ]
  },
  {
   "cell_type": "markdown",
   "metadata": {},
   "source": [
    "<div class=\"alert alert-block alert-success\">\n",
    "    <h2>Reviewer's commentary <a class=\"tocSkip\"> </h2>\n",
    "    <br/>\n",
    "<b>Well done!👍:</b> \n",
    "        \n",
    "Ok, Pranita, as a whole you came to the correct conclusion at this step of the analysis, good job!"
   ]
  },
  {
   "cell_type": "markdown",
   "metadata": {},
   "source": [
    "<div class=\"alert alert-block alert-warning\">\n",
    "   <h2>Reviewer's commentary <a class=\"tocSkip\"> </h2>\n",
    "    <br/>\n",
    "<b>Remarks and recommendations📌:</b>  \n",
    "       \n",
    "But I have some important recommendations for you that consider the way you formatted your code and the decision:\n",
    "       \n",
    "1) I cannot understand why you downloaded the data again and make some preprocessing. It is better to preprocess the data at the preprocessing step, here you don't need to make preprocessing again. You can simply use the cope of your data using `copy()` method.\n",
    "       \n",
    "2) as for the analysis: you can create a simple pivot table (using pivot_table method or groupby() method here). So, for example, you can use pivot_table in which as an index you take column children, as value - debt and as aggfunc you can use several aggregate functions: count, sum and mean or median. Also, you can add information about the percentage (ratio) of loan repayment, as you have already done here. So, try to optimize your decision!\n"
   ]
  },
  {
   "cell_type": "markdown",
   "metadata": {},
   "source": [
    "<div class=\"alert alert-block alert-success\">\n",
    "    <h2>Reviewer's commentary: second iteration of the review <a class=\"tocSkip\"> </h2>\n",
    "    <br/>\n",
    "<b>Well done!👍:</b> \n",
    "        \n",
    "Ok, it is great that you tried to use copy of the initial data, it is one of the best practices when you are working with code!"
   ]
  },
  {
   "cell_type": "markdown",
   "metadata": {},
   "source": [
    "- Is there a relation between marital status and repaying a loan on time?"
   ]
  },
  {
   "cell_type": "code",
   "execution_count": 13,
   "metadata": {
    "scrolled": true
   },
   "outputs": [
    {
     "name": "stdout",
     "output_type": "stream",
     "text": [
      "Married repay rate 7.59%\n",
      "Civil Partnership repay rate 9.08% \n",
      "Widowed repay rate 6.47% \n",
      "Divorced repay rate 7.02% \n",
      "Unmarried repay rate  10.06% \n"
     ]
    }
   ],
   "source": [
    "#import nltk\n",
    "#from nltk.stem import WordNetLemmatizer\n",
    "#wordnet_lemma = WordNetLemmatizer()\n",
    "\n",
    "#from collections import Counter\n",
    "\n",
    "#import pandas as pd\n",
    "#df = pd.read_csv('/datasets/credit_scoring_eng.csv')\n",
    "\n",
    "#df_null = df[df['days_employed'].isnull()]\n",
    "\n",
    "#df['days_employed'] = df['days_employed'].fillna(value=df['days_employed'].median())\n",
    "#df['total_income'] = df['total_income'].fillna(value=df['total_income'].median())\n",
    "#df['days_employed'] = df['days_employed'].astype(int)\n",
    "#df['total_income'] = df['total_income'].astype(int)\n",
    "\n",
    "#df['education'] = df['education'].str.lower()\n",
    "\n",
    "# function to convert words in 'purpose' column to it'sa base form (lemmatization)\n",
    "#def lemma_words(row):\n",
    "  #  return [wordnet_lemma.lemmatize(word, pos='n') for word in nltk.word_tokenize(row)]\n",
    "#df['purpose'] = df['purpose'].apply(lemma_words)\n",
    "\n",
    "#def lemma_category(row):\n",
    "   # if 'car' in row:\n",
    "     #   return 'car'\n",
    "    #if 'house' in row  or 'rent' in row or 'resident' in row or'estate' in row or 'property' in row:\n",
    "     #   return 'house'\n",
    "   # if 'wedding' in row:\n",
    "       # return 'wedding'\n",
    "    #if 'education' in row or 'university':\n",
    "       # return 'education'\n",
    "            \n",
    "#df['purpose'] = df['purpose'].apply(lemma_category)\n",
    "\n",
    "# copying modified dataframe\n",
    "df= df.copy()\n",
    "marital_debt = df[['family_status', 'family_status_id', 'debt']].copy()\n",
    "marital_debt = marital_debt.dropna()\n",
    "marital_debt_count = marital_debt['family_status'].value_counts()\n",
    "\n",
    "\n",
    "\n",
    "#marital_debt_count\n",
    "def marital_debt_func(row):\n",
    "    status = row['family_status_id']\n",
    "    debt = row['debt']\n",
    "    \n",
    "    if status == 0 and debt == 0 :\n",
    "        return 'married_paid'\n",
    "    elif status == 0 and debt == 1:\n",
    "        return 'married_unpaid'\n",
    "    elif status == 1 and debt == 0 :\n",
    "        return 'civil_paid'\n",
    "    elif status == 1 and debt == 1 :\n",
    "        return 'civil_unpaid'\n",
    "    elif status == 2 and debt == 0:\n",
    "        return 'widow_paid'\n",
    "    elif status == 2 and debt == 1:\n",
    "        return 'widow_unpaid'\n",
    "    elif status == 3 and debt == 0 :\n",
    "        return 'divorced_paid'\n",
    "    elif status == 3 and debt == 1 :\n",
    "        return 'divorced_unpaid'\n",
    "    elif status == 4 and debt == 0:\n",
    "        return 'unmarried_paid'\n",
    "    elif status == 4 and debt == 1:\n",
    "        return 'unmarried_unpaid'\n",
    "        \n",
    "marital_debt['marital_debt_group'] = marital_debt.apply(marital_debt_func, axis=1)\n",
    "marital_debt = marital_debt.dropna()\n",
    "marital_debt_group_counts = marital_debt['marital_debt_group'].value_counts()\n",
    "\n",
    "# calculating total per marital status\n",
    "married_total = marital_debt_count['married']\n",
    "civil_total = marital_debt_count['civil partnership']\n",
    "widow_total = marital_debt_count['widow / widower']\n",
    "divorced_total = marital_debt_count['divorced']\n",
    "unmarried_total = marital_debt_count['unmarried']\n",
    "\n",
    "# calculating total loan per marital status\n",
    "married_unpaid_rate = marital_debt_group_counts['married_unpaid'] / married_total\n",
    "civilpartner_unpaid_rate = marital_debt_group_counts['civil_unpaid'] / civil_total\n",
    "widow_unpaid_rate = marital_debt_group_counts['widow_unpaid'] / widow_total\n",
    "divorced_unpaid_rate = marital_debt_group_counts['divorced_unpaid'] / divorced_total\n",
    "unmarried_unpaid_rate = marital_debt_group_counts['unmarried_unpaid'] / unmarried_total\n",
    "\n",
    "\n",
    "print('Married repay rate {:.2%}' .format(married_unpaid_rate))\n",
    "\n",
    "print('Civil Partnership repay rate {:.2%} '.format(civilpartner_unpaid_rate))\n",
    "\n",
    "print('Widowed repay rate {:.2%} '.format(widow_unpaid_rate))\n",
    "\n",
    "print('Divorced repay rate {:.2%} '.format(divorced_unpaid_rate))\n",
    "\n",
    "print('Unmarried repay rate  {:.2%} '.format(unmarried_unpaid_rate))\n"
   ]
  },
  {
   "cell_type": "markdown",
   "metadata": {},
   "source": [
    "### Conclusion:\n",
    "- Married customer default on their loans 7.59% of the time\n",
    "- Civil Partnership customer default on their loans 9.08% of the time\n",
    "- Widowed customer default on their loans 6.47% of the time\n",
    "- Divorced customer default on their loans 7.02% of the time\n",
    "- Unmarried customer default on their loans 10.06% of the time\n",
    "\n",
    "- Based on the above numbers, married, widowed, and divorced customers have more    financial capacity compared to the unmarried or civil partnership ones. That's probably because married customers have shared assets whereas unmarried customers are young and working to make assets.\n",
    "\n"
   ]
  },
  {
   "cell_type": "markdown",
   "metadata": {},
   "source": [
    "<div class=\"alert alert-block alert-warning\">\n",
    "   <h2>Reviewer's commentary <a class=\"tocSkip\"> </h2>\n",
    "    <br/>\n",
    "<b>Remarks and recommendations📌:</b>  \n",
    "       \n",
    "Ok, again, the resulst are correct, but you can try to optimize solution if you can!🙂\n",
    "       \n",
    "And again, there is no need to conduct the preprocessing, categorization again!"
   ]
  },
  {
   "cell_type": "markdown",
   "metadata": {},
   "source": [
    "<div class=\"alert alert-block alert-success\">\n",
    "    <h2>Reviewer's commentary: second iteration of the review <a class=\"tocSkip\"> </h2>\n",
    "    <br/>\n",
    "<b>Well done!👍:</b> \n",
    "        \n",
    "Ok, good!"
   ]
  },
  {
   "cell_type": "markdown",
   "metadata": {},
   "source": [
    "- Is there a relation between income level and repaying a loan on time?"
   ]
  },
  {
   "cell_type": "code",
   "execution_count": 14,
   "metadata": {
    "scrolled": true
   },
   "outputs": [
    {
     "name": "stdout",
     "output_type": "stream",
     "text": [
      "lower income repay rate 7.92% \n",
      "medium income repay rate 8.75% \n",
      "high income replay  rate 7.05% \n"
     ]
    }
   ],
   "source": [
    "\n",
    "# copying modified dataframe\n",
    "df = df.copy()\n",
    "\n",
    "\n",
    "# using describe() to get a statistic summary on 'income_description'\n",
    "income_description = df['total_income'].describe()\n",
    "\n",
    "#print(income_description)\n",
    "low_income = income_description['25%']\n",
    "#print(low_income)\n",
    "mid_income = income_description['50%']\n",
    "#print(mid_income)\n",
    "high_income = income_description['75%']\n",
    "#print(high_income)\n",
    "\n",
    "def income_debt_func(row):\n",
    "    income = row['total_income']\n",
    "    debt = row['debt']\n",
    "    \n",
    "    if income <= low_income and debt == 0 :\n",
    "        return 'low_income_paid'\n",
    "    elif income <= low_income and debt == 1 :\n",
    "        return 'low_income_unpaid'\n",
    "    elif income <= high_income and debt == 0:\n",
    "        return 'mid_income_paid'\n",
    "    elif income <= high_income and debt == 1 :\n",
    "        return 'mid_income_unpaid'\n",
    "    elif income >= high_income and debt == 0:\n",
    "        return 'high_income_paid'\n",
    "    elif income >= high_income and debt == 1:\n",
    "        return 'high_income_unpaid'\n",
    "    \n",
    "df['income_debt_group'] = df.apply(income_debt_func,axis=1)\n",
    "\n",
    "income_debt_groups = df['income_debt_group'].value_counts()\n",
    "# total per income\n",
    "total_low_income  = income_debt_groups['low_income_unpaid'] + income_debt_groups['low_income_paid']\n",
    "total_mid_income  = income_debt_groups['mid_income_unpaid'] + income_debt_groups['mid_income_paid']\n",
    "total_high_income = income_debt_groups['high_income_unpaid'] + income_debt_groups['high_income_paid']\n",
    "\n",
    "#total loan per income \n",
    "low_income_loan_rate  = income_debt_groups['low_income_unpaid'] / total_low_income\n",
    "mid_income_loan_rate  = income_debt_groups['mid_income_unpaid'] / total_mid_income\n",
    "high_income_loan_rate = income_debt_groups['high_income_unpaid'] / total_high_income\n",
    "\n",
    "print('lower income repay rate {:.2%} '.format(low_income_loan_rate))\n",
    "print('medium income repay rate {:.2%} '.format(mid_income_loan_rate))\n",
    "print('high income replay  rate {:.2%} '.format(high_income_loan_rate))\n"
   ]
  },
  {
   "cell_type": "markdown",
   "metadata": {},
   "source": [
    "### Conclusion:"
   ]
  },
  {
   "cell_type": "markdown",
   "metadata": {},
   "source": [
    "- People with low-income default on their loans 7.92% of the time\n",
    "- People with medium income default on their loans 8.75% of the time\n",
    "- People with high income default on their loans 7.05% of the time\n",
    "\n",
    "- After analyzing the repay rate for the different income groups, we could not    find a clear correlation between level of income and repay ability. The     difference of all repay were approximately 1% for each level of income. Hence, we could not find a connection between level of income and ability to repay a loan. It is probably because the rules and regulations of bank, on amount of loan that a family can get borrow depends on the household income. This policy of reducing the amount of loan a family can afford helps to reduce the potential for default on loan.\n"
   ]
  },
  {
   "cell_type": "markdown",
   "metadata": {},
   "source": [
    "<div class=\"alert alert-block alert-warning\">\n",
    "   <h2>Reviewer's commentary <a class=\"tocSkip\"> </h2>\n",
    "    <br/>\n",
    "<b>Remarks and recommendations📌:</b>  \n",
    "       \n",
    "Ok, you are right as a whole, but try to optimize your decision here too!"
   ]
  },
  {
   "cell_type": "markdown",
   "metadata": {},
   "source": [
    "<div class=\"alert alert-block alert-success\">\n",
    "    <h2>Reviewer's commentary: second iteration of the review <a class=\"tocSkip\"> </h2>\n",
    "    <br/>\n",
    "<b>Well done!👍:</b> \n",
    "        \n",
    "You decision now looks much better, keep it up!"
   ]
  },
  {
   "cell_type": "markdown",
   "metadata": {},
   "source": [
    "- How do different loan purposes affect on-time repayment of the loan?"
   ]
  },
  {
   "cell_type": "code",
   "execution_count": 15,
   "metadata": {},
   "outputs": [
    {
     "name": "stdout",
     "output_type": "stream",
     "text": [
      "house loan repay rate7.42%\n",
      "education loan repay rate9.166667%\n",
      "car loan repay rate9.42%\n",
      "wedding loan repay rate 7.53%\n"
     ]
    }
   ],
   "source": [
    "# copying modified dataframe\n",
    "df = df.copy()\n",
    "   \n",
    "purpose_counts = df['purpose'].value_counts()\n",
    "#print(purpose_counts)\n",
    "\n",
    "# apply function     \n",
    "def purpose_debt_func(row):\n",
    "    purpose = row['purpose']\n",
    "    debt = row['debt']\n",
    "    if purpose == 'house' and debt == 0:\n",
    "        return 'paidhouse'\n",
    "    elif purpose == 'house' and debt == 1:\n",
    "        return 'unpaidhouse'\n",
    "    elif purpose == 'education' and debt == 0:\n",
    "        return 'paideducation'\n",
    "    elif purpose == 'education' and debt == 1:\n",
    "        return 'unpaideducation'\n",
    "    elif purpose == 'car' and debt == 0:\n",
    "        return 'paidcar'\n",
    "    elif purpose == 'car' and debt == 1:\n",
    "        return 'unpaidcar'\n",
    "    elif purpose == 'wedding' and debt == 0:\n",
    "        return 'paidwedding'\n",
    "    elif purpose == 'wedding' and debt == 1:\n",
    "        return 'unpaidwedding'\n",
    "    \n",
    "df['purpose_debt_group'] = df.apply(purpose_debt_func, axis=1)\n",
    "\n",
    "purpose_group_counts = df['purpose_debt_group'].value_counts()\n",
    "#print(purpose_group_counts)\n",
    "\n",
    "#calculating loan rate per purpose\n",
    "purpose_house_loan_rate = purpose_group_counts['unpaidhouse'] / purpose_counts['house']\n",
    "purpose_education_loan_rate = purpose_group_counts['unpaideducation'] / purpose_counts['education']\n",
    "purpose_car_loan_rate = purpose_group_counts['unpaidcar'] / purpose_counts['car']\n",
    "purpose_wedding_rate = purpose_group_counts['unpaidwedding'] / purpose_counts['wedding']\n",
    "\n",
    "print('house loan repay rate{:.2%}'.format(purpose_house_loan_rate))\n",
    "print('education loan repay rate{:2%}'.format(purpose_education_loan_rate))\n",
    "print('car loan repay rate{:.2%}'.format(purpose_car_loan_rate))\n",
    "print('wedding loan repay rate {:.2%}'.format(purpose_wedding_rate))\n",
    "\n",
    "\n",
    "\n",
    "        \n",
    "\n"
   ]
  },
  {
   "cell_type": "markdown",
   "metadata": {},
   "source": [
    "### Conclusion:"
   ]
  },
  {
   "cell_type": "markdown",
   "metadata": {},
   "source": [
    "- Customer with real estate loan default 7.42% of the time\n",
    "- Customer with education loan for default 9.17% of the time\n",
    "- Customer with car loan for default 9.42% of the time\n",
    "- Customer with wedding default 7.53% of the time\n",
    " \n",
    "- After analyzing repay rate based on customers' loan purpose, we found that real estate rate is better. It’s probably because those customers who are financially stable would only invest in real state. For customer with wedding loan, the rate is second lower because these customer will have's extra financial support from their spouse. For customer with car loan,the rate is higher. It's probably because the car loan tends to have lesser restriction to borrow money. It is also possible that there is unknown maintenance cost for the car. It is possible that the expense to fix the car push borrower to delay the loan payment. Education loans repay rate is higher as customers are much younger and have no stable career.\n",
    "\n",
    "\n"
   ]
  },
  {
   "cell_type": "markdown",
   "metadata": {},
   "source": [
    "<div class=\"alert alert-block alert-warning\">\n",
    "   <h2>Reviewer's commentary <a class=\"tocSkip\"> </h2>\n",
    "    <br/>\n",
    "<b>Remarks and recommendations📌:</b>  \n",
    "       \n",
    "Ok, agree with you, you have formulated a rather comprehensive conclusion here but is it better to think about the ways of optimization of your decision and reuse of the code."
   ]
  },
  {
   "cell_type": "markdown",
   "metadata": {},
   "source": [
    "<div class=\"alert alert-block alert-success\">\n",
    "    <h2>Reviewer's commentary: second iteration of the review <a class=\"tocSkip\"> </h2>\n",
    "    <br/>\n",
    "<b>Well done!👍</b> "
   ]
  },
  {
   "cell_type": "markdown",
   "metadata": {},
   "source": [
    "## Project Readiness Checklist\n",
    "\n",
    "Put 'x' in the completed points. Then press Shift + Enter."
   ]
  },
  {
   "cell_type": "markdown",
   "metadata": {},
   "source": [
    "- [x]  file open;\n",
    "- [x]  file examined;\n",
    "- [x]  missing values defined;\n",
    "- [x]  missing values are filled;\n",
    "- [x]  an explanation of which missing value types were detected;\n",
    "- [x]  explanation for the possible causes of missing values;\n",
    "- [x]  an explanation of how the blanks are filled;\n",
    "- [x]  replaced the real data type with an integer;\n",
    "- [x]  an explanation of which method is used to change the data type and why;\n",
    "- [x]  duplicates deleted;\n",
    "- [x]  an explanation of which method is used to find and remove duplicates;\n",
    "- [x]  description of the possible reasons for the appearance of duplicates in the data;\n",
    "- [x]  data is categorized;\n",
    "- [x]  an explanation of the principle of data categorization;\n",
    "- [x]  an answer to the question \"Is there a relation between having kids and repaying a loan on time?\";\n",
    "- [x]  an answer to the question \" Is there a relation between marital status and repaying a loan on time?\";\n",
    "- [x]   an answer to the question \" Is there a relation between income level and repaying a loan on time?\";\n",
    "- [x]  an answer to the question \" How do different loan purposes affect on-time repayment of the loan?\"\n",
    "- [x]  conclusions are present on each stage;\n",
    "- [x]  a general conclusion is made."
   ]
  },
  {
   "cell_type": "markdown",
   "metadata": {},
   "source": [
    "## General conclusion:"
   ]
  },
  {
   "cell_type": "markdown",
   "metadata": {},
   "source": [
    "Based on the analysis above, we can conclude that:\n",
    "\n",
    "Customers with no children or one child have potential to repay their loan on  time and customer who are divorced, married, and widowed have lower rate of repay loan as well. Financial stability and support from spouse are the main reasons for them to repay loan on time.\n",
    "However, we could not find clear correlation between customer income level and repaying loan on time. It is probably because we are missing those correlation data in our project or bank loan is more dependent on individual’s debt.\n",
    "Customers with real estate loan have lower default rate compared to those customers who have wedding, education, and car loans. It's probably because those customers who are financially stable would only invest in real state.\n",
    "Hence, this report can be considered when building a credit score for a potential customer to evaluate  the ability of a potential borrowers to replay their loan."
   ]
  },
  {
   "cell_type": "markdown",
   "metadata": {},
   "source": [
    "<div class=\"alert alert-block alert-success\">\n",
    "    <h2>Reviewer's commentary <a class=\"tocSkip\"> </h2>\n",
    "    <br/>\n",
    "<b>Well done!👍:</b> \n",
    "        \n",
    "Ok, good job! I suppose that your conclusions and insights will be really useful for your client, keep it up!"
   ]
  },
  {
   "cell_type": "markdown",
   "metadata": {},
   "source": [
    "<div style=\"border:solid Chocolate 2px; padding: 40px\">\n",
    "\n",
    "**The overall review conclusion**\n",
    "\n",
    "Pranita, thank you for submitting your project! I can see that you've worked really hard on it! You did a great job to bring the project to completion, thanks for your patience and desire to complete the project! But there are several things in your project which I suppose it is important to fix in order to make your project really ideal! My comments will navigate you!\n",
    "\n",
    "**Good things and practices in your project I want to highlight🙂**:\n",
    "\n",
    "* You use different methods for working with your data. It is really great that you can apply these methods on practice, keep it up!\n",
    "* It is great that you tried to use the automation (for loops and function) for completing the tasks! \n",
    "* You have formulated the conclusions and explanations at each step of the analysis, added the recommendation for client in the final conclusion, it is the right strategy!\n",
    "    \n",
    "**What is worth working on👀**:\n",
    "* Pay attention to formatting of the project, especially when we talk about the introduction and code cells.\n",
    "* Some of your decisions can be optimized and it is better to reuse your code, not repeat the same actions of preprocessing again and again an each new step of the analysis.\n",
    "* Please, pay more attetion to the preprocessing of the anomalies and artefacts.\n",
    "  \n",
    "**Good luck! I will wait for your work for a second iteration of the review!😉**\n",
    "\n",
    "![gif](https://media.giphy.com/media/nwyqBwP65XCAU/giphy.gif)  "
   ]
  },
  {
   "cell_type": "markdown",
   "metadata": {},
   "source": [
    "<div style=\"border:solid Chocolate 2px; padding: 40px\">\n",
    "\n",
    "**The overall review conclusion: second iteration of the review**\n",
    "\n",
    "Pranita, thank you for submitting your project with correction! I can see you progress, you have managed to improve some important moments in the project. But it is still one tiny technical error in your code, I'm sure you can quickly deal with this error. Unfortunately, I cannot accept the project if the code provides errors! So, please, try to fix it!\n",
    "    \n",
    "**Good luck! I will wait for your work for a third iteration of the review!😉**"
   ]
  },
  {
   "cell_type": "markdown",
   "metadata": {},
   "source": [
    "<div style=\"border:solid Chocolate 2px; padding: 40px\">\n",
    "\n",
    "**The overall review conclusion: third iteration of the review**\n",
    "\n",
    "Pranita, thank you for submitting your project with corrections! Now everything is alright, and I hasten to say that your project has been accepted and you can proceed to the next sprint!\n",
    "    \n",
    "**I wish you exciting and cool projects in the next sprints😉**\n",
    "\n",
    "![gif](https://media.giphy.com/media/12XDYvMJNcmLgQ/giphy.gif)  "
   ]
  },
  {
   "cell_type": "code",
   "execution_count": null,
   "metadata": {},
   "outputs": [],
   "source": []
  }
 ],
 "metadata": {
  "kernelspec": {
   "display_name": "Python 3 (ipykernel)",
   "language": "python",
   "name": "python3"
  },
  "language_info": {
   "codemirror_mode": {
    "name": "ipython",
    "version": 3
   },
   "file_extension": ".py",
   "mimetype": "text/x-python",
   "name": "python",
   "nbconvert_exporter": "python",
   "pygments_lexer": "ipython3",
   "version": "3.9.5"
  },
  "toc": {
   "base_numbering": "1",
   "nav_menu": {},
   "number_sections": false,
   "sideBar": true,
   "skip_h1_title": true,
   "title_cell": "Table of Contents",
   "title_sidebar": "Contents",
   "toc_cell": false,
   "toc_position": {
    "height": "calc(100% - 180px)",
    "left": "10px",
    "top": "150px",
    "width": "165px"
   },
   "toc_section_display": true,
   "toc_window_display": false
  }
 },
 "nbformat": 4,
 "nbformat_minor": 2
}
