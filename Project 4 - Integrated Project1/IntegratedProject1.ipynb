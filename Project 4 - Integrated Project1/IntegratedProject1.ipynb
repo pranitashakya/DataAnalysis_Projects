{
 "cells": [
  {
   "cell_type": "markdown",
   "metadata": {},
   "source": [
    "# Analyze Online Video Games sell\n",
    "\n",
    "#### Project description:\n",
    "\n",
    "We are working on a project for a online store called Ice that sells video games all over the world. User and expert reviews, genres, platforms (e.g. Xbox or PlayStation), and historical data on game sales are available from open sources. \n",
    "Let’s imagine that it’s December 2016 and you’re planning a campaign for 2017.\n",
    "\n",
    "The dataset contains the abbreviation ESRB. The Entertainment Software Rating Board evaluates a game's content and assigns an age rating such as Teen or Mature.\n",
    "\n",
    "##### Data description\n",
    "- Name\n",
    "- Platform\n",
    "- Year_of_Release\n",
    "- Genre\n",
    "- NA_sales (North American sales in USD million)\n",
    "- EU_sales (sales in Europe in USD million)\n",
    "- JP_sales (sales in Japan in USD million)\n",
    "- Other_sales (sales in other countries in USD million)\n",
    "- Critic_Score (maximum of 100)\n",
    "- User_Score (maximum of 10)\n",
    "- Rating (ESRB)\n",
    "\n",
    "#### Steps to take:\n",
    "- Step 1: Open the data file and study the general information.\n",
    "- Step 2: Prepare the data \n",
    "    - We will view the data in more detail to convert them to the required types, replace the coluimn names and find missing values.Find and eliminate errors in the data.\n",
    "- Step 3: Analyze the data \n",
    "     - Examine how many games were released in different years. Is the data for every period significant?\n",
    "     - Examine how sales varied from platform to platform. Choose the platforms with the greatest total sales and build a distribution based on data for each year. Find platforms that used to be popular but now have zero sales. How long does it generally take for new platforms to appear and old ones to fade?\n",
    "     - Determine what period you should take data for. To do so, look at your answers to the previous questions. The data should allow you to build a prognosis for 2017.\n",
    "     - Work only with the data that you've decided is relevant. Disregard the data for previous years.\n",
    "     - Which platforms are leading in sales? Which ones are growing or shrinking? Select several potentially profitable platforms.\n",
    "     - Build a box plot for the global sales of all games, broken down by platform. Are the differences in sales significant? What about average sales on various platforms? Describe your findings.\n",
    "     - Examine how user and professional reviews affect sales for one popular platform (you choose). Build a scatter plot and calculate the correlation between reviews and sales. Draw conclusions.\n",
    "      - Keeping your conclusions in mind, compare the sales of the same games on other platforms.\n",
    "      - Examine general distribution of games by genre. What can we say about the most profitable genres? Can you generalize about genres with high and low sales?\n",
    "     - For each region (NA, EU, JP), determine:\n",
    "     - The top five platforms. Describe variations in their market shares from region to region.\n",
    "      - The top five genres. Explain the difference.\n",
    "      - Do ESRB ratings affect sales in individual regions?\n",
    "\n",
    "- Step 4: Test the hypotheses\n",
    "   - Average user ratings of the Xbox One and PC platforms are the same.\n",
    "   - Average user ratings for the Action and Sports genres are different.\n",
    "   - How you formulated the null and alternative hypotheses\n",
    "   - What significance level you chose to test the hypotheses, and why\n",
    "  \n",
    "#### Goal:\n",
    "Our goal is to to identify patterns that determine whether a game succeeds or not. This will allow you to spot potential big winners and plan advertising campaigns.\n"
   ]
  },
  {
   "cell_type": "markdown",
   "metadata": {},
   "source": [
    "### Here are the steps followed to complete the project:"
   ]
  },
  {
   "cell_type": "markdown",
   "metadata": {},
   "source": [
    "## Step 1. Open the data file and study the general information"
   ]
  },
  {
   "cell_type": "code",
   "execution_count": 125,
   "metadata": {},
   "outputs": [],
   "source": [
    "##### Import default libraries\n",
    "import pandas as pd # manipulate and wrangle the data  \n",
    "import numpy as np\n",
    "import matplotlib.pyplot as plt #2d plotting library which produces publication quality figures in a variety of formats\n",
    "import seaborn as sns # Seaborn provides a high-level interface for drawing attractive and informative statistical graphics\n",
    "\n",
    "from scipy import stats # for mathematics, science, and engineering\n",
    "from math import ceil as math\n",
    "from scipy import stats as st\n",
    "#read data from file\n",
    "df = pd.read_csv('/datasets/games.csv')\n"
   ]
  },
  {
   "cell_type": "code",
   "execution_count": 126,
   "metadata": {
    "scrolled": false
   },
   "outputs": [
    {
     "name": "stdout",
     "output_type": "stream",
     "text": [
      "<class 'pandas.core.frame.DataFrame'>\n",
      "RangeIndex: 16715 entries, 0 to 16714\n",
      "Data columns (total 11 columns):\n",
      "Name               16713 non-null object\n",
      "Platform           16715 non-null object\n",
      "Year_of_Release    16446 non-null float64\n",
      "Genre              16713 non-null object\n",
      "NA_sales           16715 non-null float64\n",
      "EU_sales           16715 non-null float64\n",
      "JP_sales           16715 non-null float64\n",
      "Other_sales        16715 non-null float64\n",
      "Critic_Score       8137 non-null float64\n",
      "User_Score         10014 non-null object\n",
      "Rating             9949 non-null object\n",
      "dtypes: float64(6), object(5)\n",
      "memory usage: 1.4+ MB\n"
     ]
    },
    {
     "data": {
      "text/html": [
       "<div>\n",
       "<style scoped>\n",
       "    .dataframe tbody tr th:only-of-type {\n",
       "        vertical-align: middle;\n",
       "    }\n",
       "\n",
       "    .dataframe tbody tr th {\n",
       "        vertical-align: top;\n",
       "    }\n",
       "\n",
       "    .dataframe thead th {\n",
       "        text-align: right;\n",
       "    }\n",
       "</style>\n",
       "<table border=\"1\" class=\"dataframe\">\n",
       "  <thead>\n",
       "    <tr style=\"text-align: right;\">\n",
       "      <th></th>\n",
       "      <th>Name</th>\n",
       "      <th>Platform</th>\n",
       "      <th>Year_of_Release</th>\n",
       "      <th>Genre</th>\n",
       "      <th>NA_sales</th>\n",
       "      <th>EU_sales</th>\n",
       "      <th>JP_sales</th>\n",
       "      <th>Other_sales</th>\n",
       "      <th>Critic_Score</th>\n",
       "      <th>User_Score</th>\n",
       "      <th>Rating</th>\n",
       "    </tr>\n",
       "  </thead>\n",
       "  <tbody>\n",
       "    <tr>\n",
       "      <td>0</td>\n",
       "      <td>Wii Sports</td>\n",
       "      <td>Wii</td>\n",
       "      <td>2006.0</td>\n",
       "      <td>Sports</td>\n",
       "      <td>41.36</td>\n",
       "      <td>28.96</td>\n",
       "      <td>3.77</td>\n",
       "      <td>8.45</td>\n",
       "      <td>76.0</td>\n",
       "      <td>8</td>\n",
       "      <td>E</td>\n",
       "    </tr>\n",
       "    <tr>\n",
       "      <td>1</td>\n",
       "      <td>Super Mario Bros.</td>\n",
       "      <td>NES</td>\n",
       "      <td>1985.0</td>\n",
       "      <td>Platform</td>\n",
       "      <td>29.08</td>\n",
       "      <td>3.58</td>\n",
       "      <td>6.81</td>\n",
       "      <td>0.77</td>\n",
       "      <td>NaN</td>\n",
       "      <td>NaN</td>\n",
       "      <td>NaN</td>\n",
       "    </tr>\n",
       "    <tr>\n",
       "      <td>2</td>\n",
       "      <td>Mario Kart Wii</td>\n",
       "      <td>Wii</td>\n",
       "      <td>2008.0</td>\n",
       "      <td>Racing</td>\n",
       "      <td>15.68</td>\n",
       "      <td>12.76</td>\n",
       "      <td>3.79</td>\n",
       "      <td>3.29</td>\n",
       "      <td>82.0</td>\n",
       "      <td>8.3</td>\n",
       "      <td>E</td>\n",
       "    </tr>\n",
       "    <tr>\n",
       "      <td>3</td>\n",
       "      <td>Wii Sports Resort</td>\n",
       "      <td>Wii</td>\n",
       "      <td>2009.0</td>\n",
       "      <td>Sports</td>\n",
       "      <td>15.61</td>\n",
       "      <td>10.93</td>\n",
       "      <td>3.28</td>\n",
       "      <td>2.95</td>\n",
       "      <td>80.0</td>\n",
       "      <td>8</td>\n",
       "      <td>E</td>\n",
       "    </tr>\n",
       "    <tr>\n",
       "      <td>4</td>\n",
       "      <td>Pokemon Red/Pokemon Blue</td>\n",
       "      <td>GB</td>\n",
       "      <td>1996.0</td>\n",
       "      <td>Role-Playing</td>\n",
       "      <td>11.27</td>\n",
       "      <td>8.89</td>\n",
       "      <td>10.22</td>\n",
       "      <td>1.00</td>\n",
       "      <td>NaN</td>\n",
       "      <td>NaN</td>\n",
       "      <td>NaN</td>\n",
       "    </tr>\n",
       "    <tr>\n",
       "      <td>...</td>\n",
       "      <td>...</td>\n",
       "      <td>...</td>\n",
       "      <td>...</td>\n",
       "      <td>...</td>\n",
       "      <td>...</td>\n",
       "      <td>...</td>\n",
       "      <td>...</td>\n",
       "      <td>...</td>\n",
       "      <td>...</td>\n",
       "      <td>...</td>\n",
       "      <td>...</td>\n",
       "    </tr>\n",
       "    <tr>\n",
       "      <td>95</td>\n",
       "      <td>Crash Bandicoot 2: Cortex Strikes Back</td>\n",
       "      <td>PS</td>\n",
       "      <td>1997.0</td>\n",
       "      <td>Platform</td>\n",
       "      <td>3.78</td>\n",
       "      <td>2.17</td>\n",
       "      <td>1.31</td>\n",
       "      <td>0.31</td>\n",
       "      <td>NaN</td>\n",
       "      <td>NaN</td>\n",
       "      <td>NaN</td>\n",
       "    </tr>\n",
       "    <tr>\n",
       "      <td>96</td>\n",
       "      <td>Super Smash Bros. for Wii U and 3DS</td>\n",
       "      <td>3DS</td>\n",
       "      <td>2014.0</td>\n",
       "      <td>Fighting</td>\n",
       "      <td>3.27</td>\n",
       "      <td>1.37</td>\n",
       "      <td>2.43</td>\n",
       "      <td>0.48</td>\n",
       "      <td>NaN</td>\n",
       "      <td>NaN</td>\n",
       "      <td>NaN</td>\n",
       "    </tr>\n",
       "    <tr>\n",
       "      <td>97</td>\n",
       "      <td>Super Mario Galaxy 2</td>\n",
       "      <td>Wii</td>\n",
       "      <td>2010.0</td>\n",
       "      <td>Platform</td>\n",
       "      <td>3.56</td>\n",
       "      <td>2.35</td>\n",
       "      <td>0.98</td>\n",
       "      <td>0.62</td>\n",
       "      <td>97.0</td>\n",
       "      <td>9.1</td>\n",
       "      <td>E</td>\n",
       "    </tr>\n",
       "    <tr>\n",
       "      <td>98</td>\n",
       "      <td>Super Mario Bros. 2</td>\n",
       "      <td>NES</td>\n",
       "      <td>1988.0</td>\n",
       "      <td>Platform</td>\n",
       "      <td>5.39</td>\n",
       "      <td>1.18</td>\n",
       "      <td>0.70</td>\n",
       "      <td>0.19</td>\n",
       "      <td>NaN</td>\n",
       "      <td>NaN</td>\n",
       "      <td>NaN</td>\n",
       "    </tr>\n",
       "    <tr>\n",
       "      <td>99</td>\n",
       "      <td>Call of Duty: Black Ops 3</td>\n",
       "      <td>XOne</td>\n",
       "      <td>2015.0</td>\n",
       "      <td>Shooter</td>\n",
       "      <td>4.59</td>\n",
       "      <td>2.11</td>\n",
       "      <td>0.01</td>\n",
       "      <td>0.68</td>\n",
       "      <td>NaN</td>\n",
       "      <td>NaN</td>\n",
       "      <td>NaN</td>\n",
       "    </tr>\n",
       "  </tbody>\n",
       "</table>\n",
       "<p>100 rows × 11 columns</p>\n",
       "</div>"
      ],
      "text/plain": [
       "                                      Name Platform  Year_of_Release  \\\n",
       "0                               Wii Sports      Wii           2006.0   \n",
       "1                        Super Mario Bros.      NES           1985.0   \n",
       "2                           Mario Kart Wii      Wii           2008.0   \n",
       "3                        Wii Sports Resort      Wii           2009.0   \n",
       "4                 Pokemon Red/Pokemon Blue       GB           1996.0   \n",
       "..                                     ...      ...              ...   \n",
       "95  Crash Bandicoot 2: Cortex Strikes Back       PS           1997.0   \n",
       "96     Super Smash Bros. for Wii U and 3DS      3DS           2014.0   \n",
       "97                    Super Mario Galaxy 2      Wii           2010.0   \n",
       "98                     Super Mario Bros. 2      NES           1988.0   \n",
       "99               Call of Duty: Black Ops 3     XOne           2015.0   \n",
       "\n",
       "           Genre  NA_sales  EU_sales  JP_sales  Other_sales  Critic_Score  \\\n",
       "0         Sports     41.36     28.96      3.77         8.45          76.0   \n",
       "1       Platform     29.08      3.58      6.81         0.77           NaN   \n",
       "2         Racing     15.68     12.76      3.79         3.29          82.0   \n",
       "3         Sports     15.61     10.93      3.28         2.95          80.0   \n",
       "4   Role-Playing     11.27      8.89     10.22         1.00           NaN   \n",
       "..           ...       ...       ...       ...          ...           ...   \n",
       "95      Platform      3.78      2.17      1.31         0.31           NaN   \n",
       "96      Fighting      3.27      1.37      2.43         0.48           NaN   \n",
       "97      Platform      3.56      2.35      0.98         0.62          97.0   \n",
       "98      Platform      5.39      1.18      0.70         0.19           NaN   \n",
       "99       Shooter      4.59      2.11      0.01         0.68           NaN   \n",
       "\n",
       "   User_Score Rating  \n",
       "0           8      E  \n",
       "1         NaN    NaN  \n",
       "2         8.3      E  \n",
       "3           8      E  \n",
       "4         NaN    NaN  \n",
       "..        ...    ...  \n",
       "95        NaN    NaN  \n",
       "96        NaN    NaN  \n",
       "97        9.1      E  \n",
       "98        NaN    NaN  \n",
       "99        NaN    NaN  \n",
       "\n",
       "[100 rows x 11 columns]"
      ]
     },
     "execution_count": 126,
     "metadata": {},
     "output_type": "execute_result"
    }
   ],
   "source": [
    "##### preview the loaded data\n",
    "df.info()\n",
    "\n",
    "# return the top n- rows of dataframe\n",
    "df.head(100)\n"
   ]
  },
  {
   "cell_type": "code",
   "execution_count": 127,
   "metadata": {},
   "outputs": [
    {
     "data": {
      "text/html": [
       "<div>\n",
       "<style scoped>\n",
       "    .dataframe tbody tr th:only-of-type {\n",
       "        vertical-align: middle;\n",
       "    }\n",
       "\n",
       "    .dataframe tbody tr th {\n",
       "        vertical-align: top;\n",
       "    }\n",
       "\n",
       "    .dataframe thead th {\n",
       "        text-align: right;\n",
       "    }\n",
       "</style>\n",
       "<table border=\"1\" class=\"dataframe\">\n",
       "  <thead>\n",
       "    <tr style=\"text-align: right;\">\n",
       "      <th></th>\n",
       "      <th>Year_of_Release</th>\n",
       "      <th>NA_sales</th>\n",
       "      <th>EU_sales</th>\n",
       "      <th>JP_sales</th>\n",
       "      <th>Other_sales</th>\n",
       "      <th>Critic_Score</th>\n",
       "    </tr>\n",
       "  </thead>\n",
       "  <tbody>\n",
       "    <tr>\n",
       "      <td>count</td>\n",
       "      <td>16446.000000</td>\n",
       "      <td>16715.000000</td>\n",
       "      <td>16715.000000</td>\n",
       "      <td>16715.000000</td>\n",
       "      <td>16715.000000</td>\n",
       "      <td>8137.000000</td>\n",
       "    </tr>\n",
       "    <tr>\n",
       "      <td>mean</td>\n",
       "      <td>2006.484616</td>\n",
       "      <td>0.263377</td>\n",
       "      <td>0.145060</td>\n",
       "      <td>0.077617</td>\n",
       "      <td>0.047342</td>\n",
       "      <td>68.967679</td>\n",
       "    </tr>\n",
       "    <tr>\n",
       "      <td>std</td>\n",
       "      <td>5.877050</td>\n",
       "      <td>0.813604</td>\n",
       "      <td>0.503339</td>\n",
       "      <td>0.308853</td>\n",
       "      <td>0.186731</td>\n",
       "      <td>13.938165</td>\n",
       "    </tr>\n",
       "    <tr>\n",
       "      <td>min</td>\n",
       "      <td>1980.000000</td>\n",
       "      <td>0.000000</td>\n",
       "      <td>0.000000</td>\n",
       "      <td>0.000000</td>\n",
       "      <td>0.000000</td>\n",
       "      <td>13.000000</td>\n",
       "    </tr>\n",
       "    <tr>\n",
       "      <td>25%</td>\n",
       "      <td>2003.000000</td>\n",
       "      <td>0.000000</td>\n",
       "      <td>0.000000</td>\n",
       "      <td>0.000000</td>\n",
       "      <td>0.000000</td>\n",
       "      <td>60.000000</td>\n",
       "    </tr>\n",
       "    <tr>\n",
       "      <td>50%</td>\n",
       "      <td>2007.000000</td>\n",
       "      <td>0.080000</td>\n",
       "      <td>0.020000</td>\n",
       "      <td>0.000000</td>\n",
       "      <td>0.010000</td>\n",
       "      <td>71.000000</td>\n",
       "    </tr>\n",
       "    <tr>\n",
       "      <td>75%</td>\n",
       "      <td>2010.000000</td>\n",
       "      <td>0.240000</td>\n",
       "      <td>0.110000</td>\n",
       "      <td>0.040000</td>\n",
       "      <td>0.030000</td>\n",
       "      <td>79.000000</td>\n",
       "    </tr>\n",
       "    <tr>\n",
       "      <td>max</td>\n",
       "      <td>2016.000000</td>\n",
       "      <td>41.360000</td>\n",
       "      <td>28.960000</td>\n",
       "      <td>10.220000</td>\n",
       "      <td>10.570000</td>\n",
       "      <td>98.000000</td>\n",
       "    </tr>\n",
       "  </tbody>\n",
       "</table>\n",
       "</div>"
      ],
      "text/plain": [
       "       Year_of_Release      NA_sales      EU_sales      JP_sales  \\\n",
       "count     16446.000000  16715.000000  16715.000000  16715.000000   \n",
       "mean       2006.484616      0.263377      0.145060      0.077617   \n",
       "std           5.877050      0.813604      0.503339      0.308853   \n",
       "min        1980.000000      0.000000      0.000000      0.000000   \n",
       "25%        2003.000000      0.000000      0.000000      0.000000   \n",
       "50%        2007.000000      0.080000      0.020000      0.000000   \n",
       "75%        2010.000000      0.240000      0.110000      0.040000   \n",
       "max        2016.000000     41.360000     28.960000     10.220000   \n",
       "\n",
       "        Other_sales  Critic_Score  \n",
       "count  16715.000000   8137.000000  \n",
       "mean       0.047342     68.967679  \n",
       "std        0.186731     13.938165  \n",
       "min        0.000000     13.000000  \n",
       "25%        0.000000     60.000000  \n",
       "50%        0.010000     71.000000  \n",
       "75%        0.030000     79.000000  \n",
       "max       10.570000     98.000000  "
      ]
     },
     "metadata": {},
     "output_type": "display_data"
    },
    {
     "data": {
      "text/html": [
       "<div>\n",
       "<style scoped>\n",
       "    .dataframe tbody tr th:only-of-type {\n",
       "        vertical-align: middle;\n",
       "    }\n",
       "\n",
       "    .dataframe tbody tr th {\n",
       "        vertical-align: top;\n",
       "    }\n",
       "\n",
       "    .dataframe thead th {\n",
       "        text-align: right;\n",
       "    }\n",
       "</style>\n",
       "<table border=\"1\" class=\"dataframe\">\n",
       "  <thead>\n",
       "    <tr style=\"text-align: right;\">\n",
       "      <th></th>\n",
       "      <th>Total</th>\n",
       "      <th>Percent</th>\n",
       "    </tr>\n",
       "  </thead>\n",
       "  <tbody>\n",
       "    <tr>\n",
       "      <td>Critic_Score</td>\n",
       "      <td>8578</td>\n",
       "      <td>51.319174</td>\n",
       "    </tr>\n",
       "    <tr>\n",
       "      <td>Rating</td>\n",
       "      <td>6766</td>\n",
       "      <td>40.478612</td>\n",
       "    </tr>\n",
       "    <tr>\n",
       "      <td>User_Score</td>\n",
       "      <td>6701</td>\n",
       "      <td>40.089740</td>\n",
       "    </tr>\n",
       "    <tr>\n",
       "      <td>Year_of_Release</td>\n",
       "      <td>269</td>\n",
       "      <td>1.609333</td>\n",
       "    </tr>\n",
       "    <tr>\n",
       "      <td>Genre</td>\n",
       "      <td>2</td>\n",
       "      <td>0.011965</td>\n",
       "    </tr>\n",
       "    <tr>\n",
       "      <td>Name</td>\n",
       "      <td>2</td>\n",
       "      <td>0.011965</td>\n",
       "    </tr>\n",
       "    <tr>\n",
       "      <td>Other_sales</td>\n",
       "      <td>0</td>\n",
       "      <td>0.000000</td>\n",
       "    </tr>\n",
       "    <tr>\n",
       "      <td>JP_sales</td>\n",
       "      <td>0</td>\n",
       "      <td>0.000000</td>\n",
       "    </tr>\n",
       "  </tbody>\n",
       "</table>\n",
       "</div>"
      ],
      "text/plain": [
       "                 Total    Percent\n",
       "Critic_Score      8578  51.319174\n",
       "Rating            6766  40.478612\n",
       "User_Score        6701  40.089740\n",
       "Year_of_Release    269   1.609333\n",
       "Genre                2   0.011965\n",
       "Name                 2   0.011965\n",
       "Other_sales          0   0.000000\n",
       "JP_sales             0   0.000000"
      ]
     },
     "execution_count": 127,
     "metadata": {},
     "output_type": "execute_result"
    }
   ],
   "source": [
    "# provides descriptive statistics\n",
    "display(df.describe()) \n",
    "\n",
    "#display all missing values columns along with %\n",
    "\n",
    "total = df.isnull().sum().sort_values(ascending=False)\n",
    "percent =total/len(df)*100\n",
    "pd.concat([total,percent], axis=1, keys=['Total','Percent']).head(8)\n"
   ]
  },
  {
   "cell_type": "markdown",
   "metadata": {},
   "source": [
    "#### Conclusion:\n"
   ]
  },
  {
   "cell_type": "markdown",
   "metadata": {},
   "source": [
    "We checked the general information of 'games' dataset.\n",
    "Upon checking data, we found that the datasets are much cleaner. We didn't find any big issues and discrepancies. \n",
    "However, there are minor issues like\n",
    "- column names have capital letters (upper and lower case comobination) and need to be changed to lowercase for consistency\n",
    "-  columns like 'genre','name','platform' need to changed to string  type\n",
    "-  columns like 'Year_of_Release' need to be integers type\n",
    "\n",
    "There are missing values in 'Year_of_Release', 'Genre','Critic_Score','User_Score', 'Rating' columns\n",
    " "
   ]
  },
  {
   "cell_type": "markdown",
   "metadata": {},
   "source": [
    "##  Step 2: Prepare the data \n",
    "In this step, we are viewing the data in more detail to convert them to the necessary types. Find and eliminate errors in the data \n",
    "- Replace the column names (make them lowercase).\n",
    "- Convert the data to the required types.\n",
    "- If necessary, decide how to deal with missing values:\n",
    "- Calculate the total sales (the sum of sales in all regions) for each game and put these values in a separate column."
   ]
  },
  {
   "cell_type": "code",
   "execution_count": 128,
   "metadata": {},
   "outputs": [],
   "source": [
    "# changing the column names to lowercase\n",
    "df.columns = df.columns.str.lower()\n",
    "\n",
    "#converting float data numbers into string type\n",
    "df['genre'] = df['genre'].astype(str)\n",
    "df['platform'] = df['platform'].astype(str)\n",
    "df['name'] = df['name'].astype(str)\n",
    "\n",
    "          \n",
    "# Drop any duplicates in the database\n",
    "df.drop_duplicates(inplace=True)"
   ]
  },
  {
   "cell_type": "code",
   "execution_count": 129,
   "metadata": {
    "scrolled": true
   },
   "outputs": [
    {
     "data": {
      "text/plain": [
       "name                  0\n",
       "platform              0\n",
       "year_of_release     269\n",
       "genre                 0\n",
       "na_sales              0\n",
       "eu_sales              0\n",
       "jp_sales              0\n",
       "other_sales           0\n",
       "critic_score       8578\n",
       "user_score         6701\n",
       "rating             6766\n",
       "dtype: int64"
      ]
     },
     "execution_count": 129,
     "metadata": {},
     "output_type": "execute_result"
    }
   ],
   "source": [
    "# checking null columns\n",
    "\n",
    "df.isnull().sum()"
   ]
  },
  {
   "cell_type": "code",
   "execution_count": 130,
   "metadata": {},
   "outputs": [],
   "source": [
    "\n",
    "\n",
    "# drop any rows that are blank\n",
    "df.drop(df[df['genre'] == 'nan'].index,inplace=True)\n",
    "df.drop(df[df['name'] == 'nan'].index,inplace=True)\n"
   ]
  },
  {
   "cell_type": "code",
   "execution_count": 131,
   "metadata": {},
   "outputs": [],
   "source": [
    "# imputating 'year_of_release' column \n",
    "\n",
    "#df['year_of_release'] = df['year_of_release'].fillna(df.groupby('name')['year_of_release'].transform(max))\n",
    "\n",
    "df['year_of_release'] = df['year_of_release'].fillna(round(df.groupby('name')['year_of_release'].transform('median'),0))\n",
    "\n",
    "# imputating 'rating' column \n",
    "df['rating'] = df['rating'].fillna('unknown')\n",
    "\n",
    "# imputating 'genre' column \n",
    "df['genre'] = df['genre'].fillna('unknown')\n",
    "\n",
    "# imputating 'user_score' column \n",
    "df['user_score'] = df['user_score'].replace('tbd',None)\n",
    "df['user_score'] = df['user_score'].astype(float)\n"
   ]
  },
  {
   "cell_type": "markdown",
   "metadata": {},
   "source": [
    "### Conclusion:\n",
    "- We changed all the column names to lowercase.\n",
    "- We converted the datatypes of 'genre', 'year_of release' columns\n",
    "- We impuated 'year_of_release' column with max of 'year_of_column' grouped by 'name'\n",
    "- 'critic_score' has 51%, 'user_score' has 41% ,'rating' columns has 41% missing values.\n",
    "    - 'critic_score' represents the percentage of professional critic reviews that are positive for a given game. There isn't enough information provided for us to know how the critic score is given. So, we think it is not a good idea to assume values for it based on other columns. Since 41% of the column has missing values, it is definitely not a good idea to remove the entire rows either. Hence, we are keeping the missing values as it is for 'critic_score' column\n",
    "    - 'rating' is ranking or classification based on a comparative assessment of their quality, standard, or performance. As we don't have information on how the rating is calculated, we are not making any assumption by taking the mean, the median value of other columns. Hence, we are keeping these missing values as 'unknown' values.\n",
    "    - 'user_score' column has also had the same issue. So we are keeping it as it is. However, there is a 'tbd' value which means we are still waiting for a rating. As user perspective is not included in this row of data we can remove this but there are missing values as well. So, we are making 'tbd' values to missing values.\n"
   ]
  },
  {
   "cell_type": "code",
   "execution_count": 132,
   "metadata": {},
   "outputs": [],
   "source": [
    "# Drop any duplicates in the database\n",
    "df.drop_duplicates(inplace=True)"
   ]
  },
  {
   "cell_type": "code",
   "execution_count": 133,
   "metadata": {
    "scrolled": true
   },
   "outputs": [
    {
     "data": {
      "text/html": [
       "<div>\n",
       "<style scoped>\n",
       "    .dataframe tbody tr th:only-of-type {\n",
       "        vertical-align: middle;\n",
       "    }\n",
       "\n",
       "    .dataframe tbody tr th {\n",
       "        vertical-align: top;\n",
       "    }\n",
       "\n",
       "    .dataframe thead th {\n",
       "        text-align: right;\n",
       "    }\n",
       "</style>\n",
       "<table border=\"1\" class=\"dataframe\">\n",
       "  <thead>\n",
       "    <tr style=\"text-align: right;\">\n",
       "      <th></th>\n",
       "      <th>name</th>\n",
       "      <th>platform</th>\n",
       "      <th>year_of_release</th>\n",
       "      <th>genre</th>\n",
       "      <th>na_sales</th>\n",
       "      <th>eu_sales</th>\n",
       "      <th>jp_sales</th>\n",
       "      <th>other_sales</th>\n",
       "      <th>critic_score</th>\n",
       "      <th>user_score</th>\n",
       "      <th>rating</th>\n",
       "      <th>total_sales</th>\n",
       "    </tr>\n",
       "  </thead>\n",
       "  <tbody>\n",
       "    <tr>\n",
       "      <td>0</td>\n",
       "      <td>Wii Sports</td>\n",
       "      <td>Wii</td>\n",
       "      <td>2006.0</td>\n",
       "      <td>Sports</td>\n",
       "      <td>41.36</td>\n",
       "      <td>28.96</td>\n",
       "      <td>3.77</td>\n",
       "      <td>8.45</td>\n",
       "      <td>76.0</td>\n",
       "      <td>8.0</td>\n",
       "      <td>E</td>\n",
       "      <td>82.54</td>\n",
       "    </tr>\n",
       "    <tr>\n",
       "      <td>1</td>\n",
       "      <td>Super Mario Bros.</td>\n",
       "      <td>NES</td>\n",
       "      <td>1985.0</td>\n",
       "      <td>Platform</td>\n",
       "      <td>29.08</td>\n",
       "      <td>3.58</td>\n",
       "      <td>6.81</td>\n",
       "      <td>0.77</td>\n",
       "      <td>NaN</td>\n",
       "      <td>NaN</td>\n",
       "      <td>unknown</td>\n",
       "      <td>40.24</td>\n",
       "    </tr>\n",
       "    <tr>\n",
       "      <td>2</td>\n",
       "      <td>Mario Kart Wii</td>\n",
       "      <td>Wii</td>\n",
       "      <td>2008.0</td>\n",
       "      <td>Racing</td>\n",
       "      <td>15.68</td>\n",
       "      <td>12.76</td>\n",
       "      <td>3.79</td>\n",
       "      <td>3.29</td>\n",
       "      <td>82.0</td>\n",
       "      <td>8.3</td>\n",
       "      <td>E</td>\n",
       "      <td>35.52</td>\n",
       "    </tr>\n",
       "    <tr>\n",
       "      <td>3</td>\n",
       "      <td>Wii Sports Resort</td>\n",
       "      <td>Wii</td>\n",
       "      <td>2009.0</td>\n",
       "      <td>Sports</td>\n",
       "      <td>15.61</td>\n",
       "      <td>10.93</td>\n",
       "      <td>3.28</td>\n",
       "      <td>2.95</td>\n",
       "      <td>80.0</td>\n",
       "      <td>8.0</td>\n",
       "      <td>E</td>\n",
       "      <td>32.77</td>\n",
       "    </tr>\n",
       "    <tr>\n",
       "      <td>4</td>\n",
       "      <td>Pokemon Red/Pokemon Blue</td>\n",
       "      <td>GB</td>\n",
       "      <td>1996.0</td>\n",
       "      <td>Role-Playing</td>\n",
       "      <td>11.27</td>\n",
       "      <td>8.89</td>\n",
       "      <td>10.22</td>\n",
       "      <td>1.00</td>\n",
       "      <td>NaN</td>\n",
       "      <td>NaN</td>\n",
       "      <td>unknown</td>\n",
       "      <td>31.38</td>\n",
       "    </tr>\n",
       "    <tr>\n",
       "      <td>...</td>\n",
       "      <td>...</td>\n",
       "      <td>...</td>\n",
       "      <td>...</td>\n",
       "      <td>...</td>\n",
       "      <td>...</td>\n",
       "      <td>...</td>\n",
       "      <td>...</td>\n",
       "      <td>...</td>\n",
       "      <td>...</td>\n",
       "      <td>...</td>\n",
       "      <td>...</td>\n",
       "      <td>...</td>\n",
       "    </tr>\n",
       "    <tr>\n",
       "      <td>16710</td>\n",
       "      <td>Samurai Warriors: Sanada Maru</td>\n",
       "      <td>PS3</td>\n",
       "      <td>2016.0</td>\n",
       "      <td>Action</td>\n",
       "      <td>0.00</td>\n",
       "      <td>0.00</td>\n",
       "      <td>0.01</td>\n",
       "      <td>0.00</td>\n",
       "      <td>NaN</td>\n",
       "      <td>NaN</td>\n",
       "      <td>unknown</td>\n",
       "      <td>0.01</td>\n",
       "    </tr>\n",
       "    <tr>\n",
       "      <td>16711</td>\n",
       "      <td>LMA Manager 2007</td>\n",
       "      <td>X360</td>\n",
       "      <td>2006.0</td>\n",
       "      <td>Sports</td>\n",
       "      <td>0.00</td>\n",
       "      <td>0.01</td>\n",
       "      <td>0.00</td>\n",
       "      <td>0.00</td>\n",
       "      <td>NaN</td>\n",
       "      <td>NaN</td>\n",
       "      <td>unknown</td>\n",
       "      <td>0.01</td>\n",
       "    </tr>\n",
       "    <tr>\n",
       "      <td>16712</td>\n",
       "      <td>Haitaka no Psychedelica</td>\n",
       "      <td>PSV</td>\n",
       "      <td>2016.0</td>\n",
       "      <td>Adventure</td>\n",
       "      <td>0.00</td>\n",
       "      <td>0.00</td>\n",
       "      <td>0.01</td>\n",
       "      <td>0.00</td>\n",
       "      <td>NaN</td>\n",
       "      <td>NaN</td>\n",
       "      <td>unknown</td>\n",
       "      <td>0.01</td>\n",
       "    </tr>\n",
       "    <tr>\n",
       "      <td>16713</td>\n",
       "      <td>Spirits &amp; Spells</td>\n",
       "      <td>GBA</td>\n",
       "      <td>2003.0</td>\n",
       "      <td>Platform</td>\n",
       "      <td>0.01</td>\n",
       "      <td>0.00</td>\n",
       "      <td>0.00</td>\n",
       "      <td>0.00</td>\n",
       "      <td>NaN</td>\n",
       "      <td>NaN</td>\n",
       "      <td>unknown</td>\n",
       "      <td>0.01</td>\n",
       "    </tr>\n",
       "    <tr>\n",
       "      <td>16714</td>\n",
       "      <td>Winning Post 8 2016</td>\n",
       "      <td>PSV</td>\n",
       "      <td>2016.0</td>\n",
       "      <td>Simulation</td>\n",
       "      <td>0.00</td>\n",
       "      <td>0.00</td>\n",
       "      <td>0.01</td>\n",
       "      <td>0.00</td>\n",
       "      <td>NaN</td>\n",
       "      <td>NaN</td>\n",
       "      <td>unknown</td>\n",
       "      <td>0.01</td>\n",
       "    </tr>\n",
       "  </tbody>\n",
       "</table>\n",
       "<p>16713 rows × 12 columns</p>\n",
       "</div>"
      ],
      "text/plain": [
       "                                name platform  year_of_release         genre  \\\n",
       "0                         Wii Sports      Wii           2006.0        Sports   \n",
       "1                  Super Mario Bros.      NES           1985.0      Platform   \n",
       "2                     Mario Kart Wii      Wii           2008.0        Racing   \n",
       "3                  Wii Sports Resort      Wii           2009.0        Sports   \n",
       "4           Pokemon Red/Pokemon Blue       GB           1996.0  Role-Playing   \n",
       "...                              ...      ...              ...           ...   \n",
       "16710  Samurai Warriors: Sanada Maru      PS3           2016.0        Action   \n",
       "16711               LMA Manager 2007     X360           2006.0        Sports   \n",
       "16712        Haitaka no Psychedelica      PSV           2016.0     Adventure   \n",
       "16713               Spirits & Spells      GBA           2003.0      Platform   \n",
       "16714            Winning Post 8 2016      PSV           2016.0    Simulation   \n",
       "\n",
       "       na_sales  eu_sales  jp_sales  other_sales  critic_score  user_score  \\\n",
       "0         41.36     28.96      3.77         8.45          76.0         8.0   \n",
       "1         29.08      3.58      6.81         0.77           NaN         NaN   \n",
       "2         15.68     12.76      3.79         3.29          82.0         8.3   \n",
       "3         15.61     10.93      3.28         2.95          80.0         8.0   \n",
       "4         11.27      8.89     10.22         1.00           NaN         NaN   \n",
       "...         ...       ...       ...          ...           ...         ...   \n",
       "16710      0.00      0.00      0.01         0.00           NaN         NaN   \n",
       "16711      0.00      0.01      0.00         0.00           NaN         NaN   \n",
       "16712      0.00      0.00      0.01         0.00           NaN         NaN   \n",
       "16713      0.01      0.00      0.00         0.00           NaN         NaN   \n",
       "16714      0.00      0.00      0.01         0.00           NaN         NaN   \n",
       "\n",
       "        rating  total_sales  \n",
       "0            E        82.54  \n",
       "1      unknown        40.24  \n",
       "2            E        35.52  \n",
       "3            E        32.77  \n",
       "4      unknown        31.38  \n",
       "...        ...          ...  \n",
       "16710  unknown         0.01  \n",
       "16711  unknown         0.01  \n",
       "16712  unknown         0.01  \n",
       "16713  unknown         0.01  \n",
       "16714  unknown         0.01  \n",
       "\n",
       "[16713 rows x 12 columns]"
      ]
     },
     "metadata": {},
     "output_type": "display_data"
    }
   ],
   "source": [
    "#calculate the total sales for  each game and put these values in a separate column\n",
    "df['total_sales'] = df[['na_sales','eu_sales','jp_sales','other_sales']].sum(axis=1)\n",
    "display(df)\n"
   ]
  },
  {
   "cell_type": "markdown",
   "metadata": {},
   "source": [
    "### Conclusion:\n",
    "We calculated the  total sales (the sum of sales in all regions) for each game and put these values in a separate column 'total_sales'.\n",
    "\n",
    "After all the cleanup, we also dropped any duplicates records remaining in the dataset.\n"
   ]
  },
  {
   "cell_type": "markdown",
   "metadata": {},
   "source": [
    "### Step 3. Analyze the data\n",
    "- Look at how many games were released in different years. Is the data for every period significant?\n",
    "- Look at how sales varied from platform to platform. Choose the platforms with the greatest total sales and build a distribution based on data for each year. Find platforms that used to be popular but now have zero sales. - How long does it generally take for new platforms to appear and old ones to fade?\n",
    "- Determine what period you should take data for. To do so, look at your answers to the previous questions. The data should allow you to build a prognosis for 2017.\n",
    "- Work only with the data that you've decided is relevant. Disregard the data for previous years.\n",
    "- Which platforms are leading in sales? Which ones are growing or shrinking? Select several potentially profitable platforms.\n",
    "- Build a box plot for the global sales of all games, broken down by platform. Are the differences in sales significant? What about average sales on various platforms? Describe your findings.\n",
    "- Take a look at how user and professional reviews affect sales for one popular platform (you choose). Build a scatter plot and calculate the correlation between reviews and sales. Draw conclusions.\n",
    "- Keeping your conclusions in mind, compare the sales of the same games on other platforms.\n",
    "- Take a look at the general distribution of games by genre. What can we say about the most profitable genres? Can you generalize about genres with high and low sales?"
   ]
  },
  {
   "cell_type": "markdown",
   "metadata": {},
   "source": [
    "### Games released in different years"
   ]
  },
  {
   "cell_type": "code",
   "execution_count": 134,
   "metadata": {},
   "outputs": [
    {
     "data": {
      "text/plain": [
       "<matplotlib.legend.Legend at 0x7f67d8953b90>"
      ]
     },
     "execution_count": 134,
     "metadata": {},
     "output_type": "execute_result"
    },
    {
     "data": {
      "image/png": "[encoded data removed]",
      "text/plain": [
       "<Figure size 864x432 with 1 Axes>"
      ]
     },
     "metadata": {
      "needs_background": "light"
     },
     "output_type": "display_data"
    }
   ],
   "source": [
    "# Find how many games were released in different years. \n",
    "# Is the data for every period significant?\n",
    "\n",
    "games_in_different_yrs = df[['year_of_release','name']].groupby('year_of_release').count().sort_values(by='year_of_release')\n",
    "#print(games_in_different_yrs)\n",
    "\n",
    "plt. figure(figsize=(12,6))\n",
    "sns. lineplot(data=games_in_different_yrs)\n",
    "plt. title(\"Number of games released in different years\")\n",
    "plt. xlabel(\"Year of Release\")\n",
    "plt. ylabel(\"Number of games released\")\n",
    "plt. legend('')\n"
   ]
  },
  {
   "cell_type": "markdown",
   "metadata": {},
   "source": [
    "### Conclusion:\n",
    "The above plot shows that the gaming era slowly started to rise in 1995 and peaked up by 2010. The highest number of games released was in the year 2008. The game data before 2000 is significantly less than the data after 2000. Its probability because of evolving internet and mobile device technologies."
   ]
  },
  {
   "cell_type": "markdown",
   "metadata": {},
   "source": [
    "### Sales varied from platform to platform"
   ]
  },
  {
   "cell_type": "code",
   "execution_count": 135,
   "metadata": {},
   "outputs": [
    {
     "data": {
      "image/png": "[encoded data removed]",
      "text/plain": [
       "<Figure size 864x432 with 1 Axes>"
      ]
     },
     "metadata": {
      "needs_background": "light"
     },
     "output_type": "display_data"
    }
   ],
   "source": [
    "# Choose the platforms with the greatest total sales and \n",
    "# Identify platforms with greatest total sales. \n",
    "\n",
    "sales_platform = df[['platform','total_sales']].groupby('platform').sum().sort_values(by='total_sales').reset_index()\n",
    "#print(sales_platform)\n",
    "\n",
    "import seaborn as sns\n",
    "\n",
    "# Figure Size\n",
    "fig, ax = plt.subplots()\n",
    "fig.set_size_inches(12,6)\n",
    "\n",
    "sns.barplot(x=sales_platform.platform, y='total_sales'\n",
    "            , data=sales_platform\n",
    "            , ax=ax\n",
    "            , capsize=10)\n",
    "\n",
    "plt.ylabel('Number of Sales')\n",
    "plt.xlabel('Platform Type')\n",
    "plt.title('Sales from platform to platform')\n",
    "          \n",
    "plt.show()\n",
    "\n",
    "\n"
   ]
  },
  {
   "cell_type": "markdown",
   "metadata": {},
   "source": [
    "### Conclusion:\n",
    "Based on the plot above, we can conclude that PS2, X360, PS3, Wii, DS and PS are the platforms with greatest sales."
   ]
  },
  {
   "cell_type": "markdown",
   "metadata": {},
   "source": [
    "### Choose the platforms with the greatest total sales and build a distribution based on data for each year"
   ]
  },
  {
   "cell_type": "code",
   "execution_count": 136,
   "metadata": {
    "scrolled": false
   },
   "outputs": [
    {
     "name": "stdout",
     "output_type": "stream",
     "text": [
      "['PS2', 'X360', 'PS3', 'Wii', 'DS', 'PS']\n"
     ]
    },
    {
     "data": {
      "image/png": "[encoded data removed]",
      "text/plain": [
       "<Figure size 1152x720 with 1 Axes>"
      ]
     },
     "metadata": {
      "needs_background": "light"
     },
     "output_type": "display_data"
    }
   ],
   "source": [
    "#Choose the platforms with the greatest total sales and \n",
    "# build a distribution based on data for each year.\n",
    "\n",
    "greatest_total_sales_platforms = sales_platform.sort_values(by='total_sales', ascending=False).head(6)['platform'].tolist()\n",
    "print(greatest_total_sales_platforms)\n",
    "\n",
    "df_totalsales_platform = df[(df['platform'].isin(greatest_total_sales_platforms) & (df['total_sales']>0))]\n",
    "#df_totalsales_platform = df_totalsales_platform[df_totalsales_platform['year_of_release']> 1995]\n",
    "\n",
    "# plot data\n",
    "fig, ax = plt.subplots(figsize=(16,10))\n",
    "\n",
    "df_totalsales_platform.groupby(['year_of_release','platform']).sum()['total_sales'].unstack().plot(ax=ax)\n",
    "plt.title('Distribution of Total Sales of each Platform for each Year', fontsize=30)\n",
    "\n",
    "plt.show()"
   ]
  },
  {
   "cell_type": "markdown",
   "metadata": {},
   "source": [
    "### Conclusion:\n",
    "The platforms that have greatest total sales are the PS2, X360, PS3, Wii, DS and PS (top 6 platforms).The plot above shows the distribution of total sales per platform per year."
   ]
  },
  {
   "cell_type": "markdown",
   "metadata": {},
   "source": [
    "### Platforms that used to be popular but now have zero sales. \n",
    "\n"
   ]
  },
  {
   "cell_type": "code",
   "execution_count": 137,
   "metadata": {
    "scrolled": true
   },
   "outputs": [
    {
     "name": "stdout",
     "output_type": "stream",
     "text": [
      "['NES' 'GB' 'DS' 'PS2' 'SNES' 'GBA' 'N64' 'PS' 'XB' '2600' 'PSP' 'GC'\n",
      " 'GEN' 'DC' 'SAT' 'SCD' 'WS' 'NG' 'TG16' '3DO' 'GG' 'PCFX']\n"
     ]
    }
   ],
   "source": [
    "# Find platforms that used to be popular but now have zero sales. \n",
    "\n",
    "df_2016 = df[df['year_of_release'] == 2016]['platform'].unique()\n",
    "\n",
    "df_platform = df[(df['total_sales'] >= 0) & ~df['platform'].isin(df_2016)]\n",
    "\n",
    "print(df_platform['platform'].unique())"
   ]
  },
  {
   "cell_type": "markdown",
   "metadata": {},
   "source": [
    "### Conclusion:\n",
    "For this, we assumed that our 'now' time period is 2016 and any platform that has sales greater than zero, are the popular platforms. They are NES' 'GB' 'DS' 'PS2' 'SNES' 'GBA' 'N64' 'PS' 'XB' '2600' 'PSP' 'GC' 'GEN' 'DC' 'SAT' 'SCD' 'WS' 'NG' 'TG16' '3DO' 'GG' 'PCFX'"
   ]
  },
  {
   "cell_type": "markdown",
   "metadata": {},
   "source": [
    "### How long does it generally take for new platforms to appear and old ones to fade?"
   ]
  },
  {
   "cell_type": "code",
   "execution_count": 138,
   "metadata": {
    "scrolled": false
   },
   "outputs": [
    {
     "name": "stdout",
     "output_type": "stream",
     "text": [
      "8.4\n"
     ]
    }
   ],
   "source": [
    "lowest_totalsales = pd.pivot_table(df, values=['total_sales'],index=['platform','year_of_release'],aggfunc='sum').reset_index()\n",
    "#print(lowest_totalsales)\n",
    "\n",
    "lowest_totalsales_perplatform = (lowest_totalsales.groupby('platform')['year_of_release'].max() - lowest_totalsales.groupby('platform')['year_of_release'].min()).reset_index()\n",
    "average_fade_time = lowest_totalsales_perplatform['year_of_release'].mean().round(decimals=1)\n",
    "\n",
    "print(average_fade_time)"
   ]
  },
  {
   "cell_type": "markdown",
   "metadata": {},
   "source": [
    "#### The average time it takes for new platforms to appear and old ones to fade is about 8.4 years."
   ]
  },
  {
   "cell_type": "markdown",
   "metadata": {},
   "source": [
    "### Determine what period to take data for\n"
   ]
  },
  {
   "cell_type": "code",
   "execution_count": 139,
   "metadata": {
    "scrolled": true
   },
   "outputs": [],
   "source": [
    "# Work only with the data that you've decided is relevant. \n",
    "\n",
    "data = df[df.year_of_release >= 2013]\n",
    "\n",
    "#data = df[(df['year_of_release'] >= 2013) & (df['year_of_release'] <= 2014)]\n",
    "\n",
    "#data = df[df['year_of_release'] >= 2008]\n",
    "#data = data.reset_index(drop=True, inplace=False)\n",
    "#new_data = pd.pivot_table(data, index='year_of_release', columns= 'platform', values='total_sales', aggfunc=sum, fill_value=0)\n",
    "#new_data\n"
   ]
  },
  {
   "cell_type": "markdown",
   "metadata": {},
   "source": [
    "We should keep data with 'year_of release' greater than 2013."
   ]
  },
  {
   "cell_type": "code",
   "execution_count": 120,
   "metadata": {
    "scrolled": true
   },
   "outputs": [
    {
     "data": {
      "text/html": [
       "<div>\n",
       "<style scoped>\n",
       "    .dataframe tbody tr th:only-of-type {\n",
       "        vertical-align: middle;\n",
       "    }\n",
       "\n",
       "    .dataframe tbody tr th {\n",
       "        vertical-align: top;\n",
       "    }\n",
       "\n",
       "    .dataframe thead th {\n",
       "        text-align: right;\n",
       "    }\n",
       "</style>\n",
       "<table border=\"1\" class=\"dataframe\">\n",
       "  <thead>\n",
       "    <tr style=\"text-align: right;\">\n",
       "      <th></th>\n",
       "      <th>platform</th>\n",
       "      <th>total_sales</th>\n",
       "    </tr>\n",
       "  </thead>\n",
       "  <tbody>\n",
       "    <tr>\n",
       "      <td>0</td>\n",
       "      <td>PS4</td>\n",
       "      <td>69.25</td>\n",
       "    </tr>\n",
       "    <tr>\n",
       "      <td>1</td>\n",
       "      <td>XOne</td>\n",
       "      <td>26.15</td>\n",
       "    </tr>\n",
       "    <tr>\n",
       "      <td>2</td>\n",
       "      <td>3DS</td>\n",
       "      <td>15.14</td>\n",
       "    </tr>\n",
       "    <tr>\n",
       "      <td>3</td>\n",
       "      <td>PC</td>\n",
       "      <td>5.25</td>\n",
       "    </tr>\n",
       "    <tr>\n",
       "      <td>4</td>\n",
       "      <td>WiiU</td>\n",
       "      <td>4.60</td>\n",
       "    </tr>\n",
       "    <tr>\n",
       "      <td>5</td>\n",
       "      <td>PSV</td>\n",
       "      <td>4.25</td>\n",
       "    </tr>\n",
       "    <tr>\n",
       "      <td>6</td>\n",
       "      <td>PS3</td>\n",
       "      <td>3.60</td>\n",
       "    </tr>\n",
       "    <tr>\n",
       "      <td>7</td>\n",
       "      <td>X360</td>\n",
       "      <td>1.52</td>\n",
       "    </tr>\n",
       "    <tr>\n",
       "      <td>8</td>\n",
       "      <td>Wii</td>\n",
       "      <td>0.18</td>\n",
       "    </tr>\n",
       "  </tbody>\n",
       "</table>\n",
       "</div>"
      ],
      "text/plain": [
       "  platform  total_sales\n",
       "0      PS4        69.25\n",
       "1     XOne        26.15\n",
       "2      3DS        15.14\n",
       "3       PC         5.25\n",
       "4     WiiU         4.60\n",
       "5      PSV         4.25\n",
       "6      PS3         3.60\n",
       "7     X360         1.52\n",
       "8      Wii         0.18"
      ]
     },
     "metadata": {},
     "output_type": "display_data"
    }
   ],
   "source": [
    "#check popular platforms\n",
    "popular_2016=df.query('year_of_release>= 2016').groupby('platform')\\\n",
    "                                                .agg({'total_sales': 'sum'})\\\n",
    "                                                .sort_values(by='total_sales',ascending=False)\\\n",
    "                                                .reset_index()\n",
    "display(popular_2016)"
   ]
  },
  {
   "cell_type": "code",
   "execution_count": 51,
   "metadata": {
    "scrolled": true
   },
   "outputs": [
    {
     "name": "stdout",
     "output_type": "stream",
     "text": [
      "year_of_release    2013.0\n",
      "dtype: float64\n"
     ]
    }
   ],
   "source": [
    "#check year of release of ps4\n",
    "ps4_year = df.query('platform== \"PS4\"').agg({'year_of_release': 'min'})\n",
    "print(ps4_year)"
   ]
  },
  {
   "cell_type": "markdown",
   "metadata": {},
   "source": [
    "### Determine leading platforms in sales"
   ]
  },
  {
   "cell_type": "code",
   "execution_count": 140,
   "metadata": {},
   "outputs": [
    {
     "name": "stdout",
     "output_type": "stream",
     "text": [
      "   platform  total_sales\n",
      "0        DS         1.54\n",
      "1       PSP         3.74\n",
      "2       Wii        13.66\n",
      "3       PSV        32.99\n",
      "4        PC        40.06\n",
      "5      WiiU        64.63\n",
      "6      X360       136.80\n",
      "7       3DS       143.25\n",
      "8      XOne       159.32\n",
      "9       PS3       181.43\n",
      "10      PS4       314.14\n"
     ]
    },
    {
     "data": {
      "image/png": "[encoded data removed]",
      "text/plain": [
       "<Figure size 864x432 with 1 Axes>"
      ]
     },
     "metadata": {
      "needs_background": "light"
     },
     "output_type": "display_data"
    }
   ],
   "source": [
    "# Which platforms are leading in sales? \n",
    "\n",
    "leading_platform = data[['platform','total_sales']].groupby('platform').sum().sort_values(by='total_sales').reset_index()\n",
    "print(leading_platform)\n",
    "leading_platform = leading_platform[leading_platform['total_sales'] > 1]\n",
    "\n",
    "# Figure Size\n",
    "fig, ax = plt.subplots()\n",
    "fig.set_size_inches(12,6)\n",
    "\n",
    "sns.barplot(x=leading_platform.platform, y='total_sales'\n",
    "            , data=leading_platform\n",
    "            , ax=ax\n",
    "            , capsize=10)\n",
    "\n",
    "plt.ylabel('Number of Sales')\n",
    "plt.xlabel('Platform Type')\n",
    "plt.title('Sales')\n",
    "          \n",
    "plt.show()"
   ]
  },
  {
   "cell_type": "markdown",
   "metadata": {},
   "source": [
    "#### Conclusion:\n",
    "Based on plotting above, PS4,PS3, XOne, 3DS and X360 are the platforms that are leading in sales."
   ]
  },
  {
   "cell_type": "markdown",
   "metadata": {},
   "source": [
    "### Determine the ones that are growing or shrinking"
   ]
  },
  {
   "cell_type": "code",
   "execution_count": 141,
   "metadata": {
    "scrolled": true
   },
   "outputs": [
    {
     "data": {
      "text/plain": [
       "Text(0, 0.5, 'total_sales')"
      ]
     },
     "execution_count": 141,
     "metadata": {},
     "output_type": "execute_result"
    },
    {
     "data": {
      "image/png": "[encoded data removed]",
      "text/plain": [
       "<Figure size 864x576 with 1 Axes>"
      ]
     },
     "metadata": {
      "needs_background": "light"
     },
     "output_type": "display_data"
    }
   ],
   "source": [
    "# Which ones are growing or shrinking? Select several potentially profitable platforms.\n",
    "grow_or_shrink = data.groupby(['year_of_release', 'platform'])['total_sales'].sum().unstack().fillna(0)\n",
    "\n",
    "grow_or_shrink.plot(figsize = (12, 8))\n",
    "plt.ylabel('total_sales')\n"
   ]
  },
  {
   "cell_type": "markdown",
   "metadata": {},
   "source": [
    "### Conclusion:\n",
    "From the line plotting above, we can conclude that the growing platforms are PS4, XOne and 3DS and the shrinking ones are PSV, DS, Wii and PS2. \n"
   ]
  },
  {
   "cell_type": "markdown",
   "metadata": {},
   "source": [
    "### Build a box plot for the global sales of all games, broken down by platform. Are the differences in sales significant? What about average sales on various platforms? Describe your findings."
   ]
  },
  {
   "cell_type": "code",
   "execution_count": 142,
   "metadata": {
    "scrolled": false
   },
   "outputs": [
    {
     "data": {
      "text/plain": [
       "<matplotlib.axes._subplots.AxesSubplot at 0x7f67db4f15d0>"
      ]
     },
     "execution_count": 142,
     "metadata": {},
     "output_type": "execute_result"
    },
    {
     "data": {
      "image/png": "[encoded data removed]",
      "text/plain": [
       "<Figure size 864x576 with 1 Axes>"
      ]
     },
     "metadata": {
      "needs_background": "light"
     },
     "output_type": "display_data"
    }
   ],
   "source": [
    "all_games = data.groupby(['platform','year_of_release'])['total_sales'].sum().reset_index()\n",
    "order = data.groupby(['platform'])['total_sales'].sum().sort_values().reset_index()['platform']\n",
    "plt.figure(figsize=(12,8))\n",
    "sns.boxplot(x='platform',y='total_sales',data=all_games, order=order)\n",
    "  "
   ]
  },
  {
   "cell_type": "markdown",
   "metadata": {},
   "source": [
    "### Conclusion:\n",
    "Above plot is the global sales of games broken down by platform. The difference in sales are significant. The game sold on PS4, XOne,3DS,PS3 and X360 platforms have higher sales and are profitable ones.\n",
    "Based on average sale greater than 2013, PS4, XOne, 3DS, PS3 are the most popular ones. Rest are least popular as they have lowest average sales.\n",
    "\n"
   ]
  },
  {
   "cell_type": "markdown",
   "metadata": {},
   "source": [
    "### Examine user and professional reviews affect sales for one popular platform. Build a scatter plot and calculate the correlation between reviews and sales. Draw conclusions."
   ]
  },
  {
   "cell_type": "code",
   "execution_count": 143,
   "metadata": {},
   "outputs": [
    {
     "name": "stdout",
     "output_type": "stream",
     "text": [
      "Correlation between user score and total sales for PS4 is: -0.03\n",
      "Correlation between critical and total sales for PS4 is: 0.41\n"
     ]
    },
    {
     "data": {
      "image/png": "[encoded data removed]",
      "text/plain": [
       "<Figure size 432x288 with 1 Axes>"
      ]
     },
     "metadata": {
      "needs_background": "light"
     },
     "output_type": "display_data"
    },
    {
     "data": {
      "image/png": "[encoded data removed]",
      "text/plain": [
       "<Figure size 432x288 with 1 Axes>"
      ]
     },
     "metadata": {
      "needs_background": "light"
     },
     "output_type": "display_data"
    }
   ],
   "source": [
    "# Take a look at how user and professional reviews affect sales for one popular platform (you choose). \n",
    "\n",
    "#X360_data = data[data['platform'] == 'X360']\n",
    "PS4_data = data[data['platform'] == 'PS4']\n",
    "\n",
    "# Build a scatter plot and calculate the correlation between reviews and sales.\n",
    "#Draw conclusions.\n",
    "\n",
    "PS4_data_critic = PS4_data.groupby(['critic_score'])['total_sales'].sum().reset_index()\n",
    "PS4_data_critic.plot.scatter(x='critic_score', y='total_sales')\n",
    "\n",
    "PS4_data_user = PS4_data.groupby(['user_score'])['total_sales'].sum().reset_index()\n",
    "PS4_data_user.plot.scatter(x='user_score', y='total_sales')\n",
    "\n",
    "critic_correlation = PS4_data['critic_score'].corr(PS4_data['total_sales'])\n",
    "user_correlation = PS4_data['user_score'].corr(PS4_data['total_sales'])\n",
    "\n",
    "print('Correlation between user score and total sales for PS4 is: ' + str(user_correlation.round(decimals=2)))\n",
    "print('Correlation between critical and total sales for PS4 is: ' + str(critic_correlation.round(decimals=2)))"
   ]
  },
  {
   "cell_type": "markdown",
   "metadata": {},
   "source": [
    "#### Conclusion:\n",
    "We chose the PS4 as a popular platform to examine how critic scores and user scores affect its total sales. Based on the plot above, we can conclude that both critic score and user score affect the total sales, as higher the scores given to the game on the platform are, the higher total sales are as well.\n",
    "\n",
    "The user score correlation value (-0.03) is less than the critic score correlation value (0.4). Gamers seem to rely on critic scores more."
   ]
  },
  {
   "cell_type": "markdown",
   "metadata": {},
   "source": [
    "### Compare the sales of the same games on other platforms"
   ]
  },
  {
   "cell_type": "code",
   "execution_count": 144,
   "metadata": {},
   "outputs": [
    {
     "name": "stdout",
     "output_type": "stream",
     "text": [
      "Average correlation between critic score and total sales (for XOne, PS3, X360, Wii, 3DS) is 0.34\n",
      "Average correlation between user score and total sales (for XOne, PS3, X360, Wii, 3DS) is -0.05\n"
     ]
    }
   ],
   "source": [
    "# Compare the sales of the same games on other platforms.\n",
    "PS4_games = PS4_data['name'].unique().tolist()\n",
    "\n",
    "# Choosing Wii,PS3,X360 platforms to compare sales\n",
    "samegames_on_otherplatforms = data[(data['platform'] != 'PS4') & data['name'].isin(PS4_games)]\n",
    "samegames_on_otherplatforms =samegames_on_otherplatforms[samegames_on_otherplatforms['platform'].isin(['XOne', 'PS3', 'X360' ,'Wii', '3DS'])]\n",
    "\n",
    "critic_correlation = samegames_on_otherplatforms['critic_score'].corr(samegames_on_otherplatforms['total_sales'])\n",
    "print('Average correlation between critic score and total sales (for XOne, PS3, X360, Wii, 3DS) is ' + str(critic_correlation.round(decimals=2)))\n",
    "\n",
    "user_correlation = samegames_on_otherplatforms['user_score'].corr(samegames_on_otherplatforms['total_sales'])\n",
    "print('Average correlation between user score and total sales (for XOne, PS3, X360, Wii, 3DS) is ' + str(user_correlation.round(decimals=2)))\n",
    "\n",
    "#['XOne', 'PS3', 'X360' ,'Wii', '3DS']"
   ]
  },
  {
   "cell_type": "code",
   "execution_count": 145,
   "metadata": {
    "scrolled": true
   },
   "outputs": [
    {
     "data": {
      "text/plain": [
       "<matplotlib.axes._subplots.AxesSubplot at 0x7f67db44c990>"
      ]
     },
     "execution_count": 145,
     "metadata": {},
     "output_type": "execute_result"
    },
    {
     "data": {
      "image/png": "[encoded data removed]",
      "text/plain": [
       "<Figure size 432x288 with 1 Axes>"
      ]
     },
     "metadata": {
      "needs_background": "light"
     },
     "output_type": "display_data"
    },
    {
     "data": {
      "image/png": "[encoded data removed]",
      "text/plain": [
       "<Figure size 432x288 with 1 Axes>"
      ]
     },
     "metadata": {
      "needs_background": "light"
     },
     "output_type": "display_data"
    }
   ],
   "source": [
    "# XOne\n",
    "samegames_on_otherplatforms_forXOne = samegames_on_otherplatforms[(samegames_on_otherplatforms['platform'] == 'XOne')]\n",
    "samegames_on_otherplatforms_critic_forXOne = samegames_on_otherplatforms_forXOne.groupby(['critic_score'])['total_sales'].sum().reset_index()\n",
    "\n",
    "samegames_on_otherplatforms_critic_forXOne.plot.scatter(x='critic_score', y='total_sales')\n",
    "\n",
    "samegames_on_otherplatforms_user_forXOne = samegames_on_otherplatforms_forWii.groupby(['user_score'])['total_sales'].sum().reset_index()\n",
    "samegames_on_otherplatforms_user_forXOne.plot.scatter(x='user_score', y='total_sales')\n"
   ]
  },
  {
   "cell_type": "code",
   "execution_count": 146,
   "metadata": {},
   "outputs": [
    {
     "data": {
      "text/plain": [
       "<matplotlib.axes._subplots.AxesSubplot at 0x7f67d8548b50>"
      ]
     },
     "execution_count": 146,
     "metadata": {},
     "output_type": "execute_result"
    },
    {
     "data": {
      "image/png": "[encoded data removed]",
      "text/plain": [
       "<Figure size 432x288 with 1 Axes>"
      ]
     },
     "metadata": {
      "needs_background": "light"
     },
     "output_type": "display_data"
    },
    {
     "data": {
      "image/png": "[encoded data removed]",
      "text/plain": [
       "<Figure size 432x288 with 1 Axes>"
      ]
     },
     "metadata": {
      "needs_background": "light"
     },
     "output_type": "display_data"
    }
   ],
   "source": [
    "# PS3\n",
    "samegames_on_otherplatforms_forPS3 = samegames_on_otherplatforms[(samegames_on_otherplatforms['platform'] == 'PS3')]\n",
    "\n",
    "samegames_on_otherplatforms_critic_forPS3 = samegames_on_otherplatforms_forPS3.groupby(['critic_score'])['total_sales'].sum().reset_index()\n",
    "samegames_on_otherplatforms_critic_forPS3.plot.scatter(x='critic_score', y='total_sales')\n",
    "\n",
    "samegames_on_otherplatforms_user_forPS3 = samegames_on_otherplatforms_forPS3.groupby(['user_score'])['total_sales'].sum().reset_index()\n",
    "samegames_on_otherplatforms_user_forPS3.plot.scatter(x='user_score', y='total_sales')"
   ]
  },
  {
   "cell_type": "code",
   "execution_count": 147,
   "metadata": {
    "scrolled": true
   },
   "outputs": [
    {
     "data": {
      "text/plain": [
       "<matplotlib.axes._subplots.AxesSubplot at 0x7f67d8be8290>"
      ]
     },
     "execution_count": 147,
     "metadata": {},
     "output_type": "execute_result"
    },
    {
     "data": {
      "image/png": "[encoded data removed]",
      "text/plain": [
       "<Figure size 432x288 with 1 Axes>"
      ]
     },
     "metadata": {
      "needs_background": "light"
     },
     "output_type": "display_data"
    },
    {
     "data": {
      "image/png": "[encoded data removed]",
      "text/plain": [
       "<Figure size 432x288 with 1 Axes>"
      ]
     },
     "metadata": {
      "needs_background": "light"
     },
     "output_type": "display_data"
    }
   ],
   "source": [
    "# X360\n",
    "samegames_on_otherplatforms_forX360 = samegames_on_otherplatforms[(samegames_on_otherplatforms['platform'] == 'X360')]\n",
    "\n",
    "samegames_on_otherplatforms_critic_forX360 = samegames_on_otherplatforms_forX360.groupby(['critic_score'])['total_sales'].sum().reset_index()\n",
    "samegames_on_otherplatforms_critic_forX360.plot.scatter(x='critic_score', y='total_sales')\n",
    "\n",
    "samegames_on_otherplatforms_user_forX360 = samegames_on_otherplatforms_forX360.groupby(['user_score'])['total_sales'].sum().reset_index()\n",
    "samegames_on_otherplatforms_user_forX360.plot.scatter(x='user_score', y='total_sales')"
   ]
  },
  {
   "cell_type": "code",
   "execution_count": 100,
   "metadata": {},
   "outputs": [
    {
     "data": {
      "text/plain": [
       "<matplotlib.axes._subplots.AxesSubplot at 0x7f67d8b1ead0>"
      ]
     },
     "execution_count": 100,
     "metadata": {},
     "output_type": "execute_result"
    },
    {
     "data": {
      "image/png": "[encoded data removed]",
      "text/plain": [
       "<Figure size 432x288 with 1 Axes>"
      ]
     },
     "metadata": {
      "needs_background": "light"
     },
     "output_type": "display_data"
    },
    {
     "data": {
      "image/png": "[encoded data removed]",
      "text/plain": [
       "<Figure size 432x288 with 1 Axes>"
      ]
     },
     "metadata": {
      "needs_background": "light"
     },
     "output_type": "display_data"
    }
   ],
   "source": [
    "# 3DS\n",
    "samegames_on_otherplatforms_for3DS = samegames_on_otherplatforms[(samegames_on_otherplatforms['platform'] == '3DS')]\n",
    "\n",
    "samegames_on_otherplatforms_critic_for3DS = samegames_on_otherplatforms_for3DS.groupby(['critic_score'])['total_sales'].sum().reset_index()\n",
    "samegames_on_otherplatforms_critic_for3DS.plot.scatter(x='critic_score', y='total_sales')\n",
    "\n",
    "samegames_on_otherplatforms_user_for3DS = samegames_on_otherplatforms_for3DS.groupby(['user_score'])['total_sales'].sum().reset_index()\n",
    "samegames_on_otherplatforms_user_for3DS.plot.scatter(x='user_score', y='total_sales')"
   ]
  },
  {
   "cell_type": "markdown",
   "metadata": {},
   "source": [
    "### Conclusion: \n",
    "We chose Wii,PS3, X360, XOne,3DS popular platforms to compare how critic scores and user scores affect its total sales.Based on the plotting above, we can conclude that critic score and user score affect the total sales. We can see as the scores go higher, the sales also go up. \n",
    "Average correlation between critic score and total sales (for Wii,PS3, X360, XOne,3DS) is 0.34\n",
    "Average correlation between user score and total sales (for Wii,PS3, X360, XOne,3DS) is -0.05\n",
    "However, the correlation numbers don't suppport much that the critic scores and user scores affect its total sales. It's probability because we have less data to support our evidence. "
   ]
  },
  {
   "cell_type": "markdown",
   "metadata": {},
   "source": [
    "### General distribution of games by genre. "
   ]
  },
  {
   "cell_type": "code",
   "execution_count": 148,
   "metadata": {
    "scrolled": true
   },
   "outputs": [
    {
     "data": {
      "image/png": "[encoded data removed]",
      "text/plain": [
       "<Figure size 864x432 with 1 Axes>"
      ]
     },
     "metadata": {
      "needs_background": "light"
     },
     "output_type": "display_data"
    }
   ],
   "source": [
    "# Take a look at the general distribution of games by genre. \n",
    "# What can we say about the most profitable genres?\n",
    "# Can you generalize about genres with high and low sales?\n",
    "\n",
    "genre_bygame =data[['genre','total_sales']].groupby(['genre']).sum().sort_values(by='total_sales',ascending=False).reset_index()\n",
    "\n",
    "# Figure Size\n",
    "fig, ax = plt.subplots()\n",
    "fig.set_size_inches(12,6)\n",
    "\n",
    "sns.barplot(x=genre_bygame.genre, y='total_sales'\n",
    "            , data=genre_bygame\n",
    "            , ax=ax\n",
    "            , capsize=10)\n",
    "\n",
    "plt.ylabel('Total Sales')\n",
    "plt.xlabel('Genre Type')\n",
    "plt.title('Total Sales per Genre')\n",
    "          \n",
    "plt.show()\n",
    "\n"
   ]
  },
  {
   "cell_type": "markdown",
   "metadata": {},
   "source": [
    "### Conclusion:\n",
    "Based on the plotting above, we can conclude that the most profitable genre are action , sports , shooter  and role-playing .\n",
    "Genres with higher sales are action, sports, shooter whereas strategy, puzzle, adventure and flighting are much lower selling genres."
   ]
  },
  {
   "cell_type": "markdown",
   "metadata": {},
   "source": [
    "### Step 4. Create a user profile for each region\n",
    "For each region (NA, EU, JP), determine:\n",
    "- The top five platforms. Describe variations in their market shares from region to region.\n",
    "- The top five genres. Explain the difference.\n",
    "- Do ESRB ratings affect sales in individual regions?"
   ]
  },
  {
   "cell_type": "markdown",
   "metadata": {},
   "source": [
    "###  Examine the top 5 platforms per region (NA, EU, JP)"
   ]
  },
  {
   "cell_type": "code",
   "execution_count": 149,
   "metadata": {
    "scrolled": true
   },
   "outputs": [
    {
     "data": {
      "text/plain": [
       "Text(0.5, 1.0, 'Top five platforms per EU region')"
      ]
     },
     "execution_count": 149,
     "metadata": {},
     "output_type": "execute_result"
    },
    {
     "data": {
      "image/png": "[encoded data removed]",
      "text/plain": [
       "<Figure size 576x432 with 1 Axes>"
      ]
     },
     "metadata": {},
     "output_type": "display_data"
    },
    {
     "data": {
      "image/png": "[encoded data removed]",
      "text/plain": [
       "<Figure size 576x432 with 1 Axes>"
      ]
     },
     "metadata": {},
     "output_type": "display_data"
    },
    {
     "data": {
      "image/png": "[encoded data removed]",
      "text/plain": [
       "<Figure size 576x432 with 1 Axes>"
      ]
     },
     "metadata": {},
     "output_type": "display_data"
    }
   ],
   "source": [
    "# For each region (NA, EU, JP), determine: The top five genres. \n",
    "#Explain the difference.\n",
    "\n",
    "profile_NA = data[['platform','genre','rating','na_sales']]\n",
    "profile_JP = data[['platform','genre','rating','jp_sales']]\n",
    "profile_EU =  data[['platform','genre','rating','eu_sales']]\n",
    "\n",
    "platform_NA = profile_NA.groupby('platform').sum().sort_values(by='na_sales',ascending=False)\n",
    "platform_JP = profile_JP.groupby('platform').sum().sort_values(by='jp_sales',ascending=False)\n",
    "platform_EU = profile_EU.groupby('platform').sum().sort_values(by='eu_sales',ascending=False)\n",
    "\n",
    "\n",
    "platform_NA.plot(kind='pie',y='na_sales', shadow = True, figsize=(8,6),autopct='%1.1f%%')\n",
    "plt.title('Top five platforms per NA region')\n",
    "#platform_JP.plot(kind='bar',stacked=True, figsize=(8,6))\n",
    "platform_JP.plot(kind='pie',y='jp_sales', shadow = True, figsize=(8,6),autopct='%1.1f%%')\n",
    "plt.title('Top five platforms per JP region')\n",
    "#platform_EU.plot(kind='bar',stacked=True, figsize=(8,6))\n",
    "platform_EU.plot(kind='pie',y='eu_sales', shadow = True, figsize=(8,6),autopct='%1.1f%%')\n",
    "plt.title('Top five platforms per EU region')"
   ]
  },
  {
   "cell_type": "markdown",
   "metadata": {},
   "source": [
    "### Conclusion:\n",
    "\n",
    "The top 5 Platforms for NA region are PS4, XOne, X360, PS3, 3DS.The top 5 Platforms for JP region are 3DS,PS3,PSV,PS4, WiiU.The top 5 Platforms for EU region are PS4,PS3,XOne,X360, 3DS.\n",
    "\n"
   ]
  },
  {
   "cell_type": "markdown",
   "metadata": {},
   "source": [
    "### Examine the top 5 genres per region (NA, EU, JP)"
   ]
  },
  {
   "cell_type": "code",
   "execution_count": 150,
   "metadata": {
    "scrolled": true
   },
   "outputs": [
    {
     "data": {
      "text/plain": [
       "Text(0.5, 1.0, 'Top five genres per EU region')"
      ]
     },
     "execution_count": 150,
     "metadata": {},
     "output_type": "execute_result"
    },
    {
     "data": {
      "image/png": "[encoded data removed]",
      "text/plain": [
       "<Figure size 576x432 with 1 Axes>"
      ]
     },
     "metadata": {},
     "output_type": "display_data"
    },
    {
     "data": {
      "image/png": "[encoded data removed]",
      "text/plain": [
       "<Figure size 576x432 with 1 Axes>"
      ]
     },
     "metadata": {},
     "output_type": "display_data"
    },
    {
     "data": {
      "image/png": "[encoded data removed]",
      "text/plain": [
       "<Figure size 576x432 with 1 Axes>"
      ]
     },
     "metadata": {},
     "output_type": "display_data"
    }
   ],
   "source": [
    "# For each region (NA, EU, JP), determine: The top five genres. \n",
    "#Explain the difference.\n",
    "genres_NA = profile_NA.groupby('genre').sum().sort_values(by='na_sales',ascending=False)\n",
    "genres_JP = profile_JP.groupby('genre').sum().sort_values(by='jp_sales',ascending=False)\n",
    "genres_EU = profile_EU.groupby('genre').sum().sort_values(by='eu_sales',ascending=False)\n",
    "\n",
    "genres_NA.plot(kind='pie',y='na_sales', shadow = True, figsize=(8,6),autopct='%1.1f%%')\n",
    "#genres_NA.plot(kind='bar',stacked=True, figsize=(8,6))\n",
    "plt.title('Top five genres per NA region')\n",
    "genres_JP.plot(kind='pie',y='jp_sales', shadow = True, figsize=(8,6),autopct='%1.1f%%')\n",
    "#genres_JP.plot(kind='bar',stacked=True, figsize=(8,6))\n",
    "plt.title('Top five genres per JP region')\n",
    "genres_EU.plot(kind='pie',y='eu_sales', shadow = True, figsize=(8,6),autopct='%1.1f%%')\n",
    "#genres_EU.plot(kind='bar',stacked=True, figsize=(8,6))\n",
    "plt.title('Top five genres per EU region')"
   ]
  },
  {
   "cell_type": "markdown",
   "metadata": {},
   "source": [
    "### Conclusion:\n",
    "\n",
    "The top 5 genres for NA are action,shooter,sports, misc, role-playing.The top 5 genres for JP are role-playing, action, misc, fighting, shoooter and the top 5 genres for EU are action, shooter, sports,role-playing, racing."
   ]
  },
  {
   "cell_type": "markdown",
   "metadata": {},
   "source": [
    "### Examine whether ratings affect sales in each region"
   ]
  },
  {
   "cell_type": "code",
   "execution_count": 151,
   "metadata": {
    "scrolled": true
   },
   "outputs": [
    {
     "data": {
      "text/plain": [
       "Text(0.5, 1.0, 'Ratings per EU region')"
      ]
     },
     "execution_count": 151,
     "metadata": {},
     "output_type": "execute_result"
    },
    {
     "data": {
      "image/png": "[encoded data removed]",
      "text/plain": [
       "<Figure size 576x432 with 1 Axes>"
      ]
     },
     "metadata": {},
     "output_type": "display_data"
    },
    {
     "data": {
      "image/png": "[encoded data removed]",
      "text/plain": [
       "<Figure size 576x432 with 1 Axes>"
      ]
     },
     "metadata": {},
     "output_type": "display_data"
    },
    {
     "data": {
      "image/png": "[encoded data removed]",
      "text/plain": [
       "<Figure size 576x432 with 1 Axes>"
      ]
     },
     "metadata": {},
     "output_type": "display_data"
    }
   ],
   "source": [
    "# For each region,Do ESRB ratings affect sales in individual regions?\n",
    "ratings_NA = profile_NA.groupby('rating').sum().sort_values(by='na_sales',ascending=False)\n",
    "ratings_JP = profile_JP.groupby('rating').sum().sort_values(by='jp_sales',ascending=False)\n",
    "ratings_EU = profile_EU.groupby('rating').sum().sort_values(by='eu_sales',ascending=False)\n",
    "\n",
    "ratings_NA.plot(kind='pie',y='na_sales', shadow = True, figsize=(8,6),autopct='%1.1f%%')\n",
    "plt.title('Ratings per NA region')\n",
    "ratings_JP.plot(kind='pie',y='jp_sales', shadow = True, figsize=(8,6),autopct='%1.1f%%')\n",
    "plt.title('Ratings per JP region')\n",
    "ratings_EU.plot(kind='pie',y='eu_sales', shadow = True, figsize=(8,6),autopct='%1.1f%%')\n",
    "plt.title('Ratings per EU region')\n"
   ]
  },
  {
   "cell_type": "markdown",
   "metadata": {},
   "source": [
    "### Conclusion:\n",
    "\n",
    "\n",
    "Looking at the ratings of the regions, we can conclude that ESRB rating does affect sales in each individual regions. For NA region,M,unknown and E10+ ratings got the highest sales. For JP,51.8% of rating is unknown. For EU region,M,E and unknown got the highest."
   ]
  },
  {
   "cell_type": "markdown",
   "metadata": {},
   "source": [
    "### Step 5. Test the following hypotheses:\n",
    "- Average user ratings of the Xbox One and PC platforms are the same.\n",
    "- Average user ratings for the Action and Sports genres are different.\n",
    "- Set the alpha threshold value yourself.\n",
    "Explain:\n",
    "- How you formulated the null and alternative hypotheses\n",
    "-What significance level you chose to test the hypotheses, and why"
   ]
  },
  {
   "cell_type": "code",
   "execution_count": 152,
   "metadata": {},
   "outputs": [
    {
     "name": "stdout",
     "output_type": "stream",
     "text": [
      "The average user rating of XBox One is: 6.52\n",
      "The average user rating of PC is: 6.29\n",
      "p-value:  0.17572248597802625\n",
      "We can not reject the null hypothesis\n"
     ]
    }
   ],
   "source": [
    "# Test hypothesis: Average user ratings of the Xbox One and PC platforms are the same.\n",
    "\n",
    "xboxOne = data[data['platform'] == 'XOne']\n",
    "pc = data[data['platform'] == 'PC']\n",
    "\n",
    "# calculate average\n",
    "xboxOne_user_rating = xboxOne['user_score'].mean().round(decimals=2)\n",
    "pc_user_rating = pc['user_score'].mean().round(decimals=2)\n",
    "\n",
    "# drop null values\n",
    "xboxOne = xboxOne[xboxOne['user_score'].notna()]\n",
    "pc = pc[pc['user_score'].notna()]\n",
    "\n",
    "\n",
    "print('The average user rating of XBox One is: ' + str(xboxOne_user_rating))\n",
    "print('The average user rating of PC is: ' + str(pc_user_rating))\n",
    "\n",
    "# perform a t-test\n",
    "results = st.ttest_ind(xboxOne['user_score'], pc['user_score'], equal_var=False)\n",
    "p_value = results.pvalue\n",
    "\n",
    "\n",
    "# critical statistical significance level\n",
    "alpha = 0.05\n",
    "\n",
    "print('p-value: ', results.pvalue)\n",
    "\n",
    "if p_value < alpha:\n",
    "    print('We reject the null hypothesis')\n",
    "else:\n",
    "    print('We can not reject the null hypothesis')"
   ]
  },
  {
   "cell_type": "markdown",
   "metadata": {},
   "source": [
    "### Conclusion:\n",
    "We tested the hypothesis that the average user rating of the Xbox One and PS platforms are the same. We started with the null hypothesis H₀ which is the average average user rating of the Xbox One and PS platforms are the same. The alternative hypothesis, H₁ is the average user rating of the Xbox One and PS platforms are not same. For this, we will use an alpha of 0.05, which means that only in 5% of cases will we reject the null hypothesis when it is true.\n",
    "\n",
    "We used a t-test to test the hypothesis because it is used to compare the means of two groups in order to determine whether two groups are different from one another.\n",
    "\n",
    "This result implies that the average average user rating of the Xbox One and PS platforms are same.\n",
    "\n",
    "\n"
   ]
  },
  {
   "cell_type": "code",
   "execution_count": 153,
   "metadata": {},
   "outputs": [
    {
     "name": "stdout",
     "output_type": "stream",
     "text": [
      "The average user rating for action genres is: 6.52\n",
      "The average user rating for sports genres is: 6.29\n",
      "p-value:  6.545648554821845e-19\n",
      "We reject the null hypothesis\n"
     ]
    }
   ],
   "source": [
    "### Average user ratings for the Action and Sports genres are different\n",
    "\n",
    "action = data[data['genre'] == 'Action']\n",
    "sport = data[data['genre'] == 'Sports']\n",
    "\n",
    "action = action[action['user_score'].notna()]\n",
    "sport = sport[sport['user_score'].notna()]\n",
    "\n",
    "# calculate average\n",
    "action_user_rating = action['user_score'].mean().round(decimals=2)\n",
    "sport_user_rating = sport['user_score'].mean().round(decimals=2)\n",
    "\n",
    "print('The average user rating for action genres is: ' + str(xboxOne_user_rating))\n",
    "print('The average user rating for sports genres is: ' + str(pc_user_rating))\n",
    "\n",
    "# perform a t-test\n",
    "results = st.ttest_ind(action['user_score'], sport['user_score'], equal_var=False)\n",
    "p_value = results.pvalue\n",
    "alpha = 0.05\n",
    "\n",
    "print('p-value: ', results.pvalue)\n",
    "\n",
    "if p_value < alpha:\n",
    "    print('We reject the null hypothesis')\n",
    "else:\n",
    "    print('We can not reject the null hypothesis')\n",
    "\n",
    "\n"
   ]
  },
  {
   "cell_type": "markdown",
   "metadata": {},
   "source": [
    "\n",
    "### Conclusion:\n",
    "We tested the hypothesis that the average user rating of the Action genre and Sport genres are different. We started with the null hypothesis H₀ which is the the average user rating of the Action genre and Sport genres are different. The alternative hypothesis, H₁ is the average user rating of the Xbox One and PS platforms are  same. For this, we will use an alpha of 0.05, which means that only in 5% of cases will we reject the null hypothesis when it is true.\n",
    "This result implies that the average user rating of the Action genre and Sport genres are same.\n",
    "\n"
   ]
  },
  {
   "cell_type": "markdown",
   "metadata": {},
   "source": [
    "### Step 6. Write a general conclusion\n"
   ]
  },
  {
   "cell_type": "markdown",
   "metadata": {},
   "source": [
    "So, we completed an integrated project of an online game store where we evaluated historical data on game sales to identify patterns that determine whether a game succeeds or not.\n",
    "To do that first we analyzed the data to check for any discrepancies. We corrected data columns, changed data types as well. We also identified missing values in columns like critic_score, rating, user_score, and year_of_release. Backfilling these columns based on any assumption didn't make sense to us, so we keep them as it is. After analyzing we found out that video games started to grow in the year 1995 and peaked up in the year 2010. Out of all platforms available, X360, PS2, PS3, Wii, PS, and DS are the most popular ones and have leading sales. We also found out the lifespan of any game is about 8 years.\n",
    "Based on the above analysis, we also revealed that critic_score and user_score affected sales of the games. The higher thees scores are, the higher are the sales for those games.\n",
    "The most profitable genre are action, sports, shooter, and role-playing. Genres with higher sales are action, sports, shooter, role-playing whereas strategy, puzzle, adventure, and flighting are much lower selling genres.\n",
    "Furthermore, we also analyzed market shares from region to region. Based on that top 5 platforms for the NA region are PS4, XOne, X360, PS3, 3DS. The top 5 Platforms for the JP region are D3DS,PS3,PSV,PS4, WiiU. The top 5 Platforms for the EU region are PS4,PS3,XOne,X360, 3DS.\n",
    "Likewise,the top 5 genres for NA are action,shooter,sports, misc, role-playing. The top 5 genres for JP are role-playing, action, misc, fighting, shoooter and the top 5 genres for EU are action, shooter,sports,role-playing, racing.\n",
    "Looking at the ratings of the regions, we can conclude that ESRB rating does affect sales in each individual region.For NA,  M and 'unknown' ratings got the highest sales. For JP,51.8% of rating is unknown. For EU,M,E,unknown, M, E and 'unknown' got the highest. \n",
    "We also performed hypothesis testing to determine whether the average user ratings of the Xbox One and PC platforms are different. We also tested if the average user rating for the Action and Sports genre is different or not. Our hypothesis result confirmed This result implies that the average average user rating of the Xbox One and PS platforms are same and the average user rating of the Action genre and Sport genres are same.\n",
    "\n",
    "\n",
    "\n"
   ]
  }
 ],
 "metadata": {
  "ExecuteTimeLog": [
   {
    "duration": 2604,
    "start_time": "2021-06-21T19:39:23.808Z"
   },
   {
    "duration": 48,
    "start_time": "2021-06-21T19:40:24.352Z"
   },
   {
    "duration": 35,
    "start_time": "2021-06-21T19:40:26.347Z"
   },
   {
    "duration": 53,
    "start_time": "2021-06-21T19:41:46.283Z"
   },
   {
    "duration": 57,
    "start_time": "2021-06-21T19:44:05.978Z"
   },
   {
    "duration": 53,
    "start_time": "2021-06-21T20:56:29.131Z"
   },
   {
    "duration": -281,
    "start_time": "2021-06-22T01:46:50.176Z"
   },
   {
    "duration": 308,
    "start_time": "2021-06-22T01:46:51.031Z"
   },
   {
    "duration": 11,
    "start_time": "2021-06-22T01:47:02.074Z"
   },
   {
    "duration": 11,
    "start_time": "2021-06-22T01:47:04.244Z"
   },
   {
    "duration": 55,
    "start_time": "2021-06-22T01:47:15.207Z"
   },
   {
    "duration": 11,
    "start_time": "2021-06-22T01:47:18.573Z"
   },
   {
    "duration": 8801,
    "start_time": "2021-06-22T01:47:21.406Z"
   },
   {
    "duration": 31,
    "start_time": "2021-06-22T01:47:46.014Z"
   },
   {
    "duration": 8504,
    "start_time": "2021-06-22T02:10:00.366Z"
   },
   {
    "duration": -297,
    "start_time": "2021-06-22T02:11:06.300Z"
   },
   {
    "duration": -301,
    "start_time": "2021-06-22T02:11:42.625Z"
   },
   {
    "duration": 8702,
    "start_time": "2021-06-22T02:11:57.656Z"
   },
   {
    "duration": 29,
    "start_time": "2021-06-22T02:12:56.359Z"
   },
   {
    "duration": 395,
    "start_time": "2021-06-22T02:13:35.730Z"
   },
   {
    "duration": 362,
    "start_time": "2021-06-22T02:13:48.071Z"
   },
   {
    "duration": 351,
    "start_time": "2021-06-22T02:15:44.757Z"
   },
   {
    "duration": 40,
    "start_time": "2021-06-22T02:27:34.549Z"
   },
   {
    "duration": 40,
    "start_time": "2021-06-22T02:30:30.376Z"
   },
   {
    "duration": 37,
    "start_time": "2021-06-22T02:31:10.499Z"
   },
   {
    "duration": 31,
    "start_time": "2021-06-22T02:31:31.320Z"
   },
   {
    "duration": 39,
    "start_time": "2021-06-22T02:32:10.099Z"
   },
   {
    "duration": 389,
    "start_time": "2021-06-22T02:49:07.113Z"
   },
   {
    "duration": 364,
    "start_time": "2021-06-22T02:52:13.986Z"
   },
   {
    "duration": 1608,
    "start_time": "2021-06-22T23:57:36.341Z"
   },
   {
    "duration": 54,
    "start_time": "2021-06-22T23:57:38.569Z"
   },
   {
    "duration": 11,
    "start_time": "2021-06-22T23:57:43.953Z"
   },
   {
    "duration": 11,
    "start_time": "2021-06-22T23:58:07.273Z"
   },
   {
    "duration": 71,
    "start_time": "2021-06-22T23:59:05.680Z"
   },
   {
    "duration": 11,
    "start_time": "2021-06-22T23:59:39.568Z"
   },
   {
    "duration": 23,
    "start_time": "2021-06-23T00:10:02.451Z"
   },
   {
    "duration": 421,
    "start_time": "2021-06-23T00:12:33.856Z"
   },
   {
    "duration": 5,
    "start_time": "2021-06-23T00:12:55.257Z"
   },
   {
    "duration": 5,
    "start_time": "2021-06-23T00:13:04.719Z"
   },
   {
    "duration": 5,
    "start_time": "2021-06-23T00:13:49.771Z"
   },
   {
    "duration": 7,
    "start_time": "2021-06-23T00:17:08.129Z"
   },
   {
    "duration": 27,
    "start_time": "2021-06-23T00:23:25.609Z"
   },
   {
    "duration": 7,
    "start_time": "2021-06-23T00:24:12.647Z"
   },
   {
    "duration": 5,
    "start_time": "2021-06-23T00:37:03.156Z"
   },
   {
    "duration": 5,
    "start_time": "2021-06-23T00:37:59.866Z"
   },
   {
    "duration": 719,
    "start_time": "2021-06-23T00:40:25.956Z"
   },
   {
    "duration": 335,
    "start_time": "2021-06-23T00:41:15.889Z"
   },
   {
    "duration": 52,
    "start_time": "2021-06-23T00:45:46.341Z"
   },
   {
    "duration": 1968,
    "start_time": "2021-06-23T00:48:31.044Z"
   },
   {
    "duration": 293,
    "start_time": "2021-06-23T00:48:49.801Z"
   },
   {
    "duration": 292,
    "start_time": "2021-06-23T00:49:03.375Z"
   },
   {
    "duration": 271,
    "start_time": "2021-06-23T00:49:10.623Z"
   },
   {
    "duration": 1936,
    "start_time": "2021-06-23T00:49:21.226Z"
   },
   {
    "duration": 9,
    "start_time": "2021-06-23T00:58:25.671Z"
   },
   {
    "duration": 25,
    "start_time": "2021-06-23T00:58:35.603Z"
   },
   {
    "duration": 24,
    "start_time": "2021-06-23T00:59:44.013Z"
   },
   {
    "duration": 377,
    "start_time": "2021-06-23T01:04:46.687Z"
   },
   {
    "duration": 62050,
    "start_time": "2021-06-23T01:06:32.300Z"
   },
   {
    "duration": 25,
    "start_time": "2021-06-23T01:13:20.135Z"
   },
   {
    "duration": 87,
    "start_time": "2021-06-23T01:18:08.292Z"
   },
   {
    "duration": 50,
    "start_time": "2021-06-23T01:19:27.388Z"
   },
   {
    "duration": 27,
    "start_time": "2021-06-23T01:19:51.972Z"
   },
   {
    "duration": 36,
    "start_time": "2021-06-23T01:28:33.458Z"
   },
   {
    "duration": 277,
    "start_time": "2021-06-23T01:30:48.712Z"
   },
   {
    "duration": 1016,
    "start_time": "2021-06-23T01:30:56.745Z"
   },
   {
    "duration": 13,
    "start_time": "2021-06-23T01:31:42.050Z"
   },
   {
    "duration": 3,
    "start_time": "2021-06-23T01:34:53.062Z"
   },
   {
    "duration": 428,
    "start_time": "2021-06-23T02:09:28.224Z"
   },
   {
    "duration": 3,
    "start_time": "2021-06-23T02:48:26.352Z"
   },
   {
    "duration": 14,
    "start_time": "2021-06-23T02:50:56.795Z"
   },
   {
    "duration": 451,
    "start_time": "2021-06-23T03:03:57.668Z"
   },
   {
    "duration": 773,
    "start_time": "2021-06-23T03:06:14.533Z"
   },
   {
    "duration": 564,
    "start_time": "2021-06-23T03:06:37.559Z"
   },
   {
    "duration": 630,
    "start_time": "2021-06-23T03:07:08.478Z"
   },
   {
    "duration": 581,
    "start_time": "2021-06-23T03:07:58.479Z"
   },
   {
    "duration": 775,
    "start_time": "2021-06-23T03:08:42.666Z"
   },
   {
    "duration": 4,
    "start_time": "2021-06-23T03:10:39.975Z"
   },
   {
    "duration": 793,
    "start_time": "2021-06-23T03:15:16.435Z"
   },
   {
    "duration": 835,
    "start_time": "2021-06-23T03:16:04.485Z"
   },
   {
    "duration": 590,
    "start_time": "2021-06-23T03:16:11.171Z"
   },
   {
    "duration": 786,
    "start_time": "2021-06-23T03:16:23.845Z"
   },
   {
    "duration": 85,
    "start_time": "2021-06-23T03:45:40.556Z"
   },
   {
    "duration": 275,
    "start_time": "2021-06-23T03:46:03.020Z"
   },
   {
    "duration": 17,
    "start_time": "2021-06-23T03:46:18.982Z"
   },
   {
    "duration": 1545,
    "start_time": "2021-06-23T16:41:05.444Z"
   },
   {
    "duration": 81,
    "start_time": "2021-06-23T16:41:08.532Z"
   },
   {
    "duration": 10,
    "start_time": "2021-06-23T16:41:13.214Z"
   },
   {
    "duration": 53,
    "start_time": "2021-06-23T16:41:34.919Z"
   },
   {
    "duration": 519,
    "start_time": "2021-06-23T16:41:37.222Z"
   },
   {
    "duration": 9717,
    "start_time": "2021-06-23T16:42:02.004Z"
   },
   {
    "duration": 463,
    "start_time": "2021-06-23T16:42:11.854Z"
   },
   {
    "duration": 454,
    "start_time": "2021-06-23T16:42:26.806Z"
   },
   {
    "duration": 9994,
    "start_time": "2021-06-23T16:42:40.514Z"
   },
   {
    "duration": 34,
    "start_time": "2021-06-23T16:44:07.236Z"
   },
   {
    "duration": 443,
    "start_time": "2021-06-23T16:44:11.115Z"
   },
   {
    "duration": 843,
    "start_time": "2021-06-23T16:44:32.899Z"
   },
   {
    "duration": 18,
    "start_time": "2021-06-23T16:51:49.922Z"
   },
   {
    "duration": 15,
    "start_time": "2021-06-23T16:59:35.249Z"
   },
   {
    "duration": 372,
    "start_time": "2021-06-23T16:59:51.605Z"
   },
   {
    "duration": 1597,
    "start_time": "2021-06-23T21:18:44.344Z"
   },
   {
    "duration": 83,
    "start_time": "2021-06-23T21:18:47.537Z"
   },
   {
    "duration": 11,
    "start_time": "2021-06-23T21:18:59.042Z"
   },
   {
    "duration": 28,
    "start_time": "2021-06-23T21:19:14.184Z"
   },
   {
    "duration": 12,
    "start_time": "2021-06-23T21:27:49.843Z"
   },
   {
    "duration": 774,
    "start_time": "2021-06-23T21:27:53.985Z"
   },
   {
    "duration": 9994,
    "start_time": "2021-06-23T21:27:57.839Z"
   },
   {
    "duration": -1087,
    "start_time": "2021-06-23T21:28:08.923Z"
   },
   {
    "duration": 45,
    "start_time": "2021-06-23T21:29:10.134Z"
   },
   {
    "duration": 466,
    "start_time": "2021-06-23T21:29:13.728Z"
   },
   {
    "duration": 946,
    "start_time": "2021-06-23T21:29:44.563Z"
   },
   {
    "duration": 679,
    "start_time": "2021-06-23T21:42:22.899Z"
   },
   {
    "duration": 687,
    "start_time": "2021-06-23T21:42:53.863Z"
   },
   {
    "duration": 898,
    "start_time": "2021-06-23T21:43:01.881Z"
   },
   {
    "duration": 8037,
    "start_time": "2021-06-23T23:13:43.265Z"
   },
   {
    "duration": 127,
    "start_time": "2021-06-23T23:26:16.914Z"
   },
   {
    "duration": 139,
    "start_time": "2021-06-23T23:26:31.897Z"
   },
   {
    "duration": 120,
    "start_time": "2021-06-23T23:26:37.062Z"
   },
   {
    "duration": 107,
    "start_time": "2021-06-23T23:29:12.639Z"
   },
   {
    "duration": 385,
    "start_time": "2021-06-23T23:31:17.392Z"
   },
   {
    "duration": 363,
    "start_time": "2021-06-23T23:31:59.526Z"
   },
   {
    "duration": 338,
    "start_time": "2021-06-23T23:32:28.384Z"
   },
   {
    "duration": 7,
    "start_time": "2021-06-23T23:38:22.594Z"
   },
   {
    "duration": 335,
    "start_time": "2021-06-23T23:38:47.950Z"
   },
   {
    "duration": 111,
    "start_time": "2021-06-23T23:40:31.493Z"
   },
   {
    "duration": 8317,
    "start_time": "2021-06-23T23:40:36.042Z"
   },
   {
    "duration": 9220,
    "start_time": "2021-06-23T23:40:57.389Z"
   },
   {
    "duration": 322,
    "start_time": "2021-06-23T23:51:36.323Z"
   },
   {
    "duration": 490,
    "start_time": "2021-06-23T23:51:57.356Z"
   },
   {
    "duration": 359,
    "start_time": "2021-06-23T23:53:56.604Z"
   },
   {
    "duration": 344,
    "start_time": "2021-06-23T23:54:16.270Z"
   },
   {
    "duration": 374,
    "start_time": "2021-06-23T23:54:26.165Z"
   },
   {
    "duration": 8217,
    "start_time": "2021-06-23T23:54:32.707Z"
   },
   {
    "duration": 8,
    "start_time": "2021-06-23T23:56:12.172Z"
   },
   {
    "duration": 125,
    "start_time": "2021-06-23T23:57:08.032Z"
   },
   {
    "duration": 346,
    "start_time": "2021-06-23T23:57:21.788Z"
   },
   {
    "duration": 113,
    "start_time": "2021-06-24T00:38:53.154Z"
   },
   {
    "duration": 396,
    "start_time": "2021-06-24T00:38:57.573Z"
   },
   {
    "duration": 8813,
    "start_time": "2021-06-24T00:39:17.519Z"
   },
   {
    "duration": 8489,
    "start_time": "2021-06-24T00:39:48.061Z"
   },
   {
    "duration": 377,
    "start_time": "2021-06-24T01:02:01.383Z"
   },
   {
    "duration": 8270,
    "start_time": "2021-06-24T01:02:33.168Z"
   },
   {
    "duration": 356,
    "start_time": "2021-06-24T01:09:54.860Z"
   },
   {
    "duration": 373,
    "start_time": "2021-06-24T01:14:44.299Z"
   },
   {
    "duration": 7,
    "start_time": "2021-06-24T01:15:53.332Z"
   },
   {
    "duration": 7,
    "start_time": "2021-06-24T01:16:05.490Z"
   },
   {
    "duration": 112,
    "start_time": "2021-06-24T01:17:55.723Z"
   },
   {
    "duration": 401,
    "start_time": "2021-06-24T01:33:52.257Z"
   },
   {
    "duration": 20,
    "start_time": "2021-06-24T01:34:19.042Z"
   },
   {
    "duration": 858,
    "start_time": "2021-06-24T01:36:00.207Z"
   },
   {
    "duration": 21,
    "start_time": "2021-06-24T01:45:25.356Z"
   },
   {
    "duration": 8403,
    "start_time": "2021-06-24T01:48:00.903Z"
   },
   {
    "duration": 8,
    "start_time": "2021-06-24T02:14:43.833Z"
   },
   {
    "duration": 22,
    "start_time": "2021-06-24T02:16:34.140Z"
   },
   {
    "duration": 13,
    "start_time": "2021-06-24T02:16:51.598Z"
   },
   {
    "duration": 8047,
    "start_time": "2021-06-24T02:24:15.637Z"
   },
   {
    "duration": 8723,
    "start_time": "2021-06-24T02:28:26.470Z"
   },
   {
    "duration": 18,
    "start_time": "2021-06-24T03:08:33.633Z"
   },
   {
    "duration": 1503,
    "start_time": "2021-06-30T00:47:42.886Z"
   },
   {
    "duration": 11,
    "start_time": "2021-06-30T00:47:54.389Z"
   },
   {
    "duration": 32,
    "start_time": "2021-06-30T00:52:57.198Z"
   },
   {
    "duration": 25,
    "start_time": "2021-06-30T00:58:46.215Z"
   },
   {
    "duration": 662,
    "start_time": "2021-06-30T01:29:21.079Z"
   },
   {
    "duration": 36,
    "start_time": "2021-06-30T01:29:35.133Z"
   },
   {
    "duration": 446,
    "start_time": "2021-06-30T01:29:52.897Z"
   },
   {
    "duration": 48,
    "start_time": "2021-06-30T16:13:32.968Z"
   },
   {
    "duration": 72,
    "start_time": "2021-06-30T16:13:34.920Z"
   },
   {
    "duration": 11,
    "start_time": "2021-06-30T16:13:38.579Z"
   },
   {
    "duration": 23,
    "start_time": "2021-06-30T16:13:42.366Z"
   },
   {
    "duration": 11,
    "start_time": "2021-06-30T16:13:44.511Z"
   },
   {
    "duration": 10815,
    "start_time": "2021-06-30T16:23:17.226Z"
   },
   {
    "duration": -241,
    "start_time": "2021-06-30T16:23:28.285Z"
   },
   {
    "duration": -241,
    "start_time": "2021-06-30T16:23:28.288Z"
   },
   {
    "duration": 786,
    "start_time": "2021-06-30T16:28:09.099Z"
   },
   {
    "duration": 1552,
    "start_time": "2021-06-30T19:12:59.820Z"
   },
   {
    "duration": 85,
    "start_time": "2021-06-30T19:13:05.113Z"
   },
   {
    "duration": 11,
    "start_time": "2021-06-30T19:13:08.802Z"
   },
   {
    "duration": 25,
    "start_time": "2021-06-30T19:13:12.298Z"
   },
   {
    "duration": 21,
    "start_time": "2021-06-30T19:13:15.107Z"
   },
   {
    "duration": 11,
    "start_time": "2021-06-30T19:13:17.476Z"
   },
   {
    "duration": 10098,
    "start_time": "2021-06-30T19:13:21.225Z"
   },
   {
    "duration": 183,
    "start_time": "2021-06-30T19:13:31.142Z"
   },
   {
    "duration": 180,
    "start_time": "2021-06-30T19:13:31.146Z"
   },
   {
    "duration": 451,
    "start_time": "2021-06-30T19:13:50.058Z"
   },
   {
    "duration": 302,
    "start_time": "2021-06-30T19:14:04.855Z"
   },
   {
    "duration": 298,
    "start_time": "2021-06-30T19:23:24.910Z"
   },
   {
    "duration": 298,
    "start_time": "2021-06-30T19:24:53.217Z"
   },
   {
    "duration": 251,
    "start_time": "2021-06-30T19:25:05.101Z"
   },
   {
    "duration": 247,
    "start_time": "2021-06-30T19:25:09.464Z"
   },
   {
    "duration": 350,
    "start_time": "2021-06-30T19:25:14.368Z"
   },
   {
    "duration": 369,
    "start_time": "2021-06-30T19:25:18.779Z"
   },
   {
    "duration": 299,
    "start_time": "2021-06-30T19:25:33.874Z"
   },
   {
    "duration": 428,
    "start_time": "2021-06-30T19:25:41.559Z"
   },
   {
    "duration": 274,
    "start_time": "2021-06-30T19:25:47.368Z"
   },
   {
    "duration": 47,
    "start_time": "2021-06-30T19:25:59.760Z"
   },
   {
    "duration": 825,
    "start_time": "2021-06-30T19:26:03.815Z"
   },
   {
    "duration": 390,
    "start_time": "2021-06-30T19:26:07.800Z"
   },
   {
    "duration": 6350,
    "start_time": "2021-06-30T19:26:11.410Z"
   },
   {
    "duration": 6578,
    "start_time": "2021-06-30T19:26:21.460Z"
   },
   {
    "duration": 6107,
    "start_time": "2021-06-30T19:26:45.358Z"
   },
   {
    "duration": 7869,
    "start_time": "2021-06-30T19:38:00.235Z"
   },
   {
    "duration": 6082,
    "start_time": "2021-06-30T19:39:37.939Z"
   },
   {
    "duration": 6830,
    "start_time": "2021-06-30T19:40:18.961Z"
   },
   {
    "duration": 12,
    "start_time": "2021-06-30T19:40:44.292Z"
   },
   {
    "duration": 12,
    "start_time": "2021-06-30T19:40:54.950Z"
   },
   {
    "duration": 373,
    "start_time": "2021-06-30T19:45:14.052Z"
   },
   {
    "duration": 14,
    "start_time": "2021-06-30T19:45:19.159Z"
   },
   {
    "duration": 19,
    "start_time": "2021-06-30T19:45:22.601Z"
   },
   {
    "duration": 17,
    "start_time": "2021-06-30T19:46:46.936Z"
   },
   {
    "duration": 91,
    "start_time": "2021-06-30T19:54:00.490Z"
   },
   {
    "duration": 7,
    "start_time": "2021-06-30T19:54:15.301Z"
   },
   {
    "duration": 50,
    "start_time": "2021-06-30T20:25:02.326Z"
   },
   {
    "duration": 68,
    "start_time": "2021-06-30T20:25:06.583Z"
   },
   {
    "duration": 11,
    "start_time": "2021-06-30T20:25:10.837Z"
   },
   {
    "duration": 20,
    "start_time": "2021-06-30T20:25:15.503Z"
   },
   {
    "duration": 47,
    "start_time": "2021-06-30T20:33:55.774Z"
   },
   {
    "duration": 11,
    "start_time": "2021-06-30T20:34:00.190Z"
   },
   {
    "duration": 27,
    "start_time": "2021-06-30T20:34:03.265Z"
   },
   {
    "duration": 19,
    "start_time": "2021-06-30T20:34:09.876Z"
   },
   {
    "duration": 34,
    "start_time": "2021-06-30T20:34:14.280Z"
   },
   {
    "duration": 532,
    "start_time": "2021-06-30T20:34:17.929Z"
   },
   {
    "duration": 792,
    "start_time": "2021-06-30T20:34:22.063Z"
   },
   {
    "duration": 87,
    "start_time": "2021-06-30T20:34:26.262Z"
   },
   {
    "duration": 6,
    "start_time": "2021-06-30T20:34:48.054Z"
   },
   {
    "duration": 7,
    "start_time": "2021-06-30T20:35:30.934Z"
   },
   {
    "duration": 8,
    "start_time": "2021-06-30T20:36:25.257Z"
   },
   {
    "duration": 8,
    "start_time": "2021-06-30T20:37:23.161Z"
   },
   {
    "duration": 371,
    "start_time": "2021-06-30T20:38:10.895Z"
   },
   {
    "duration": 20,
    "start_time": "2021-06-30T20:39:36.444Z"
   },
   {
    "duration": 282,
    "start_time": "2021-06-30T20:39:57.759Z"
   },
   {
    "duration": 31,
    "start_time": "2021-06-30T20:40:16.442Z"
   },
   {
    "duration": 51,
    "start_time": "2021-06-30T20:52:11.427Z"
   },
   {
    "duration": 66,
    "start_time": "2021-06-30T20:52:13.820Z"
   },
   {
    "duration": 11,
    "start_time": "2021-06-30T20:52:17.684Z"
   },
   {
    "duration": 11,
    "start_time": "2021-06-30T20:52:24.821Z"
   },
   {
    "duration": 464,
    "start_time": "2021-06-30T20:52:29.501Z"
   },
   {
    "duration": 50,
    "start_time": "2021-06-30T21:26:25.353Z"
   },
   {
    "duration": 66,
    "start_time": "2021-06-30T21:26:27.451Z"
   },
   {
    "duration": 11,
    "start_time": "2021-06-30T21:26:31.345Z"
   },
   {
    "duration": 21,
    "start_time": "2021-06-30T21:26:35.353Z"
   },
   {
    "duration": 11,
    "start_time": "2021-06-30T21:26:39.857Z"
   },
   {
    "duration": 11,
    "start_time": "2021-06-30T21:26:42.353Z"
   },
   {
    "duration": 476,
    "start_time": "2021-06-30T21:26:46.509Z"
   },
   {
    "duration": 9622,
    "start_time": "2021-06-30T21:26:49.803Z"
   },
   {
    "duration": 173,
    "start_time": "2021-06-30T21:26:59.254Z"
   },
   {
    "duration": 9689,
    "start_time": "2021-06-30T21:27:05.983Z"
   },
   {
    "duration": 170,
    "start_time": "2021-06-30T21:27:15.505Z"
   },
   {
    "duration": 169,
    "start_time": "2021-06-30T21:27:15.507Z"
   },
   {
    "duration": 285,
    "start_time": "2021-06-30T21:27:20.001Z"
   },
   {
    "duration": 34,
    "start_time": "2021-06-30T21:27:27.444Z"
   },
   {
    "duration": 506,
    "start_time": "2021-06-30T21:27:32.869Z"
   },
   {
    "duration": 1003,
    "start_time": "2021-06-30T21:27:36.618Z"
   },
   {
    "duration": 95,
    "start_time": "2021-06-30T21:27:40.092Z"
   },
   {
    "duration": 20,
    "start_time": "2021-06-30T21:27:43.253Z"
   },
   {
    "duration": 84,
    "start_time": "2021-06-30T21:27:53.723Z"
   },
   {
    "duration": 28,
    "start_time": "2021-06-30T21:28:51.105Z"
   },
   {
    "duration": 2773,
    "start_time": "2021-06-30T21:32:55.234Z"
   },
   {
    "duration": 578,
    "start_time": "2021-06-30T22:12:06.360Z"
   },
   {
    "duration": 20,
    "start_time": "2021-06-30T22:22:41.470Z"
   },
   {
    "duration": 313,
    "start_time": "2021-06-30T22:23:25.283Z"
   },
   {
    "duration": 309,
    "start_time": "2021-06-30T22:23:33.697Z"
   },
   {
    "duration": 29,
    "start_time": "2021-06-30T22:24:47.535Z"
   },
   {
    "duration": 97,
    "start_time": "2021-06-30T22:27:30.319Z"
   },
   {
    "duration": 557,
    "start_time": "2021-06-30T22:29:30.663Z"
   },
   {
    "duration": 87,
    "start_time": "2021-06-30T22:30:21.431Z"
   },
   {
    "duration": 1397,
    "start_time": "2021-06-30T22:30:53.035Z"
   },
   {
    "duration": 1471,
    "start_time": "2021-06-30T22:33:00.548Z"
   },
   {
    "duration": 93,
    "start_time": "2021-06-30T22:35:51.391Z"
   },
   {
    "duration": 99,
    "start_time": "2021-06-30T22:36:04.528Z"
   },
   {
    "duration": 87,
    "start_time": "2021-06-30T22:36:14.279Z"
   },
   {
    "duration": 124,
    "start_time": "2021-06-30T22:36:24.015Z"
   },
   {
    "duration": 126,
    "start_time": "2021-06-30T22:36:35.819Z"
   },
   {
    "duration": 1191,
    "start_time": "2021-06-30T22:36:45.856Z"
   },
   {
    "duration": 21,
    "start_time": "2021-06-30T22:44:29.405Z"
   },
   {
    "duration": 344,
    "start_time": "2021-06-30T22:46:39.550Z"
   },
   {
    "duration": 347,
    "start_time": "2021-06-30T22:47:42.181Z"
   },
   {
    "duration": 299,
    "start_time": "2021-06-30T22:47:56.517Z"
   },
   {
    "duration": 434,
    "start_time": "2021-06-30T22:59:05.485Z"
   },
   {
    "duration": 18,
    "start_time": "2021-06-30T23:20:33.006Z"
   },
   {
    "duration": 27,
    "start_time": "2021-06-30T23:21:05.897Z"
   },
   {
    "duration": 21,
    "start_time": "2021-07-01T00:33:06.865Z"
   },
   {
    "duration": 1261,
    "start_time": "2021-07-01T00:35:58.704Z"
   },
   {
    "duration": 1311,
    "start_time": "2021-07-01T00:36:18.680Z"
   },
   {
    "duration": 1081,
    "start_time": "2021-07-01T00:40:59.968Z"
   },
   {
    "duration": 404,
    "start_time": "2021-07-01T00:41:26.539Z"
   },
   {
    "duration": 102,
    "start_time": "2021-07-01T00:45:57.796Z"
   },
   {
    "duration": 417,
    "start_time": "2021-07-01T00:46:15.192Z"
   },
   {
    "duration": 438,
    "start_time": "2021-07-01T00:46:29.084Z"
   },
   {
    "duration": 569,
    "start_time": "2021-07-01T00:47:10.612Z"
   },
   {
    "duration": 472,
    "start_time": "2021-07-01T00:47:55.625Z"
   },
   {
    "duration": 397,
    "start_time": "2021-07-01T00:58:59.698Z"
   },
   {
    "duration": 460,
    "start_time": "2021-07-01T00:59:11.665Z"
   },
   {
    "duration": 453,
    "start_time": "2021-07-01T00:59:27.732Z"
   },
   {
    "duration": 440,
    "start_time": "2021-07-01T00:59:43.635Z"
   },
   {
    "duration": 426,
    "start_time": "2021-07-01T01:00:27.410Z"
   },
   {
    "duration": 407,
    "start_time": "2021-07-01T01:02:44.584Z"
   },
   {
    "duration": 416,
    "start_time": "2021-07-01T01:06:19.289Z"
   },
   {
    "duration": 270,
    "start_time": "2021-07-01T01:40:28.676Z"
   },
   {
    "duration": 25,
    "start_time": "2021-07-01T01:41:06.600Z"
   },
   {
    "duration": 297,
    "start_time": "2021-07-01T01:42:24.977Z"
   },
   {
    "duration": 31,
    "start_time": "2021-07-01T01:42:45.739Z"
   },
   {
    "duration": 4,
    "start_time": "2021-07-01T01:52:49.245Z"
   },
   {
    "duration": 277,
    "start_time": "2021-07-01T03:07:47.784Z"
   },
   {
    "duration": 420,
    "start_time": "2021-07-01T03:23:05.075Z"
   },
   {
    "duration": 300,
    "start_time": "2021-07-01T03:25:22.579Z"
   },
   {
    "duration": 15,
    "start_time": "2021-07-01T03:28:51.302Z"
   },
   {
    "duration": 887,
    "start_time": "2021-07-01T03:29:42.576Z"
   },
   {
    "duration": 775,
    "start_time": "2021-07-01T03:29:58.620Z"
   },
   {
    "duration": 741,
    "start_time": "2021-07-01T03:30:30.823Z"
   },
   {
    "duration": 682,
    "start_time": "2021-07-01T03:31:10.961Z"
   },
   {
    "duration": 1605,
    "start_time": "2021-07-01T15:59:10.205Z"
   },
   {
    "duration": 87,
    "start_time": "2021-07-01T15:59:14.630Z"
   },
   {
    "duration": 10579,
    "start_time": "2021-07-01T15:59:25.788Z"
   },
   {
    "duration": -74,
    "start_time": "2021-07-01T15:59:36.445Z"
   },
   {
    "duration": -74,
    "start_time": "2021-07-01T15:59:36.448Z"
   },
   {
    "duration": 321,
    "start_time": "2021-07-01T15:59:39.722Z"
   },
   {
    "duration": 583,
    "start_time": "2021-07-01T15:59:54.124Z"
   },
   {
    "duration": 383,
    "start_time": "2021-07-01T15:59:56.889Z"
   },
   {
    "duration": 11,
    "start_time": "2021-07-01T16:00:14.115Z"
   },
   {
    "duration": 10,
    "start_time": "2021-07-01T16:01:43.874Z"
   },
   {
    "duration": 11,
    "start_time": "2021-07-01T16:01:52.068Z"
   },
   {
    "duration": 9681,
    "start_time": "2021-07-01T16:02:52.261Z"
   },
   {
    "duration": -68,
    "start_time": "2021-07-01T16:03:02.013Z"
   },
   {
    "duration": 445,
    "start_time": "2021-07-01T16:03:15.479Z"
   },
   {
    "duration": 345,
    "start_time": "2021-07-01T16:03:20.916Z"
   },
   {
    "duration": 374,
    "start_time": "2021-07-01T16:03:27.715Z"
   },
   {
    "duration": 365,
    "start_time": "2021-07-01T16:04:33.386Z"
   },
   {
    "duration": 368,
    "start_time": "2021-07-01T16:04:52.799Z"
   },
   {
    "duration": 143,
    "start_time": "2021-07-01T16:05:09.236Z"
   },
   {
    "duration": 810,
    "start_time": "2021-07-01T16:05:14.585Z"
   },
   {
    "duration": 392,
    "start_time": "2021-07-01T16:09:05.497Z"
   },
   {
    "duration": 309,
    "start_time": "2021-07-01T16:09:09.706Z"
   },
   {
    "duration": 447,
    "start_time": "2021-07-01T16:09:13.133Z"
   },
   {
    "duration": 30,
    "start_time": "2021-07-01T16:10:00.175Z"
   },
   {
    "duration": 7,
    "start_time": "2021-07-01T16:10:11.335Z"
   },
   {
    "duration": 734,
    "start_time": "2021-07-01T16:10:15.176Z"
   },
   {
    "duration": 118,
    "start_time": "2021-07-01T16:39:06.593Z"
   },
   {
    "duration": 782,
    "start_time": "2021-07-01T16:39:20.243Z"
   },
   {
    "duration": 445,
    "start_time": "2021-07-01T16:42:01.195Z"
   },
   {
    "duration": 1391,
    "start_time": "2021-07-01T17:11:33.391Z"
   },
   {
    "duration": 1505,
    "start_time": "2021-07-01T17:12:00.465Z"
   },
   {
    "duration": 496,
    "start_time": "2021-07-01T17:12:31.793Z"
   },
   {
    "duration": 625,
    "start_time": "2021-07-01T17:13:08.784Z"
   },
   {
    "duration": 462,
    "start_time": "2021-07-01T17:18:06.827Z"
   },
   {
    "duration": 2253,
    "start_time": "2021-07-01T17:18:29.546Z"
   },
   {
    "duration": 108,
    "start_time": "2021-07-01T17:21:05.737Z"
   },
   {
    "duration": 378,
    "start_time": "2021-07-01T17:21:17.013Z"
   },
   {
    "duration": 337,
    "start_time": "2021-07-01T17:25:10.176Z"
   },
   {
    "duration": 8587,
    "start_time": "2021-07-01T17:34:17.063Z"
   },
   {
    "duration": 4601,
    "start_time": "2021-07-01T17:38:56.588Z"
   },
   {
    "duration": 9493,
    "start_time": "2021-07-01T17:44:19.234Z"
   },
   {
    "duration": 1108,
    "start_time": "2021-07-01T19:44:20.255Z"
   },
   {
    "duration": 1129,
    "start_time": "2021-07-01T19:45:12.740Z"
   },
   {
    "duration": 1212,
    "start_time": "2021-07-01T19:48:16.190Z"
   },
   {
    "duration": 361,
    "start_time": "2021-07-01T20:25:58.422Z"
   },
   {
    "duration": 1022,
    "start_time": "2021-07-01T20:26:55.087Z"
   },
   {
    "duration": 19065,
    "start_time": "2021-07-01T20:55:43.237Z"
   },
   {
    "duration": 559,
    "start_time": "2021-07-01T21:05:29.237Z"
   },
   {
    "duration": 4,
    "start_time": "2021-07-01T21:07:02.604Z"
   },
   {
    "duration": 4,
    "start_time": "2021-07-01T21:27:07.873Z"
   },
   {
    "duration": 3,
    "start_time": "2021-07-01T21:34:02.494Z"
   },
   {
    "duration": 3,
    "start_time": "2021-07-01T21:35:16.218Z"
   },
   {
    "duration": 4,
    "start_time": "2021-07-01T21:52:58.094Z"
   },
   {
    "duration": 48,
    "start_time": "2021-07-01T22:53:32.203Z"
   },
   {
    "duration": 78,
    "start_time": "2021-07-01T22:58:04.017Z"
   },
   {
    "duration": 8363,
    "start_time": "2021-07-02T00:45:40.678Z"
   },
   {
    "duration": 69,
    "start_time": "2021-07-02T00:45:55.252Z"
   },
   {
    "duration": 8332,
    "start_time": "2021-07-02T00:46:25.042Z"
   },
   {
    "duration": 15,
    "start_time": "2021-07-02T01:46:30.539Z"
   },
   {
    "duration": 8186,
    "start_time": "2021-07-02T02:26:52.945Z"
   },
   {
    "duration": -320,
    "start_time": "2021-07-02T02:27:01.454Z"
   },
   {
    "duration": 13,
    "start_time": "2021-07-02T02:27:07.595Z"
   },
   {
    "duration": 48,
    "start_time": "2021-07-02T02:27:22.850Z"
   },
   {
    "duration": 24,
    "start_time": "2021-07-02T02:27:27.404Z"
   },
   {
    "duration": 16,
    "start_time": "2021-07-02T02:27:31.138Z"
   },
   {
    "duration": 24,
    "start_time": "2021-07-02T02:28:20.917Z"
   },
   {
    "duration": 12,
    "start_time": "2021-07-02T02:28:24.353Z"
   },
   {
    "duration": 1653,
    "start_time": "2021-07-02T15:54:46.969Z"
   },
   {
    "duration": 84,
    "start_time": "2021-07-02T15:54:50.544Z"
   },
   {
    "duration": 479,
    "start_time": "2021-07-02T15:55:00.314Z"
   },
   {
    "duration": 384,
    "start_time": "2021-07-02T16:04:47.540Z"
   },
   {
    "duration": 389,
    "start_time": "2021-07-02T16:05:00.880Z"
   },
   {
    "duration": 413,
    "start_time": "2021-07-02T16:05:31.712Z"
   },
   {
    "duration": 31,
    "start_time": "2021-07-02T16:06:16.375Z"
   },
   {
    "duration": 13,
    "start_time": "2021-07-02T16:06:20.028Z"
   },
   {
    "duration": 19,
    "start_time": "2021-07-02T16:06:24.988Z"
   },
   {
    "duration": 383,
    "start_time": "2021-07-02T16:06:43.469Z"
   },
   {
    "duration": 25,
    "start_time": "2021-07-02T16:06:57.390Z"
   },
   {
    "duration": 27,
    "start_time": "2021-07-02T16:49:32.944Z"
   },
   {
    "duration": 11,
    "start_time": "2021-07-02T16:49:46.809Z"
   },
   {
    "duration": 70,
    "start_time": "2021-07-02T16:50:41.402Z"
   },
   {
    "duration": 35,
    "start_time": "2021-07-02T16:56:42.282Z"
   },
   {
    "duration": 543,
    "start_time": "2021-07-02T16:58:00.635Z"
   },
   {
    "duration": 121,
    "start_time": "2021-07-02T17:14:46.925Z"
   },
   {
    "duration": 833,
    "start_time": "2021-07-02T17:20:59.265Z"
   },
   {
    "duration": 644,
    "start_time": "2021-07-02T17:21:58.563Z"
   },
   {
    "duration": 139,
    "start_time": "2021-07-02T17:24:41.853Z"
   },
   {
    "duration": 419,
    "start_time": "2021-07-02T17:26:48.953Z"
   },
   {
    "duration": 849,
    "start_time": "2021-07-02T17:45:44.948Z"
   },
   {
    "duration": 487,
    "start_time": "2021-07-02T17:48:24.331Z"
   },
   {
    "duration": 439,
    "start_time": "2021-07-02T17:49:18.455Z"
   },
   {
    "duration": 1098,
    "start_time": "2021-07-02T20:04:14.037Z"
   },
   {
    "duration": 19,
    "start_time": "2021-07-02T20:04:18.655Z"
   },
   {
    "duration": 11,
    "start_time": "2021-07-02T20:04:21.997Z"
   },
   {
    "duration": 19,
    "start_time": "2021-07-02T20:04:23.793Z"
   },
   {
    "duration": 25,
    "start_time": "2021-07-02T20:04:26.807Z"
   },
   {
    "duration": 247,
    "start_time": "2021-07-02T20:04:30.270Z"
   },
   {
    "duration": 438,
    "start_time": "2021-07-02T20:04:34.264Z"
   },
   {
    "duration": 209,
    "start_time": "2021-07-02T20:04:38.241Z"
   },
   {
    "duration": 306,
    "start_time": "2021-07-02T20:58:08.643Z"
   },
   {
    "duration": 78,
    "start_time": "2021-07-02T21:05:12.661Z"
   },
   {
    "duration": -852,
    "start_time": "2021-07-02T21:05:31.871Z"
   },
   {
    "duration": 5674,
    "start_time": "2021-07-02T21:10:42.374Z"
   },
   {
    "duration": 6519,
    "start_time": "2021-07-02T21:10:57.166Z"
   },
   {
    "duration": 9,
    "start_time": "2021-07-02T21:11:18.164Z"
   },
   {
    "duration": 85,
    "start_time": "2021-07-02T21:13:17.476Z"
   },
   {
    "duration": 79,
    "start_time": "2021-07-02T21:29:05.005Z"
   },
   {
    "duration": 6,
    "start_time": "2021-07-02T21:33:20.515Z"
   },
   {
    "duration": 81,
    "start_time": "2021-07-02T21:36:53.073Z"
   },
   {
    "duration": 13,
    "start_time": "2021-07-02T21:37:23.265Z"
   },
   {
    "duration": 73,
    "start_time": "2021-07-02T22:32:27.505Z"
   },
   {
    "duration": 20,
    "start_time": "2021-07-02T22:35:16.845Z"
   },
   {
    "duration": 16,
    "start_time": "2021-07-02T22:35:36.978Z"
   },
   {
    "duration": 17,
    "start_time": "2021-07-02T22:35:39.498Z"
   },
   {
    "duration": 390,
    "start_time": "2021-07-02T22:43:44.589Z"
   },
   {
    "duration": 86,
    "start_time": "2021-07-02T22:48:50.815Z"
   },
   {
    "duration": 72,
    "start_time": "2021-07-02T22:48:53.688Z"
   },
   {
    "duration": 248,
    "start_time": "2021-07-02T22:51:17.464Z"
   },
   {
    "duration": 517,
    "start_time": "2021-07-02T22:51:31.106Z"
   },
   {
    "duration": 384,
    "start_time": "2021-07-02T22:58:22.241Z"
   },
   {
    "duration": 368,
    "start_time": "2021-07-02T22:59:21.358Z"
   },
   {
    "duration": 287,
    "start_time": "2021-07-02T23:01:53.077Z"
   },
   {
    "duration": 245,
    "start_time": "2021-07-02T23:11:04.353Z"
   },
   {
    "duration": 6,
    "start_time": "2021-07-02T23:11:17.916Z"
   },
   {
    "duration": 12,
    "start_time": "2021-07-02T23:11:28.543Z"
   },
   {
    "duration": 232,
    "start_time": "2021-07-02T23:11:50.823Z"
   },
   {
    "duration": 370,
    "start_time": "2021-07-02T23:12:34.905Z"
   },
   {
    "duration": 1551,
    "start_time": "2021-07-03T17:22:06.738Z"
   },
   {
    "duration": 37,
    "start_time": "2021-07-03T17:22:14.972Z"
   },
   {
    "duration": 20,
    "start_time": "2021-07-03T17:22:22.373Z"
   },
   {
    "duration": 28,
    "start_time": "2021-07-03T17:22:26.684Z"
   },
   {
    "duration": 41,
    "start_time": "2021-07-03T17:22:42.694Z"
   },
   {
    "duration": 473,
    "start_time": "2021-07-03T17:22:49.044Z"
   },
   {
    "duration": 836,
    "start_time": "2021-07-03T17:22:52.446Z"
   },
   {
    "duration": 414,
    "start_time": "2021-07-03T17:22:55.906Z"
   },
   {
    "duration": 13,
    "start_time": "2021-07-03T17:23:00.107Z"
   },
   {
    "duration": 34,
    "start_time": "2021-07-03T17:23:03.256Z"
   },
   {
    "duration": 6,
    "start_time": "2021-07-03T17:23:11.410Z"
   },
   {
    "duration": 764,
    "start_time": "2021-07-03T17:23:16.979Z"
   },
   {
    "duration": 788,
    "start_time": "2021-07-03T17:23:30.004Z"
   },
   {
    "duration": 731,
    "start_time": "2021-07-03T17:27:45.084Z"
   },
   {
    "duration": 432,
    "start_time": "2021-07-03T17:28:16.242Z"
   },
   {
    "duration": 95,
    "start_time": "2021-07-03T17:28:43.199Z"
   },
   {
    "duration": 716,
    "start_time": "2021-07-03T17:28:52.357Z"
   },
   {
    "duration": 569,
    "start_time": "2021-07-03T17:43:09.284Z"
   },
   {
    "duration": 1575,
    "start_time": "2021-07-03T17:44:43.386Z"
   },
   {
    "duration": 707,
    "start_time": "2021-07-03T17:45:22.692Z"
   },
   {
    "duration": 802,
    "start_time": "2021-07-03T17:45:57.891Z"
   },
   {
    "duration": 452,
    "start_time": "2021-07-03T17:49:04.456Z"
   },
   {
    "duration": 504,
    "start_time": "2021-07-03T17:50:57.213Z"
   },
   {
    "duration": 97,
    "start_time": "2021-07-03T17:51:12.968Z"
   },
   {
    "duration": 767,
    "start_time": "2021-07-03T17:51:21.405Z"
   },
   {
    "duration": 859,
    "start_time": "2021-07-03T17:51:32.008Z"
   },
   {
    "duration": 1007,
    "start_time": "2021-07-03T17:51:42.653Z"
   },
   {
    "duration": 1853,
    "start_time": "2021-07-03T17:51:58.708Z"
   },
   {
    "duration": 695,
    "start_time": "2021-07-03T17:52:26.232Z"
   },
   {
    "duration": 610,
    "start_time": "2021-07-03T17:52:40.094Z"
   },
   {
    "duration": 620,
    "start_time": "2021-07-03T17:58:51.893Z"
   },
   {
    "duration": 697,
    "start_time": "2021-07-03T17:59:03.432Z"
   },
   {
    "duration": 783,
    "start_time": "2021-07-03T18:00:26.571Z"
   },
   {
    "duration": 89,
    "start_time": "2021-07-03T18:06:18.863Z"
   },
   {
    "duration": 109,
    "start_time": "2021-07-03T18:07:46.200Z"
   },
   {
    "duration": 7272,
    "start_time": "2021-07-03T18:07:53.902Z"
   },
   {
    "duration": 636,
    "start_time": "2021-07-03T18:10:08.650Z"
   },
   {
    "duration": 780,
    "start_time": "2021-07-03T18:11:01.333Z"
   },
   {
    "duration": 647,
    "start_time": "2021-07-03T18:11:13.319Z"
   },
   {
    "duration": 600,
    "start_time": "2021-07-03T18:18:12.767Z"
   },
   {
    "duration": 100,
    "start_time": "2021-07-03T18:24:30.052Z"
   },
   {
    "duration": 352,
    "start_time": "2021-07-03T18:32:30.465Z"
   },
   {
    "duration": 770,
    "start_time": "2021-07-03T18:33:17.881Z"
   },
   {
    "duration": 774,
    "start_time": "2021-07-03T18:33:37.070Z"
   },
   {
    "duration": 312,
    "start_time": "2021-07-03T18:34:32.975Z"
   },
   {
    "duration": 633,
    "start_time": "2021-07-03T18:40:57.621Z"
   },
   {
    "duration": 951,
    "start_time": "2021-07-03T18:57:08.834Z"
   },
   {
    "duration": 1339,
    "start_time": "2021-07-03T19:01:31.235Z"
   },
   {
    "duration": 793,
    "start_time": "2021-07-03T19:01:51.356Z"
   },
   {
    "duration": 847,
    "start_time": "2021-07-03T19:04:21.237Z"
   },
   {
    "duration": 692,
    "start_time": "2021-07-03T19:23:05.765Z"
   },
   {
    "duration": 520,
    "start_time": "2021-07-03T19:23:15.881Z"
   },
   {
    "duration": 477,
    "start_time": "2021-07-03T19:24:54.350Z"
   },
   {
    "duration": 404,
    "start_time": "2021-07-03T19:30:54.416Z"
   },
   {
    "duration": 605,
    "start_time": "2021-07-03T19:34:39.442Z"
   },
   {
    "duration": 610,
    "start_time": "2021-07-03T19:34:54.188Z"
   },
   {
    "duration": 104,
    "start_time": "2021-07-03T19:35:32.675Z"
   },
   {
    "duration": 100,
    "start_time": "2021-07-03T19:35:49.035Z"
   },
   {
    "duration": 421,
    "start_time": "2021-07-03T19:36:32.441Z"
   },
   {
    "duration": 424,
    "start_time": "2021-07-03T19:40:05.764Z"
   },
   {
    "duration": 758,
    "start_time": "2021-07-03T19:42:06.270Z"
   },
   {
    "duration": 6,
    "start_time": "2021-07-03T19:50:10.242Z"
   },
   {
    "duration": 100,
    "start_time": "2021-07-03T20:13:01.625Z"
   },
   {
    "duration": 313,
    "start_time": "2021-07-03T20:17:13.451Z"
   },
   {
    "duration": 298,
    "start_time": "2021-07-03T20:17:52.020Z"
   },
   {
    "duration": 10,
    "start_time": "2021-07-03T20:18:06.730Z"
   },
   {
    "duration": 28,
    "start_time": "2021-07-03T20:18:22.565Z"
   },
   {
    "duration": 332,
    "start_time": "2021-07-03T20:28:27.713Z"
   },
   {
    "duration": 326,
    "start_time": "2021-07-03T20:29:19.231Z"
   },
   {
    "duration": 719,
    "start_time": "2021-07-03T20:30:55.792Z"
   },
   {
    "duration": 121,
    "start_time": "2021-07-03T20:47:43.214Z"
   },
   {
    "duration": 951,
    "start_time": "2021-07-03T20:48:07.286Z"
   },
   {
    "duration": 754,
    "start_time": "2021-07-03T20:48:22.177Z"
   },
   {
    "duration": 949,
    "start_time": "2021-07-03T20:49:56.665Z"
   },
   {
    "duration": 754,
    "start_time": "2021-07-03T20:50:32.302Z"
   },
   {
    "duration": 903,
    "start_time": "2021-07-03T20:51:14.637Z"
   },
   {
    "duration": 955,
    "start_time": "2021-07-03T20:51:43.300Z"
   },
   {
    "duration": 17,
    "start_time": "2021-07-03T21:00:47.944Z"
   },
   {
    "duration": 16,
    "start_time": "2021-07-03T21:01:17.423Z"
   },
   {
    "duration": 331,
    "start_time": "2021-07-03T21:10:22.434Z"
   },
   {
    "duration": 318,
    "start_time": "2021-07-03T21:11:16.039Z"
   },
   {
    "duration": 331,
    "start_time": "2021-07-03T21:12:01.716Z"
   },
   {
    "duration": 860,
    "start_time": "2021-07-03T21:17:00.074Z"
   },
   {
    "duration": 1588,
    "start_time": "2021-07-03T23:02:13.960Z"
   },
   {
    "duration": 28,
    "start_time": "2021-07-03T23:02:20.292Z"
   },
   {
    "duration": 18,
    "start_time": "2021-07-03T23:02:23.341Z"
   },
   {
    "duration": 30,
    "start_time": "2021-07-03T23:02:24.093Z"
   },
   {
    "duration": 40,
    "start_time": "2021-07-03T23:02:28.262Z"
   },
   {
    "duration": 460,
    "start_time": "2021-07-03T23:02:31.829Z"
   },
   {
    "duration": 806,
    "start_time": "2021-07-03T23:02:35.424Z"
   },
   {
    "duration": 378,
    "start_time": "2021-07-03T23:02:38.804Z"
   },
   {
    "duration": 14,
    "start_time": "2021-07-03T23:02:45.979Z"
   },
   {
    "duration": 34,
    "start_time": "2021-07-03T23:02:49.859Z"
   },
   {
    "duration": 7,
    "start_time": "2021-07-03T23:02:52.606Z"
   },
   {
    "duration": 531,
    "start_time": "2021-07-03T23:02:54.964Z"
   },
   {
    "duration": 602,
    "start_time": "2021-07-03T23:02:58.310Z"
   },
   {
    "duration": 538,
    "start_time": "2021-07-03T23:03:01.518Z"
   },
   {
    "duration": 615,
    "start_time": "2021-07-03T23:03:10.590Z"
   },
   {
    "duration": 761,
    "start_time": "2021-07-03T23:03:13.738Z"
   },
   {
    "duration": 812,
    "start_time": "2021-07-03T23:03:16.448Z"
   },
   {
    "duration": 16,
    "start_time": "2021-07-03T23:03:20.468Z"
   },
   {
    "duration": 812,
    "start_time": "2021-07-03T23:03:22.866Z"
   },
   {
    "duration": 536,
    "start_time": "2021-07-03T23:04:00.268Z"
   },
   {
    "duration": 390,
    "start_time": "2021-07-03T23:04:18.413Z"
   },
   {
    "duration": 773,
    "start_time": "2021-07-03T23:08:56.336Z"
   },
   {
    "duration": 686,
    "start_time": "2021-07-03T23:10:01.423Z"
   },
   {
    "duration": 8753,
    "start_time": "2021-07-03T23:11:19.747Z"
   },
   {
    "duration": -1550,
    "start_time": "2021-07-03T23:12:06.691Z"
   },
   {
    "duration": 347,
    "start_time": "2021-07-03T23:12:59.347Z"
   },
   {
    "duration": 8266,
    "start_time": "2021-07-03T23:13:08.808Z"
   },
   {
    "duration": 345,
    "start_time": "2021-07-03T23:14:44.571Z"
   },
   {
    "duration": 9809,
    "start_time": "2021-07-03T23:27:57.573Z"
   },
   {
    "duration": 509,
    "start_time": "2021-07-03T23:33:35.080Z"
   },
   {
    "duration": 152,
    "start_time": "2021-07-03T23:34:38.031Z"
   },
   {
    "duration": 20,
    "start_time": "2021-07-03T23:39:14.788Z"
   },
   {
    "duration": 381,
    "start_time": "2021-07-03T23:44:00.670Z"
   },
   {
    "duration": 543,
    "start_time": "2021-07-03T23:44:28.388Z"
   },
   {
    "duration": 335,
    "start_time": "2021-07-03T23:44:50.834Z"
   },
   {
    "duration": 534,
    "start_time": "2021-07-03T23:45:06.655Z"
   },
   {
    "duration": 545,
    "start_time": "2021-07-03T23:45:33.874Z"
   },
   {
    "duration": 23,
    "start_time": "2021-07-03T23:46:13.808Z"
   },
   {
    "duration": 1097,
    "start_time": "2021-07-03T23:46:35.566Z"
   },
   {
    "duration": 397,
    "start_time": "2021-07-03T23:48:14.269Z"
   },
   {
    "duration": 1074,
    "start_time": "2021-07-03T23:48:39.149Z"
   },
   {
    "duration": 1571,
    "start_time": "2021-07-04T17:10:42.981Z"
   },
   {
    "duration": 78,
    "start_time": "2021-07-04T17:10:51.460Z"
   },
   {
    "duration": 30,
    "start_time": "2021-07-04T17:12:54.073Z"
   },
   {
    "duration": 17,
    "start_time": "2021-07-04T17:12:58.626Z"
   },
   {
    "duration": 34,
    "start_time": "2021-07-04T17:13:00.694Z"
   },
   {
    "duration": 36,
    "start_time": "2021-07-04T17:13:04.009Z"
   },
   {
    "duration": 428,
    "start_time": "2021-07-04T17:13:07.055Z"
   },
   {
    "duration": 410,
    "start_time": "2021-07-04T17:20:56.112Z"
   },
   {
    "duration": 758,
    "start_time": "2021-07-04T17:42:28.659Z"
   },
   {
    "duration": 365,
    "start_time": "2021-07-04T17:42:35.345Z"
   },
   {
    "duration": 14,
    "start_time": "2021-07-04T17:42:42.737Z"
   },
   {
    "duration": 369,
    "start_time": "2021-07-04T20:34:38.558Z"
   },
   {
    "duration": 266,
    "start_time": "2021-07-04T20:34:55.960Z"
   },
   {
    "duration": 92,
    "start_time": "2021-07-04T22:18:30.339Z"
   },
   {
    "duration": 1092,
    "start_time": "2021-07-05T02:42:31.713Z"
   },
   {
    "duration": 21,
    "start_time": "2021-07-05T02:49:20.732Z"
   },
   {
    "duration": 47,
    "start_time": "2021-07-05T02:49:26.850Z"
   },
   {
    "duration": 11,
    "start_time": "2021-07-05T02:50:10.608Z"
   },
   {
    "duration": 18,
    "start_time": "2021-07-05T02:50:13.433Z"
   },
   {
    "duration": 29,
    "start_time": "2021-07-05T02:50:18.993Z"
   },
   {
    "duration": 240,
    "start_time": "2021-07-05T02:50:23.266Z"
   },
   {
    "duration": 418,
    "start_time": "2021-07-05T03:08:41.845Z"
   },
   {
    "duration": 413,
    "start_time": "2021-07-05T03:10:51.296Z"
   },
   {
    "duration": 194,
    "start_time": "2021-07-05T03:11:15.705Z"
   },
   {
    "duration": 77,
    "start_time": "2021-07-05T03:11:25.063Z"
   },
   {
    "duration": 16,
    "start_time": "2021-07-05T03:20:09.171Z"
   },
   {
    "duration": 341,
    "start_time": "2021-07-05T03:21:17.407Z"
   },
   {
    "duration": 4,
    "start_time": "2021-07-05T03:21:35.425Z"
   },
   {
    "duration": 6,
    "start_time": "2021-07-05T03:21:44.103Z"
   },
   {
    "duration": 18,
    "start_time": "2021-07-05T03:21:50.679Z"
   },
   {
    "duration": 6,
    "start_time": "2021-07-05T03:21:53.471Z"
   },
   {
    "duration": 361,
    "start_time": "2021-07-05T03:21:56.610Z"
   },
   {
    "duration": 331,
    "start_time": "2021-07-05T03:24:45.255Z"
   },
   {
    "duration": 388,
    "start_time": "2021-07-05T03:40:09.923Z"
   },
   {
    "duration": 463,
    "start_time": "2021-07-05T03:46:27.286Z"
   },
   {
    "duration": 11,
    "start_time": "2021-07-05T03:52:44.615Z"
   },
   {
    "duration": 497,
    "start_time": "2021-07-05T03:54:57.968Z"
   },
   {
    "duration": 406,
    "start_time": "2021-07-05T03:55:05.152Z"
   },
   {
    "duration": 1536,
    "start_time": "2021-07-06T00:58:50.912Z"
   },
   {
    "duration": 85,
    "start_time": "2021-07-06T00:58:53.419Z"
   },
   {
    "duration": 35,
    "start_time": "2021-07-06T00:59:03.073Z"
   },
   {
    "duration": 49,
    "start_time": "2021-07-06T02:43:56.953Z"
   },
   {
    "duration": 68,
    "start_time": "2021-07-06T02:43:59.100Z"
   },
   {
    "duration": 35,
    "start_time": "2021-07-06T02:44:05.387Z"
   },
   {
    "duration": 17,
    "start_time": "2021-07-06T02:44:09.414Z"
   },
   {
    "duration": 28,
    "start_time": "2021-07-06T02:44:09.892Z"
   },
   {
    "duration": 39,
    "start_time": "2021-07-06T02:44:12.845Z"
   },
   {
    "duration": 441,
    "start_time": "2021-07-06T02:44:16.186Z"
   },
   {
    "duration": 824,
    "start_time": "2021-07-06T02:44:21.310Z"
   },
   {
    "duration": 390,
    "start_time": "2021-07-06T02:44:26.222Z"
   },
   {
    "duration": 14,
    "start_time": "2021-07-06T02:53:30.608Z"
   },
   {
    "duration": 28,
    "start_time": "2021-07-06T02:53:33.472Z"
   },
   {
    "duration": 7,
    "start_time": "2021-07-06T02:53:36.525Z"
   },
   {
    "duration": 551,
    "start_time": "2021-07-06T02:53:38.663Z"
   },
   {
    "duration": 712,
    "start_time": "2021-07-06T02:53:43.496Z"
   },
   {
    "duration": 843,
    "start_time": "2021-07-06T02:57:24.890Z"
   },
   {
    "duration": 770,
    "start_time": "2021-07-06T02:57:30.332Z"
   },
   {
    "duration": 17,
    "start_time": "2021-07-06T02:57:35.509Z"
   },
   {
    "duration": 760,
    "start_time": "2021-07-06T02:57:39.292Z"
   },
   {
    "duration": 723,
    "start_time": "2021-07-06T02:57:42.500Z"
   },
   {
    "duration": 711,
    "start_time": "2021-07-06T02:57:45.460Z"
   },
   {
    "duration": 20,
    "start_time": "2021-07-06T02:57:49.935Z"
   },
   {
    "duration": 21,
    "start_time": "2021-07-06T02:57:55.579Z"
   },
   {
    "duration": 1326,
    "start_time": "2021-07-06T02:58:17.649Z"
   },
   {
    "duration": 465,
    "start_time": "2021-07-06T02:58:23.697Z"
   },
   {
    "duration": 1234,
    "start_time": "2021-07-06T02:58:39.850Z"
   },
   {
    "duration": 387,
    "start_time": "2021-07-06T02:58:49.876Z"
   },
   {
    "duration": 399,
    "start_time": "2021-07-06T02:59:02.386Z"
   },
   {
    "duration": 1147,
    "start_time": "2021-07-06T02:59:05.698Z"
   },
   {
    "duration": 958,
    "start_time": "2021-07-06T02:59:10.001Z"
   },
   {
    "duration": 340,
    "start_time": "2021-07-06T02:59:13.604Z"
   },
   {
    "duration": 404,
    "start_time": "2021-07-06T02:59:50.264Z"
   },
   {
    "duration": 1618,
    "start_time": "2021-07-06T15:38:05.915Z"
   },
   {
    "duration": 78,
    "start_time": "2021-07-06T15:38:08.371Z"
   },
   {
    "duration": 35,
    "start_time": "2021-07-06T15:53:15.938Z"
   },
   {
    "duration": 16,
    "start_time": "2021-07-06T15:53:20.273Z"
   },
   {
    "duration": 28,
    "start_time": "2021-07-06T15:53:22.156Z"
   },
   {
    "duration": 36,
    "start_time": "2021-07-06T15:55:26.529Z"
   },
   {
    "duration": 456,
    "start_time": "2021-07-06T15:55:32.545Z"
   },
   {
    "duration": 789,
    "start_time": "2021-07-06T15:56:01.850Z"
   },
   {
    "duration": 48,
    "start_time": "2021-07-06T15:56:53.417Z"
   },
   {
    "duration": 560,
    "start_time": "2021-07-06T15:59:07.069Z"
   },
   {
    "duration": 369,
    "start_time": "2021-07-06T15:59:17.694Z"
   },
   {
    "duration": 8453,
    "start_time": "2021-07-06T15:59:22.931Z"
   },
   {
    "duration": -2708,
    "start_time": "2021-07-06T15:59:34.095Z"
   },
   {
    "duration": -2715,
    "start_time": "2021-07-06T15:59:34.103Z"
   },
   {
    "duration": 406,
    "start_time": "2021-07-06T15:59:36.939Z"
   },
   {
    "duration": 38,
    "start_time": "2021-07-06T15:59:57.348Z"
   },
   {
    "duration": 13,
    "start_time": "2021-07-06T15:59:57.963Z"
   },
   {
    "duration": 17,
    "start_time": "2021-07-06T16:00:00.647Z"
   },
   {
    "duration": 48,
    "start_time": "2021-07-06T16:01:21.020Z"
   },
   {
    "duration": 70,
    "start_time": "2021-07-06T16:01:23.214Z"
   },
   {
    "duration": 35,
    "start_time": "2021-07-06T16:01:29.164Z"
   },
   {
    "duration": 22,
    "start_time": "2021-07-06T16:01:32.211Z"
   },
   {
    "duration": 29,
    "start_time": "2021-07-06T16:01:34.934Z"
   },
   {
    "duration": 29,
    "start_time": "2021-07-06T16:02:40.228Z"
   },
   {
    "duration": 37,
    "start_time": "2021-07-06T16:02:53.316Z"
   },
   {
    "duration": 22,
    "start_time": "2021-07-06T16:02:57.396Z"
   },
   {
    "duration": 38,
    "start_time": "2021-07-06T16:09:00.212Z"
   },
   {
    "duration": 454,
    "start_time": "2021-07-06T16:09:06.996Z"
   },
   {
    "duration": 840,
    "start_time": "2021-07-06T16:09:11.519Z"
   },
   {
    "duration": 409,
    "start_time": "2021-07-06T16:09:17.222Z"
   },
   {
    "duration": 13,
    "start_time": "2021-07-06T16:09:32.655Z"
   },
   {
    "duration": 28,
    "start_time": "2021-07-06T16:12:41.614Z"
   },
   {
    "duration": 7,
    "start_time": "2021-07-06T16:12:49.487Z"
   },
   {
    "duration": 623,
    "start_time": "2021-07-06T16:13:42.200Z"
   },
   {
    "duration": 591,
    "start_time": "2021-07-06T16:14:15.368Z"
   },
   {
    "duration": 892,
    "start_time": "2021-07-06T16:14:27.195Z"
   },
   {
    "duration": 753,
    "start_time": "2021-07-06T16:15:10.469Z"
   },
   {
    "duration": 17,
    "start_time": "2021-07-06T16:17:32.724Z"
   },
   {
    "duration": 917,
    "start_time": "2021-07-06T16:17:37.281Z"
   },
   {
    "duration": 769,
    "start_time": "2021-07-06T16:17:40.424Z"
   },
   {
    "duration": 621,
    "start_time": "2021-07-06T16:26:43.142Z"
   },
   {
    "duration": 20,
    "start_time": "2021-07-06T16:28:44.353Z"
   },
   {
    "duration": 514,
    "start_time": "2021-07-06T16:29:29.338Z"
   },
   {
    "duration": 1209,
    "start_time": "2021-07-06T16:30:08.572Z"
   },
   {
    "duration": 1442,
    "start_time": "2021-07-06T16:33:09.606Z"
   },
   {
    "duration": 1212,
    "start_time": "2021-07-06T16:33:25.287Z"
   },
   {
    "duration": 1338,
    "start_time": "2021-07-06T16:33:51.120Z"
   },
   {
    "duration": 1208,
    "start_time": "2021-07-06T16:34:53.184Z"
   },
   {
    "duration": 399,
    "start_time": "2021-07-06T16:39:15.547Z"
   },
   {
    "duration": 1125,
    "start_time": "2021-07-06T16:40:20.322Z"
   },
   {
    "duration": 1142,
    "start_time": "2021-07-06T16:40:45.707Z"
   },
   {
    "duration": 1369,
    "start_time": "2021-07-06T16:41:37.396Z"
   },
   {
    "duration": 935,
    "start_time": "2021-07-06T16:44:27.639Z"
   },
   {
    "duration": 948,
    "start_time": "2021-07-06T16:44:48.171Z"
   },
   {
    "duration": 950,
    "start_time": "2021-07-06T16:46:21.719Z"
   },
   {
    "duration": 13,
    "start_time": "2021-07-06T16:50:28.453Z"
   },
   {
    "duration": 15,
    "start_time": "2021-07-06T16:51:43.895Z"
   },
   {
    "duration": 48,
    "start_time": "2021-07-06T17:58:18.678Z"
   },
   {
    "duration": 35,
    "start_time": "2021-07-06T17:58:23.324Z"
   },
   {
    "duration": 11,
    "start_time": "2021-07-06T17:58:26.278Z"
   },
   {
    "duration": 17,
    "start_time": "2021-07-06T17:58:28.907Z"
   },
   {
    "duration": 35,
    "start_time": "2021-07-06T17:58:31.569Z"
   },
   {
    "duration": 36,
    "start_time": "2021-07-06T17:58:34.481Z"
   },
   {
    "duration": 433,
    "start_time": "2021-07-06T17:58:39.328Z"
   },
   {
    "duration": 801,
    "start_time": "2021-07-06T17:58:43.549Z"
   },
   {
    "duration": 536,
    "start_time": "2021-07-06T17:58:46.565Z"
   },
   {
    "duration": 16,
    "start_time": "2021-07-06T17:58:50.133Z"
   },
   {
    "duration": 27,
    "start_time": "2021-07-06T17:58:52.632Z"
   },
   {
    "duration": 545,
    "start_time": "2021-07-06T17:58:58.064Z"
   },
   {
    "duration": 24,
    "start_time": "2021-07-06T17:59:16.435Z"
   },
   {
    "duration": 123,
    "start_time": "2021-07-06T18:00:36.952Z"
   },
   {
    "duration": 15,
    "start_time": "2021-07-06T18:00:53.254Z"
   },
   {
    "duration": 15,
    "start_time": "2021-07-06T18:02:18.968Z"
   },
   {
    "duration": 14,
    "start_time": "2021-07-06T18:16:06.423Z"
   },
   {
    "duration": 18,
    "start_time": "2021-07-06T18:20:17.779Z"
   },
   {
    "duration": 21,
    "start_time": "2021-07-06T18:20:44.659Z"
   },
   {
    "duration": 15,
    "start_time": "2021-07-06T18:26:09.333Z"
   },
   {
    "duration": 27,
    "start_time": "2021-07-06T18:26:42.219Z"
   },
   {
    "duration": 19,
    "start_time": "2021-07-06T18:30:27.367Z"
   },
   {
    "duration": 18,
    "start_time": "2021-07-06T18:57:31.261Z"
   },
   {
    "duration": 18,
    "start_time": "2021-07-06T19:22:37.066Z"
   },
   {
    "duration": 56,
    "start_time": "2021-07-06T19:25:45.322Z"
   },
   {
    "duration": 73,
    "start_time": "2021-07-06T19:25:48.675Z"
   },
   {
    "duration": 37,
    "start_time": "2021-07-06T19:25:55.497Z"
   },
   {
    "duration": 40,
    "start_time": "2021-07-06T19:31:01.751Z"
   },
   {
    "duration": 18,
    "start_time": "2021-07-06T19:31:04.831Z"
   },
   {
    "duration": 46,
    "start_time": "2021-07-06T19:31:05.608Z"
   },
   {
    "duration": 37,
    "start_time": "2021-07-06T19:31:08.743Z"
   },
   {
    "duration": 445,
    "start_time": "2021-07-06T19:31:13.783Z"
   },
   {
    "duration": 811,
    "start_time": "2021-07-06T19:31:19.846Z"
   },
   {
    "duration": 490,
    "start_time": "2021-07-06T19:31:22.764Z"
   },
   {
    "duration": 1497,
    "start_time": "2021-07-06T20:36:37.792Z"
   },
   {
    "duration": 72,
    "start_time": "2021-07-06T20:36:39.292Z"
   },
   {
    "duration": 51,
    "start_time": "2021-07-06T20:36:39.368Z"
   },
   {
    "duration": 14,
    "start_time": "2021-07-06T20:36:39.422Z"
   },
   {
    "duration": 18,
    "start_time": "2021-07-06T20:36:39.439Z"
   },
   {
    "duration": 60,
    "start_time": "2021-07-06T20:36:39.460Z"
   },
   {
    "duration": 39,
    "start_time": "2021-07-06T20:36:39.523Z"
   },
   {
    "duration": 460,
    "start_time": "2021-07-06T20:36:39.567Z"
   },
   {
    "duration": 785,
    "start_time": "2021-07-06T20:36:40.031Z"
   },
   {
    "duration": 385,
    "start_time": "2021-07-06T20:36:40.818Z"
   },
   {
    "duration": 14,
    "start_time": "2021-07-06T20:36:41.205Z"
   },
   {
    "duration": 33,
    "start_time": "2021-07-06T20:36:41.222Z"
   },
   {
    "duration": 6,
    "start_time": "2021-07-06T20:36:41.258Z"
   },
   {
    "duration": 655,
    "start_time": "2021-07-06T20:36:41.300Z"
   },
   {
    "duration": 611,
    "start_time": "2021-07-06T20:36:41.958Z"
   },
   {
    "duration": 817,
    "start_time": "2021-07-06T20:36:42.572Z"
   },
   {
    "duration": 866,
    "start_time": "2021-07-06T20:36:43.392Z"
   },
   {
    "duration": 16,
    "start_time": "2021-07-06T20:36:44.260Z"
   },
   {
    "duration": 739,
    "start_time": "2021-07-06T20:36:44.278Z"
   },
   {
    "duration": 710,
    "start_time": "2021-07-06T20:36:45.019Z"
   },
   {
    "duration": 721,
    "start_time": "2021-07-06T20:36:45.732Z"
   },
   {
    "duration": 769,
    "start_time": "2021-07-06T20:36:46.456Z"
   },
   {
    "duration": 555,
    "start_time": "2021-07-06T20:36:47.229Z"
   },
   {
    "duration": 1179,
    "start_time": "2021-07-06T20:36:47.787Z"
   },
   {
    "duration": 1222,
    "start_time": "2021-07-06T20:36:48.969Z"
   },
   {
    "duration": 912,
    "start_time": "2021-07-06T20:36:50.200Z"
   },
   {
    "duration": 18,
    "start_time": "2021-07-06T20:36:51.114Z"
   },
   {
    "duration": 18,
    "start_time": "2021-07-06T20:36:51.134Z"
   },
   {
    "duration": 31,
    "start_time": "2021-07-06T21:22:27.849Z"
   },
   {
    "duration": 11,
    "start_time": "2021-07-06T21:23:51.709Z"
   },
   {
    "duration": 10,
    "start_time": "2021-07-06T21:23:58.966Z"
   },
   {
    "duration": 141,
    "start_time": "2021-07-07T06:32:25.812Z"
   },
   {
    "duration": 385,
    "start_time": "2021-07-07T15:37:41.322Z"
   },
   {
    "duration": 1721,
    "start_time": "2021-07-07T15:37:45.421Z"
   },
   {
    "duration": 39,
    "start_time": "2021-07-07T15:37:47.886Z"
   },
   {
    "duration": 77,
    "start_time": "2021-07-07T15:38:10.199Z"
   },
   {
    "duration": 22,
    "start_time": "2021-07-07T15:38:28.161Z"
   },
   {
    "duration": 31,
    "start_time": "2021-07-07T16:36:42.067Z"
   },
   {
    "duration": 30,
    "start_time": "2021-07-07T16:37:01.451Z"
   },
   {
    "duration": 74,
    "start_time": "2021-07-07T16:51:22.215Z"
   },
   {
    "duration": 8727,
    "start_time": "2021-07-07T17:02:25.836Z"
   },
   {
    "duration": 378,
    "start_time": "2021-07-07T17:02:34.188Z"
   },
   {
    "duration": 40,
    "start_time": "2021-07-07T17:02:44.193Z"
   },
   {
    "duration": 13,
    "start_time": "2021-07-07T17:02:47.688Z"
   },
   {
    "duration": 12,
    "start_time": "2021-07-07T17:02:55.354Z"
   },
   {
    "duration": 17,
    "start_time": "2021-07-07T17:02:58.545Z"
   },
   {
    "duration": 28,
    "start_time": "2021-07-07T17:03:14.962Z"
   },
   {
    "duration": 16,
    "start_time": "2021-07-07T17:03:23.826Z"
   },
   {
    "duration": 28,
    "start_time": "2021-07-07T17:06:47.472Z"
   },
   {
    "duration": 11,
    "start_time": "2021-07-07T17:06:51.757Z"
   },
   {
    "duration": 31,
    "start_time": "2021-07-07T17:07:15.597Z"
   },
   {
    "duration": 38,
    "start_time": "2021-07-07T17:07:35.056Z"
   },
   {
    "duration": 7,
    "start_time": "2021-07-07T17:09:21.784Z"
   },
   {
    "duration": 7,
    "start_time": "2021-07-07T17:09:44.907Z"
   },
   {
    "duration": 6,
    "start_time": "2021-07-07T17:10:24.241Z"
   },
   {
    "duration": 6,
    "start_time": "2021-07-07T17:10:41.122Z"
   },
   {
    "duration": 6,
    "start_time": "2021-07-07T17:11:30.684Z"
   },
   {
    "duration": 45,
    "start_time": "2021-07-07T17:13:40.480Z"
   },
   {
    "duration": 41,
    "start_time": "2021-07-07T17:13:45.475Z"
   },
   {
    "duration": 65,
    "start_time": "2021-07-07T17:13:53.896Z"
   },
   {
    "duration": 35,
    "start_time": "2021-07-07T17:14:05.374Z"
   },
   {
    "duration": 18,
    "start_time": "2021-07-07T17:14:08.303Z"
   },
   {
    "duration": 18,
    "start_time": "2021-07-07T17:14:17.721Z"
   },
   {
    "duration": 31,
    "start_time": "2021-07-07T17:26:37.463Z"
   },
   {
    "duration": 7,
    "start_time": "2021-07-07T17:26:47.261Z"
   },
   {
    "duration": 6,
    "start_time": "2021-07-07T17:27:06.171Z"
   },
   {
    "duration": 29,
    "start_time": "2021-07-07T17:34:31.249Z"
   },
   {
    "duration": 12,
    "start_time": "2021-07-07T17:34:36.381Z"
   },
   {
    "duration": 46,
    "start_time": "2021-07-07T17:35:02.084Z"
   },
   {
    "duration": 62,
    "start_time": "2021-07-07T17:38:19.189Z"
   },
   {
    "duration": 43,
    "start_time": "2021-07-07T17:38:22.627Z"
   },
   {
    "duration": 60,
    "start_time": "2021-07-07T17:38:28.037Z"
   },
   {
    "duration": 36,
    "start_time": "2021-07-07T17:38:33.760Z"
   },
   {
    "duration": 12,
    "start_time": "2021-07-07T17:38:38.727Z"
   },
   {
    "duration": 18,
    "start_time": "2021-07-07T17:39:11.345Z"
   },
   {
    "duration": 37,
    "start_time": "2021-07-07T17:42:14.767Z"
   },
   {
    "duration": 26,
    "start_time": "2021-07-07T17:43:05.552Z"
   },
   {
    "duration": 34,
    "start_time": "2021-07-07T17:43:09.884Z"
   },
   {
    "duration": 433,
    "start_time": "2021-07-07T18:00:50.061Z"
   },
   {
    "duration": 370,
    "start_time": "2021-07-07T18:01:02.139Z"
   },
   {
    "duration": 837,
    "start_time": "2021-07-07T18:01:36.929Z"
   },
   {
    "duration": 741,
    "start_time": "2021-07-07T18:01:41.056Z"
   },
   {
    "duration": 425,
    "start_time": "2021-07-07T18:02:39.787Z"
   },
   {
    "duration": 639,
    "start_time": "2021-07-07T18:02:45.651Z"
   },
   {
    "duration": 712,
    "start_time": "2021-07-07T18:05:11.318Z"
   },
   {
    "duration": 1124,
    "start_time": "2021-07-07T18:05:24.810Z"
   },
   {
    "duration": 866,
    "start_time": "2021-07-07T19:27:25.831Z"
   },
   {
    "duration": 724,
    "start_time": "2021-07-07T19:28:52.106Z"
   },
   {
    "duration": 958,
    "start_time": "2021-07-07T19:30:14.043Z"
   },
   {
    "duration": 994,
    "start_time": "2021-07-07T19:30:27.639Z"
   },
   {
    "duration": 1078,
    "start_time": "2021-07-07T19:30:42.421Z"
   },
   {
    "duration": 738,
    "start_time": "2021-07-07T19:38:26.960Z"
   },
   {
    "duration": 129,
    "start_time": "2021-07-07T20:26:10.665Z"
   },
   {
    "duration": 317,
    "start_time": "2021-07-07T20:26:18.247Z"
   },
   {
    "duration": 341,
    "start_time": "2021-07-07T20:26:26.282Z"
   },
   {
    "duration": 359,
    "start_time": "2021-07-07T20:27:19.456Z"
   },
   {
    "duration": 454,
    "start_time": "2021-07-07T20:27:33.240Z"
   },
   {
    "duration": 339,
    "start_time": "2021-07-07T20:28:39.186Z"
   },
   {
    "duration": 18540,
    "start_time": "2021-07-07T20:29:49.331Z"
   },
   {
    "duration": 398,
    "start_time": "2021-07-07T20:32:14.331Z"
   },
   {
    "duration": 17403,
    "start_time": "2021-07-07T20:32:17.732Z"
   },
   {
    "duration": 118,
    "start_time": "2021-07-07T20:45:59.991Z"
   },
   {
    "duration": 56,
    "start_time": "2021-07-07T20:46:05.820Z"
   },
   {
    "duration": 43,
    "start_time": "2021-07-07T20:49:01.912Z"
   },
   {
    "duration": 128,
    "start_time": "2021-07-07T22:25:32.913Z"
   },
   {
    "duration": 9579,
    "start_time": "2021-07-07T22:26:11.703Z"
   },
   {
    "duration": 8836,
    "start_time": "2021-07-07T22:44:07.507Z"
   },
   {
    "duration": 9328,
    "start_time": "2021-07-07T22:45:23.226Z"
   },
   {
    "duration": 8191,
    "start_time": "2021-07-07T22:46:37.385Z"
   },
   {
    "duration": 8679,
    "start_time": "2021-07-07T22:47:27.177Z"
   },
   {
    "duration": 8776,
    "start_time": "2021-07-07T22:52:49.705Z"
   },
   {
    "duration": 339,
    "start_time": "2021-07-07T22:55:27.459Z"
   },
   {
    "duration": 813,
    "start_time": "2021-07-07T22:56:00.179Z"
   },
   {
    "duration": 7,
    "start_time": "2021-07-07T22:56:13.539Z"
   },
   {
    "duration": 18,
    "start_time": "2021-07-07T22:56:28.876Z"
   },
   {
    "duration": 31,
    "start_time": "2021-07-07T22:56:41.530Z"
   },
   {
    "duration": 30,
    "start_time": "2021-07-07T22:56:51.163Z"
   },
   {
    "duration": 307,
    "start_time": "2021-07-07T23:03:02.847Z"
   },
   {
    "duration": 596,
    "start_time": "2021-07-07T23:04:06.234Z"
   },
   {
    "duration": 399,
    "start_time": "2021-07-07T23:04:17.880Z"
   },
   {
    "duration": 696,
    "start_time": "2021-07-07T23:04:54.142Z"
   },
   {
    "duration": 4637,
    "start_time": "2021-07-07T23:06:45.799Z"
   },
   {
    "duration": 7235,
    "start_time": "2021-07-07T23:07:37.094Z"
   },
   {
    "duration": 622,
    "start_time": "2021-07-07T23:10:39.929Z"
   },
   {
    "duration": 754,
    "start_time": "2021-07-07T23:15:31.824Z"
   },
   {
    "duration": 8519,
    "start_time": "2021-07-07T23:16:25.458Z"
   },
   {
    "duration": 702,
    "start_time": "2021-07-07T23:17:13.344Z"
   },
   {
    "duration": 702,
    "start_time": "2021-07-07T23:18:16.306Z"
   },
   {
    "duration": 682,
    "start_time": "2021-07-07T23:19:19.116Z"
   },
   {
    "duration": 673,
    "start_time": "2021-07-07T23:19:59.354Z"
   },
   {
    "duration": 498,
    "start_time": "2021-07-07T23:20:42.764Z"
   },
   {
    "duration": 708,
    "start_time": "2021-07-07T23:21:10.296Z"
   },
   {
    "duration": 566,
    "start_time": "2021-07-07T23:21:26.837Z"
   },
   {
    "duration": 546,
    "start_time": "2021-07-07T23:22:35.851Z"
   },
   {
    "duration": 556,
    "start_time": "2021-07-07T23:23:30.936Z"
   },
   {
    "duration": 558,
    "start_time": "2021-07-07T23:23:45.037Z"
   },
   {
    "duration": 581,
    "start_time": "2021-07-07T23:24:10.645Z"
   },
   {
    "duration": 578,
    "start_time": "2021-07-07T23:25:14.354Z"
   },
   {
    "duration": 564,
    "start_time": "2021-07-07T23:26:09.040Z"
   },
   {
    "duration": 564,
    "start_time": "2021-07-07T23:27:50.285Z"
   },
   {
    "duration": 569,
    "start_time": "2021-07-07T23:29:25.175Z"
   },
   {
    "duration": 512,
    "start_time": "2021-07-07T23:32:00.865Z"
   },
   {
    "duration": 934,
    "start_time": "2021-07-07T23:33:43.138Z"
   },
   {
    "duration": 1302,
    "start_time": "2021-07-07T23:34:04.841Z"
   },
   {
    "duration": 504,
    "start_time": "2021-07-07T23:34:33.130Z"
   },
   {
    "duration": 589,
    "start_time": "2021-07-08T00:31:35.482Z"
   },
   {
    "duration": 935,
    "start_time": "2021-07-08T00:32:24.040Z"
   },
   {
    "duration": 494,
    "start_time": "2021-07-08T00:32:56.138Z"
   },
   {
    "duration": 931,
    "start_time": "2021-07-08T00:33:06.872Z"
   },
   {
    "duration": 562,
    "start_time": "2021-07-08T00:33:34.852Z"
   },
   {
    "duration": 615,
    "start_time": "2021-07-08T00:33:44.261Z"
   },
   {
    "duration": 630,
    "start_time": "2021-07-08T00:34:29.895Z"
   },
   {
    "duration": 3477,
    "start_time": "2021-07-08T00:37:11.454Z"
   },
   {
    "duration": 553,
    "start_time": "2021-07-08T00:37:40.661Z"
   },
   {
    "duration": 643,
    "start_time": "2021-07-08T00:37:56.769Z"
   },
   {
    "duration": 1811,
    "start_time": "2021-07-08T00:38:15.032Z"
   },
   {
    "duration": 582,
    "start_time": "2021-07-08T00:38:37.041Z"
   },
   {
    "duration": 833,
    "start_time": "2021-07-08T00:39:32.285Z"
   },
   {
    "duration": 325,
    "start_time": "2021-07-08T00:42:07.434Z"
   },
   {
    "duration": 703,
    "start_time": "2021-07-08T00:42:36.061Z"
   },
   {
    "duration": 782,
    "start_time": "2021-07-08T00:45:20.569Z"
   },
   {
    "duration": 756,
    "start_time": "2021-07-08T00:45:32.081Z"
   },
   {
    "duration": 610,
    "start_time": "2021-07-08T00:57:10.848Z"
   },
   {
    "duration": 613,
    "start_time": "2021-07-08T00:57:21.719Z"
   },
   {
    "duration": 470,
    "start_time": "2021-07-08T00:58:47.011Z"
   },
   {
    "duration": 737,
    "start_time": "2021-07-08T00:58:52.402Z"
   },
   {
    "duration": 647,
    "start_time": "2021-07-08T00:59:01.250Z"
   },
   {
    "duration": 40,
    "start_time": "2021-07-08T01:07:20.115Z"
   },
   {
    "duration": 295,
    "start_time": "2021-07-08T01:08:28.748Z"
   },
   {
    "duration": 11,
    "start_time": "2021-07-08T01:10:16.816Z"
   },
   {
    "duration": 23,
    "start_time": "2021-07-08T01:12:28.835Z"
   },
   {
    "duration": 106,
    "start_time": "2021-07-08T01:15:22.731Z"
   },
   {
    "duration": 24,
    "start_time": "2021-07-08T01:15:29.181Z"
   },
   {
    "duration": 20,
    "start_time": "2021-07-08T01:16:18.465Z"
   },
   {
    "duration": 24,
    "start_time": "2021-07-08T01:16:31.299Z"
   },
   {
    "duration": 23,
    "start_time": "2021-07-08T01:18:04.806Z"
   },
   {
    "duration": 8,
    "start_time": "2021-07-08T01:19:49.716Z"
   },
   {
    "duration": 7,
    "start_time": "2021-07-08T01:30:20.159Z"
   },
   {
    "duration": 526,
    "start_time": "2021-07-08T01:30:53.609Z"
   },
   {
    "duration": 575,
    "start_time": "2021-07-08T01:32:26.216Z"
   },
   {
    "duration": 502,
    "start_time": "2021-07-08T03:45:09.706Z"
   },
   {
    "duration": 7,
    "start_time": "2021-07-08T03:46:16.349Z"
   },
   {
    "duration": 492,
    "start_time": "2021-07-08T03:46:19.238Z"
   },
   {
    "duration": 1061,
    "start_time": "2021-07-08T16:27:19.849Z"
   },
   {
    "duration": 25,
    "start_time": "2021-07-08T16:27:22.649Z"
   },
   {
    "duration": 39,
    "start_time": "2021-07-08T16:27:24.888Z"
   },
   {
    "duration": 21,
    "start_time": "2021-07-08T16:27:29.498Z"
   },
   {
    "duration": 13,
    "start_time": "2021-07-08T16:27:31.852Z"
   },
   {
    "duration": 11,
    "start_time": "2021-07-08T16:27:34.422Z"
   },
   {
    "duration": 25,
    "start_time": "2021-07-08T16:27:36.568Z"
   },
   {
    "duration": 16,
    "start_time": "2021-07-08T16:27:41.368Z"
   },
   {
    "duration": 20,
    "start_time": "2021-07-08T16:27:44.002Z"
   },
   {
    "duration": 266,
    "start_time": "2021-07-08T16:27:48.199Z"
   },
   {
    "duration": 432,
    "start_time": "2021-07-08T16:27:51.920Z"
   },
   {
    "duration": 362,
    "start_time": "2021-07-08T16:27:55.783Z"
   },
   {
    "duration": 371,
    "start_time": "2021-07-08T16:28:54.170Z"
   },
   {
    "duration": 30,
    "start_time": "2021-07-08T16:40:58.535Z"
   },
   {
    "duration": 26,
    "start_time": "2021-07-08T16:43:16.629Z"
   },
   {
    "duration": 26,
    "start_time": "2021-07-08T16:44:29.716Z"
   },
   {
    "duration": 25,
    "start_time": "2021-07-08T16:45:47.855Z"
   },
   {
    "duration": 275,
    "start_time": "2021-07-08T16:47:07.912Z"
   },
   {
    "duration": 27,
    "start_time": "2021-07-08T16:49:48.768Z"
   },
   {
    "duration": 313,
    "start_time": "2021-07-08T16:49:56.002Z"
   },
   {
    "duration": 301,
    "start_time": "2021-07-08T16:50:37.031Z"
   },
   {
    "duration": 388,
    "start_time": "2021-07-08T16:58:20.692Z"
   },
   {
    "duration": 344,
    "start_time": "2021-07-08T17:00:50.120Z"
   },
   {
    "duration": 380,
    "start_time": "2021-07-08T17:01:45.345Z"
   },
   {
    "duration": 390,
    "start_time": "2021-07-08T17:24:35.778Z"
   },
   {
    "duration": 125,
    "start_time": "2021-07-08T17:25:51.305Z"
   },
   {
    "duration": 120,
    "start_time": "2021-07-08T17:26:03.893Z"
   },
   {
    "duration": 185,
    "start_time": "2021-07-08T17:28:00.057Z"
   },
   {
    "duration": 117,
    "start_time": "2021-07-08T17:28:07.874Z"
   },
   {
    "duration": 281,
    "start_time": "2021-07-08T17:29:01.263Z"
   },
   {
    "duration": 580,
    "start_time": "2021-07-08T17:31:33.162Z"
   },
   {
    "duration": 614,
    "start_time": "2021-07-08T17:32:10.183Z"
   },
   {
    "duration": 705,
    "start_time": "2021-07-08T17:32:39.098Z"
   },
   {
    "duration": 801,
    "start_time": "2021-07-08T17:32:53.108Z"
   },
   {
    "duration": 629,
    "start_time": "2021-07-08T17:33:06.954Z"
   },
   {
    "duration": 639,
    "start_time": "2021-07-08T17:33:30.062Z"
   },
   {
    "duration": -491,
    "start_time": "2021-07-08T17:35:41.421Z"
   },
   {
    "duration": 6954,
    "start_time": "2021-07-08T17:36:01.394Z"
   },
   {
    "duration": 638,
    "start_time": "2021-07-08T17:36:52.198Z"
   },
   {
    "duration": 777,
    "start_time": "2021-07-08T17:38:33.545Z"
   },
   {
    "duration": 455,
    "start_time": "2021-07-08T17:39:58.931Z"
   },
   {
    "duration": 13,
    "start_time": "2021-07-08T17:40:27.458Z"
   },
   {
    "duration": 13,
    "start_time": "2021-07-08T17:40:44.273Z"
   },
   {
    "duration": 20,
    "start_time": "2021-07-08T17:42:09.456Z"
   },
   {
    "duration": 10,
    "start_time": "2021-07-08T17:42:16.279Z"
   },
   {
    "duration": 7,
    "start_time": "2021-07-08T17:42:19.564Z"
   },
   {
    "duration": 13,
    "start_time": "2021-07-08T17:42:49.783Z"
   },
   {
    "duration": 21,
    "start_time": "2021-07-08T17:42:51.599Z"
   },
   {
    "duration": 37,
    "start_time": "2021-07-08T17:43:00.279Z"
   },
   {
    "duration": 23,
    "start_time": "2021-07-08T17:43:03.760Z"
   },
   {
    "duration": 21,
    "start_time": "2021-07-08T17:43:09.674Z"
   },
   {
    "duration": 8,
    "start_time": "2021-07-08T17:43:10.859Z"
   },
   {
    "duration": 11,
    "start_time": "2021-07-08T17:43:12.666Z"
   },
   {
    "duration": 20,
    "start_time": "2021-07-08T17:43:12.998Z"
   },
   {
    "duration": 14,
    "start_time": "2021-07-08T17:43:17.493Z"
   },
   {
    "duration": 25,
    "start_time": "2021-07-08T17:43:23.727Z"
   },
   {
    "duration": 247,
    "start_time": "2021-07-08T17:43:29.455Z"
   },
   {
    "duration": 447,
    "start_time": "2021-07-08T17:43:56.385Z"
   },
   {
    "duration": 370,
    "start_time": "2021-07-08T17:47:44.845Z"
   },
   {
    "duration": 9,
    "start_time": "2021-07-08T17:49:17.662Z"
   },
   {
    "duration": 15,
    "start_time": "2021-07-08T17:49:50.977Z"
   },
   {
    "duration": 28,
    "start_time": "2021-07-08T17:50:14.369Z"
   },
   {
    "duration": 4,
    "start_time": "2021-07-08T17:51:26.988Z"
   },
   {
    "duration": 276,
    "start_time": "2021-07-08T17:52:24.209Z"
   },
   {
    "duration": 324,
    "start_time": "2021-07-08T17:52:39.777Z"
   },
   {
    "duration": 82,
    "start_time": "2021-07-08T17:55:02.402Z"
   },
   {
    "duration": 92,
    "start_time": "2021-07-08T17:55:15.776Z"
   },
   {
    "duration": 6514,
    "start_time": "2021-07-08T17:57:49.426Z"
   },
   {
    "duration": 435,
    "start_time": "2021-07-08T17:58:25.825Z"
   },
   {
    "duration": 368,
    "start_time": "2021-07-08T18:02:31.814Z"
   },
   {
    "duration": 378,
    "start_time": "2021-07-08T18:05:57.134Z"
   },
   {
    "duration": 403,
    "start_time": "2021-07-08T19:21:06.460Z"
   },
   {
    "duration": 13,
    "start_time": "2021-07-08T19:22:45.329Z"
   },
   {
    "duration": 266,
    "start_time": "2021-07-08T19:23:14.577Z"
   },
   {
    "duration": 468,
    "start_time": "2021-07-08T19:25:00.918Z"
   },
   {
    "duration": 255,
    "start_time": "2021-07-08T19:25:11.911Z"
   },
   {
    "duration": 699,
    "start_time": "2021-07-08T19:26:01.178Z"
   },
   {
    "duration": 605,
    "start_time": "2021-07-08T19:26:06.110Z"
   },
   {
    "duration": 434,
    "start_time": "2021-07-08T19:26:10.091Z"
   },
   {
    "duration": 12,
    "start_time": "2021-07-08T19:26:21.406Z"
   },
   {
    "duration": 12,
    "start_time": "2021-07-08T19:26:24.660Z"
   },
   {
    "duration": 33,
    "start_time": "2021-07-08T19:53:59.659Z"
   },
   {
    "duration": 21,
    "start_time": "2021-07-08T19:54:05.143Z"
   },
   {
    "duration": 35,
    "start_time": "2021-07-08T19:54:07.180Z"
   },
   {
    "duration": 21,
    "start_time": "2021-07-08T19:54:14.710Z"
   },
   {
    "duration": 8,
    "start_time": "2021-07-08T19:54:17.084Z"
   },
   {
    "duration": 11,
    "start_time": "2021-07-08T19:54:20.161Z"
   },
   {
    "duration": 21,
    "start_time": "2021-07-08T19:54:22.121Z"
   },
   {
    "duration": 14,
    "start_time": "2021-07-08T19:54:26.243Z"
   },
   {
    "duration": 20,
    "start_time": "2021-07-08T19:54:28.027Z"
   },
   {
    "duration": 236,
    "start_time": "2021-07-08T19:54:32.210Z"
   },
   {
    "duration": 424,
    "start_time": "2021-07-08T19:54:40.714Z"
   },
   {
    "duration": 543,
    "start_time": "2021-07-08T19:55:16.197Z"
   },
   {
    "duration": 333,
    "start_time": "2021-07-08T19:56:42.938Z"
   },
   {
    "duration": 338,
    "start_time": "2021-07-08T19:56:52.716Z"
   },
   {
    "duration": 9,
    "start_time": "2021-07-08T19:57:34.389Z"
   },
   {
    "duration": 16,
    "start_time": "2021-07-08T19:57:38.435Z"
   },
   {
    "duration": 6,
    "start_time": "2021-07-08T19:57:49.690Z"
   },
   {
    "duration": 259,
    "start_time": "2021-07-08T19:59:48.236Z"
   },
   {
    "duration": 309,
    "start_time": "2021-07-08T20:00:18.021Z"
   },
   {
    "duration": 11,
    "start_time": "2021-07-08T21:12:27.119Z"
   },
   {
    "duration": 535,
    "start_time": "2021-07-08T21:12:34.142Z"
   },
   {
    "duration": 261,
    "start_time": "2021-07-08T21:13:06.721Z"
   },
   {
    "duration": 544,
    "start_time": "2021-07-08T21:15:09.841Z"
   },
   {
    "duration": 261,
    "start_time": "2021-07-08T21:17:43.500Z"
   },
   {
    "duration": 474,
    "start_time": "2021-07-08T21:19:15.969Z"
   },
   {
    "duration": 621,
    "start_time": "2021-07-08T21:28:13.622Z"
   },
   {
    "duration": 448,
    "start_time": "2021-07-08T21:30:58.648Z"
   },
   {
    "duration": 12,
    "start_time": "2021-07-08T21:40:14.675Z"
   },
   {
    "duration": 38,
    "start_time": "2021-07-08T22:22:58.051Z"
   },
   {
    "duration": 24,
    "start_time": "2021-07-08T22:23:00.852Z"
   },
   {
    "duration": 170,
    "start_time": "2021-07-08T22:23:02.312Z"
   },
   {
    "duration": 37,
    "start_time": "2021-07-08T22:23:04.941Z"
   },
   {
    "duration": 21,
    "start_time": "2021-07-08T22:23:10.757Z"
   },
   {
    "duration": 8,
    "start_time": "2021-07-08T22:23:13.994Z"
   },
   {
    "duration": 11,
    "start_time": "2021-07-08T22:23:16.711Z"
   },
   {
    "duration": 22,
    "start_time": "2021-07-08T22:23:23.150Z"
   },
   {
    "duration": 17,
    "start_time": "2021-07-08T22:23:45.038Z"
   },
   {
    "duration": 20,
    "start_time": "2021-07-08T22:23:46.959Z"
   },
   {
    "duration": 249,
    "start_time": "2021-07-08T22:32:50.660Z"
   },
   {
    "duration": 452,
    "start_time": "2021-07-08T22:32:55.695Z"
   },
   {
    "duration": 356,
    "start_time": "2021-07-08T22:34:05.341Z"
   },
   {
    "duration": 11,
    "start_time": "2021-07-08T22:34:09.701Z"
   },
   {
    "duration": 23,
    "start_time": "2021-07-08T22:34:13.380Z"
   },
   {
    "duration": 5,
    "start_time": "2021-07-08T22:34:16.224Z"
   },
   {
    "duration": 274,
    "start_time": "2021-07-08T22:34:56.722Z"
   },
   {
    "duration": 316,
    "start_time": "2021-07-08T22:40:07.613Z"
   },
   {
    "duration": 388,
    "start_time": "2021-07-08T22:41:01.909Z"
   },
   {
    "duration": 387,
    "start_time": "2021-07-08T22:46:39.546Z"
   },
   {
    "duration": 556,
    "start_time": "2021-07-08T22:47:16.336Z"
   },
   {
    "duration": 12,
    "start_time": "2021-07-08T22:57:15.517Z"
   },
   {
    "duration": 11,
    "start_time": "2021-07-08T22:57:48.820Z"
   },
   {
    "duration": 440,
    "start_time": "2021-07-08T22:58:04.916Z"
   },
   {
    "duration": 369,
    "start_time": "2021-07-08T22:58:52.065Z"
   },
   {
    "duration": 267,
    "start_time": "2021-07-08T23:00:52.263Z"
   },
   {
    "duration": 9,
    "start_time": "2021-07-08T23:01:06.707Z"
   },
   {
    "duration": 9,
    "start_time": "2021-07-08T23:07:08.209Z"
   },
   {
    "duration": 456,
    "start_time": "2021-07-08T23:07:50.637Z"
   },
   {
    "duration": 295,
    "start_time": "2021-07-08T23:07:55.203Z"
   },
   {
    "duration": 675,
    "start_time": "2021-07-08T23:08:08.112Z"
   },
   {
    "duration": 277,
    "start_time": "2021-07-08T23:09:13.521Z"
   },
   {
    "duration": 674,
    "start_time": "2021-07-08T23:10:01.905Z"
   },
   {
    "duration": 286,
    "start_time": "2021-07-08T23:10:30.250Z"
   },
   {
    "duration": 9,
    "start_time": "2021-07-08T23:10:48.668Z"
   },
   {
    "duration": 9,
    "start_time": "2021-07-08T23:11:48.368Z"
   },
   {
    "duration": 20,
    "start_time": "2021-07-08T23:12:44.541Z"
   },
   {
    "duration": 11,
    "start_time": "2021-07-08T23:16:50.133Z"
   },
   {
    "duration": 34,
    "start_time": "2021-07-08T23:18:11.302Z"
   },
   {
    "duration": 24,
    "start_time": "2021-07-08T23:18:14.271Z"
   },
   {
    "duration": 25,
    "start_time": "2021-07-08T23:18:20.382Z"
   },
   {
    "duration": 39,
    "start_time": "2021-07-08T23:18:23.225Z"
   },
   {
    "duration": 24,
    "start_time": "2021-07-08T23:18:27.859Z"
   },
   {
    "duration": 10,
    "start_time": "2021-07-08T23:18:29.905Z"
   },
   {
    "duration": 13,
    "start_time": "2021-07-08T23:18:32.513Z"
   },
   {
    "duration": 24,
    "start_time": "2021-07-08T23:18:34.448Z"
   },
   {
    "duration": 15,
    "start_time": "2021-07-08T23:18:37.548Z"
   },
   {
    "duration": 20,
    "start_time": "2021-07-08T23:18:41.227Z"
   },
   {
    "duration": 247,
    "start_time": "2021-07-08T23:18:45.654Z"
   },
   {
    "duration": 451,
    "start_time": "2021-07-08T23:18:49.718Z"
   },
   {
    "duration": 423,
    "start_time": "2021-07-08T23:18:53.560Z"
   },
   {
    "duration": 11,
    "start_time": "2021-07-08T23:19:05.132Z"
   },
   {
    "duration": 22,
    "start_time": "2021-07-08T23:19:08.860Z"
   },
   {
    "duration": 5,
    "start_time": "2021-07-08T23:19:14.044Z"
   },
   {
    "duration": 282,
    "start_time": "2021-07-08T23:19:17.805Z"
   },
   {
    "duration": 322,
    "start_time": "2021-07-08T23:19:23.272Z"
   },
   {
    "duration": 392,
    "start_time": "2021-07-08T23:19:31.703Z"
   },
   {
    "duration": 502,
    "start_time": "2021-07-08T23:19:50.169Z"
   },
   {
    "duration": 11,
    "start_time": "2021-07-08T23:20:19.253Z"
   },
   {
    "duration": 457,
    "start_time": "2021-07-08T23:20:26.842Z"
   },
   {
    "duration": 454,
    "start_time": "2021-07-08T23:20:31.807Z"
   },
   {
    "duration": 430,
    "start_time": "2021-07-08T23:20:38.345Z"
   },
   {
    "duration": 259,
    "start_time": "2021-07-08T23:21:46.111Z"
   },
   {
    "duration": 258,
    "start_time": "2021-07-08T23:22:07.490Z"
   },
   {
    "duration": 13,
    "start_time": "2021-07-08T23:22:22.375Z"
   },
   {
    "duration": 7,
    "start_time": "2021-07-08T23:22:44.518Z"
   },
   {
    "duration": 9,
    "start_time": "2021-07-08T23:23:00.821Z"
   },
   {
    "duration": 11,
    "start_time": "2021-07-08T23:23:48.758Z"
   },
   {
    "duration": 480,
    "start_time": "2021-07-08T23:23:54.188Z"
   },
   {
    "duration": 418,
    "start_time": "2021-07-08T23:23:56.974Z"
   },
   {
    "duration": 269,
    "start_time": "2021-07-08T23:26:03.093Z"
   },
   {
    "duration": 796,
    "start_time": "2021-07-08T23:26:21.751Z"
   },
   {
    "duration": 13,
    "start_time": "2021-07-08T23:27:12.326Z"
   },
   {
    "duration": 13,
    "start_time": "2021-07-08T23:27:26.878Z"
   },
   {
    "duration": 1688,
    "start_time": "2021-07-09T11:48:40.164Z"
   },
   {
    "duration": 51,
    "start_time": "2021-07-09T11:48:41.856Z"
   },
   {
    "duration": 74,
    "start_time": "2021-07-09T11:48:41.911Z"
   },
   {
    "duration": 30,
    "start_time": "2021-07-09T11:48:41.988Z"
   },
   {
    "duration": 12,
    "start_time": "2021-07-09T11:48:42.021Z"
   },
   {
    "duration": 49,
    "start_time": "2021-07-09T11:48:42.036Z"
   },
   {
    "duration": 33,
    "start_time": "2021-07-09T11:48:42.088Z"
   },
   {
    "duration": 21,
    "start_time": "2021-07-09T11:48:42.124Z"
   },
   {
    "duration": 57,
    "start_time": "2021-07-09T11:48:42.148Z"
   },
   {
    "duration": 302,
    "start_time": "2021-07-09T11:48:42.207Z"
   },
   {
    "duration": 615,
    "start_time": "2021-07-09T11:48:42.512Z"
   },
   {
    "duration": 995,
    "start_time": "2021-07-09T11:48:43.129Z"
   },
   {
    "duration": 12,
    "start_time": "2021-07-09T11:48:44.126Z"
   },
   {
    "duration": 48,
    "start_time": "2021-07-09T11:48:44.140Z"
   },
   {
    "duration": 5,
    "start_time": "2021-07-09T11:48:44.190Z"
   },
   {
    "duration": 343,
    "start_time": "2021-07-09T11:48:44.198Z"
   },
   {
    "duration": 375,
    "start_time": "2021-07-09T11:48:44.543Z"
   },
   {
    "duration": 450,
    "start_time": "2021-07-09T11:48:44.920Z"
   },
   {
    "duration": 415,
    "start_time": "2021-07-09T11:48:45.373Z"
   },
   {
    "duration": 15,
    "start_time": "2021-07-09T11:48:45.790Z"
   },
   {
    "duration": 492,
    "start_time": "2021-07-09T11:48:45.807Z"
   },
   {
    "duration": 377,
    "start_time": "2021-07-09T11:48:46.301Z"
   },
   {
    "duration": 417,
    "start_time": "2021-07-09T11:48:46.686Z"
   },
   {
    "duration": 324,
    "start_time": "2021-07-09T11:48:47.106Z"
   },
   {
    "duration": 2143,
    "start_time": "2021-07-09T11:48:47.433Z"
   },
   {
    "duration": 1961,
    "start_time": "2021-07-09T11:48:49.585Z"
   },
   {
    "duration": 1550,
    "start_time": "2021-07-09T11:48:51.549Z"
   },
   {
    "duration": 17,
    "start_time": "2021-07-09T11:48:53.102Z"
   },
   {
    "duration": 26,
    "start_time": "2021-07-09T11:48:53.121Z"
   },
   {
    "duration": 138,
    "start_time": "2021-07-09T12:06:55.481Z"
   },
   {
    "duration": 19,
    "start_time": "2021-07-09T12:07:03.169Z"
   },
   {
    "duration": 20,
    "start_time": "2021-07-09T12:07:53.768Z"
   },
   {
    "duration": 17,
    "start_time": "2021-07-09T12:07:57.409Z"
   },
   {
    "duration": 100,
    "start_time": "2021-07-09T12:08:32.113Z"
   },
   {
    "duration": 543,
    "start_time": "2021-07-09T12:08:36.180Z"
   },
   {
    "duration": 150,
    "start_time": "2021-07-09T12:09:03.269Z"
   },
   {
    "duration": 109,
    "start_time": "2021-07-09T12:09:07.768Z"
   },
   {
    "duration": 20,
    "start_time": "2021-07-09T12:09:58.081Z"
   },
   {
    "duration": 25,
    "start_time": "2021-07-09T12:10:03.997Z"
   },
   {
    "duration": 20,
    "start_time": "2021-07-09T12:10:33.718Z"
   },
   {
    "duration": 21,
    "start_time": "2021-07-09T12:10:55.908Z"
   },
   {
    "duration": 149,
    "start_time": "2021-07-09T12:11:22.199Z"
   },
   {
    "duration": 19,
    "start_time": "2021-07-09T12:11:28.037Z"
   },
   {
    "duration": 365,
    "start_time": "2021-07-09T12:12:16.591Z"
   },
   {
    "duration": 8,
    "start_time": "2021-07-09T12:12:20.564Z"
   },
   {
    "duration": 9,
    "start_time": "2021-07-09T12:12:47.735Z"
   },
   {
    "duration": 14,
    "start_time": "2021-07-09T12:12:51.472Z"
   },
   {
    "duration": 18,
    "start_time": "2021-07-09T12:20:41.894Z"
   },
   {
    "duration": 11,
    "start_time": "2021-07-09T12:20:45.822Z"
   },
   {
    "duration": 11,
    "start_time": "2021-07-09T12:21:02.104Z"
   },
   {
    "duration": 13,
    "start_time": "2021-07-09T12:21:04.875Z"
   },
   {
    "duration": 1657,
    "start_time": "2021-07-09T19:09:03.471Z"
   },
   {
    "duration": 44,
    "start_time": "2021-07-09T19:09:07.525Z"
   },
   {
    "duration": 62,
    "start_time": "2021-07-09T19:09:11.218Z"
   },
   {
    "duration": 36,
    "start_time": "2021-07-09T19:09:22.549Z"
   },
   {
    "duration": 11,
    "start_time": "2021-07-09T19:09:27.750Z"
   },
   {
    "duration": 20,
    "start_time": "2021-07-09T19:09:30.374Z"
   },
   {
    "duration": 18,
    "start_time": "2021-07-09T19:11:35.969Z"
   },
   {
    "duration": 34,
    "start_time": "2021-07-09T19:11:38.967Z"
   },
   {
    "duration": 25,
    "start_time": "2021-07-09T19:15:39.586Z"
   },
   {
    "duration": 34,
    "start_time": "2021-07-09T19:15:41.640Z"
   },
   {
    "duration": 450,
    "start_time": "2021-07-09T19:17:41.542Z"
   },
   {
    "duration": 817,
    "start_time": "2021-07-09T19:18:10.225Z"
   },
   {
    "duration": 655,
    "start_time": "2021-07-09T19:18:32.262Z"
   },
   {
    "duration": 18,
    "start_time": "2021-07-09T19:19:12.130Z"
   },
   {
    "duration": 29,
    "start_time": "2021-07-09T19:19:15.655Z"
   },
   {
    "duration": 7,
    "start_time": "2021-07-09T19:19:27.571Z"
   },
   {
    "duration": 8,
    "start_time": "2021-07-09T19:31:53.390Z"
   },
   {
    "duration": 480,
    "start_time": "2021-07-09T19:32:53.495Z"
   },
   {
    "duration": 573,
    "start_time": "2021-07-09T19:33:07.793Z"
   },
   {
    "duration": 704,
    "start_time": "2021-07-09T19:33:18.427Z"
   },
   {
    "duration": 720,
    "start_time": "2021-07-09T19:33:31.987Z"
   },
   {
    "duration": 16,
    "start_time": "2021-07-09T19:33:43.714Z"
   },
   {
    "duration": 465,
    "start_time": "2021-07-09T19:33:47.234Z"
   },
   {
    "duration": 698,
    "start_time": "2021-07-09T19:33:51.409Z"
   },
   {
    "duration": 499,
    "start_time": "2021-07-09T19:33:54.517Z"
   },
   {
    "duration": 1040,
    "start_time": "2021-07-09T19:34:09.948Z"
   },
   {
    "duration": 1203,
    "start_time": "2021-07-09T19:34:14.809Z"
   },
   {
    "duration": 716,
    "start_time": "2021-07-09T19:34:18.730Z"
   },
   {
    "duration": 16,
    "start_time": "2021-07-09T19:34:25.049Z"
   },
   {
    "duration": 19,
    "start_time": "2021-07-09T19:34:28.813Z"
   },
   {
    "duration": 50,
    "start_time": "2021-07-09T20:02:10.672Z"
   },
   {
    "duration": 47,
    "start_time": "2021-07-09T20:02:15.956Z"
   },
   {
    "duration": 42,
    "start_time": "2021-07-09T20:02:19.032Z"
   },
   {
    "duration": 86,
    "start_time": "2021-07-09T20:02:21.815Z"
   },
   {
    "duration": 35,
    "start_time": "2021-07-09T20:02:31.422Z"
   },
   {
    "duration": 35,
    "start_time": "2021-07-09T20:03:40.229Z"
   },
   {
    "duration": 12,
    "start_time": "2021-07-09T20:03:42.332Z"
   },
   {
    "duration": 35,
    "start_time": "2021-07-09T20:05:38.709Z"
   },
   {
    "duration": 13,
    "start_time": "2021-07-09T20:05:41.956Z"
   },
   {
    "duration": 16,
    "start_time": "2021-07-09T20:05:48.480Z"
   },
   {
    "duration": 33,
    "start_time": "2021-07-09T20:05:50.803Z"
   },
   {
    "duration": 23,
    "start_time": "2021-07-09T20:06:46.309Z"
   },
   {
    "duration": 34,
    "start_time": "2021-07-09T20:06:47.201Z"
   },
   {
    "duration": 652,
    "start_time": "2021-07-09T20:07:04.329Z"
   },
   {
    "duration": 823,
    "start_time": "2021-07-09T20:07:17.775Z"
   },
   {
    "duration": 878,
    "start_time": "2021-07-09T20:07:27.004Z"
   },
   {
    "duration": 18,
    "start_time": "2021-07-09T20:07:33.978Z"
   },
   {
    "duration": 40,
    "start_time": "2021-07-09T20:07:41.903Z"
   },
   {
    "duration": 9,
    "start_time": "2021-07-09T20:07:57.525Z"
   },
   {
    "duration": 49,
    "start_time": "2021-07-09T20:17:30.427Z"
   },
   {
    "duration": 37,
    "start_time": "2021-07-09T20:17:33.854Z"
   },
   {
    "duration": 58,
    "start_time": "2021-07-09T20:18:45.620Z"
   },
   {
    "duration": 2616,
    "start_time": "2021-07-09T20:18:48.137Z"
   },
   {
    "duration": 5975,
    "start_time": "2021-07-09T20:18:52.940Z"
   },
   {
    "duration": 3488,
    "start_time": "2021-07-09T20:19:08.496Z"
   },
   {
    "duration": 36,
    "start_time": "2021-07-09T20:19:11.987Z"
   },
   {
    "duration": 38,
    "start_time": "2021-07-09T20:19:12.026Z"
   },
   {
    "duration": 23,
    "start_time": "2021-07-09T20:19:12.335Z"
   },
   {
    "duration": 38,
    "start_time": "2021-07-09T20:19:14.341Z"
   },
   {
    "duration": 452,
    "start_time": "2021-07-09T20:19:19.883Z"
   },
   {
    "duration": 442,
    "start_time": "2021-07-09T20:19:25.414Z"
   },
   {
    "duration": 904,
    "start_time": "2021-07-09T20:19:32.258Z"
   },
   {
    "duration": 865,
    "start_time": "2021-07-09T20:19:44.779Z"
   },
   {
    "duration": 16,
    "start_time": "2021-07-09T20:20:06.892Z"
   },
   {
    "duration": 7179,
    "start_time": "2021-07-09T20:20:10.019Z"
   },
   {
    "duration": 8,
    "start_time": "2021-07-09T20:21:29.780Z"
   },
   {
    "duration": 446,
    "start_time": "2021-07-09T20:23:37.437Z"
   },
   {
    "duration": 561,
    "start_time": "2021-07-09T20:24:55.425Z"
   },
   {
    "duration": 544,
    "start_time": "2021-07-09T20:28:41.178Z"
   },
   {
    "duration": 476,
    "start_time": "2021-07-09T20:31:14.609Z"
   },
   {
    "duration": 689,
    "start_time": "2021-07-09T20:31:38.960Z"
   },
   {
    "duration": 621,
    "start_time": "2021-07-09T20:34:07.258Z"
   },
   {
    "duration": 757,
    "start_time": "2021-07-09T20:47:35.585Z"
   },
   {
    "duration": 15,
    "start_time": "2021-07-09T20:48:19.275Z"
   },
   {
    "duration": 373,
    "start_time": "2021-07-09T20:48:34.746Z"
   },
   {
    "duration": 768,
    "start_time": "2021-07-09T20:48:40.394Z"
   },
   {
    "duration": 14,
    "start_time": "2021-07-09T20:49:13.013Z"
   },
   {
    "duration": 343,
    "start_time": "2021-07-09T20:49:18.851Z"
   },
   {
    "duration": 367,
    "start_time": "2021-07-09T21:12:57.197Z"
   },
   {
    "duration": 314,
    "start_time": "2021-07-09T21:13:31.306Z"
   },
   {
    "duration": 1263,
    "start_time": "2021-07-09T21:17:53.814Z"
   },
   {
    "duration": 20,
    "start_time": "2021-07-09T21:18:45.700Z"
   },
   {
    "duration": 14,
    "start_time": "2021-07-09T21:21:05.114Z"
   },
   {
    "duration": 16,
    "start_time": "2021-07-09T21:22:15.841Z"
   },
   {
    "duration": 14,
    "start_time": "2021-07-09T21:22:23.989Z"
   },
   {
    "duration": 330,
    "start_time": "2021-07-09T21:22:58.628Z"
   },
   {
    "duration": 414,
    "start_time": "2021-07-09T21:23:32.899Z"
   },
   {
    "duration": 782,
    "start_time": "2021-07-09T21:25:32.620Z"
   },
   {
    "duration": 691,
    "start_time": "2021-07-09T21:26:01.694Z"
   },
   {
    "duration": 674,
    "start_time": "2021-07-09T21:26:12.204Z"
   },
   {
    "duration": 319,
    "start_time": "2021-07-09T21:27:34.118Z"
   },
   {
    "duration": 331,
    "start_time": "2021-07-09T21:27:54.333Z"
   },
   {
    "duration": 331,
    "start_time": "2021-07-09T21:28:12.977Z"
   },
   {
    "duration": 346,
    "start_time": "2021-07-09T21:29:02.742Z"
   },
   {
    "duration": 573,
    "start_time": "2021-07-09T21:29:33.596Z"
   },
   {
    "duration": 323,
    "start_time": "2021-07-09T21:30:49.111Z"
   },
   {
    "duration": 379,
    "start_time": "2021-07-09T21:31:00.184Z"
   },
   {
    "duration": 1030,
    "start_time": "2021-07-09T21:31:13.875Z"
   },
   {
    "duration": 742,
    "start_time": "2021-07-09T21:31:37.675Z"
   },
   {
    "duration": 13,
    "start_time": "2021-07-09T21:33:38.132Z"
   },
   {
    "duration": 47,
    "start_time": "2021-07-09T21:33:55.875Z"
   },
   {
    "duration": 49,
    "start_time": "2021-07-09T21:33:58.387Z"
   },
   {
    "duration": 38,
    "start_time": "2021-07-09T21:34:00.564Z"
   },
   {
    "duration": 58,
    "start_time": "2021-07-09T21:34:03.389Z"
   },
   {
    "duration": 35,
    "start_time": "2021-07-09T21:34:08.867Z"
   },
   {
    "duration": 16,
    "start_time": "2021-07-09T21:34:11.041Z"
   },
   {
    "duration": 34,
    "start_time": "2021-07-09T21:53:28.139Z"
   },
   {
    "duration": 12,
    "start_time": "2021-07-09T21:53:29.061Z"
   },
   {
    "duration": 17,
    "start_time": "2021-07-09T21:53:35.377Z"
   },
   {
    "duration": 34,
    "start_time": "2021-07-09T21:53:36.391Z"
   },
   {
    "duration": 23,
    "start_time": "2021-07-09T21:53:43.819Z"
   },
   {
    "duration": 35,
    "start_time": "2021-07-09T21:53:47.132Z"
   },
   {
    "duration": 440,
    "start_time": "2021-07-09T21:53:53.139Z"
   },
   {
    "duration": 803,
    "start_time": "2021-07-09T21:53:56.612Z"
   },
   {
    "duration": 634,
    "start_time": "2021-07-09T21:54:01.212Z"
   },
   {
    "duration": 14,
    "start_time": "2021-07-09T21:54:05.882Z"
   },
   {
    "duration": 26,
    "start_time": "2021-07-09T21:54:09.251Z"
   },
   {
    "duration": 7,
    "start_time": "2021-07-09T21:54:11.797Z"
   },
   {
    "duration": 149,
    "start_time": "2021-07-09T21:54:25.196Z"
   },
   {
    "duration": 457,
    "start_time": "2021-07-09T21:54:31.333Z"
   },
   {
    "duration": 556,
    "start_time": "2021-07-09T21:54:48.349Z"
   },
   {
    "duration": 6,
    "start_time": "2021-07-09T21:55:23.770Z"
   },
   {
    "duration": 490,
    "start_time": "2021-07-09T21:55:39.904Z"
   },
   {
    "duration": 62,
    "start_time": "2021-07-09T21:55:54.914Z"
   },
   {
    "duration": 59,
    "start_time": "2021-07-09T21:55:57.832Z"
   },
   {
    "duration": 85,
    "start_time": "2021-07-09T21:56:02.027Z"
   },
   {
    "duration": 54,
    "start_time": "2021-07-09T21:56:05.514Z"
   },
   {
    "duration": 17,
    "start_time": "2021-07-09T21:56:07.380Z"
   },
   {
    "duration": 26,
    "start_time": "2021-07-09T21:56:09.862Z"
   },
   {
    "duration": 50,
    "start_time": "2021-07-09T21:56:11.754Z"
   },
   {
    "duration": 33,
    "start_time": "2021-07-09T21:56:15.076Z"
   },
   {
    "duration": 51,
    "start_time": "2021-07-09T21:56:16.887Z"
   },
   {
    "duration": 733,
    "start_time": "2021-07-09T21:56:20.933Z"
   },
   {
    "duration": 1254,
    "start_time": "2021-07-09T21:56:24.859Z"
   },
   {
    "duration": 865,
    "start_time": "2021-07-09T21:56:36.627Z"
   },
   {
    "duration": 19,
    "start_time": "2021-07-09T21:57:01.926Z"
   },
   {
    "duration": 37,
    "start_time": "2021-07-09T21:57:08.823Z"
   },
   {
    "duration": 7,
    "start_time": "2021-07-09T21:57:11.966Z"
   },
   {
    "duration": 695,
    "start_time": "2021-07-09T21:57:17.366Z"
   },
   {
    "duration": 793,
    "start_time": "2021-07-09T21:57:59.147Z"
   },
   {
    "duration": 1034,
    "start_time": "2021-07-09T21:58:41.801Z"
   },
   {
    "duration": 1281,
    "start_time": "2021-07-09T21:59:00.571Z"
   },
   {
    "duration": 20,
    "start_time": "2021-07-09T21:59:16.614Z"
   },
   {
    "duration": 736,
    "start_time": "2021-07-09T21:59:24.072Z"
   },
   {
    "duration": 724,
    "start_time": "2021-07-09T21:59:32.843Z"
   },
   {
    "duration": 739,
    "start_time": "2021-07-09T21:59:36.191Z"
   },
   {
    "duration": 491,
    "start_time": "2021-07-09T22:01:33.436Z"
   },
   {
    "duration": 977,
    "start_time": "2021-07-09T22:01:48.250Z"
   },
   {
    "duration": 1236,
    "start_time": "2021-07-09T22:04:10.866Z"
   },
   {
    "duration": 860,
    "start_time": "2021-07-09T22:06:00.804Z"
   },
   {
    "duration": 16,
    "start_time": "2021-07-09T22:08:42.602Z"
   },
   {
    "duration": 16,
    "start_time": "2021-07-09T22:09:23.058Z"
   }
  ],
  "kernelspec": {
   "display_name": "Python 3 (ipykernel)",
   "language": "python",
   "name": "python3"
  },
  "language_info": {
   "codemirror_mode": {
    "name": "ipython",
    "version": 3
   },
   "file_extension": ".py",
   "mimetype": "text/x-python",
   "name": "python",
   "nbconvert_exporter": "python",
   "pygments_lexer": "ipython3",
   "version": "3.9.7"
  },
  "toc": {
   "base_numbering": "",
   "nav_menu": {},
   "number_sections": false,
   "sideBar": true,
   "skip_h1_title": false,
   "title_cell": "Table of Contents",
   "title_sidebar": "Contents",
   "toc_cell": false,
   "toc_position": {
    "height": "calc(100% - 180px)",
    "left": "10px",
    "top": "150px",
    "width": "165px"
   },
   "toc_section_display": true,
   "toc_window_display": false
  }
 },
 "nbformat": 4,
 "nbformat_minor": 2
}
