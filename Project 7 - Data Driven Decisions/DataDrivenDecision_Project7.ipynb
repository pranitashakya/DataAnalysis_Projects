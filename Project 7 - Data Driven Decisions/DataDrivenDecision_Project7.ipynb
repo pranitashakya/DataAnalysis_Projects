{
 "cells": [
  {
   "cell_type": "markdown",
   "metadata": {},
   "source": [
    "<div style=\"border:solid Chocolate 2px; padding: 40px\">\n",
    "\n",
    "<b>Hello, Pranita!👋 How are you today?</b>\n",
    "    \n",
    "My name is Arina U., we have already met with you at one of the previous sprints, this time I am glad to be your reviewer in this project! Nice to meet you again!<br />\n",
    "\n",
    "\n",
    "You can find my comments in <font color='green'>green</font>, <font color='gold'>yellow</font> and <font color='red'>red</font> boxes. Examples you can see below:\n",
    "    \n",
    "<div class=\"alert alert-block alert-success\">\n",
    "    <h2>Reviewer's commentary <a class=\"tocSkip\"> </h2>\n",
    "    <br/>\n",
    "<b>Well done!👍:</b> In case if task is completely correct and everything is alright!\n",
    "</div>\n",
    "\n",
    "\n",
    "<div class=\"alert alert-block alert-warning\">\n",
    "   <h2>Reviewer's commentary <a class=\"tocSkip\"> </h2>\n",
    "    <br/>\n",
    "<b>Remarks and recommendations📌:</b>  In case when I can give some advice that can help you to improve your work or recommend you some useful links and resources that can help you widen your knowledge and help in future tasks.\n",
    "</div>\n",
    "\n",
    "<div class=\"alert alert-block alert-danger\">\n",
    "    <h2>Reviewer's commentary <a class=\"tocSkip\"> </h2>\n",
    "    <br/>\n",
    "<b>Needs fixing!🤔:</b> In case when step requires some extra work and some corrections. Project can't be accepted with comments in the red boxes\n",
    "</div>\n",
    "\n",
    "Please pay attention to not move or change my comments. It would be good to highlight your answers in some way. \n",
    "\n",
    "#### <font color='Purple'>Student's commentary:</font> for example like this <a class=\"tocSkip\"> </div>\n",
    "    \n",
    "OK, now let's go!😏\n",
    "</font>"
   ]
  },
  {
   "cell_type": "markdown",
   "metadata": {},
   "source": [
    "# Making Business Decisions Based on Data\n",
    "\n",
    "#### Project description:\n",
    "\n",
    "We are working on a project for a big online store. Together with the marketing department, we complied a list of hypotheses that may help boost revenue.\n",
    "We need to prioritize these hypotheses, launch an A/B test, and analyze the results.\n",
    "\n",
    "\n",
    "##### Data description\n",
    "##### Data used in the first part of the project\n",
    "\n",
    "##### /datasets/hypotheses_us.csv Download dataset\n",
    "- Hypotheses — brief descriptions of the hypotheses\n",
    "- Reach — user reach, on a scale of one to ten\n",
    "- Impact — impact on users, on a scale of one to ten\n",
    "- Confidence — confidence in the hypothesis, on a scale of one to ten\n",
    "- Effort — the resources required to test a hypothesis, on a scale of one to ten. The higher the Effort value, the more resource-intensive the test.\n",
    "\n",
    "##### /datasets/orders_us.csv Download dataset\n",
    "- transactionId — order identifier\n",
    "- visitorId — identifier of the user who placed the order\n",
    "- date — of the order\n",
    "- revenue — from the order\n",
    "- group — the A/B test group that the user belongs to\n",
    "\n",
    "##### /datasets/visits_us.csv Download dataset\n",
    "- date — date\n",
    "- group — A/B test group\n",
    "- visits — the number of visits on the date specified in the A/B test group specified\n",
    "\n",
    "#### Steps to take:\n",
    "- Step 1: Open the data file and study the general information.\n",
    "- Step 2: Prepare the data \n",
    "    - We will view the data in more detail to convert them to the required types, replace the column names and find missing values.Find and eliminate errors in the data.\n",
    "- Step 3: Prioritizing Hypotheses\n",
    "    - The task is to:\n",
    "        - Apply the ICE framework to prioritize hypotheses. Sort them in descending order of priority.\n",
    "        - Apply the RICE framework to prioritize hypotheses. Sort them in descending order of priority.\n",
    "        - Show how the prioritization of hypotheses changes when you use RICE instead of ICE. Provide an explanation for the changes.\n",
    "        \n",
    "- Step 4: A/B Test Analysis\n",
    "\n",
    "  \n",
    "#### Goal:\n",
    "Our goal is to prioritize a list of hypotheses compiled and launch an A/B test, and analyze the results and determined which group is better.\n"
   ]
  },
  {
   "cell_type": "markdown",
   "metadata": {},
   "source": [
    "<div class=\"alert alert-block alert-success\">\n",
    "    <h2>Reviewer's commentary <a class=\"tocSkip\"> </h2>\n",
    "    <br/>\n",
    "<b>Well done!👍:</b> \n",
    "        \n",
    "Ok, Pranita, it is great that you formulated the main goal of the project!"
   ]
  },
  {
   "cell_type": "markdown",
   "metadata": {},
   "source": [
    "## Step 1. Open the data file and study the general information"
   ]
  },
  {
   "cell_type": "code",
   "execution_count": 1,
   "metadata": {},
   "outputs": [],
   "source": [
    "##### Import default libraries\n",
    "try:\n",
    "    import pandas as pd # manipulate and wrangle the data  \n",
    "    import numpy as np\n",
    "    import matplotlib.pyplot as plt #2d plotting library which produces publication quality figures in a variety of formats\n",
    "    import seaborn as sns # Seaborn provides a high-level interface for drawing attractive and informative statistical graphics\n",
    "except:\n",
    "    print(\"An exception occurred\")\n",
    "    \n",
    "from scipy import stats # for mathematics, science, and engineering\n",
    "from math import ceil as math\n",
    "from scipy import stats as st\n",
    "\n",
    "#pd.set_option('max_colwidth', 400)\n",
    "\n",
    "#read data from file\n",
    "hypotheses  = pd.read_csv('/datasets/hypotheses_us.csv', sep=';')\n",
    "\n",
    "orders = pd.read_csv('/datasets/orders_us.csv', sep=',')\n",
    "\n",
    "visits = pd.read_csv('/datasets/visits_us.csv', sep=',')\n",
    "\n"
   ]
  },
  {
   "cell_type": "markdown",
   "metadata": {},
   "source": [
    "<div class=\"alert alert-block alert-warning\">\n",
    "   <h2>Reviewer's commentary <a class=\"tocSkip\"> </h2>\n",
    "    <br/>\n",
    "<b>Remarks and recommendations📌:</b>  \n",
    "       \n",
    "To import the data it is better to use the `try-except` construction, it allows to avoid errors that can be caused by incorrect paths to files. More information see below:\n",
    "       \n",
    "https://www.w3schools.com/python/python_try_except.asp"
   ]
  },
  {
   "cell_type": "code",
   "execution_count": 2,
   "metadata": {
    "scrolled": true
   },
   "outputs": [
    {
     "name": "stdout",
     "output_type": "stream",
     "text": [
      "<class 'pandas.core.frame.DataFrame'>\n",
      "RangeIndex: 9 entries, 0 to 8\n",
      "Data columns (total 5 columns):\n",
      "Hypothesis    9 non-null object\n",
      "Reach         9 non-null int64\n",
      "Impact        9 non-null int64\n",
      "Confidence    9 non-null int64\n",
      "Effort        9 non-null int64\n",
      "dtypes: int64(4), object(1)\n",
      "memory usage: 488.0+ bytes\n"
     ]
    },
    {
     "data": {
      "text/html": [
       "<div>\n",
       "<style scoped>\n",
       "    .dataframe tbody tr th:only-of-type {\n",
       "        vertical-align: middle;\n",
       "    }\n",
       "\n",
       "    .dataframe tbody tr th {\n",
       "        vertical-align: top;\n",
       "    }\n",
       "\n",
       "    .dataframe thead th {\n",
       "        text-align: right;\n",
       "    }\n",
       "</style>\n",
       "<table border=\"1\" class=\"dataframe\">\n",
       "  <thead>\n",
       "    <tr style=\"text-align: right;\">\n",
       "      <th></th>\n",
       "      <th>Hypothesis</th>\n",
       "      <th>Reach</th>\n",
       "      <th>Impact</th>\n",
       "      <th>Confidence</th>\n",
       "      <th>Effort</th>\n",
       "    </tr>\n",
       "  </thead>\n",
       "  <tbody>\n",
       "    <tr>\n",
       "      <td>0</td>\n",
       "      <td>Add two new channels for attracting traffic. T...</td>\n",
       "      <td>3</td>\n",
       "      <td>10</td>\n",
       "      <td>8</td>\n",
       "      <td>6</td>\n",
       "    </tr>\n",
       "    <tr>\n",
       "      <td>1</td>\n",
       "      <td>Launch your own delivery service. This will sh...</td>\n",
       "      <td>2</td>\n",
       "      <td>5</td>\n",
       "      <td>4</td>\n",
       "      <td>10</td>\n",
       "    </tr>\n",
       "    <tr>\n",
       "      <td>2</td>\n",
       "      <td>Add product recommendation blocks to the store...</td>\n",
       "      <td>8</td>\n",
       "      <td>3</td>\n",
       "      <td>7</td>\n",
       "      <td>3</td>\n",
       "    </tr>\n",
       "    <tr>\n",
       "      <td>3</td>\n",
       "      <td>Change the category structure. This will incre...</td>\n",
       "      <td>8</td>\n",
       "      <td>3</td>\n",
       "      <td>3</td>\n",
       "      <td>8</td>\n",
       "    </tr>\n",
       "    <tr>\n",
       "      <td>4</td>\n",
       "      <td>Change the background color on the main page. ...</td>\n",
       "      <td>3</td>\n",
       "      <td>1</td>\n",
       "      <td>1</td>\n",
       "      <td>1</td>\n",
       "    </tr>\n",
       "    <tr>\n",
       "      <td>5</td>\n",
       "      <td>Add a customer review page. This will increase...</td>\n",
       "      <td>3</td>\n",
       "      <td>2</td>\n",
       "      <td>2</td>\n",
       "      <td>3</td>\n",
       "    </tr>\n",
       "    <tr>\n",
       "      <td>6</td>\n",
       "      <td>Show banners with current offers and sales on ...</td>\n",
       "      <td>5</td>\n",
       "      <td>3</td>\n",
       "      <td>8</td>\n",
       "      <td>3</td>\n",
       "    </tr>\n",
       "    <tr>\n",
       "      <td>7</td>\n",
       "      <td>Add a subscription form to all the main pages....</td>\n",
       "      <td>10</td>\n",
       "      <td>7</td>\n",
       "      <td>8</td>\n",
       "      <td>5</td>\n",
       "    </tr>\n",
       "    <tr>\n",
       "      <td>8</td>\n",
       "      <td>Launch a promotion that gives users discounts ...</td>\n",
       "      <td>1</td>\n",
       "      <td>9</td>\n",
       "      <td>9</td>\n",
       "      <td>5</td>\n",
       "    </tr>\n",
       "  </tbody>\n",
       "</table>\n",
       "</div>"
      ],
      "text/plain": [
       "                                          Hypothesis  Reach  Impact  \\\n",
       "0  Add two new channels for attracting traffic. T...      3      10   \n",
       "1  Launch your own delivery service. This will sh...      2       5   \n",
       "2  Add product recommendation blocks to the store...      8       3   \n",
       "3  Change the category structure. This will incre...      8       3   \n",
       "4  Change the background color on the main page. ...      3       1   \n",
       "5  Add a customer review page. This will increase...      3       2   \n",
       "6  Show banners with current offers and sales on ...      5       3   \n",
       "7  Add a subscription form to all the main pages....     10       7   \n",
       "8  Launch a promotion that gives users discounts ...      1       9   \n",
       "\n",
       "   Confidence  Effort  \n",
       "0           8       6  \n",
       "1           4      10  \n",
       "2           7       3  \n",
       "3           3       8  \n",
       "4           1       1  \n",
       "5           2       3  \n",
       "6           8       3  \n",
       "7           8       5  \n",
       "8           9       5  "
      ]
     },
     "execution_count": 2,
     "metadata": {},
     "output_type": "execute_result"
    }
   ],
   "source": [
    "# preview the loaded data\n",
    "hypotheses.info()\n",
    "\n",
    "# return the top n- rows of dataframe\n",
    "hypotheses.head(100)\n"
   ]
  },
  {
   "cell_type": "code",
   "execution_count": 3,
   "metadata": {},
   "outputs": [
    {
     "name": "stdout",
     "output_type": "stream",
     "text": [
      "<class 'pandas.core.frame.DataFrame'>\n",
      "RangeIndex: 1197 entries, 0 to 1196\n",
      "Data columns (total 5 columns):\n",
      "transactionId    1197 non-null int64\n",
      "visitorId        1197 non-null int64\n",
      "date             1197 non-null object\n",
      "revenue          1197 non-null float64\n",
      "group            1197 non-null object\n",
      "dtypes: float64(1), int64(2), object(2)\n",
      "memory usage: 46.9+ KB\n"
     ]
    },
    {
     "data": {
      "text/html": [
       "<div>\n",
       "<style scoped>\n",
       "    .dataframe tbody tr th:only-of-type {\n",
       "        vertical-align: middle;\n",
       "    }\n",
       "\n",
       "    .dataframe tbody tr th {\n",
       "        vertical-align: top;\n",
       "    }\n",
       "\n",
       "    .dataframe thead th {\n",
       "        text-align: right;\n",
       "    }\n",
       "</style>\n",
       "<table border=\"1\" class=\"dataframe\">\n",
       "  <thead>\n",
       "    <tr style=\"text-align: right;\">\n",
       "      <th></th>\n",
       "      <th>transactionId</th>\n",
       "      <th>visitorId</th>\n",
       "      <th>date</th>\n",
       "      <th>revenue</th>\n",
       "      <th>group</th>\n",
       "    </tr>\n",
       "  </thead>\n",
       "  <tbody>\n",
       "    <tr>\n",
       "      <td>0</td>\n",
       "      <td>3667963787</td>\n",
       "      <td>3312258926</td>\n",
       "      <td>2019-08-15</td>\n",
       "      <td>30.4</td>\n",
       "      <td>B</td>\n",
       "    </tr>\n",
       "    <tr>\n",
       "      <td>1</td>\n",
       "      <td>2804400009</td>\n",
       "      <td>3642806036</td>\n",
       "      <td>2019-08-15</td>\n",
       "      <td>15.2</td>\n",
       "      <td>B</td>\n",
       "    </tr>\n",
       "    <tr>\n",
       "      <td>2</td>\n",
       "      <td>2961555356</td>\n",
       "      <td>4069496402</td>\n",
       "      <td>2019-08-15</td>\n",
       "      <td>10.2</td>\n",
       "      <td>A</td>\n",
       "    </tr>\n",
       "    <tr>\n",
       "      <td>3</td>\n",
       "      <td>3797467345</td>\n",
       "      <td>1196621759</td>\n",
       "      <td>2019-08-15</td>\n",
       "      <td>155.1</td>\n",
       "      <td>B</td>\n",
       "    </tr>\n",
       "    <tr>\n",
       "      <td>4</td>\n",
       "      <td>2282983706</td>\n",
       "      <td>2322279887</td>\n",
       "      <td>2019-08-15</td>\n",
       "      <td>40.5</td>\n",
       "      <td>B</td>\n",
       "    </tr>\n",
       "    <tr>\n",
       "      <td>...</td>\n",
       "      <td>...</td>\n",
       "      <td>...</td>\n",
       "      <td>...</td>\n",
       "      <td>...</td>\n",
       "      <td>...</td>\n",
       "    </tr>\n",
       "    <tr>\n",
       "      <td>95</td>\n",
       "      <td>372616894</td>\n",
       "      <td>457167155</td>\n",
       "      <td>2019-08-22</td>\n",
       "      <td>20.2</td>\n",
       "      <td>B</td>\n",
       "    </tr>\n",
       "    <tr>\n",
       "      <td>96</td>\n",
       "      <td>1170105516</td>\n",
       "      <td>2706377257</td>\n",
       "      <td>2019-08-01</td>\n",
       "      <td>140.8</td>\n",
       "      <td>A</td>\n",
       "    </tr>\n",
       "    <tr>\n",
       "      <td>97</td>\n",
       "      <td>2012801741</td>\n",
       "      <td>414545763</td>\n",
       "      <td>2019-08-01</td>\n",
       "      <td>90.5</td>\n",
       "      <td>B</td>\n",
       "    </tr>\n",
       "    <tr>\n",
       "      <td>98</td>\n",
       "      <td>1962247337</td>\n",
       "      <td>2706377257</td>\n",
       "      <td>2019-08-01</td>\n",
       "      <td>110.7</td>\n",
       "      <td>A</td>\n",
       "    </tr>\n",
       "    <tr>\n",
       "      <td>99</td>\n",
       "      <td>2951489300</td>\n",
       "      <td>926057494</td>\n",
       "      <td>2019-08-01</td>\n",
       "      <td>5.6</td>\n",
       "      <td>A</td>\n",
       "    </tr>\n",
       "  </tbody>\n",
       "</table>\n",
       "<p>100 rows × 5 columns</p>\n",
       "</div>"
      ],
      "text/plain": [
       "    transactionId   visitorId        date  revenue group\n",
       "0      3667963787  3312258926  2019-08-15     30.4     B\n",
       "1      2804400009  3642806036  2019-08-15     15.2     B\n",
       "2      2961555356  4069496402  2019-08-15     10.2     A\n",
       "3      3797467345  1196621759  2019-08-15    155.1     B\n",
       "4      2282983706  2322279887  2019-08-15     40.5     B\n",
       "..            ...         ...         ...      ...   ...\n",
       "95      372616894   457167155  2019-08-22     20.2     B\n",
       "96     1170105516  2706377257  2019-08-01    140.8     A\n",
       "97     2012801741   414545763  2019-08-01     90.5     B\n",
       "98     1962247337  2706377257  2019-08-01    110.7     A\n",
       "99     2951489300   926057494  2019-08-01      5.6     A\n",
       "\n",
       "[100 rows x 5 columns]"
      ]
     },
     "execution_count": 3,
     "metadata": {},
     "output_type": "execute_result"
    }
   ],
   "source": [
    "# preview the loaded data\n",
    "orders.info()\n",
    "\n",
    "# return the top n- rows of dataframe\n",
    "orders.head(100)"
   ]
  },
  {
   "cell_type": "code",
   "execution_count": 4,
   "metadata": {},
   "outputs": [
    {
     "name": "stdout",
     "output_type": "stream",
     "text": [
      "<class 'pandas.core.frame.DataFrame'>\n",
      "RangeIndex: 62 entries, 0 to 61\n",
      "Data columns (total 3 columns):\n",
      "date      62 non-null object\n",
      "group     62 non-null object\n",
      "visits    62 non-null int64\n",
      "dtypes: int64(1), object(2)\n",
      "memory usage: 1.6+ KB\n"
     ]
    },
    {
     "data": {
      "text/html": [
       "<div>\n",
       "<style scoped>\n",
       "    .dataframe tbody tr th:only-of-type {\n",
       "        vertical-align: middle;\n",
       "    }\n",
       "\n",
       "    .dataframe tbody tr th {\n",
       "        vertical-align: top;\n",
       "    }\n",
       "\n",
       "    .dataframe thead th {\n",
       "        text-align: right;\n",
       "    }\n",
       "</style>\n",
       "<table border=\"1\" class=\"dataframe\">\n",
       "  <thead>\n",
       "    <tr style=\"text-align: right;\">\n",
       "      <th></th>\n",
       "      <th>date</th>\n",
       "      <th>group</th>\n",
       "      <th>visits</th>\n",
       "    </tr>\n",
       "  </thead>\n",
       "  <tbody>\n",
       "    <tr>\n",
       "      <td>0</td>\n",
       "      <td>2019-08-01</td>\n",
       "      <td>A</td>\n",
       "      <td>719</td>\n",
       "    </tr>\n",
       "    <tr>\n",
       "      <td>1</td>\n",
       "      <td>2019-08-02</td>\n",
       "      <td>A</td>\n",
       "      <td>619</td>\n",
       "    </tr>\n",
       "    <tr>\n",
       "      <td>2</td>\n",
       "      <td>2019-08-03</td>\n",
       "      <td>A</td>\n",
       "      <td>507</td>\n",
       "    </tr>\n",
       "    <tr>\n",
       "      <td>3</td>\n",
       "      <td>2019-08-04</td>\n",
       "      <td>A</td>\n",
       "      <td>717</td>\n",
       "    </tr>\n",
       "    <tr>\n",
       "      <td>4</td>\n",
       "      <td>2019-08-05</td>\n",
       "      <td>A</td>\n",
       "      <td>756</td>\n",
       "    </tr>\n",
       "    <tr>\n",
       "      <td>...</td>\n",
       "      <td>...</td>\n",
       "      <td>...</td>\n",
       "      <td>...</td>\n",
       "    </tr>\n",
       "    <tr>\n",
       "      <td>57</td>\n",
       "      <td>2019-08-27</td>\n",
       "      <td>B</td>\n",
       "      <td>720</td>\n",
       "    </tr>\n",
       "    <tr>\n",
       "      <td>58</td>\n",
       "      <td>2019-08-28</td>\n",
       "      <td>B</td>\n",
       "      <td>654</td>\n",
       "    </tr>\n",
       "    <tr>\n",
       "      <td>59</td>\n",
       "      <td>2019-08-29</td>\n",
       "      <td>B</td>\n",
       "      <td>531</td>\n",
       "    </tr>\n",
       "    <tr>\n",
       "      <td>60</td>\n",
       "      <td>2019-08-30</td>\n",
       "      <td>B</td>\n",
       "      <td>490</td>\n",
       "    </tr>\n",
       "    <tr>\n",
       "      <td>61</td>\n",
       "      <td>2019-08-31</td>\n",
       "      <td>B</td>\n",
       "      <td>718</td>\n",
       "    </tr>\n",
       "  </tbody>\n",
       "</table>\n",
       "<p>62 rows × 3 columns</p>\n",
       "</div>"
      ],
      "text/plain": [
       "          date group  visits\n",
       "0   2019-08-01     A     719\n",
       "1   2019-08-02     A     619\n",
       "2   2019-08-03     A     507\n",
       "3   2019-08-04     A     717\n",
       "4   2019-08-05     A     756\n",
       "..         ...   ...     ...\n",
       "57  2019-08-27     B     720\n",
       "58  2019-08-28     B     654\n",
       "59  2019-08-29     B     531\n",
       "60  2019-08-30     B     490\n",
       "61  2019-08-31     B     718\n",
       "\n",
       "[62 rows x 3 columns]"
      ]
     },
     "execution_count": 4,
     "metadata": {},
     "output_type": "execute_result"
    }
   ],
   "source": [
    "# preview the loaded data\n",
    "visits.info()\n",
    "\n",
    "# return the top n- rows of dataframe\n",
    "visits.head(100)"
   ]
  },
  {
   "cell_type": "markdown",
   "metadata": {},
   "source": [
    "### Conclusion:\n",
    "\n",
    "We checked the general information of 'hypotheses', 'orders', 'visits' datasets.\n",
    "Upon checking the data, we found that the datasets are much cleaner. We didn't find any big issues and discrepancies. \n",
    "However, there are few minor issues like renaming column names and converting date columns to DateTime which we will take care in the steps below.\n",
    "\n"
   ]
  },
  {
   "cell_type": "markdown",
   "metadata": {},
   "source": [
    "<div class=\"alert alert-block alert-success\">\n",
    "    <h2>Reviewer's commentary <a class=\"tocSkip\"> </h2>\n",
    "    <br/>\n",
    "<b>Well done!👍:</b> \n",
    "        \n",
    "Ok, Pranita, good job, you studied data in detail, let's move on!"
   ]
  },
  {
   "cell_type": "markdown",
   "metadata": {},
   "source": [
    "##  Step 2: Prepare the data \n",
    "In this step, we are viewing the data in more detail to convert them to the necessary types. Find and eliminate errors in the data "
   ]
  },
  {
   "cell_type": "code",
   "execution_count": 5,
   "metadata": {},
   "outputs": [
    {
     "data": {
      "text/html": [
       "<div>\n",
       "<style scoped>\n",
       "    .dataframe tbody tr th:only-of-type {\n",
       "        vertical-align: middle;\n",
       "    }\n",
       "\n",
       "    .dataframe tbody tr th {\n",
       "        vertical-align: top;\n",
       "    }\n",
       "\n",
       "    .dataframe thead th {\n",
       "        text-align: right;\n",
       "    }\n",
       "</style>\n",
       "<table border=\"1\" class=\"dataframe\">\n",
       "  <thead>\n",
       "    <tr style=\"text-align: right;\">\n",
       "      <th></th>\n",
       "      <th>hypothesis</th>\n",
       "      <th>reach</th>\n",
       "      <th>impact</th>\n",
       "      <th>confidence</th>\n",
       "      <th>effort</th>\n",
       "    </tr>\n",
       "  </thead>\n",
       "  <tbody>\n",
       "    <tr>\n",
       "      <td>0</td>\n",
       "      <td>Add two new channels for attracting traffic. T...</td>\n",
       "      <td>3</td>\n",
       "      <td>10</td>\n",
       "      <td>8</td>\n",
       "      <td>6</td>\n",
       "    </tr>\n",
       "    <tr>\n",
       "      <td>1</td>\n",
       "      <td>Launch your own delivery service. This will sh...</td>\n",
       "      <td>2</td>\n",
       "      <td>5</td>\n",
       "      <td>4</td>\n",
       "      <td>10</td>\n",
       "    </tr>\n",
       "    <tr>\n",
       "      <td>2</td>\n",
       "      <td>Add product recommendation blocks to the store...</td>\n",
       "      <td>8</td>\n",
       "      <td>3</td>\n",
       "      <td>7</td>\n",
       "      <td>3</td>\n",
       "    </tr>\n",
       "    <tr>\n",
       "      <td>3</td>\n",
       "      <td>Change the category structure. This will incre...</td>\n",
       "      <td>8</td>\n",
       "      <td>3</td>\n",
       "      <td>3</td>\n",
       "      <td>8</td>\n",
       "    </tr>\n",
       "    <tr>\n",
       "      <td>4</td>\n",
       "      <td>Change the background color on the main page. ...</td>\n",
       "      <td>3</td>\n",
       "      <td>1</td>\n",
       "      <td>1</td>\n",
       "      <td>1</td>\n",
       "    </tr>\n",
       "    <tr>\n",
       "      <td>5</td>\n",
       "      <td>Add a customer review page. This will increase...</td>\n",
       "      <td>3</td>\n",
       "      <td>2</td>\n",
       "      <td>2</td>\n",
       "      <td>3</td>\n",
       "    </tr>\n",
       "    <tr>\n",
       "      <td>6</td>\n",
       "      <td>Show banners with current offers and sales on ...</td>\n",
       "      <td>5</td>\n",
       "      <td>3</td>\n",
       "      <td>8</td>\n",
       "      <td>3</td>\n",
       "    </tr>\n",
       "    <tr>\n",
       "      <td>7</td>\n",
       "      <td>Add a subscription form to all the main pages....</td>\n",
       "      <td>10</td>\n",
       "      <td>7</td>\n",
       "      <td>8</td>\n",
       "      <td>5</td>\n",
       "    </tr>\n",
       "    <tr>\n",
       "      <td>8</td>\n",
       "      <td>Launch a promotion that gives users discounts ...</td>\n",
       "      <td>1</td>\n",
       "      <td>9</td>\n",
       "      <td>9</td>\n",
       "      <td>5</td>\n",
       "    </tr>\n",
       "  </tbody>\n",
       "</table>\n",
       "</div>"
      ],
      "text/plain": [
       "                                          hypothesis  reach  impact  \\\n",
       "0  Add two new channels for attracting traffic. T...      3      10   \n",
       "1  Launch your own delivery service. This will sh...      2       5   \n",
       "2  Add product recommendation blocks to the store...      8       3   \n",
       "3  Change the category structure. This will incre...      8       3   \n",
       "4  Change the background color on the main page. ...      3       1   \n",
       "5  Add a customer review page. This will increase...      3       2   \n",
       "6  Show banners with current offers and sales on ...      5       3   \n",
       "7  Add a subscription form to all the main pages....     10       7   \n",
       "8  Launch a promotion that gives users discounts ...      1       9   \n",
       "\n",
       "   confidence  effort  \n",
       "0           8       6  \n",
       "1           4      10  \n",
       "2           7       3  \n",
       "3           3       8  \n",
       "4           1       1  \n",
       "5           2       3  \n",
       "6           8       3  \n",
       "7           8       5  \n",
       "8           9       5  "
      ]
     },
     "metadata": {},
     "output_type": "display_data"
    }
   ],
   "source": [
    "# Converting column names to lower case \n",
    "\n",
    "#hypotheses['hypothesis'] = hypotheses['Hypothesis'].str.lower()\n",
    "hypotheses.rename(columns = {'Hypothesis':'hypothesis',\n",
    "                             'Reach':'reach',\n",
    "                             'Impact':'impact',\n",
    "                             'Confidence':'confidence',\n",
    "                             'Effort':'effort'}, inplace = True)\n",
    "display(hypotheses)"
   ]
  },
  {
   "cell_type": "code",
   "execution_count": 6,
   "metadata": {},
   "outputs": [
    {
     "name": "stdout",
     "output_type": "stream",
     "text": [
      "      transactionId   visitorId       date  revenue group\n",
      "0        3667963787  3312258926 2019-08-15     30.4     B\n",
      "1        2804400009  3642806036 2019-08-15     15.2     B\n",
      "2        2961555356  4069496402 2019-08-15     10.2     A\n",
      "3        3797467345  1196621759 2019-08-15    155.1     B\n",
      "4        2282983706  2322279887 2019-08-15     40.5     B\n",
      "...             ...         ...        ...      ...   ...\n",
      "1192     2662137336  3733762160 2019-08-14    100.8     B\n",
      "1193     2203539145   370388673 2019-08-14     50.1     A\n",
      "1194     1807773912   573423106 2019-08-14    165.3     A\n",
      "1195     1947021204  1614305549 2019-08-14      5.5     A\n",
      "1196     3936777065  2108080724 2019-08-15   3120.1     B\n",
      "\n",
      "[1197 rows x 5 columns]\n",
      "         date group  visits\n",
      "0  2019-08-01     A     719\n",
      "1  2019-08-02     A     619\n",
      "2  2019-08-03     A     507\n",
      "3  2019-08-04     A     717\n",
      "4  2019-08-05     A     756\n",
      "..        ...   ...     ...\n",
      "57 2019-08-27     B     720\n",
      "58 2019-08-28     B     654\n",
      "59 2019-08-29     B     531\n",
      "60 2019-08-30     B     490\n",
      "61 2019-08-31     B     718\n",
      "\n",
      "[62 rows x 3 columns]\n"
     ]
    }
   ],
   "source": [
    "# Converting date columns to datetime \n",
    "\n",
    "orders['date'] = pd.to_datetime(orders['date'])\n",
    "print(orders)\n",
    "\n",
    "visits['date'] = pd.to_datetime(visits['date'])\n",
    "print(visits)\n"
   ]
  },
  {
   "cell_type": "code",
   "execution_count": 7,
   "metadata": {},
   "outputs": [],
   "source": [
    "# Removing duplicates\n",
    "orders = orders.drop_duplicates()\n",
    "visits = visits.drop_duplicates()\n",
    "\n",
    "# drop any missing values if any\n",
    "orders = orders.dropna()\n",
    "visits = visits.dropna()\n"
   ]
  },
  {
   "cell_type": "code",
   "execution_count": 8,
   "metadata": {},
   "outputs": [
    {
     "name": "stdout",
     "output_type": "stream",
     "text": [
      "      transactionId   visitorId       date  revenue group\n",
      "2        2961555356  4069496402 2019-08-15     10.2     A\n",
      "20       2904772834   963407295 2019-08-15      5.6     B\n",
      "23       4252514150   351125977 2019-08-15    235.6     B\n",
      "24       1162046357  3234906277 2019-08-15    120.2     B\n",
      "26       2223239646   199603092 2019-08-15     55.7     A\n",
      "...             ...         ...        ...      ...   ...\n",
      "1182     2682156369  1668030113 2019-08-14     20.8     B\n",
      "1183     1458356232   963407295 2019-08-14     80.0     A\n",
      "1184     1329499668  2949041841 2019-08-14    160.7     B\n",
      "1189     4082620617   393266494 2019-08-14    490.4     B\n",
      "1195     1947021204  1614305549 2019-08-14      5.5     A\n",
      "\n",
      "[181 rows x 5 columns]\n"
     ]
    }
   ],
   "source": [
    "# Checking if some of the visitors might have gotten into both group A and group B.\n",
    "\n",
    "visitors_in_2groups = orders[orders.groupby('visitorId')['group'].transform('nunique') > 1]\n",
    "\n",
    "print(visitors_in_2groups)"
   ]
  },
  {
   "cell_type": "code",
   "execution_count": 9,
   "metadata": {},
   "outputs": [
    {
     "data": {
      "text/plain": [
       "B    548\n",
       "A    468\n",
       "Name: group, dtype: int64"
      ]
     },
     "execution_count": 9,
     "metadata": {},
     "output_type": "execute_result"
    }
   ],
   "source": [
    "# Removing duplicates\n",
    "orders.drop(orders[orders.groupby('visitorId')['group'].transform('nunique') > 1].index, inplace = True)\n",
    "\n",
    "orders.group.value_counts()"
   ]
  },
  {
   "cell_type": "markdown",
   "metadata": {},
   "source": [
    "#### Conclusion:\n",
    "181 visitors belong to both groups A and group B. A/B test must be performed between two independent groups. Hence, we filtered out the visitors that are in both groups."
   ]
  },
  {
   "cell_type": "markdown",
   "metadata": {},
   "source": [
    "<div class=\"alert alert-block alert-success\">\n",
    "    <h2>Reviewer's commentary <a class=\"tocSkip\"> </h2>\n",
    "    <br/>\n",
    "<b>Well done!👍:</b>\n",
    "\n",
    "Good job at this stage: the data have been opened and observed. I like your way as you have prepared the data for the following study.\n",
    "    \n",
    "Perfectly, you have checked the test participants who could take part in both groups. I agree with you that it is reasonable to drop them. But anyway, we have to work with aggregation data in the `visits` dataframe, and we cannot detect these users there. So, if we drop these users from the `orders` dataframe, we will decrease a little the conversion value. I guess it is not so important here because this is a training project, but in a real situation, we need more information.\n",
    "\n",
    "</div>"
   ]
  },
  {
   "cell_type": "markdown",
   "metadata": {},
   "source": [
    "<div class=\"alert alert-block alert-warning\">\n",
    "   <h2>Reviewer's commentary <a class=\"tocSkip\"> </h2>\n",
    "    <br/>\n",
    "<b>Remarks and recommendations📌:</b> \n",
    "\n",
    "We can customize the dataframe and display the hypotheses fully. To do this, use this setting after importing the pandas library: `pd.set_option('max_colwidth', 400)`"
   ]
  },
  {
   "cell_type": "markdown",
   "metadata": {},
   "source": [
    "### Part 1. Prioritizing Hypotheses"
   ]
  },
  {
   "cell_type": "markdown",
   "metadata": {},
   "source": [
    "#### Apply the ICE framework to prioritize hypotheses"
   ]
  },
  {
   "cell_type": "code",
   "execution_count": 10,
   "metadata": {},
   "outputs": [
    {
     "data": {
      "text/html": [
       "<div>\n",
       "<style scoped>\n",
       "    .dataframe tbody tr th:only-of-type {\n",
       "        vertical-align: middle;\n",
       "    }\n",
       "\n",
       "    .dataframe tbody tr th {\n",
       "        vertical-align: top;\n",
       "    }\n",
       "\n",
       "    .dataframe thead th {\n",
       "        text-align: right;\n",
       "    }\n",
       "</style>\n",
       "<table border=\"1\" class=\"dataframe\">\n",
       "  <thead>\n",
       "    <tr style=\"text-align: right;\">\n",
       "      <th></th>\n",
       "      <th>hypothesis</th>\n",
       "      <th>ICE</th>\n",
       "    </tr>\n",
       "  </thead>\n",
       "  <tbody>\n",
       "    <tr>\n",
       "      <td>8</td>\n",
       "      <td>Launch a promotion that gives users discounts ...</td>\n",
       "      <td>16.200000</td>\n",
       "    </tr>\n",
       "    <tr>\n",
       "      <td>0</td>\n",
       "      <td>Add two new channels for attracting traffic. T...</td>\n",
       "      <td>13.333333</td>\n",
       "    </tr>\n",
       "    <tr>\n",
       "      <td>7</td>\n",
       "      <td>Add a subscription form to all the main pages....</td>\n",
       "      <td>11.200000</td>\n",
       "    </tr>\n",
       "    <tr>\n",
       "      <td>6</td>\n",
       "      <td>Show banners with current offers and sales on ...</td>\n",
       "      <td>8.000000</td>\n",
       "    </tr>\n",
       "    <tr>\n",
       "      <td>2</td>\n",
       "      <td>Add product recommendation blocks to the store...</td>\n",
       "      <td>7.000000</td>\n",
       "    </tr>\n",
       "    <tr>\n",
       "      <td>1</td>\n",
       "      <td>Launch your own delivery service. This will sh...</td>\n",
       "      <td>2.000000</td>\n",
       "    </tr>\n",
       "    <tr>\n",
       "      <td>5</td>\n",
       "      <td>Add a customer review page. This will increase...</td>\n",
       "      <td>1.333333</td>\n",
       "    </tr>\n",
       "    <tr>\n",
       "      <td>3</td>\n",
       "      <td>Change the category structure. This will incre...</td>\n",
       "      <td>1.125000</td>\n",
       "    </tr>\n",
       "    <tr>\n",
       "      <td>4</td>\n",
       "      <td>Change the background color on the main page. ...</td>\n",
       "      <td>1.000000</td>\n",
       "    </tr>\n",
       "  </tbody>\n",
       "</table>\n",
       "</div>"
      ],
      "text/plain": [
       "                                          hypothesis        ICE\n",
       "8  Launch a promotion that gives users discounts ...  16.200000\n",
       "0  Add two new channels for attracting traffic. T...  13.333333\n",
       "7  Add a subscription form to all the main pages....  11.200000\n",
       "6  Show banners with current offers and sales on ...   8.000000\n",
       "2  Add product recommendation blocks to the store...   7.000000\n",
       "1  Launch your own delivery service. This will sh...   2.000000\n",
       "5  Add a customer review page. This will increase...   1.333333\n",
       "3  Change the category structure. This will incre...   1.125000\n",
       "4  Change the background color on the main page. ...   1.000000"
      ]
     },
     "metadata": {},
     "output_type": "display_data"
    }
   ],
   "source": [
    "# for each row, applying formula = (impact * confidence) / effort\n",
    "\n",
    "hypotheses['ICE'] = (hypotheses['impact']*hypotheses['confidence'])/hypotheses['effort']\n",
    "\n",
    "display(hypotheses[['hypothesis','ICE']].sort_values(by='ICE', ascending=False))\n"
   ]
  },
  {
   "cell_type": "markdown",
   "metadata": {},
   "source": [
    "#### Conclusion:\n",
    "The most promising hypotheses are 8, 0, and 7 as they have highest ICE scores above 11 whereas hypotheses 4 has least score."
   ]
  },
  {
   "cell_type": "markdown",
   "metadata": {},
   "source": [
    "#### Apply the RICE framework to prioritize hypotheses"
   ]
  },
  {
   "cell_type": "code",
   "execution_count": 11,
   "metadata": {
    "scrolled": true
   },
   "outputs": [
    {
     "data": {
      "text/html": [
       "<div>\n",
       "<style scoped>\n",
       "    .dataframe tbody tr th:only-of-type {\n",
       "        vertical-align: middle;\n",
       "    }\n",
       "\n",
       "    .dataframe tbody tr th {\n",
       "        vertical-align: top;\n",
       "    }\n",
       "\n",
       "    .dataframe thead th {\n",
       "        text-align: right;\n",
       "    }\n",
       "</style>\n",
       "<table border=\"1\" class=\"dataframe\">\n",
       "  <thead>\n",
       "    <tr style=\"text-align: right;\">\n",
       "      <th></th>\n",
       "      <th>hypothesis</th>\n",
       "      <th>RICE</th>\n",
       "    </tr>\n",
       "  </thead>\n",
       "  <tbody>\n",
       "    <tr>\n",
       "      <td>7</td>\n",
       "      <td>Add a subscription form to all the main pages....</td>\n",
       "      <td>112.0</td>\n",
       "    </tr>\n",
       "    <tr>\n",
       "      <td>2</td>\n",
       "      <td>Add product recommendation blocks to the store...</td>\n",
       "      <td>56.0</td>\n",
       "    </tr>\n",
       "    <tr>\n",
       "      <td>0</td>\n",
       "      <td>Add two new channels for attracting traffic. T...</td>\n",
       "      <td>40.0</td>\n",
       "    </tr>\n",
       "    <tr>\n",
       "      <td>6</td>\n",
       "      <td>Show banners with current offers and sales on ...</td>\n",
       "      <td>40.0</td>\n",
       "    </tr>\n",
       "    <tr>\n",
       "      <td>8</td>\n",
       "      <td>Launch a promotion that gives users discounts ...</td>\n",
       "      <td>16.2</td>\n",
       "    </tr>\n",
       "    <tr>\n",
       "      <td>3</td>\n",
       "      <td>Change the category structure. This will incre...</td>\n",
       "      <td>9.0</td>\n",
       "    </tr>\n",
       "    <tr>\n",
       "      <td>1</td>\n",
       "      <td>Launch your own delivery service. This will sh...</td>\n",
       "      <td>4.0</td>\n",
       "    </tr>\n",
       "    <tr>\n",
       "      <td>5</td>\n",
       "      <td>Add a customer review page. This will increase...</td>\n",
       "      <td>4.0</td>\n",
       "    </tr>\n",
       "    <tr>\n",
       "      <td>4</td>\n",
       "      <td>Change the background color on the main page. ...</td>\n",
       "      <td>3.0</td>\n",
       "    </tr>\n",
       "  </tbody>\n",
       "</table>\n",
       "</div>"
      ],
      "text/plain": [
       "                                          hypothesis   RICE\n",
       "7  Add a subscription form to all the main pages....  112.0\n",
       "2  Add product recommendation blocks to the store...   56.0\n",
       "0  Add two new channels for attracting traffic. T...   40.0\n",
       "6  Show banners with current offers and sales on ...   40.0\n",
       "8  Launch a promotion that gives users discounts ...   16.2\n",
       "3  Change the category structure. This will incre...    9.0\n",
       "1  Launch your own delivery service. This will sh...    4.0\n",
       "5  Add a customer review page. This will increase...    4.0\n",
       "4  Change the background color on the main page. ...    3.0"
      ]
     },
     "metadata": {},
     "output_type": "display_data"
    }
   ],
   "source": [
    "\n",
    "# for each row, applying formula RICE = (impact * confidence * reach) / effort\n",
    "\n",
    "hypotheses['RICE'] = (hypotheses['reach']*hypotheses['impact']*hypotheses['confidence'])/hypotheses['effort']\n",
    "\n",
    "# sort in descending order\n",
    "display(hypotheses[['hypothesis','RICE']].sort_values(by='RICE', ascending=False))"
   ]
  },
  {
   "cell_type": "markdown",
   "metadata": {},
   "source": [
    "#### Conclusion:\n",
    "Hypotheses 7,2, 0, and 6 have highest RICE score whereas hypothesis 4 has least score. The prioritization of hypotheses changed when we use RICE instead of ICE.\n"
   ]
  },
  {
   "cell_type": "markdown",
   "metadata": {},
   "source": [
    "### Show how the prioritization of hypotheses changes when you use RICE instead of ICE"
   ]
  },
  {
   "cell_type": "code",
   "execution_count": 12,
   "metadata": {
    "scrolled": false
   },
   "outputs": [
    {
     "data": {
      "image/png": "[encoded data removed]",
      "text/plain": [
       "<Figure size 576x432 with 1 Axes>"
      ]
     },
     "metadata": {
      "needs_background": "light"
     },
     "output_type": "display_data"
    }
   ],
   "source": [
    "# Plot the figure.\n",
    "\n",
    "ax = hypotheses[['hypothesis','ICE','RICE']].plot(kind='bar',stacked=False, figsize=(8,6))\n",
    "\n",
    "for p in ax.patches:\n",
    "    ax.annotate(str(p.get_height().round()), (p.get_x() * 1.005, p.get_height() * 1.005), rotation=90)\n",
    "    \n",
    "plt.title('ICE vs RICE ')\n",
    "plt.xlabel('Hypotheses')\n",
    "plt.ylabel('ICE/RICE Score')\n",
    "plt.show()"
   ]
  },
  {
   "cell_type": "markdown",
   "metadata": {},
   "source": [
    "#### Conclusion:\n",
    "RICE is a framework for prioritizing product ideas and features. The abbreviation includes 4 factors that the product manager can safely use to evaluate and prioritize product features:\n",
    "Reach - coverage\n",
    "Impact - Impact\n",
    "Confidence - confidence in your assessment of coverage, impact and labor.\n",
    "Effort - labor costs\n",
    "We calculate ICE score using following formula\n",
    "ICE = (Reach) * (Confidence) * (Effort)/Impact\n",
    "\n",
    "ICE is a framework for selecting feature work based on 3 key dimensions, enabling teams to make better decisions on what features work to prioritise:\n",
    "Impact - How much will this change our business (if it works)\n",
    "Confidence - How confident are we that this will work?\n",
    "Ease - How much work is it to implement?\n",
    "We calculate ICE score using following formula\n",
    "ICE = (Impact) * (Confidence) * (Ease)\n",
    "\n",
    "The difference between ICE and RICE frameworks is the reach parameter, which estimates how many customers will be reached using polling. This parameters adds another factor to the framework, making RICE scores higher than ICE scores. As such, the RICE framework will be impacted by the reach factor and the RICE score will be skewed accordingly.\n",
    "\n",
    "According to the plotting above, hypotheses 7 score is the clear winner in both ICE and RICE scores and should be prioritised. Hypotheses 1,3,4, and 5 scores low in both ICE and RICE.\n",
    "\n",
    "In ICE, hypotheses 8 was the highest but it is only 5th with the RICE scores. hypotheses 7 was 3rd in ICE but on top and twice as much score as hypotheses 2. The differences are due to the Reach values of the hypotheses. The hypotheses with higher reach, impact, and confidence, and comparatively lower effort have comparatively higher RICE score, for instance, hypothsis 7 which is 3rd highest in ICE but jumped up to the highest rank in RICE because it's reach is high.\n"
   ]
  },
  {
   "cell_type": "code",
   "execution_count": 13,
   "metadata": {
    "scrolled": true
   },
   "outputs": [
    {
     "data": {
      "image/png": "[encoded data removed]",
      "text/plain": [
       "<Figure size 720x576 with 1 Axes>"
      ]
     },
     "metadata": {
      "needs_background": "light"
     },
     "output_type": "display_data"
    }
   ],
   "source": [
    "# Scatter plot to visualize ICE and RICE\n",
    "\n",
    "x = hypotheses['ICE'].values\n",
    "y = hypotheses['RICE'].values\n",
    "types = hypotheses.index.values\n",
    "\n",
    "fig, ax = plt.subplots(figsize=(10,8))\n",
    "ax.scatter(x, y)\n",
    "\n",
    "ax.set_xlabel('ICE', fontsize=14)\n",
    "ax.set_ylabel('RICE', fontsize=14)\n",
    "ax.set_title('ICE Vs RICE', fontsize=14)\n",
    "\n",
    "for i, txt in enumerate(types):\n",
    "    ax.annotate(txt, (x[i], y[i]), xytext=(10,10), textcoords='offset points')\n",
    "    plt.scatter(x, y, marker='x', color='blue')"
   ]
  },
  {
   "cell_type": "markdown",
   "metadata": {},
   "source": [
    "#### Conclusion:\n",
    "From the scatter plot above, we can conclude that, hypothesis 7 scores higher in both ICE and RICE, hypothesis 8 only scores higher in ICE. Hypothesis 1,3,4, and 5 scores low in both ICE and RICE."
   ]
  },
  {
   "cell_type": "markdown",
   "metadata": {},
   "source": [
    "<div class=\"alert alert-block alert-success\">\n",
    "    <h2>Reviewer's commentary <a class=\"tocSkip\"> </h2>\n",
    "    <br/>\n",
    "<b>Well done!👍:</b>\n",
    "\n",
    "It is a good example of how the `reach factor` influences the hypotheses to rank within the `RICE` framework compared to the `ICE` one. You have provided informative plots that allow us to compare the results of the two frameworks."
   ]
  },
  {
   "cell_type": "markdown",
   "metadata": {},
   "source": [
    "<div class=\"alert alert-block alert-warning\">\n",
    "   <h2>Reviewer's commentary <a class=\"tocSkip\"> </h2>\n",
    "    <br/>\n",
    "<b>Remarks and recommendations📌:</b>\n",
    "       \n",
    "As a recommendation: the project will be better if you add here a brief description of two frameworks."
   ]
  },
  {
   "cell_type": "markdown",
   "metadata": {},
   "source": [
    "<div class=\"alert alert-block alert-warning\">\n",
    "   <h2>Reviewer's commentary <a class=\"tocSkip\"> </h2>\n",
    "    <br/>\n",
    "<b>Remarks and recommendations📌:</b>\n",
    "\n",
    "As a recommendation: we could also compare frameworks values by plotting the `ICE/RICE` scatter plot or another kind of graph. "
   ]
  },
  {
   "cell_type": "markdown",
   "metadata": {},
   "source": [
    "<div class=\"alert alert-block alert-success\">\n",
    "    <h2>Reviewer's commentary <a class=\"tocSkip\"> </h2>\n",
    "    <br/>\n",
    "<b>Well done!👍:</b> \n",
    "        \n",
    "Ok, you managed to create a rather informative scatter plot, keep it up!"
   ]
  },
  {
   "cell_type": "markdown",
   "metadata": {},
   "source": [
    "### Part 2. A/B Test Analysis\n"
   ]
  },
  {
   "cell_type": "markdown",
   "metadata": {},
   "source": [
    "### Plot cumulative revenue by group graph. Make conclusions and conjectures."
   ]
  },
  {
   "cell_type": "code",
   "execution_count": 14,
   "metadata": {
    "scrolled": true
   },
   "outputs": [
    {
     "name": "stdout",
     "output_type": "stream",
     "text": [
      "        date group  orders  buyers  revenue  visitors\n",
      "0 2019-08-01     A      23      19   2266.6       719\n",
      "1 2019-08-01     B      17      17    967.2       713\n",
      "2 2019-08-02     A      42      36   3734.9      1338\n",
      "3 2019-08-02     B      40      39   3535.3      1294\n",
      "4 2019-08-03     A      66      60   5550.1      1845\n"
     ]
    },
    {
     "data": {
      "image/png": "[encoded data removed]",
      "text/plain": [
       "<Figure size 432x288 with 1 Axes>"
      ]
     },
     "metadata": {
      "needs_background": "light"
     },
     "output_type": "display_data"
    }
   ],
   "source": [
    "#print(visits.head(5))\n",
    "#print(orders.head(5))\n",
    "# building an array with unique paired date-group values\n",
    "revenueGroup = orders[['date','group']].copy()\n",
    "\n",
    "revenueGroup = revenueGroup.drop_duplicates()\n",
    "\n",
    "# getting aggregated cumulative daily data on orders \n",
    "ordersAggregated = revenueGroup.apply(lambda x: orders[np.logical_and(orders['date'] <= x['date'], orders['group'] == x['group'])].agg({'date' : 'max', 'group' : 'max', 'transactionId' : pd.Series.nunique, 'visitorId' : pd.Series.nunique, 'revenue' : 'sum'}), axis=1).sort_values(by=['date','group'])\n",
    "\n",
    "# getting aggregated cumulative daily data on visitors  \n",
    "visitorsAggregated = revenueGroup.apply(lambda x: visits[np.logical_and(visits['date'] <= x['date'], visits['group'] == x['group'])].agg({'date' : 'max', 'group' : 'max', 'visits' : 'sum'}), axis=1).sort_values(by=['date','group'])\n",
    "\n",
    "# merging the two tables into one and giving its columns descriptive names\n",
    "cumulativeData = ordersAggregated.merge(visitorsAggregated, left_on=['date', 'group'], right_on=['date', 'group'])\n",
    "cumulativeData.columns = ['date', 'group', 'orders', 'buyers', 'revenue', 'visitors']\n",
    "\n",
    "print(cumulativeData.head(5)) \n",
    "\n",
    "# cumulative orders and cumulative revenue by day for groups A/B\n",
    "cumulativeRevenueA = cumulativeData[cumulativeData['group'] == 'A'][['date','revenue','orders']]\n",
    "cumulativeRevenueB = cumulativeData[cumulativeData['group'] == 'B'][['date','revenue','orders']]\n",
    "\n",
    "\n",
    "# Plotting the group A revenue graph \n",
    "plt.plot(cumulativeRevenueA['date'], cumulativeRevenueA['revenue'], label='A')\n",
    "\n",
    "# Plotting the group B revenue graph \n",
    "plt.plot(cumulativeRevenueB['date'], cumulativeRevenueB['revenue'], label='B')\n",
    "\n",
    "plt.legend() \n",
    "plt.title('Cumulative Revenue by Group over Time')\n",
    "plt.xlabel('Time')\n",
    "plt.ylabel('Cumulative Revenue')\n",
    "plt.xticks(rotation=90)\n",
    "plt.show()"
   ]
  },
  {
   "cell_type": "markdown",
   "metadata": {},
   "source": [
    "#### Conclusion:\n",
    "Based on the plot above, the cumulative revenue for both groups raised steadily throughout the whole test. However, in 2019, group B spiked in revenue at certain points which is after August 17. The cumulative revenue of group B increased and kept increasing upward.\n"
   ]
  },
  {
   "cell_type": "markdown",
   "metadata": {},
   "source": [
    "### Plot cumulative average order size by group graph. Make conclusions and conjectures."
   ]
  },
  {
   "cell_type": "code",
   "execution_count": 15,
   "metadata": {},
   "outputs": [
    {
     "data": {
      "image/png": "[encoded data removed]",
      "text/plain": [
       "<Figure size 432x288 with 1 Axes>"
      ]
     },
     "metadata": {
      "needs_background": "light"
     },
     "output_type": "display_data"
    }
   ],
   "source": [
    "# diving the revenue by the cumulative number of orders\n",
    "plt.plot(cumulativeRevenueA['date'], cumulativeRevenueA['revenue']/cumulativeRevenueA['orders'], label='A')\n",
    "plt.plot(cumulativeRevenueB['date'], cumulativeRevenueB['revenue']/cumulativeRevenueB['orders'], label='B')\n",
    "\n",
    "# adding the X axis\n",
    "plt.axhline(y=0, color='black', linestyle='--') \n",
    "plt.axhline(y=100, color='black', linestyle='--')\n",
    "plt.legend()\n",
    "plt.title('Average Purchase Size by Group over Time')\n",
    "plt.xlabel('Time')\n",
    "plt.ylabel('Average Number of Orders')\n",
    "plt.xticks(rotation=90)\n",
    "plt.show()"
   ]
  },
  {
   "cell_type": "markdown",
   "metadata": {},
   "source": [
    "#### Conclusion:\n",
    "Based on the plotting above, both the groups have fluctuating average order sizes. After August 21, 2019, both the lines become a bit steady. There is a big spike in average order for Group B at a certain point whereas group A fell lower a bit at the start and slowly picked up. However, The average order size of Group B is much higher than group A. Group A is far below group B."
   ]
  },
  {
   "cell_type": "markdown",
   "metadata": {},
   "source": [
    "### Plot the relative difference in cumulative average order size for group B compared with group A graph. Make conclusions and conjectures."
   ]
  },
  {
   "cell_type": "code",
   "execution_count": 16,
   "metadata": {
    "scrolled": true
   },
   "outputs": [
    {
     "data": {
      "image/png": "[encoded data removed]",
      "text/plain": [
       "<Figure size 432x288 with 1 Axes>"
      ]
     },
     "metadata": {
      "needs_background": "light"
     },
     "output_type": "display_data"
    }
   ],
   "source": [
    "# gathering the data into one DataFrame\n",
    "mergedCumulativeRevenue = cumulativeRevenueA.merge(cumulativeRevenueB, left_on='date', right_on='date', how='left', suffixes=['A', 'B'])\n",
    "\n",
    "# plotting a relative difference graph for the average purchase sizes\n",
    "plt.plot(mergedCumulativeRevenue['date'], mergedCumulativeRevenue['revenueA'] / mergedCumulativeRevenue['ordersA'] -1, label='A')\n",
    "plt.plot(mergedCumulativeRevenue['date'], mergedCumulativeRevenue['revenueB'] / mergedCumulativeRevenue['ordersB'] -1, label='B')\n",
    "\n",
    "\n",
    "# adding the X axis\n",
    "plt.axhline(y=0, color='black', linestyle='--') \n",
    "plt.legend()\n",
    "plt.title('Relative Difference in Cumulative Average Order Size for groupB compared with groupA')\n",
    "plt.xlabel('Time')\n",
    "plt.ylabel('Average Order Size')\n",
    "plt.xticks(rotation=90)\n",
    "plt.show()"
   ]
  },
  {
   "cell_type": "markdown",
   "metadata": {},
   "source": [
    "#### Conclusion:\n",
    "Based on the plotting above, group B started with a jump and between August 17, 2019 and August 21,2019, there was a sudden jump in average order size where as group A fell slightly for few months and slowly picked up. There were many fluctuations for both the groups but compare to group B, group A has much better average order size.\n"
   ]
  },
  {
   "cell_type": "code",
   "execution_count": 17,
   "metadata": {
    "scrolled": true
   },
   "outputs": [
    {
     "data": {
      "image/png": "[encoded data removed]",
      "text/plain": [
       "<Figure size 720x432 with 1 Axes>"
      ]
     },
     "metadata": {
      "needs_background": "light"
     },
     "output_type": "display_data"
    }
   ],
   "source": [
    "#(Added) Relative Difference in Cumulative Average Order Size\n",
    "\n",
    "mergedCumulativeRevenue = cumulativeRevenueA.merge(cumulativeRevenueB, left_on='date', right_on='date', how='left', suffixes=['A', 'B'])\n",
    "\n",
    "fig, ax = plt.subplots()\n",
    "fig.set_size_inches(10,6)\n",
    "plt.plot(mergedCumulativeRevenue['date'], (mergedCumulativeRevenue['revenueB']/mergedCumulativeRevenue['ordersB'])/(mergedCumulativeRevenue['revenueA']/mergedCumulativeRevenue['ordersA'])-1)\n",
    "\n",
    "ax.set_title(\"Relative Difference in Cumulative Average Order Size\", fontdict={\"size\":14})\n",
    "plt.xlabel(\"Date\", fontdict={\"size\":14})\n",
    "plt.ylabel(\"Relative Difference\", fontdict={\"size\":14})\n",
    "plt.axhline(y=0, color='black', linestyle='--')\n",
    "plt.xticks(rotation=45)\n",
    "plt.show()"
   ]
  },
  {
   "cell_type": "markdown",
   "metadata": {},
   "source": [
    "### Conclusion:\n",
    "On the plot above, we saw several ups and downs, i.e. the difference between the segments spikes from below -0.4 to above 0.5. This means there must be some big orders and outliers or abnormally large purchases."
   ]
  },
  {
   "attachments": {
    "image-3.png": {
     "image/png": "[encoded data removed]"
    }
   },
   "cell_type": "markdown",
   "metadata": {},
   "source": [
    "<div class=\"alert alert-block alert-danger\">\n",
    "    <h2>Reviewer's commentary <a class=\"tocSkip\"> </h2>\n",
    "    <br/>\n",
    "<b>Needs fixing!🤔:</b> \n",
    "        \n",
    "Pranita, pay more attention to this plot: it is the same as the one above, you need to get next plots here:\n",
    "        \n",
    "![image-3.png](attachment:image-3.png)\n",
    "        \n"
   ]
  },
  {
   "cell_type": "markdown",
   "metadata": {},
   "source": [
    "<div class=\"alert alert-block alert-success\">\n",
    "    <h2>Reviewer's commentary: second iteration of the review <a class=\"tocSkip\"> </h2>\n",
    "    <br/>\n",
    "<b>Well done!👍:</b> \n",
    "        \n",
    "Correct plot!"
   ]
  },
  {
   "cell_type": "markdown",
   "metadata": {},
   "source": [
    "\n",
    "### Calculate each group's conversion rate as the ratio of orders to the number of visits for each day. \n",
    "\n",
    "### Plot the daily conversion rates of the two groups and describe the difference. Draw conclusions and make conjectures."
   ]
  },
  {
   "cell_type": "code",
   "execution_count": 18,
   "metadata": {
    "scrolled": true
   },
   "outputs": [
    {
     "data": {
      "image/png": "[encoded data removed]",
      "text/plain": [
       "<Figure size 432x288 with 1 Axes>"
      ]
     },
     "metadata": {
      "needs_background": "light"
     },
     "output_type": "display_data"
    }
   ],
   "source": [
    "# calculating cumulative conversion\n",
    "cumulativeData['conversion'] = cumulativeData['orders']/cumulativeData['visitors']\n",
    "\n",
    "# selecting data on group A \n",
    "cumulativeDataA = cumulativeData[cumulativeData['group']=='A']\n",
    "\n",
    "# selecting data on group B\n",
    "cumulativeDataB = cumulativeData[cumulativeData['group']=='B']\n",
    "\n",
    "mergedCumulativeConversions = cumulativeDataA[['date','conversion']].merge(cumulativeDataB[['date','conversion']], left_on='date', right_on='date', how='left', suffixes=['A', 'B'])\n",
    "\n",
    "# plotting the graphs\n",
    "plt.plot(cumulativeDataA['date'], cumulativeDataA['conversion'], label='A')\n",
    "plt.plot(cumulativeDataB['date'], cumulativeDataB['conversion'], label='B')\n",
    "\n",
    "plt.legend()\n",
    "plt.title('Conversion Rate')\n",
    "plt.xlabel('Date')\n",
    "plt.ylabel('Relative Difference')\n",
    "plt.xticks(rotation=90)\n",
    "plt.show()"
   ]
  },
  {
   "cell_type": "markdown",
   "metadata": {},
   "source": [
    "### Conclusion:\n",
    "Based on the plotting above, the conversion rate of both groups was very fluctuating. Group B started with a much higher spike at start. After few days, group A went down and Group B took over and lead till the end of the test.  "
   ]
  },
  {
   "cell_type": "code",
   "execution_count": 19,
   "metadata": {
    "scrolled": true
   },
   "outputs": [
    {
     "data": {
      "image/png": "[encoded data removed]",
      "text/plain": [
       "<Figure size 720x432 with 1 Axes>"
      ]
     },
     "metadata": {
      "needs_background": "light"
     },
     "output_type": "display_data"
    }
   ],
   "source": [
    "# (Added)Relative Difference in Conversion Rate of the groups\n",
    "mergedCumulativeConversions = cumulativeDataA[['date','conversion']].merge(cumulativeDataB[['date','conversion']], left_on='date', right_on='date', how='left', suffixes=['A', 'B'])\n",
    "\n",
    "mergedCumulativeConversions['conversionB'] = mergedCumulativeConversions.query('date > \"2019-08-10\"')['conversionB']\n",
    "mergedCumulativeConversions['conversionA'] = mergedCumulativeConversions.query('date > \"2019-08-10\"')['conversionA']\n",
    "\n",
    "fig, ax = plt.subplots()\n",
    "fig.set_size_inches(10,6)\n",
    "\n",
    "\n",
    "plt.plot(mergedCumulativeConversions['date'],(mergedCumulativeConversions['conversionB']/\n",
    "    mergedCumulativeConversions['conversionA']-1))\n",
    "\n",
    "\n",
    "ax.set_title(\"Relative Difference in Conversion Rate of the groups\", fontdict={\"size\":14})\n",
    "plt.xlabel(\"Date\", fontdict={\"size\":14})\n",
    "plt.ylabel(\"Relative Difference\", fontdict={\"size\":14})\n",
    "plt.axhline(y=0, color='black', linestyle='--')\n",
    "plt.xticks(rotation=45)\n",
    "plt.show()"
   ]
  },
  {
   "cell_type": "markdown",
   "metadata": {},
   "source": [
    "### Conclusion:\n",
    "The relative difference in conversion rate does not show high fluctuation after 2019-08-10. Hence, we are considering data only after 2019-08-10 as it could be considered close to stable.\n",
    "\n",
    "Based on the plotting, the difference between the segments fluctuate between 0.15 and 0.20.\n"
   ]
  },
  {
   "attachments": {
    "image.png": {
     "image/png": "[encoded data removed]"
    }
   },
   "cell_type": "markdown",
   "metadata": {},
   "source": [
    "<div class=\"alert alert-block alert-danger\">\n",
    "    <h2>Reviewer's commentary <a class=\"tocSkip\"> </h2>\n",
    "    <br/>\n",
    "<b>Needs fixing!🤔:</b> \n",
    "        \n",
    "Pranita, one plot is need to be plotted here:\n",
    "        \n",
    "![image.png](attachment:image.png)\n",
    "        \n",
    "At such plots we could also add the line shown the relative difference in conversion rate using calculations. For example, we could see that since 2019-08-10, the relative difference in conversion rate does not show high fluctuation and could be considered close to stable. So, we can add the next calculations:\n",
    "    \n",
    "```python\n",
    "line = (mergedCumulativeConversions.query('date > \"2019-08-10\"')['conversionB']/\n",
    "    mergedCumulativeConversions.query('date > \"2019-08-10\"')['conversionA']-1).mean()\n",
    "plt.axhline(y=line, color='red', linestyle='--');\n",
    "   \n",
    "```   "
   ]
  },
  {
   "cell_type": "markdown",
   "metadata": {},
   "source": [
    "<div class=\"alert alert-block alert-success\">\n",
    "    <h2>Reviewer's commentary: second iteration of the review <a class=\"tocSkip\"> </h2>\n",
    "    <br/>\n",
    "<b>Well done!👍</b> "
   ]
  },
  {
   "cell_type": "markdown",
   "metadata": {},
   "source": [
    "### Plot a scatter chart of the number of orders per user. Make conclusions and conjectures."
   ]
  },
  {
   "cell_type": "code",
   "execution_count": 20,
   "metadata": {},
   "outputs": [
    {
     "name": "stdout",
     "output_type": "stream",
     "text": [
      "      transactionId   visitorId       date  revenue group\n",
      "0        3667963787  3312258926 2019-08-15     30.4     B\n",
      "1        2804400009  3642806036 2019-08-15     15.2     B\n",
      "3        3797467345  1196621759 2019-08-15    155.1     B\n",
      "4        2282983706  2322279887 2019-08-15     40.5     B\n",
      "5         182168103   935554773 2019-08-15     35.0     B\n",
      "...             ...         ...        ...      ...   ...\n",
      "1191     3592955527   608641596 2019-08-14    255.7     B\n",
      "1192     2662137336  3733762160 2019-08-14    100.8     B\n",
      "1193     2203539145   370388673 2019-08-14     50.1     A\n",
      "1194     1807773912   573423106 2019-08-14    165.3     A\n",
      "1196     3936777065  2108080724 2019-08-15   3120.1     B\n",
      "\n",
      "[1016 rows x 5 columns]\n"
     ]
    }
   ],
   "source": [
    "print(orders)"
   ]
  },
  {
   "cell_type": "code",
   "execution_count": 21,
   "metadata": {
    "scrolled": false
   },
   "outputs": [
    {
     "data": {
      "image/png": "[encoded data removed]",
      "text/plain": [
       "<Figure size 720x432 with 1 Axes>"
      ]
     },
     "metadata": {
      "needs_background": "light"
     },
     "output_type": "display_data"
    }
   ],
   "source": [
    "ordersByUsers = orders.groupby('visitorId', as_index=False).agg({'transactionId':pd.Series.nunique})\n",
    "ordersByUsers.columns = ['userId', 'no_of_orders']\n",
    "\n",
    "# drop any duplicates\n",
    "ordersByUsers = ordersByUsers.drop_duplicates()\n",
    "# sort data by number of orders in descending orders\n",
    "ordersByUsers = ordersByUsers.sort_values(by='no_of_orders', ascending=False)\n",
    "#print(ordersByUsers)\n",
    "\n",
    "fig, ax = plt.subplots()\n",
    "fig.set_size_inches(10,6)\n",
    "x_values = pd.Series(range(0,len(ordersByUsers)))\n",
    "plt.scatter(x_values, ordersByUsers['no_of_orders']) \n",
    "ax.set_title(\"Orders per User\", fontdict={\"size\":14})\n",
    "plt.xlabel(\"Number of Generated Observations\", fontdict={\"size\":14})\n",
    "plt.ylabel(\"Number of Orders\", fontdict={\"size\":14})\n",
    "plt.show()"
   ]
  },
  {
   "cell_type": "markdown",
   "metadata": {},
   "source": [
    "### Conclusion:\n",
    "Based on plotting above, the number of orders per user is mostly 1 or 2 orders. Very few users order above 3 or 4 units."
   ]
  },
  {
   "cell_type": "markdown",
   "metadata": {},
   "source": [
    "### Calculate the 95th and 99th percentiles for the number of orders per user. Define the point at which a data point becomes an anomaly."
   ]
  },
  {
   "cell_type": "code",
   "execution_count": 22,
   "metadata": {},
   "outputs": [
    {
     "name": "stdout",
     "output_type": "stream",
     "text": [
      "[1. 2.]\n"
     ]
    }
   ],
   "source": [
    "print(np.percentile(ordersByUsers['no_of_orders'], [95,99]))"
   ]
  },
  {
   "cell_type": "markdown",
   "metadata": {},
   "source": [
    "#### Conclusion:\n",
    "Based on percentile calculations above, 95% of the observations are within 1 order per user and 99% of observations are within 2 orders per user. Hence, filtering out the number of orders is greater than 2 orders would be the point at which the data value becomes an anomaly."
   ]
  },
  {
   "cell_type": "markdown",
   "metadata": {},
   "source": [
    "### Plot a scatter chart of order prices. Make conclusions and conjectures."
   ]
  },
  {
   "cell_type": "code",
   "execution_count": 23,
   "metadata": {
    "scrolled": false
   },
   "outputs": [
    {
     "data": {
      "image/png": "[encoded data removed]",
      "text/plain": [
       "<Figure size 432x288 with 1 Axes>"
      ]
     },
     "metadata": {
      "needs_background": "light"
     },
     "output_type": "display_data"
    }
   ],
   "source": [
    "#print(visits)\n",
    "# group the orders by users\n",
    "\n",
    "ordersByPrices= orders.groupby('visitorId', as_index=False).agg({'revenue':'sum'})\n",
    "ordersByPrices.columns = ['userId', 'revenue']\n",
    "\n",
    "ordersByPrices = ordersByPrices.drop_duplicates()\n",
    "\n",
    "# sort data by number of orders in descending orders\n",
    "ordersByPrices = ordersByPrices.sort_values(by='revenue', ascending=False)\n",
    "\n",
    "# find values for horizontal axis by the number of generated observations \n",
    "x_values = pd.Series(range(0, len(ordersByPrices)))\n",
    "\n",
    "plt.scatter(x_values, ordersByPrices['revenue'])\n",
    "\n",
    "plt.title('Price per Order')\n",
    "plt.xlabel('Numbers')\n",
    "plt.ylabel('Revenue per Order')\n",
    "plt.show()"
   ]
  },
  {
   "cell_type": "markdown",
   "metadata": {},
   "source": [
    "#### Conclusion:\n",
    "Based on above plotting, the revenue is mostly before 2500.  There were very few orders above 2500."
   ]
  },
  {
   "cell_type": "markdown",
   "metadata": {},
   "source": [
    "\n",
    "\n",
    "### Calculate the 95th and 99th percentiles of order prices. Define the point at which a data point becomes an anomaly.\n"
   ]
  },
  {
   "cell_type": "code",
   "execution_count": 24,
   "metadata": {},
   "outputs": [
    {
     "name": "stdout",
     "output_type": "stream",
     "text": [
      "[449.5   912.576]\n"
     ]
    }
   ],
   "source": [
    "print(np.percentile(ordersByPrices['revenue'], [95,99]))"
   ]
  },
  {
   "cell_type": "markdown",
   "metadata": {},
   "source": [
    "#### Conclusion:\n",
    "Based on above percentile calculations, we can conclude that 95 % of the observations are within 450 dollars per order and 99% of obercations are within 900 dollars per order. We can define the point at which the data value becomes an anomaly as any observation where the revenue is greater than 450 dollars. "
   ]
  },
  {
   "cell_type": "markdown",
   "metadata": {},
   "source": [
    "<div class=\"alert alert-block alert-success\">\n",
    "    <h2>Reviewer's commentary <a class=\"tocSkip\"> </h2>\n",
    "    <br/>\n",
    "<b>Well done!👍:</b> \n",
    "        \n",
    "Ok, Pranita, as a whole you correctly identified the outliers in the data, good job!"
   ]
  },
  {
   "cell_type": "markdown",
   "metadata": {},
   "source": [
    "\n",
    "<div class=\"alert alert-block alert-warning\">\n",
    "   <h2>Reviewer's commentary <a class=\"tocSkip\"> </h2>\n",
    "    <br/>\n",
    "<b>Remarks and recommendations📌:</b> \n",
    "\n",
    "We could improve it by coloring it in A-B group colors: https://plotly.com/python/line-and-scatter/#set-size-and-color-with-column-names The same recommendation is for other similar plots. "
   ]
  },
  {
   "cell_type": "markdown",
   "metadata": {},
   "source": [
    "### Find the statistical significance of the difference in conversion between the groups using the raw data. Make conclusions and conjectures."
   ]
  },
  {
   "cell_type": "code",
   "execution_count": 25,
   "metadata": {},
   "outputs": [
    {
     "name": "stdout",
     "output_type": "stream",
     "text": [
      "p_value: 0.007\n",
      "Relative Conversion rate: 0.155\n",
      "Rejecting the null hypothesis: there is significant difference between the conversion rate of groups A and B\n"
     ]
    }
   ],
   "source": [
    "# calculate statistical significance of difference in conversion between groups \n",
    "ordersByUsersA = (\n",
    "    orders[orders['group'] == 'A']\n",
    "    .groupby('visitorId', as_index=False)\n",
    "    .agg({'transactionId': pd.Series.nunique})\n",
    ")\n",
    "ordersByUsersA.columns = ['userId', 'orders']\n",
    "\n",
    "ordersByUsersB = (\n",
    "    orders[orders['group'] == 'B']\n",
    "    .groupby('visitorId', as_index=False)\n",
    "    .agg({'transactionId': pd.Series.nunique})\n",
    ")\n",
    "ordersByUsersB.columns = ['userId', 'orders']\n",
    "\n",
    "\n",
    "sampleAFiltered = pd.concat([ordersByUsersA['orders'], pd.Series(0, index = np.arange(visits[visits['group'] == 'A']['visits'].sum() - len(ordersByUsersA['orders'])), name='orders')], axis=0)\n",
    "sampleBFiltered = pd.concat([ordersByUsersB['orders'], pd.Series(0, index = np.arange(visits[visits['group'] == 'B']['visits'].sum() - len(ordersByUsersA['orders'])), name='orders')], axis=0)\n",
    "\n",
    "p_value = st.mannwhitneyu(sampleAFiltered, sampleBFiltered)[1]\n",
    "print('p_value: {0:.3f}'.format(p_value))\n",
    "print(\"Relative Conversion rate: {0:.3f}\".format(sampleBFiltered.mean()/sampleAFiltered.mean()-1))\n",
    "\n",
    "# alpha is Significance level\n",
    "alpha = 0.05\n",
    "\n",
    "if p_value < alpha:\n",
    "    print('Rejecting the null hypothesis: there is significant difference between the conversion rate of groups A and B')\n",
    "else:\n",
    "    print('Failed to reject H0 :there is no significant difference between the conversion rate of groups A and B')"
   ]
  },
  {
   "cell_type": "markdown",
   "metadata": {},
   "source": [
    "### Conclusion:\n",
    "We tested if there is statistical significance of the difference in conversion between groups A and B or not by using the Mann-Wilcoxon-Whitney non-parametric test. This test ranks two samples in ascending order and compares the ranks of the values that appears in both samples. \n",
    "\n",
    "Null Hypothesis H0: There is no statistically significant difference in conversion between groups A and B. \n",
    "\n",
    "Alternative Hypothesis H1: There is a statistically significant difference in conversion between groups A and B.\n",
    "\n",
    "The p_value of 0.006 is less than the alpha level of 0.05 which means we can reject the null hypothesis and determine the difference between the conversion rate of groups A and B is statistically significant. \n",
    "\n",
    " Therefore,group B's relative gain of about %16 is significant."
   ]
  },
  {
   "cell_type": "markdown",
   "metadata": {},
   "source": [
    "### Find the statistical significance of the difference in average order size between the groups using the raw data. Make conclusions and conjectures."
   ]
  },
  {
   "cell_type": "code",
   "execution_count": 26,
   "metadata": {},
   "outputs": [
    {
     "name": "stdout",
     "output_type": "stream",
     "text": [
      "p_value: 0.431\n",
      "Relative Conversion:0.278\n",
      "Failed to reject H0:  There is no statistically significant difference in average order size between groups A and B\n"
     ]
    }
   ],
   "source": [
    "p_value = stats.mannwhitneyu(orders[orders['group']=='A']['revenue'], orders[orders['group']=='B']['revenue'])[1]\n",
    "print('p_value: {0:.3f}'.format(p_value))\n",
    "\n",
    "relative_conversion = orders[orders['group']=='B']['revenue'].mean()/orders[orders['group']=='A']['revenue'].mean()-1\n",
    "print(\"Relative Conversion:{0:.3f}\".format(relative_conversion))\n",
    "\n",
    "# critical statistical significance level\n",
    "alpha = 0.05\n",
    "\n",
    "if p_value < alpha:\n",
    "    print('H0 rejected: there is a statistically significant difference in average order size between groups A and B ')\n",
    "else:\n",
    "    print('Failed to reject H0:  There is no statistically significant difference in average order size between groups A and B')"
   ]
  },
  {
   "cell_type": "markdown",
   "metadata": {},
   "source": [
    "### Conclusion:\n",
    "We tested the statistical significance of the difference in average order size between groups A and B by using the Mann-Wilcoxon-Whitney non-parametric test. This test ranks two samples in ascending order and compares the ranks of the values that appears in both samples. \n",
    "\n",
    "Null Hypothesis H0: There is no statistically significant difference in average order size between groups A and B. \n",
    "\n",
    "Alternative Hypothesis H1: There is a statistically significant difference in average order size between groups A and B.\n",
    "\n",
    "The p_value of 0.4 is greater than than the alpha level of 0.05 which means we rejected the null hypothesis and and determine the difference in average order size of groups A and B is no statistically significant.\n",
    "However, there is relative a gain for group B (about 28%)."
   ]
  },
  {
   "cell_type": "markdown",
   "metadata": {},
   "source": [
    "### Find the statistical significance of the difference in conversion between the groups using the filtered data. Make conclusions and conjectures."
   ]
  },
  {
   "cell_type": "code",
   "execution_count": 27,
   "metadata": {},
   "outputs": [
    {
     "name": "stdout",
     "output_type": "stream",
     "text": [
      "p_value: 0.006\n",
      "Relative Conversion rate:0.160\n",
      "Failed to reject H0 : there is no statistically significant difference in conversion between groups A and B\n"
     ]
    }
   ],
   "source": [
    "#identify anomalous users with tooo many orders\n",
    "usersWithManyOrders = pd.concat([ordersByUsersA[ordersByUsersA['orders'] > 4]['userId'], ordersByUsersB[ordersByUsersB['orders'] > 4]['userId']], axis = 0)\n",
    "\n",
    "# identify anomalous users with expensive orders\n",
    "usersWithExpensiveOrders = orders[orders['revenue'] > 20000]['visitorId']\n",
    "\n",
    "# join them into abnormal table and remove duplicated\n",
    "abnormalUsers = pd.concat([usersWithManyOrders, usersWithExpensiveOrders], axis = 0).drop_duplicates().sort_values()\n",
    "\n",
    "\n",
    "# calculate statistical signifiacne of the difference in conversion between groups using filtered data\n",
    "sampleAFiltered = pd.concat([ordersByUsersA[np.logical_not(ordersByUsersA['userId'].isin(abnormalUsers))]['orders'],pd.Series(0, index=np.arange(visits[visits['group']=='A']['visits'].sum() - len(ordersByUsersA['orders'])),name='orders')],axis=0)\n",
    "\n",
    "sampleBFiltered = pd.concat([ordersByUsersB[np.logical_not(ordersByUsersB['userId'].isin(abnormalUsers))]['orders'],pd.Series(0, index=np.arange(visits[visits['group']=='B']['visits'].sum() - len(ordersByUsersB['orders'])),name='orders')],axis=0) \n",
    "\n",
    "print('p_value: {0:.3f}'.format(stats.mannwhitneyu(sampleAFiltered, sampleBFiltered)[1]))\n",
    "print(\"Relative Conversion rate:{0:.3f}\".format(sampleBFiltered.mean()/sampleAFiltered.mean()-1)) \n",
    "\n",
    "# critical statistical significance level\n",
    "alpha = 0.05\n",
    "\n",
    "if p_value < alpha:\n",
    "    print('Rejecting the null hypothesis: there is a significant difference in conversion between groups A and B. ')\n",
    "else:\n",
    "    print('Failed to reject H0 : there is no statistically significant difference in conversion between groups A and B')"
   ]
  },
  {
   "cell_type": "markdown",
   "metadata": {},
   "source": [
    "### Conclusion:\n",
    "\n",
    "We filtered raw data by two criterion, the number of orders and the revenue per order. \n",
    "Null Hypothesis H0: There is no statistically significant difference in conversion between groups A and B. \n",
    "\n",
    "Alternative Hypothesis H1: There is a statistically significant difference in conversion between groups A and B.\n",
    "\n",
    "The p_value of 0.006 is way less than the alpha level of 0.05 which means we can reject the null hypothesis and determine the difference between the conversion rate of groups A and B is no statistically significant. \n",
    "Therefore, group B's relative gain of about %17 is significant"
   ]
  },
  {
   "cell_type": "markdown",
   "metadata": {},
   "source": [
    "### Find the statistical significance of the difference in average order size between the groups using the filtered data. Make conclusions and conjectures."
   ]
  },
  {
   "cell_type": "code",
   "execution_count": 28,
   "metadata": {
    "scrolled": true
   },
   "outputs": [
    {
     "name": "stdout",
     "output_type": "stream",
     "text": [
      "p_value: 0.431\n",
      "We can not reject the null hypothesis\n"
     ]
    }
   ],
   "source": [
    "p_value = st.mannwhitneyu(\n",
    "    orders[np.logical_and(\n",
    "        orders['group']=='A',\n",
    "        np.logical_not(orders['visitorId'].isin(abnormalUsers)))]['revenue'],\n",
    "    orders[np.logical_and(\n",
    "        orders['group']=='B',\n",
    "        np.logical_not(orders['visitorId'].isin(abnormalUsers)))]['revenue'])[1]\n",
    "print('p_value: {0:.3f}'.format(p_value))\n",
    "\n",
    "# critical statistical significance level\n",
    "alpha = 0.05\n",
    "\n",
    "if p_value < alpha:\n",
    "    print('We reject the null hypothesis')\n",
    "else:\n",
    "    print('We can not reject the null hypothesis')"
   ]
  },
  {
   "cell_type": "markdown",
   "metadata": {},
   "source": [
    "### Conclusion:\n",
    "\n",
    "We started with null Hypothesis (H0) which is there is no statistically significant difference in average order size between groups A and B. \n",
    "\n",
    "The alternative Hypothesis (H1) which is there is a statistically significant difference in average order size between groups A and B.\n",
    "\n",
    "We uses an alpha of 0.05, which means that only in 5% of cases will we reject the null hypothesis when it is true.\n",
    "\n",
    "The p_value of 0.43 is greater than than the alpha level of 0.05 which means we can failed to reject to the null hypothesis and make conclusions that there is no statistically significant difference in average order size between groups A and B."
   ]
  },
  {
   "cell_type": "markdown",
   "metadata": {},
   "source": [
    "<div class=\"alert alert-block alert-success\">\n",
    "    <h2>Reviewer's commentary <a class=\"tocSkip\"> </h2>\n",
    "    <br/>\n",
    "<b>Well done!👍:</b> \n",
    "        \n",
    "Ok, Pranita, what you did absolutely correct:\n",
    "        \n",
    "1) you correctly chose the test for statistical hypotheses testing\n",
    "        \n",
    "2) you correctly interpreted the results\n",
    "        \n",
    "3) it is great that you formulated H1 and H0 in each case"
   ]
  },
  {
   "cell_type": "markdown",
   "metadata": {},
   "source": [
    "\n",
    "<div class=\"alert alert-block alert-warning\">\n",
    "   <h2>Reviewer's commentary <a class=\"tocSkip\"> </h2>\n",
    "    <br/>\n",
    "<b>Remarks and recommendations📌:</b> \n",
    "        \n",
    "Please, add the labels for values within test results (what it p-value and what is value for relative gain?) and add the value for relative gain, now you only show the p-value.\n",
    "        "
   ]
  },
  {
   "cell_type": "markdown",
   "metadata": {},
   "source": [
    "<div class=\"alert alert-block alert-success\">\n",
    "    <h2>Reviewer's commentary: second iteration of the review <a class=\"tocSkip\"> </h2>\n",
    "    <br/>\n",
    "<b>Well done!👍:</b> \n",
    "        \n",
    "Ok, agree with new version:)"
   ]
  },
  {
   "cell_type": "markdown",
   "metadata": {},
   "source": [
    "### Make a decision based on the test results. "
   ]
  },
  {
   "cell_type": "markdown",
   "metadata": {},
   "source": [
    "Based on the test results, we can take a decison to stop the test,consider group B as the leader and it is safe to make a data-driven recommendation to marketing specialists that group B is better as it generates greater cumulative revenue and have higher average order sizes.\n",
    "\n",
    "Although there is no signficant difference between the groups considering their average order size, there is statistically and signicant difference in conversion between the groups, and group B's relative conversion gain is significant.\n",
    "The test is therefore, successful."
   ]
  },
  {
   "cell_type": "markdown",
   "metadata": {},
   "source": [
    "\n",
    "<div class=\"alert alert-block alert-danger\">\n",
    "    <h2>Reviewer's commentary <a class=\"tocSkip\"> </h2>\n",
    "    <br/>\n",
    "<b>Needs fixing!🤔:</b> \n",
    "        \n",
    "Pranita, in the final conclusion you need to make a decision based on the test results. \n",
    "        \n",
    "The possible decisions are: 1. Stop the test, consider one of the groups the leader. 2. Stop the test, conclude that there is no difference between the groups. 3. Continue the test.\n",
    "        \n",
    "So please, try to widen your final conclusion based on this topic from the instruction and your results from the analysis."
   ]
  },
  {
   "cell_type": "markdown",
   "metadata": {},
   "source": [
    "<div class=\"alert alert-block alert-success\">\n",
    "    <h2>Reviewer's commentary: second iteration of the review <a class=\"tocSkip\"> </h2>\n",
    "    <br/>\n",
    "<b>Well done!👍:</b> \n",
    "        \n",
    "Ok, agree with your conclusion!"
   ]
  },
  {
   "cell_type": "markdown",
   "metadata": {},
   "source": [
    "<div style=\"border:solid Chocolate 2px; padding: 40px\">\n",
    "\n",
    "**The overall review conclusion**\n",
    "\n",
    "Pranita, thank you for submitting your project! I can see that you've worked really hard on it! I'm really impressed this the amount of work you have done. But there are several things in your project which I suppose it is important to fix in order to make your project really ideal! My comments will navigate you!\n",
    "\n",
    "\n",
    "**Good things and practices in your project I want to highlight🙂**:\n",
    "\n",
    "* You used different methods for working with your data. It is really great that you can apply these methods on practice, keep it up!\n",
    "* You worked with the visualization, it is really good that you use plots in your work!\n",
    "* You formulated conclusions after each step of the analysis, I can see your analytical approach!\n",
    "* You chose the correct test at the last step of the analysis, keep it up!\n",
    "    \n",
    "**What is worth working on👀**:\n",
    "\n",
    "\n",
    "* Some plots are incorrect and some are absent\n",
    "* It is better to fix the final conclusion.\n",
    "\n",
    "\n",
    "**Good luck! I will wait for your work for a second iteration of the review!😉**\n",
    "![gif](https://media.giphy.com/media/l41Yh1olOKd1Tgbw4/giphy.gif)  "
   ]
  },
  {
   "cell_type": "markdown",
   "metadata": {},
   "source": [
    "<div style=\"border:solid Chocolate 2px; padding: 40px\">\n",
    "\n",
    "**The overall review conclusion: second iteration of the review**\n",
    "\n",
    "Pranita, thank you for submitting your project with corrections!\n",
    "    \n",
    "You did a great job to improve the project, I can see your progress and agree with all your corrections, so I hasten to say that your project has been accepted and you can proceed to the next sprint!\n",
    "    \n",
    "**I wish you exciting and cool projects in the next sprints😉**\n",
    "\n",
    "![gif](https://media.giphy.com/media/l3UcjBJUov1gCRGbS/giphy.gif)  "
   ]
  },
  {
   "cell_type": "code",
   "execution_count": null,
   "metadata": {},
   "outputs": [],
   "source": []
  }
 ],
 "metadata": {
  "ExecuteTimeLog": [
   {
    "duration": 2162,
    "start_time": "2021-08-14T20:17:33.800Z"
   },
   {
    "duration": 96,
    "start_time": "2021-08-14T20:18:30.092Z"
   },
   {
    "duration": 78,
    "start_time": "2021-08-14T20:18:33.651Z"
   },
   {
    "duration": 35,
    "start_time": "2021-08-14T20:18:47.023Z"
   },
   {
    "duration": 33,
    "start_time": "2021-08-14T20:19:10.001Z"
   },
   {
    "duration": 1448,
    "start_time": "2021-08-14T23:29:53.103Z"
   },
   {
    "duration": 18,
    "start_time": "2021-08-14T23:29:55.449Z"
   },
   {
    "duration": 18,
    "start_time": "2021-08-14T23:30:14.250Z"
   },
   {
    "duration": 18,
    "start_time": "2021-08-14T23:30:16.231Z"
   },
   {
    "duration": 46,
    "start_time": "2021-08-14T23:37:47.411Z"
   },
   {
    "duration": -605,
    "start_time": "2021-08-14T23:40:38.868Z"
   },
   {
    "duration": -664,
    "start_time": "2021-08-14T23:40:46.754Z"
   },
   {
    "duration": 6257,
    "start_time": "2021-08-14T23:41:33.780Z"
   },
   {
    "duration": 6749,
    "start_time": "2021-08-14T23:41:58.306Z"
   },
   {
    "duration": 12,
    "start_time": "2021-08-14T23:42:39.955Z"
   },
   {
    "duration": 6370,
    "start_time": "2021-08-14T23:49:49.250Z"
   },
   {
    "duration": 268,
    "start_time": "2021-08-14T23:50:40.890Z"
   },
   {
    "duration": 12,
    "start_time": "2021-08-15T00:27:39.802Z"
   },
   {
    "duration": 11,
    "start_time": "2021-08-15T00:28:44.867Z"
   },
   {
    "duration": 5876,
    "start_time": "2021-08-15T00:28:53.046Z"
   },
   {
    "duration": 15,
    "start_time": "2021-08-15T00:29:20.946Z"
   },
   {
    "duration": 6662,
    "start_time": "2021-08-15T00:30:53.907Z"
   },
   {
    "duration": 213,
    "start_time": "2021-08-15T00:31:23.788Z"
   },
   {
    "duration": 3092,
    "start_time": "2021-08-15T00:31:34.821Z"
   },
   {
    "duration": 5836,
    "start_time": "2021-08-15T00:32:27.814Z"
   },
   {
    "duration": 215,
    "start_time": "2021-08-15T00:32:46.901Z"
   },
   {
    "duration": 17,
    "start_time": "2021-08-15T00:33:02.988Z"
   },
   {
    "duration": 549,
    "start_time": "2021-08-15T01:05:21.203Z"
   },
   {
    "duration": 600,
    "start_time": "2021-08-15T01:15:19.461Z"
   },
   {
    "duration": 663,
    "start_time": "2021-08-15T01:15:39.643Z"
   },
   {
    "duration": 1526,
    "start_time": "2021-08-16T02:40:06.727Z"
   },
   {
    "duration": 715,
    "start_time": "2021-08-16T02:47:30.076Z"
   },
   {
    "duration": 17,
    "start_time": "2021-08-16T02:57:24.168Z"
   },
   {
    "duration": 10,
    "start_time": "2021-08-16T02:57:27.763Z"
   },
   {
    "duration": 16,
    "start_time": "2021-08-16T02:57:31.088Z"
   },
   {
    "duration": 12,
    "start_time": "2021-08-16T02:57:36.216Z"
   },
   {
    "duration": 488,
    "start_time": "2021-08-16T02:57:40.275Z"
   },
   {
    "duration": 720,
    "start_time": "2021-08-16T02:59:13.021Z"
   },
   {
    "duration": 599,
    "start_time": "2021-08-16T03:00:06.676Z"
   },
   {
    "duration": 577,
    "start_time": "2021-08-16T03:02:14.946Z"
   },
   {
    "duration": 74,
    "start_time": "2021-08-16T03:15:14.127Z"
   },
   {
    "duration": 26,
    "start_time": "2021-08-16T03:15:43.536Z"
   },
   {
    "duration": 19,
    "start_time": "2021-08-16T03:16:12.775Z"
   },
   {
    "duration": 9,
    "start_time": "2021-08-16T03:17:08.941Z"
   },
   {
    "duration": 20,
    "start_time": "2021-08-16T03:17:31.830Z"
   },
   {
    "duration": 1073,
    "start_time": "2021-08-16T22:15:31.780Z"
   },
   {
    "duration": 15,
    "start_time": "2021-08-16T22:15:34.915Z"
   },
   {
    "duration": 12,
    "start_time": "2021-08-16T22:15:42.985Z"
   },
   {
    "duration": 7,
    "start_time": "2021-08-16T22:15:49.446Z"
   },
   {
    "duration": 8,
    "start_time": "2021-08-16T23:01:49.118Z"
   },
   {
    "duration": 331,
    "start_time": "2021-08-16T23:26:48.287Z"
   },
   {
    "duration": 1048,
    "start_time": "2021-08-17T13:35:37.787Z"
   },
   {
    "duration": 13,
    "start_time": "2021-08-17T13:35:40.198Z"
   },
   {
    "duration": 15,
    "start_time": "2021-08-17T13:35:42.999Z"
   },
   {
    "duration": 7,
    "start_time": "2021-08-17T13:35:48.076Z"
   },
   {
    "duration": 12,
    "start_time": "2021-08-17T13:35:55.768Z"
   },
   {
    "duration": 7719,
    "start_time": "2021-08-17T13:40:24.958Z"
   },
   {
    "duration": 7226,
    "start_time": "2021-08-17T13:46:16.624Z"
   },
   {
    "duration": 588,
    "start_time": "2021-08-17T13:48:51.190Z"
   },
   {
    "duration": 630,
    "start_time": "2021-08-17T13:49:53.662Z"
   },
   {
    "duration": 609,
    "start_time": "2021-08-17T13:51:46.760Z"
   },
   {
    "duration": 623,
    "start_time": "2021-08-17T13:52:39.919Z"
   },
   {
    "duration": 662,
    "start_time": "2021-08-17T13:54:14.663Z"
   },
   {
    "duration": 574,
    "start_time": "2021-08-17T13:55:25.900Z"
   },
   {
    "duration": 553,
    "start_time": "2021-08-17T13:56:21.800Z"
   },
   {
    "duration": 534,
    "start_time": "2021-08-17T13:56:33.954Z"
   },
   {
    "duration": 546,
    "start_time": "2021-08-17T13:57:15.545Z"
   },
   {
    "duration": 395,
    "start_time": "2021-08-17T13:59:55.208Z"
   },
   {
    "duration": 356,
    "start_time": "2021-08-17T14:00:08.490Z"
   },
   {
    "duration": 299,
    "start_time": "2021-08-17T14:00:53.956Z"
   },
   {
    "duration": 370,
    "start_time": "2021-08-17T14:05:52.197Z"
   },
   {
    "duration": 259,
    "start_time": "2021-08-17T14:07:15.338Z"
   },
   {
    "duration": 344,
    "start_time": "2021-08-17T14:07:37.783Z"
   },
   {
    "duration": 258,
    "start_time": "2021-08-17T14:09:05.847Z"
   },
   {
    "duration": 497,
    "start_time": "2021-08-17T14:12:41.199Z"
   },
   {
    "duration": 6522,
    "start_time": "2021-08-17T14:13:00.585Z"
   },
   {
    "duration": 7342,
    "start_time": "2021-08-17T16:01:38.141Z"
   },
   {
    "duration": 273,
    "start_time": "2021-08-17T16:03:35.951Z"
   },
   {
    "duration": 7,
    "start_time": "2021-08-17T16:40:40.599Z"
   },
   {
    "duration": 106,
    "start_time": "2021-08-17T16:41:49.756Z"
   },
   {
    "duration": 342,
    "start_time": "2021-08-17T17:09:15.486Z"
   },
   {
    "duration": 370,
    "start_time": "2021-08-17T17:09:30.177Z"
   },
   {
    "duration": 97,
    "start_time": "2021-08-17T17:09:45.831Z"
   },
   {
    "duration": 125,
    "start_time": "2021-08-17T17:09:52.048Z"
   },
   {
    "duration": 103,
    "start_time": "2021-08-17T17:15:48.188Z"
   },
   {
    "duration": 386,
    "start_time": "2021-08-17T17:24:28.988Z"
   },
   {
    "duration": 6955,
    "start_time": "2021-08-17T17:27:40.381Z"
   },
   {
    "duration": 431,
    "start_time": "2021-08-17T17:28:14.283Z"
   },
   {
    "duration": 366,
    "start_time": "2021-08-17T17:28:33.481Z"
   },
   {
    "duration": 417,
    "start_time": "2021-08-17T17:28:59.525Z"
   },
   {
    "duration": 383,
    "start_time": "2021-08-17T17:29:39.542Z"
   },
   {
    "duration": 6739,
    "start_time": "2021-08-17T17:53:44.331Z"
   },
   {
    "duration": 1418,
    "start_time": "2021-08-17T22:07:12.957Z"
   },
   {
    "duration": 10,
    "start_time": "2021-08-17T22:07:22.634Z"
   },
   {
    "duration": 18,
    "start_time": "2021-08-17T22:07:25.950Z"
   },
   {
    "duration": 17,
    "start_time": "2021-08-17T22:07:30.600Z"
   },
   {
    "duration": 508,
    "start_time": "2021-08-17T22:07:53.419Z"
   },
   {
    "duration": 7581,
    "start_time": "2021-08-17T22:11:09.409Z"
   },
   {
    "duration": 626,
    "start_time": "2021-08-17T22:11:46.579Z"
   },
   {
    "duration": 6193,
    "start_time": "2021-08-17T22:12:06.999Z"
   },
   {
    "duration": 5,
    "start_time": "2021-08-17T22:12:25.799Z"
   },
   {
    "duration": 10,
    "start_time": "2021-08-17T22:13:43.918Z"
   },
   {
    "duration": 14,
    "start_time": "2021-08-17T22:16:06.411Z"
   },
   {
    "duration": 390,
    "start_time": "2021-08-17T22:22:08.178Z"
   },
   {
    "duration": 7,
    "start_time": "2021-08-17T22:22:28.265Z"
   },
   {
    "duration": 79,
    "start_time": "2021-08-17T22:46:50.709Z"
   },
   {
    "duration": 467,
    "start_time": "2021-08-17T22:48:11.386Z"
   },
   {
    "duration": 215,
    "start_time": "2021-08-17T22:48:36.263Z"
   },
   {
    "duration": 12,
    "start_time": "2021-08-17T22:56:19.978Z"
   },
   {
    "duration": 15,
    "start_time": "2021-08-17T22:58:47.146Z"
   },
   {
    "duration": 5926,
    "start_time": "2021-08-17T23:10:23.000Z"
   },
   {
    "duration": 304,
    "start_time": "2021-08-17T23:11:31.800Z"
   },
   {
    "duration": 237,
    "start_time": "2021-08-17T23:11:52.416Z"
   },
   {
    "duration": 28,
    "start_time": "2021-08-17T23:12:17.354Z"
   },
   {
    "duration": 6526,
    "start_time": "2021-08-17T23:13:24.950Z"
   },
   {
    "duration": 6725,
    "start_time": "2021-08-17T23:27:01.581Z"
   },
   {
    "duration": 6848,
    "start_time": "2021-08-18T00:50:50.503Z"
   },
   {
    "duration": 19,
    "start_time": "2021-08-18T01:20:29.735Z"
   },
   {
    "duration": 1417,
    "start_time": "2021-08-23T21:16:08.472Z"
   },
   {
    "duration": 22,
    "start_time": "2021-08-23T21:16:24.171Z"
   },
   {
    "duration": 25,
    "start_time": "2021-08-23T21:17:40.033Z"
   },
   {
    "duration": 19,
    "start_time": "2021-08-23T21:24:26.306Z"
   },
   {
    "duration": 15,
    "start_time": "2021-08-23T21:30:04.111Z"
   },
   {
    "duration": 7046,
    "start_time": "2021-08-23T21:30:11.002Z"
   },
   {
    "duration": 6654,
    "start_time": "2021-08-23T23:05:19.719Z"
   },
   {
    "duration": 6582,
    "start_time": "2021-08-23T23:05:27.129Z"
   },
   {
    "duration": 9,
    "start_time": "2021-08-23T23:05:46.749Z"
   },
   {
    "duration": 17,
    "start_time": "2021-08-23T23:05:51.246Z"
   },
   {
    "duration": 14,
    "start_time": "2021-08-23T23:06:18.418Z"
   },
   {
    "duration": 12,
    "start_time": "2021-08-23T23:06:27.464Z"
   },
   {
    "duration": 12,
    "start_time": "2021-08-23T23:08:13.505Z"
   },
   {
    "duration": 613,
    "start_time": "2021-08-23T23:08:23.536Z"
   },
   {
    "duration": 1147,
    "start_time": "2021-08-24T03:51:13.596Z"
   },
   {
    "duration": 15,
    "start_time": "2021-08-24T03:51:15.857Z"
   },
   {
    "duration": 16,
    "start_time": "2021-08-24T03:51:18.631Z"
   },
   {
    "duration": 13,
    "start_time": "2021-08-24T03:51:21.273Z"
   },
   {
    "duration": 6,
    "start_time": "2021-08-24T03:51:34.113Z"
   },
   {
    "duration": 14,
    "start_time": "2021-08-24T03:53:14.030Z"
   },
   {
    "duration": 13,
    "start_time": "2021-08-24T03:54:47.985Z"
   },
   {
    "duration": 123,
    "start_time": "2021-08-24T03:57:45.287Z"
   },
   {
    "duration": 1528,
    "start_time": "2021-08-24T13:11:18.479Z"
   },
   {
    "duration": 22,
    "start_time": "2021-08-24T13:11:20.471Z"
   },
   {
    "duration": 25,
    "start_time": "2021-08-24T13:11:23.387Z"
   },
   {
    "duration": 18,
    "start_time": "2021-08-24T13:11:26.146Z"
   },
   {
    "duration": 10,
    "start_time": "2021-08-24T13:11:30.742Z"
   },
   {
    "duration": 20,
    "start_time": "2021-08-24T13:11:33.517Z"
   },
   {
    "duration": 16,
    "start_time": "2021-08-24T13:11:36.054Z"
   },
   {
    "duration": 780,
    "start_time": "2021-08-24T13:13:18.374Z"
   },
   {
    "duration": 5,
    "start_time": "2021-08-24T13:13:49.885Z"
   },
   {
    "duration": 7301,
    "start_time": "2021-08-24T13:14:16.574Z"
   },
   {
    "duration": 138,
    "start_time": "2021-08-24T13:14:59.861Z"
   },
   {
    "duration": 803,
    "start_time": "2021-08-24T13:15:17.063Z"
   },
   {
    "duration": 130,
    "start_time": "2021-08-24T13:15:50.965Z"
   },
   {
    "duration": 15,
    "start_time": "2021-08-24T13:16:05.414Z"
   },
   {
    "duration": 16,
    "start_time": "2021-08-24T13:17:22.173Z"
   },
   {
    "duration": 561,
    "start_time": "2021-08-24T13:20:39.020Z"
   },
   {
    "duration": 15,
    "start_time": "2021-08-24T13:20:55.013Z"
   },
   {
    "duration": 21,
    "start_time": "2021-08-24T13:25:42.562Z"
   },
   {
    "duration": 18,
    "start_time": "2021-08-24T13:26:00.592Z"
   },
   {
    "duration": 13,
    "start_time": "2021-08-24T13:26:03.298Z"
   },
   {
    "duration": 708,
    "start_time": "2021-08-24T13:27:04.872Z"
   },
   {
    "duration": 363,
    "start_time": "2021-08-24T13:27:32.218Z"
   },
   {
    "duration": 412,
    "start_time": "2021-08-24T13:28:19.226Z"
   },
   {
    "duration": 963,
    "start_time": "2021-08-24T13:42:41.433Z"
   },
   {
    "duration": 1163,
    "start_time": "2021-08-25T15:27:18.233Z"
   },
   {
    "duration": 14,
    "start_time": "2021-08-25T15:27:21.162Z"
   },
   {
    "duration": 17,
    "start_time": "2021-08-25T15:27:23.629Z"
   },
   {
    "duration": 13,
    "start_time": "2021-08-25T15:27:26.325Z"
   },
   {
    "duration": 6,
    "start_time": "2021-08-25T15:27:31.269Z"
   },
   {
    "duration": 16,
    "start_time": "2021-08-25T15:27:45.671Z"
   },
   {
    "duration": 13,
    "start_time": "2021-08-25T15:27:49.779Z"
   },
   {
    "duration": 18,
    "start_time": "2021-08-25T15:27:56.681Z"
   },
   {
    "duration": 9,
    "start_time": "2021-08-25T15:28:02.364Z"
   },
   {
    "duration": 272,
    "start_time": "2021-08-25T15:48:45.574Z"
   },
   {
    "duration": 15,
    "start_time": "2021-08-25T16:02:46.029Z"
   },
   {
    "duration": 8,
    "start_time": "2021-08-25T16:02:48.460Z"
   },
   {
    "duration": 9,
    "start_time": "2021-08-25T16:02:50.876Z"
   },
   {
    "duration": 283,
    "start_time": "2021-08-25T16:02:53.281Z"
   },
   {
    "duration": 570,
    "start_time": "2021-08-25T16:03:01.718Z"
   },
   {
    "duration": 357,
    "start_time": "2021-08-25T16:03:04.882Z"
   },
   {
    "duration": 358,
    "start_time": "2021-08-25T16:03:09.683Z"
   },
   {
    "duration": 225,
    "start_time": "2021-08-25T16:19:17.898Z"
   },
   {
    "duration": 454,
    "start_time": "2021-08-25T16:27:25.406Z"
   },
   {
    "duration": 521,
    "start_time": "2021-08-25T16:30:03.321Z"
   },
   {
    "duration": 429,
    "start_time": "2021-08-25T16:30:20.629Z"
   },
   {
    "duration": 306,
    "start_time": "2021-08-25T16:36:03.017Z"
   },
   {
    "duration": 2,
    "start_time": "2021-08-25T16:36:54.359Z"
   },
   {
    "duration": 115,
    "start_time": "2021-08-25T16:46:29.454Z"
   },
   {
    "duration": 8,
    "start_time": "2021-08-25T16:52:04.568Z"
   },
   {
    "duration": 20,
    "start_time": "2021-08-25T16:53:16.926Z"
   },
   {
    "duration": 19,
    "start_time": "2021-08-25T16:53:35.655Z"
   },
   {
    "duration": 20,
    "start_time": "2021-08-25T16:53:45.918Z"
   },
   {
    "duration": 11,
    "start_time": "2021-08-25T16:55:01.288Z"
   },
   {
    "duration": 121,
    "start_time": "2021-08-25T18:05:53.878Z"
   },
   {
    "duration": 99,
    "start_time": "2021-08-25T19:28:16.903Z"
   },
   {
    "duration": 12,
    "start_time": "2021-08-25T19:28:19.317Z"
   },
   {
    "duration": 16,
    "start_time": "2021-08-25T19:28:22.406Z"
   },
   {
    "duration": 12,
    "start_time": "2021-08-25T19:28:24.945Z"
   },
   {
    "duration": 12,
    "start_time": "2021-08-25T19:29:53.496Z"
   },
   {
    "duration": 77,
    "start_time": "2021-08-25T19:30:38.638Z"
   },
   {
    "duration": 7,
    "start_time": "2021-08-25T19:32:09.456Z"
   },
   {
    "duration": 15,
    "start_time": "2021-08-25T19:32:12.239Z"
   },
   {
    "duration": 12,
    "start_time": "2021-08-25T19:32:15.465Z"
   },
   {
    "duration": 18,
    "start_time": "2021-08-25T19:33:02.666Z"
   },
   {
    "duration": 7,
    "start_time": "2021-08-25T19:33:31.375Z"
   },
   {
    "duration": 7,
    "start_time": "2021-08-25T19:34:03.582Z"
   },
   {
    "duration": 59,
    "start_time": "2021-08-25T19:34:23.950Z"
   },
   {
    "duration": 9,
    "start_time": "2021-08-25T19:34:31.249Z"
   },
   {
    "duration": 12,
    "start_time": "2021-08-25T19:35:03.937Z"
   },
   {
    "duration": 8,
    "start_time": "2021-08-25T19:36:07.026Z"
   },
   {
    "duration": 9,
    "start_time": "2021-08-25T19:37:16.530Z"
   },
   {
    "duration": 277,
    "start_time": "2021-08-25T19:37:44.921Z"
   },
   {
    "duration": 581,
    "start_time": "2021-08-25T19:42:43.775Z"
   },
   {
    "duration": 347,
    "start_time": "2021-08-25T19:44:29.355Z"
   },
   {
    "duration": 364,
    "start_time": "2021-08-25T19:50:44.165Z"
   },
   {
    "duration": 240,
    "start_time": "2021-08-25T19:54:05.583Z"
   },
   {
    "duration": 475,
    "start_time": "2021-08-25T19:57:16.756Z"
   },
   {
    "duration": 5,
    "start_time": "2021-08-25T19:57:39.351Z"
   },
   {
    "duration": 5,
    "start_time": "2021-08-25T20:04:16.634Z"
   },
   {
    "duration": 322,
    "start_time": "2021-08-25T20:06:27.687Z"
   },
   {
    "duration": 4,
    "start_time": "2021-08-25T20:07:43.810Z"
   },
   {
    "duration": 78,
    "start_time": "2021-08-25T20:11:41.281Z"
   },
   {
    "duration": 12,
    "start_time": "2021-08-25T20:11:43.157Z"
   },
   {
    "duration": 16,
    "start_time": "2021-08-25T20:11:46.540Z"
   },
   {
    "duration": 13,
    "start_time": "2021-08-25T20:11:49.013Z"
   },
   {
    "duration": 10,
    "start_time": "2021-08-25T20:13:41.970Z"
   },
   {
    "duration": 11,
    "start_time": "2021-08-25T20:13:41.982Z"
   },
   {
    "duration": 11,
    "start_time": "2021-08-25T20:13:58.482Z"
   },
   {
    "duration": 11,
    "start_time": "2021-08-25T20:14:02.241Z"
   },
   {
    "duration": 4398,
    "start_time": "2021-08-25T20:14:08.573Z"
   },
   {
    "duration": 4458,
    "start_time": "2021-08-25T20:14:13.735Z"
   },
   {
    "duration": 67,
    "start_time": "2021-08-25T20:14:31.670Z"
   },
   {
    "duration": 7,
    "start_time": "2021-08-25T20:14:36.785Z"
   },
   {
    "duration": 8,
    "start_time": "2021-08-25T20:14:41.865Z"
   },
   {
    "duration": 11,
    "start_time": "2021-08-25T20:14:45.355Z"
   },
   {
    "duration": 10,
    "start_time": "2021-08-25T20:14:47.525Z"
   },
   {
    "duration": 8,
    "start_time": "2021-08-25T20:14:49.932Z"
   },
   {
    "duration": 9,
    "start_time": "2021-08-25T20:14:52.810Z"
   },
   {
    "duration": 278,
    "start_time": "2021-08-25T20:14:55.307Z"
   },
   {
    "duration": 710,
    "start_time": "2021-08-25T20:15:35.646Z"
   },
   {
    "duration": 472,
    "start_time": "2021-08-25T20:15:44.455Z"
   },
   {
    "duration": 334,
    "start_time": "2021-08-25T20:15:58.083Z"
   },
   {
    "duration": 458,
    "start_time": "2021-08-25T20:21:36.690Z"
   },
   {
    "duration": 5,
    "start_time": "2021-08-25T20:21:42.977Z"
   },
   {
    "duration": 307,
    "start_time": "2021-08-25T20:21:45.393Z"
   },
   {
    "duration": 4,
    "start_time": "2021-08-25T20:21:48.959Z"
   },
   {
    "duration": 116,
    "start_time": "2021-08-25T20:21:51.490Z"
   },
   {
    "duration": 126,
    "start_time": "2021-08-25T20:22:59.577Z"
   },
   {
    "duration": 102,
    "start_time": "2021-08-25T20:26:56.107Z"
   },
   {
    "duration": 108,
    "start_time": "2021-08-25T20:29:40.525Z"
   },
   {
    "duration": 8,
    "start_time": "2021-08-25T20:30:49.993Z"
   },
   {
    "duration": 8,
    "start_time": "2021-08-25T20:31:14.757Z"
   },
   {
    "duration": 7,
    "start_time": "2021-08-25T20:33:07.969Z"
   },
   {
    "duration": 20,
    "start_time": "2021-08-25T20:39:11.268Z"
   },
   {
    "duration": 63,
    "start_time": "2021-08-25T20:46:31.171Z"
   },
   {
    "duration": 18,
    "start_time": "2021-08-25T20:46:39.714Z"
   },
   {
    "duration": 20,
    "start_time": "2021-08-25T20:47:06.378Z"
   },
   {
    "duration": 9,
    "start_time": "2021-08-25T20:54:09.463Z"
   },
   {
    "duration": 10,
    "start_time": "2021-08-25T20:58:23.023Z"
   },
   {
    "duration": 10,
    "start_time": "2021-08-25T20:58:40.708Z"
   },
   {
    "duration": 68,
    "start_time": "2021-08-25T21:07:33.821Z"
   },
   {
    "duration": 7,
    "start_time": "2021-08-25T21:07:42.241Z"
   },
   {
    "duration": 66,
    "start_time": "2021-08-25T21:08:28.565Z"
   },
   {
    "duration": 6,
    "start_time": "2021-08-25T21:08:36.098Z"
   },
   {
    "duration": 12,
    "start_time": "2021-08-25T21:08:39.489Z"
   },
   {
    "duration": 11,
    "start_time": "2021-08-25T21:08:42.257Z"
   },
   {
    "duration": 8,
    "start_time": "2021-08-25T21:08:45.586Z"
   },
   {
    "duration": 10,
    "start_time": "2021-08-25T21:09:16.135Z"
   },
   {
    "duration": 266,
    "start_time": "2021-08-25T21:09:26.401Z"
   },
   {
    "duration": 640,
    "start_time": "2021-08-25T21:09:31.726Z"
   },
   {
    "duration": 413,
    "start_time": "2021-08-25T21:09:40.995Z"
   },
   {
    "duration": 418,
    "start_time": "2021-08-25T21:10:16.740Z"
   },
   {
    "duration": 395,
    "start_time": "2021-08-25T21:10:19.629Z"
   },
   {
    "duration": 311,
    "start_time": "2021-08-25T21:10:25.590Z"
   },
   {
    "duration": 437,
    "start_time": "2021-08-25T21:10:30.405Z"
   },
   {
    "duration": 112,
    "start_time": "2021-08-25T21:10:39.205Z"
   },
   {
    "duration": 2013,
    "start_time": "2021-08-26T08:40:31.945Z"
   },
   {
    "duration": 23,
    "start_time": "2021-08-26T08:40:33.960Z"
   },
   {
    "duration": 24,
    "start_time": "2021-08-26T08:40:33.986Z"
   },
   {
    "duration": 26,
    "start_time": "2021-08-26T08:40:34.029Z"
   },
   {
    "duration": 12,
    "start_time": "2021-08-26T08:40:34.059Z"
   },
   {
    "duration": 53,
    "start_time": "2021-08-26T08:40:34.074Z"
   },
   {
    "duration": 25,
    "start_time": "2021-08-26T08:40:34.131Z"
   },
   {
    "duration": 17,
    "start_time": "2021-08-26T08:40:34.161Z"
   },
   {
    "duration": 54,
    "start_time": "2021-08-26T08:40:34.182Z"
   },
   {
    "duration": 23,
    "start_time": "2021-08-26T08:40:34.239Z"
   },
   {
    "duration": 14,
    "start_time": "2021-08-26T08:40:34.265Z"
   },
   {
    "duration": 534,
    "start_time": "2021-08-26T08:40:34.282Z"
   },
   {
    "duration": 1242,
    "start_time": "2021-08-26T08:40:34.820Z"
   },
   {
    "duration": 667,
    "start_time": "2021-08-26T08:40:36.064Z"
   },
   {
    "duration": 642,
    "start_time": "2021-08-26T08:40:36.735Z"
   },
   {
    "duration": 511,
    "start_time": "2021-08-26T08:40:37.379Z"
   },
   {
    "duration": 30,
    "start_time": "2021-08-26T08:40:37.893Z"
   },
   {
    "duration": 815,
    "start_time": "2021-08-26T08:40:37.925Z"
   },
   {
    "duration": 5,
    "start_time": "2021-08-26T08:40:38.744Z"
   },
   {
    "duration": 567,
    "start_time": "2021-08-26T08:40:38.752Z"
   },
   {
    "duration": 8,
    "start_time": "2021-08-26T08:40:39.323Z"
   },
   {
    "duration": 284,
    "start_time": "2021-08-26T08:40:39.333Z"
   },
   {
    "duration": 19,
    "start_time": "2021-08-26T08:40:39.622Z"
   },
   {
    "duration": 36,
    "start_time": "2021-08-26T08:40:39.645Z"
   },
   {
    "duration": 43,
    "start_time": "2021-08-26T08:40:39.683Z"
   },
   {
    "duration": 1587,
    "start_time": "2021-08-26T14:41:50.432Z"
   },
   {
    "duration": 73,
    "start_time": "2021-08-26T14:42:06.362Z"
   },
   {
    "duration": 74,
    "start_time": "2021-08-26T14:42:23.684Z"
   },
   {
    "duration": 22,
    "start_time": "2021-08-26T14:42:33.076Z"
   },
   {
    "duration": 27,
    "start_time": "2021-08-26T14:42:36.203Z"
   },
   {
    "duration": 12,
    "start_time": "2021-08-26T14:42:42.307Z"
   },
   {
    "duration": 16,
    "start_time": "2021-08-26T14:42:45.443Z"
   },
   {
    "duration": 25,
    "start_time": "2021-08-26T14:42:47.385Z"
   },
   {
    "duration": 72,
    "start_time": "2021-08-26T14:44:24.493Z"
   },
   {
    "duration": 15,
    "start_time": "2021-08-26T14:44:37.582Z"
   },
   {
    "duration": 15,
    "start_time": "2021-08-26T14:44:39.849Z"
   },
   {
    "duration": 15,
    "start_time": "2021-08-26T14:44:46.024Z"
   },
   {
    "duration": 20,
    "start_time": "2021-08-26T14:44:54.067Z"
   },
   {
    "duration": 10,
    "start_time": "2021-08-26T14:44:58.987Z"
   },
   {
    "duration": 21,
    "start_time": "2021-08-26T14:45:34.728Z"
   },
   {
    "duration": 19,
    "start_time": "2021-08-26T14:45:49.363Z"
   },
   {
    "duration": 10,
    "start_time": "2021-08-26T14:46:28.341Z"
   },
   {
    "duration": 72,
    "start_time": "2021-08-26T14:46:34.978Z"
   },
   {
    "duration": 10344,
    "start_time": "2021-08-26T14:46:48.872Z"
   },
   {
    "duration": 9825,
    "start_time": "2021-08-26T14:46:59.828Z"
   },
   {
    "duration": 8,
    "start_time": "2021-08-26T14:47:34.661Z"
   },
   {
    "duration": 21,
    "start_time": "2021-08-26T14:47:38.550Z"
   },
   {
    "duration": 16,
    "start_time": "2021-08-26T14:47:41.501Z"
   },
   {
    "duration": 14,
    "start_time": "2021-08-26T14:47:43.982Z"
   },
   {
    "duration": 11,
    "start_time": "2021-08-26T14:47:48.345Z"
   },
   {
    "duration": 13,
    "start_time": "2021-08-26T14:47:57.486Z"
   },
   {
    "duration": 447,
    "start_time": "2021-08-26T14:48:00.795Z"
   },
   {
    "duration": 9785,
    "start_time": "2021-08-26T14:56:55.551Z"
   },
   {
    "duration": 554,
    "start_time": "2021-08-26T14:57:24.457Z"
   },
   {
    "duration": -2511,
    "start_time": "2021-08-26T14:58:07.864Z"
   },
   {
    "duration": 9670,
    "start_time": "2021-08-26T14:58:25.936Z"
   },
   {
    "duration": 690,
    "start_time": "2021-08-26T14:58:44.572Z"
   },
   {
    "duration": 415,
    "start_time": "2021-08-26T15:04:13.389Z"
   },
   {
    "duration": 397,
    "start_time": "2021-08-26T15:04:56.790Z"
   },
   {
    "duration": 381,
    "start_time": "2021-08-26T15:05:24.476Z"
   },
   {
    "duration": 946,
    "start_time": "2021-08-26T15:05:35.298Z"
   },
   {
    "duration": 531,
    "start_time": "2021-08-26T15:05:40.259Z"
   },
   {
    "duration": 544,
    "start_time": "2021-08-26T15:05:46.756Z"
   },
   {
    "duration": 75,
    "start_time": "2021-08-26T15:48:55.280Z"
   },
   {
    "duration": 17,
    "start_time": "2021-08-26T15:48:59.480Z"
   },
   {
    "duration": 20,
    "start_time": "2021-08-26T15:49:02.772Z"
   },
   {
    "duration": 9,
    "start_time": "2021-08-26T15:49:06.201Z"
   },
   {
    "duration": 13,
    "start_time": "2021-08-26T15:49:22.604Z"
   },
   {
    "duration": 21,
    "start_time": "2021-08-26T15:49:28.226Z"
   },
   {
    "duration": 19,
    "start_time": "2021-08-26T15:49:43.296Z"
   },
   {
    "duration": 16,
    "start_time": "2021-08-26T15:49:48.968Z"
   },
   {
    "duration": 17,
    "start_time": "2021-08-26T15:49:51.296Z"
   },
   {
    "duration": 11,
    "start_time": "2021-08-26T15:49:55.285Z"
   },
   {
    "duration": 14,
    "start_time": "2021-08-26T15:50:02.703Z"
   },
   {
    "duration": 84,
    "start_time": "2021-08-26T15:50:21.360Z"
   },
   {
    "duration": 418,
    "start_time": "2021-08-26T15:50:32.262Z"
   },
   {
    "duration": 462,
    "start_time": "2021-08-26T15:54:53.339Z"
   },
   {
    "duration": 73,
    "start_time": "2021-08-26T17:06:36.663Z"
   },
   {
    "duration": 17,
    "start_time": "2021-08-26T17:06:45.156Z"
   },
   {
    "duration": 25,
    "start_time": "2021-08-26T17:06:48.120Z"
   },
   {
    "duration": 20,
    "start_time": "2021-08-26T17:06:50.833Z"
   },
   {
    "duration": 14,
    "start_time": "2021-08-26T17:06:55.014Z"
   },
   {
    "duration": 21,
    "start_time": "2021-08-26T17:06:57.940Z"
   },
   {
    "duration": 18,
    "start_time": "2021-08-26T17:07:00.619Z"
   },
   {
    "duration": 15,
    "start_time": "2021-08-26T17:07:02.959Z"
   },
   {
    "duration": 14,
    "start_time": "2021-08-26T17:07:05.418Z"
   },
   {
    "duration": 16,
    "start_time": "2021-08-26T17:07:09.085Z"
   },
   {
    "duration": 16,
    "start_time": "2021-08-26T17:07:11.605Z"
   },
   {
    "duration": 418,
    "start_time": "2021-08-26T17:07:15.479Z"
   },
   {
    "duration": 561,
    "start_time": "2021-08-26T17:07:23.452Z"
   },
   {
    "duration": 927,
    "start_time": "2021-08-26T17:07:28.728Z"
   },
   {
    "duration": 445,
    "start_time": "2021-08-26T17:07:32.847Z"
   },
   {
    "duration": 466,
    "start_time": "2021-08-26T17:07:39.596Z"
   },
   {
    "duration": 468,
    "start_time": "2021-08-26T17:07:44.107Z"
   },
   {
    "duration": 331,
    "start_time": "2021-08-26T17:07:50.731Z"
   },
   {
    "duration": 331,
    "start_time": "2021-08-26T17:08:07.350Z"
   },
   {
    "duration": 415,
    "start_time": "2021-08-26T17:09:01.013Z"
   },
   {
    "duration": 363,
    "start_time": "2021-08-26T17:09:28.811Z"
   },
   {
    "duration": 706,
    "start_time": "2021-08-26T17:10:48.594Z"
   },
   {
    "duration": 697,
    "start_time": "2021-08-26T17:11:05.681Z"
   },
   {
    "duration": 9887,
    "start_time": "2021-08-26T17:11:25.613Z"
   },
   {
    "duration": 502,
    "start_time": "2021-08-26T17:18:54.497Z"
   },
   {
    "duration": 684,
    "start_time": "2021-08-26T17:19:18.112Z"
   },
   {
    "duration": 690,
    "start_time": "2021-08-26T17:19:42.577Z"
   },
   {
    "duration": 134,
    "start_time": "2021-08-26T17:21:02.497Z"
   },
   {
    "duration": 139,
    "start_time": "2021-08-26T17:21:17.560Z"
   },
   {
    "duration": 122,
    "start_time": "2021-08-26T17:21:23.958Z"
   },
   {
    "duration": 132,
    "start_time": "2021-08-26T17:21:36.208Z"
   },
   {
    "duration": 141,
    "start_time": "2021-08-26T17:23:09.871Z"
   },
   {
    "duration": 131,
    "start_time": "2021-08-26T17:23:22.256Z"
   },
   {
    "duration": 124,
    "start_time": "2021-08-26T17:23:34.317Z"
   },
   {
    "duration": 117,
    "start_time": "2021-08-26T17:24:49.834Z"
   },
   {
    "duration": 130,
    "start_time": "2021-08-26T17:25:42.024Z"
   },
   {
    "duration": 134,
    "start_time": "2021-08-26T17:26:00.518Z"
   },
   {
    "duration": 741,
    "start_time": "2021-08-26T17:26:51.030Z"
   },
   {
    "duration": 714,
    "start_time": "2021-08-26T17:27:02.090Z"
   },
   {
    "duration": 718,
    "start_time": "2021-08-26T17:28:20.544Z"
   },
   {
    "duration": 73,
    "start_time": "2021-08-26T17:56:09.868Z"
   },
   {
    "duration": 13,
    "start_time": "2021-08-26T17:56:17.486Z"
   },
   {
    "duration": 20,
    "start_time": "2021-08-26T17:56:19.936Z"
   },
   {
    "duration": 16,
    "start_time": "2021-08-26T17:56:24.609Z"
   },
   {
    "duration": 14,
    "start_time": "2021-08-26T17:56:28.610Z"
   },
   {
    "duration": 16,
    "start_time": "2021-08-26T17:56:31.891Z"
   },
   {
    "duration": 910,
    "start_time": "2021-08-26T17:56:39.330Z"
   },
   {
    "duration": 550,
    "start_time": "2021-08-26T17:56:49.161Z"
   },
   {
    "duration": 482,
    "start_time": "2021-08-26T17:57:06.644Z"
   },
   {
    "duration": 500,
    "start_time": "2021-08-26T17:57:09.723Z"
   },
   {
    "duration": 344,
    "start_time": "2021-08-26T17:57:28.244Z"
   },
   {
    "duration": 760,
    "start_time": "2021-08-26T17:59:42.604Z"
   },
   {
    "duration": 512,
    "start_time": "2021-08-26T18:04:01.382Z"
   },
   {
    "duration": 467,
    "start_time": "2021-08-26T18:05:38.046Z"
   },
   {
    "duration": 74,
    "start_time": "2021-08-26T19:03:16.741Z"
   },
   {
    "duration": 16,
    "start_time": "2021-08-26T19:03:20.115Z"
   },
   {
    "duration": 24,
    "start_time": "2021-08-26T19:03:22.105Z"
   },
   {
    "duration": 20,
    "start_time": "2021-08-26T19:03:27.840Z"
   },
   {
    "duration": 23,
    "start_time": "2021-08-26T19:03:31.941Z"
   },
   {
    "duration": 21,
    "start_time": "2021-08-26T19:03:34.655Z"
   },
   {
    "duration": 17,
    "start_time": "2021-08-26T19:03:37.446Z"
   },
   {
    "duration": 23,
    "start_time": "2021-08-26T19:03:40.250Z"
   },
   {
    "duration": 15,
    "start_time": "2021-08-26T19:03:42.672Z"
   },
   {
    "duration": 16,
    "start_time": "2021-08-26T19:03:48.405Z"
   },
   {
    "duration": 16,
    "start_time": "2021-08-26T19:03:51.567Z"
   },
   {
    "duration": 429,
    "start_time": "2021-08-26T19:03:54.338Z"
   },
   {
    "duration": 578,
    "start_time": "2021-08-26T19:04:00.548Z"
   },
   {
    "duration": 1020,
    "start_time": "2021-08-26T19:04:06.415Z"
   },
   {
    "duration": 583,
    "start_time": "2021-08-26T19:04:10.360Z"
   },
   {
    "duration": 482,
    "start_time": "2021-08-26T19:04:21.835Z"
   },
   {
    "duration": 482,
    "start_time": "2021-08-26T19:04:25.430Z"
   },
   {
    "duration": 355,
    "start_time": "2021-08-26T19:04:45.301Z"
   },
   {
    "duration": 588,
    "start_time": "2021-08-26T19:06:34.690Z"
   },
   {
    "duration": 2648,
    "start_time": "2021-08-26T19:11:30.023Z"
   },
   {
    "duration": 403,
    "start_time": "2021-08-26T19:13:08.546Z"
   },
   {
    "duration": 420,
    "start_time": "2021-08-26T19:13:18.264Z"
   },
   {
    "duration": 1049,
    "start_time": "2021-08-26T19:15:14.546Z"
   },
   {
    "duration": 410,
    "start_time": "2021-08-26T19:15:24.098Z"
   },
   {
    "duration": 1201,
    "start_time": "2021-08-26T19:17:44.288Z"
   },
   {
    "duration": 225,
    "start_time": "2021-08-26T19:19:08.384Z"
   },
   {
    "duration": 818,
    "start_time": "2021-08-26T19:19:25.988Z"
   },
   {
    "duration": 695,
    "start_time": "2021-08-26T19:19:51.777Z"
   },
   {
    "duration": 949,
    "start_time": "2021-08-26T19:20:00.722Z"
   },
   {
    "duration": 1193,
    "start_time": "2021-08-26T19:20:44.020Z"
   },
   {
    "duration": 901,
    "start_time": "2021-08-26T19:21:01.489Z"
   },
   {
    "duration": 719,
    "start_time": "2021-08-26T19:21:28.788Z"
   },
   {
    "duration": 710,
    "start_time": "2021-08-26T19:24:29.256Z"
   },
   {
    "duration": 857,
    "start_time": "2021-08-26T19:24:58.708Z"
   },
   {
    "duration": 832,
    "start_time": "2021-08-26T19:26:11.247Z"
   },
   {
    "duration": 678,
    "start_time": "2021-08-26T19:26:28.636Z"
   },
   {
    "duration": 520,
    "start_time": "2021-08-26T19:27:52.768Z"
   },
   {
    "duration": 84,
    "start_time": "2021-08-26T19:59:43.687Z"
   },
   {
    "duration": 13,
    "start_time": "2021-08-26T19:59:50.846Z"
   },
   {
    "duration": 21,
    "start_time": "2021-08-26T19:59:53.598Z"
   },
   {
    "duration": 18,
    "start_time": "2021-08-26T19:59:57.860Z"
   },
   {
    "duration": 15,
    "start_time": "2021-08-26T19:59:59.642Z"
   },
   {
    "duration": 941,
    "start_time": "2021-08-26T20:00:10.119Z"
   },
   {
    "duration": 447,
    "start_time": "2021-08-26T20:00:12.646Z"
   },
   {
    "duration": 594,
    "start_time": "2021-08-26T20:00:15.924Z"
   },
   {
    "duration": 483,
    "start_time": "2021-08-26T20:00:18.401Z"
   },
   {
    "duration": 336,
    "start_time": "2021-08-26T20:00:25.232Z"
   },
   {
    "duration": 493,
    "start_time": "2021-08-26T20:00:28.068Z"
   },
   {
    "duration": 638,
    "start_time": "2021-08-26T20:00:39.543Z"
   },
   {
    "duration": 29625,
    "start_time": "2021-08-26T20:02:50.539Z"
   },
   {
    "duration": 95,
    "start_time": "2021-08-26T20:16:50.843Z"
   },
   {
    "duration": 17,
    "start_time": "2021-08-26T20:16:54.514Z"
   },
   {
    "duration": 15,
    "start_time": "2021-08-26T20:17:00.136Z"
   },
   {
    "duration": 21,
    "start_time": "2021-08-26T20:17:03.502Z"
   },
   {
    "duration": 18,
    "start_time": "2021-08-26T20:17:06.422Z"
   },
   {
    "duration": 15,
    "start_time": "2021-08-26T20:17:08.607Z"
   },
   {
    "duration": 15,
    "start_time": "2021-08-26T20:17:12.274Z"
   },
   {
    "duration": 17,
    "start_time": "2021-08-26T20:17:18.395Z"
   },
   {
    "duration": 17,
    "start_time": "2021-08-26T20:17:22.488Z"
   },
   {
    "duration": 430,
    "start_time": "2021-08-26T20:17:25.682Z"
   },
   {
    "duration": 1066,
    "start_time": "2021-08-26T20:18:16.103Z"
   },
   {
    "duration": 468,
    "start_time": "2021-08-26T20:18:39.103Z"
   },
   {
    "duration": 496,
    "start_time": "2021-08-26T20:19:11.460Z"
   },
   {
    "duration": 497,
    "start_time": "2021-08-26T20:19:16.975Z"
   },
   {
    "duration": 460,
    "start_time": "2021-08-26T20:20:15.126Z"
   },
   {
    "duration": 337,
    "start_time": "2021-08-26T20:21:52.153Z"
   },
   {
    "duration": 340,
    "start_time": "2021-08-26T20:23:43.072Z"
   },
   {
    "duration": 484,
    "start_time": "2021-08-26T20:24:01.941Z"
   },
   {
    "duration": 464,
    "start_time": "2021-08-26T20:38:17.797Z"
   },
   {
    "duration": 612,
    "start_time": "2021-08-26T21:11:18.358Z"
   },
   {
    "duration": 732,
    "start_time": "2021-08-26T21:11:27.791Z"
   },
   {
    "duration": 10,
    "start_time": "2021-08-26T21:15:46.883Z"
   },
   {
    "duration": 413,
    "start_time": "2021-08-26T21:16:55.613Z"
   },
   {
    "duration": 527,
    "start_time": "2021-08-26T21:17:14.553Z"
   },
   {
    "duration": 396,
    "start_time": "2021-08-26T21:17:45.954Z"
   },
   {
    "duration": 394,
    "start_time": "2021-08-26T21:18:08.673Z"
   },
   {
    "duration": 401,
    "start_time": "2021-08-26T21:18:33.324Z"
   },
   {
    "duration": 388,
    "start_time": "2021-08-26T21:19:22.162Z"
   },
   {
    "duration": 669,
    "start_time": "2021-08-26T21:20:20.243Z"
   },
   {
    "duration": 383,
    "start_time": "2021-08-26T21:22:03.805Z"
   },
   {
    "duration": 659,
    "start_time": "2021-08-26T21:25:36.192Z"
   },
   {
    "duration": 400,
    "start_time": "2021-08-26T21:25:47.448Z"
   },
   {
    "duration": 701,
    "start_time": "2021-08-26T21:31:37.862Z"
   },
   {
    "duration": 394,
    "start_time": "2021-08-26T21:31:52.341Z"
   },
   {
    "duration": 439,
    "start_time": "2021-08-26T21:33:04.982Z"
   },
   {
    "duration": 468,
    "start_time": "2021-08-26T21:33:10.883Z"
   },
   {
    "duration": 438,
    "start_time": "2021-08-26T21:33:19.488Z"
   },
   {
    "duration": 443,
    "start_time": "2021-08-26T21:33:28.805Z"
   },
   {
    "duration": 425,
    "start_time": "2021-08-26T21:33:40.173Z"
   },
   {
    "duration": 448,
    "start_time": "2021-08-26T21:33:48.876Z"
   },
   {
    "duration": 449,
    "start_time": "2021-08-26T21:34:04.469Z"
   },
   {
    "duration": 5,
    "start_time": "2021-08-26T21:35:23.108Z"
   },
   {
    "duration": 402,
    "start_time": "2021-08-26T21:35:48.780Z"
   },
   {
    "duration": 25,
    "start_time": "2021-08-26T21:36:04.691Z"
   },
   {
    "duration": 12,
    "start_time": "2021-08-26T21:36:39.121Z"
   },
   {
    "duration": 409,
    "start_time": "2021-08-26T21:38:16.803Z"
   },
   {
    "duration": 387,
    "start_time": "2021-08-26T21:38:57.639Z"
   },
   {
    "duration": 410,
    "start_time": "2021-08-26T21:39:48.689Z"
   },
   {
    "duration": 390,
    "start_time": "2021-08-26T21:40:14.094Z"
   },
   {
    "duration": 636,
    "start_time": "2021-08-26T21:42:55.446Z"
   },
   {
    "duration": 404,
    "start_time": "2021-08-26T21:43:58.004Z"
   },
   {
    "duration": 388,
    "start_time": "2021-08-26T21:44:58.118Z"
   },
   {
    "duration": 392,
    "start_time": "2021-08-26T21:45:12.256Z"
   },
   {
    "duration": 423,
    "start_time": "2021-08-26T21:46:09.665Z"
   },
   {
    "duration": 123,
    "start_time": "2021-08-26T21:59:10.639Z"
   },
   {
    "duration": 11,
    "start_time": "2021-08-26T21:59:24.466Z"
   },
   {
    "duration": 226,
    "start_time": "2021-08-26T21:59:38.408Z"
   },
   {
    "duration": 28,
    "start_time": "2021-08-26T22:00:23.546Z"
   },
   {
    "duration": 223,
    "start_time": "2021-08-26T22:02:19.239Z"
   },
   {
    "duration": 679,
    "start_time": "2021-08-26T22:02:58.411Z"
   },
   {
    "duration": 231,
    "start_time": "2021-08-26T22:03:32.760Z"
   },
   {
    "duration": 27,
    "start_time": "2021-08-26T22:04:22.349Z"
   },
   {
    "duration": 16,
    "start_time": "2021-08-26T22:04:40.852Z"
   },
   {
    "duration": 29,
    "start_time": "2021-08-26T22:05:06.909Z"
   },
   {
    "duration": 231,
    "start_time": "2021-08-26T22:36:22.259Z"
   },
   {
    "duration": 29,
    "start_time": "2021-08-26T22:38:17.771Z"
   },
   {
    "duration": 14,
    "start_time": "2021-08-26T22:38:43.209Z"
   },
   {
    "duration": 1588,
    "start_time": "2021-08-27T08:13:50.138Z"
   },
   {
    "duration": 23,
    "start_time": "2021-08-27T08:13:51.729Z"
   },
   {
    "duration": 28,
    "start_time": "2021-08-27T08:13:51.756Z"
   },
   {
    "duration": 18,
    "start_time": "2021-08-27T08:13:51.787Z"
   },
   {
    "duration": 51,
    "start_time": "2021-08-27T08:13:51.807Z"
   },
   {
    "duration": 22,
    "start_time": "2021-08-27T08:13:51.861Z"
   },
   {
    "duration": 19,
    "start_time": "2021-08-27T08:13:51.886Z"
   },
   {
    "duration": 47,
    "start_time": "2021-08-27T08:13:51.909Z"
   },
   {
    "duration": 18,
    "start_time": "2021-08-27T08:13:51.960Z"
   },
   {
    "duration": 18,
    "start_time": "2021-08-27T08:13:51.980Z"
   },
   {
    "duration": 57,
    "start_time": "2021-08-27T08:13:52.001Z"
   },
   {
    "duration": 441,
    "start_time": "2021-08-27T08:13:52.061Z"
   },
   {
    "duration": 572,
    "start_time": "2021-08-27T08:13:52.505Z"
   },
   {
    "duration": 930,
    "start_time": "2021-08-27T08:13:53.079Z"
   },
   {
    "duration": 488,
    "start_time": "2021-08-27T08:13:54.011Z"
   },
   {
    "duration": 458,
    "start_time": "2021-08-27T08:13:54.502Z"
   },
   {
    "duration": 496,
    "start_time": "2021-08-27T08:13:54.963Z"
   },
   {
    "duration": 445,
    "start_time": "2021-08-27T08:13:55.461Z"
   },
   {
    "duration": 511,
    "start_time": "2021-08-27T08:13:55.909Z"
   },
   {
    "duration": 11,
    "start_time": "2021-08-27T08:13:56.423Z"
   },
   {
    "duration": 804,
    "start_time": "2021-08-27T08:13:56.436Z"
   },
   {
    "duration": 14,
    "start_time": "2021-08-27T08:13:57.242Z"
   },
   {
    "duration": 410,
    "start_time": "2021-08-27T08:13:57.261Z"
   },
   {
    "duration": 6,
    "start_time": "2021-08-27T08:13:57.673Z"
   },
   {
    "duration": 233,
    "start_time": "2021-08-27T08:13:57.681Z"
   },
   {
    "duration": 15,
    "start_time": "2021-08-27T08:13:57.916Z"
   },
   {
    "duration": 49,
    "start_time": "2021-08-27T08:13:57.933Z"
   },
   {
    "duration": 22,
    "start_time": "2021-08-27T08:13:57.985Z"
   }
  ],
  "kernelspec": {
   "display_name": "Python 3",
   "language": "python",
   "name": "python3"
  },
  "language_info": {
   "codemirror_mode": {
    "name": "ipython",
    "version": 3
   },
   "file_extension": ".py",
   "mimetype": "text/x-python",
   "name": "python",
   "nbconvert_exporter": "python",
   "pygments_lexer": "ipython3",
   "version": "3.7.8"
  },
  "toc": {
   "base_numbering": "",
   "nav_menu": {},
   "number_sections": false,
   "sideBar": false,
   "skip_h1_title": false,
   "title_cell": "Table of Contents",
   "title_sidebar": "Contents",
   "toc_cell": false,
   "toc_position": {
    "height": "calc(100% - 180px)",
    "left": "10px",
    "top": "150px",
    "width": "165px"
   },
   "toc_section_display": false,
   "toc_window_display": false
  }
 },
 "nbformat": 4,
 "nbformat_minor": 2
}
