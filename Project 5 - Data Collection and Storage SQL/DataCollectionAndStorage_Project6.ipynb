{
 "cells": [
  {
   "cell_type": "markdown",
   "metadata": {},
   "source": [
    "Hello, my name is Artem. I'm going to review your project!\n",
    "\n",
    "You can find my comments in <font color='green'>green</font>, <font color='blue'>blue</font> or <font color='red'>red</font> boxes like this:\n",
    "\n",
    "<div class=\"alert alert-block alert-success\">\n",
    "<b>Success:</b> if everything is done succesfully\n",
    "</div>\n",
    "\n",
    "<div class=\"alert alert-block alert-info\">\n",
    "<b>Improve: </b> \"Improve\" comments mean that there are tiny corrections that could help you to make your project better.\n",
    "</div>\n",
    "\n",
    "<div class=\"alert alert-block alert-danger\">\n",
    "<b>Needs fixing:</b> if the block requires some corrections. Work can't be accepted with the red comments.\n",
    "</div>\n",
    "\n",
    "### <font color='orange'>General feedback</font>\n",
    "* Thank you for submitting your project! I am really impressed with it. \n",
    "* Glad to see that the notebook is structured. Keep it up!\n",
    "* It was a pleasure to review your project.\n",
    "* Great that hypothesis testing was done in the right way. You've mastered it!\n",
    "* I've left some comments which could help you to improve your project and further develop your skills.\n",
    "* Nice going! Good luck with further learning!"
   ]
  },
  {
   "cell_type": "markdown",
   "metadata": {},
   "source": [
    "# Exploratory Data Analysis onTaxi Rides \n",
    "\n",
    "#### Project description:\n",
    "\n",
    "We are working on a project for a company called Zuber, a new ride-sharing company that's launching in Chicago. Our task as an analysts is to find patterns in the available information. They also want to understand passenger preferences and the impact of external factors on rides.\n",
    "\n",
    "We'll also analyze data from competitors, and test a hypothesis about the impact of weather on ride frequency.\n",
    "\n",
    "##### Data description\n",
    "A database with info on taxi rides in Chicago:\n",
    "\n",
    "/datasets/project_sql_result_01.csv — the result of the first query. It contains the following data:\n",
    "company_name: taxi company name\n",
    "trips_amount: the number of rides for each taxi company on November 15-16, 2017.\n",
    "\n",
    "/datasets/project_sql_result_04.csv — the result of the second query. It contains the following data:\n",
    "dropoff_location_name: Chicago neighborhoods where rides ended\n",
    "average_trips: the average number of rides that ended in each neighborhood in November 2017.\n",
    "\n",
    "/datasets/project_sql_result_07.csv — the result of the last query. It contains data on rides from the Loop to O'Hare International Airport. Remember, these are the table's field values:\n",
    "- start_ts : pickup date and time\n",
    "- weather_conditions : weather conditions at the moment the ride started\n",
    "- duration_seconds : ride duration in seconds\n",
    "\n",
    "\n",
    "\n",
    "\n"
   ]
  },
  {
   "cell_type": "markdown",
   "metadata": {},
   "source": [
    "## Step 1. Open the data file and study the general information"
   ]
  },
  {
   "cell_type": "code",
   "execution_count": 10,
   "metadata": {},
   "outputs": [],
   "source": [
    "### Import default libraries\n",
    "import pandas as pd # manipulate and wrangle the data  \n",
    "import numpy as np\n",
    "import matplotlib.pyplot as plt #2d plotting library which produces publication quality figures in a variety of formats\n",
    "import seaborn as sns # Seaborn provides a high-level interface for drawing attractive and informative statistical graphics\n",
    "\n",
    "from scipy import stats # for mathematics, science, and engineering\n",
    "from math import ceil as math\n",
    "from scipy import stats as st\n",
    "\n",
    "### Read data from file\n",
    "company_tripamt_df = pd.read_csv('/datasets/project_sql_result_01.csv')\n",
    "dropoff_location_avgtrip_df = pd.read_csv('/datasets/project_sql_result_04.csv')\n",
    "\n"
   ]
  },
  {
   "cell_type": "markdown",
   "metadata": {},
   "source": [
    "<div class=\"alert alert-block alert-info\">\n",
    "<b>Improve: </b> It would be better if all imports were collected in the first cell.\n",
    "</div>"
   ]
  },
  {
   "cell_type": "code",
   "execution_count": 11,
   "metadata": {},
   "outputs": [
    {
     "name": "stdout",
     "output_type": "stream",
     "text": [
      "<class 'pandas.core.frame.DataFrame'>\n",
      "RangeIndex: 64 entries, 0 to 63\n",
      "Data columns (total 2 columns):\n",
      "company_name    64 non-null object\n",
      "trips_amount    64 non-null int64\n",
      "dtypes: int64(1), object(1)\n",
      "memory usage: 1.1+ KB\n"
     ]
    },
    {
     "data": {
      "text/html": [
       "<div>\n",
       "<style scoped>\n",
       "    .dataframe tbody tr th:only-of-type {\n",
       "        vertical-align: middle;\n",
       "    }\n",
       "\n",
       "    .dataframe tbody tr th {\n",
       "        vertical-align: top;\n",
       "    }\n",
       "\n",
       "    .dataframe thead th {\n",
       "        text-align: right;\n",
       "    }\n",
       "</style>\n",
       "<table border=\"1\" class=\"dataframe\">\n",
       "  <thead>\n",
       "    <tr style=\"text-align: right;\">\n",
       "      <th></th>\n",
       "      <th>company_name</th>\n",
       "      <th>trips_amount</th>\n",
       "    </tr>\n",
       "  </thead>\n",
       "  <tbody>\n",
       "    <tr>\n",
       "      <td>0</td>\n",
       "      <td>Flash Cab</td>\n",
       "      <td>19558</td>\n",
       "    </tr>\n",
       "    <tr>\n",
       "      <td>1</td>\n",
       "      <td>Taxi Affiliation Services</td>\n",
       "      <td>11422</td>\n",
       "    </tr>\n",
       "    <tr>\n",
       "      <td>2</td>\n",
       "      <td>Medallion Leasing</td>\n",
       "      <td>10367</td>\n",
       "    </tr>\n",
       "    <tr>\n",
       "      <td>3</td>\n",
       "      <td>Yellow Cab</td>\n",
       "      <td>9888</td>\n",
       "    </tr>\n",
       "    <tr>\n",
       "      <td>4</td>\n",
       "      <td>Taxi Affiliation Service Yellow</td>\n",
       "      <td>9299</td>\n",
       "    </tr>\n",
       "    <tr>\n",
       "      <td>...</td>\n",
       "      <td>...</td>\n",
       "      <td>...</td>\n",
       "    </tr>\n",
       "    <tr>\n",
       "      <td>59</td>\n",
       "      <td>4053 - 40193 Adwar H. Nikola</td>\n",
       "      <td>7</td>\n",
       "    </tr>\n",
       "    <tr>\n",
       "      <td>60</td>\n",
       "      <td>2733 - 74600 Benny Jona</td>\n",
       "      <td>7</td>\n",
       "    </tr>\n",
       "    <tr>\n",
       "      <td>61</td>\n",
       "      <td>5874 - 73628 Sergey Cab Corp.</td>\n",
       "      <td>5</td>\n",
       "    </tr>\n",
       "    <tr>\n",
       "      <td>62</td>\n",
       "      <td>2241 - 44667 - Felman Corp</td>\n",
       "      <td>3</td>\n",
       "    </tr>\n",
       "    <tr>\n",
       "      <td>63</td>\n",
       "      <td>3556 - 36214 RC Andrews Cab</td>\n",
       "      <td>2</td>\n",
       "    </tr>\n",
       "  </tbody>\n",
       "</table>\n",
       "<p>64 rows × 2 columns</p>\n",
       "</div>"
      ],
      "text/plain": [
       "                       company_name  trips_amount\n",
       "0                         Flash Cab         19558\n",
       "1         Taxi Affiliation Services         11422\n",
       "2                 Medallion Leasing         10367\n",
       "3                        Yellow Cab          9888\n",
       "4   Taxi Affiliation Service Yellow          9299\n",
       "..                              ...           ...\n",
       "59     4053 - 40193 Adwar H. Nikola             7\n",
       "60          2733 - 74600 Benny Jona             7\n",
       "61    5874 - 73628 Sergey Cab Corp.             5\n",
       "62       2241 - 44667 - Felman Corp             3\n",
       "63      3556 - 36214 RC Andrews Cab             2\n",
       "\n",
       "[64 rows x 2 columns]"
      ]
     },
     "execution_count": 11,
     "metadata": {},
     "output_type": "execute_result"
    }
   ],
   "source": [
    "##### preview the loaded data\n",
    "company_tripamt_df.info()\n",
    "\n",
    "##### return the top n- rows of dataframe\n",
    "company_tripamt_df.head(100)\n"
   ]
  },
  {
   "cell_type": "code",
   "execution_count": 12,
   "metadata": {},
   "outputs": [
    {
     "name": "stdout",
     "output_type": "stream",
     "text": [
      "<class 'pandas.core.frame.DataFrame'>\n",
      "RangeIndex: 94 entries, 0 to 93\n",
      "Data columns (total 2 columns):\n",
      "dropoff_location_name    94 non-null object\n",
      "average_trips            94 non-null float64\n",
      "dtypes: float64(1), object(1)\n",
      "memory usage: 1.6+ KB\n"
     ]
    },
    {
     "data": {
      "text/html": [
       "<div>\n",
       "<style scoped>\n",
       "    .dataframe tbody tr th:only-of-type {\n",
       "        vertical-align: middle;\n",
       "    }\n",
       "\n",
       "    .dataframe tbody tr th {\n",
       "        vertical-align: top;\n",
       "    }\n",
       "\n",
       "    .dataframe thead th {\n",
       "        text-align: right;\n",
       "    }\n",
       "</style>\n",
       "<table border=\"1\" class=\"dataframe\">\n",
       "  <thead>\n",
       "    <tr style=\"text-align: right;\">\n",
       "      <th></th>\n",
       "      <th>dropoff_location_name</th>\n",
       "      <th>average_trips</th>\n",
       "    </tr>\n",
       "  </thead>\n",
       "  <tbody>\n",
       "    <tr>\n",
       "      <td>0</td>\n",
       "      <td>Loop</td>\n",
       "      <td>10727.466667</td>\n",
       "    </tr>\n",
       "    <tr>\n",
       "      <td>1</td>\n",
       "      <td>River North</td>\n",
       "      <td>9523.666667</td>\n",
       "    </tr>\n",
       "    <tr>\n",
       "      <td>2</td>\n",
       "      <td>Streeterville</td>\n",
       "      <td>6664.666667</td>\n",
       "    </tr>\n",
       "    <tr>\n",
       "      <td>3</td>\n",
       "      <td>West Loop</td>\n",
       "      <td>5163.666667</td>\n",
       "    </tr>\n",
       "    <tr>\n",
       "      <td>4</td>\n",
       "      <td>O'Hare</td>\n",
       "      <td>2546.900000</td>\n",
       "    </tr>\n",
       "    <tr>\n",
       "      <td>...</td>\n",
       "      <td>...</td>\n",
       "      <td>...</td>\n",
       "    </tr>\n",
       "    <tr>\n",
       "      <td>89</td>\n",
       "      <td>Mount Greenwood</td>\n",
       "      <td>3.137931</td>\n",
       "    </tr>\n",
       "    <tr>\n",
       "      <td>90</td>\n",
       "      <td>Hegewisch</td>\n",
       "      <td>3.117647</td>\n",
       "    </tr>\n",
       "    <tr>\n",
       "      <td>91</td>\n",
       "      <td>Burnside</td>\n",
       "      <td>2.333333</td>\n",
       "    </tr>\n",
       "    <tr>\n",
       "      <td>92</td>\n",
       "      <td>East Side</td>\n",
       "      <td>1.961538</td>\n",
       "    </tr>\n",
       "    <tr>\n",
       "      <td>93</td>\n",
       "      <td>Riverdale</td>\n",
       "      <td>1.800000</td>\n",
       "    </tr>\n",
       "  </tbody>\n",
       "</table>\n",
       "<p>94 rows × 2 columns</p>\n",
       "</div>"
      ],
      "text/plain": [
       "   dropoff_location_name  average_trips\n",
       "0                   Loop   10727.466667\n",
       "1            River North    9523.666667\n",
       "2          Streeterville    6664.666667\n",
       "3              West Loop    5163.666667\n",
       "4                 O'Hare    2546.900000\n",
       "..                   ...            ...\n",
       "89       Mount Greenwood       3.137931\n",
       "90             Hegewisch       3.117647\n",
       "91              Burnside       2.333333\n",
       "92             East Side       1.961538\n",
       "93             Riverdale       1.800000\n",
       "\n",
       "[94 rows x 2 columns]"
      ]
     },
     "execution_count": 12,
     "metadata": {},
     "output_type": "execute_result"
    }
   ],
   "source": [
    "##### preview the loaded data\n",
    "dropoff_location_avgtrip_df.info()\n",
    "\n",
    "##### return the top n- rows of dataframe\n",
    "dropoff_location_avgtrip_df.head(100)"
   ]
  },
  {
   "cell_type": "code",
   "execution_count": 13,
   "metadata": {},
   "outputs": [
    {
     "data": {
      "text/html": [
       "<div>\n",
       "<style scoped>\n",
       "    .dataframe tbody tr th:only-of-type {\n",
       "        vertical-align: middle;\n",
       "    }\n",
       "\n",
       "    .dataframe tbody tr th {\n",
       "        vertical-align: top;\n",
       "    }\n",
       "\n",
       "    .dataframe thead th {\n",
       "        text-align: right;\n",
       "    }\n",
       "</style>\n",
       "<table border=\"1\" class=\"dataframe\">\n",
       "  <thead>\n",
       "    <tr style=\"text-align: right;\">\n",
       "      <th></th>\n",
       "      <th>trips_amount</th>\n",
       "    </tr>\n",
       "  </thead>\n",
       "  <tbody>\n",
       "    <tr>\n",
       "      <td>count</td>\n",
       "      <td>64.000000</td>\n",
       "    </tr>\n",
       "    <tr>\n",
       "      <td>mean</td>\n",
       "      <td>2145.484375</td>\n",
       "    </tr>\n",
       "    <tr>\n",
       "      <td>std</td>\n",
       "      <td>3812.310186</td>\n",
       "    </tr>\n",
       "    <tr>\n",
       "      <td>min</td>\n",
       "      <td>2.000000</td>\n",
       "    </tr>\n",
       "    <tr>\n",
       "      <td>25%</td>\n",
       "      <td>20.750000</td>\n",
       "    </tr>\n",
       "    <tr>\n",
       "      <td>50%</td>\n",
       "      <td>178.500000</td>\n",
       "    </tr>\n",
       "    <tr>\n",
       "      <td>75%</td>\n",
       "      <td>2106.500000</td>\n",
       "    </tr>\n",
       "    <tr>\n",
       "      <td>max</td>\n",
       "      <td>19558.000000</td>\n",
       "    </tr>\n",
       "  </tbody>\n",
       "</table>\n",
       "</div>"
      ],
      "text/plain": [
       "       trips_amount\n",
       "count     64.000000\n",
       "mean    2145.484375\n",
       "std     3812.310186\n",
       "min        2.000000\n",
       "25%       20.750000\n",
       "50%      178.500000\n",
       "75%     2106.500000\n",
       "max    19558.000000"
      ]
     },
     "metadata": {},
     "output_type": "display_data"
    },
    {
     "data": {
      "text/html": [
       "<div>\n",
       "<style scoped>\n",
       "    .dataframe tbody tr th:only-of-type {\n",
       "        vertical-align: middle;\n",
       "    }\n",
       "\n",
       "    .dataframe tbody tr th {\n",
       "        vertical-align: top;\n",
       "    }\n",
       "\n",
       "    .dataframe thead th {\n",
       "        text-align: right;\n",
       "    }\n",
       "</style>\n",
       "<table border=\"1\" class=\"dataframe\">\n",
       "  <thead>\n",
       "    <tr style=\"text-align: right;\">\n",
       "      <th></th>\n",
       "      <th>Total</th>\n",
       "      <th>Percent</th>\n",
       "    </tr>\n",
       "  </thead>\n",
       "  <tbody>\n",
       "    <tr>\n",
       "      <td>trips_amount</td>\n",
       "      <td>0</td>\n",
       "      <td>0.0</td>\n",
       "    </tr>\n",
       "    <tr>\n",
       "      <td>company_name</td>\n",
       "      <td>0</td>\n",
       "      <td>0.0</td>\n",
       "    </tr>\n",
       "  </tbody>\n",
       "</table>\n",
       "</div>"
      ],
      "text/plain": [
       "              Total  Percent\n",
       "trips_amount      0      0.0\n",
       "company_name      0      0.0"
      ]
     },
     "execution_count": 13,
     "metadata": {},
     "output_type": "execute_result"
    }
   ],
   "source": [
    "# provides descriptive statistics\n",
    "display(company_tripamt_df.describe()) \n",
    "\n",
    "#display all missing values columns along with %\n",
    "\n",
    "total = company_tripamt_df.isnull().sum().sort_values(ascending=False)\n",
    "percent =total/len(company_tripamt_df)*100\n",
    "pd.concat([total,percent], axis=1, keys=['Total','Percent']).head(8)"
   ]
  },
  {
   "cell_type": "code",
   "execution_count": 14,
   "metadata": {},
   "outputs": [
    {
     "data": {
      "text/html": [
       "<div>\n",
       "<style scoped>\n",
       "    .dataframe tbody tr th:only-of-type {\n",
       "        vertical-align: middle;\n",
       "    }\n",
       "\n",
       "    .dataframe tbody tr th {\n",
       "        vertical-align: top;\n",
       "    }\n",
       "\n",
       "    .dataframe thead th {\n",
       "        text-align: right;\n",
       "    }\n",
       "</style>\n",
       "<table border=\"1\" class=\"dataframe\">\n",
       "  <thead>\n",
       "    <tr style=\"text-align: right;\">\n",
       "      <th></th>\n",
       "      <th>average_trips</th>\n",
       "    </tr>\n",
       "  </thead>\n",
       "  <tbody>\n",
       "    <tr>\n",
       "      <td>count</td>\n",
       "      <td>94.000000</td>\n",
       "    </tr>\n",
       "    <tr>\n",
       "      <td>mean</td>\n",
       "      <td>599.953728</td>\n",
       "    </tr>\n",
       "    <tr>\n",
       "      <td>std</td>\n",
       "      <td>1714.591098</td>\n",
       "    </tr>\n",
       "    <tr>\n",
       "      <td>min</td>\n",
       "      <td>1.800000</td>\n",
       "    </tr>\n",
       "    <tr>\n",
       "      <td>25%</td>\n",
       "      <td>14.266667</td>\n",
       "    </tr>\n",
       "    <tr>\n",
       "      <td>50%</td>\n",
       "      <td>52.016667</td>\n",
       "    </tr>\n",
       "    <tr>\n",
       "      <td>75%</td>\n",
       "      <td>298.858333</td>\n",
       "    </tr>\n",
       "    <tr>\n",
       "      <td>max</td>\n",
       "      <td>10727.466667</td>\n",
       "    </tr>\n",
       "  </tbody>\n",
       "</table>\n",
       "</div>"
      ],
      "text/plain": [
       "       average_trips\n",
       "count      94.000000\n",
       "mean      599.953728\n",
       "std      1714.591098\n",
       "min         1.800000\n",
       "25%        14.266667\n",
       "50%        52.016667\n",
       "75%       298.858333\n",
       "max     10727.466667"
      ]
     },
     "metadata": {},
     "output_type": "display_data"
    },
    {
     "data": {
      "text/html": [
       "<div>\n",
       "<style scoped>\n",
       "    .dataframe tbody tr th:only-of-type {\n",
       "        vertical-align: middle;\n",
       "    }\n",
       "\n",
       "    .dataframe tbody tr th {\n",
       "        vertical-align: top;\n",
       "    }\n",
       "\n",
       "    .dataframe thead th {\n",
       "        text-align: right;\n",
       "    }\n",
       "</style>\n",
       "<table border=\"1\" class=\"dataframe\">\n",
       "  <thead>\n",
       "    <tr style=\"text-align: right;\">\n",
       "      <th></th>\n",
       "      <th>Total</th>\n",
       "      <th>Percent</th>\n",
       "    </tr>\n",
       "  </thead>\n",
       "  <tbody>\n",
       "    <tr>\n",
       "      <td>average_trips</td>\n",
       "      <td>0</td>\n",
       "      <td>0.0</td>\n",
       "    </tr>\n",
       "    <tr>\n",
       "      <td>dropoff_location_name</td>\n",
       "      <td>0</td>\n",
       "      <td>0.0</td>\n",
       "    </tr>\n",
       "  </tbody>\n",
       "</table>\n",
       "</div>"
      ],
      "text/plain": [
       "                       Total  Percent\n",
       "average_trips              0      0.0\n",
       "dropoff_location_name      0      0.0"
      ]
     },
     "execution_count": 14,
     "metadata": {},
     "output_type": "execute_result"
    }
   ],
   "source": [
    "# provides descriptive statistics\n",
    "display(dropoff_location_avgtrip_df.describe()) \n",
    "\n",
    "#display all missing values columns along with %\n",
    "\n",
    "total = dropoff_location_avgtrip_df.isnull().sum().sort_values(ascending=False)\n",
    "percent =total/len(dropoff_location_avgtrip_df)*100\n",
    "pd.concat([total,percent], axis=1, keys=['Total','Percent']).head(8)\n"
   ]
  },
  {
   "cell_type": "markdown",
   "metadata": {},
   "source": [
    "#### Conclusion:\n",
    "We checked the general information of two datasets (company_tripamt_df , dropoff_location_avgtrip_df).\n",
    "\n",
    "Upon checking the data, we found that the datasets are much cleaner. We didn't find any big issues and discrepancies.\n",
    "\n",
    "However, there are minor issues like\n",
    "- data type of the 'company_name' column in the company_tripamt_df table needs to be changed.\n",
    "- data type of 'dropoff_location_name' column in dropoff_location_avgtrip_df table needs to be changed.\n",
    "\n",
    "\n",
    "\n"
   ]
  },
  {
   "cell_type": "markdown",
   "metadata": {},
   "source": [
    "<div class=\"alert alert-block alert-success\">\n",
    "<b>Success:</b> Data loading and initial analysis were done well!\n",
    "</div>"
   ]
  },
  {
   "cell_type": "markdown",
   "metadata": {},
   "source": [
    "##  Step 2-3: Prepare & Analyze the data\n",
    "In this step, we are viewing the data in more detail to convert them to the necessary types. Find and eliminate errors in the data \n",
    "\n",
    "- Convert the data to the required types.\n",
    "- If necessary, check for missing values.\n",
    "- duplicate rows\n"
   ]
  },
  {
   "cell_type": "code",
   "execution_count": 15,
   "metadata": {},
   "outputs": [],
   "source": [
    "#converting float data numbers into string type\n",
    "company_tripamt_df['company_name'] = company_tripamt_df['company_name'].astype(str)\n",
    "dropoff_location_avgtrip_df['dropoff_location_name'] = dropoff_location_avgtrip_df['dropoff_location_name'].astype(str)\n",
    "          \n",
    "# Drop any duplicates in the database\n",
    "company_tripamt_df.drop_duplicates(inplace=True)\n",
    "dropoff_location_avgtrip_df.drop_duplicates(inplace=True)"
   ]
  },
  {
   "cell_type": "code",
   "execution_count": 16,
   "metadata": {},
   "outputs": [
    {
     "data": {
      "text/plain": [
       "dropoff_location_name    0\n",
       "average_trips            0\n",
       "dtype: int64"
      ]
     },
     "execution_count": 16,
     "metadata": {},
     "output_type": "execute_result"
    }
   ],
   "source": [
    "# checking null columns\n",
    "\n",
    "company_tripamt_df.isnull().sum()\n",
    "dropoff_location_avgtrip_df.isnull().sum()"
   ]
  },
  {
   "cell_type": "code",
   "execution_count": 17,
   "metadata": {},
   "outputs": [
    {
     "data": {
      "text/html": [
       "<div>\n",
       "<style scoped>\n",
       "    .dataframe tbody tr th:only-of-type {\n",
       "        vertical-align: middle;\n",
       "    }\n",
       "\n",
       "    .dataframe tbody tr th {\n",
       "        vertical-align: top;\n",
       "    }\n",
       "\n",
       "    .dataframe thead th {\n",
       "        text-align: right;\n",
       "    }\n",
       "</style>\n",
       "<table border=\"1\" class=\"dataframe\">\n",
       "  <thead>\n",
       "    <tr style=\"text-align: right;\">\n",
       "      <th></th>\n",
       "      <th>dropoff_location_name</th>\n",
       "      <th>average_trips</th>\n",
       "    </tr>\n",
       "  </thead>\n",
       "  <tbody>\n",
       "    <tr>\n",
       "      <td>0</td>\n",
       "      <td>Loop</td>\n",
       "      <td>10727.466667</td>\n",
       "    </tr>\n",
       "    <tr>\n",
       "      <td>1</td>\n",
       "      <td>River North</td>\n",
       "      <td>9523.666667</td>\n",
       "    </tr>\n",
       "    <tr>\n",
       "      <td>2</td>\n",
       "      <td>Streeterville</td>\n",
       "      <td>6664.666667</td>\n",
       "    </tr>\n",
       "    <tr>\n",
       "      <td>3</td>\n",
       "      <td>West Loop</td>\n",
       "      <td>5163.666667</td>\n",
       "    </tr>\n",
       "    <tr>\n",
       "      <td>4</td>\n",
       "      <td>O'Hare</td>\n",
       "      <td>2546.900000</td>\n",
       "    </tr>\n",
       "    <tr>\n",
       "      <td>...</td>\n",
       "      <td>...</td>\n",
       "      <td>...</td>\n",
       "    </tr>\n",
       "    <tr>\n",
       "      <td>89</td>\n",
       "      <td>Mount Greenwood</td>\n",
       "      <td>3.137931</td>\n",
       "    </tr>\n",
       "    <tr>\n",
       "      <td>90</td>\n",
       "      <td>Hegewisch</td>\n",
       "      <td>3.117647</td>\n",
       "    </tr>\n",
       "    <tr>\n",
       "      <td>91</td>\n",
       "      <td>Burnside</td>\n",
       "      <td>2.333333</td>\n",
       "    </tr>\n",
       "    <tr>\n",
       "      <td>92</td>\n",
       "      <td>East Side</td>\n",
       "      <td>1.961538</td>\n",
       "    </tr>\n",
       "    <tr>\n",
       "      <td>93</td>\n",
       "      <td>Riverdale</td>\n",
       "      <td>1.800000</td>\n",
       "    </tr>\n",
       "  </tbody>\n",
       "</table>\n",
       "<p>94 rows × 2 columns</p>\n",
       "</div>"
      ],
      "text/plain": [
       "   dropoff_location_name  average_trips\n",
       "0                   Loop   10727.466667\n",
       "1            River North    9523.666667\n",
       "2          Streeterville    6664.666667\n",
       "3              West Loop    5163.666667\n",
       "4                 O'Hare    2546.900000\n",
       "..                   ...            ...\n",
       "89       Mount Greenwood       3.137931\n",
       "90             Hegewisch       3.117647\n",
       "91              Burnside       2.333333\n",
       "92             East Side       1.961538\n",
       "93             Riverdale       1.800000\n",
       "\n",
       "[94 rows x 2 columns]"
      ]
     },
     "execution_count": 17,
     "metadata": {},
     "output_type": "execute_result"
    }
   ],
   "source": [
    "# Drop any duplicates in the database\n",
    "company_tripamt_df.drop_duplicates(inplace=True)\n",
    "dropoff_location_avgtrip_df.drop_duplicates(inplace=True)\n",
    "dropoff_location_avgtrip_df"
   ]
  },
  {
   "cell_type": "markdown",
   "metadata": {},
   "source": [
    "### Conclusion:\n",
    "\n",
    "- We converted the datatypes of 'company_name', 'dropoff_location_name' columns\n",
    "- There are no duplicates and missing values in the datasets.\n",
    "\n",
    "After all the cleanup, we also dropped any duplicates records remaining in the dataset.\n"
   ]
  },
  {
   "cell_type": "markdown",
   "metadata": {},
   "source": [
    "<div class=\"alert alert-block alert-success\">\n",
    "<b>Success:</b> Great that you've made some checks.\n",
    "</div>"
   ]
  },
  {
   "cell_type": "markdown",
   "metadata": {},
   "source": [
    "### Step 4. Exploratory data analysis"
   ]
  },
  {
   "cell_type": "markdown",
   "metadata": {},
   "source": [
    "#### Identify the top 10 neighborhoods in terms number of dropoffs "
   ]
  },
  {
   "cell_type": "code",
   "execution_count": 18,
   "metadata": {},
   "outputs": [
    {
     "name": "stdout",
     "output_type": "stream",
     "text": [
      "  dropoff_location_name  average_trips\n",
      "0                  Loop       10727.47\n",
      "1           River North        9523.67\n",
      "2         Streeterville        6664.67\n",
      "3             West Loop        5163.67\n",
      "4                O'Hare        2546.90\n",
      "5             Lake View        2420.97\n",
      "6            Grant Park        2068.53\n",
      "7         Museum Campus        1510.00\n",
      "8            Gold Coast        1364.23\n",
      "9    Sheffield & DePaul        1259.77\n"
     ]
    }
   ],
   "source": [
    "top10_neighborhoods_dropoffs = dropoff_location_avgtrip_df.sort_values(by='average_trips',ascending=False).round(decimals=2).head(10)\n",
    "print(top10_neighborhoods_dropoffs)\n",
    "\n"
   ]
  },
  {
   "cell_type": "markdown",
   "metadata": {},
   "source": [
    "#### Conclusion:\n",
    "Loop, River North,Streetville, West Loop, O'Hare, Lake View, Grant Park, Museum Campus, Gold Coast, Sheffield & DePaul are the top 10 neighbourhood in terms number of dropoffs. "
   ]
  },
  {
   "cell_type": "markdown",
   "metadata": {},
   "source": [
    "<div class=\"alert alert-block alert-info\">\n",
    "<b>Improve: </b> Your solution is OK but I would use \".nlargest()\" method.\n",
    "</div>"
   ]
  },
  {
   "cell_type": "markdown",
   "metadata": {},
   "source": [
    "### Taxi Companies and Number of Rides"
   ]
  },
  {
   "cell_type": "code",
   "execution_count": 19,
   "metadata": {
    "scrolled": true
   },
   "outputs": [
    {
     "name": "stdout",
     "output_type": "stream",
     "text": [
      "                       company_name  trips_amount\n",
      "0                         Flash Cab         19558\n",
      "1         Taxi Affiliation Services         11422\n",
      "2                 Medallion Leasing         10367\n",
      "3                        Yellow Cab          9888\n",
      "4   Taxi Affiliation Service Yellow          9299\n",
      "..                              ...           ...\n",
      "59     4053 - 40193 Adwar H. Nikola             7\n",
      "60          2733 - 74600 Benny Jona             7\n",
      "61    5874 - 73628 Sergey Cab Corp.             5\n",
      "62       2241 - 44667 - Felman Corp             3\n",
      "63      3556 - 36214 RC Andrews Cab             2\n",
      "\n",
      "[64 rows x 2 columns]\n"
     ]
    },
    {
     "data": {
      "image/png": "[encoded data removed]",
      "text/plain": [
       "<Figure size 1080x720 with 1 Axes>"
      ]
     },
     "metadata": {
      "needs_background": "light"
     },
     "output_type": "display_data"
    }
   ],
   "source": [
    "import seaborn as sns\n",
    "import matplotlib.pyplot as plt\n",
    "\n",
    "# Plot all taxi companies\n",
    "taxi_ride = company_tripamt_df.sort_values(by='trips_amount',ascending=False)\n",
    "print(taxi_ride)\n",
    "\n",
    "ax = taxi_ride.plot(kind='bar', x='company_name', y='trips_amount',figsize=(15,10))\n",
    "\n",
    "ax.set_title(\"Taxi Companies and Rides on Nov 15-16, 2017\", fontsize=18)\n",
    "ax.set_ylabel(\"Number of Rides\", fontsize=18);\n",
    "ax.set_xlabel(\"Taxi Companies\", fontsize=18);"
   ]
  },
  {
   "cell_type": "markdown",
   "metadata": {},
   "source": [
    "#### Conclusion:\n",
    "Flash Cab was the most popular one on November 15-16 2017.\n",
    "\n"
   ]
  },
  {
   "cell_type": "markdown",
   "metadata": {},
   "source": [
    "<div class=\"alert alert-block alert-success\">\n",
    "<b>Success:</b> Great that you;ve sorted companies before visualizing.\n",
    "</div>"
   ]
  },
  {
   "cell_type": "markdown",
   "metadata": {},
   "source": [
    "### Top 10 neighborhood by number of dropoffs"
   ]
  },
  {
   "cell_type": "code",
   "execution_count": 20,
   "metadata": {},
   "outputs": [
    {
     "data": {
      "image/png": "[encoded data removed]",
      "text/plain": [
       "<Figure size 864x432 with 1 Axes>"
      ]
     },
     "metadata": {
      "needs_background": "light"
     },
     "output_type": "display_data"
    }
   ],
   "source": [
    "top10_neighborhoods_dropoffs = dropoff_location_avgtrip_df.sort_values(by='average_trips',ascending=False).round(decimals=2).head(10)\n",
    "#print(top10_neighborhoods_dropoffs)\n",
    "\n",
    "import seaborn as sns\n",
    "\n",
    "# Figure Size\n",
    "fig, ax = plt.subplots()\n",
    "fig.set_size_inches(12,6)\n",
    "\n",
    "sns.barplot(x=top10_neighborhoods_dropoffs.dropoff_location_name, y='average_trips'\n",
    "            , data=top10_neighborhoods_dropoffs\n",
    "            , ax=ax\n",
    "            , capsize=12)\n",
    "\n",
    "plt.ylabel('Avg Number of Dropoffs')\n",
    "plt.xlabel('Neighborhood')\n",
    "plt.title('Top 10 Dropoff Neighborhoods')\n",
    "          \n",
    "plt.show()\n",
    "\n"
   ]
  },
  {
   "cell_type": "markdown",
   "metadata": {},
   "source": [
    "#### Conclusion:\n",
    "Loop, River North and Streeterville were mostly neighborhoods by average number of rides that ended in each neighborhood in November 2017."
   ]
  },
  {
   "cell_type": "markdown",
   "metadata": {},
   "source": [
    "<div class=\"alert alert-block alert-success\">\n",
    "<b>Success:</b> Great!\n",
    "</div>"
   ]
  },
  {
   "cell_type": "markdown",
   "metadata": {},
   "source": [
    "### Step 5. Test the following hypotheses:\n",
    "\n",
    "/datasets/project_sql_result_07.csv — the result of the last query. It contains data on rides from the Loop to O'Hare International Airport. Remember, these are the table's field values:\n",
    "\n",
    "- start_ts\n",
    "   - pickup date and time\n",
    "- weather_conditions\n",
    "- weather conditions at the moment the ride started\n",
    "- duration_seconds\n",
    "- ride duration in seconds\n",
    "- Test the hypothesis:\n",
    "\"The average duration of rides from the Loop to O'Hare International Airport changes on rainy Saturdays.\"\n",
    "Decide where to set the significance level (alpha) on your own.\n",
    "Explain:\n",
    "how you formed the null and alternative hypotheses\n",
    "what criterion you used to test the hypotheses and why\n"
   ]
  },
  {
   "cell_type": "code",
   "execution_count": 21,
   "metadata": {
    "scrolled": true
   },
   "outputs": [
    {
     "name": "stdout",
     "output_type": "stream",
     "text": [
      "<class 'pandas.core.frame.DataFrame'>\n",
      "RangeIndex: 1068 entries, 0 to 1067\n",
      "Data columns (total 3 columns):\n",
      "start_ts              1068 non-null object\n",
      "weather_conditions    1068 non-null object\n",
      "duration_seconds      1068 non-null float64\n",
      "dtypes: float64(1), object(2)\n",
      "memory usage: 25.2+ KB\n"
     ]
    },
    {
     "data": {
      "text/plain": [
       "array(['Good', 'Bad'], dtype=object)"
      ]
     },
     "execution_count": 21,
     "metadata": {},
     "output_type": "execute_result"
    }
   ],
   "source": [
    "# Read data from file\n",
    "Weather_conditions_df = pd.read_csv('/datasets/project_sql_result_07.csv')\n",
    "\n",
    "# preview the loaded data to check structure of dataset\n",
    "Weather_conditions_df.info()\n",
    "\n",
    "## checking missing values\n",
    "Weather_conditions_df.isna().sum()\n",
    "\n",
    "# Return the top n- rows of dataframe\n",
    "Weather_conditions_df.head(5)\n",
    "\n",
    "Weather_conditions_df.weather_conditions.unique()"
   ]
  },
  {
   "cell_type": "code",
   "execution_count": 22,
   "metadata": {},
   "outputs": [],
   "source": [
    "# changing data type of the dataset\n",
    "Weather_conditions_df['start_ts'] = pd.to_datetime(Weather_conditions_df['start_ts'])"
   ]
  },
  {
   "cell_type": "code",
   "execution_count": 23,
   "metadata": {},
   "outputs": [
    {
     "name": "stdout",
     "output_type": "stream",
     "text": [
      "The average duration of non-rainy Saturday rides is 33.327927927927924\n",
      "The average duration of rainy Saturday rides  is 40.45342592592593\n",
      "p-value:  6.738994326108734e-12\n",
      "We reject the null hypothesis\n"
     ]
    }
   ],
   "source": [
    "### Test whether the average duration of rides from the Loop to \n",
    "#O'Hare International Airport changes on rainy Saturdays\n",
    "\n",
    "# rainy Saturday data \n",
    "rainy_rides = Weather_conditions_df[Weather_conditions_df['weather_conditions']=='Bad']\n",
    "\n",
    "# non-rainy data\n",
    "nonrainy_rides = Weather_conditions_df[Weather_conditions_df['weather_conditions']=='Good']\n",
    "\n",
    "# calculate average duration of non rainy and rainy rides\n",
    "avg_nonrainy_rides = nonrainy_rides['duration_seconds'].mean()\n",
    "print('The average duration of non-rainy Saturday rides is ' + str(avg_nonrainy_rides/60))\n",
    "\n",
    "avg_rainy_rides = rainy_rides['duration_seconds'].mean()\n",
    "print('The average duration of rainy Saturday rides  is ' + str(avg_rainy_rides/60))\n",
    "\n",
    "# perform a t-test\n",
    "results = st.ttest_ind(rainy_rides['duration_seconds'], nonrainy_rides['duration_seconds'], equal_var=False)\n",
    "p_value = results.pvalue\n",
    "\n",
    "# critical statistical significance level\n",
    "alpha = 0.05\n",
    "\n",
    "print('p-value: ', results.pvalue)\n",
    "\n",
    "if p_value < alpha:\n",
    "    print('We reject the null hypothesis')\n",
    "else:\n",
    "    print('We can not reject the null hypothesis')"
   ]
  },
  {
   "cell_type": "markdown",
   "metadata": {},
   "source": [
    "### Conclusion:\n",
    "We tested the hypothesis that the average duration of rides from the Loop to O'Hare International Airport changes on rainy Saturdays. We started with two independent samples t-test to compare the average duration of two rides group (bad and good weather). We performed t-tests with the two hypotheses.\n",
    "\n",
    "- Null hypothesis (H₀): the average duration of rides from the Loop to\n",
    "O'Hare International Airport doesn't change on rainy Saturdays\n",
    "\n",
    "- Alternative hypothesis(H₁): the average duration of rides from the Loop to\n",
    "O'Hare International Airport changes on rainy Saturdays\n",
    "\n",
    "For this, we will use an alpha of 0.05, which means that only in 5% of cases will we reject the null hypothesis when it is true.\n",
    "\n",
    "We used a t-test to test the hypothesis because it is used to compare the means of two groups in order to determine whether two groups are different from one another.\n",
    "\n",
    "This result implies that the average duration of rides from the Loop to\n",
    "O'Hare International Airport changes on rainy Saturdays.\n",
    "The average duration of rainy Saturday rides is 40.45 mins whereas the average duration of non-rainy Saturday rides is 33.33 mins. There are 7 mins difference between the two samples. Based on that, we can conclude that weather does impact on ride frequencies."
   ]
  },
  {
   "cell_type": "markdown",
   "metadata": {},
   "source": [
    "<div class=\"alert alert-block alert-success\">\n",
    "<b>Success:</b> Both null and alternative hypotheses were formulated correctly. Testing was done in the right way too.\n",
    "</div>"
   ]
  },
  {
   "cell_type": "markdown",
   "metadata": {},
   "source": [
    "### Overall Conclusion:\n",
    "The goal of this project is to analyze the impact of weather on ride frequency. \n",
    "\n",
    "To do that, we first imported files CSV files and studied the contents. Changed data types of columns where required and checked for duplicate and missing values in the datasets. The presence of any of these, will not give us an accurate result so need to be taken care of beforehand. \n",
    "\n",
    "We identified the top 10 neighborhoods in terms of drop-offs. We also plotted graphs for taxi companies and the number of rides, top 10 neighborhoods by a number of dropoffs. \n",
    "\n",
    "We tested the hypothesis:\"The average duration of rides from the Loop to O'Hare International Airport changes on rainy Saturdays.\" Based on the test we can conclude that the average duration of rides from the Loop to O'Hare International Airport changes on rainy Saturdays. \n",
    "\n",
    "Hence, weather impacts on ride frequencies."
   ]
  },
  {
   "cell_type": "markdown",
   "metadata": {},
   "source": [
    "<div class=\"alert alert-block alert-success\">\n",
    "<b>Success:</b> Glad to see detailed overall conclusion at the end of the project.\n",
    "</div>"
   ]
  }
 ],
 "metadata": {
  "ExecuteTimeLog": [
   {
    "duration": 150,
    "start_time": "2021-07-12T16:18:27.561Z"
   },
   {
    "duration": 1493,
    "start_time": "2021-07-12T16:18:57.010Z"
   },
   {
    "duration": 44,
    "start_time": "2021-07-12T16:19:05.871Z"
   },
   {
    "duration": 95,
    "start_time": "2021-07-12T16:19:46.975Z"
   },
   {
    "duration": 1549,
    "start_time": "2021-07-14T00:22:16.296Z"
   },
   {
    "duration": 17,
    "start_time": "2021-07-14T00:22:24.632Z"
   },
   {
    "duration": 24,
    "start_time": "2021-07-14T00:22:30.333Z"
   },
   {
    "duration": 2466,
    "start_time": "2021-07-14T00:27:46.147Z"
   },
   {
    "duration": 330,
    "start_time": "2021-07-14T00:27:48.802Z"
   },
   {
    "duration": 2363,
    "start_time": "2021-07-14T00:27:59.902Z"
   },
   {
    "duration": 356,
    "start_time": "2021-07-14T00:28:02.423Z"
   },
   {
    "duration": 28,
    "start_time": "2021-07-14T00:28:11.088Z"
   },
   {
    "duration": 23,
    "start_time": "2021-07-14T00:28:13.389Z"
   },
   {
    "duration": 18,
    "start_time": "2021-07-14T00:28:41.100Z"
   },
   {
    "duration": 18,
    "start_time": "2021-07-14T00:28:51.021Z"
   },
   {
    "duration": 33,
    "start_time": "2021-07-14T00:30:12.259Z"
   },
   {
    "duration": 19,
    "start_time": "2021-07-14T00:30:21.014Z"
   },
   {
    "duration": 345,
    "start_time": "2021-07-14T00:31:10.070Z"
   },
   {
    "duration": 29,
    "start_time": "2021-07-14T00:31:22.457Z"
   },
   {
    "duration": 18,
    "start_time": "2021-07-14T00:31:25.274Z"
   },
   {
    "duration": 18,
    "start_time": "2021-07-14T00:31:28.320Z"
   },
   {
    "duration": 30,
    "start_time": "2021-07-14T00:31:31.593Z"
   },
   {
    "duration": 29,
    "start_time": "2021-07-14T00:43:42.373Z"
   },
   {
    "duration": 17,
    "start_time": "2021-07-14T00:43:46.434Z"
   },
   {
    "duration": 358,
    "start_time": "2021-07-14T03:27:19.904Z"
   },
   {
    "duration": 328,
    "start_time": "2021-07-14T03:27:33.188Z"
   },
   {
    "duration": 349,
    "start_time": "2021-07-14T03:27:58.765Z"
   },
   {
    "duration": 1528,
    "start_time": "2021-07-14T03:28:11.714Z"
   },
   {
    "duration": 27,
    "start_time": "2021-07-14T03:28:23.842Z"
   },
   {
    "duration": 27,
    "start_time": "2021-07-14T03:28:28.559Z"
   },
   {
    "duration": 24,
    "start_time": "2021-07-14T03:28:32.438Z"
   },
   {
    "duration": 19,
    "start_time": "2021-07-14T03:29:56.134Z"
   },
   {
    "duration": 19,
    "start_time": "2021-07-14T03:31:00.449Z"
   },
   {
    "duration": 33,
    "start_time": "2021-07-14T03:33:02.566Z"
   },
   {
    "duration": 28,
    "start_time": "2021-07-14T03:33:06.343Z"
   },
   {
    "duration": 422,
    "start_time": "2021-07-14T03:37:02.842Z"
   },
   {
    "duration": 10,
    "start_time": "2021-07-14T03:37:28.976Z"
   },
   {
    "duration": 8,
    "start_time": "2021-07-14T03:37:34.523Z"
   },
   {
    "duration": 10,
    "start_time": "2021-07-14T03:38:01.745Z"
   },
   {
    "duration": 8,
    "start_time": "2021-07-14T03:39:29.850Z"
   },
   {
    "duration": 126,
    "start_time": "2021-07-14T03:41:11.174Z"
   },
   {
    "duration": 340,
    "start_time": "2021-07-14T03:43:49.114Z"
   },
   {
    "duration": 365,
    "start_time": "2021-07-14T03:44:31.332Z"
   },
   {
    "duration": 323,
    "start_time": "2021-07-14T03:44:59.340Z"
   },
   {
    "duration": 30,
    "start_time": "2021-07-14T04:14:57.421Z"
   },
   {
    "duration": 357,
    "start_time": "2021-07-14T04:17:38.061Z"
   },
   {
    "duration": 321,
    "start_time": "2021-07-14T04:18:11.242Z"
   },
   {
    "duration": 387,
    "start_time": "2021-07-14T04:19:55.038Z"
   },
   {
    "duration": 361,
    "start_time": "2021-07-14T04:23:09.757Z"
   },
   {
    "duration": 8,
    "start_time": "2021-07-14T04:24:39.238Z"
   },
   {
    "duration": 16,
    "start_time": "2021-07-14T04:24:52.709Z"
   },
   {
    "duration": 11,
    "start_time": "2021-07-14T04:25:18.418Z"
   },
   {
    "duration": 11,
    "start_time": "2021-07-14T04:25:47.714Z"
   },
   {
    "duration": 18,
    "start_time": "2021-07-14T04:29:07.300Z"
   },
   {
    "duration": 3005,
    "start_time": "2021-07-14T04:30:19.184Z"
   },
   {
    "duration": 3120,
    "start_time": "2021-07-14T04:30:36.951Z"
   },
   {
    "duration": 1465,
    "start_time": "2021-07-14T16:24:43.569Z"
   },
   {
    "duration": 23,
    "start_time": "2021-07-14T16:24:50.470Z"
   },
   {
    "duration": 34,
    "start_time": "2021-07-14T16:24:53.520Z"
   },
   {
    "duration": 29,
    "start_time": "2021-07-14T16:24:56.430Z"
   },
   {
    "duration": 11,
    "start_time": "2021-07-14T16:25:00.805Z"
   },
   {
    "duration": 9,
    "start_time": "2021-07-14T16:25:03.273Z"
   },
   {
    "duration": 19,
    "start_time": "2021-07-14T16:25:06.854Z"
   },
   {
    "duration": 3053,
    "start_time": "2021-07-14T16:26:14.183Z"
   },
   {
    "duration": 3112,
    "start_time": "2021-07-14T16:27:42.947Z"
   },
   {
    "duration": 2983,
    "start_time": "2021-07-14T16:28:28.527Z"
   },
   {
    "duration": 551,
    "start_time": "2021-07-14T16:28:48.104Z"
   },
   {
    "duration": 443,
    "start_time": "2021-07-14T16:28:55.175Z"
   },
   {
    "duration": 897,
    "start_time": "2021-07-14T16:34:29.283Z"
   },
   {
    "duration": 607,
    "start_time": "2021-07-14T16:34:50.086Z"
   },
   {
    "duration": 2563,
    "start_time": "2021-07-14T16:35:12.566Z"
   },
   {
    "duration": 2728,
    "start_time": "2021-07-14T16:36:31.738Z"
   },
   {
    "duration": 2694,
    "start_time": "2021-07-14T16:37:59.015Z"
   },
   {
    "duration": 2581,
    "start_time": "2021-07-14T16:51:10.183Z"
   },
   {
    "duration": 2913,
    "start_time": "2021-07-14T16:51:37.802Z"
   },
   {
    "duration": 94,
    "start_time": "2021-07-14T16:54:41.370Z"
   },
   {
    "duration": 2751,
    "start_time": "2021-07-14T16:54:46.440Z"
   },
   {
    "duration": 2926,
    "start_time": "2021-07-14T17:06:44.357Z"
   },
   {
    "duration": 2970,
    "start_time": "2021-07-14T17:08:21.007Z"
   },
   {
    "duration": 2626,
    "start_time": "2021-07-14T17:08:43.702Z"
   },
   {
    "duration": 2594,
    "start_time": "2021-07-14T17:09:06.803Z"
   },
   {
    "duration": 2962,
    "start_time": "2021-07-14T17:12:16.995Z"
   },
   {
    "duration": 2905,
    "start_time": "2021-07-14T17:13:34.513Z"
   },
   {
    "duration": 3023,
    "start_time": "2021-07-14T17:14:12.986Z"
   },
   {
    "duration": 510,
    "start_time": "2021-07-14T17:16:54.180Z"
   },
   {
    "duration": 507,
    "start_time": "2021-07-14T17:17:09.909Z"
   },
   {
    "duration": 1514,
    "start_time": "2021-07-14T19:41:28.946Z"
   },
   {
    "duration": 24,
    "start_time": "2021-07-14T19:41:34.403Z"
   },
   {
    "duration": 18,
    "start_time": "2021-07-14T19:41:35.705Z"
   },
   {
    "duration": 33,
    "start_time": "2021-07-14T19:41:37.167Z"
   },
   {
    "duration": 29,
    "start_time": "2021-07-14T19:41:38.558Z"
   },
   {
    "duration": 10,
    "start_time": "2021-07-14T19:41:42.544Z"
   },
   {
    "duration": 9,
    "start_time": "2021-07-14T19:41:44.574Z"
   },
   {
    "duration": 19,
    "start_time": "2021-07-14T19:41:47.377Z"
   },
   {
    "duration": 458,
    "start_time": "2021-07-14T19:41:56.545Z"
   },
   {
    "duration": 414,
    "start_time": "2021-07-14T19:50:09.834Z"
   },
   {
    "duration": 324,
    "start_time": "2021-07-14T19:51:14.458Z"
   },
   {
    "duration": 272,
    "start_time": "2021-07-14T19:51:50.512Z"
   },
   {
    "duration": 273,
    "start_time": "2021-07-14T19:53:25.068Z"
   },
   {
    "duration": 273,
    "start_time": "2021-07-14T19:53:50.053Z"
   },
   {
    "duration": 294,
    "start_time": "2021-07-14T19:56:40.853Z"
   },
   {
    "duration": 274,
    "start_time": "2021-07-14T19:56:50.592Z"
   },
   {
    "duration": 310,
    "start_time": "2021-07-14T19:57:20.630Z"
   },
   {
    "duration": 276,
    "start_time": "2021-07-14T19:58:55.767Z"
   },
   {
    "duration": 286,
    "start_time": "2021-07-14T20:01:05.544Z"
   },
   {
    "duration": 2345,
    "start_time": "2021-07-14T20:01:23.391Z"
   },
   {
    "duration": 7,
    "start_time": "2021-07-14T20:07:09.083Z"
   },
   {
    "duration": 10,
    "start_time": "2021-07-14T20:07:16.651Z"
   },
   {
    "duration": 2128,
    "start_time": "2021-07-14T20:25:17.641Z"
   },
   {
    "duration": 1473,
    "start_time": "2021-07-15T00:43:20.690Z"
   },
   {
    "duration": 33,
    "start_time": "2021-07-15T00:43:27.497Z"
   },
   {
    "duration": 23,
    "start_time": "2021-07-15T00:43:28.539Z"
   },
   {
    "duration": 19,
    "start_time": "2021-07-15T00:43:30.217Z"
   },
   {
    "duration": 34,
    "start_time": "2021-07-15T00:43:34.481Z"
   },
   {
    "duration": 28,
    "start_time": "2021-07-15T00:43:37.323Z"
   },
   {
    "duration": 10,
    "start_time": "2021-07-15T00:45:09.699Z"
   },
   {
    "duration": 10,
    "start_time": "2021-07-15T00:45:11.923Z"
   },
   {
    "duration": 18,
    "start_time": "2021-07-15T00:45:14.706Z"
   },
   {
    "duration": 462,
    "start_time": "2021-07-15T00:45:19.823Z"
   },
   {
    "duration": 2162,
    "start_time": "2021-07-15T00:46:42.836Z"
   },
   {
    "duration": 12,
    "start_time": "2021-07-15T01:50:59.218Z"
   },
   {
    "duration": 565,
    "start_time": "2021-07-15T01:51:15.870Z"
   },
   {
    "duration": 182,
    "start_time": "2021-07-15T01:56:34.462Z"
   },
   {
    "duration": 55,
    "start_time": "2021-07-15T02:14:23.142Z"
   },
   {
    "duration": 48,
    "start_time": "2021-07-15T02:15:02.865Z"
   },
   {
    "duration": 48,
    "start_time": "2021-07-15T02:17:48.478Z"
   },
   {
    "duration": 43,
    "start_time": "2021-07-15T02:18:00.951Z"
   },
   {
    "duration": 8,
    "start_time": "2021-07-15T02:23:08.157Z"
   },
   {
    "duration": 37,
    "start_time": "2021-07-15T02:25:43.156Z"
   },
   {
    "duration": 10,
    "start_time": "2021-07-15T02:32:21.051Z"
   },
   {
    "duration": 92,
    "start_time": "2021-07-15T02:43:19.786Z"
   },
   {
    "duration": 407,
    "start_time": "2021-07-15T02:43:50.579Z"
   },
   {
    "duration": 12,
    "start_time": "2021-07-15T02:44:53.544Z"
   },
   {
    "duration": 100,
    "start_time": "2021-07-15T02:47:42.523Z"
   },
   {
    "duration": 13,
    "start_time": "2021-07-15T03:14:35.316Z"
   },
   {
    "duration": 1444,
    "start_time": "2021-07-15T15:36:38.400Z"
   },
   {
    "duration": 23,
    "start_time": "2021-07-15T15:36:41.121Z"
   },
   {
    "duration": 18,
    "start_time": "2021-07-15T15:36:43.948Z"
   },
   {
    "duration": 35,
    "start_time": "2021-07-15T15:36:46.646Z"
   },
   {
    "duration": 27,
    "start_time": "2021-07-15T15:36:49.073Z"
   },
   {
    "duration": 425,
    "start_time": "2021-07-15T16:18:44.291Z"
   },
   {
    "duration": 61,
    "start_time": "2021-07-15T16:19:53.980Z"
   },
   {
    "duration": 9,
    "start_time": "2021-07-15T16:19:56.722Z"
   },
   {
    "duration": 15,
    "start_time": "2021-07-15T16:21:43.363Z"
   },
   {
    "duration": 32,
    "start_time": "2021-07-15T16:30:41.328Z"
   },
   {
    "duration": 18,
    "start_time": "2021-07-15T16:30:43.310Z"
   },
   {
    "duration": 18,
    "start_time": "2021-07-15T16:30:45.918Z"
   },
   {
    "duration": 27,
    "start_time": "2021-07-15T16:30:48.563Z"
   },
   {
    "duration": 27,
    "start_time": "2021-07-15T16:30:51.304Z"
   },
   {
    "duration": 14,
    "start_time": "2021-07-15T16:31:43.463Z"
   },
   {
    "duration": 9,
    "start_time": "2021-07-15T16:31:46.120Z"
   },
   {
    "duration": 17,
    "start_time": "2021-07-15T16:31:48.541Z"
   },
   {
    "duration": 11,
    "start_time": "2021-07-15T16:32:13.005Z"
   },
   {
    "duration": 2170,
    "start_time": "2021-07-15T16:32:15.895Z"
   },
   {
    "duration": 449,
    "start_time": "2021-07-15T16:32:19.772Z"
   },
   {
    "duration": 48,
    "start_time": "2021-07-15T16:32:26.662Z"
   },
   {
    "duration": 7,
    "start_time": "2021-07-15T16:32:31.032Z"
   },
   {
    "duration": 15,
    "start_time": "2021-07-15T16:32:33.931Z"
   }
  ],
  "kernelspec": {
   "display_name": "Python 3",
   "language": "python",
   "name": "python3"
  },
  "language_info": {
   "codemirror_mode": {
    "name": "ipython",
    "version": 3
   },
   "file_extension": ".py",
   "mimetype": "text/x-python",
   "name": "python",
   "nbconvert_exporter": "python",
   "pygments_lexer": "ipython3",
   "version": "3.7.8"
  },
  "toc": {
   "base_numbering": 1,
   "nav_menu": {},
   "number_sections": false,
   "sideBar": false,
   "skip_h1_title": false,
   "title_cell": "Table of Contents",
   "title_sidebar": "Contents",
   "toc_cell": false,
   "toc_position": {},
   "toc_section_display": false,
   "toc_window_display": false
  }
 },
 "nbformat": 4,
 "nbformat_minor": 2
}
