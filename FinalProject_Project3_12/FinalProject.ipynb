{
 "cells": [
  {
   "cell_type": "markdown",
   "metadata": {},
   "source": [
    "## Review\n",
    "\n",
    "Your final project will be reviewed by your team leader, Arina.\n",
    "\n",
    "You can find my comments in colored markdown cells:\n",
    "\n",
    "<div class=\"alert alert-success\">\n",
    "    If a section is accepted.\n",
    "</div>\n",
    "\n",
    "<div class=\"alert alert-warning\">\n",
    "    If I have some suggestions or general comments. The section can still be accepted.\n",
    "</div>\n",
    "\n",
    "<div class=\"alert alert-danger\">\n",
    "    If the section requires some corrections. The decomposition won't be accepted with red comments.\n",
    "</div>"
   ]
  },
  {
   "cell_type": "markdown",
   "metadata": {},
   "source": [
    "## Assess Sales Outlets' Performance"
   ]
  },
  {
   "cell_type": "markdown",
   "metadata": {},
   "source": [
    "### Step 1. Open the data file and study the general information"
   ]
  },
  {
   "cell_type": "code",
   "execution_count": 45,
   "metadata": {},
   "outputs": [],
   "source": [
    "##### Import default libraries\n",
    "try:\n",
    "    import pandas as pd\n",
    "    import numpy as np\n",
    "    import matplotlib as mpl\n",
    "    import matplotlib.pyplot as plt\n",
    "    import seaborn as sns\n",
    "    from scipy import stats\n",
    "    from scipy import stats as st\n",
    "    import math\n",
    "    import matplotlib.dates as mdates\n",
    "    import datetime \n",
    "    import math\n",
    "    import plotly.express as px\n",
    "  \n",
    "    \n",
    "except:\n",
    "    print(\"An exception occurred\")"
   ]
  },
  {
   "cell_type": "code",
   "execution_count": 46,
   "metadata": {
    "scrolled": true
   },
   "outputs": [
    {
     "name": "stdout",
     "output_type": "stream",
     "text": [
      "<class 'pandas.core.frame.DataFrame'>\n",
      "RangeIndex: 105335 entries, 0 to 105334\n",
      "Data columns (total 7 columns):\n",
      "purchaseid         105335 non-null object\n",
      "item_ID            105335 non-null object\n",
      "Quantity           105335 non-null int64\n",
      "purchasedate       105335 non-null object\n",
      "CustomerID         69125 non-null float64\n",
      "loyalty_program    105335 non-null int64\n",
      "ShopID             105335 non-null object\n",
      "dtypes: float64(1), int64(2), object(4)\n",
      "memory usage: 5.6+ MB\n"
     ]
    },
    {
     "data": {
      "text/html": [
       "<div>\n",
       "<style scoped>\n",
       "    .dataframe tbody tr th:only-of-type {\n",
       "        vertical-align: middle;\n",
       "    }\n",
       "\n",
       "    .dataframe tbody tr th {\n",
       "        vertical-align: top;\n",
       "    }\n",
       "\n",
       "    .dataframe thead th {\n",
       "        text-align: right;\n",
       "    }\n",
       "</style>\n",
       "<table border=\"1\" class=\"dataframe\">\n",
       "  <thead>\n",
       "    <tr style=\"text-align: right;\">\n",
       "      <th></th>\n",
       "      <th>purchaseid</th>\n",
       "      <th>item_ID</th>\n",
       "      <th>Quantity</th>\n",
       "      <th>purchasedate</th>\n",
       "      <th>CustomerID</th>\n",
       "      <th>loyalty_program</th>\n",
       "      <th>ShopID</th>\n",
       "    </tr>\n",
       "  </thead>\n",
       "  <tbody>\n",
       "    <tr>\n",
       "      <td>0</td>\n",
       "      <td>538280</td>\n",
       "      <td>21873</td>\n",
       "      <td>11</td>\n",
       "      <td>2016-12-10 12:50:00</td>\n",
       "      <td>18427.0</td>\n",
       "      <td>0</td>\n",
       "      <td>Shop 3</td>\n",
       "    </tr>\n",
       "    <tr>\n",
       "      <td>1</td>\n",
       "      <td>538862</td>\n",
       "      <td>22195</td>\n",
       "      <td>0</td>\n",
       "      <td>2016-12-14 14:11:00</td>\n",
       "      <td>22389.0</td>\n",
       "      <td>1</td>\n",
       "      <td>Shop 2</td>\n",
       "    </tr>\n",
       "    <tr>\n",
       "      <td>2</td>\n",
       "      <td>538855</td>\n",
       "      <td>21239</td>\n",
       "      <td>7</td>\n",
       "      <td>2016-12-14 13:50:00</td>\n",
       "      <td>22182.0</td>\n",
       "      <td>1</td>\n",
       "      <td>Shop 3</td>\n",
       "    </tr>\n",
       "    <tr>\n",
       "      <td>3</td>\n",
       "      <td>543543</td>\n",
       "      <td>22271</td>\n",
       "      <td>0</td>\n",
       "      <td>2017-02-09 15:33:00</td>\n",
       "      <td>23522.0</td>\n",
       "      <td>1</td>\n",
       "      <td>Shop 28</td>\n",
       "    </tr>\n",
       "    <tr>\n",
       "      <td>4</td>\n",
       "      <td>543812</td>\n",
       "      <td>79321</td>\n",
       "      <td>0</td>\n",
       "      <td>2017-02-13 14:40:00</td>\n",
       "      <td>23151.0</td>\n",
       "      <td>1</td>\n",
       "      <td>Shop 28</td>\n",
       "    </tr>\n",
       "    <tr>\n",
       "      <td>5</td>\n",
       "      <td>538379</td>\n",
       "      <td>22965</td>\n",
       "      <td>0</td>\n",
       "      <td>2016-12-12 11:26:00</td>\n",
       "      <td>22805.0</td>\n",
       "      <td>1</td>\n",
       "      <td>Shop 20</td>\n",
       "    </tr>\n",
       "    <tr>\n",
       "      <td>6</td>\n",
       "      <td>540468</td>\n",
       "      <td>22189</td>\n",
       "      <td>0</td>\n",
       "      <td>2017-01-07 13:55:00</td>\n",
       "      <td>NaN</td>\n",
       "      <td>0</td>\n",
       "      <td>Shop 0</td>\n",
       "    </tr>\n",
       "    <tr>\n",
       "      <td>7</td>\n",
       "      <td>541424</td>\n",
       "      <td>79321</td>\n",
       "      <td>1</td>\n",
       "      <td>2017-01-17 17:57:00</td>\n",
       "      <td>NaN</td>\n",
       "      <td>0</td>\n",
       "      <td>Shop 0</td>\n",
       "    </tr>\n",
       "    <tr>\n",
       "      <td>8</td>\n",
       "      <td>538883</td>\n",
       "      <td>22891</td>\n",
       "      <td>0</td>\n",
       "      <td>2016-12-14 15:56:00</td>\n",
       "      <td>NaN</td>\n",
       "      <td>0</td>\n",
       "      <td>Shop 0</td>\n",
       "    </tr>\n",
       "    <tr>\n",
       "      <td>9</td>\n",
       "      <td>539501</td>\n",
       "      <td>22372</td>\n",
       "      <td>0</td>\n",
       "      <td>2016-12-20 11:08:00</td>\n",
       "      <td>22764.0</td>\n",
       "      <td>1</td>\n",
       "      <td>Shop 1</td>\n",
       "    </tr>\n",
       "  </tbody>\n",
       "</table>\n",
       "</div>"
      ],
      "text/plain": [
       "  purchaseid item_ID  Quantity         purchasedate  CustomerID  \\\n",
       "0     538280   21873        11  2016-12-10 12:50:00     18427.0   \n",
       "1     538862   22195         0  2016-12-14 14:11:00     22389.0   \n",
       "2     538855   21239         7  2016-12-14 13:50:00     22182.0   \n",
       "3     543543   22271         0  2017-02-09 15:33:00     23522.0   \n",
       "4     543812   79321         0  2017-02-13 14:40:00     23151.0   \n",
       "5     538379   22965         0  2016-12-12 11:26:00     22805.0   \n",
       "6     540468   22189         0  2017-01-07 13:55:00         NaN   \n",
       "7     541424   79321         1  2017-01-17 17:57:00         NaN   \n",
       "8     538883   22891         0  2016-12-14 15:56:00         NaN   \n",
       "9     539501   22372         0  2016-12-20 11:08:00     22764.0   \n",
       "\n",
       "   loyalty_program   ShopID  \n",
       "0                0   Shop 3  \n",
       "1                1   Shop 2  \n",
       "2                1   Shop 3  \n",
       "3                1  Shop 28  \n",
       "4                1  Shop 28  \n",
       "5                1  Shop 20  \n",
       "6                0   Shop 0  \n",
       "7                0   Shop 0  \n",
       "8                0   Shop 0  \n",
       "9                1   Shop 1  "
      ]
     },
     "execution_count": 46,
     "metadata": {},
     "output_type": "execute_result"
    }
   ],
   "source": [
    "#read data from file\n",
    "retail_df = pd.read_csv('/datasets/retail_dataset_us.csv')\n",
    "\n",
    "# study general information \n",
    "retail_df.info()\n",
    "retail_df.head(10)"
   ]
  },
  {
   "cell_type": "code",
   "execution_count": 47,
   "metadata": {
    "scrolled": true
   },
   "outputs": [
    {
     "name": "stdout",
     "output_type": "stream",
     "text": [
      "<class 'pandas.core.frame.DataFrame'>\n",
      "RangeIndex: 3159 entries, 0 to 3158\n",
      "Data columns (total 2 columns):\n",
      "productID        3159 non-null object\n",
      "price_per_one    3159 non-null float64\n",
      "dtypes: float64(1), object(1)\n",
      "memory usage: 49.5+ KB\n"
     ]
    },
    {
     "data": {
      "text/html": [
       "<div>\n",
       "<style scoped>\n",
       "    .dataframe tbody tr th:only-of-type {\n",
       "        vertical-align: middle;\n",
       "    }\n",
       "\n",
       "    .dataframe tbody tr th {\n",
       "        vertical-align: top;\n",
       "    }\n",
       "\n",
       "    .dataframe thead th {\n",
       "        text-align: right;\n",
       "    }\n",
       "</style>\n",
       "<table border=\"1\" class=\"dataframe\">\n",
       "  <thead>\n",
       "    <tr style=\"text-align: right;\">\n",
       "      <th></th>\n",
       "      <th>productID</th>\n",
       "      <th>price_per_one</th>\n",
       "    </tr>\n",
       "  </thead>\n",
       "  <tbody>\n",
       "    <tr>\n",
       "      <td>0</td>\n",
       "      <td>10002</td>\n",
       "      <td>0.85</td>\n",
       "    </tr>\n",
       "    <tr>\n",
       "      <td>1</td>\n",
       "      <td>10080</td>\n",
       "      <td>0.85</td>\n",
       "    </tr>\n",
       "    <tr>\n",
       "      <td>2</td>\n",
       "      <td>10120</td>\n",
       "      <td>0.21</td>\n",
       "    </tr>\n",
       "    <tr>\n",
       "      <td>3</td>\n",
       "      <td>10123C</td>\n",
       "      <td>0.65</td>\n",
       "    </tr>\n",
       "    <tr>\n",
       "      <td>4</td>\n",
       "      <td>10124A</td>\n",
       "      <td>0.42</td>\n",
       "    </tr>\n",
       "    <tr>\n",
       "      <td>5</td>\n",
       "      <td>10124G</td>\n",
       "      <td>0.42</td>\n",
       "    </tr>\n",
       "    <tr>\n",
       "      <td>6</td>\n",
       "      <td>10125</td>\n",
       "      <td>0.42</td>\n",
       "    </tr>\n",
       "    <tr>\n",
       "      <td>7</td>\n",
       "      <td>10133</td>\n",
       "      <td>0.42</td>\n",
       "    </tr>\n",
       "    <tr>\n",
       "      <td>8</td>\n",
       "      <td>10135</td>\n",
       "      <td>0.42</td>\n",
       "    </tr>\n",
       "    <tr>\n",
       "      <td>9</td>\n",
       "      <td>11001</td>\n",
       "      <td>1.69</td>\n",
       "    </tr>\n",
       "  </tbody>\n",
       "</table>\n",
       "</div>"
      ],
      "text/plain": [
       "  productID  price_per_one\n",
       "0     10002           0.85\n",
       "1     10080           0.85\n",
       "2     10120           0.21\n",
       "3    10123C           0.65\n",
       "4    10124A           0.42\n",
       "5    10124G           0.42\n",
       "6     10125           0.42\n",
       "7     10133           0.42\n",
       "8     10135           0.42\n",
       "9     11001           1.69"
      ]
     },
     "execution_count": 47,
     "metadata": {},
     "output_type": "execute_result"
    }
   ],
   "source": [
    "#read data from file\n",
    "product_df = pd.read_csv('/datasets/product_codes_us.csv', sep = ';')\n",
    "\n",
    "# study general information \n",
    "product_df.info()\n",
    "product_df.head(10)"
   ]
  },
  {
   "cell_type": "markdown",
   "metadata": {},
   "source": [
    "#### Conclusion:\n",
    "We checked the general information of 'retail_df' and 'product_df' datasets. Upon checking data, we found that the datasets are much cleaner. We didn't find any big issues and discrepancies. However, there are minor issues like column names have capital letters (upper and lower case combination) and need to be renamed for consistency\n",
    "- columns like 'purchase_date' need to changed to date type\n",
    "- 'customer_id' need to changed to int type\n",
    "- There are missing values in 'CustomerID'\n",
    "\n"
   ]
  },
  {
   "cell_type": "markdown",
   "metadata": {},
   "source": [
    "<div class=\"alert alert-success\">\n",
    "    +\n",
    "</div>"
   ]
  },
  {
   "cell_type": "markdown",
   "metadata": {},
   "source": [
    "## Step 2: Prepare the data for Analysis\n",
    "In this step, we are viewing the data in more detail to convert them to the necessary types. Find and eliminate errors in the data\n",
    "\n",
    "- Replace the column names (make them lowercase)\n",
    "- Convert the data to the required types\n",
    "- Checking missing values and duplicates\n"
   ]
  },
  {
   "cell_type": "code",
   "execution_count": 48,
   "metadata": {},
   "outputs": [],
   "source": [
    "# renaming columns\n",
    "\n",
    "retail_df = retail_df.rename(columns={'purchaseid': 'purchase_id', \n",
    "                                      'item_ID':'product_id', \n",
    "                                      'Quantity':'quantity',\n",
    "                                      'purchasedate':'purchase_date',\n",
    "                                      'CustomerID':'customer_id', \n",
    "                                      'ShopID':'shop_id'})\n",
    "product_df = product_df.rename(columns={'productID': 'product_id', \n",
    "                                        'price_per_one':'price_per_product'})"
   ]
  },
  {
   "cell_type": "code",
   "execution_count": 49,
   "metadata": {},
   "outputs": [],
   "source": [
    "# convert dates to datetime objects, only date should remain\n",
    "\n",
    "retail_df['purchase_date'] =  pd.to_datetime(retail_df['purchase_date']).dt.date\n",
    "\n",
    "# Splitting Date and create new columns (Day, Month, and Year)\n",
    "retail_df['day']= pd.DatetimeIndex(retail_df['purchase_date']).day\n",
    "retail_df['month'] = pd.DatetimeIndex(retail_df['purchase_date']).month\n",
    "retail_df['year'] = pd.DatetimeIndex(retail_df['purchase_date']).year\n"
   ]
  },
  {
   "cell_type": "code",
   "execution_count": null,
   "metadata": {},
   "outputs": [],
   "source": [
    "#converting float data numbers into int type\n",
    "\n",
    "#retail_df['customer_id'] = retail_df['customer_id'].astype(float).astype('Int32')\n",
    "#retail_df['purchase_id'] = retail_df['purchase_id'].astype('int64')\n",
    "#product_df['price_per_product'] = product_df['price_per_product'].astype('Int')"
   ]
  },
  {
   "cell_type": "code",
   "execution_count": 50,
   "metadata": {},
   "outputs": [
    {
     "name": "stdout",
     "output_type": "stream",
     "text": [
      "1034\n",
      "0\n"
     ]
    }
   ],
   "source": [
    "# Checking for any duplicate rows\n",
    "print(retail_df.duplicated().sum())\n",
    "print(product_df.duplicated().sum())"
   ]
  },
  {
   "cell_type": "code",
   "execution_count": 51,
   "metadata": {},
   "outputs": [],
   "source": [
    "# Dropping any duplicates in the dataset\n",
    "\n",
    "retail_df.drop_duplicates(inplace=True)"
   ]
  },
  {
   "cell_type": "code",
   "execution_count": 52,
   "metadata": {},
   "outputs": [
    {
     "data": {
      "text/html": [
       "<div>\n",
       "<style scoped>\n",
       "    .dataframe tbody tr th:only-of-type {\n",
       "        vertical-align: middle;\n",
       "    }\n",
       "\n",
       "    .dataframe tbody tr th {\n",
       "        vertical-align: top;\n",
       "    }\n",
       "\n",
       "    .dataframe thead th {\n",
       "        text-align: right;\n",
       "    }\n",
       "</style>\n",
       "<table border=\"1\" class=\"dataframe\">\n",
       "  <thead>\n",
       "    <tr style=\"text-align: right;\">\n",
       "      <th></th>\n",
       "      <th>Total</th>\n",
       "      <th>Percent</th>\n",
       "    </tr>\n",
       "  </thead>\n",
       "  <tbody>\n",
       "    <tr>\n",
       "      <td>customer_id</td>\n",
       "      <td>36147</td>\n",
       "      <td>34.656427</td>\n",
       "    </tr>\n",
       "    <tr>\n",
       "      <td>year</td>\n",
       "      <td>0</td>\n",
       "      <td>0.000000</td>\n",
       "    </tr>\n",
       "    <tr>\n",
       "      <td>month</td>\n",
       "      <td>0</td>\n",
       "      <td>0.000000</td>\n",
       "    </tr>\n",
       "    <tr>\n",
       "      <td>day</td>\n",
       "      <td>0</td>\n",
       "      <td>0.000000</td>\n",
       "    </tr>\n",
       "    <tr>\n",
       "      <td>shop_id</td>\n",
       "      <td>0</td>\n",
       "      <td>0.000000</td>\n",
       "    </tr>\n",
       "    <tr>\n",
       "      <td>loyalty_program</td>\n",
       "      <td>0</td>\n",
       "      <td>0.000000</td>\n",
       "    </tr>\n",
       "    <tr>\n",
       "      <td>purchase_date</td>\n",
       "      <td>0</td>\n",
       "      <td>0.000000</td>\n",
       "    </tr>\n",
       "    <tr>\n",
       "      <td>quantity</td>\n",
       "      <td>0</td>\n",
       "      <td>0.000000</td>\n",
       "    </tr>\n",
       "  </tbody>\n",
       "</table>\n",
       "</div>"
      ],
      "text/plain": [
       "                 Total    Percent\n",
       "customer_id      36147  34.656427\n",
       "year                 0   0.000000\n",
       "month                0   0.000000\n",
       "day                  0   0.000000\n",
       "shop_id              0   0.000000\n",
       "loyalty_program      0   0.000000\n",
       "purchase_date        0   0.000000\n",
       "quantity             0   0.000000"
      ]
     },
     "execution_count": 52,
     "metadata": {},
     "output_type": "execute_result"
    }
   ],
   "source": [
    "# checking if there are any null/blank columns\n",
    "\n",
    "total = retail_df.isnull().sum().sort_values(ascending=False)\n",
    "percent =total/len(retail_df)*100\n",
    "pd.concat([total,percent], axis=1, keys=['Total','Percent']).head(8)"
   ]
  },
  {
   "cell_type": "code",
   "execution_count": 54,
   "metadata": {},
   "outputs": [
    {
     "data": {
      "text/html": [
       "<div>\n",
       "<style scoped>\n",
       "    .dataframe tbody tr th:only-of-type {\n",
       "        vertical-align: middle;\n",
       "    }\n",
       "\n",
       "    .dataframe tbody tr th {\n",
       "        vertical-align: top;\n",
       "    }\n",
       "\n",
       "    .dataframe thead th {\n",
       "        text-align: right;\n",
       "    }\n",
       "</style>\n",
       "<table border=\"1\" class=\"dataframe\">\n",
       "  <thead>\n",
       "    <tr style=\"text-align: right;\">\n",
       "      <th></th>\n",
       "      <th>purchase_id</th>\n",
       "      <th>product_id</th>\n",
       "      <th>quantity</th>\n",
       "      <th>purchase_date</th>\n",
       "      <th>customer_id</th>\n",
       "      <th>loyalty_program</th>\n",
       "      <th>shop_id</th>\n",
       "      <th>day</th>\n",
       "      <th>month</th>\n",
       "      <th>year</th>\n",
       "    </tr>\n",
       "  </thead>\n",
       "  <tbody>\n",
       "  </tbody>\n",
       "</table>\n",
       "</div>"
      ],
      "text/plain": [
       "Empty DataFrame\n",
       "Columns: [purchase_id, product_id, quantity, purchase_date, customer_id, loyalty_program, shop_id, day, month, year]\n",
       "Index: []"
      ]
     },
     "metadata": {},
     "output_type": "display_data"
    }
   ],
   "source": [
    "# checking if blank customer_ids are part of loyalty program or not\n",
    "filterdf  = retail_df[(retail_df['customer_id'].isnull()) & (retail_df['loyalty_program'] == 1)]\n",
    "display(filterdf)"
   ]
  },
  {
   "cell_type": "markdown",
   "metadata": {},
   "source": [
    "Based on the check above, we can conclude that Customers with blank customerids are those who weren't part of the loyalty program. So, we can customers who are not part of the loyalty program will have null/blank customer_ids."
   ]
  },
  {
   "cell_type": "code",
   "execution_count": 55,
   "metadata": {
    "scrolled": true
   },
   "outputs": [
    {
     "data": {
      "text/html": [
       "<div>\n",
       "<style scoped>\n",
       "    .dataframe tbody tr th:only-of-type {\n",
       "        vertical-align: middle;\n",
       "    }\n",
       "\n",
       "    .dataframe tbody tr th {\n",
       "        vertical-align: top;\n",
       "    }\n",
       "\n",
       "    .dataframe thead th {\n",
       "        text-align: right;\n",
       "    }\n",
       "</style>\n",
       "<table border=\"1\" class=\"dataframe\">\n",
       "  <thead>\n",
       "    <tr style=\"text-align: right;\">\n",
       "      <th></th>\n",
       "      <th>purchase_id</th>\n",
       "      <th>product_id</th>\n",
       "      <th>quantity</th>\n",
       "      <th>purchase_date</th>\n",
       "      <th>customer_id</th>\n",
       "      <th>loyalty_program</th>\n",
       "      <th>shop_id</th>\n",
       "      <th>day</th>\n",
       "      <th>month</th>\n",
       "      <th>year</th>\n",
       "      <th>price_per_product</th>\n",
       "      <th>purchase_amount</th>\n",
       "    </tr>\n",
       "  </thead>\n",
       "  <tbody>\n",
       "    <tr>\n",
       "      <td>0</td>\n",
       "      <td>538280</td>\n",
       "      <td>21873</td>\n",
       "      <td>11</td>\n",
       "      <td>2016-12-10</td>\n",
       "      <td>18427.0</td>\n",
       "      <td>0</td>\n",
       "      <td>Shop 3</td>\n",
       "      <td>10</td>\n",
       "      <td>12</td>\n",
       "      <td>2016</td>\n",
       "      <td>0.42</td>\n",
       "      <td>4.62</td>\n",
       "    </tr>\n",
       "    <tr>\n",
       "      <td>1</td>\n",
       "      <td>541104</td>\n",
       "      <td>21873</td>\n",
       "      <td>0</td>\n",
       "      <td>2017-01-13</td>\n",
       "      <td>NaN</td>\n",
       "      <td>0</td>\n",
       "      <td>Shop 0</td>\n",
       "      <td>13</td>\n",
       "      <td>1</td>\n",
       "      <td>2017</td>\n",
       "      <td>0.42</td>\n",
       "      <td>0.00</td>\n",
       "    </tr>\n",
       "    <tr>\n",
       "      <td>2</td>\n",
       "      <td>540418</td>\n",
       "      <td>21873</td>\n",
       "      <td>1</td>\n",
       "      <td>2017-01-07</td>\n",
       "      <td>NaN</td>\n",
       "      <td>0</td>\n",
       "      <td>Shop 0</td>\n",
       "      <td>7</td>\n",
       "      <td>1</td>\n",
       "      <td>2017</td>\n",
       "      <td>0.42</td>\n",
       "      <td>0.42</td>\n",
       "    </tr>\n",
       "    <tr>\n",
       "      <td>3</td>\n",
       "      <td>541516</td>\n",
       "      <td>21873</td>\n",
       "      <td>2</td>\n",
       "      <td>2017-01-18</td>\n",
       "      <td>NaN</td>\n",
       "      <td>0</td>\n",
       "      <td>Shop 0</td>\n",
       "      <td>18</td>\n",
       "      <td>1</td>\n",
       "      <td>2017</td>\n",
       "      <td>0.42</td>\n",
       "      <td>0.84</td>\n",
       "    </tr>\n",
       "    <tr>\n",
       "      <td>4</td>\n",
       "      <td>541566</td>\n",
       "      <td>21873</td>\n",
       "      <td>35</td>\n",
       "      <td>2017-01-19</td>\n",
       "      <td>23401.0</td>\n",
       "      <td>1</td>\n",
       "      <td>Shop 22</td>\n",
       "      <td>19</td>\n",
       "      <td>1</td>\n",
       "      <td>2017</td>\n",
       "      <td>0.42</td>\n",
       "      <td>14.70</td>\n",
       "    </tr>\n",
       "    <tr>\n",
       "      <td>...</td>\n",
       "      <td>...</td>\n",
       "      <td>...</td>\n",
       "      <td>...</td>\n",
       "      <td>...</td>\n",
       "      <td>...</td>\n",
       "      <td>...</td>\n",
       "      <td>...</td>\n",
       "      <td>...</td>\n",
       "      <td>...</td>\n",
       "      <td>...</td>\n",
       "      <td>...</td>\n",
       "      <td>...</td>\n",
       "    </tr>\n",
       "    <tr>\n",
       "      <td>104296</td>\n",
       "      <td>538852</td>\n",
       "      <td>90058B</td>\n",
       "      <td>35</td>\n",
       "      <td>2016-12-14</td>\n",
       "      <td>23051.0</td>\n",
       "      <td>1</td>\n",
       "      <td>Shop 8</td>\n",
       "      <td>14</td>\n",
       "      <td>12</td>\n",
       "      <td>2016</td>\n",
       "      <td>0.38</td>\n",
       "      <td>13.30</td>\n",
       "    </tr>\n",
       "    <tr>\n",
       "      <td>104297</td>\n",
       "      <td>539988</td>\n",
       "      <td>46138B</td>\n",
       "      <td>1</td>\n",
       "      <td>2016-12-23</td>\n",
       "      <td>23795.0</td>\n",
       "      <td>1</td>\n",
       "      <td>Shop 14</td>\n",
       "      <td>23</td>\n",
       "      <td>12</td>\n",
       "      <td>2016</td>\n",
       "      <td>1.95</td>\n",
       "      <td>1.95</td>\n",
       "    </tr>\n",
       "    <tr>\n",
       "      <td>104298</td>\n",
       "      <td>537025</td>\n",
       "      <td>90053</td>\n",
       "      <td>0</td>\n",
       "      <td>2016-12-03</td>\n",
       "      <td>NaN</td>\n",
       "      <td>0</td>\n",
       "      <td>Shop 0</td>\n",
       "      <td>3</td>\n",
       "      <td>12</td>\n",
       "      <td>2016</td>\n",
       "      <td>2.55</td>\n",
       "      <td>0.00</td>\n",
       "    </tr>\n",
       "    <tr>\n",
       "      <td>104299</td>\n",
       "      <td>542731</td>\n",
       "      <td>17028J</td>\n",
       "      <td>5</td>\n",
       "      <td>2017-01-31</td>\n",
       "      <td>19279.0</td>\n",
       "      <td>0</td>\n",
       "      <td>Shop 0</td>\n",
       "      <td>31</td>\n",
       "      <td>1</td>\n",
       "      <td>2017</td>\n",
       "      <td>0.42</td>\n",
       "      <td>2.10</td>\n",
       "    </tr>\n",
       "    <tr>\n",
       "      <td>104300</td>\n",
       "      <td>C540246</td>\n",
       "      <td>79320</td>\n",
       "      <td>-2</td>\n",
       "      <td>2017-01-05</td>\n",
       "      <td>18760.0</td>\n",
       "      <td>0</td>\n",
       "      <td>Shop 19</td>\n",
       "      <td>5</td>\n",
       "      <td>1</td>\n",
       "      <td>2017</td>\n",
       "      <td>4.95</td>\n",
       "      <td>-9.90</td>\n",
       "    </tr>\n",
       "  </tbody>\n",
       "</table>\n",
       "<p>104301 rows × 12 columns</p>\n",
       "</div>"
      ],
      "text/plain": [
       "       purchase_id product_id  quantity purchase_date  customer_id  \\\n",
       "0           538280      21873        11    2016-12-10      18427.0   \n",
       "1           541104      21873         0    2017-01-13          NaN   \n",
       "2           540418      21873         1    2017-01-07          NaN   \n",
       "3           541516      21873         2    2017-01-18          NaN   \n",
       "4           541566      21873        35    2017-01-19      23401.0   \n",
       "...            ...        ...       ...           ...          ...   \n",
       "104296      538852     90058B        35    2016-12-14      23051.0   \n",
       "104297      539988     46138B         1    2016-12-23      23795.0   \n",
       "104298      537025      90053         0    2016-12-03          NaN   \n",
       "104299      542731     17028J         5    2017-01-31      19279.0   \n",
       "104300     C540246      79320        -2    2017-01-05      18760.0   \n",
       "\n",
       "        loyalty_program  shop_id  day  month  year  price_per_product  \\\n",
       "0                     0   Shop 3   10     12  2016               0.42   \n",
       "1                     0   Shop 0   13      1  2017               0.42   \n",
       "2                     0   Shop 0    7      1  2017               0.42   \n",
       "3                     0   Shop 0   18      1  2017               0.42   \n",
       "4                     1  Shop 22   19      1  2017               0.42   \n",
       "...                 ...      ...  ...    ...   ...                ...   \n",
       "104296                1   Shop 8   14     12  2016               0.38   \n",
       "104297                1  Shop 14   23     12  2016               1.95   \n",
       "104298                0   Shop 0    3     12  2016               2.55   \n",
       "104299                0   Shop 0   31      1  2017               0.42   \n",
       "104300                0  Shop 19    5      1  2017               4.95   \n",
       "\n",
       "        purchase_amount  \n",
       "0                  4.62  \n",
       "1                  0.00  \n",
       "2                  0.42  \n",
       "3                  0.84  \n",
       "4                 14.70  \n",
       "...                 ...  \n",
       "104296            13.30  \n",
       "104297             1.95  \n",
       "104298             0.00  \n",
       "104299             2.10  \n",
       "104300            -9.90  \n",
       "\n",
       "[104301 rows x 12 columns]"
      ]
     },
     "metadata": {},
     "output_type": "display_data"
    }
   ],
   "source": [
    "# Merging retail and product datasets\n",
    "\n",
    "retail_detail = pd.merge(retail_df, product_df, on='product_id')\n",
    "\n",
    "retail_detail['purchase_amount'] = retail_detail['quantity'] * retail_detail['price_per_product']\n",
    "\n",
    "display(retail_detail)"
   ]
  },
  {
   "cell_type": "markdown",
   "metadata": {},
   "source": [
    "Combined the two datasets and calculated purchase_amount for each customer's purchase."
   ]
  },
  {
   "cell_type": "code",
   "execution_count": 56,
   "metadata": {
    "scrolled": true
   },
   "outputs": [
    {
     "data": {
      "text/html": [
       "<div>\n",
       "<style scoped>\n",
       "    .dataframe tbody tr th:only-of-type {\n",
       "        vertical-align: middle;\n",
       "    }\n",
       "\n",
       "    .dataframe tbody tr th {\n",
       "        vertical-align: top;\n",
       "    }\n",
       "\n",
       "    .dataframe thead th {\n",
       "        text-align: right;\n",
       "    }\n",
       "</style>\n",
       "<table border=\"1\" class=\"dataframe\">\n",
       "  <thead>\n",
       "    <tr style=\"text-align: right;\">\n",
       "      <th></th>\n",
       "      <th>purchase_id</th>\n",
       "      <th>product_id</th>\n",
       "      <th>quantity</th>\n",
       "      <th>purchase_date</th>\n",
       "      <th>customer_id</th>\n",
       "      <th>loyalty_program</th>\n",
       "      <th>shop_id</th>\n",
       "      <th>day</th>\n",
       "      <th>month</th>\n",
       "      <th>year</th>\n",
       "      <th>price_per_product</th>\n",
       "      <th>purchase_amount</th>\n",
       "    </tr>\n",
       "  </thead>\n",
       "  <tbody>\n",
       "    <tr>\n",
       "      <td>49</td>\n",
       "      <td>C542537</td>\n",
       "      <td>22195</td>\n",
       "      <td>-2</td>\n",
       "      <td>2017-01-28</td>\n",
       "      <td>18180.0</td>\n",
       "      <td>0</td>\n",
       "      <td>Shop 14</td>\n",
       "      <td>28</td>\n",
       "      <td>1</td>\n",
       "      <td>2017</td>\n",
       "      <td>1.65</td>\n",
       "      <td>-3.30</td>\n",
       "    </tr>\n",
       "    <tr>\n",
       "      <td>345</td>\n",
       "      <td>C540250</td>\n",
       "      <td>79321</td>\n",
       "      <td>-2</td>\n",
       "      <td>2017-01-05</td>\n",
       "      <td>23190.0</td>\n",
       "      <td>1</td>\n",
       "      <td>Shop 7</td>\n",
       "      <td>5</td>\n",
       "      <td>1</td>\n",
       "      <td>2017</td>\n",
       "      <td>0.00</td>\n",
       "      <td>-0.00</td>\n",
       "    </tr>\n",
       "    <tr>\n",
       "      <td>442</td>\n",
       "      <td>C540417</td>\n",
       "      <td>79321</td>\n",
       "      <td>-73</td>\n",
       "      <td>2017-01-07</td>\n",
       "      <td>19359.0</td>\n",
       "      <td>0</td>\n",
       "      <td>Shop 9</td>\n",
       "      <td>7</td>\n",
       "      <td>1</td>\n",
       "      <td>2017</td>\n",
       "      <td>0.00</td>\n",
       "      <td>-0.00</td>\n",
       "    </tr>\n",
       "    <tr>\n",
       "      <td>670</td>\n",
       "      <td>C542078</td>\n",
       "      <td>22189</td>\n",
       "      <td>-2</td>\n",
       "      <td>2017-01-25</td>\n",
       "      <td>18533.0</td>\n",
       "      <td>0</td>\n",
       "      <td>Shop 7</td>\n",
       "      <td>25</td>\n",
       "      <td>1</td>\n",
       "      <td>2017</td>\n",
       "      <td>2.31</td>\n",
       "      <td>-4.62</td>\n",
       "    </tr>\n",
       "    <tr>\n",
       "      <td>727</td>\n",
       "      <td>C542792</td>\n",
       "      <td>22891</td>\n",
       "      <td>-2</td>\n",
       "      <td>2017-02-01</td>\n",
       "      <td>20306.0</td>\n",
       "      <td>0</td>\n",
       "      <td>Shop 14</td>\n",
       "      <td>1</td>\n",
       "      <td>2</td>\n",
       "      <td>2017</td>\n",
       "      <td>3.75</td>\n",
       "      <td>-7.50</td>\n",
       "    </tr>\n",
       "    <tr>\n",
       "      <td>...</td>\n",
       "      <td>...</td>\n",
       "      <td>...</td>\n",
       "      <td>...</td>\n",
       "      <td>...</td>\n",
       "      <td>...</td>\n",
       "      <td>...</td>\n",
       "      <td>...</td>\n",
       "      <td>...</td>\n",
       "      <td>...</td>\n",
       "      <td>...</td>\n",
       "      <td>...</td>\n",
       "      <td>...</td>\n",
       "    </tr>\n",
       "    <tr>\n",
       "      <td>104275</td>\n",
       "      <td>545219</td>\n",
       "      <td>20738</td>\n",
       "      <td>-37</td>\n",
       "      <td>2017-02-28</td>\n",
       "      <td>NaN</td>\n",
       "      <td>0</td>\n",
       "      <td>Shop 0</td>\n",
       "      <td>28</td>\n",
       "      <td>2</td>\n",
       "      <td>2017</td>\n",
       "      <td>0.00</td>\n",
       "      <td>-0.00</td>\n",
       "    </tr>\n",
       "    <tr>\n",
       "      <td>104282</td>\n",
       "      <td>C544653</td>\n",
       "      <td>85065</td>\n",
       "      <td>-2</td>\n",
       "      <td>2017-02-22</td>\n",
       "      <td>18792.0</td>\n",
       "      <td>0</td>\n",
       "      <td>Shop 3</td>\n",
       "      <td>22</td>\n",
       "      <td>2</td>\n",
       "      <td>2017</td>\n",
       "      <td>12.75</td>\n",
       "      <td>-25.50</td>\n",
       "    </tr>\n",
       "    <tr>\n",
       "      <td>104284</td>\n",
       "      <td>542556</td>\n",
       "      <td>22143</td>\n",
       "      <td>-2</td>\n",
       "      <td>2017-01-28</td>\n",
       "      <td>NaN</td>\n",
       "      <td>0</td>\n",
       "      <td>Shop 0</td>\n",
       "      <td>28</td>\n",
       "      <td>1</td>\n",
       "      <td>2017</td>\n",
       "      <td>0.00</td>\n",
       "      <td>-0.00</td>\n",
       "    </tr>\n",
       "    <tr>\n",
       "      <td>104295</td>\n",
       "      <td>540560</td>\n",
       "      <td>21589</td>\n",
       "      <td>-15</td>\n",
       "      <td>2017-01-10</td>\n",
       "      <td>NaN</td>\n",
       "      <td>0</td>\n",
       "      <td>Shop 0</td>\n",
       "      <td>10</td>\n",
       "      <td>1</td>\n",
       "      <td>2017</td>\n",
       "      <td>0.00</td>\n",
       "      <td>-0.00</td>\n",
       "    </tr>\n",
       "    <tr>\n",
       "      <td>104300</td>\n",
       "      <td>C540246</td>\n",
       "      <td>79320</td>\n",
       "      <td>-2</td>\n",
       "      <td>2017-01-05</td>\n",
       "      <td>18760.0</td>\n",
       "      <td>0</td>\n",
       "      <td>Shop 19</td>\n",
       "      <td>5</td>\n",
       "      <td>1</td>\n",
       "      <td>2017</td>\n",
       "      <td>4.95</td>\n",
       "      <td>-9.90</td>\n",
       "    </tr>\n",
       "  </tbody>\n",
       "</table>\n",
       "<p>2076 rows × 12 columns</p>\n",
       "</div>"
      ],
      "text/plain": [
       "       purchase_id product_id  quantity purchase_date  customer_id  \\\n",
       "49         C542537      22195        -2    2017-01-28      18180.0   \n",
       "345        C540250      79321        -2    2017-01-05      23190.0   \n",
       "442        C540417      79321       -73    2017-01-07      19359.0   \n",
       "670        C542078      22189        -2    2017-01-25      18533.0   \n",
       "727        C542792      22891        -2    2017-02-01      20306.0   \n",
       "...            ...        ...       ...           ...          ...   \n",
       "104275      545219      20738       -37    2017-02-28          NaN   \n",
       "104282     C544653      85065        -2    2017-02-22      18792.0   \n",
       "104284      542556      22143        -2    2017-01-28          NaN   \n",
       "104295      540560      21589       -15    2017-01-10          NaN   \n",
       "104300     C540246      79320        -2    2017-01-05      18760.0   \n",
       "\n",
       "        loyalty_program  shop_id  day  month  year  price_per_product  \\\n",
       "49                    0  Shop 14   28      1  2017               1.65   \n",
       "345                   1   Shop 7    5      1  2017               0.00   \n",
       "442                   0   Shop 9    7      1  2017               0.00   \n",
       "670                   0   Shop 7   25      1  2017               2.31   \n",
       "727                   0  Shop 14    1      2  2017               3.75   \n",
       "...                 ...      ...  ...    ...   ...                ...   \n",
       "104275                0   Shop 0   28      2  2017               0.00   \n",
       "104282                0   Shop 3   22      2  2017              12.75   \n",
       "104284                0   Shop 0   28      1  2017               0.00   \n",
       "104295                0   Shop 0   10      1  2017               0.00   \n",
       "104300                0  Shop 19    5      1  2017               4.95   \n",
       "\n",
       "        purchase_amount  \n",
       "49                -3.30  \n",
       "345               -0.00  \n",
       "442               -0.00  \n",
       "670               -4.62  \n",
       "727               -7.50  \n",
       "...                 ...  \n",
       "104275            -0.00  \n",
       "104282           -25.50  \n",
       "104284            -0.00  \n",
       "104295            -0.00  \n",
       "104300            -9.90  \n",
       "\n",
       "[2076 rows x 12 columns]"
      ]
     },
     "execution_count": 56,
     "metadata": {},
     "output_type": "execute_result"
    }
   ],
   "source": [
    "# Checking id there are any negative quantity \n",
    "\n",
    "retail_detail_check = retail_detail[retail_detail['quantity']< 0]\n",
    "retail_detail_check"
   ]
  },
  {
   "cell_type": "markdown",
   "metadata": {},
   "source": [
    "The number of quantities that a customer would buy can never be negative. However, upon checking we found out that there are few negative quantities in the datasets. That couldn't be some technical issues while entering the data and system error."
   ]
  },
  {
   "cell_type": "code",
   "execution_count": 57,
   "metadata": {},
   "outputs": [],
   "source": [
    "# dropping rows that have negative quantity\n",
    "\n",
    "retail_detail.drop(retail_detail[retail_detail.quantity < 0].index, inplace=True)\n",
    "#print(retail_df)\n"
   ]
  },
  {
   "cell_type": "markdown",
   "metadata": {},
   "source": [
    "<div class=\"alert alert-success\">\n",
    "    Valid logic! Another possible reason - the negative quantities might mean returns.\n",
    "</div>"
   ]
  },
  {
   "cell_type": "code",
   "execution_count": 423,
   "metadata": {},
   "outputs": [
    {
     "data": {
      "text/html": [
       "<div>\n",
       "<style scoped>\n",
       "    .dataframe tbody tr th:only-of-type {\n",
       "        vertical-align: middle;\n",
       "    }\n",
       "\n",
       "    .dataframe tbody tr th {\n",
       "        vertical-align: top;\n",
       "    }\n",
       "\n",
       "    .dataframe thead th {\n",
       "        text-align: right;\n",
       "    }\n",
       "</style>\n",
       "<table border=\"1\" class=\"dataframe\">\n",
       "  <thead>\n",
       "    <tr style=\"text-align: right;\">\n",
       "      <th></th>\n",
       "      <th>purchase_id</th>\n",
       "      <th>product_id</th>\n",
       "      <th>quantity</th>\n",
       "      <th>purchase_date</th>\n",
       "      <th>customer_id</th>\n",
       "      <th>loyalty_program</th>\n",
       "      <th>shop_id</th>\n",
       "      <th>day</th>\n",
       "      <th>month</th>\n",
       "      <th>year</th>\n",
       "      <th>price_per_product</th>\n",
       "      <th>purchase_amount</th>\n",
       "    </tr>\n",
       "  </thead>\n",
       "  <tbody>\n",
       "  </tbody>\n",
       "</table>\n",
       "</div>"
      ],
      "text/plain": [
       "Empty DataFrame\n",
       "Columns: [purchase_id, product_id, quantity, purchase_date, customer_id, loyalty_program, shop_id, day, month, year, price_per_product, purchase_amount]\n",
       "Index: []"
      ]
     },
     "execution_count": 423,
     "metadata": {},
     "output_type": "execute_result"
    }
   ],
   "source": [
    "\n",
    "#retail_detail[retail_detail.purchase_id=='C540250']\n",
    "#retail_df[retail_df.quantity >0']"
   ]
  },
  {
   "cell_type": "code",
   "execution_count": 58,
   "metadata": {},
   "outputs": [],
   "source": [
    "#converting float data numbers into int type\n",
    "\n",
    "retail_detail['customer_id'] = retail_detail['customer_id'].astype('float').astype('Int64')\n",
    "retail_detail['purchase_id'] = retail_detail['purchase_id'].astype('float').astype('Int64')\n",
    "#product_df['price_per_product'] = product_df['price_per_product'].astype('Int64')\n"
   ]
  },
  {
   "cell_type": "markdown",
   "metadata": {},
   "source": [
    "#### Conclusion:\n",
    "- We changed renamed the column names.\n",
    "- We converted the datatypes of 'purchase_date', 'customer_id' columns\n",
    "- We deleted 1033 duplicate records. \n",
    "- There are  36,148 missing values in the 'customer_id' column. Upon checking we found out that those are customers who weren't enrolled in the loyalty program. Hence their customer_id are blank. So they weren't missing values apparently.\n",
    "- We also found out that there are 2076 records in the quantity column that are negative. This couldn't be an error in the system. Since this is just 1 % of the data, we are not taking any action on these negative quantities. we simply dropped these rows to get precise information from the datasets above.\n",
    "\n"
   ]
  },
  {
   "cell_type": "markdown",
   "metadata": {},
   "source": [
    "<div class=\"alert alert-success\">\n",
    "    Nice data preprocessing!\n",
    "</div>"
   ]
  },
  {
   "cell_type": "markdown",
   "metadata": {},
   "source": [
    "### Step 3: Analyze the data"
   ]
  },
  {
   "cell_type": "code",
   "execution_count": 59,
   "metadata": {},
   "outputs": [
    {
     "data": {
      "image/png": "[encoded data removed]",
      "text/plain": [
       "<Figure size 576x216 with 1 Axes>"
      ]
     },
     "metadata": {
      "needs_background": "light"
     },
     "output_type": "display_data"
    }
   ],
   "source": [
    "# Determine the number of purchases by year. \n",
    "\n",
    "purchase_per_year = retail_detail.groupby('year').agg({'purchase_id':'count'}).reset_index().sort_values(by='purchase_id', ascending=False)\n",
    "\n",
    "# plot bar graph\n",
    "plt.figure(figsize=(8, 3))\n",
    "ax = sns.barplot(data = purchase_per_year, x='year', y='purchase_id')\n",
    "\n",
    "# Add titles and captions\n",
    "plt.xlabel(\"Years\")\n",
    "plt.ylabel(\"Number of Purchase\")\n",
    "plt.title(\"Yearly view of purchase\");\n",
    "\n",
    "# label bars with data\n",
    "for p in ax.patches:\n",
    "    ax.annotate(format(p.get_height(), '.1f'), \n",
    "                xy=(p.get_x() + p.get_width() / 2., p.get_height()), \n",
    "                ha = 'center', \n",
    "                va = 'center', \n",
    "                xytext = (0, 8), \n",
    "                textcoords = 'offset points')\n",
    "    \n",
    "# rotate x axis labels\n",
    "for item in ax.get_xticklabels():\n",
    "    item.set_rotation(45)\n",
    "\n",
    "plt.show()\n"
   ]
  },
  {
   "cell_type": "code",
   "execution_count": 60,
   "metadata": {},
   "outputs": [
    {
     "data": {
      "text/html": [
       "<div>\n",
       "<style scoped>\n",
       "    .dataframe tbody tr th:only-of-type {\n",
       "        vertical-align: middle;\n",
       "    }\n",
       "\n",
       "    .dataframe tbody tr th {\n",
       "        vertical-align: top;\n",
       "    }\n",
       "\n",
       "    .dataframe thead th {\n",
       "        text-align: right;\n",
       "    }\n",
       "</style>\n",
       "<table border=\"1\" class=\"dataframe\">\n",
       "  <thead>\n",
       "    <tr style=\"text-align: right;\">\n",
       "      <th></th>\n",
       "      <th>purchase_date</th>\n",
       "      <th>purchase_id</th>\n",
       "    </tr>\n",
       "  </thead>\n",
       "  <tbody>\n",
       "    <tr>\n",
       "      <td>67</td>\n",
       "      <td>2017-02-28</td>\n",
       "      <td>1714</td>\n",
       "    </tr>\n",
       "    <tr>\n",
       "      <td>66</td>\n",
       "      <td>2017-02-27</td>\n",
       "      <td>784</td>\n",
       "    </tr>\n",
       "    <tr>\n",
       "      <td>65</td>\n",
       "      <td>2017-02-25</td>\n",
       "      <td>969</td>\n",
       "    </tr>\n",
       "    <tr>\n",
       "      <td>64</td>\n",
       "      <td>2017-02-24</td>\n",
       "      <td>1265</td>\n",
       "    </tr>\n",
       "    <tr>\n",
       "      <td>63</td>\n",
       "      <td>2017-02-23</td>\n",
       "      <td>1569</td>\n",
       "    </tr>\n",
       "    <tr>\n",
       "      <td>62</td>\n",
       "      <td>2017-02-22</td>\n",
       "      <td>1562</td>\n",
       "    </tr>\n",
       "    <tr>\n",
       "      <td>61</td>\n",
       "      <td>2017-02-21</td>\n",
       "      <td>1362</td>\n",
       "    </tr>\n",
       "    <tr>\n",
       "      <td>60</td>\n",
       "      <td>2017-02-20</td>\n",
       "      <td>823</td>\n",
       "    </tr>\n",
       "    <tr>\n",
       "      <td>59</td>\n",
       "      <td>2017-02-18</td>\n",
       "      <td>815</td>\n",
       "    </tr>\n",
       "    <tr>\n",
       "      <td>58</td>\n",
       "      <td>2017-02-17</td>\n",
       "      <td>1710</td>\n",
       "    </tr>\n",
       "  </tbody>\n",
       "</table>\n",
       "</div>"
      ],
      "text/plain": [
       "   purchase_date  purchase_id\n",
       "67    2017-02-28         1714\n",
       "66    2017-02-27          784\n",
       "65    2017-02-25          969\n",
       "64    2017-02-24         1265\n",
       "63    2017-02-23         1569\n",
       "62    2017-02-22         1562\n",
       "61    2017-02-21         1362\n",
       "60    2017-02-20          823\n",
       "59    2017-02-18          815\n",
       "58    2017-02-17         1710"
      ]
     },
     "metadata": {},
     "output_type": "display_data"
    },
    {
     "data": {
      "image/png": "[encoded data removed]",
      "text/plain": [
       "<Figure size 1080x504 with 1 Axes>"
      ]
     },
     "metadata": {
      "needs_background": "light"
     },
     "output_type": "display_data"
    }
   ],
   "source": [
    "# Determine the number of purchases by date. \n",
    "\n",
    "import matplotlib.pyplot as plt\n",
    "import matplotlib.dates as mdates\n",
    "%matplotlib inline\n",
    "\n",
    "purchase_per_date = retail_detail.groupby('purchase_date').agg({'purchase_id':'count'}).reset_index().sort_values(by='purchase_date', ascending=False)\n",
    "display(purchase_per_date.head(10))\n",
    "#set date as index\n",
    "purchase_per_date.set_index('purchase_date',inplace=True)\n",
    "\n",
    "#plot data\n",
    "fig, ax = plt.subplots(figsize=(15,7))\n",
    "purchase_per_date.plot(ax=ax)\n",
    "\n",
    "#set ticks every week\n",
    "ax.xaxis.set_major_locator(mdates.WeekdayLocator())\n",
    "#set major ticks format\n",
    "ax.xaxis.set_major_formatter(mdates.DateFormatter('%b %d'))"
   ]
  },
  {
   "cell_type": "code",
   "execution_count": 18,
   "metadata": {},
   "outputs": [
    {
     "data": {
      "image/png": "[encoded data removed]",
      "text/plain": [
       "<Figure size 1080x360 with 1 Axes>"
      ]
     },
     "metadata": {
      "needs_background": "light"
     },
     "output_type": "display_data"
    }
   ],
   "source": [
    "# Determine the number of purchases by month. \n",
    "\n",
    "purchase_per_month = retail_detail.groupby('month').agg({'purchase_id':'count'}).reset_index().sort_values(by='month', ascending=False)\n",
    "fig, ax = plt.subplots(figsize = (15,5))  \n",
    "ax.plot(purchase_per_month['month'],purchase_per_month['purchase_id'])\n",
    "plt.gcf().autofmt_xdate(rotation=45)\n",
    "plt.title('Purchases by Month')\n",
    "plt.ylabel('No. of Purchases')\n",
    "plt.xlabel('PUrchase Month')\n",
    "plt.show()"
   ]
  },
  {
   "cell_type": "code",
   "execution_count": 61,
   "metadata": {},
   "outputs": [
    {
     "data": {
      "text/html": [
       "<div>\n",
       "<style scoped>\n",
       "    .dataframe tbody tr th:only-of-type {\n",
       "        vertical-align: middle;\n",
       "    }\n",
       "\n",
       "    .dataframe tbody tr th {\n",
       "        vertical-align: top;\n",
       "    }\n",
       "\n",
       "    .dataframe thead th {\n",
       "        text-align: right;\n",
       "    }\n",
       "</style>\n",
       "<table border=\"1\" class=\"dataframe\">\n",
       "  <thead>\n",
       "    <tr style=\"text-align: right;\">\n",
       "      <th></th>\n",
       "      <th>year</th>\n",
       "      <th>loyalty_program</th>\n",
       "      <th>purchase_id</th>\n",
       "    </tr>\n",
       "  </thead>\n",
       "  <tbody>\n",
       "    <tr>\n",
       "      <td>2</td>\n",
       "      <td>2017</td>\n",
       "      <td>0</td>\n",
       "      <td>47677</td>\n",
       "    </tr>\n",
       "    <tr>\n",
       "      <td>3</td>\n",
       "      <td>2017</td>\n",
       "      <td>1</td>\n",
       "      <td>13380</td>\n",
       "    </tr>\n",
       "    <tr>\n",
       "      <td>0</td>\n",
       "      <td>2016</td>\n",
       "      <td>0</td>\n",
       "      <td>31575</td>\n",
       "    </tr>\n",
       "    <tr>\n",
       "      <td>1</td>\n",
       "      <td>2016</td>\n",
       "      <td>1</td>\n",
       "      <td>9593</td>\n",
       "    </tr>\n",
       "  </tbody>\n",
       "</table>\n",
       "</div>"
      ],
      "text/plain": [
       "   year  loyalty_program  purchase_id\n",
       "2  2017                0        47677\n",
       "3  2017                1        13380\n",
       "0  2016                0        31575\n",
       "1  2016                1         9593"
      ]
     },
     "metadata": {},
     "output_type": "display_data"
    },
    {
     "data": {
      "image/png": "[encoded data removed]",
      "text/plain": [
       "<Figure size 432x288 with 1 Axes>"
      ]
     },
     "metadata": {
      "needs_background": "light"
     },
     "output_type": "display_data"
    }
   ],
   "source": [
    "# breakdown by loyalty_program\n",
    "\n",
    "purchase_per_year_loyalty = retail_detail.groupby(['year','loyalty_program']).agg({'purchase_id':'count'}).reset_index().sort_values(by='year', ascending=False)\n",
    "display(purchase_per_year_loyalty)\n",
    "# Add titles and captions\n",
    "plt.xlabel(\"Years\")\n",
    "plt.ylabel(\"Number of Purchase\")\n",
    "plt.title(\"Yearly view of purchase\");\n",
    "sns.barplot(x =\"year\", y = 'purchase_id', data = purchase_per_year_loyalty, hue = \"loyalty_program\")\n",
    "plt.show()"
   ]
  },
  {
   "cell_type": "markdown",
   "metadata": {},
   "source": [
    "#### Conclusion:\n",
    "Based on the plotting above, we can conclude that the number of purchases in the year 2017 is more than the year 2016.\n",
    "However, based on the breakdown plotting, customers without a loyalty program purchased more than those who have a loyalty program. Let's do some more investigation why this is the case. \n",
    "\n"
   ]
  },
  {
   "cell_type": "markdown",
   "metadata": {},
   "source": [
    "<div class=\"alert alert-warning\">\n",
    "    Looking OK, but I would check what data range we have. E.g. there's a chance that we only have, say, three-month data for 2016 and full-year data for 2017, which would explain the difference in the number of purchases. Also, it would be interesting to see purchase breakdown by month.\n",
    "</div>"
   ]
  },
  {
   "cell_type": "code",
   "execution_count": 62,
   "metadata": {},
   "outputs": [
    {
     "data": {
      "text/html": [
       "<div>\n",
       "<style scoped>\n",
       "    .dataframe tbody tr th:only-of-type {\n",
       "        vertical-align: middle;\n",
       "    }\n",
       "\n",
       "    .dataframe tbody tr th {\n",
       "        vertical-align: top;\n",
       "    }\n",
       "\n",
       "    .dataframe thead th {\n",
       "        text-align: right;\n",
       "    }\n",
       "</style>\n",
       "<table border=\"1\" class=\"dataframe\">\n",
       "  <thead>\n",
       "    <tr style=\"text-align: right;\">\n",
       "      <th></th>\n",
       "      <th>year</th>\n",
       "      <th>shop_id</th>\n",
       "      <th>purchase_id</th>\n",
       "    </tr>\n",
       "  </thead>\n",
       "  <tbody>\n",
       "    <tr>\n",
       "      <td>31</td>\n",
       "      <td>2017</td>\n",
       "      <td>Shop 0</td>\n",
       "      <td>21666</td>\n",
       "    </tr>\n",
       "    <tr>\n",
       "      <td>0</td>\n",
       "      <td>2016</td>\n",
       "      <td>Shop 0</td>\n",
       "      <td>16289</td>\n",
       "    </tr>\n",
       "    <tr>\n",
       "      <td>32</td>\n",
       "      <td>2017</td>\n",
       "      <td>Shop 1</td>\n",
       "      <td>1908</td>\n",
       "    </tr>\n",
       "    <tr>\n",
       "      <td>46</td>\n",
       "      <td>2017</td>\n",
       "      <td>Shop 22</td>\n",
       "      <td>1696</td>\n",
       "    </tr>\n",
       "    <tr>\n",
       "      <td>48</td>\n",
       "      <td>2017</td>\n",
       "      <td>Shop 24</td>\n",
       "      <td>1681</td>\n",
       "    </tr>\n",
       "    <tr>\n",
       "      <td>...</td>\n",
       "      <td>...</td>\n",
       "      <td>...</td>\n",
       "      <td>...</td>\n",
       "    </tr>\n",
       "    <tr>\n",
       "      <td>9</td>\n",
       "      <td>2016</td>\n",
       "      <td>Shop 17</td>\n",
       "      <td>617</td>\n",
       "    </tr>\n",
       "    <tr>\n",
       "      <td>14</td>\n",
       "      <td>2016</td>\n",
       "      <td>Shop 21</td>\n",
       "      <td>612</td>\n",
       "    </tr>\n",
       "    <tr>\n",
       "      <td>23</td>\n",
       "      <td>2016</td>\n",
       "      <td>Shop 3</td>\n",
       "      <td>556</td>\n",
       "    </tr>\n",
       "    <tr>\n",
       "      <td>25</td>\n",
       "      <td>2016</td>\n",
       "      <td>Shop 4</td>\n",
       "      <td>490</td>\n",
       "    </tr>\n",
       "    <tr>\n",
       "      <td>16</td>\n",
       "      <td>2016</td>\n",
       "      <td>Shop 23</td>\n",
       "      <td>400</td>\n",
       "    </tr>\n",
       "  </tbody>\n",
       "</table>\n",
       "<p>62 rows × 3 columns</p>\n",
       "</div>"
      ],
      "text/plain": [
       "    year  shop_id  purchase_id\n",
       "31  2017   Shop 0        21666\n",
       "0   2016   Shop 0        16289\n",
       "32  2017   Shop 1         1908\n",
       "46  2017  Shop 22         1696\n",
       "48  2017  Shop 24         1681\n",
       "..   ...      ...          ...\n",
       "9   2016  Shop 17          617\n",
       "14  2016  Shop 21          612\n",
       "23  2016   Shop 3          556\n",
       "25  2016   Shop 4          490\n",
       "16  2016  Shop 23          400\n",
       "\n",
       "[62 rows x 3 columns]"
      ]
     },
     "metadata": {},
     "output_type": "display_data"
    }
   ],
   "source": [
    "#Determine the number of purchases by year breakdown by storeIds \n",
    "\n",
    "purchase_per_year_perstore = retail_detail.groupby(['year','shop_id']).agg({'purchase_id':'count'}).reset_index().sort_values(by='purchase_id', ascending=False)\n",
    "display(purchase_per_year_perstore)\n",
    "\n",
    "#purchase_per_year_perstore = retail_detail.groupby(['year','shop_id','loyalty_program']).agg({'purchase_id':'count'}).reset_index().sort_values(by='purchase_id', ascending=False)\n",
    "#display(purchase_per_year_perstore)\n",
    "\n"
   ]
  },
  {
   "cell_type": "markdown",
   "metadata": {},
   "source": [
    "#### Conclusion:\n",
    "Based on the table above, we can say that 'Shop 0' is the most popular one for both year 2016 and 2017 as it has the highest number of purchases."
   ]
  },
  {
   "cell_type": "code",
   "execution_count": 63,
   "metadata": {
    "scrolled": true
   },
   "outputs": [
    {
     "data": {
      "image/png": "[encoded data removed]",
      "text/plain": [
       "<Figure size 2160x864 with 1 Axes>"
      ]
     },
     "metadata": {
      "needs_background": "light"
     },
     "output_type": "display_data"
    }
   ],
   "source": [
    "#Determine the number of purchases breakdown by storeID. \n",
    "#Plot bar diagram showing the number of purchases by storeID\n",
    "\n",
    "purchase_per_year = retail_detail.groupby('shop_id')['purchase_id'].count().reset_index()\n",
    "\n",
    "\n",
    "# Figure Size\n",
    "#purchase_per_year.groupby(\"shop_id\")[[\"purchase_id\"]].sum().plot(kind='bar',legend=False)\n",
    "fig, ax = plt.subplots()\n",
    "fig.set_size_inches(30,12)\n",
    "sns.barplot(x=purchase_per_year.shop_id, y='purchase_id'\n",
    "            , data=purchase_per_year\n",
    "            , ax=ax\n",
    "            , capsize=10)\n",
    "plt.xlabel(\"Shops\")\n",
    "plt.ylabel(\"Number of purchase\")\n",
    "plt.title(\"Number of Purchases by Storeid\");\n",
    "plt.show()"
   ]
  },
  {
   "cell_type": "markdown",
   "metadata": {},
   "source": [
    "#### Conclusion:\n",
    "Based on the plotting above, we can conclude that 'shop 0' has distinctively the most highest sales than any other stores.'Shop 0' has 9 times higher sales than any other stores in the outlet. It looks like 'shop 0' is the only store that is bringing in revenue."
   ]
  },
  {
   "cell_type": "markdown",
   "metadata": {},
   "source": [
    "<div class=\"alert alert-success\">\n",
    "    +\n",
    "</div>"
   ]
  },
  {
   "cell_type": "code",
   "execution_count": 36,
   "metadata": {
    "scrolled": true
   },
   "outputs": [
    {
     "data": {
      "image/png": "[encoded data removed]",
      "text/plain": [
       "<Figure size 432x288 with 1 Axes>"
      ]
     },
     "metadata": {
      "needs_background": "light"
     },
     "output_type": "display_data"
    },
    {
     "data": {
      "image/png": "[encoded data removed]",
      "text/plain": [
       "<Figure size 432x288 with 1 Axes>"
      ]
     },
     "metadata": {
      "needs_background": "light"
     },
     "output_type": "display_data"
    }
   ],
   "source": [
    "# Breaking down by purchases by loyalty program\n",
    "\n",
    "#purchase_with_loyalty = retail_detail[retail_detail.loyalty_program == 1]\n",
    "\n",
    "#purchase_without_loyalty = retail_detail[retail_detail.loyalty_program == 0]\n",
    "\n",
    "#for plotting\n",
    "#plot_withloyalty = purchase_with_loyalty.groupby(\"shop_id\")[[\"purchase_id\"]].count().reset_index()\n",
    "#plot_withloyalty.plot(kind='bar',legend=False)\n",
    "#plt.title(\"Purchases with loyalty program per Store\")\n",
    "\n",
    "#plot_withoutloyalty = purchase_without_loyalty.groupby(\"shop_id\")[[\"purchase_id\"]].count().reset_index()\n",
    "#plot_withoutloyalty.plot(kind='bar',legend=False)\n",
    "#plt.title(\"Purchases without loyalty program per Store\")\n",
    "\n",
    "#sns.countplot(x='shop_id', hue='loyalty_program', data=retail_detail)\n",
    "#plt.xlabel(\"Shops\")\n",
    "#plt.ylabel(\"Number of purchases\")\n",
    "#plt.show()"
   ]
  },
  {
   "cell_type": "code",
   "execution_count": 64,
   "metadata": {},
   "outputs": [
    {
     "data": {
      "text/html": [
       "<div>\n",
       "<style scoped>\n",
       "    .dataframe tbody tr th:only-of-type {\n",
       "        vertical-align: middle;\n",
       "    }\n",
       "\n",
       "    .dataframe tbody tr th {\n",
       "        vertical-align: top;\n",
       "    }\n",
       "\n",
       "    .dataframe thead th {\n",
       "        text-align: right;\n",
       "    }\n",
       "</style>\n",
       "<table border=\"1\" class=\"dataframe\">\n",
       "  <thead>\n",
       "    <tr style=\"text-align: right;\">\n",
       "      <th></th>\n",
       "      <th>shop_id</th>\n",
       "      <th>purchase_id</th>\n",
       "      <th>purchase%</th>\n",
       "    </tr>\n",
       "  </thead>\n",
       "  <tbody>\n",
       "    <tr>\n",
       "      <td>0</td>\n",
       "      <td>Shop 0</td>\n",
       "      <td>827</td>\n",
       "      <td>0.809000</td>\n",
       "    </tr>\n",
       "    <tr>\n",
       "      <td>1</td>\n",
       "      <td>Shop 1</td>\n",
       "      <td>946</td>\n",
       "      <td>0.925410</td>\n",
       "    </tr>\n",
       "    <tr>\n",
       "      <td>2</td>\n",
       "      <td>Shop 10</td>\n",
       "      <td>632</td>\n",
       "      <td>0.618244</td>\n",
       "    </tr>\n",
       "    <tr>\n",
       "      <td>3</td>\n",
       "      <td>Shop 11</td>\n",
       "      <td>913</td>\n",
       "      <td>0.893128</td>\n",
       "    </tr>\n",
       "    <tr>\n",
       "      <td>4</td>\n",
       "      <td>Shop 12</td>\n",
       "      <td>565</td>\n",
       "      <td>0.552702</td>\n",
       "    </tr>\n",
       "  </tbody>\n",
       "</table>\n",
       "</div>"
      ],
      "text/plain": [
       "   shop_id  purchase_id  purchase%\n",
       "0   Shop 0          827   0.809000\n",
       "1   Shop 1          946   0.925410\n",
       "2  Shop 10          632   0.618244\n",
       "3  Shop 11          913   0.893128\n",
       "4  Shop 12          565   0.552702"
      ]
     },
     "metadata": {},
     "output_type": "display_data"
    },
    {
     "data": {
      "image/png": "[encoded data removed]",
      "text/plain": [
       "<Figure size 1080x648 with 1 Axes>"
      ]
     },
     "metadata": {
      "needs_background": "light"
     },
     "output_type": "display_data"
    }
   ],
   "source": [
    "# Breaking down by purchases by loyalty program\n",
    "\n",
    "purchase_with_loyalty = retail_detail[retail_detail.loyalty_program == 1]\n",
    "\n",
    "plot_withloyalty['purchase%'] = (plot_withloyalty['purchase_id']/retail_detail.purchase_id.count()) * 100\n",
    "display(plot_withloyalty.head(5))\n",
    "\n",
    "# plot bar graph\n",
    "plt.figure(figsize=(15, 9))\n",
    "ax = sns.barplot(data = plot_withloyalty, x='shop_id', y='purchase%')\n",
    "\n",
    "# Add titles and captions\n",
    "plt.xticks(rotation=45)\n",
    "plt.title('Purchases with loyalty program per Stor')\n",
    "plt.xlabel('Shops')\n",
    "plt.ylabel('Number of Purchase in %')\n",
    "plt.show()"
   ]
  },
  {
   "cell_type": "code",
   "execution_count": 65,
   "metadata": {},
   "outputs": [
    {
     "data": {
      "text/html": [
       "<div>\n",
       "<style scoped>\n",
       "    .dataframe tbody tr th:only-of-type {\n",
       "        vertical-align: middle;\n",
       "    }\n",
       "\n",
       "    .dataframe tbody tr th {\n",
       "        vertical-align: top;\n",
       "    }\n",
       "\n",
       "    .dataframe thead th {\n",
       "        text-align: right;\n",
       "    }\n",
       "</style>\n",
       "<table border=\"1\" class=\"dataframe\">\n",
       "  <thead>\n",
       "    <tr style=\"text-align: right;\">\n",
       "      <th></th>\n",
       "      <th>shop_id</th>\n",
       "      <th>purchase_id</th>\n",
       "      <th>purchase%</th>\n",
       "    </tr>\n",
       "  </thead>\n",
       "  <tbody>\n",
       "    <tr>\n",
       "      <td>0</td>\n",
       "      <td>Shop 0</td>\n",
       "      <td>37128</td>\n",
       "      <td>36.319883</td>\n",
       "    </tr>\n",
       "    <tr>\n",
       "      <td>1</td>\n",
       "      <td>Shop 1</td>\n",
       "      <td>1699</td>\n",
       "      <td>1.662020</td>\n",
       "    </tr>\n",
       "    <tr>\n",
       "      <td>2</td>\n",
       "      <td>Shop 10</td>\n",
       "      <td>1461</td>\n",
       "      <td>1.429200</td>\n",
       "    </tr>\n",
       "    <tr>\n",
       "      <td>3</td>\n",
       "      <td>Shop 11</td>\n",
       "      <td>1307</td>\n",
       "      <td>1.278552</td>\n",
       "    </tr>\n",
       "    <tr>\n",
       "      <td>4</td>\n",
       "      <td>Shop 12</td>\n",
       "      <td>1148</td>\n",
       "      <td>1.123013</td>\n",
       "    </tr>\n",
       "  </tbody>\n",
       "</table>\n",
       "</div>"
      ],
      "text/plain": [
       "   shop_id  purchase_id  purchase%\n",
       "0   Shop 0        37128  36.319883\n",
       "1   Shop 1         1699   1.662020\n",
       "2  Shop 10         1461   1.429200\n",
       "3  Shop 11         1307   1.278552\n",
       "4  Shop 12         1148   1.123013"
      ]
     },
     "metadata": {},
     "output_type": "display_data"
    },
    {
     "data": {
      "image/png": "[encoded data removed]",
      "text/plain": [
       "<Figure size 1080x648 with 1 Axes>"
      ]
     },
     "metadata": {
      "needs_background": "light"
     },
     "output_type": "display_data"
    }
   ],
   "source": [
    "purchase_without_loyalty = retail_detail[retail_detail.loyalty_program == 0]\n",
    "plot_withoutloyalty['purchase%'] = (plot_withoutloyalty['purchase_id']/retail_detail.purchase_id.count()) * 100\n",
    "display(plot_withoutloyalty.head(5))\n",
    "\n",
    "# plot bar graph\n",
    "plt.figure(figsize=(15, 9))\n",
    "ax = sns.barplot(data = plot_withoutloyalty, x='shop_id', y='purchase%')\n",
    "\n",
    "# Add titles and captions\n",
    "plt.xticks(rotation=45)\n",
    "plt.title('Purchases without loyalty program per Stor')\n",
    "plt.xlabel('Shops')\n",
    "plt.ylabel('Number of Purchase in %')\n",
    "plt.show()"
   ]
  },
  {
   "cell_type": "markdown",
   "metadata": {},
   "source": [
    "#### Conclusion:\n",
    "Based on the plotting above, we can conclude that the trend of purchases changed with customers who  are part of loyalty  program or not. Those customers who  have loyalty program tend to buy almost evenly in each store whereas customers who don't have loyalty program tend to only purchase at one store which is 'shop 0'. The reason could be that the shop 0 could be food or basic requirement store where customers have to go and buy for living no matter there are deals, discounts or not or this  store is already a discounted store like 'Ross' and 'TJMax'."
   ]
  },
  {
   "cell_type": "markdown",
   "metadata": {},
   "source": [
    "<div class=\"alert alert-warning\">\n",
    "    Showing the percentage instead of the absolute numbers would probably be more informative.\n",
    "</div>"
   ]
  },
  {
   "cell_type": "code",
   "execution_count": 66,
   "metadata": {},
   "outputs": [
    {
     "data": {
      "text/html": [
       "<div>\n",
       "<style scoped>\n",
       "    .dataframe tbody tr th:only-of-type {\n",
       "        vertical-align: middle;\n",
       "    }\n",
       "\n",
       "    .dataframe tbody tr th {\n",
       "        vertical-align: top;\n",
       "    }\n",
       "\n",
       "    .dataframe thead th {\n",
       "        text-align: right;\n",
       "    }\n",
       "</style>\n",
       "<table border=\"1\" class=\"dataframe\">\n",
       "  <thead>\n",
       "    <tr style=\"text-align: right;\">\n",
       "      <th></th>\n",
       "      <th>day</th>\n",
       "      <th>purchase_id</th>\n",
       "    </tr>\n",
       "  </thead>\n",
       "  <tbody>\n",
       "    <tr>\n",
       "      <td>0</td>\n",
       "      <td>1</td>\n",
       "      <td>4558</td>\n",
       "    </tr>\n",
       "    <tr>\n",
       "      <td>1</td>\n",
       "      <td>2</td>\n",
       "      <td>3402</td>\n",
       "    </tr>\n",
       "    <tr>\n",
       "      <td>2</td>\n",
       "      <td>3</td>\n",
       "      <td>3117</td>\n",
       "    </tr>\n",
       "    <tr>\n",
       "      <td>3</td>\n",
       "      <td>4</td>\n",
       "      <td>2351</td>\n",
       "    </tr>\n",
       "    <tr>\n",
       "      <td>4</td>\n",
       "      <td>5</td>\n",
       "      <td>4268</td>\n",
       "    </tr>\n",
       "    <tr>\n",
       "      <td>5</td>\n",
       "      <td>6</td>\n",
       "      <td>5813</td>\n",
       "    </tr>\n",
       "    <tr>\n",
       "      <td>6</td>\n",
       "      <td>7</td>\n",
       "      <td>5890</td>\n",
       "    </tr>\n",
       "    <tr>\n",
       "      <td>7</td>\n",
       "      <td>8</td>\n",
       "      <td>3732</td>\n",
       "    </tr>\n",
       "    <tr>\n",
       "      <td>8</td>\n",
       "      <td>9</td>\n",
       "      <td>4740</td>\n",
       "    </tr>\n",
       "    <tr>\n",
       "      <td>9</td>\n",
       "      <td>10</td>\n",
       "      <td>5323</td>\n",
       "    </tr>\n",
       "  </tbody>\n",
       "</table>\n",
       "</div>"
      ],
      "text/plain": [
       "   day  purchase_id\n",
       "0    1         4558\n",
       "1    2         3402\n",
       "2    3         3117\n",
       "3    4         2351\n",
       "4    5         4268\n",
       "5    6         5813\n",
       "6    7         5890\n",
       "7    8         3732\n",
       "8    9         4740\n",
       "9   10         5323"
      ]
     },
     "metadata": {},
     "output_type": "display_data"
    },
    {
     "data": {
      "text/html": [
       "<div>\n",
       "<style scoped>\n",
       "    .dataframe tbody tr th:only-of-type {\n",
       "        vertical-align: middle;\n",
       "    }\n",
       "\n",
       "    .dataframe tbody tr th {\n",
       "        vertical-align: top;\n",
       "    }\n",
       "\n",
       "    .dataframe thead th {\n",
       "        text-align: right;\n",
       "    }\n",
       "</style>\n",
       "<table border=\"1\" class=\"dataframe\">\n",
       "  <thead>\n",
       "    <tr style=\"text-align: right;\">\n",
       "      <th></th>\n",
       "      <th>month</th>\n",
       "      <th>purchase_id</th>\n",
       "    </tr>\n",
       "  </thead>\n",
       "  <tbody>\n",
       "    <tr>\n",
       "      <td>2</td>\n",
       "      <td>12</td>\n",
       "      <td>41168</td>\n",
       "    </tr>\n",
       "    <tr>\n",
       "      <td>1</td>\n",
       "      <td>2</td>\n",
       "      <td>26959</td>\n",
       "    </tr>\n",
       "    <tr>\n",
       "      <td>0</td>\n",
       "      <td>1</td>\n",
       "      <td>34098</td>\n",
       "    </tr>\n",
       "  </tbody>\n",
       "</table>\n",
       "</div>"
      ],
      "text/plain": [
       "   month  purchase_id\n",
       "2     12        41168\n",
       "1      2        26959\n",
       "0      1        34098"
      ]
     },
     "metadata": {},
     "output_type": "display_data"
    },
    {
     "data": {
      "image/png": "[encoded data removed]",
      "text/plain": [
       "<Figure size 1080x360 with 1 Axes>"
      ]
     },
     "metadata": {
      "needs_background": "light"
     },
     "output_type": "display_data"
    }
   ],
   "source": [
    "# Breaking down by purchases made in a day.\n",
    "purchase_per_day = retail_detail.groupby('day').agg({'purchase_id':'count'}).reset_index()\n",
    "display(purchase_per_day.head(10))\n",
    "\n",
    "purchase_per_month = retail_detail.groupby('month').agg({'purchase_id':'count'}).reset_index().sort_values(by='month', ascending=False)\n",
    "display(purchase_per_month.head(10))\n",
    "\n",
    "purchase_per_date = retail_detail.groupby('purchase_date').agg({'purchase_id':'count'}).reset_index().sort_values(by='purchase_date', ascending=False)\n",
    "fig, ax = plt.subplots(figsize = (15,5))  \n",
    "ax.plot(purchase_per_date['purchase_date'],purchase_per_date['purchase_id'])\n",
    "plt.gcf().autofmt_xdate(rotation=45)\n",
    "plt.title('Purchases by Date Range')\n",
    "plt.ylabel('No. of Purchases')\n",
    "plt.xlabel('PUrchase Dates')\n",
    "plt.show()"
   ]
  },
  {
   "cell_type": "markdown",
   "metadata": {},
   "source": [
    "#### Conclusion:\n",
    "Based on the plotting above, we can conclude that the number of purchases is higher in the middle of a month whereas the number of purchases slowly goes up after February month and is highest in December. It's obviously because major holidays (Thanksgiving and Christmas) are at the end of the year.\n"
   ]
  },
  {
   "cell_type": "markdown",
   "metadata": {},
   "source": [
    "<div class=\"alert alert-warning\">\n",
    "    +; would love to see the dates on x-axis though instead of the day order.\n",
    "</div>"
   ]
  },
  {
   "cell_type": "code",
   "execution_count": 251,
   "metadata": {},
   "outputs": [],
   "source": [
    "#Examine how many purchases are made in a day?\n",
    "# Plot a histogram showing the number of purchases.\n",
    "\n",
    "#purchase_per_day = retail_detail.groupby(['year','month','day'])['purchase_id'].count().reset_index().sort_values(by='purchase_id', ascending=False)\n",
    "#purchase_per_day = retail_detail.groupby('purchase_date')['purchase_id'].mean()\n",
    "#fig = plt.figure(figsize = (100, 50)) \n",
    "#purchase_per_year.plot(kind='bar',legend=False)\n",
    "#plt.xlabel(\"Days\") \n",
    "#plt.ylabel(\"number of purchases\")  \n",
    "\n",
    "# show plot \n",
    "#plt.show()\n"
   ]
  },
  {
   "cell_type": "code",
   "execution_count": 67,
   "metadata": {},
   "outputs": [
    {
     "data": {
      "text/html": [
       "<div>\n",
       "<style scoped>\n",
       "    .dataframe tbody tr th:only-of-type {\n",
       "        vertical-align: middle;\n",
       "    }\n",
       "\n",
       "    .dataframe tbody tr th {\n",
       "        vertical-align: top;\n",
       "    }\n",
       "\n",
       "    .dataframe thead th {\n",
       "        text-align: right;\n",
       "    }\n",
       "</style>\n",
       "<table border=\"1\" class=\"dataframe\">\n",
       "  <thead>\n",
       "    <tr style=\"text-align: right;\">\n",
       "      <th></th>\n",
       "      <th>customer_id</th>\n",
       "      <th>purchase_id</th>\n",
       "    </tr>\n",
       "  </thead>\n",
       "  <tbody>\n",
       "    <tr>\n",
       "      <td>135</td>\n",
       "      <td>18427</td>\n",
       "      <td>772</td>\n",
       "    </tr>\n",
       "    <tr>\n",
       "      <td>661</td>\n",
       "      <td>20285</td>\n",
       "      <td>724</td>\n",
       "    </tr>\n",
       "    <tr>\n",
       "      <td>850</td>\n",
       "      <td>20990</td>\n",
       "      <td>693</td>\n",
       "    </tr>\n",
       "    <tr>\n",
       "      <td>747</td>\n",
       "      <td>20590</td>\n",
       "      <td>506</td>\n",
       "    </tr>\n",
       "    <tr>\n",
       "      <td>672</td>\n",
       "      <td>20325</td>\n",
       "      <td>467</td>\n",
       "    </tr>\n",
       "    <tr>\n",
       "      <td>233</td>\n",
       "      <td>18768</td>\n",
       "      <td>447</td>\n",
       "    </tr>\n",
       "    <tr>\n",
       "      <td>773</td>\n",
       "      <td>20718</td>\n",
       "      <td>426</td>\n",
       "    </tr>\n",
       "    <tr>\n",
       "      <td>567</td>\n",
       "      <td>19977</td>\n",
       "      <td>362</td>\n",
       "    </tr>\n",
       "    <tr>\n",
       "      <td>230</td>\n",
       "      <td>18760</td>\n",
       "      <td>318</td>\n",
       "    </tr>\n",
       "    <tr>\n",
       "      <td>525</td>\n",
       "      <td>19835</td>\n",
       "      <td>307</td>\n",
       "    </tr>\n",
       "  </tbody>\n",
       "</table>\n",
       "</div>"
      ],
      "text/plain": [
       "     customer_id  purchase_id\n",
       "135        18427          772\n",
       "661        20285          724\n",
       "850        20990          693\n",
       "747        20590          506\n",
       "672        20325          467\n",
       "233        18768          447\n",
       "773        20718          426\n",
       "567        19977          362\n",
       "230        18760          318\n",
       "525        19835          307"
      ]
     },
     "metadata": {},
     "output_type": "display_data"
    }
   ],
   "source": [
    "#Examine how many purchases are made per customer? \n",
    "#Check if they have loyalty program. \n",
    "\n",
    "purchase_percustomer_withoutLoyalty = purchase_without_loyalty.groupby('customer_id')['purchase_id'].count().reset_index().sort_values(by='purchase_id', ascending=False)\n",
    "display(purchase_percustomer_withoutLoyalty.head(10))"
   ]
  },
  {
   "cell_type": "code",
   "execution_count": 68,
   "metadata": {},
   "outputs": [
    {
     "data": {
      "text/html": [
       "<div>\n",
       "<style scoped>\n",
       "    .dataframe tbody tr th:only-of-type {\n",
       "        vertical-align: middle;\n",
       "    }\n",
       "\n",
       "    .dataframe tbody tr th {\n",
       "        vertical-align: top;\n",
       "    }\n",
       "\n",
       "    .dataframe thead th {\n",
       "        text-align: right;\n",
       "    }\n",
       "</style>\n",
       "<table border=\"1\" class=\"dataframe\">\n",
       "  <thead>\n",
       "    <tr style=\"text-align: right;\">\n",
       "      <th></th>\n",
       "      <th>customer_id</th>\n",
       "      <th>purchase_id</th>\n",
       "    </tr>\n",
       "  </thead>\n",
       "  <tbody>\n",
       "    <tr>\n",
       "      <td>435</td>\n",
       "      <td>23520</td>\n",
       "      <td>738</td>\n",
       "    </tr>\n",
       "    <tr>\n",
       "      <td>525</td>\n",
       "      <td>23797</td>\n",
       "      <td>318</td>\n",
       "    </tr>\n",
       "    <tr>\n",
       "      <td>439</td>\n",
       "      <td>23529</td>\n",
       "      <td>297</td>\n",
       "    </tr>\n",
       "    <tr>\n",
       "      <td>427</td>\n",
       "      <td>23490</td>\n",
       "      <td>249</td>\n",
       "    </tr>\n",
       "    <tr>\n",
       "      <td>285</td>\n",
       "      <td>23016</td>\n",
       "      <td>244</td>\n",
       "    </tr>\n",
       "    <tr>\n",
       "      <td>286</td>\n",
       "      <td>23017</td>\n",
       "      <td>239</td>\n",
       "    </tr>\n",
       "    <tr>\n",
       "      <td>340</td>\n",
       "      <td>23190</td>\n",
       "      <td>214</td>\n",
       "    </tr>\n",
       "    <tr>\n",
       "      <td>172</td>\n",
       "      <td>22610</td>\n",
       "      <td>196</td>\n",
       "    </tr>\n",
       "    <tr>\n",
       "      <td>524</td>\n",
       "      <td>23795</td>\n",
       "      <td>195</td>\n",
       "    </tr>\n",
       "    <tr>\n",
       "      <td>370</td>\n",
       "      <td>23290</td>\n",
       "      <td>192</td>\n",
       "    </tr>\n",
       "  </tbody>\n",
       "</table>\n",
       "</div>"
      ],
      "text/plain": [
       "     customer_id  purchase_id\n",
       "435        23520          738\n",
       "525        23797          318\n",
       "439        23529          297\n",
       "427        23490          249\n",
       "285        23016          244\n",
       "286        23017          239\n",
       "340        23190          214\n",
       "172        22610          196\n",
       "524        23795          195\n",
       "370        23290          192"
      ]
     },
     "metadata": {},
     "output_type": "display_data"
    }
   ],
   "source": [
    "\n",
    "purchase_percustomer_withLoyalty = purchase_with_loyalty.groupby('customer_id')['purchase_id'].count().reset_index().sort_values(by='purchase_id', ascending=False)\n",
    "display(purchase_percustomer_withLoyalty.head(10))"
   ]
  },
  {
   "cell_type": "markdown",
   "metadata": {},
   "source": [
    "### Conclusion:\n",
    "Based on the tables above we can conclude that on average the number of purchases per customer is almost the same with or without a loyalty program.\n",
    "The highest purchase made is around 700 per customer.\n",
    "\n",
    "\n",
    "\n"
   ]
  },
  {
   "cell_type": "code",
   "execution_count": 69,
   "metadata": {},
   "outputs": [
    {
     "data": {
      "text/html": [
       "<div>\n",
       "<style scoped>\n",
       "    .dataframe tbody tr th:only-of-type {\n",
       "        vertical-align: middle;\n",
       "    }\n",
       "\n",
       "    .dataframe tbody tr th {\n",
       "        vertical-align: top;\n",
       "    }\n",
       "\n",
       "    .dataframe thead th {\n",
       "        text-align: right;\n",
       "    }\n",
       "</style>\n",
       "<table border=\"1\" class=\"dataframe\">\n",
       "  <thead>\n",
       "    <tr style=\"text-align: right;\">\n",
       "      <th></th>\n",
       "      <th>product_id</th>\n",
       "      <th>customer_id</th>\n",
       "    </tr>\n",
       "  </thead>\n",
       "  <tbody>\n",
       "    <tr>\n",
       "      <td>2653</td>\n",
       "      <td>85123A</td>\n",
       "      <td>491</td>\n",
       "    </tr>\n",
       "    <tr>\n",
       "      <td>1272</td>\n",
       "      <td>22423</td>\n",
       "      <td>360</td>\n",
       "    </tr>\n",
       "    <tr>\n",
       "      <td>1315</td>\n",
       "      <td>22469</td>\n",
       "      <td>317</td>\n",
       "    </tr>\n",
       "    <tr>\n",
       "      <td>1553</td>\n",
       "      <td>22720</td>\n",
       "      <td>307</td>\n",
       "    </tr>\n",
       "    <tr>\n",
       "      <td>1316</td>\n",
       "      <td>22470</td>\n",
       "      <td>268</td>\n",
       "    </tr>\n",
       "  </tbody>\n",
       "</table>\n",
       "</div>"
      ],
      "text/plain": [
       "     product_id  customer_id\n",
       "2653     85123A          491\n",
       "1272      22423          360\n",
       "1315      22469          317\n",
       "1553      22720          307\n",
       "1316      22470          268"
      ]
     },
     "metadata": {},
     "output_type": "display_data"
    },
    {
     "name": "stdout",
     "output_type": "stream",
     "text": [
      "['Shop 0', 'Shop 1', 'Shop 10', 'Shop 11', 'Shop 12', 'Shop 13', 'Shop 14', 'Shop 15', 'Shop 16', 'Shop 17', 'Shop 18', 'Shop 19', 'Shop 2', 'Shop 20', 'Shop 21', 'Shop 22', 'Shop 23', 'Shop 24', 'Shop 25', 'Shop 26', 'Shop 27', 'Shop 28', 'Shop 29', 'Shop 3', 'Shop 30', 'Shop 4', 'Shop 5', 'Shop 6', 'Shop 7', 'Shop 8', 'Shop 9']\n"
     ]
    }
   ],
   "source": [
    "#What products is most bought by customers?\n",
    "\n",
    "product_per_customer = retail_detail.groupby('product_id')['customer_id'].count().reset_index().sort_values(by='customer_id', ascending=False)\n",
    "\n",
    "display (product_per_customer.head(5))\n",
    "topstores = retail_detail[retail_detail['product_id'].isin(['85123A'])]\n",
    "print(sorted(topstores['shop_id'].unique()))"
   ]
  },
  {
   "cell_type": "markdown",
   "metadata": {},
   "source": [
    "### Conclusion:\n",
    "Based on the tables above we can conclude that the products with '85123A','22423','22469','22720','22470' ids are the most bought products by customers. These products belong to the stores listed above."
   ]
  },
  {
   "cell_type": "code",
   "execution_count": 70,
   "metadata": {},
   "outputs": [
    {
     "data": {
      "image/png": "[encoded data removed]",
      "text/plain": [
       "<Figure size 864x576 with 1 Axes>"
      ]
     },
     "metadata": {},
     "output_type": "display_data"
    }
   ],
   "source": [
    "# Determine the share of purchases made in different stores. \n",
    "#Plot a pie chart showing the shares of purchases in different stores.\n",
    "\n",
    "purchase_per_store = retail_detail.groupby('shop_id')['purchase_id'].count().reset_index()\n",
    "\n",
    "purchase_per_store.plot(kind='pie',y='purchase_id', shadow = True, figsize=(12,8),autopct='%1.1f%%')\n",
    "plt.title('Share of purchases made in stores')\n",
    "plt.xlabel(\"Stores\") \n",
    "plt.ylabel(\"Purchases made\")  \n",
    "# show plot \n",
    "plt.show() \n",
    "\n"
   ]
  },
  {
   "cell_type": "markdown",
   "metadata": {},
   "source": [
    "Based on the graph above, we can conclude that 36% of purchases are made in 'shop 0' whereas  2-3% purchases are made in the rest of the stores. It looks like half of the customers don't have loyalty programs. However, those who have it purchase evenly in all stores whereas those who don't have it buy mostly in shop0. It looks like the shop0 doesn't have a loyalty_program for customers however, it is still popular among customers."
   ]
  },
  {
   "cell_type": "markdown",
   "metadata": {},
   "source": [
    "<div class=\"alert alert-success\">\n",
    "    +\n",
    "</div>"
   ]
  },
  {
   "cell_type": "code",
   "execution_count": null,
   "metadata": {},
   "outputs": [],
   "source": [
    "#What time of year is the best to maximize the likelihood of customers' purchases? \n",
    "\n",
    "#Check if purchases spike during holidays or any major events (like Thanksgiving, and Christmas).\n",
    "\n",
    "#Holiday Events:\n",
    "#Thanksgiving and blackfriday: 24-Nov-16, 25-Nov-16, 26-Nov-16, 27-Nov-16,24-Nov-17, 25-Nov-17, 26-Nov-17, 27-Nov-17\n",
    "\n",
    "#Christmas and New Year: 24-Dec-16, 25-Dec-16, 30-Dec-16, 31-Dec-16,24-Dec-17, 25-Dec-17, 30-Dec-17, 31-Dec-17"
   ]
  },
  {
   "cell_type": "code",
   "execution_count": 71,
   "metadata": {},
   "outputs": [
    {
     "data": {
      "image/png": "[encoded data removed]",
      "text/plain": [
       "<Figure size 1080x360 with 1 Axes>"
      ]
     },
     "metadata": {
      "needs_background": "light"
     },
     "output_type": "display_data"
    }
   ],
   "source": [
    "\n",
    "total_sales = retail_detail.groupby('purchase_date')['purchase_id'].count().reset_index()\n",
    "\n",
    "Thanksgiving  = ['24-11-2016', '25-11-16', '26-11-2016', '27-11-2016','24-11-2016', '25-11-2017', '26-11-2017', '27-11-2017']\n",
    "Christmas   = ['24-12-2016', '25-12-2016', '30-12-2016', '31-12-2016','24-12-2017', '25-12-2017', '30-12-2017']\n",
    "\n",
    "  \n",
    "fig, ax = plt.subplots(figsize = (15,5))  \n",
    "ax.plot(total_sales['purchase_date'],total_sales['purchase_id'],label=Thanksgiving)\n",
    "plt.gcf().autofmt_xdate(rotation=45)\n",
    "plt.title('Purchases Durning Holidays')\n",
    "plt.ylabel('No. of Purchases')\n",
    "plt.xlabel('Dates')\n",
    "plt.show()"
   ]
  },
  {
   "cell_type": "markdown",
   "metadata": {},
   "source": [
    "#### Conclusion:\n",
    "Of course, Thanksgiving, Black Friday, Christmas, and New year are the biggest holidays here in the US. These are the best time to maximize the likelihood of customers' purchases. \n",
    "Based on the plotting above, we can conclude that purchases do spike during these times. It's probably because customers buy a lot of things during this time for gifts and stores gives huge discounts and deals to make them buy more.\n"
   ]
  },
  {
   "cell_type": "markdown",
   "metadata": {},
   "source": [
    "<div class=\"alert alert-success\">\n",
    "    +\n",
    "</div>"
   ]
  },
  {
   "cell_type": "code",
   "execution_count": 72,
   "metadata": {},
   "outputs": [
    {
     "data": {
      "text/html": [
       "<div>\n",
       "<style scoped>\n",
       "    .dataframe tbody tr th:only-of-type {\n",
       "        vertical-align: middle;\n",
       "    }\n",
       "\n",
       "    .dataframe tbody tr th {\n",
       "        vertical-align: top;\n",
       "    }\n",
       "\n",
       "    .dataframe thead th {\n",
       "        text-align: right;\n",
       "    }\n",
       "</style>\n",
       "<table border=\"1\" class=\"dataframe\">\n",
       "  <thead>\n",
       "    <tr style=\"text-align: right;\">\n",
       "      <th></th>\n",
       "      <th>loyalty_program</th>\n",
       "      <th>purchase_id</th>\n",
       "    </tr>\n",
       "  </thead>\n",
       "  <tbody>\n",
       "    <tr>\n",
       "      <td>0</td>\n",
       "      <td>0</td>\n",
       "      <td>79252</td>\n",
       "    </tr>\n",
       "    <tr>\n",
       "      <td>1</td>\n",
       "      <td>1</td>\n",
       "      <td>22973</td>\n",
       "    </tr>\n",
       "  </tbody>\n",
       "</table>\n",
       "</div>"
      ],
      "text/plain": [
       "   loyalty_program  purchase_id\n",
       "0                0        79252\n",
       "1                1        22973"
      ]
     },
     "execution_count": 72,
     "metadata": {},
     "output_type": "execute_result"
    }
   ],
   "source": [
    "# How effect is a loyalty program? Do customer with or without loyalty program purchases more or less?\n",
    "loyalty = retail_detail.groupby('loyalty_program')['purchase_id'].count().reset_index()\n",
    "loyalty\n"
   ]
  },
  {
   "cell_type": "markdown",
   "metadata": {},
   "source": [
    "### Conclusion:\n",
    "Based on the tables and plotting above, we can conclude that the number of purchases made by customers is independent of loyalty program membership. In fact, the majority of customers don't even have a loyalty program. It's an additional 20 dollar cost per month. Customers would rather not pay 20 dollars extra and buy more in affordable store like 'shop 0' instead. However, there are some customers who would pay 20 dollars monthly for loyalty membership and buy expensive and quality items in other stores using discounts and promotions. It's  matter of choice depending upon your earnings."
   ]
  },
  {
   "cell_type": "markdown",
   "metadata": {},
   "source": [
    "<div class=\"alert alert-success\">\n",
    "    +\n",
    "</div>"
   ]
  },
  {
   "cell_type": "markdown",
   "metadata": {},
   "source": [
    "### Step 4. Test the following hypotheses:\n",
    "-  Average purchases of customers with loyalty programs are the same as of customers without a loyalty program."
   ]
  },
  {
   "cell_type": "code",
   "execution_count": 73,
   "metadata": {},
   "outputs": [
    {
     "name": "stdout",
     "output_type": "stream",
     "text": [
      "The average purchase of customer with loyalty program is: 540765.2\n",
      "The average purchase of customer without loyalty program is: 540753.88\n",
      "p-value:  0.5704389304882957\n",
      "We can not reject the null hypothesis\n"
     ]
    }
   ],
   "source": [
    "# Test hypothesis:Average purchases of customers with loyalty programs are the same as of customers without a loyalty program\n",
    "\n",
    "# calculate average\n",
    "meanpurchase_without_loyalty = purchase_without_loyalty['purchase_id'].mean().round(decimals=2)\n",
    "meanpurchase_with_loyalty = purchase_with_loyalty['purchase_id'].mean().round(decimals=2)\n",
    "\n",
    "\n",
    "print('The average purchase of customer with loyalty program is: ' + str(meanpurchase_with_loyalty))\n",
    "print('The average purchase of customer without loyalty program is: ' + str(meanpurchase_without_loyalty))\n",
    "\n",
    "# perform a t-test\n",
    "results = st.ttest_ind(purchase_without_loyalty['purchase_id'], purchase_with_loyalty['purchase_id'], equal_var=False)\n",
    "p_value = results.pvalue\n",
    "\n",
    "# critical statistical significance level\n",
    "alpha = 0.05\n",
    "\n",
    "print('p-value: ', results.pvalue)\n",
    "\n",
    "if p_value < alpha:\n",
    "    print('We reject the null hypothesis')\n",
    "else:\n",
    "    print('We can not reject the null hypothesis')"
   ]
  },
  {
   "cell_type": "markdown",
   "metadata": {},
   "source": [
    "### Conclusion:\n",
    "We tested the hypothesis that the average purchases of customers with loyalty programs are the same as of customers without a loyalty program.\n",
    "\n",
    "We started with the null hypothesis which is\n",
    "H₀ = the average purchases of customers with or without loyalty programs are the same.\n",
    "\n",
    "The alternative hypothesis which is\n",
    "H₁ = the average purchases of customers with or without loyalty programs are not the same.\n",
    "\n",
    "For this, we used an alpha of 0.05, which means that only in 5% of cases will we reject the null hypothesis when it is true.\n",
    "\n",
    "We used a t-test to test the hypothesis because it is used to compare the means of two groups in order to determine whether two groups are different from one another.\n",
    "\n",
    "This result implies that the average purchases of customers with or without loyalty programs are the same.\n"
   ]
  },
  {
   "cell_type": "markdown",
   "metadata": {},
   "source": [
    "<div class=\"alert alert-success\">\n",
    "    Good analysis here :)\n",
    "</div>"
   ]
  },
  {
   "cell_type": "markdown",
   "metadata": {},
   "source": [
    "### Step 5. Prepare a presentation\n"
   ]
  },
  {
   "cell_type": "markdown",
   "metadata": {},
   "source": [
    "##### Link to Dashboard (Tableau)"
   ]
  },
  {
   "cell_type": "code",
   "execution_count": null,
   "metadata": {},
   "outputs": [],
   "source": [
    "\n",
    "https://public.tableau.com/app/profile/pranita1207/viz/AssessSalesOutletsPerformance/Dashboard1?publish=yes"
   ]
  },
  {
   "cell_type": "markdown",
   "metadata": {},
   "source": [
    "<div class=\"alert alert-success\">\n",
    "    Nice dashboard. One small remark: I wouldn't put three graphs on the right-hand side (maybe would rather rearrange them a bit). It's too much information; in addition, that results in the three graphs not fitting perfectly to the dashboard's height. Other than that, no other issues.\n",
    "</div>"
   ]
  },
  {
   "cell_type": "markdown",
   "metadata": {},
   "source": [
    "##### Link to Presentation (pdf)"
   ]
  },
  {
   "cell_type": "code",
   "execution_count": null,
   "metadata": {},
   "outputs": [],
   "source": [
    "https://drive.google.com/file/d/11vXshl-Z7BgzQMljDI2dxwvnyTtuPkpx/view?usp=sharing"
   ]
  },
  {
   "cell_type": "markdown",
   "metadata": {},
   "source": [
    "<div class=\"alert alert-danger\">\n",
    "    <s>I cannot access the presentation due to your privacy settings. Please fix this (make it accessible for viewing for those with the link).</s>\n",
    "</div>"
   ]
  },
  {
   "cell_type": "markdown",
   "metadata": {},
   "source": [
    "### Overall Conclusion:\n",
    "    "
   ]
  },
  {
   "cell_type": "markdown",
   "metadata": {},
   "source": [
    "Based on the assessments we performed on the above Sales Outlets data, we can conclude that that the number of purchases in the year 2017 is more than the year 2016. However, when we break down data by the loyalty program, we found out that, customers without loyalty programs purchased more than those who have loyalty programs. It's probably because taking loyalty program membership is an additional $20 per month. It looks like more than half of the customers don't have a loyalty program membership. For those who don't have loyalty membership, 'shop 0' is the most popular one. We found out based on the numbers above shop0 has the highest number of purchases so far. This store has 10 times more sales than any other store. It looks like the only store that is bringing in overall revenue. It looks like shop 0 is the store like 'TJMax' and 'Ross' where things are already priced decent and get quality things whereas some customers prefer to take membership and get discounts to buy things where they could find more variety and brands.\n",
    "\n",
    "The best time to purchase, of course, Thanksgiving, Black Friday, Christmas, and New year are the biggest holidays here in the US. These are the best time to maximize the likelihood of customers' purchases. Based on the plotting above, we can conclude that purchases do spike during this time. It's probably because customers buy a lot of things during this time for gifts and stores give huge discounts and deals to make them buy more. We tested the hypothesis that the average purchases of customers with loyalty programs are the same as of customers without a loyalty program. This result implies that the average purchases of customers with or without loyalty programs are the same. Hence, we can conclude that a loyalty program doesn't help boost the performance of the sales outlets. However, there is one store 'shop 0' which is bringing in the most revenue for a building-material retailer called Home World. \n",
    "\n",
    "We would recommend all the other stores to adopt business policies and tactics that shop 0 is using so that other stores also can bring in more profit to the Sales Outlets."
   ]
  },
  {
   "cell_type": "markdown",
   "metadata": {},
   "source": [
    "<div class=\"alert alert-success\">\n",
    "    The project is well-structured and coherent. The logic of your analysis is clear, and the choice of methods is justified. Your visualization and hypothesis testing skills are quite strong. I particularly liked the way you conducted the data quality checks and hypothesis testing. Excellent job - this project part is accepted. \n",
    "</div>"
   ]
  },
  {
   "cell_type": "markdown",
   "metadata": {},
   "source": [
    "<div class=\"alert alert-danger\">\n",
    "    <s>Please include the list of sources you used when working on the project. This is a mandatory part in order to pass the final project. If you already included the list in your presentation (which I am yet to get access to) - disregard this comment then. If it's not in the presentation - please add it here in the notebook.</s>\n",
    "</div>"
   ]
  }
 ],
 "metadata": {
  "ExecuteTimeLog": [
   {
    "duration": 1366,
    "start_time": "2021-11-03T21:49:15.027Z"
   },
   {
    "duration": 977,
    "start_time": "2021-11-03T21:49:21.548Z"
   },
   {
    "duration": 679,
    "start_time": "2021-11-03T21:49:26.257Z"
   },
   {
    "duration": 135,
    "start_time": "2021-11-03T21:49:35.537Z"
   },
   {
    "duration": 654,
    "start_time": "2021-11-03T21:49:53.276Z"
   },
   {
    "duration": 43,
    "start_time": "2021-11-03T21:51:19.555Z"
   },
   {
    "duration": 27,
    "start_time": "2021-11-03T22:00:25.610Z"
   },
   {
    "duration": 15,
    "start_time": "2021-11-03T22:01:41.399Z"
   },
   {
    "duration": 13,
    "start_time": "2021-11-03T22:01:56.723Z"
   },
   {
    "duration": 19,
    "start_time": "2021-11-03T22:03:30.862Z"
   },
   {
    "duration": 64,
    "start_time": "2021-11-03T22:04:02.742Z"
   },
   {
    "duration": 19,
    "start_time": "2021-11-03T22:04:34.777Z"
   },
   {
    "duration": 20,
    "start_time": "2021-11-03T22:04:38.073Z"
   },
   {
    "duration": 6,
    "start_time": "2021-11-03T22:06:46.894Z"
   },
   {
    "duration": 40,
    "start_time": "2021-11-03T22:11:40.305Z"
   },
   {
    "duration": 5262,
    "start_time": "2021-11-03T22:11:42.969Z"
   },
   {
    "duration": -478,
    "start_time": "2021-11-03T22:11:48.711Z"
   },
   {
    "duration": 190,
    "start_time": "2021-11-03T22:12:17.063Z"
   },
   {
    "duration": 187,
    "start_time": "2021-11-03T22:12:33.696Z"
   },
   {
    "duration": 190,
    "start_time": "2021-11-03T22:12:55.308Z"
   },
   {
    "duration": 205,
    "start_time": "2021-11-03T22:13:35.798Z"
   },
   {
    "duration": 243,
    "start_time": "2021-11-03T22:13:51.197Z"
   },
   {
    "duration": 12,
    "start_time": "2021-11-03T22:13:55.919Z"
   },
   {
    "duration": 47,
    "start_time": "2021-11-03T22:13:59.169Z"
   },
   {
    "duration": 101,
    "start_time": "2021-11-03T22:18:10.826Z"
   },
   {
    "duration": 103,
    "start_time": "2021-11-03T22:20:18.563Z"
   },
   {
    "duration": 54,
    "start_time": "2021-11-03T22:24:00.829Z"
   },
   {
    "duration": 41,
    "start_time": "2021-11-03T22:24:03.443Z"
   },
   {
    "duration": 23,
    "start_time": "2021-11-03T22:24:15.820Z"
   },
   {
    "duration": 4289,
    "start_time": "2021-11-03T22:24:56.648Z"
   },
   {
    "duration": 10,
    "start_time": "2021-11-03T22:26:07.573Z"
   },
   {
    "duration": 189,
    "start_time": "2021-11-03T22:27:16.432Z"
   },
   {
    "duration": 185,
    "start_time": "2021-11-03T22:27:26.899Z"
   },
   {
    "duration": 14,
    "start_time": "2021-11-03T22:27:52.818Z"
   },
   {
    "duration": 4174,
    "start_time": "2021-11-03T22:29:54.321Z"
   },
   {
    "duration": 190,
    "start_time": "2021-11-03T22:33:03.107Z"
   },
   {
    "duration": 15,
    "start_time": "2021-11-03T22:33:13.614Z"
   },
   {
    "duration": 51,
    "start_time": "2021-11-03T22:33:41.398Z"
   },
   {
    "duration": 12,
    "start_time": "2021-11-03T22:33:52.406Z"
   },
   {
    "duration": 18,
    "start_time": "2021-11-03T22:34:00.471Z"
   },
   {
    "duration": 17,
    "start_time": "2021-11-03T22:34:09.779Z"
   },
   {
    "duration": 87,
    "start_time": "2021-11-03T22:34:37.446Z"
   },
   {
    "duration": 15,
    "start_time": "2021-11-03T22:35:19.394Z"
   },
   {
    "duration": 196,
    "start_time": "2021-11-03T22:45:24.696Z"
   },
   {
    "duration": 32,
    "start_time": "2021-11-03T22:45:53.557Z"
   },
   {
    "duration": 62,
    "start_time": "2021-11-03T22:53:05.763Z"
   },
   {
    "duration": 32,
    "start_time": "2021-11-03T22:53:15.020Z"
   },
   {
    "duration": 31,
    "start_time": "2021-11-03T22:53:42.810Z"
   },
   {
    "duration": 31,
    "start_time": "2021-11-03T22:54:33.683Z"
   },
   {
    "duration": 187,
    "start_time": "2021-11-03T22:56:24.796Z"
   },
   {
    "duration": 47,
    "start_time": "2021-11-03T22:56:52.492Z"
   },
   {
    "duration": 45,
    "start_time": "2021-11-03T22:58:22.771Z"
   },
   {
    "duration": 52,
    "start_time": "2021-11-03T23:06:33.580Z"
   },
   {
    "duration": 54,
    "start_time": "2021-11-03T23:08:09.763Z"
   },
   {
    "duration": 1552,
    "start_time": "2021-11-04T16:25:17.381Z"
   },
   {
    "duration": 1235,
    "start_time": "2021-11-04T16:25:19.756Z"
   },
   {
    "duration": 481,
    "start_time": "2021-11-04T16:25:23.104Z"
   },
   {
    "duration": 37,
    "start_time": "2021-11-04T16:25:28.275Z"
   },
   {
    "duration": 18,
    "start_time": "2021-11-04T16:25:36.266Z"
   },
   {
    "duration": 7,
    "start_time": "2021-11-04T16:25:39.175Z"
   },
   {
    "duration": 58,
    "start_time": "2021-11-04T16:25:41.448Z"
   },
   {
    "duration": 8,
    "start_time": "2021-11-04T16:25:43.353Z"
   },
   {
    "duration": 73,
    "start_time": "2021-11-04T16:25:53.781Z"
   },
   {
    "duration": 30,
    "start_time": "2021-11-04T16:25:56.200Z"
   },
   {
    "duration": 11,
    "start_time": "2021-11-04T16:26:03.133Z"
   },
   {
    "duration": 401,
    "start_time": "2021-11-04T16:28:05.514Z"
   },
   {
    "duration": 368,
    "start_time": "2021-11-04T16:28:26.691Z"
   },
   {
    "duration": 345,
    "start_time": "2021-11-04T16:28:45.346Z"
   },
   {
    "duration": 350,
    "start_time": "2021-11-04T16:29:24.066Z"
   },
   {
    "duration": 352,
    "start_time": "2021-11-04T16:35:51.815Z"
   },
   {
    "duration": 56,
    "start_time": "2021-11-04T16:35:59.352Z"
   },
   {
    "duration": 13,
    "start_time": "2021-11-04T16:36:04.190Z"
   },
   {
    "duration": 41,
    "start_time": "2021-11-04T16:36:11.002Z"
   },
   {
    "duration": 50,
    "start_time": "2021-11-04T16:37:18.716Z"
   },
   {
    "duration": 357,
    "start_time": "2021-11-04T16:48:31.634Z"
   },
   {
    "duration": 152,
    "start_time": "2021-11-04T16:48:48.519Z"
   },
   {
    "duration": 144,
    "start_time": "2021-11-04T16:54:34.369Z"
   },
   {
    "duration": 361,
    "start_time": "2021-11-04T16:54:54.314Z"
   },
   {
    "duration": 434,
    "start_time": "2021-11-04T16:54:59.005Z"
   },
   {
    "duration": 336,
    "start_time": "2021-11-04T16:55:27.204Z"
   },
   {
    "duration": 291,
    "start_time": "2021-11-04T17:57:45.459Z"
   },
   {
    "duration": 25,
    "start_time": "2021-11-04T18:01:44.892Z"
   },
   {
    "duration": 17,
    "start_time": "2021-11-04T18:02:32.294Z"
   },
   {
    "duration": 20,
    "start_time": "2021-11-04T18:02:45.225Z"
   },
   {
    "duration": 20,
    "start_time": "2021-11-04T18:09:50.783Z"
   },
   {
    "duration": 369,
    "start_time": "2021-11-04T18:13:52.796Z"
   },
   {
    "duration": 328,
    "start_time": "2021-11-04T18:14:04.766Z"
   },
   {
    "duration": 21,
    "start_time": "2021-11-04T18:16:06.362Z"
   },
   {
    "duration": 363,
    "start_time": "2021-11-04T18:17:37.420Z"
   },
   {
    "duration": 4486,
    "start_time": "2021-11-04T18:34:05.480Z"
   },
   {
    "duration": 4589,
    "start_time": "2021-11-04T18:34:35.778Z"
   },
   {
    "duration": 2881,
    "start_time": "2021-11-04T18:35:05.870Z"
   },
   {
    "duration": 399,
    "start_time": "2021-11-04T18:36:37.351Z"
   },
   {
    "duration": 435,
    "start_time": "2021-11-04T18:37:05.780Z"
   },
   {
    "duration": 20,
    "start_time": "2021-11-04T18:43:52.811Z"
   },
   {
    "duration": 6,
    "start_time": "2021-11-04T18:46:16.455Z"
   },
   {
    "duration": 21,
    "start_time": "2021-11-04T18:46:44.826Z"
   },
   {
    "duration": 2038,
    "start_time": "2021-11-04T21:19:54.760Z"
   },
   {
    "duration": 247,
    "start_time": "2021-11-04T21:19:56.961Z"
   },
   {
    "duration": 53,
    "start_time": "2021-11-04T21:20:00.049Z"
   },
   {
    "duration": 26,
    "start_time": "2021-11-04T21:20:02.899Z"
   },
   {
    "duration": 81,
    "start_time": "2021-11-04T21:20:05.754Z"
   },
   {
    "duration": 9,
    "start_time": "2021-11-04T21:20:07.505Z"
   },
   {
    "duration": 106,
    "start_time": "2021-11-04T21:20:10.218Z"
   },
   {
    "duration": 35,
    "start_time": "2021-11-04T21:20:11.988Z"
   },
   {
    "duration": 15,
    "start_time": "2021-11-04T21:20:14.876Z"
   },
   {
    "duration": 492,
    "start_time": "2021-11-04T21:20:20.233Z"
   },
   {
    "duration": 291,
    "start_time": "2021-11-04T21:20:32.495Z"
   },
   {
    "duration": 292,
    "start_time": "2021-11-04T21:20:35.900Z"
   },
   {
    "duration": 98,
    "start_time": "2021-11-04T21:20:41.167Z"
   },
   {
    "duration": 916,
    "start_time": "2021-11-04T21:20:54.796Z"
   },
   {
    "duration": 98,
    "start_time": "2021-11-04T21:33:27.871Z"
   },
   {
    "duration": 106,
    "start_time": "2021-11-04T21:33:43.131Z"
   },
   {
    "duration": 86,
    "start_time": "2021-11-04T21:35:44.584Z"
   },
   {
    "duration": 337,
    "start_time": "2021-11-04T21:36:50.459Z"
   },
   {
    "duration": 93,
    "start_time": "2021-11-04T21:38:20.486Z"
   },
   {
    "duration": 401,
    "start_time": "2021-11-04T21:38:28.921Z"
   },
   {
    "duration": 378,
    "start_time": "2021-11-04T21:43:15.121Z"
   },
   {
    "duration": 40,
    "start_time": "2021-11-04T21:53:41.649Z"
   },
   {
    "duration": 29,
    "start_time": "2021-11-04T21:53:52.923Z"
   },
   {
    "duration": 75,
    "start_time": "2021-11-04T21:55:02.392Z"
   },
   {
    "duration": 69,
    "start_time": "2021-11-04T22:06:54.692Z"
   },
   {
    "duration": 70,
    "start_time": "2021-11-04T22:07:09.444Z"
   },
   {
    "duration": 269,
    "start_time": "2021-11-04T22:22:02.504Z"
   },
   {
    "duration": 406,
    "start_time": "2021-11-04T22:23:15.056Z"
   },
   {
    "duration": 1335,
    "start_time": "2021-11-05T13:49:30.373Z"
   },
   {
    "duration": 124,
    "start_time": "2021-11-05T13:49:32.845Z"
   },
   {
    "duration": 44,
    "start_time": "2021-11-05T13:49:36.122Z"
   },
   {
    "duration": 18,
    "start_time": "2021-11-05T13:49:40.625Z"
   },
   {
    "duration": 6,
    "start_time": "2021-11-05T13:49:43.127Z"
   },
   {
    "duration": 51,
    "start_time": "2021-11-05T13:49:45.638Z"
   },
   {
    "duration": 7,
    "start_time": "2021-11-05T13:49:48.309Z"
   },
   {
    "duration": 131,
    "start_time": "2021-11-05T13:49:51.930Z"
   },
   {
    "duration": 62,
    "start_time": "2021-11-05T13:49:57.061Z"
   },
   {
    "duration": 25,
    "start_time": "2021-11-05T13:49:59.093Z"
   },
   {
    "duration": 10,
    "start_time": "2021-11-05T13:50:02.903Z"
   },
   {
    "duration": 54,
    "start_time": "2021-11-05T13:50:05.253Z"
   },
   {
    "duration": 31,
    "start_time": "2021-11-05T13:50:12.133Z"
   },
   {
    "duration": 46,
    "start_time": "2021-11-05T13:50:15.989Z"
   },
   {
    "duration": 294,
    "start_time": "2021-11-05T13:51:14.799Z"
   },
   {
    "duration": 728,
    "start_time": "2021-11-05T13:53:59.256Z"
   },
   {
    "duration": 684,
    "start_time": "2021-11-05T13:54:06.703Z"
   },
   {
    "duration": 4351,
    "start_time": "2021-11-05T13:56:45.579Z"
   },
   {
    "duration": 355,
    "start_time": "2021-11-05T13:57:28.630Z"
   },
   {
    "duration": 535,
    "start_time": "2021-11-05T13:57:44.558Z"
   },
   {
    "duration": 621,
    "start_time": "2021-11-05T13:58:25.198Z"
   },
   {
    "duration": 535,
    "start_time": "2021-11-05T13:58:53.604Z"
   },
   {
    "duration": 298,
    "start_time": "2021-11-05T13:59:14.709Z"
   },
   {
    "duration": 466,
    "start_time": "2021-11-05T13:59:47.771Z"
   },
   {
    "duration": 473,
    "start_time": "2021-11-05T13:59:59.542Z"
   },
   {
    "duration": 517,
    "start_time": "2021-11-05T14:05:24.794Z"
   },
   {
    "duration": 641,
    "start_time": "2021-11-05T14:05:58.815Z"
   },
   {
    "duration": 565,
    "start_time": "2021-11-05T14:07:47.045Z"
   },
   {
    "duration": 192,
    "start_time": "2021-11-05T14:16:27.240Z"
   },
   {
    "duration": 24,
    "start_time": "2021-11-05T14:17:44.644Z"
   },
   {
    "duration": 1402,
    "start_time": "2021-11-05T14:17:54.856Z"
   },
   {
    "duration": 2012,
    "start_time": "2021-11-06T16:31:18.786Z"
   },
   {
    "duration": 556,
    "start_time": "2021-11-06T16:41:12.690Z"
   },
   {
    "duration": 380,
    "start_time": "2021-11-06T16:44:31.357Z"
   },
   {
    "duration": 375,
    "start_time": "2021-11-06T17:04:55.841Z"
   },
   {
    "duration": 911,
    "start_time": "2021-11-06T17:07:27.048Z"
   },
   {
    "duration": 79,
    "start_time": "2021-11-06T17:07:32.392Z"
   },
   {
    "duration": 21,
    "start_time": "2021-11-06T17:07:39.182Z"
   },
   {
    "duration": 80,
    "start_time": "2021-11-06T17:07:48.945Z"
   },
   {
    "duration": 82,
    "start_time": "2021-11-06T17:08:01.191Z"
   },
   {
    "duration": 93,
    "start_time": "2021-11-06T17:08:03.469Z"
   },
   {
    "duration": 73,
    "start_time": "2021-11-06T17:08:05.638Z"
   },
   {
    "duration": 38,
    "start_time": "2021-11-06T17:08:08.367Z"
   },
   {
    "duration": 15,
    "start_time": "2021-11-06T17:08:23.552Z"
   },
   {
    "duration": 32,
    "start_time": "2021-11-06T17:09:59.627Z"
   },
   {
    "duration": 13,
    "start_time": "2021-11-06T17:10:08.775Z"
   },
   {
    "duration": 447,
    "start_time": "2021-11-06T17:12:51.816Z"
   },
   {
    "duration": 378,
    "start_time": "2021-11-06T17:13:37.578Z"
   },
   {
    "duration": 30,
    "start_time": "2021-11-06T17:13:58.703Z"
   },
   {
    "duration": 1549,
    "start_time": "2021-11-06T20:09:08.172Z"
   },
   {
    "duration": 370,
    "start_time": "2021-11-06T20:09:09.722Z"
   },
   {
    "duration": 57,
    "start_time": "2021-11-06T20:09:10.512Z"
   },
   {
    "duration": 36,
    "start_time": "2021-11-06T20:09:13.893Z"
   },
   {
    "duration": 18,
    "start_time": "2021-11-06T20:09:17.424Z"
   },
   {
    "duration": 62,
    "start_time": "2021-11-06T20:09:19.660Z"
   },
   {
    "duration": 7,
    "start_time": "2021-11-06T20:09:20.556Z"
   },
   {
    "duration": 69,
    "start_time": "2021-11-06T20:09:21.429Z"
   },
   {
    "duration": 75,
    "start_time": "2021-11-06T20:09:23.986Z"
   },
   {
    "duration": 66,
    "start_time": "2021-11-06T20:09:26.936Z"
   },
   {
    "duration": 26,
    "start_time": "2021-11-06T20:09:28.774Z"
   },
   {
    "duration": 15,
    "start_time": "2021-11-06T20:09:31.359Z"
   },
   {
    "duration": 61,
    "start_time": "2021-11-06T20:09:33.531Z"
   },
   {
    "duration": 19,
    "start_time": "2021-11-06T20:09:36.352Z"
   },
   {
    "duration": 68,
    "start_time": "2021-11-06T20:09:39.966Z"
   },
   {
    "duration": 64,
    "start_time": "2021-11-06T20:10:36.450Z"
   },
   {
    "duration": 487,
    "start_time": "2021-11-06T20:14:04.594Z"
   },
   {
    "duration": 450,
    "start_time": "2021-11-06T20:14:59.321Z"
   },
   {
    "duration": 187,
    "start_time": "2021-11-06T20:15:10.207Z"
   },
   {
    "duration": 479,
    "start_time": "2021-11-06T20:15:23.513Z"
   },
   {
    "duration": 598,
    "start_time": "2021-11-06T20:19:00.149Z"
   },
   {
    "duration": 543,
    "start_time": "2021-11-06T20:19:16.607Z"
   },
   {
    "duration": 527,
    "start_time": "2021-11-06T20:20:11.330Z"
   },
   {
    "duration": 306,
    "start_time": "2021-11-06T20:22:22.332Z"
   },
   {
    "duration": 320,
    "start_time": "2021-11-06T20:22:32.403Z"
   },
   {
    "duration": 423,
    "start_time": "2021-11-06T20:22:39.534Z"
   },
   {
    "duration": 301,
    "start_time": "2021-11-06T20:23:13.443Z"
   },
   {
    "duration": 293,
    "start_time": "2021-11-06T20:24:40.924Z"
   },
   {
    "duration": 686,
    "start_time": "2021-11-06T20:31:35.367Z"
   },
   {
    "duration": 14,
    "start_time": "2021-11-06T20:32:36.058Z"
   },
   {
    "duration": 47,
    "start_time": "2021-11-06T20:34:46.556Z"
   },
   {
    "duration": 211,
    "start_time": "2021-11-06T20:39:05.459Z"
   },
   {
    "duration": 204,
    "start_time": "2021-11-06T20:39:09.738Z"
   },
   {
    "duration": 135,
    "start_time": "2021-11-06T20:39:21.787Z"
   },
   {
    "duration": 883,
    "start_time": "2021-11-06T20:40:19.412Z"
   },
   {
    "duration": 1022,
    "start_time": "2021-11-06T20:40:53.657Z"
   },
   {
    "duration": 614,
    "start_time": "2021-11-06T20:41:04.979Z"
   },
   {
    "duration": 580,
    "start_time": "2021-11-06T20:42:10.148Z"
   },
   {
    "duration": 389,
    "start_time": "2021-11-06T20:43:11.237Z"
   },
   {
    "duration": 297,
    "start_time": "2021-11-06T20:43:40.682Z"
   },
   {
    "duration": 31,
    "start_time": "2021-11-06T20:44:29.348Z"
   },
   {
    "duration": 568,
    "start_time": "2021-11-06T20:44:59.401Z"
   },
   {
    "duration": 24,
    "start_time": "2021-11-06T20:50:49.991Z"
   },
   {
    "duration": 20,
    "start_time": "2021-11-06T20:52:00.612Z"
   },
   {
    "duration": 129,
    "start_time": "2021-11-06T20:52:50.140Z"
   },
   {
    "duration": 22,
    "start_time": "2021-11-06T20:52:57.323Z"
   },
   {
    "duration": 83,
    "start_time": "2021-11-06T20:53:24.240Z"
   },
   {
    "duration": 20,
    "start_time": "2021-11-06T20:53:31.001Z"
   },
   {
    "duration": 29,
    "start_time": "2021-11-06T20:54:43.556Z"
   },
   {
    "duration": 1004,
    "start_time": "2021-11-06T20:58:22.142Z"
   },
   {
    "duration": 29,
    "start_time": "2021-11-06T20:59:13.659Z"
   },
   {
    "duration": 994,
    "start_time": "2021-11-06T20:59:17.016Z"
   },
   {
    "duration": 969,
    "start_time": "2021-11-06T20:59:45.525Z"
   },
   {
    "duration": 964,
    "start_time": "2021-11-06T21:03:02.039Z"
   },
   {
    "duration": 956,
    "start_time": "2021-11-06T21:03:24.515Z"
   },
   {
    "duration": 1026,
    "start_time": "2021-11-06T21:04:37.055Z"
   },
   {
    "duration": 1345,
    "start_time": "2021-11-06T21:06:23.670Z"
   },
   {
    "duration": 524,
    "start_time": "2021-11-06T21:07:17.078Z"
   },
   {
    "duration": 1752,
    "start_time": "2021-11-06T21:09:07.823Z"
   },
   {
    "duration": 1588,
    "start_time": "2021-11-06T21:09:49.372Z"
   },
   {
    "duration": 252,
    "start_time": "2021-11-06T21:11:48.438Z"
   },
   {
    "duration": 259,
    "start_time": "2021-11-06T21:12:10.149Z"
   },
   {
    "duration": 24,
    "start_time": "2021-11-06T21:12:36.887Z"
   },
   {
    "duration": 499,
    "start_time": "2021-11-06T21:12:53.956Z"
   },
   {
    "duration": 1579,
    "start_time": "2021-11-06T21:13:13.058Z"
   },
   {
    "duration": 1867,
    "start_time": "2021-11-07T04:30:14.155Z"
   },
   {
    "duration": 234,
    "start_time": "2021-11-07T04:30:16.129Z"
   },
   {
    "duration": 54,
    "start_time": "2021-11-07T04:30:20.001Z"
   },
   {
    "duration": 37,
    "start_time": "2021-11-07T04:30:27.625Z"
   },
   {
    "duration": 27,
    "start_time": "2021-11-07T04:30:31.761Z"
   },
   {
    "duration": 24,
    "start_time": "2021-11-07T04:30:35.445Z"
   },
   {
    "duration": 84,
    "start_time": "2021-11-07T04:30:37.300Z"
   },
   {
    "duration": 72,
    "start_time": "2021-11-07T04:30:40.182Z"
   },
   {
    "duration": 81,
    "start_time": "2021-11-07T04:30:42.077Z"
   },
   {
    "duration": 37,
    "start_time": "2021-11-07T04:30:44.294Z"
   },
   {
    "duration": 13,
    "start_time": "2021-11-07T04:30:46.578Z"
   },
   {
    "duration": 111,
    "start_time": "2021-11-07T04:30:48.907Z"
   },
   {
    "duration": 25,
    "start_time": "2021-11-07T04:30:51.350Z"
   },
   {
    "duration": 485,
    "start_time": "2021-11-07T04:30:54.051Z"
   },
   {
    "duration": 16,
    "start_time": "2021-11-07T04:31:35.654Z"
   },
   {
    "duration": 77,
    "start_time": "2021-11-07T04:31:39.524Z"
   },
   {
    "duration": 33,
    "start_time": "2021-11-07T04:31:42.725Z"
   },
   {
    "duration": 88,
    "start_time": "2021-11-07T04:31:44.553Z"
   },
   {
    "duration": 96,
    "start_time": "2021-11-07T04:31:47.979Z"
   },
   {
    "duration": 33,
    "start_time": "2021-11-07T04:31:49.729Z"
   },
   {
    "duration": 15,
    "start_time": "2021-11-07T04:31:52.063Z"
   },
   {
    "duration": 95,
    "start_time": "2021-11-07T04:31:54.203Z"
   },
   {
    "duration": 30,
    "start_time": "2021-11-07T04:31:57.016Z"
   },
   {
    "duration": 92,
    "start_time": "2021-11-07T04:32:00.158Z"
   },
   {
    "duration": -1200,
    "start_time": "2021-11-07T04:34:17.768Z"
   },
   {
    "duration": -1208,
    "start_time": "2021-11-07T04:34:25.679Z"
   },
   {
    "duration": 87,
    "start_time": "2021-11-07T04:34:30.763Z"
   },
   {
    "duration": 31,
    "start_time": "2021-11-07T04:34:33.235Z"
   },
   {
    "duration": -1198,
    "start_time": "2021-11-07T04:34:43.284Z"
   },
   {
    "duration": 75,
    "start_time": "2021-11-07T04:36:22.305Z"
   },
   {
    "duration": 535,
    "start_time": "2021-11-07T04:44:28.334Z"
   },
   {
    "duration": 518,
    "start_time": "2021-11-07T04:45:43.317Z"
   },
   {
    "duration": 554,
    "start_time": "2021-11-07T04:49:37.873Z"
   },
   {
    "duration": 1145,
    "start_time": "2021-11-07T04:51:40.105Z"
   },
   {
    "duration": 280,
    "start_time": "2021-11-07T04:52:04.659Z"
   },
   {
    "duration": 39,
    "start_time": "2021-11-07T04:52:12.003Z"
   },
   {
    "duration": 1190,
    "start_time": "2021-11-07T04:52:18.010Z"
   },
   {
    "duration": 333,
    "start_time": "2021-11-07T04:54:37.382Z"
   },
   {
    "duration": 279,
    "start_time": "2021-11-07T05:02:37.668Z"
   },
   {
    "duration": 316,
    "start_time": "2021-11-07T05:02:49.488Z"
   },
   {
    "duration": 367,
    "start_time": "2021-11-07T05:03:17.790Z"
   },
   {
    "duration": 280,
    "start_time": "2021-11-07T05:03:29.641Z"
   },
   {
    "duration": 285,
    "start_time": "2021-11-07T05:04:16.630Z"
   },
   {
    "duration": 379,
    "start_time": "2021-11-07T05:04:24.483Z"
   },
   {
    "duration": 271,
    "start_time": "2021-11-07T05:10:19.956Z"
   },
   {
    "duration": 3716,
    "start_time": "2021-11-07T05:10:25.272Z"
   },
   {
    "duration": 268,
    "start_time": "2021-11-07T05:10:38.519Z"
   },
   {
    "duration": 112,
    "start_time": "2021-11-07T05:10:55.206Z"
   },
   {
    "duration": 33,
    "start_time": "2021-11-07T05:11:42.309Z"
   },
   {
    "duration": 303,
    "start_time": "2021-11-07T05:14:02.592Z"
   },
   {
    "duration": 6,
    "start_time": "2021-11-07T05:14:31.721Z"
   },
   {
    "duration": 23,
    "start_time": "2021-11-07T05:19:31.592Z"
   },
   {
    "duration": 53,
    "start_time": "2021-11-07T05:20:00.627Z"
   },
   {
    "duration": 79,
    "start_time": "2021-11-07T05:20:15.676Z"
   },
   {
    "duration": 60,
    "start_time": "2021-11-07T05:21:27.510Z"
   },
   {
    "duration": 32,
    "start_time": "2021-11-07T05:27:23.167Z"
   },
   {
    "duration": 27,
    "start_time": "2021-11-07T05:27:30.528Z"
   },
   {
    "duration": 61,
    "start_time": "2021-11-07T05:27:49.736Z"
   },
   {
    "duration": 93,
    "start_time": "2021-11-07T05:28:27.048Z"
   },
   {
    "duration": 56,
    "start_time": "2021-11-07T05:28:51.629Z"
   },
   {
    "duration": 3647,
    "start_time": "2021-11-07T05:28:55.500Z"
   },
   {
    "duration": 4183,
    "start_time": "2021-11-07T05:30:06.399Z"
   },
   {
    "duration": 42,
    "start_time": "2021-11-07T05:31:42.875Z"
   },
   {
    "duration": 37,
    "start_time": "2021-11-07T05:32:04.725Z"
   },
   {
    "duration": 1664,
    "start_time": "2021-11-07T05:32:14.118Z"
   },
   {
    "duration": 1919,
    "start_time": "2021-11-07T05:34:06.012Z"
   },
   {
    "duration": 1921,
    "start_time": "2021-11-07T06:04:40.167Z"
   },
   {
    "duration": 1922,
    "start_time": "2021-11-07T06:05:13.182Z"
   },
   {
    "duration": 2171,
    "start_time": "2021-11-07T06:05:29.288Z"
   },
   {
    "duration": 1933,
    "start_time": "2021-11-07T06:05:59.461Z"
   },
   {
    "duration": 99,
    "start_time": "2021-11-07T06:06:39.820Z"
   },
   {
    "duration": 125,
    "start_time": "2021-11-07T06:07:25.812Z"
   },
   {
    "duration": 30,
    "start_time": "2021-11-07T06:07:50.336Z"
   },
   {
    "duration": 97,
    "start_time": "2021-11-07T06:08:20.113Z"
   },
   {
    "duration": 5,
    "start_time": "2021-11-07T06:09:56.034Z"
   },
   {
    "duration": 167,
    "start_time": "2021-11-07T06:09:58.098Z"
   },
   {
    "duration": 38,
    "start_time": "2021-11-07T06:10:01.314Z"
   },
   {
    "duration": 17,
    "start_time": "2021-11-07T06:10:04.617Z"
   },
   {
    "duration": 24,
    "start_time": "2021-11-07T06:15:49.312Z"
   },
   {
    "duration": 75,
    "start_time": "2021-11-07T06:15:51.343Z"
   },
   {
    "duration": 74,
    "start_time": "2021-11-07T06:15:53.790Z"
   },
   {
    "duration": 34,
    "start_time": "2021-11-07T06:15:55.691Z"
   },
   {
    "duration": 13,
    "start_time": "2021-11-07T06:15:58.307Z"
   },
   {
    "duration": 117,
    "start_time": "2021-11-07T06:16:00.983Z"
   },
   {
    "duration": 26,
    "start_time": "2021-11-07T06:16:07.520Z"
   },
   {
    "duration": 29,
    "start_time": "2021-11-07T06:16:11.804Z"
   },
   {
    "duration": 284,
    "start_time": "2021-11-07T06:16:20.227Z"
   },
   {
    "duration": 72,
    "start_time": "2021-11-07T06:16:34.603Z"
   },
   {
    "duration": 33,
    "start_time": "2021-11-07T06:16:36.675Z"
   },
   {
    "duration": 82,
    "start_time": "2021-11-07T06:16:40.130Z"
   },
   {
    "duration": 94,
    "start_time": "2021-11-07T06:16:44.279Z"
   },
   {
    "duration": 16,
    "start_time": "2021-11-07T06:16:47.118Z"
   },
   {
    "duration": 39,
    "start_time": "2021-11-07T06:16:52.160Z"
   },
   {
    "duration": 82,
    "start_time": "2021-11-07T06:16:56.400Z"
   },
   {
    "duration": 235,
    "start_time": "2021-11-07T06:17:00.323Z"
   },
   {
    "duration": 1087,
    "start_time": "2021-11-07T06:17:03.503Z"
   },
   {
    "duration": 913,
    "start_time": "2021-11-07T06:17:09.776Z"
   },
   {
    "duration": 327,
    "start_time": "2021-11-07T06:17:13.240Z"
   },
   {
    "duration": 532,
    "start_time": "2021-11-07T06:17:17.410Z"
   },
   {
    "duration": 29,
    "start_time": "2021-11-07T06:17:22.885Z"
   },
   {
    "duration": 39,
    "start_time": "2021-11-07T06:17:25.727Z"
   },
   {
    "duration": 520,
    "start_time": "2021-11-07T06:17:31.130Z"
   },
   {
    "duration": 103,
    "start_time": "2021-11-07T06:17:36.452Z"
   },
   {
    "duration": 23,
    "start_time": "2021-11-07T06:18:00.176Z"
   },
   {
    "duration": 30,
    "start_time": "2021-11-07T06:19:01.510Z"
   },
   {
    "duration": 83,
    "start_time": "2021-11-07T06:20:15.103Z"
   },
   {
    "duration": 14,
    "start_time": "2021-11-07T06:20:18.084Z"
   },
   {
    "duration": 32,
    "start_time": "2021-11-07T06:20:21.601Z"
   },
   {
    "duration": 66,
    "start_time": "2021-11-07T06:20:25.144Z"
   },
   {
    "duration": 223,
    "start_time": "2021-11-07T06:20:28.271Z"
   },
   {
    "duration": 1010,
    "start_time": "2021-11-07T06:20:30.790Z"
   },
   {
    "duration": 319,
    "start_time": "2021-11-07T06:20:33.882Z"
   },
   {
    "duration": 27,
    "start_time": "2021-11-07T06:20:38.305Z"
   },
   {
    "duration": 39,
    "start_time": "2021-11-07T06:20:41.377Z"
   },
   {
    "duration": 401,
    "start_time": "2021-11-07T06:20:44.979Z"
   },
   {
    "duration": 19,
    "start_time": "2021-11-07T06:20:55.015Z"
   },
   {
    "duration": 126,
    "start_time": "2021-11-07T06:21:05.363Z"
   },
   {
    "duration": 265,
    "start_time": "2021-11-07T06:21:14.686Z"
   },
   {
    "duration": 282,
    "start_time": "2021-11-07T06:22:13.882Z"
   },
   {
    "duration": 4,
    "start_time": "2021-11-07T06:23:52.642Z"
   },
   {
    "duration": 169,
    "start_time": "2021-11-07T06:23:56.085Z"
   },
   {
    "duration": 37,
    "start_time": "2021-11-07T06:24:08.614Z"
   },
   {
    "duration": 16,
    "start_time": "2021-11-07T06:24:12.035Z"
   },
   {
    "duration": 77,
    "start_time": "2021-11-07T06:24:22.159Z"
   },
   {
    "duration": 68,
    "start_time": "2021-11-07T06:24:24.608Z"
   },
   {
    "duration": 77,
    "start_time": "2021-11-07T06:24:27.193Z"
   },
   {
    "duration": 30,
    "start_time": "2021-11-07T06:24:29.362Z"
   },
   {
    "duration": 13,
    "start_time": "2021-11-07T06:24:35.079Z"
   },
   {
    "duration": 100,
    "start_time": "2021-11-07T06:24:37.729Z"
   },
   {
    "duration": 29,
    "start_time": "2021-11-07T06:24:45.003Z"
   },
   {
    "duration": 31,
    "start_time": "2021-11-07T06:24:48.601Z"
   },
   {
    "duration": 1054,
    "start_time": "2021-11-07T06:25:05.118Z"
   },
   {
    "duration": 27,
    "start_time": "2021-11-07T06:25:21.519Z"
   },
   {
    "duration": 37,
    "start_time": "2021-11-07T06:25:24.615Z"
   },
   {
    "duration": 992,
    "start_time": "2021-11-07T06:25:27.933Z"
   },
   {
    "duration": 423,
    "start_time": "2021-11-07T06:25:33.671Z"
   },
   {
    "duration": 23,
    "start_time": "2021-11-07T06:25:39.657Z"
   },
   {
    "duration": 3879,
    "start_time": "2021-11-07T06:25:54.643Z"
   },
   {
    "duration": 5,
    "start_time": "2021-11-07T06:27:00.285Z"
   },
   {
    "duration": 184,
    "start_time": "2021-11-07T06:27:03.146Z"
   },
   {
    "duration": 38,
    "start_time": "2021-11-07T06:27:06.037Z"
   },
   {
    "duration": 14,
    "start_time": "2021-11-07T06:27:13.046Z"
   },
   {
    "duration": 78,
    "start_time": "2021-11-07T06:27:15.754Z"
   },
   {
    "duration": 1293,
    "start_time": "2021-11-07T06:27:30.880Z"
   },
   {
    "duration": 73,
    "start_time": "2021-11-07T06:27:45.657Z"
   },
   {
    "duration": 81,
    "start_time": "2021-11-07T06:27:48.121Z"
   },
   {
    "duration": 99,
    "start_time": "2021-11-07T06:27:59.856Z"
   },
   {
    "duration": 29,
    "start_time": "2021-11-07T06:28:03.984Z"
   },
   {
    "duration": 29,
    "start_time": "2021-11-07T06:28:07.858Z"
   },
   {
    "duration": 34,
    "start_time": "2021-11-07T06:28:36.971Z"
   },
   {
    "duration": 21,
    "start_time": "2021-11-07T06:28:51.213Z"
   },
   {
    "duration": 38,
    "start_time": "2021-11-07T06:29:17.834Z"
   },
   {
    "duration": 24,
    "start_time": "2021-11-07T06:29:20.808Z"
   },
   {
    "duration": 3757,
    "start_time": "2021-11-07T06:29:28.498Z"
   },
   {
    "duration": 1223,
    "start_time": "2021-11-07T06:30:20.074Z"
   },
   {
    "duration": 22,
    "start_time": "2021-11-07T06:30:23.114Z"
   },
   {
    "duration": 22,
    "start_time": "2021-11-07T06:30:35.567Z"
   },
   {
    "duration": 1357,
    "start_time": "2021-11-07T06:30:38.987Z"
   },
   {
    "duration": 20,
    "start_time": "2021-11-07T06:31:57.005Z"
   },
   {
    "duration": 15,
    "start_time": "2021-11-07T06:32:02.411Z"
   },
   {
    "duration": 621,
    "start_time": "2021-11-07T06:32:07.056Z"
   },
   {
    "duration": 24,
    "start_time": "2021-11-07T06:32:26.414Z"
   },
   {
    "duration": 35,
    "start_time": "2021-11-07T06:33:04.932Z"
   },
   {
    "duration": 332,
    "start_time": "2021-11-07T06:33:32.166Z"
   },
   {
    "duration": 1307,
    "start_time": "2021-11-07T06:34:00.803Z"
   },
   {
    "duration": 31,
    "start_time": "2021-11-07T06:34:38.679Z"
   },
   {
    "duration": 9,
    "start_time": "2021-11-07T06:34:45.913Z"
   },
   {
    "duration": 382,
    "start_time": "2021-11-07T06:34:56.819Z"
   },
   {
    "duration": 518,
    "start_time": "2021-11-07T06:35:21.039Z"
   },
   {
    "duration": 12,
    "start_time": "2021-11-07T06:39:06.217Z"
   },
   {
    "duration": 12,
    "start_time": "2021-11-07T06:39:41.356Z"
   },
   {
    "duration": 5,
    "start_time": "2021-11-07T06:46:31.401Z"
   },
   {
    "duration": 168,
    "start_time": "2021-11-07T06:46:33.411Z"
   },
   {
    "duration": 36,
    "start_time": "2021-11-07T06:46:37.248Z"
   },
   {
    "duration": 17,
    "start_time": "2021-11-07T06:46:42.947Z"
   },
   {
    "duration": 74,
    "start_time": "2021-11-07T06:46:45.860Z"
   },
   {
    "duration": 68,
    "start_time": "2021-11-07T06:46:51.348Z"
   },
   {
    "duration": 78,
    "start_time": "2021-11-07T06:46:53.563Z"
   },
   {
    "duration": 29,
    "start_time": "2021-11-07T06:46:55.757Z"
   },
   {
    "duration": 14,
    "start_time": "2021-11-07T06:46:59.914Z"
   },
   {
    "duration": 99,
    "start_time": "2021-11-07T06:47:04.412Z"
   },
   {
    "duration": 27,
    "start_time": "2021-11-07T06:47:10.141Z"
   },
   {
    "duration": 82,
    "start_time": "2021-11-07T06:47:17.192Z"
   },
   {
    "duration": 458,
    "start_time": "2021-11-07T06:47:52.802Z"
   },
   {
    "duration": 6224,
    "start_time": "2021-11-07T07:04:39.288Z"
   },
   {
    "duration": 301,
    "start_time": "2021-11-07T07:05:09.970Z"
   },
   {
    "duration": 300,
    "start_time": "2021-11-07T07:05:20.720Z"
   },
   {
    "duration": 269,
    "start_time": "2021-11-07T07:12:39.468Z"
   },
   {
    "duration": 272,
    "start_time": "2021-11-07T07:12:59.210Z"
   },
   {
    "duration": 142,
    "start_time": "2021-11-07T07:15:16.101Z"
   },
   {
    "duration": 325,
    "start_time": "2021-11-07T07:16:36.928Z"
   },
   {
    "duration": 1466,
    "start_time": "2021-11-07T07:22:34.065Z"
   },
   {
    "duration": 2759,
    "start_time": "2021-11-07T16:19:55.210Z"
   },
   {
    "duration": 981,
    "start_time": "2021-11-07T16:19:57.972Z"
   },
   {
    "duration": 45,
    "start_time": "2021-11-07T16:19:58.960Z"
   },
   {
    "duration": 27,
    "start_time": "2021-11-07T16:25:43.858Z"
   },
   {
    "duration": 77,
    "start_time": "2021-11-07T16:25:51.477Z"
   },
   {
    "duration": 3,
    "start_time": "2021-11-07T16:26:10.725Z"
   },
   {
    "duration": 74,
    "start_time": "2021-11-07T16:26:14.800Z"
   },
   {
    "duration": 91,
    "start_time": "2021-11-07T16:26:17.393Z"
   },
   {
    "duration": 36,
    "start_time": "2021-11-07T16:26:23.130Z"
   },
   {
    "duration": 20,
    "start_time": "2021-11-07T16:38:18.936Z"
   },
   {
    "duration": 100,
    "start_time": "2021-11-07T16:38:21.602Z"
   },
   {
    "duration": 28,
    "start_time": "2021-11-07T16:38:37.330Z"
   },
   {
    "duration": 31,
    "start_time": "2021-11-07T16:38:48.305Z"
   },
   {
    "duration": 152,
    "start_time": "2021-11-07T16:39:35.457Z"
   },
   {
    "duration": 102,
    "start_time": "2021-11-07T16:54:46.028Z"
   },
   {
    "duration": 175,
    "start_time": "2021-11-07T16:55:58.143Z"
   },
   {
    "duration": 610,
    "start_time": "2021-11-07T16:56:36.219Z"
   },
   {
    "duration": 27,
    "start_time": "2021-11-07T16:56:49.578Z"
   },
   {
    "duration": 389,
    "start_time": "2021-11-07T16:57:33.711Z"
   },
   {
    "duration": 488,
    "start_time": "2021-11-07T16:57:56.831Z"
   },
   {
    "duration": 130,
    "start_time": "2021-11-07T16:59:06.508Z"
   },
   {
    "duration": 78,
    "start_time": "2021-11-07T16:59:19.328Z"
   },
   {
    "duration": 327,
    "start_time": "2021-11-07T16:59:29.300Z"
   },
   {
    "duration": -1289,
    "start_time": "2021-11-07T17:00:33.876Z"
   },
   {
    "duration": 9411,
    "start_time": "2021-11-07T17:00:50.469Z"
   },
   {
    "duration": 388,
    "start_time": "2021-11-07T17:01:19.388Z"
   },
   {
    "duration": 476,
    "start_time": "2021-11-07T17:03:15.437Z"
   },
   {
    "duration": 28,
    "start_time": "2021-11-07T17:03:23.360Z"
   },
   {
    "duration": 389,
    "start_time": "2021-11-07T17:04:19.052Z"
   },
   {
    "duration": 94,
    "start_time": "2021-11-07T17:14:46.298Z"
   },
   {
    "duration": 81,
    "start_time": "2021-11-07T17:14:51.787Z"
   },
   {
    "duration": 39,
    "start_time": "2021-11-07T17:14:55.492Z"
   },
   {
    "duration": 14,
    "start_time": "2021-11-07T17:14:58.996Z"
   },
   {
    "duration": 12,
    "start_time": "2021-11-07T17:18:05.036Z"
   },
   {
    "duration": 11,
    "start_time": "2021-11-07T17:18:56.671Z"
   },
   {
    "duration": 149,
    "start_time": "2021-11-07T17:21:04.508Z"
   },
   {
    "duration": 74,
    "start_time": "2021-11-07T17:25:04.742Z"
   },
   {
    "duration": 245,
    "start_time": "2021-11-07T17:25:52.723Z"
   },
   {
    "duration": 228,
    "start_time": "2021-11-07T17:31:18.366Z"
   },
   {
    "duration": 8,
    "start_time": "2021-11-07T17:31:28.347Z"
   },
   {
    "duration": 265,
    "start_time": "2021-11-07T17:33:34.912Z"
   },
   {
    "duration": 259,
    "start_time": "2021-11-07T17:34:08.192Z"
   },
   {
    "duration": 317,
    "start_time": "2021-11-07T17:34:58.561Z"
   },
   {
    "duration": 265,
    "start_time": "2021-11-07T17:37:49.015Z"
   },
   {
    "duration": 463,
    "start_time": "2021-11-07T17:38:33.314Z"
   },
   {
    "duration": 429,
    "start_time": "2021-11-07T17:40:23.983Z"
   },
   {
    "duration": 251,
    "start_time": "2021-11-07T17:40:59.243Z"
   },
   {
    "duration": 6,
    "start_time": "2021-11-07T17:47:56.070Z"
   },
   {
    "duration": 168,
    "start_time": "2021-11-07T17:47:58.332Z"
   },
   {
    "duration": 42,
    "start_time": "2021-11-07T17:48:00.314Z"
   },
   {
    "duration": 17,
    "start_time": "2021-11-07T17:48:03.969Z"
   },
   {
    "duration": 81,
    "start_time": "2021-11-07T17:48:04.844Z"
   },
   {
    "duration": 72,
    "start_time": "2021-11-07T17:48:08.121Z"
   },
   {
    "duration": 103,
    "start_time": "2021-11-07T17:48:09.829Z"
   },
   {
    "duration": 47,
    "start_time": "2021-11-07T17:48:11.301Z"
   },
   {
    "duration": 13,
    "start_time": "2021-11-07T17:48:14.676Z"
   },
   {
    "duration": 102,
    "start_time": "2021-11-07T17:48:17.809Z"
   },
   {
    "duration": 28,
    "start_time": "2021-11-07T17:48:20.647Z"
   },
   {
    "duration": 25,
    "start_time": "2021-11-07T17:48:23.457Z"
   },
   {
    "duration": 396,
    "start_time": "2021-11-07T17:48:27.691Z"
   },
   {
    "duration": 36,
    "start_time": "2021-11-07T17:48:32.920Z"
   },
   {
    "duration": 411,
    "start_time": "2021-11-07T17:48:35.295Z"
   },
   {
    "duration": 12,
    "start_time": "2021-11-07T17:49:39.591Z"
   },
   {
    "duration": 32,
    "start_time": "2021-11-07T17:49:44.758Z"
   },
   {
    "duration": 5,
    "start_time": "2021-11-07T17:53:28.497Z"
   },
   {
    "duration": 204,
    "start_time": "2021-11-07T17:53:30.804Z"
   },
   {
    "duration": 39,
    "start_time": "2021-11-07T17:53:33.043Z"
   },
   {
    "duration": 25,
    "start_time": "2021-11-07T17:53:36.529Z"
   },
   {
    "duration": 116,
    "start_time": "2021-11-07T17:53:37.275Z"
   },
   {
    "duration": 67,
    "start_time": "2021-11-07T17:53:41.469Z"
   },
   {
    "duration": 80,
    "start_time": "2021-11-07T17:53:42.533Z"
   },
   {
    "duration": 14,
    "start_time": "2021-11-07T17:53:45.446Z"
   },
   {
    "duration": 97,
    "start_time": "2021-11-07T17:53:47.813Z"
   },
   {
    "duration": 30,
    "start_time": "2021-11-07T17:53:55.395Z"
   },
   {
    "duration": 28,
    "start_time": "2021-11-07T17:53:58.477Z"
   },
   {
    "duration": 37,
    "start_time": "2021-11-07T17:54:02.325Z"
   },
   {
    "duration": 443,
    "start_time": "2021-11-07T17:54:04.424Z"
   },
   {
    "duration": 6,
    "start_time": "2021-11-07T17:54:10.391Z"
   },
   {
    "duration": 239,
    "start_time": "2021-11-07T17:54:12.992Z"
   },
   {
    "duration": 39,
    "start_time": "2021-11-07T17:55:36.996Z"
   },
   {
    "duration": 260,
    "start_time": "2021-11-07T17:56:28.664Z"
   },
   {
    "duration": 364,
    "start_time": "2021-11-07T17:58:20.938Z"
   },
   {
    "duration": 263,
    "start_time": "2021-11-07T17:59:17.081Z"
   },
   {
    "duration": 104,
    "start_time": "2021-11-07T18:02:21.059Z"
   },
   {
    "duration": 60,
    "start_time": "2021-11-07T18:03:06.225Z"
   },
   {
    "duration": 1481,
    "start_time": "2021-11-07T18:04:56.192Z"
   },
   {
    "duration": 19249,
    "start_time": "2021-11-07T18:05:54.639Z"
   },
   {
    "duration": 489,
    "start_time": "2021-11-07T18:07:56.990Z"
   },
   {
    "duration": 1301,
    "start_time": "2021-11-07T18:09:50.286Z"
   },
   {
    "duration": 34,
    "start_time": "2021-11-07T18:10:14.947Z"
   },
   {
    "duration": 38,
    "start_time": "2021-11-07T18:13:47.154Z"
   },
   {
    "duration": 70,
    "start_time": "2021-11-07T18:14:10.937Z"
   },
   {
    "duration": 37,
    "start_time": "2021-11-07T18:15:18.643Z"
   },
   {
    "duration": 1018,
    "start_time": "2021-11-07T18:22:02.501Z"
   },
   {
    "duration": 844,
    "start_time": "2021-11-07T18:22:11.976Z"
   },
   {
    "duration": 1028,
    "start_time": "2021-11-07T18:22:19.136Z"
   },
   {
    "duration": 1129,
    "start_time": "2021-11-07T18:22:32.829Z"
   },
   {
    "duration": 1083,
    "start_time": "2021-11-07T18:22:40.281Z"
   },
   {
    "duration": 1551,
    "start_time": "2021-11-07T18:22:49.433Z"
   },
   {
    "duration": 1269,
    "start_time": "2021-11-07T18:23:09.101Z"
   },
   {
    "duration": 280,
    "start_time": "2021-11-07T18:31:47.367Z"
   },
   {
    "duration": 1252,
    "start_time": "2021-11-07T18:31:56.492Z"
   },
   {
    "duration": 1343,
    "start_time": "2021-11-07T18:32:17.760Z"
   },
   {
    "duration": 918,
    "start_time": "2021-11-07T18:33:09.701Z"
   },
   {
    "duration": 1744,
    "start_time": "2021-11-07T18:42:00.152Z"
   },
   {
    "duration": 1178,
    "start_time": "2021-11-07T18:44:42.124Z"
   },
   {
    "duration": 948,
    "start_time": "2021-11-07T18:45:04.181Z"
   },
   {
    "duration": 1482,
    "start_time": "2021-11-07T18:45:37.616Z"
   },
   {
    "duration": 116,
    "start_time": "2021-11-07T18:52:25.699Z"
   },
   {
    "duration": 285,
    "start_time": "2021-11-07T18:52:34.490Z"
   },
   {
    "duration": 587,
    "start_time": "2021-11-07T18:54:20.632Z"
   },
   {
    "duration": 603,
    "start_time": "2021-11-07T18:54:45.736Z"
   },
   {
    "duration": 620,
    "start_time": "2021-11-07T19:06:06.614Z"
   },
   {
    "duration": 3,
    "start_time": "2021-11-07T19:12:42.146Z"
   },
   {
    "duration": 802,
    "start_time": "2021-11-07T19:13:47.029Z"
   },
   {
    "duration": 594,
    "start_time": "2021-11-07T19:14:17.619Z"
   },
   {
    "duration": 580,
    "start_time": "2021-11-07T19:14:54.812Z"
   },
   {
    "duration": 618,
    "start_time": "2021-11-07T19:15:15.241Z"
   },
   {
    "duration": 611,
    "start_time": "2021-11-07T19:15:38.677Z"
   },
   {
    "duration": 625,
    "start_time": "2021-11-07T19:16:33.452Z"
   },
   {
    "duration": 407,
    "start_time": "2021-11-07T19:16:55.282Z"
   },
   {
    "duration": 9354,
    "start_time": "2021-11-07T19:17:58.797Z"
   },
   {
    "duration": 43,
    "start_time": "2021-11-07T19:19:30.736Z"
   },
   {
    "duration": 42,
    "start_time": "2021-11-07T19:20:34.716Z"
   },
   {
    "duration": 25,
    "start_time": "2021-11-07T19:21:10.497Z"
   },
   {
    "duration": 25,
    "start_time": "2021-11-07T19:21:55.411Z"
   },
   {
    "duration": 24,
    "start_time": "2021-11-07T19:23:07.436Z"
   },
   {
    "duration": 33,
    "start_time": "2021-11-07T19:23:13.926Z"
   },
   {
    "duration": 31,
    "start_time": "2021-11-07T19:23:24.743Z"
   },
   {
    "duration": 24,
    "start_time": "2021-11-07T19:24:22.125Z"
   },
   {
    "duration": 31,
    "start_time": "2021-11-07T19:24:24.939Z"
   },
   {
    "duration": 315,
    "start_time": "2021-11-07T19:25:29.552Z"
   },
   {
    "duration": 23,
    "start_time": "2021-11-07T19:27:59.336Z"
   },
   {
    "duration": 28,
    "start_time": "2021-11-07T19:30:38.536Z"
   },
   {
    "duration": 27,
    "start_time": "2021-11-07T19:30:52.435Z"
   },
   {
    "duration": 31,
    "start_time": "2021-11-07T19:31:22.167Z"
   },
   {
    "duration": 21,
    "start_time": "2021-11-07T19:31:31.503Z"
   },
   {
    "duration": 22,
    "start_time": "2021-11-07T19:41:16.488Z"
   },
   {
    "duration": 24,
    "start_time": "2021-11-07T19:41:52.080Z"
   },
   {
    "duration": 25,
    "start_time": "2021-11-07T19:42:01.745Z"
   },
   {
    "duration": 522,
    "start_time": "2021-11-07T19:45:00.500Z"
   },
   {
    "duration": 119,
    "start_time": "2021-11-07T19:50:13.305Z"
   },
   {
    "duration": 24,
    "start_time": "2021-11-07T19:50:18.654Z"
   },
   {
    "duration": 52,
    "start_time": "2021-11-07T19:51:17.193Z"
   },
   {
    "duration": 26,
    "start_time": "2021-11-07T19:53:04.882Z"
   },
   {
    "duration": 25,
    "start_time": "2021-11-07T19:53:15.275Z"
   },
   {
    "duration": 30,
    "start_time": "2021-11-07T19:53:29.740Z"
   },
   {
    "duration": 33,
    "start_time": "2021-11-07T19:53:51.175Z"
   },
   {
    "duration": 116,
    "start_time": "2021-11-07T19:54:30.804Z"
   },
   {
    "duration": 28,
    "start_time": "2021-11-07T19:54:36.418Z"
   },
   {
    "duration": 28,
    "start_time": "2021-11-07T19:55:59.421Z"
   },
   {
    "duration": 900,
    "start_time": "2021-11-07T20:01:05.598Z"
   },
   {
    "duration": 1100,
    "start_time": "2021-11-07T20:05:01.731Z"
   },
   {
    "duration": 984,
    "start_time": "2021-11-07T20:05:10.915Z"
   },
   {
    "duration": 480,
    "start_time": "2021-11-07T20:08:23.871Z"
   },
   {
    "duration": 410,
    "start_time": "2021-11-07T20:08:50.249Z"
   },
   {
    "duration": 129,
    "start_time": "2021-11-07T20:11:38.512Z"
   },
   {
    "duration": 389,
    "start_time": "2021-11-07T20:12:09.166Z"
   },
   {
    "duration": 398,
    "start_time": "2021-11-07T20:12:18.911Z"
   },
   {
    "duration": 18,
    "start_time": "2021-11-07T20:24:37.343Z"
   },
   {
    "duration": 3698,
    "start_time": "2021-11-07T20:33:10.652Z"
   },
   {
    "duration": 22,
    "start_time": "2021-11-07T20:35:05.118Z"
   },
   {
    "duration": 29,
    "start_time": "2021-11-07T20:35:09.513Z"
   },
   {
    "duration": 3723,
    "start_time": "2021-11-07T20:35:16.607Z"
   },
   {
    "duration": 3773,
    "start_time": "2021-11-07T20:36:19.705Z"
   },
   {
    "duration": 3624,
    "start_time": "2021-11-07T20:36:33.556Z"
   },
   {
    "duration": 23,
    "start_time": "2021-11-07T20:36:56.981Z"
   },
   {
    "duration": 24,
    "start_time": "2021-11-07T20:39:17.353Z"
   },
   {
    "duration": 1421,
    "start_time": "2021-11-07T20:40:30.890Z"
   },
   {
    "duration": 1893,
    "start_time": "2021-11-07T20:42:16.097Z"
   },
   {
    "duration": 38,
    "start_time": "2021-11-07T20:42:26.710Z"
   },
   {
    "duration": 40,
    "start_time": "2021-11-07T20:43:05.044Z"
   },
   {
    "duration": 11,
    "start_time": "2021-11-07T20:43:12.922Z"
   },
   {
    "duration": 5,
    "start_time": "2021-11-07T21:32:04.662Z"
   },
   {
    "duration": 66,
    "start_time": "2021-11-07T21:32:19.255Z"
   },
   {
    "duration": 58,
    "start_time": "2021-11-07T21:32:26.119Z"
   },
   {
    "duration": 14,
    "start_time": "2021-11-07T21:32:29.278Z"
   },
   {
    "duration": 47,
    "start_time": "2021-11-07T21:32:31.479Z"
   },
   {
    "duration": 73,
    "start_time": "2021-11-07T21:32:37.985Z"
   },
   {
    "duration": 77,
    "start_time": "2021-11-07T21:32:39.959Z"
   },
   {
    "duration": 27,
    "start_time": "2021-11-07T21:32:44.938Z"
   },
   {
    "duration": 13,
    "start_time": "2021-11-07T21:32:47.080Z"
   },
   {
    "duration": 83,
    "start_time": "2021-11-07T21:34:17.974Z"
   },
   {
    "duration": 12,
    "start_time": "2021-11-07T21:34:24.116Z"
   },
   {
    "duration": 31,
    "start_time": "2021-11-07T21:34:58.795Z"
   },
   {
    "duration": 5,
    "start_time": "2021-11-07T21:35:01.566Z"
   },
   {
    "duration": 21,
    "start_time": "2021-11-07T21:35:07.396Z"
   },
   {
    "duration": 236,
    "start_time": "2021-11-07T21:35:49.677Z"
   },
   {
    "duration": 32,
    "start_time": "2021-11-07T21:37:06.214Z"
   },
   {
    "duration": 1225,
    "start_time": "2021-11-07T21:37:18.203Z"
   },
   {
    "duration": 968,
    "start_time": "2021-11-07T21:38:02.297Z"
   },
   {
    "duration": 602,
    "start_time": "2021-11-07T21:40:13.762Z"
   },
   {
    "duration": 38,
    "start_time": "2021-11-07T21:41:26.192Z"
   },
   {
    "duration": 24,
    "start_time": "2021-11-07T21:41:29.976Z"
   },
   {
    "duration": 799,
    "start_time": "2021-11-07T21:44:33.160Z"
   },
   {
    "duration": 393,
    "start_time": "2021-11-07T21:44:41.533Z"
   },
   {
    "duration": 12,
    "start_time": "2021-11-07T21:46:48.828Z"
   },
   {
    "duration": 19,
    "start_time": "2021-11-07T21:50:32.905Z"
   },
   {
    "duration": 10,
    "start_time": "2021-11-07T21:50:54.237Z"
   },
   {
    "duration": 626,
    "start_time": "2021-11-07T23:48:13.890Z"
   },
   {
    "duration": 577,
    "start_time": "2021-11-07T23:48:23.670Z"
   },
   {
    "duration": 274,
    "start_time": "2021-11-08T00:18:37.803Z"
   },
   {
    "duration": 281,
    "start_time": "2021-11-08T00:19:08.945Z"
   },
   {
    "duration": 579,
    "start_time": "2021-11-08T04:21:43.556Z"
   },
   {
    "duration": 5,
    "start_time": "2021-11-08T05:08:51.548Z"
   },
   {
    "duration": 170,
    "start_time": "2021-11-08T05:08:53.402Z"
   },
   {
    "duration": 167,
    "start_time": "2021-11-08T05:08:56.692Z"
   },
   {
    "duration": 40,
    "start_time": "2021-11-08T05:08:59.201Z"
   },
   {
    "duration": 15,
    "start_time": "2021-11-08T05:09:04.002Z"
   },
   {
    "duration": 99,
    "start_time": "2021-11-08T05:09:05.984Z"
   },
   {
    "duration": 47,
    "start_time": "2021-11-08T05:09:08.356Z"
   },
   {
    "duration": 72,
    "start_time": "2021-11-08T05:09:10.846Z"
   },
   {
    "duration": 69,
    "start_time": "2021-11-08T05:09:33.728Z"
   },
   {
    "duration": 31,
    "start_time": "2021-11-08T05:09:36.097Z"
   },
   {
    "duration": 14,
    "start_time": "2021-11-08T05:09:39.258Z"
   },
   {
    "duration": 93,
    "start_time": "2021-11-08T05:09:42.804Z"
   },
   {
    "duration": 28,
    "start_time": "2021-11-08T05:09:45.836Z"
   },
   {
    "duration": 25,
    "start_time": "2021-11-08T05:10:28.304Z"
   },
   {
    "duration": 23,
    "start_time": "2021-11-08T05:10:30.129Z"
   },
   {
    "duration": 244,
    "start_time": "2021-11-08T05:10:36.404Z"
   },
   {
    "duration": 35,
    "start_time": "2021-11-08T05:10:47.531Z"
   },
   {
    "duration": 1246,
    "start_time": "2021-11-08T05:10:50.708Z"
   },
   {
    "duration": 906,
    "start_time": "2021-11-08T05:11:02.396Z"
   },
   {
    "duration": 619,
    "start_time": "2021-11-08T05:11:12.898Z"
   },
   {
    "duration": 3,
    "start_time": "2021-11-08T05:11:18.988Z"
   },
   {
    "duration": 23,
    "start_time": "2021-11-08T05:11:25.906Z"
   },
   {
    "duration": 28,
    "start_time": "2021-11-08T05:11:29.971Z"
   },
   {
    "duration": 795,
    "start_time": "2021-11-08T05:11:34.588Z"
   },
   {
    "duration": 1399,
    "start_time": "2021-11-08T05:11:38.308Z"
   },
   {
    "duration": 17,
    "start_time": "2021-11-08T05:11:44.504Z"
   },
   {
    "duration": 24,
    "start_time": "2021-11-08T05:12:38.850Z"
   },
   {
    "duration": 3675,
    "start_time": "2021-11-08T05:12:48.332Z"
   },
   {
    "duration": 30,
    "start_time": "2021-11-08T05:13:10.826Z"
   },
   {
    "duration": 22,
    "start_time": "2021-11-08T05:13:13.246Z"
   },
   {
    "duration": 5,
    "start_time": "2021-11-08T05:16:10.752Z"
   },
   {
    "duration": 169,
    "start_time": "2021-11-08T05:16:12.420Z"
   },
   {
    "duration": 42,
    "start_time": "2021-11-08T05:16:15.959Z"
   },
   {
    "duration": 41,
    "start_time": "2021-11-08T05:16:17.901Z"
   },
   {
    "duration": 15,
    "start_time": "2021-11-08T05:16:23.738Z"
   },
   {
    "duration": 76,
    "start_time": "2021-11-08T05:16:24.562Z"
   },
   {
    "duration": 60,
    "start_time": "2021-11-08T05:16:32.170Z"
   },
   {
    "duration": 70,
    "start_time": "2021-11-08T05:16:33.266Z"
   },
   {
    "duration": 33,
    "start_time": "2021-11-08T05:16:35.060Z"
   },
   {
    "duration": 15,
    "start_time": "2021-11-08T05:16:38.139Z"
   },
   {
    "duration": 95,
    "start_time": "2021-11-08T05:16:41.191Z"
   },
   {
    "duration": 40,
    "start_time": "2021-11-08T05:16:43.925Z"
   },
   {
    "duration": 28,
    "start_time": "2021-11-08T05:16:47.123Z"
   },
   {
    "duration": 29,
    "start_time": "2021-11-08T05:16:52.820Z"
   },
   {
    "duration": 22,
    "start_time": "2021-11-08T05:16:54.877Z"
   },
   {
    "duration": 242,
    "start_time": "2021-11-08T05:16:58.821Z"
   },
   {
    "duration": 37,
    "start_time": "2021-11-08T05:17:03.151Z"
   },
   {
    "duration": 1239,
    "start_time": "2021-11-08T05:17:05.995Z"
   },
   {
    "duration": 1119,
    "start_time": "2021-11-08T05:17:10.272Z"
   },
   {
    "duration": 588,
    "start_time": "2021-11-08T05:17:13.313Z"
   },
   {
    "duration": 32,
    "start_time": "2021-11-08T05:17:18.279Z"
   },
   {
    "duration": 23,
    "start_time": "2021-11-08T05:17:21.023Z"
   },
   {
    "duration": 23,
    "start_time": "2021-11-08T05:17:39.331Z"
   },
   {
    "duration": 5,
    "start_time": "2021-11-08T05:20:43.747Z"
   },
   {
    "duration": 171,
    "start_time": "2021-11-08T05:20:45.522Z"
   },
   {
    "duration": 40,
    "start_time": "2021-11-08T05:20:48.816Z"
   },
   {
    "duration": 14,
    "start_time": "2021-11-08T05:20:52.416Z"
   },
   {
    "duration": 71,
    "start_time": "2021-11-08T05:20:54.148Z"
   },
   {
    "duration": 48,
    "start_time": "2021-11-08T05:20:56.506Z"
   },
   {
    "duration": 62,
    "start_time": "2021-11-08T05:21:08.159Z"
   },
   {
    "duration": 70,
    "start_time": "2021-11-08T05:21:10.006Z"
   },
   {
    "duration": 30,
    "start_time": "2021-11-08T05:21:12.929Z"
   },
   {
    "duration": 14,
    "start_time": "2021-11-08T05:21:15.538Z"
   },
   {
    "duration": 90,
    "start_time": "2021-11-08T05:21:18.480Z"
   },
   {
    "duration": 29,
    "start_time": "2021-11-08T05:21:21.817Z"
   },
   {
    "duration": 26,
    "start_time": "2021-11-08T05:21:25.123Z"
   },
   {
    "duration": 21,
    "start_time": "2021-11-08T05:21:27.033Z"
   },
   {
    "duration": 24,
    "start_time": "2021-11-08T05:21:38.273Z"
   },
   {
    "duration": 227,
    "start_time": "2021-11-08T05:21:51.424Z"
   },
   {
    "duration": 254,
    "start_time": "2021-11-08T05:21:54.546Z"
   },
   {
    "duration": 35,
    "start_time": "2021-11-08T05:21:57.553Z"
   },
   {
    "duration": 1226,
    "start_time": "2021-11-08T05:22:03.651Z"
   },
   {
    "duration": 1003,
    "start_time": "2021-11-08T05:22:11.463Z"
   },
   {
    "duration": 670,
    "start_time": "2021-11-08T05:22:55.820Z"
   },
   {
    "duration": 25,
    "start_time": "2021-11-08T05:24:56.788Z"
   },
   {
    "duration": 37,
    "start_time": "2021-11-08T05:29:43.525Z"
   },
   {
    "duration": 30,
    "start_time": "2021-11-08T05:30:17.811Z"
   },
   {
    "duration": 30,
    "start_time": "2021-11-08T05:31:08.806Z"
   },
   {
    "duration": 22,
    "start_time": "2021-11-08T05:31:46.943Z"
   },
   {
    "duration": 14,
    "start_time": "2021-11-08T05:32:10.074Z"
   },
   {
    "duration": 1547,
    "start_time": "2021-11-08T05:33:35.183Z"
   },
   {
    "duration": 29,
    "start_time": "2021-11-08T05:34:09.052Z"
   },
   {
    "duration": 6,
    "start_time": "2021-11-08T05:34:16.316Z"
   },
   {
    "duration": 29,
    "start_time": "2021-11-08T05:34:32.108Z"
   },
   {
    "duration": 21,
    "start_time": "2021-11-08T05:34:35.030Z"
   },
   {
    "duration": 15,
    "start_time": "2021-11-08T05:34:40.148Z"
   },
   {
    "duration": 23,
    "start_time": "2021-11-08T05:35:00.846Z"
   },
   {
    "duration": 22,
    "start_time": "2021-11-08T05:36:06.273Z"
   },
   {
    "duration": 15,
    "start_time": "2021-11-08T05:36:09.161Z"
   },
   {
    "duration": 5,
    "start_time": "2021-11-08T05:36:39.596Z"
   },
   {
    "duration": 175,
    "start_time": "2021-11-08T05:36:44.167Z"
   },
   {
    "duration": 39,
    "start_time": "2021-11-08T05:36:48.064Z"
   },
   {
    "duration": 14,
    "start_time": "2021-11-08T05:36:52.042Z"
   },
   {
    "duration": 73,
    "start_time": "2021-11-08T05:36:54.008Z"
   },
   {
    "duration": 64,
    "start_time": "2021-11-08T05:36:56.907Z"
   },
   {
    "duration": 68,
    "start_time": "2021-11-08T05:37:09.824Z"
   },
   {
    "duration": 30,
    "start_time": "2021-11-08T05:37:15.129Z"
   },
   {
    "duration": 14,
    "start_time": "2021-11-08T05:37:17.747Z"
   },
   {
    "duration": 88,
    "start_time": "2021-11-08T05:37:32.704Z"
   },
   {
    "duration": 27,
    "start_time": "2021-11-08T05:37:36.920Z"
   },
   {
    "duration": 26,
    "start_time": "2021-11-08T05:37:53.939Z"
   },
   {
    "duration": 14,
    "start_time": "2021-11-08T05:37:57.834Z"
   },
   {
    "duration": 23,
    "start_time": "2021-11-08T05:38:03.923Z"
   },
   {
    "duration": 239,
    "start_time": "2021-11-08T05:38:10.901Z"
   },
   {
    "duration": 36,
    "start_time": "2021-11-08T05:38:14.882Z"
   },
   {
    "duration": 1256,
    "start_time": "2021-11-08T05:38:21.147Z"
   },
   {
    "duration": 931,
    "start_time": "2021-11-08T05:38:25.387Z"
   },
   {
    "duration": 613,
    "start_time": "2021-11-08T05:38:28.611Z"
   },
   {
    "duration": 22,
    "start_time": "2021-11-08T05:38:34.427Z"
   },
   {
    "duration": 17,
    "start_time": "2021-11-08T05:38:37.872Z"
   },
   {
    "duration": 13,
    "start_time": "2021-11-08T05:39:05.656Z"
   },
   {
    "duration": 408,
    "start_time": "2021-11-08T05:42:19.204Z"
   },
   {
    "duration": 26,
    "start_time": "2021-11-08T05:43:11.850Z"
   },
   {
    "duration": 4,
    "start_time": "2021-11-08T05:44:32.496Z"
   },
   {
    "duration": 177,
    "start_time": "2021-11-08T05:44:38.420Z"
   },
   {
    "duration": 44,
    "start_time": "2021-11-08T05:44:40.473Z"
   },
   {
    "duration": 14,
    "start_time": "2021-11-08T05:44:42.528Z"
   },
   {
    "duration": 75,
    "start_time": "2021-11-08T05:44:43.620Z"
   },
   {
    "duration": 61,
    "start_time": "2021-11-08T05:44:47.116Z"
   },
   {
    "duration": 68,
    "start_time": "2021-11-08T05:44:49.396Z"
   },
   {
    "duration": 30,
    "start_time": "2021-11-08T05:44:51.604Z"
   },
   {
    "duration": 13,
    "start_time": "2021-11-08T05:44:57.484Z"
   },
   {
    "duration": 96,
    "start_time": "2021-11-08T05:45:00.491Z"
   },
   {
    "duration": 29,
    "start_time": "2021-11-08T05:45:08.732Z"
   },
   {
    "duration": 26,
    "start_time": "2021-11-08T05:45:13.314Z"
   },
   {
    "duration": 12,
    "start_time": "2021-11-08T05:45:17.465Z"
   },
   {
    "duration": 19,
    "start_time": "2021-11-08T05:45:21.244Z"
   },
   {
    "duration": 229,
    "start_time": "2021-11-08T05:45:27.836Z"
   },
   {
    "duration": 34,
    "start_time": "2021-11-08T05:45:33.365Z"
   },
   {
    "duration": 1429,
    "start_time": "2021-11-08T05:45:37.284Z"
   },
   {
    "duration": 24,
    "start_time": "2021-11-08T05:45:56.804Z"
   },
   {
    "duration": 14,
    "start_time": "2021-11-08T05:46:50.972Z"
   },
   {
    "duration": 1212,
    "start_time": "2021-11-08T05:47:07.330Z"
   },
   {
    "duration": 410,
    "start_time": "2021-11-08T05:47:14.152Z"
   },
   {
    "duration": 389,
    "start_time": "2021-11-08T05:47:44.924Z"
   },
   {
    "duration": 29,
    "start_time": "2021-11-08T05:50:18.478Z"
   },
   {
    "duration": 593,
    "start_time": "2021-11-08T05:52:36.694Z"
   },
   {
    "duration": 22,
    "start_time": "2021-11-08T05:58:38.054Z"
   },
   {
    "duration": 32,
    "start_time": "2021-11-08T05:59:17.897Z"
   },
   {
    "duration": 27,
    "start_time": "2021-11-08T05:59:51.460Z"
   },
   {
    "duration": 383,
    "start_time": "2021-11-08T06:02:04.879Z"
   },
   {
    "duration": 5,
    "start_time": "2021-11-08T06:03:07.609Z"
   },
   {
    "duration": 174,
    "start_time": "2021-11-08T06:03:09.489Z"
   },
   {
    "duration": 40,
    "start_time": "2021-11-08T06:03:13.802Z"
   },
   {
    "duration": 14,
    "start_time": "2021-11-08T06:03:17.939Z"
   },
   {
    "duration": 74,
    "start_time": "2021-11-08T06:03:20.556Z"
   },
   {
    "duration": 63,
    "start_time": "2021-11-08T06:03:23.937Z"
   },
   {
    "duration": 68,
    "start_time": "2021-11-08T06:03:28.340Z"
   },
   {
    "duration": 30,
    "start_time": "2021-11-08T06:03:30.665Z"
   },
   {
    "duration": 13,
    "start_time": "2021-11-08T06:03:35.035Z"
   },
   {
    "duration": 94,
    "start_time": "2021-11-08T06:03:37.325Z"
   },
   {
    "duration": 28,
    "start_time": "2021-11-08T06:03:41.217Z"
   },
   {
    "duration": 364,
    "start_time": "2021-11-08T06:03:48.453Z"
   },
   {
    "duration": 15,
    "start_time": "2021-11-08T06:04:27.461Z"
   },
   {
    "duration": 36,
    "start_time": "2021-11-08T06:04:52.635Z"
   },
   {
    "duration": 26,
    "start_time": "2021-11-08T06:05:28.784Z"
   },
   {
    "duration": 37,
    "start_time": "2021-11-08T06:06:06.211Z"
   },
   {
    "duration": 44,
    "start_time": "2021-11-08T06:06:23.931Z"
   },
   {
    "duration": 11,
    "start_time": "2021-11-08T06:07:07.334Z"
   },
   {
    "duration": 11,
    "start_time": "2021-11-08T06:07:25.309Z"
   },
   {
    "duration": 26,
    "start_time": "2021-11-08T06:07:39.546Z"
   },
   {
    "duration": 31,
    "start_time": "2021-11-08T06:08:51.615Z"
   },
   {
    "duration": 38,
    "start_time": "2021-11-08T06:08:56.108Z"
   },
   {
    "duration": 13,
    "start_time": "2021-11-08T06:09:21.727Z"
   },
   {
    "duration": 27,
    "start_time": "2021-11-08T06:09:34.237Z"
   },
   {
    "duration": 18,
    "start_time": "2021-11-08T06:10:03.039Z"
   },
   {
    "duration": 21,
    "start_time": "2021-11-08T06:10:50.480Z"
   },
   {
    "duration": 228,
    "start_time": "2021-11-08T06:10:55.167Z"
   },
   {
    "duration": 304,
    "start_time": "2021-11-08T06:10:58.962Z"
   },
   {
    "duration": 39,
    "start_time": "2021-11-08T06:11:02.754Z"
   },
   {
    "duration": 1354,
    "start_time": "2021-11-08T06:11:05.850Z"
   },
   {
    "duration": 401,
    "start_time": "2021-11-08T06:11:13.259Z"
   },
   {
    "duration": 1051,
    "start_time": "2021-11-08T06:11:29.789Z"
   },
   {
    "duration": 1060,
    "start_time": "2021-11-08T06:11:40.749Z"
   },
   {
    "duration": 22,
    "start_time": "2021-11-08T06:11:50.825Z"
   },
   {
    "duration": 597,
    "start_time": "2021-11-08T06:11:59.370Z"
   },
   {
    "duration": 38,
    "start_time": "2021-11-08T06:12:03.834Z"
   },
   {
    "duration": 24,
    "start_time": "2021-11-08T06:12:06.504Z"
   },
   {
    "duration": 40,
    "start_time": "2021-11-08T06:12:14.384Z"
   },
   {
    "duration": 827,
    "start_time": "2021-11-08T06:12:16.923Z"
   },
   {
    "duration": 418,
    "start_time": "2021-11-08T06:12:23.614Z"
   },
   {
    "duration": 23,
    "start_time": "2021-11-08T06:12:27.072Z"
   },
   {
    "duration": 18,
    "start_time": "2021-11-08T06:12:31.081Z"
   },
   {
    "duration": 56,
    "start_time": "2021-11-08T06:12:39.849Z"
   },
   {
    "duration": 5,
    "start_time": "2021-11-08T06:42:13.011Z"
   },
   {
    "duration": 178,
    "start_time": "2021-11-08T06:42:17.451Z"
   },
   {
    "duration": 170,
    "start_time": "2021-11-08T06:45:47.204Z"
   },
   {
    "duration": 67,
    "start_time": "2021-11-08T06:45:50.200Z"
   },
   {
    "duration": 14,
    "start_time": "2021-11-08T06:45:54.657Z"
   },
   {
    "duration": 76,
    "start_time": "2021-11-08T06:45:56.737Z"
   },
   {
    "duration": 50,
    "start_time": "2021-11-08T06:46:03.898Z"
   },
   {
    "duration": 69,
    "start_time": "2021-11-08T06:46:06.920Z"
   },
   {
    "duration": 76,
    "start_time": "2021-11-08T06:46:11.202Z"
   },
   {
    "duration": 32,
    "start_time": "2021-11-08T06:46:14.164Z"
   },
   {
    "duration": 22,
    "start_time": "2021-11-08T06:46:17.130Z"
   },
   {
    "duration": 160,
    "start_time": "2021-11-08T06:46:19.954Z"
   },
   {
    "duration": 76,
    "start_time": "2021-11-08T06:46:27.572Z"
   },
   {
    "duration": 29,
    "start_time": "2021-11-08T06:46:40.017Z"
   },
   {
    "duration": 23,
    "start_time": "2021-11-08T06:46:44.428Z"
   },
   {
    "duration": 235,
    "start_time": "2021-11-08T06:46:47.178Z"
   },
   {
    "duration": 266,
    "start_time": "2021-11-08T06:46:50.143Z"
   },
   {
    "duration": 38,
    "start_time": "2021-11-08T06:46:53.180Z"
   },
   {
    "duration": 1260,
    "start_time": "2021-11-08T06:46:56.011Z"
   },
   {
    "duration": 948,
    "start_time": "2021-11-08T06:46:59.795Z"
   },
   {
    "duration": 612,
    "start_time": "2021-11-08T06:47:03.267Z"
   },
   {
    "duration": 48,
    "start_time": "2021-11-08T06:47:07.843Z"
   },
   {
    "duration": 38,
    "start_time": "2021-11-08T06:47:11.581Z"
   },
   {
    "duration": 67,
    "start_time": "2021-11-08T06:47:13.924Z"
   },
   {
    "duration": 837,
    "start_time": "2021-11-08T06:47:16.636Z"
   },
   {
    "duration": 411,
    "start_time": "2021-11-08T06:47:28.173Z"
   },
   {
    "duration": 23,
    "start_time": "2021-11-08T06:47:34.215Z"
   },
   {
    "duration": 58,
    "start_time": "2021-11-08T06:47:37.703Z"
   },
   {
    "duration": 342,
    "start_time": "2021-11-08T20:18:58.158Z"
   },
   {
    "duration": 2136,
    "start_time": "2021-11-08T20:19:09.784Z"
   },
   {
    "duration": 244,
    "start_time": "2021-11-08T20:19:14.591Z"
   },
   {
    "duration": 93,
    "start_time": "2021-11-08T20:19:17.680Z"
   },
   {
    "duration": 26,
    "start_time": "2021-11-08T20:19:25.045Z"
   },
   {
    "duration": 125,
    "start_time": "2021-11-08T20:19:27.665Z"
   },
   {
    "duration": 111,
    "start_time": "2021-11-08T20:19:37.065Z"
   },
   {
    "duration": 61,
    "start_time": "2021-11-08T20:19:40.136Z"
   },
   {
    "duration": 19,
    "start_time": "2021-11-08T20:19:44.082Z"
   },
   {
    "duration": 113,
    "start_time": "2021-11-08T20:19:46.355Z"
   },
   {
    "duration": 419,
    "start_time": "2021-11-08T20:21:14.779Z"
   },
   {
    "duration": 201,
    "start_time": "2021-11-08T20:22:22.571Z"
   },
   {
    "duration": 313,
    "start_time": "2021-11-08T20:22:37.510Z"
   },
   {
    "duration": 7,
    "start_time": "2021-11-08T20:23:09.561Z"
   },
   {
    "duration": 270,
    "start_time": "2021-11-08T20:23:11.322Z"
   },
   {
    "duration": 59,
    "start_time": "2021-11-08T20:23:14.010Z"
   },
   {
    "duration": 21,
    "start_time": "2021-11-08T20:23:18.584Z"
   },
   {
    "duration": 309,
    "start_time": "2021-11-08T20:23:20.734Z"
   },
   {
    "duration": 157,
    "start_time": "2021-11-08T20:23:31.018Z"
   },
   {
    "duration": 73,
    "start_time": "2021-11-08T20:23:34.342Z"
   },
   {
    "duration": 74,
    "start_time": "2021-11-08T20:23:36.095Z"
   },
   {
    "duration": 36,
    "start_time": "2021-11-08T20:23:38.045Z"
   },
   {
    "duration": 132,
    "start_time": "2021-11-08T20:23:41.295Z"
   },
   {
    "duration": 48,
    "start_time": "2021-11-08T20:23:44.465Z"
   },
   {
    "duration": 29,
    "start_time": "2021-11-08T20:23:47.427Z"
   },
   {
    "duration": 22,
    "start_time": "2021-11-08T20:23:51.811Z"
   },
   {
    "duration": 252,
    "start_time": "2021-11-08T20:23:55.285Z"
   },
   {
    "duration": 42,
    "start_time": "2021-11-08T20:24:34.343Z"
   },
   {
    "duration": 301,
    "start_time": "2021-11-08T20:24:57.295Z"
   },
   {
    "duration": 2304,
    "start_time": "2021-11-08T20:25:14.438Z"
   },
   {
    "duration": 2365,
    "start_time": "2021-11-08T20:25:39.968Z"
   },
   {
    "duration": 1705,
    "start_time": "2021-11-08T20:26:46.053Z"
   },
   {
    "duration": 2024,
    "start_time": "2021-11-08T20:28:34.538Z"
   },
   {
    "duration": 1856,
    "start_time": "2021-11-08T20:28:45.680Z"
   },
   {
    "duration": 6945,
    "start_time": "2021-11-08T20:29:52.501Z"
   },
   {
    "duration": 522,
    "start_time": "2021-11-08T20:30:24.331Z"
   },
   {
    "duration": 561,
    "start_time": "2021-11-08T20:30:42.298Z"
   },
   {
    "duration": 424,
    "start_time": "2021-11-08T20:32:11.738Z"
   },
   {
    "duration": 351,
    "start_time": "2021-11-08T20:34:06.780Z"
   },
   {
    "duration": 299,
    "start_time": "2021-11-08T20:34:21.835Z"
   },
   {
    "duration": 378,
    "start_time": "2021-11-08T20:34:34.913Z"
   },
   {
    "duration": 431,
    "start_time": "2021-11-08T20:41:44.777Z"
   },
   {
    "duration": 442,
    "start_time": "2021-11-08T20:42:32.105Z"
   },
   {
    "duration": 458,
    "start_time": "2021-11-08T20:43:10.915Z"
   },
   {
    "duration": 298,
    "start_time": "2021-11-08T20:45:09.281Z"
   },
   {
    "duration": 464,
    "start_time": "2021-11-08T20:45:30.864Z"
   },
   {
    "duration": 286,
    "start_time": "2021-11-08T20:50:12.167Z"
   },
   {
    "duration": 1010,
    "start_time": "2021-11-08T20:50:19.227Z"
   },
   {
    "duration": 276,
    "start_time": "2021-11-08T20:50:23.899Z"
   },
   {
    "duration": 1906,
    "start_time": "2021-11-08T20:57:54.872Z"
   },
   {
    "duration": 245,
    "start_time": "2021-11-08T20:57:57.530Z"
   },
   {
    "duration": 74,
    "start_time": "2021-11-08T20:58:00.587Z"
   },
   {
    "duration": 26,
    "start_time": "2021-11-08T20:58:04.706Z"
   },
   {
    "duration": 150,
    "start_time": "2021-11-08T20:58:06.842Z"
   },
   {
    "duration": 76,
    "start_time": "2021-11-08T20:58:10.141Z"
   },
   {
    "duration": 85,
    "start_time": "2021-11-08T20:58:12.784Z"
   },
   {
    "duration": 17,
    "start_time": "2021-11-08T20:58:18.437Z"
   },
   {
    "duration": 145,
    "start_time": "2021-11-08T20:58:20.867Z"
   },
   {
    "duration": 58,
    "start_time": "2021-11-08T20:58:23.381Z"
   },
   {
    "duration": 31,
    "start_time": "2021-11-08T20:58:27.404Z"
   },
   {
    "duration": 24,
    "start_time": "2021-11-08T20:58:37.057Z"
   },
   {
    "duration": 251,
    "start_time": "2021-11-08T20:58:41.128Z"
   },
   {
    "duration": 1041,
    "start_time": "2021-11-08T21:04:00.808Z"
   },
   {
    "duration": 527,
    "start_time": "2021-11-08T21:04:49.102Z"
   },
   {
    "duration": 297,
    "start_time": "2021-11-08T21:08:34.557Z"
   },
   {
    "duration": 1016,
    "start_time": "2021-11-08T21:19:23.713Z"
   },
   {
    "duration": 1929,
    "start_time": "2021-11-08T21:35:37.957Z"
   },
   {
    "duration": 241,
    "start_time": "2021-11-08T21:35:40.419Z"
   },
   {
    "duration": 74,
    "start_time": "2021-11-08T21:35:44.965Z"
   },
   {
    "duration": 26,
    "start_time": "2021-11-08T21:35:48.757Z"
   },
   {
    "duration": 151,
    "start_time": "2021-11-08T21:35:51.014Z"
   },
   {
    "duration": 72,
    "start_time": "2021-11-08T21:35:55.777Z"
   },
   {
    "duration": 83,
    "start_time": "2021-11-08T21:35:58.327Z"
   },
   {
    "duration": 47,
    "start_time": "2021-11-08T21:36:00.215Z"
   },
   {
    "duration": 18,
    "start_time": "2021-11-08T21:36:02.805Z"
   },
   {
    "duration": 157,
    "start_time": "2021-11-08T21:36:07.161Z"
   },
   {
    "duration": 62,
    "start_time": "2021-11-08T21:36:10.149Z"
   },
   {
    "duration": 34,
    "start_time": "2021-11-08T21:36:14.181Z"
   },
   {
    "duration": 33,
    "start_time": "2021-11-08T21:36:17.695Z"
   },
   {
    "duration": 24,
    "start_time": "2021-11-08T21:36:32.833Z"
   },
   {
    "duration": 270,
    "start_time": "2021-11-08T21:36:35.930Z"
   },
   {
    "duration": 517,
    "start_time": "2021-11-08T21:36:48.680Z"
   },
   {
    "duration": 537,
    "start_time": "2021-11-08T21:37:17.573Z"
   },
   {
    "duration": 400,
    "start_time": "2021-11-08T21:37:31.922Z"
   },
   {
    "duration": 299,
    "start_time": "2021-11-08T21:37:41.524Z"
   },
   {
    "duration": 40,
    "start_time": "2021-11-08T21:37:57.365Z"
   },
   {
    "duration": 1457,
    "start_time": "2021-11-08T21:38:03.145Z"
   },
   {
    "duration": 1358,
    "start_time": "2021-11-08T21:38:16.587Z"
   },
   {
    "duration": 1028,
    "start_time": "2021-11-08T21:45:17.110Z"
   },
   {
    "duration": 1114,
    "start_time": "2021-11-08T21:51:55.138Z"
   },
   {
    "duration": 45,
    "start_time": "2021-11-08T21:52:28.130Z"
   },
   {
    "duration": 1301,
    "start_time": "2021-11-08T21:58:53.346Z"
   },
   {
    "duration": 1040,
    "start_time": "2021-11-08T22:00:14.110Z"
   },
   {
    "duration": 1139,
    "start_time": "2021-11-08T22:00:39.462Z"
   },
   {
    "duration": 1265,
    "start_time": "2021-11-08T22:01:16.059Z"
   },
   {
    "duration": 519,
    "start_time": "2021-11-08T22:02:17.408Z"
   },
   {
    "duration": 334,
    "start_time": "2021-11-08T22:06:34.203Z"
   },
   {
    "duration": 1150,
    "start_time": "2021-11-08T22:14:27.670Z"
   },
   {
    "duration": 1067,
    "start_time": "2021-11-08T22:15:35.989Z"
   },
   {
    "duration": 1120,
    "start_time": "2021-11-08T22:15:48.027Z"
   },
   {
    "duration": 1240,
    "start_time": "2021-11-08T22:15:57.534Z"
   },
   {
    "duration": 985,
    "start_time": "2021-11-08T22:20:28.631Z"
   },
   {
    "duration": 14,
    "start_time": "2021-11-08T22:20:50.857Z"
   },
   {
    "duration": 910,
    "start_time": "2021-11-08T22:22:06.005Z"
   },
   {
    "duration": 820,
    "start_time": "2021-11-08T22:25:10.268Z"
   },
   {
    "duration": 808,
    "start_time": "2021-11-08T22:26:58.842Z"
   },
   {
    "duration": 957,
    "start_time": "2021-11-08T22:27:39.170Z"
   },
   {
    "duration": 804,
    "start_time": "2021-11-08T22:27:55.593Z"
   },
   {
    "duration": 804,
    "start_time": "2021-11-08T22:28:30.508Z"
   },
   {
    "duration": 94,
    "start_time": "2021-11-09T01:23:03.195Z"
   },
   {
    "duration": 5,
    "start_time": "2021-11-09T01:29:29.819Z"
   },
   {
    "duration": 275,
    "start_time": "2021-11-09T01:29:32.483Z"
   },
   {
    "duration": 63,
    "start_time": "2021-11-09T01:29:35.541Z"
   },
   {
    "duration": 21,
    "start_time": "2021-11-09T01:29:39.285Z"
   },
   {
    "duration": 249,
    "start_time": "2021-11-09T01:29:41.597Z"
   },
   {
    "duration": 107,
    "start_time": "2021-11-09T01:29:44.653Z"
   },
   {
    "duration": 113,
    "start_time": "2021-11-09T01:29:47.051Z"
   },
   {
    "duration": 55,
    "start_time": "2021-11-09T01:29:49.496Z"
   },
   {
    "duration": 19,
    "start_time": "2021-11-09T01:29:52.500Z"
   },
   {
    "duration": 17,
    "start_time": "2021-11-09T01:31:01.592Z"
   },
   {
    "duration": 176,
    "start_time": "2021-11-09T01:31:04.104Z"
   },
   {
    "duration": 51,
    "start_time": "2021-11-09T01:31:06.840Z"
   },
   {
    "duration": 30,
    "start_time": "2021-11-09T01:31:09.537Z"
   },
   {
    "duration": 22,
    "start_time": "2021-11-09T01:31:15.554Z"
   },
   {
    "duration": 264,
    "start_time": "2021-11-09T01:31:18.566Z"
   },
   {
    "duration": 549,
    "start_time": "2021-11-09T01:31:27.270Z"
   },
   {
    "duration": 288,
    "start_time": "2021-11-09T01:31:36.000Z"
   },
   {
    "duration": 42,
    "start_time": "2021-11-09T01:31:44.796Z"
   },
   {
    "duration": 1355,
    "start_time": "2021-11-09T01:31:51.136Z"
   },
   {
    "duration": 959,
    "start_time": "2021-11-09T01:32:01.710Z"
   },
   {
    "duration": 816,
    "start_time": "2021-11-09T01:32:12.370Z"
   },
   {
    "duration": 465,
    "start_time": "2021-11-09T01:32:18.708Z"
   },
   {
    "duration": 37,
    "start_time": "2021-11-09T01:32:26.615Z"
   },
   {
    "duration": 22,
    "start_time": "2021-11-09T01:32:30.912Z"
   },
   {
    "duration": 40,
    "start_time": "2021-11-09T01:32:33.953Z"
   },
   {
    "duration": 876,
    "start_time": "2021-11-09T01:32:37.274Z"
   },
   {
    "duration": 423,
    "start_time": "2021-11-09T01:32:45.431Z"
   },
   {
    "duration": 23,
    "start_time": "2021-11-09T01:32:50.289Z"
   },
   {
    "duration": 58,
    "start_time": "2021-11-09T01:32:53.222Z"
   }
  ],
  "kernelspec": {
   "display_name": "Python 3",
   "language": "python",
   "name": "python3"
  },
  "language_info": {
   "codemirror_mode": {
    "name": "ipython",
    "version": 3
   },
   "file_extension": ".py",
   "mimetype": "text/x-python",
   "name": "python",
   "nbconvert_exporter": "python",
   "pygments_lexer": "ipython3",
   "version": "3.7.8"
  },
  "toc": {
   "base_numbering": 1,
   "nav_menu": {},
   "number_sections": false,
   "sideBar": false,
   "skip_h1_title": false,
   "title_cell": "Table of Contents",
   "title_sidebar": "Contents",
   "toc_cell": false,
   "toc_position": {},
   "toc_section_display": false,
   "toc_window_display": false
  }
 },
 "nbformat": 4,
 "nbformat_minor": 2
}
