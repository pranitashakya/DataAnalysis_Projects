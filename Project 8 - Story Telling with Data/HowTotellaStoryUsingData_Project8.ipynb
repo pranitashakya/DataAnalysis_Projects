{
 "cells": [
  {
   "cell_type": "markdown",
   "metadata": {},
   "source": [
    "# Market Research to open a small robot-run cafe in LA area\n",
    "\n",
    "#### Project description:\n",
    "\n",
    "We have decided to open a small robot-run cafe in Los Angeles. The project is promising but expensive, so we have to first attract investors. They’re interested in the current market conditions but we have to maintain our success when the novelty of robot waiters wears off.\n",
    "\n",
    "So, we are asked to prepare some market research using open-source data on restaurants in LA.\n",
    "\n",
    "##### Data description\n",
    "- rest_data table:\n",
    "    - object_name — establishment name\n",
    "    - chain — chain establishment (TRUE/FALSE)\n",
    "    - object_type — establishment type\n",
    "    - address — address\n",
    "    - number — number of seats\n",
    "\n",
    "#### Steps to take:\n",
    "- Step 1: Open the data file and study the general information.\n",
    "- Step 2: Prepare the data \n",
    "    - We will view the data in more detail to convert them to the required types, replace the column names and find missing values.Find and eliminate errors in the data.\n",
    "- Step 3: Analyze the data \n",
    "    - Investigate the proportions of the various types of establishments. Plot a graph.\n",
    "    - Investigate the proportions of chain and nonchain establishments. Plot a graph.\n",
    "    - Which type of establishment is typically a chain?\n",
    "    - What characterizes chains: many establishments with a small number of seats or a few establishments with a lot of seats?\n",
    "    - Determine the average number of seats for each type of restaurant. On average, which type of restaurant has the greatest number of seats? Plot graphs.\n",
    "    - Put the data on street names from the address column in a separate column.\n",
    "    - Plot a graph of the top ten streets by number of restaurants.\n",
    "    - Find the number of streets that only have one restaurant.\n",
    "    - For streets with a lot of restaurants, look at the distribution of the number of seats. What trends can you see? \n",
    "\n",
    "- Step 4: Preparing a presentation\n",
    "  \n",
    "  \n",
    "#### Goal: \n",
    "      - prepare market research conclusion and provide recommendation on restaurant type and number of seats.\n",
    "\n"
   ]
  },
  {
   "cell_type": "markdown",
   "metadata": {},
   "source": [
    "## Steps followed to complete the project:"
   ]
  },
  {
   "cell_type": "markdown",
   "metadata": {},
   "source": [
    " ## Step 1. Open the data file and study the general information"
   ]
  },
  {
   "cell_type": "code",
   "execution_count": 1,
   "metadata": {},
   "outputs": [],
   "source": [
    "##### Import default libraries\n",
    "try:\n",
    "    import pandas as pd # manipulate and wrangle the data  \n",
    "    import numpy as np\n",
    "    import matplotlib.pyplot as plt #2d plotting library which produces publication quality figures in a variety of formats\n",
    "    import seaborn as sns # Seaborn provides a high-level interface for drawing attractive and informative statistical graphics\n",
    "except:\n",
    "    print(\"An exception occurred\")\n",
    "    \n",
    "from scipy import stats # for mathematics, science, and engineering\n",
    "from math import ceil as math\n",
    "from scipy import stats as st\n",
    "\n",
    "#read data from file\n",
    "df = pd.read_csv('/datasets/rest_data_us.csv')"
   ]
  },
  {
   "cell_type": "code",
   "execution_count": 2,
   "metadata": {
    "scrolled": true
   },
   "outputs": [
    {
     "name": "stdout",
     "output_type": "stream",
     "text": [
      "<class 'pandas.core.frame.DataFrame'>\n",
      "RangeIndex: 9651 entries, 0 to 9650\n",
      "Data columns (total 6 columns):\n",
      "id             9651 non-null int64\n",
      "object_name    9651 non-null object\n",
      "address        9651 non-null object\n",
      "chain          9648 non-null object\n",
      "object_type    9651 non-null object\n",
      "number         9651 non-null int64\n",
      "dtypes: int64(2), object(4)\n",
      "memory usage: 452.5+ KB\n"
     ]
    },
    {
     "data": {
      "text/html": [
       "<div>\n",
       "<style scoped>\n",
       "    .dataframe tbody tr th:only-of-type {\n",
       "        vertical-align: middle;\n",
       "    }\n",
       "\n",
       "    .dataframe tbody tr th {\n",
       "        vertical-align: top;\n",
       "    }\n",
       "\n",
       "    .dataframe thead th {\n",
       "        text-align: right;\n",
       "    }\n",
       "</style>\n",
       "<table border=\"1\" class=\"dataframe\">\n",
       "  <thead>\n",
       "    <tr style=\"text-align: right;\">\n",
       "      <th></th>\n",
       "      <th>id</th>\n",
       "      <th>object_name</th>\n",
       "      <th>address</th>\n",
       "      <th>chain</th>\n",
       "      <th>object_type</th>\n",
       "      <th>number</th>\n",
       "    </tr>\n",
       "  </thead>\n",
       "  <tbody>\n",
       "    <tr>\n",
       "      <td>0</td>\n",
       "      <td>11786</td>\n",
       "      <td>HABITAT COFFEE SHOP</td>\n",
       "      <td>3708 N EAGLE ROCK BLVD</td>\n",
       "      <td>False</td>\n",
       "      <td>Cafe</td>\n",
       "      <td>26</td>\n",
       "    </tr>\n",
       "    <tr>\n",
       "      <td>1</td>\n",
       "      <td>11787</td>\n",
       "      <td>REILLY'S</td>\n",
       "      <td>100 WORLD WAY # 120</td>\n",
       "      <td>False</td>\n",
       "      <td>Restaurant</td>\n",
       "      <td>9</td>\n",
       "    </tr>\n",
       "    <tr>\n",
       "      <td>2</td>\n",
       "      <td>11788</td>\n",
       "      <td>STREET CHURROS</td>\n",
       "      <td>6801 HOLLYWOOD BLVD # 253</td>\n",
       "      <td>False</td>\n",
       "      <td>Fast Food</td>\n",
       "      <td>20</td>\n",
       "    </tr>\n",
       "    <tr>\n",
       "      <td>3</td>\n",
       "      <td>11789</td>\n",
       "      <td>TRINITI ECHO PARK</td>\n",
       "      <td>1814 W SUNSET BLVD</td>\n",
       "      <td>False</td>\n",
       "      <td>Restaurant</td>\n",
       "      <td>22</td>\n",
       "    </tr>\n",
       "    <tr>\n",
       "      <td>4</td>\n",
       "      <td>11790</td>\n",
       "      <td>POLLEN</td>\n",
       "      <td>2100 ECHO PARK AVE</td>\n",
       "      <td>False</td>\n",
       "      <td>Restaurant</td>\n",
       "      <td>20</td>\n",
       "    </tr>\n",
       "  </tbody>\n",
       "</table>\n",
       "</div>"
      ],
      "text/plain": [
       "      id          object_name                    address  chain object_type  \\\n",
       "0  11786  HABITAT COFFEE SHOP     3708 N EAGLE ROCK BLVD  False        Cafe   \n",
       "1  11787             REILLY'S        100 WORLD WAY # 120  False  Restaurant   \n",
       "2  11788       STREET CHURROS  6801 HOLLYWOOD BLVD # 253  False   Fast Food   \n",
       "3  11789    TRINITI ECHO PARK         1814 W SUNSET BLVD  False  Restaurant   \n",
       "4  11790               POLLEN         2100 ECHO PARK AVE  False  Restaurant   \n",
       "\n",
       "   number  \n",
       "0      26  \n",
       "1       9  \n",
       "2      20  \n",
       "3      22  \n",
       "4      20  "
      ]
     },
     "metadata": {},
     "output_type": "display_data"
    }
   ],
   "source": [
    "# study general information \n",
    "df.info()\n",
    "\n",
    "display(df.head())"
   ]
  },
  {
   "cell_type": "markdown",
   "metadata": {},
   "source": [
    "## Step 2: Prepare the data for Analysis\n",
    "In this step, we are viewing the data in more detail to convert them to the necessary types. Find and eliminate errors in the data\n",
    "\n",
    "Replace the column names (make them lowercase).\n",
    "Convert the data to the required types.\n",
    "If necessary, decide how to deal with missing values:\n",
    "Calculate the total sales (the sum of sales in all regions) for each game and put these values in a separate column."
   ]
  },
  {
   "cell_type": "code",
   "execution_count": 3,
   "metadata": {},
   "outputs": [
    {
     "data": {
      "text/html": [
       "<div>\n",
       "<style scoped>\n",
       "    .dataframe tbody tr th:only-of-type {\n",
       "        vertical-align: middle;\n",
       "    }\n",
       "\n",
       "    .dataframe tbody tr th {\n",
       "        vertical-align: top;\n",
       "    }\n",
       "\n",
       "    .dataframe thead th {\n",
       "        text-align: right;\n",
       "    }\n",
       "</style>\n",
       "<table border=\"1\" class=\"dataframe\">\n",
       "  <thead>\n",
       "    <tr style=\"text-align: right;\">\n",
       "      <th></th>\n",
       "      <th>missing_values</th>\n",
       "      <th>% of total</th>\n",
       "    </tr>\n",
       "  </thead>\n",
       "  <tbody>\n",
       "    <tr>\n",
       "      <td>chain</td>\n",
       "      <td>3</td>\n",
       "      <td>0.0</td>\n",
       "    </tr>\n",
       "    <tr>\n",
       "      <td>id</td>\n",
       "      <td>0</td>\n",
       "      <td>0.0</td>\n",
       "    </tr>\n",
       "    <tr>\n",
       "      <td>object_name</td>\n",
       "      <td>0</td>\n",
       "      <td>0.0</td>\n",
       "    </tr>\n",
       "    <tr>\n",
       "      <td>address</td>\n",
       "      <td>0</td>\n",
       "      <td>0.0</td>\n",
       "    </tr>\n",
       "    <tr>\n",
       "      <td>object_type</td>\n",
       "      <td>0</td>\n",
       "      <td>0.0</td>\n",
       "    </tr>\n",
       "    <tr>\n",
       "      <td>number</td>\n",
       "      <td>0</td>\n",
       "      <td>0.0</td>\n",
       "    </tr>\n",
       "  </tbody>\n",
       "</table>\n",
       "</div>"
      ],
      "text/plain": [
       "             missing_values  % of total\n",
       "chain                     3         0.0\n",
       "id                        0         0.0\n",
       "object_name               0         0.0\n",
       "address                   0         0.0\n",
       "object_type               0         0.0\n",
       "number                    0         0.0"
      ]
     },
     "execution_count": 3,
     "metadata": {},
     "output_type": "execute_result"
    }
   ],
   "source": [
    "# checking if there are any null/blank columns\n",
    "report = df.isna().sum().to_frame()\n",
    "report = report.rename(columns = {0: 'missing_values'})\n",
    "report['% of total'] = (report['missing_values'] / df.shape[0]).round(2)\n",
    "report.sort_values(by = 'missing_values', ascending = False)"
   ]
  },
  {
   "cell_type": "code",
   "execution_count": 6,
   "metadata": {},
   "outputs": [
    {
     "data": {
      "text/plain": [
       "0"
      ]
     },
     "execution_count": 6,
     "metadata": {},
     "output_type": "execute_result"
    }
   ],
   "source": [
    "# checking for duplicated rows\n",
    "df.duplicated().sum()"
   ]
  },
  {
   "cell_type": "code",
   "execution_count": 7,
   "metadata": {},
   "outputs": [
    {
     "data": {
      "text/html": [
       "<div>\n",
       "<style scoped>\n",
       "    .dataframe tbody tr th:only-of-type {\n",
       "        vertical-align: middle;\n",
       "    }\n",
       "\n",
       "    .dataframe tbody tr th {\n",
       "        vertical-align: top;\n",
       "    }\n",
       "\n",
       "    .dataframe thead th {\n",
       "        text-align: right;\n",
       "    }\n",
       "</style>\n",
       "<table border=\"1\" class=\"dataframe\">\n",
       "  <thead>\n",
       "    <tr style=\"text-align: right;\">\n",
       "      <th></th>\n",
       "      <th>id</th>\n",
       "      <th>object_name</th>\n",
       "      <th>address</th>\n",
       "      <th>chain</th>\n",
       "      <th>object_type</th>\n",
       "      <th>number</th>\n",
       "    </tr>\n",
       "  </thead>\n",
       "  <tbody>\n",
       "    <tr>\n",
       "      <td>7408</td>\n",
       "      <td>19194</td>\n",
       "      <td>TAQUERIA LOS 3 CARNALES</td>\n",
       "      <td>5000 E WHITTIER BLVD</td>\n",
       "      <td>NaN</td>\n",
       "      <td>Restaurant</td>\n",
       "      <td>14</td>\n",
       "    </tr>\n",
       "    <tr>\n",
       "      <td>7523</td>\n",
       "      <td>19309</td>\n",
       "      <td>JAMMIN JIMMY'S PIZZA</td>\n",
       "      <td>1641 FIRESTONE BLVD</td>\n",
       "      <td>NaN</td>\n",
       "      <td>Pizza</td>\n",
       "      <td>1</td>\n",
       "    </tr>\n",
       "    <tr>\n",
       "      <td>8648</td>\n",
       "      <td>20434</td>\n",
       "      <td>THE LEXINGTON THEATER</td>\n",
       "      <td>129 E 3RD ST</td>\n",
       "      <td>NaN</td>\n",
       "      <td>Restaurant</td>\n",
       "      <td>35</td>\n",
       "    </tr>\n",
       "  </tbody>\n",
       "</table>\n",
       "</div>"
      ],
      "text/plain": [
       "         id              object_name               address chain object_type  \\\n",
       "7408  19194  TAQUERIA LOS 3 CARNALES  5000 E WHITTIER BLVD   NaN  Restaurant   \n",
       "7523  19309     JAMMIN JIMMY'S PIZZA   1641 FIRESTONE BLVD   NaN       Pizza   \n",
       "8648  20434    THE LEXINGTON THEATER          129 E 3RD ST   NaN  Restaurant   \n",
       "\n",
       "      number  \n",
       "7408      14  \n",
       "7523       1  \n",
       "8648      35  "
      ]
     },
     "execution_count": 7,
     "metadata": {},
     "output_type": "execute_result"
    }
   ],
   "source": [
    "# checking for null in chain column\n",
    "df[df['chain'].isnull()]\n"
   ]
  },
  {
   "cell_type": "code",
   "execution_count": 8,
   "metadata": {},
   "outputs": [],
   "source": [
    "e# backfilling NAN in 'Chain' column with false\n",
    "df['chain'].mode()\n",
    "df['chain']= df['chain'].fillna(df['chain'].mode()[0])"
   ]
  },
  {
   "cell_type": "code",
   "execution_count": 9,
   "metadata": {},
   "outputs": [],
   "source": [
    "# rename column names\n",
    "df.columns = ['id', 'name', 'address', 'chain', 'type', 'total_seats']"
   ]
  },
  {
   "cell_type": "markdown",
   "metadata": {},
   "source": [
    "### Conclusion:\n",
    "We dropped any duplicates in the database. We renamed column names so that names are more relevant. We also backfilled null values with the mode of that column."
   ]
  },
  {
   "cell_type": "markdown",
   "metadata": {},
   "source": [
    "## Step 3. Analyze the data"
   ]
  },
  {
   "cell_type": "markdown",
   "metadata": {},
   "source": [
    "### Investigate the proportions of the various types of establishments. Plot a graph"
   ]
  },
  {
   "cell_type": "code",
   "execution_count": 10,
   "metadata": {
    "scrolled": false
   },
   "outputs": [
    {
     "name": "stdout",
     "output_type": "stream",
     "text": [
      "         type  counts\n",
      "0  Restaurant    7255\n",
      "1   Fast Food    1066\n",
      "2        Cafe     435\n",
      "3       Pizza     320\n",
      "4         Bar     292\n",
      "5      Bakery     283\n"
     ]
    },
    {
     "data": {
      "image/png": "[encoded data removed]",
      "text/plain": [
       "<Figure size 720x360 with 1 Axes>"
      ]
     },
     "metadata": {},
     "output_type": "display_data"
    }
   ],
   "source": [
    "\n",
    "Est_type = df['type'].value_counts().rename_axis('type').reset_index(name='counts')\n",
    "print(Est_type)\n",
    "\n",
    "# plot pie chart with proportions\n",
    "plt.figure(figsize=(10, 5))\n",
    "\n",
    "plt.pie(Est_type['counts'], labels=Est_type['type'],autopct='%0.f%%')\n",
    "\n",
    "plt.title('Types of Establishments')\n",
    "plt.show()"
   ]
  },
  {
   "cell_type": "markdown",
   "metadata": {},
   "source": [
    "### Conclusion:\n",
    "\n",
    "Based on the pie-chart plotting above, 75% of establishments are restaurants, 11% of establishments are fast food, and the rest are broken down between cafe, pizza, bar and bakery.\n",
    "\n",
    "LA is the 26th most populous city of the United States and is also knowns as a resort city internationally. Hence, it is a tourist destination. It is not surprising to see that restaurants are predominant there."
   ]
  },
  {
   "cell_type": "markdown",
   "metadata": {},
   "source": [
    "### Investigate the proportions of chain and nonchain establishments. Plot a graph"
   ]
  },
  {
   "cell_type": "code",
   "execution_count": 11,
   "metadata": {
    "scrolled": false
   },
   "outputs": [
    {
     "name": "stdout",
     "output_type": "stream",
     "text": [
      "   chain    counts\n",
      "0  False  0.619107\n",
      "1   True  0.380893\n"
     ]
    },
    {
     "data": {
      "image/png": "[encoded data removed]",
      "text/plain": [
       "<Figure size 432x288 with 1 Axes>"
      ]
     },
     "metadata": {},
     "output_type": "display_data"
    }
   ],
   "source": [
    "# transform value_counts for chain establishment to dataframe\n",
    "\n",
    "Est_chain = df['chain'].value_counts(normalize=True).rename_axis('chain').reset_index(name='counts')\n",
    "print(Est_chain)\n",
    "# plot pie chart with proportions\n",
    "plt.pie(Est_chain['counts'], labels=Est_chain['chain'],autopct='%0.f%%')\n",
    "plt.title('Proportions of Chain and Nonchain Establishments')\n",
    "plt.show()"
   ]
  },
  {
   "cell_type": "markdown",
   "metadata": {},
   "source": [
    "### Conclusion:\n",
    "\n",
    "Based on the pie-chart above, 62% of the establishments are non-chain establishments, while 38% are chain. The majority of establishments in LA are the non-chain type because LA being a tourist hub, the food industry is extremely good there. Restaurants can survive independently without chains. They have to be unique to attract tourists not a cookie-cutter place."
   ]
  },
  {
   "cell_type": "markdown",
   "metadata": {},
   "source": [
    "### Which type of establishment is typically a chain?"
   ]
  },
  {
   "cell_type": "code",
   "execution_count": 12,
   "metadata": {},
   "outputs": [
    {
     "name": "stdout",
     "output_type": "stream",
     "text": [
      "type        chain\n",
      "Bakery      True     1.000000\n",
      "Bar         False    0.736301\n",
      "            True     0.263699\n",
      "Cafe        True     0.611494\n",
      "            False    0.388506\n",
      "Fast Food   True     0.567542\n",
      "            False    0.432458\n",
      "Pizza       False    0.521875\n",
      "            True     0.478125\n",
      "Restaurant  False    0.684080\n",
      "            True     0.315920\n",
      "Name: chain, dtype: float64\n"
     ]
    },
    {
     "data": {
      "image/png": "[encoded data removed]",
      "text/plain": [
       "<Figure size 720x504 with 1 Axes>"
      ]
     },
     "metadata": {
      "needs_background": "light"
     },
     "output_type": "display_data"
    }
   ],
   "source": [
    "# group data by type and chain\n",
    "chain_share = df.groupby(['type'])['chain'].value_counts(normalize = True)\n",
    "print(chain_share)\n",
    "\n",
    "# plot bar charts with swicthing colors\n",
    "\n",
    "plt.figure(figsize=(10, 7))\n",
    "\n",
    "ax=sns.countplot(x='type',hue = 'chain',data = df)\n",
    "\n",
    "# Add titles and captions\n",
    "plt.xlabel('Type of Establishment')\n",
    "plt.ylabel('Ratio of Chains')\n",
    "plt.title('Ratio of Chains per Establishment')\n",
    "\n",
    "for p in ax.patches:\n",
    "    ax.annotate(format(p.get_height(), '.1f'), \n",
    "                xy=(p.get_x() + p.get_width() / 2., p.get_height()), \n",
    "                ha = 'center', \n",
    "                va = 'center', \n",
    "                xytext = (0, 10), \n",
    "                textcoords = 'offset points')\n",
    "    \n",
    "plt.show()"
   ]
  },
  {
   "cell_type": "markdown",
   "metadata": {},
   "source": [
    "### Conclusion:\n",
    "Based on the pie-chart plotting above, all bakeries are part of chain. Likewise, more than half of cafes, fastfood are chains as well. More than half of the restaurants and bars in the other hand are non-chain type.\n",
    "Hence, restaurant is typically a non-chain type and also, the bars based on the plotting above."
   ]
  },
  {
   "cell_type": "markdown",
   "metadata": {},
   "source": [
    "### What characterizes chains: many establishments with a small number of seats or a few establishments with a lot of seats?"
   ]
  },
  {
   "cell_type": "code",
   "execution_count": 13,
   "metadata": {},
   "outputs": [
    {
     "data": {
      "image/png": "[encoded data removed]",
      "text/plain": [
       "<Figure size 432x288 with 1 Axes>"
      ]
     },
     "metadata": {},
     "output_type": "display_data"
    }
   ],
   "source": [
    "import seaborn\n",
    "# use to set style of background of plot\n",
    "seaborn.set(style = 'whitegrid')\n",
    "\n",
    "stripplot = seaborn.stripplot(x=\"type\", y=\"total_seats\", data=df, jitter=0.1)\n",
    "stripplot.axes.set_title(\"Relation between number of seats and number of establishments\", fontsize=16)\n",
    "\n",
    "stripplot.set_xlabel(\"Total Seats per Establishment\", fontsize=10)\n",
    "stripplot.set_ylabel(\"Number of Establishments\", fontsize=10)\n",
    "plt.show()"
   ]
  },
  {
   "cell_type": "markdown",
   "metadata": {},
   "source": [
    "### Conclusion:\n",
    "Based on the strip plotting above, many establishments have 50 seats in general while less establishments have seats between 150-200. \n",
    "In general, Chains are characterized by having many establishments with a small number of seats."
   ]
  },
  {
   "cell_type": "markdown",
   "metadata": {},
   "source": [
    "### Determine the average number of seats for each type of restaurant. On average, which type of restaurant has the greatest number of seats? Plot graphs."
   ]
  },
  {
   "cell_type": "code",
   "execution_count": 14,
   "metadata": {
    "scrolled": true
   },
   "outputs": [
    {
     "data": {
      "image/png": "[encoded data removed]",
      "text/plain": [
       "<Figure size 720x504 with 1 Axes>"
      ]
     },
     "metadata": {},
     "output_type": "display_data"
    }
   ],
   "source": [
    "# extract data from only chains\n",
    "type_ChainData = df[df['chain'] == True]\n",
    "\n",
    "avg_ChainData = type_ChainData.groupby('type').agg({'total_seats':['mean']}).reset_index()\n",
    "avg_ChainData.columns = ['Chain_type','avg_seats']\n",
    "#print(avg_ChainData)\n",
    "\n",
    "\n",
    "\n",
    "plt.figure(figsize=(10, 7))\n",
    "\n",
    "# Plot barplot\n",
    "ax = sns.barplot(data = avg_ChainData.sort_values('avg_seats', ascending=False), \n",
    "                 x='Chain_type', \n",
    "                 y='avg_seats')\n",
    "\n",
    "# Add titles and captions\n",
    "plt.xlabel('Type of Establishment')\n",
    "plt.ylabel('Average Number of Seats')\n",
    "plt.title('Average Number of Seats per Establishment')\n",
    "\n",
    "for p in ax.patches:\n",
    "    ax.annotate(format(p.get_height(), '.2f'), \n",
    "                xy=(p.get_x() + p.get_width() / 2., p.get_height()), \n",
    "                ha = 'center', \n",
    "                va = 'center', \n",
    "                xytext = (0, 10), \n",
    "                textcoords = 'offset points')\n",
    "\n",
    "\n",
    "plt.show()"
   ]
  },
  {
   "cell_type": "code",
   "execution_count": 15,
   "metadata": {
    "scrolled": true
   },
   "outputs": [
    {
     "data": {
      "image/png": "[encoded data removed]",
      "text/plain": [
       "<Figure size 432x288 with 1 Axes>"
      ]
     },
     "metadata": {},
     "output_type": "display_data"
    }
   ],
   "source": [
    "## another plot for average number of seats per establishment\n",
    "import seaborn\n",
    "# use to set style of background of plot\n",
    "seaborn.set(style = 'whitegrid')\n",
    "\n",
    "stripplot = seaborn.stripplot(x=\"Chain_type\", y=\"avg_seats\", data=avg_ChainData, jitter=0.1)\n",
    "stripplot.axes.set_title(\"Average Number of Seats per Establishment\", fontsize=16)\n",
    "\n",
    "stripplot.set_xlabel(\"Type of Establishment\", fontsize=10)\n",
    "stripplot.set_ylabel(\"Average Number of Seats\", fontsize=10)\n",
    "plt.show()"
   ]
  },
  {
   "cell_type": "markdown",
   "metadata": {},
   "source": [
    "### Conclusion:\n",
    "Based on the plotting above, restaurants have the greatest number of seats ( more than 45 seats) in  general whereas bakery and cafe have the least number of seats (below 30 seats)."
   ]
  },
  {
   "cell_type": "markdown",
   "metadata": {},
   "source": [
    "### Put the data on street names from the address column in a separate column.\n",
    "\n"
   ]
  },
  {
   "cell_type": "code",
   "execution_count": 16,
   "metadata": {},
   "outputs": [],
   "source": [
    "#!pip install usaddress\n",
    "#import usaddress\n",
    "\n",
    "#df['street_name'] = df['address'].apply(lambda x: usaddress.parse(x) )\n",
    "#df['street_name']\n",
    "#.str.extract(r'(?P<StreetName>\\d{,5})')\n",
    "\n"
   ]
  },
  {
   "cell_type": "code",
   "execution_count": 17,
   "metadata": {},
   "outputs": [],
   "source": [
    "def get_streetname(x):\n",
    "    split_address = x.replace(\"#\", \"\").replace(\"/\", \"\").split()\n",
    "    new = []\n",
    "    for i in split_address:\n",
    "        if i.isdigit():\n",
    "            continue\n",
    "        else:\n",
    "            new.append(i)\n",
    "    return ' '.join(new)  \n",
    "\n",
    "def filter_streetname(filter):\n",
    "    new= []\n",
    "    y=filter.split(' ')\n",
    "    ending_with = ['BLVD','ST','AVE','RD','DR','WAY']\n",
    "    for i in y:\n",
    "        if i in ending_with and i != 'STE': \n",
    "            new.append(i)\n",
    "            return \" \".join(new)\n",
    "        elif i == 'STE':\n",
    "            return \" \".join(new)\n",
    "        new.append(i)\n",
    "    return \" \".join(new)\n"
   ]
  },
  {
   "cell_type": "code",
   "execution_count": 18,
   "metadata": {},
   "outputs": [
    {
     "data": {
      "text/html": [
       "<div>\n",
       "<style scoped>\n",
       "    .dataframe tbody tr th:only-of-type {\n",
       "        vertical-align: middle;\n",
       "    }\n",
       "\n",
       "    .dataframe tbody tr th {\n",
       "        vertical-align: top;\n",
       "    }\n",
       "\n",
       "    .dataframe thead th {\n",
       "        text-align: right;\n",
       "    }\n",
       "</style>\n",
       "<table border=\"1\" class=\"dataframe\">\n",
       "  <thead>\n",
       "    <tr style=\"text-align: right;\">\n",
       "      <th></th>\n",
       "      <th>id</th>\n",
       "      <th>name</th>\n",
       "      <th>address</th>\n",
       "      <th>chain</th>\n",
       "      <th>type</th>\n",
       "      <th>total_seats</th>\n",
       "      <th>street_name</th>\n",
       "    </tr>\n",
       "  </thead>\n",
       "  <tbody>\n",
       "    <tr>\n",
       "      <td>0</td>\n",
       "      <td>11786</td>\n",
       "      <td>HABITAT COFFEE SHOP</td>\n",
       "      <td>3708 N EAGLE ROCK BLVD</td>\n",
       "      <td>False</td>\n",
       "      <td>Cafe</td>\n",
       "      <td>26</td>\n",
       "      <td>N EAGLE ROCK BLVD</td>\n",
       "    </tr>\n",
       "    <tr>\n",
       "      <td>1</td>\n",
       "      <td>11787</td>\n",
       "      <td>REILLY'S</td>\n",
       "      <td>100 WORLD WAY # 120</td>\n",
       "      <td>False</td>\n",
       "      <td>Restaurant</td>\n",
       "      <td>9</td>\n",
       "      <td>WORLD WAY</td>\n",
       "    </tr>\n",
       "    <tr>\n",
       "      <td>2</td>\n",
       "      <td>11788</td>\n",
       "      <td>STREET CHURROS</td>\n",
       "      <td>6801 HOLLYWOOD BLVD # 253</td>\n",
       "      <td>False</td>\n",
       "      <td>Fast Food</td>\n",
       "      <td>20</td>\n",
       "      <td>HOLLYWOOD BLVD</td>\n",
       "    </tr>\n",
       "    <tr>\n",
       "      <td>3</td>\n",
       "      <td>11789</td>\n",
       "      <td>TRINITI ECHO PARK</td>\n",
       "      <td>1814 W SUNSET BLVD</td>\n",
       "      <td>False</td>\n",
       "      <td>Restaurant</td>\n",
       "      <td>22</td>\n",
       "      <td>W SUNSET BLVD</td>\n",
       "    </tr>\n",
       "    <tr>\n",
       "      <td>4</td>\n",
       "      <td>11790</td>\n",
       "      <td>POLLEN</td>\n",
       "      <td>2100 ECHO PARK AVE</td>\n",
       "      <td>False</td>\n",
       "      <td>Restaurant</td>\n",
       "      <td>20</td>\n",
       "      <td>ECHO PARK AVE</td>\n",
       "    </tr>\n",
       "    <tr>\n",
       "      <td>...</td>\n",
       "      <td>...</td>\n",
       "      <td>...</td>\n",
       "      <td>...</td>\n",
       "      <td>...</td>\n",
       "      <td>...</td>\n",
       "      <td>...</td>\n",
       "      <td>...</td>\n",
       "    </tr>\n",
       "    <tr>\n",
       "      <td>9646</td>\n",
       "      <td>21432</td>\n",
       "      <td>HALL OF JUSTICE</td>\n",
       "      <td>217 W TEMPLE AVE</td>\n",
       "      <td>False</td>\n",
       "      <td>Restaurant</td>\n",
       "      <td>122</td>\n",
       "      <td>W TEMPLE AVE</td>\n",
       "    </tr>\n",
       "    <tr>\n",
       "      <td>9647</td>\n",
       "      <td>21433</td>\n",
       "      <td>FIN-MELROSE</td>\n",
       "      <td>5750 MELROSE AVE</td>\n",
       "      <td>False</td>\n",
       "      <td>Restaurant</td>\n",
       "      <td>93</td>\n",
       "      <td>MELROSE AVE</td>\n",
       "    </tr>\n",
       "    <tr>\n",
       "      <td>9648</td>\n",
       "      <td>21434</td>\n",
       "      <td>JUICY WINGZ</td>\n",
       "      <td>6741 HOLLYWOOD BLVD</td>\n",
       "      <td>True</td>\n",
       "      <td>Fast Food</td>\n",
       "      <td>15</td>\n",
       "      <td>HOLLYWOOD BLVD</td>\n",
       "    </tr>\n",
       "    <tr>\n",
       "      <td>9649</td>\n",
       "      <td>21435</td>\n",
       "      <td>MEDIDATE COFFEE</td>\n",
       "      <td>548 S SPRING ST STE 100</td>\n",
       "      <td>False</td>\n",
       "      <td>Cafe</td>\n",
       "      <td>6</td>\n",
       "      <td>S SPRING ST</td>\n",
       "    </tr>\n",
       "    <tr>\n",
       "      <td>9650</td>\n",
       "      <td>21436</td>\n",
       "      <td>CAFE SPROUTS</td>\n",
       "      <td>1300 S SAN PEDRO ST STE 111</td>\n",
       "      <td>True</td>\n",
       "      <td>Restaurant</td>\n",
       "      <td>19</td>\n",
       "      <td>S SAN PEDRO ST</td>\n",
       "    </tr>\n",
       "  </tbody>\n",
       "</table>\n",
       "<p>9651 rows × 7 columns</p>\n",
       "</div>"
      ],
      "text/plain": [
       "         id                 name                      address  chain  \\\n",
       "0     11786  HABITAT COFFEE SHOP       3708 N EAGLE ROCK BLVD  False   \n",
       "1     11787             REILLY'S          100 WORLD WAY # 120  False   \n",
       "2     11788       STREET CHURROS    6801 HOLLYWOOD BLVD # 253  False   \n",
       "3     11789    TRINITI ECHO PARK           1814 W SUNSET BLVD  False   \n",
       "4     11790               POLLEN           2100 ECHO PARK AVE  False   \n",
       "...     ...                  ...                          ...    ...   \n",
       "9646  21432      HALL OF JUSTICE             217 W TEMPLE AVE  False   \n",
       "9647  21433          FIN-MELROSE             5750 MELROSE AVE  False   \n",
       "9648  21434          JUICY WINGZ          6741 HOLLYWOOD BLVD   True   \n",
       "9649  21435      MEDIDATE COFFEE      548 S SPRING ST STE 100  False   \n",
       "9650  21436         CAFE SPROUTS  1300 S SAN PEDRO ST STE 111   True   \n",
       "\n",
       "            type  total_seats        street_name  \n",
       "0           Cafe           26  N EAGLE ROCK BLVD  \n",
       "1     Restaurant            9          WORLD WAY  \n",
       "2      Fast Food           20     HOLLYWOOD BLVD  \n",
       "3     Restaurant           22      W SUNSET BLVD  \n",
       "4     Restaurant           20      ECHO PARK AVE  \n",
       "...          ...          ...                ...  \n",
       "9646  Restaurant          122       W TEMPLE AVE  \n",
       "9647  Restaurant           93        MELROSE AVE  \n",
       "9648   Fast Food           15     HOLLYWOOD BLVD  \n",
       "9649        Cafe            6        S SPRING ST  \n",
       "9650  Restaurant           19     S SAN PEDRO ST  \n",
       "\n",
       "[9651 rows x 7 columns]"
      ]
     },
     "metadata": {},
     "output_type": "display_data"
    }
   ],
   "source": [
    "df['street_name'] = df['address'].apply(\n",
    "    lambda x: get_streetname(x)).apply(lambda x: filter_streetname(x))\n",
    "\n",
    "#df[['street_name','address']]\n",
    "display(df)"
   ]
  },
  {
   "cell_type": "markdown",
   "metadata": {},
   "source": [
    "### Plot a graph of the top ten streets by number of restaurants."
   ]
  },
  {
   "cell_type": "code",
   "execution_count": 19,
   "metadata": {
    "scrolled": true
   },
   "outputs": [
    {
     "data": {
      "image/png": "[encoded data removed]",
      "text/plain": [
       "<Figure size 720x504 with 1 Axes>"
      ]
     },
     "metadata": {},
     "output_type": "display_data"
    }
   ],
   "source": [
    "street_data = pd.pivot_table(df, index=['street_name'], values=['id'], aggfunc=['count']).reset_index()\n",
    "street_data.columns = ['street_name','count']\n",
    "\n",
    "top10_street_data = street_data.sort_values(by='count', ascending=False).head(10)\n",
    "\n",
    "# Plot barplot\n",
    "plt.figure(figsize=(10, 7))\n",
    "\n",
    "ax = sns.barplot(data = top10_street_data.sort_values('count', ascending=False), \n",
    "                 x='street_name', \n",
    "                 y='count')\n",
    "\n",
    "# Add titles and captions\n",
    "plt.xlabel('Most Popular Streets')\n",
    "plt.ylabel('Number of Establishments')\n",
    "plt.title('Number of Establishments per Most Popular Streets')\n",
    "\n",
    "for p in ax.patches:\n",
    "    ax.annotate(format(p.get_height(), '.1f'), \n",
    "                xy=(p.get_x() + p.get_width() / 2., p.get_height()), \n",
    "                ha = 'center', \n",
    "                va = 'center', \n",
    "                xytext = (0, 10), \n",
    "                textcoords = 'offset points')\n",
    "\n",
    "plt.xticks(rotation=45)\n",
    "plt.show()"
   ]
  },
  {
   "cell_type": "markdown",
   "metadata": {},
   "source": [
    "### Conclusion:\n",
    "Based on the bar chart plotting above, the most streets for establishments are Wilshire Blvd, W Sunset Blvd, W Pico Blvd, S Western Ave, Santa Monica Blvd, W Olympic Blvd, W 3rd St, S Figueroa St, S Vermont Ave."
   ]
  },
  {
   "cell_type": "markdown",
   "metadata": {},
   "source": [
    "### Find the number of streets that only have one restaurant."
   ]
  },
  {
   "cell_type": "code",
   "execution_count": 20,
   "metadata": {
    "scrolled": true
   },
   "outputs": [],
   "source": [
    "#print(street_data)\n",
    "#one_street_data = street_data[street_data['count'] == 1]\n",
    "#print(one_street_data)\n",
    "\n",
    "#n = len(pd.unique(one_street_data['street_name']))\n",
    "  \n",
    "#print(\"The number of streets that only have one restaurant  :\", \n",
    " #    n)"
   ]
  },
  {
   "cell_type": "code",
   "execution_count": 21,
   "metadata": {},
   "outputs": [
    {
     "name": "stdout",
     "output_type": "stream",
     "text": [
      "The number of streets that only have one establishment is: 372\n"
     ]
    }
   ],
   "source": [
    "# other option\n",
    "streets_with_one_est = street_data.query('count == 1').reset_index(drop=True)\n",
    "print('The number of streets that only have one establishment is: {}'.format(len(streets_with_one_est)))"
   ]
  },
  {
   "cell_type": "markdown",
   "metadata": {},
   "source": [
    "### For streets with a lot of restaurants, look at the distribution of the number of seats. What trends can you see?"
   ]
  },
  {
   "cell_type": "code",
   "execution_count": 22,
   "metadata": {},
   "outputs": [],
   "source": [
    "#print(street_data)\n",
    "#avgNumRestaurants = street_data['count'].mean().round()\n",
    "\n",
    "#avgStreetData = street_data[street_data['count'] > avgNumRestaurants]\n",
    "\n",
    "#print(avgStreetData)\n",
    "#avgStreet_seats_Data = df[df.street_name.isin(avgStreetData['street_name'])]\n"
   ]
  },
  {
   "cell_type": "code",
   "execution_count": 23,
   "metadata": {},
   "outputs": [
    {
     "data": {
      "text/plain": [
       "array([26. , 56.5])"
      ]
     },
     "execution_count": 23,
     "metadata": {},
     "output_type": "execute_result"
    }
   ],
   "source": [
    "# another option\n",
    "#1. calculating the 90th or 95th percentile for the number of establishment\n",
    "np.percentile(street_data['count'],[90,95])"
   ]
  },
  {
   "cell_type": "code",
   "execution_count": 24,
   "metadata": {},
   "outputs": [],
   "source": [
    "#2. getting the list of streets that have more resturants than number  you set as a threshold\n",
    "list_of_streets = list(street_data[street_data['count']>50]['street_name'])\n",
    "#list_of_streets"
   ]
  },
  {
   "cell_type": "code",
   "execution_count": 25,
   "metadata": {},
   "outputs": [],
   "source": [
    "#3. gettting a slice of data containing only the observations for the streets that are present in the lthe list above\n",
    "many_resturants = df[df['street_name'].isin(list_of_streets)]\n",
    "#many_resturants"
   ]
  },
  {
   "cell_type": "markdown",
   "metadata": {},
   "source": [
    "Thus, let's consider only those streets that have more than 50 resturants."
   ]
  },
  {
   "cell_type": "code",
   "execution_count": 26,
   "metadata": {},
   "outputs": [
    {
     "data": {
      "image/png": "[encoded data removed]",
      "text/plain": [
       "<Figure size 432x288 with 1 Axes>"
      ]
     },
     "metadata": {},
     "output_type": "display_data"
    }
   ],
   "source": [
    "# plot distribution plot\n",
    "\n",
    "sns.distplot(many_resturants['total_seats'],kde = True)\n",
    "\n",
    "plt.xlabel('Number of Seats', labelpad=15, fontsize=16)\n",
    "plt.ylabel('Density', labelpad=15, fontsize=16)\n",
    "plt.title('Distribution of the Number of Seats',fontsize=18)\n",
    "\n",
    "\n",
    "plt.show()"
   ]
  },
  {
   "cell_type": "markdown",
   "metadata": {},
   "source": [
    "### Conclusion:\n",
    "For streets with a lot of establishments, most of those establishments have 50  or less seats."
   ]
  },
  {
   "cell_type": "markdown",
   "metadata": {},
   "source": [
    "### Step 3. Draw an overall conclusion and provide recommendations on restaurant type and number of seats. Comment on the possibility of developing a chain."
   ]
  },
  {
   "cell_type": "markdown",
   "metadata": {},
   "source": [
    "Based on the analysis of market research data provided on food establishments in Los Angeles, we can conclude that:\n",
    "\n",
    "There are various types of establishments in the LA area. The most popular establishment is restaurants which covers 75% of all establishments. There are chain and non-chain types of establishments as well. 62% of establishments are non-chains whereas 38% are chains. Certain types of establishments are largely part of a chain: over 50% of bakeries, cafes, and fast food places are part of a chain while less than 50% of restaurants and bars are part of a chain. In general, Chains are characterized by having many establishments with a small number of seats (less than 50 seats). The average number of seats in a restaurant is 45, in a bar are 40 seats and less than those 30 seats for other food establishments. The streets with the most food establishments in LA are Wilshire Blvd, W Sunset Blvd, W Pico Blvd, S Western Ave, Santa Monica Blvd, W Olympic Blvd, W 3rd St, S Figueroa St, S Vermont Ave. The establishments are over 250 on those streets and seating mostly anywhere between 20-60.\n",
    "\n",
    "Based on the finding above, we can recommend that the most beneficial establishment would be a restaurant, considering the fact that a large % of non-chain establishments are restaurants and that makes it relatively easier to compete in the food market. Restaurants with 20-60 seatings located on any of the popular streets mentioned above would be deal with to maintain a successful establishment."
   ]
  },
  {
   "cell_type": "markdown",
   "metadata": {},
   "source": [
    "## Step 4. Preparing a presentation"
   ]
  },
  {
   "cell_type": "markdown",
   "metadata": {},
   "source": [
    "https://docs.google.com/presentation/d/1r-cklws7x6u2y0Z5vGf5ebqRrnfgZJg6/edit?usp=sharing&ouid=112318298311349268618&rtpof=true&sd=true"
   ]
  }
 ],
 "metadata": {
  "ExecuteTimeLog": [
   {
    "duration": 1539,
    "start_time": "2021-08-27T21:20:41.318Z"
   },
   {
    "duration": 390,
    "start_time": "2021-08-27T21:21:30.034Z"
   },
   {
    "duration": 24,
    "start_time": "2021-08-27T21:21:45.211Z"
   },
   {
    "duration": 22,
    "start_time": "2021-08-27T21:31:59.021Z"
   },
   {
    "duration": 9,
    "start_time": "2021-08-27T21:33:22.818Z"
   },
   {
    "duration": 13,
    "start_time": "2021-08-27T21:34:40.710Z"
   },
   {
    "duration": 16,
    "start_time": "2021-08-27T21:34:49.175Z"
   },
   {
    "duration": 4,
    "start_time": "2021-08-27T21:36:03.999Z"
   },
   {
    "duration": 6,
    "start_time": "2021-08-27T21:36:24.089Z"
   },
   {
    "duration": 5,
    "start_time": "2021-08-27T21:37:08.263Z"
   },
   {
    "duration": 6,
    "start_time": "2021-08-27T21:37:18.089Z"
   },
   {
    "duration": 8,
    "start_time": "2021-08-27T21:37:56.948Z"
   },
   {
    "duration": 7,
    "start_time": "2021-08-27T21:39:05.126Z"
   },
   {
    "duration": 742,
    "start_time": "2021-08-27T21:41:52.289Z"
   },
   {
    "duration": 280,
    "start_time": "2021-08-27T21:43:29.636Z"
   },
   {
    "duration": 305,
    "start_time": "2021-08-27T21:44:26.145Z"
   },
   {
    "duration": 95,
    "start_time": "2021-08-27T21:44:55.017Z"
   },
   {
    "duration": 7328,
    "start_time": "2021-08-27T21:45:26.443Z"
   },
   {
    "duration": 6830,
    "start_time": "2021-08-27T21:45:58.186Z"
   },
   {
    "duration": 293,
    "start_time": "2021-08-27T21:54:51.505Z"
   },
   {
    "duration": 6507,
    "start_time": "2021-08-27T21:55:29.158Z"
   },
   {
    "duration": 174,
    "start_time": "2021-08-27T21:55:43.794Z"
   },
   {
    "duration": 6502,
    "start_time": "2021-08-27T21:57:33.035Z"
   },
   {
    "duration": 109,
    "start_time": "2021-08-27T21:57:43.927Z"
   },
   {
    "duration": 105,
    "start_time": "2021-08-27T21:58:19.892Z"
   },
   {
    "duration": 116,
    "start_time": "2021-08-27T21:59:41.259Z"
   },
   {
    "duration": 13,
    "start_time": "2021-08-27T22:02:28.573Z"
   },
   {
    "duration": 31,
    "start_time": "2021-08-27T22:02:51.312Z"
   },
   {
    "duration": 87,
    "start_time": "2021-08-27T22:04:25.366Z"
   },
   {
    "duration": 14,
    "start_time": "2021-08-27T22:04:33.620Z"
   },
   {
    "duration": 11,
    "start_time": "2021-08-27T22:07:45.885Z"
   },
   {
    "duration": 1386,
    "start_time": "2021-08-29T00:51:54.403Z"
   },
   {
    "duration": 32,
    "start_time": "2021-08-29T00:51:58.576Z"
   },
   {
    "duration": 32,
    "start_time": "2021-08-29T02:43:31.808Z"
   },
   {
    "duration": 3,
    "start_time": "2021-08-29T02:43:39.310Z"
   },
   {
    "duration": 410,
    "start_time": "2021-08-29T02:43:41.911Z"
   },
   {
    "duration": 18,
    "start_time": "2021-08-29T02:43:51.112Z"
   },
   {
    "duration": 11,
    "start_time": "2021-08-29T02:44:00.679Z"
   },
   {
    "duration": 314,
    "start_time": "2021-08-29T02:51:35.409Z"
   },
   {
    "duration": 339,
    "start_time": "2021-08-29T03:00:09.036Z"
   },
   {
    "duration": 1660,
    "start_time": "2021-08-29T16:45:25.296Z"
   },
   {
    "duration": 18,
    "start_time": "2021-08-29T16:45:34.897Z"
   },
   {
    "duration": 2,
    "start_time": "2021-08-29T16:53:53.509Z"
   },
   {
    "duration": 21,
    "start_time": "2021-08-29T16:53:55.450Z"
   },
   {
    "duration": 1204,
    "start_time": "2021-08-29T16:54:00.859Z"
   },
   {
    "duration": 359,
    "start_time": "2021-08-29T16:54:31.246Z"
   },
   {
    "duration": 338,
    "start_time": "2021-08-29T16:54:45.717Z"
   },
   {
    "duration": 369,
    "start_time": "2021-08-29T16:55:30.280Z"
   },
   {
    "duration": 347,
    "start_time": "2021-08-29T16:56:49.768Z"
   },
   {
    "duration": 17,
    "start_time": "2021-08-29T16:57:43.184Z"
   },
   {
    "duration": 14,
    "start_time": "2021-08-29T16:58:01.465Z"
   },
   {
    "duration": 15,
    "start_time": "2021-08-29T16:58:11.326Z"
   },
   {
    "duration": 11,
    "start_time": "2021-08-29T16:58:42.239Z"
   },
   {
    "duration": 16,
    "start_time": "2021-08-29T16:59:08.213Z"
   },
   {
    "duration": 14,
    "start_time": "2021-08-29T16:59:17.752Z"
   },
   {
    "duration": 1452,
    "start_time": "2021-08-30T00:51:37.369Z"
   },
   {
    "duration": 3,
    "start_time": "2021-08-30T00:51:46.915Z"
   },
   {
    "duration": 174,
    "start_time": "2021-08-30T00:51:50.871Z"
   },
   {
    "duration": 164,
    "start_time": "2021-08-30T00:51:58.169Z"
   },
   {
    "duration": 121,
    "start_time": "2021-08-30T00:52:06.944Z"
   },
   {
    "duration": 5804,
    "start_time": "2021-08-30T00:53:46.531Z"
   },
   {
    "duration": 139,
    "start_time": "2021-08-30T00:54:08.810Z"
   },
   {
    "duration": 24,
    "start_time": "2021-08-30T01:07:49.941Z"
   },
   {
    "duration": 29,
    "start_time": "2021-08-30T01:08:30.927Z"
   },
   {
    "duration": 31,
    "start_time": "2021-08-30T01:08:58.891Z"
   },
   {
    "duration": 52,
    "start_time": "2021-08-30T01:10:49.881Z"
   },
   {
    "duration": 487,
    "start_time": "2021-08-30T01:12:32.277Z"
   },
   {
    "duration": 450,
    "start_time": "2021-08-30T01:13:39.254Z"
   },
   {
    "duration": 455,
    "start_time": "2021-08-30T01:14:12.579Z"
   },
   {
    "duration": 514,
    "start_time": "2021-08-30T01:14:23.052Z"
   },
   {
    "duration": 32,
    "start_time": "2021-08-30T01:36:28.621Z"
   },
   {
    "duration": 6,
    "start_time": "2021-08-30T01:37:39.151Z"
   },
   {
    "duration": 6583,
    "start_time": "2021-08-30T01:45:39.170Z"
   },
   {
    "duration": 6022,
    "start_time": "2021-08-30T01:45:49.306Z"
   },
   {
    "duration": 28,
    "start_time": "2021-08-30T01:46:08.452Z"
   },
   {
    "duration": 31,
    "start_time": "2021-08-30T01:46:39.379Z"
   },
   {
    "duration": 29,
    "start_time": "2021-08-30T01:46:57.925Z"
   },
   {
    "duration": 244,
    "start_time": "2021-08-30T01:48:02.506Z"
   },
   {
    "duration": 288,
    "start_time": "2021-08-30T01:48:21.454Z"
   },
   {
    "duration": 281,
    "start_time": "2021-08-30T01:49:02.182Z"
   },
   {
    "duration": 34,
    "start_time": "2021-08-30T01:49:30.540Z"
   },
   {
    "duration": 104,
    "start_time": "2021-08-30T01:50:02.160Z"
   },
   {
    "duration": 6,
    "start_time": "2021-08-30T01:50:32.708Z"
   },
   {
    "duration": 33,
    "start_time": "2021-08-30T01:50:41.029Z"
   },
   {
    "duration": 3,
    "start_time": "2021-08-30T01:50:47.424Z"
   },
   {
    "duration": 21,
    "start_time": "2021-08-30T01:50:50.120Z"
   },
   {
    "duration": 5899,
    "start_time": "2021-08-30T01:51:02.116Z"
   },
   {
    "duration": 32,
    "start_time": "2021-08-30T01:54:56.591Z"
   },
   {
    "duration": 31,
    "start_time": "2021-08-30T01:55:08.394Z"
   },
   {
    "duration": 37,
    "start_time": "2021-08-30T02:06:10.858Z"
   },
   {
    "duration": 38,
    "start_time": "2021-08-30T02:06:53.243Z"
   },
   {
    "duration": 42,
    "start_time": "2021-08-30T02:07:23.264Z"
   },
   {
    "duration": 40,
    "start_time": "2021-08-30T02:14:42.744Z"
   },
   {
    "duration": 41,
    "start_time": "2021-08-30T02:15:09.996Z"
   },
   {
    "duration": 1590,
    "start_time": "2021-08-30T21:28:42.186Z"
   },
   {
    "duration": 453,
    "start_time": "2021-08-30T21:28:59.872Z"
   },
   {
    "duration": 25,
    "start_time": "2021-08-30T21:29:10.598Z"
   },
   {
    "duration": 4,
    "start_time": "2021-08-30T21:29:14.806Z"
   },
   {
    "duration": 30,
    "start_time": "2021-08-30T21:39:31.003Z"
   },
   {
    "duration": 58,
    "start_time": "2021-08-30T21:39:40.295Z"
   },
   {
    "duration": 289,
    "start_time": "2021-08-30T21:45:46.693Z"
   },
   {
    "duration": 24,
    "start_time": "2021-08-30T21:46:10.985Z"
   },
   {
    "duration": 28,
    "start_time": "2021-08-30T22:02:37.378Z"
   },
   {
    "duration": 294,
    "start_time": "2021-08-30T22:35:58.678Z"
   },
   {
    "duration": 16,
    "start_time": "2021-08-30T22:36:18.790Z"
   },
   {
    "duration": 1060,
    "start_time": "2021-08-30T22:40:17.749Z"
   },
   {
    "duration": 16,
    "start_time": "2021-08-30T22:44:49.708Z"
   },
   {
    "duration": 19,
    "start_time": "2021-08-30T22:45:26.579Z"
   },
   {
    "duration": 539,
    "start_time": "2021-08-30T23:01:43.600Z"
   },
   {
    "duration": 64,
    "start_time": "2021-08-30T23:02:00.003Z"
   },
   {
    "duration": 50,
    "start_time": "2021-08-30T23:02:10.167Z"
   },
   {
    "duration": 47,
    "start_time": "2021-08-30T23:02:17.847Z"
   },
   {
    "duration": 293,
    "start_time": "2021-08-30T23:03:51.079Z"
   },
   {
    "duration": 25,
    "start_time": "2021-08-30T23:04:02.757Z"
   },
   {
    "duration": 467,
    "start_time": "2021-08-30T23:09:00.203Z"
   },
   {
    "duration": 12,
    "start_time": "2021-08-30T23:11:59.270Z"
   },
   {
    "duration": 6,
    "start_time": "2021-08-30T23:12:36.016Z"
   },
   {
    "duration": 11,
    "start_time": "2021-08-30T23:12:50.903Z"
   },
   {
    "duration": 11,
    "start_time": "2021-08-30T23:16:27.073Z"
   },
   {
    "duration": 270,
    "start_time": "2021-08-30T23:16:51.554Z"
   },
   {
    "duration": 92,
    "start_time": "2021-08-30T23:50:06.177Z"
   },
   {
    "duration": 276,
    "start_time": "2021-08-30T23:50:12.603Z"
   },
   {
    "duration": 10,
    "start_time": "2021-08-30T23:53:00.300Z"
   },
   {
    "duration": 8,
    "start_time": "2021-08-30T23:53:39.021Z"
   },
   {
    "duration": 8,
    "start_time": "2021-08-31T00:50:25.219Z"
   },
   {
    "duration": 456,
    "start_time": "2021-08-31T01:01:35.516Z"
   },
   {
    "duration": 11,
    "start_time": "2021-08-31T01:34:57.197Z"
   },
   {
    "duration": 21,
    "start_time": "2021-08-31T01:44:36.464Z"
   },
   {
    "duration": 1244,
    "start_time": "2021-08-31T19:06:50.364Z"
   },
   {
    "duration": 3,
    "start_time": "2021-08-31T19:08:31.219Z"
   },
   {
    "duration": 3,
    "start_time": "2021-08-31T19:16:50.146Z"
   },
   {
    "duration": 83,
    "start_time": "2021-08-31T19:17:01.239Z"
   },
   {
    "duration": 1174,
    "start_time": "2021-09-01T18:09:04.071Z"
   },
   {
    "duration": 2,
    "start_time": "2021-09-01T18:09:12.610Z"
   },
   {
    "duration": 14,
    "start_time": "2021-09-01T18:09:15.610Z"
   },
   {
    "duration": 91,
    "start_time": "2021-09-01T18:32:51.835Z"
   },
   {
    "duration": 10,
    "start_time": "2021-09-01T18:50:51.509Z"
   },
   {
    "duration": 320,
    "start_time": "2021-09-01T18:58:36.888Z"
   },
   {
    "duration": 374,
    "start_time": "2021-09-01T21:19:23.122Z"
   },
   {
    "duration": 1713,
    "start_time": "2021-09-02T17:39:58.259Z"
   },
   {
    "duration": 5,
    "start_time": "2021-09-02T17:40:02.020Z"
   },
   {
    "duration": 191,
    "start_time": "2021-09-02T17:43:42.495Z"
   },
   {
    "duration": 143,
    "start_time": "2021-09-02T17:43:57.404Z"
   },
   {
    "duration": 906,
    "start_time": "2021-09-02T17:45:14.894Z"
   },
   {
    "duration": 1068,
    "start_time": "2021-09-02T17:48:14.470Z"
   },
   {
    "duration": 775,
    "start_time": "2021-09-02T17:48:33.356Z"
   },
   {
    "duration": 1057,
    "start_time": "2021-09-02T17:50:30.724Z"
   },
   {
    "duration": 434,
    "start_time": "2021-09-02T17:57:52.355Z"
   },
   {
    "duration": 618,
    "start_time": "2021-09-02T17:57:59.385Z"
   },
   {
    "duration": 146,
    "start_time": "2021-09-02T17:58:08.805Z"
   },
   {
    "duration": 133,
    "start_time": "2021-09-02T17:58:49.473Z"
   },
   {
    "duration": 390,
    "start_time": "2021-09-02T18:00:46.769Z"
   },
   {
    "duration": 795,
    "start_time": "2021-09-02T18:01:06.489Z"
   },
   {
    "duration": 2677,
    "start_time": "2021-09-02T18:13:36.614Z"
   },
   {
    "duration": 28,
    "start_time": "2021-09-02T18:13:46.217Z"
   },
   {
    "duration": 22,
    "start_time": "2021-09-02T18:14:35.402Z"
   },
   {
    "duration": 947,
    "start_time": "2021-09-02T18:19:04.119Z"
   },
   {
    "duration": 622,
    "start_time": "2021-09-02T18:19:40.987Z"
   },
   {
    "duration": 2481,
    "start_time": "2021-09-02T18:20:30.328Z"
   },
   {
    "duration": 1505,
    "start_time": "2021-09-02T18:22:17.953Z"
   },
   {
    "duration": 527,
    "start_time": "2021-09-02T18:23:19.368Z"
   },
   {
    "duration": 548,
    "start_time": "2021-09-02T18:23:33.720Z"
   },
   {
    "duration": 405,
    "start_time": "2021-09-02T19:28:28.319Z"
   },
   {
    "duration": 42,
    "start_time": "2021-09-02T20:54:07.847Z"
   },
   {
    "duration": 34,
    "start_time": "2021-09-02T20:54:10.257Z"
   },
   {
    "duration": 4,
    "start_time": "2021-09-02T20:54:28.551Z"
   },
   {
    "duration": 20,
    "start_time": "2021-09-02T20:54:31.211Z"
   },
   {
    "duration": 250,
    "start_time": "2021-09-02T20:59:33.774Z"
   },
   {
    "duration": 113,
    "start_time": "2021-09-02T21:01:03.367Z"
   },
   {
    "duration": 113,
    "start_time": "2021-09-02T21:01:26.625Z"
   },
   {
    "duration": 110,
    "start_time": "2021-09-02T21:01:45.503Z"
   },
   {
    "duration": 119,
    "start_time": "2021-09-02T21:02:31.786Z"
   },
   {
    "duration": 491,
    "start_time": "2021-09-02T21:07:36.190Z"
   },
   {
    "duration": 498,
    "start_time": "2021-09-02T21:42:11.812Z"
   },
   {
    "duration": 1642,
    "start_time": "2021-09-03T01:34:53.221Z"
   },
   {
    "duration": 4,
    "start_time": "2021-09-03T01:34:57.718Z"
   },
   {
    "duration": 20,
    "start_time": "2021-09-03T01:35:00.009Z"
   },
   {
    "duration": 54,
    "start_time": "2021-09-03T01:35:40.168Z"
   },
   {
    "duration": 567,
    "start_time": "2021-09-03T01:36:20.732Z"
   },
   {
    "duration": 47,
    "start_time": "2021-09-03T01:45:38.398Z"
   },
   {
    "duration": 52,
    "start_time": "2021-09-03T01:48:34.375Z"
   },
   {
    "duration": 338,
    "start_time": "2021-09-03T01:49:06.864Z"
   },
   {
    "duration": 480,
    "start_time": "2021-09-03T01:49:12.019Z"
   },
   {
    "duration": 9,
    "start_time": "2021-09-03T01:49:16.528Z"
   },
   {
    "duration": 344,
    "start_time": "2021-09-03T01:50:38.690Z"
   },
   {
    "duration": 354,
    "start_time": "2021-09-03T01:51:18.066Z"
   },
   {
    "duration": 354,
    "start_time": "2021-09-03T01:52:37.987Z"
   },
   {
    "duration": 8,
    "start_time": "2021-09-03T01:52:53.187Z"
   },
   {
    "duration": 9,
    "start_time": "2021-09-03T01:53:24.466Z"
   },
   {
    "duration": 13,
    "start_time": "2021-09-03T01:54:00.118Z"
   },
   {
    "duration": 125,
    "start_time": "2021-09-03T01:57:28.028Z"
   },
   {
    "duration": 109,
    "start_time": "2021-09-03T01:57:46.910Z"
   },
   {
    "duration": 7,
    "start_time": "2021-09-03T01:57:53.772Z"
   },
   {
    "duration": 10,
    "start_time": "2021-09-03T01:58:10.742Z"
   },
   {
    "duration": 17,
    "start_time": "2021-09-03T01:59:00.510Z"
   },
   {
    "duration": 17,
    "start_time": "2021-09-03T01:59:44.317Z"
   },
   {
    "duration": 14,
    "start_time": "2021-09-03T01:59:53.509Z"
   },
   {
    "duration": 9,
    "start_time": "2021-09-03T02:01:15.775Z"
   },
   {
    "duration": 13,
    "start_time": "2021-09-03T02:01:32.097Z"
   },
   {
    "duration": 10,
    "start_time": "2021-09-03T02:01:40.296Z"
   },
   {
    "duration": 1537,
    "start_time": "2021-09-03T17:29:10.734Z"
   },
   {
    "duration": 4,
    "start_time": "2021-09-03T17:30:09.720Z"
   },
   {
    "duration": 391,
    "start_time": "2021-09-03T20:57:52.033Z"
   },
   {
    "duration": 34,
    "start_time": "2021-09-03T20:58:03.846Z"
   },
   {
    "duration": 272,
    "start_time": "2021-09-03T20:58:42.620Z"
   },
   {
    "duration": 32,
    "start_time": "2021-09-03T20:58:50.703Z"
   },
   {
    "duration": 30,
    "start_time": "2021-09-03T20:59:17.199Z"
   },
   {
    "duration": 39,
    "start_time": "2021-09-03T21:00:45.888Z"
   },
   {
    "duration": 371,
    "start_time": "2021-09-03T21:11:56.605Z"
   },
   {
    "duration": 1460,
    "start_time": "2021-09-04T20:32:50.206Z"
   },
   {
    "duration": 67,
    "start_time": "2021-09-04T20:33:18.571Z"
   },
   {
    "duration": 18,
    "start_time": "2021-09-04T20:33:27.204Z"
   },
   {
    "duration": 8,
    "start_time": "2021-09-04T20:33:56.986Z"
   },
   {
    "duration": 7,
    "start_time": "2021-09-04T20:35:24.592Z"
   },
   {
    "duration": -190,
    "start_time": "2021-09-04T20:37:28.490Z"
   },
   {
    "duration": 6425,
    "start_time": "2021-09-04T20:37:54.366Z"
   },
   {
    "duration": 6094,
    "start_time": "2021-09-04T20:38:27.891Z"
   },
   {
    "duration": 3,
    "start_time": "2021-09-04T20:40:40.146Z"
   },
   {
    "duration": 174,
    "start_time": "2021-09-04T20:40:44.044Z"
   },
   {
    "duration": 11,
    "start_time": "2021-09-04T20:48:39.825Z"
   },
   {
    "duration": 242,
    "start_time": "2021-09-04T20:56:57.413Z"
   },
   {
    "duration": 250,
    "start_time": "2021-09-04T20:57:31.535Z"
   },
   {
    "duration": 236,
    "start_time": "2021-09-04T20:57:43.232Z"
   },
   {
    "duration": 245,
    "start_time": "2021-09-04T20:58:37.224Z"
   },
   {
    "duration": 275,
    "start_time": "2021-09-04T20:59:02.318Z"
   },
   {
    "duration": 266,
    "start_time": "2021-09-04T21:10:29.580Z"
   },
   {
    "duration": 260,
    "start_time": "2021-09-04T21:10:50.700Z"
   },
   {
    "duration": 635,
    "start_time": "2021-09-04T21:11:04.803Z"
   },
   {
    "duration": 1015,
    "start_time": "2021-09-04T21:12:01.339Z"
   },
   {
    "duration": 727,
    "start_time": "2021-09-04T21:12:19.188Z"
   },
   {
    "duration": 615,
    "start_time": "2021-09-04T21:15:16.594Z"
   },
   {
    "duration": 279,
    "start_time": "2021-09-04T21:19:00.583Z"
   },
   {
    "duration": 382,
    "start_time": "2021-09-04T21:19:05.634Z"
   },
   {
    "duration": 372,
    "start_time": "2021-09-04T21:19:09.102Z"
   },
   {
    "duration": 84,
    "start_time": "2021-09-04T21:39:38.103Z"
   },
   {
    "duration": 1384,
    "start_time": "2021-09-04T21:40:13.457Z"
   },
   {
    "duration": 62,
    "start_time": "2021-09-04T21:40:49.831Z"
   },
   {
    "duration": 262,
    "start_time": "2021-09-04T21:49:44.740Z"
   },
   {
    "duration": 424,
    "start_time": "2021-09-04T21:49:51.693Z"
   },
   {
    "duration": 57,
    "start_time": "2021-09-04T21:50:03.517Z"
   },
   {
    "duration": 531,
    "start_time": "2021-09-04T21:50:09.095Z"
   },
   {
    "duration": 9,
    "start_time": "2021-09-04T21:50:15.636Z"
   },
   {
    "duration": 5901,
    "start_time": "2021-09-04T21:50:23.971Z"
   },
   {
    "duration": 270,
    "start_time": "2021-09-04T22:18:32.369Z"
   },
   {
    "duration": 11,
    "start_time": "2021-09-04T22:18:34.665Z"
   },
   {
    "duration": 24,
    "start_time": "2021-09-04T22:18:39.503Z"
   },
   {
    "duration": 277,
    "start_time": "2021-09-04T22:24:51.759Z"
   },
   {
    "duration": 236,
    "start_time": "2021-09-04T22:25:03.124Z"
   },
   {
    "duration": 600,
    "start_time": "2021-09-04T22:25:12.064Z"
   },
   {
    "duration": 1476,
    "start_time": "2021-09-05T22:34:37.481Z"
   },
   {
    "duration": 25,
    "start_time": "2021-09-05T22:34:39.617Z"
   },
   {
    "duration": 14,
    "start_time": "2021-09-05T22:34:51.441Z"
   },
   {
    "duration": 4,
    "start_time": "2021-09-05T22:34:53.536Z"
   },
   {
    "duration": 19,
    "start_time": "2021-09-05T22:34:56.679Z"
   },
   {
    "duration": 14,
    "start_time": "2021-09-05T22:35:06.030Z"
   },
   {
    "duration": 175,
    "start_time": "2021-09-05T22:43:35.518Z"
   },
   {
    "duration": 111,
    "start_time": "2021-09-05T22:45:04.611Z"
   },
   {
    "duration": 279,
    "start_time": "2021-09-05T22:46:33.242Z"
   },
   {
    "duration": 320,
    "start_time": "2021-09-05T22:47:15.485Z"
   },
   {
    "duration": 789,
    "start_time": "2021-09-05T22:48:02.193Z"
   },
   {
    "duration": 353,
    "start_time": "2021-09-05T22:50:48.501Z"
   },
   {
    "duration": 579,
    "start_time": "2021-09-05T22:51:07.041Z"
   },
   {
    "duration": 449,
    "start_time": "2021-09-05T22:54:04.128Z"
   },
   {
    "duration": 463,
    "start_time": "2021-09-05T22:54:48.164Z"
   },
   {
    "duration": 441,
    "start_time": "2021-09-05T22:55:21.230Z"
   },
   {
    "duration": 518,
    "start_time": "2021-09-05T23:07:55.804Z"
   },
   {
    "duration": 428,
    "start_time": "2021-09-05T23:08:05.678Z"
   },
   {
    "duration": 59,
    "start_time": "2021-09-05T23:11:14.761Z"
   },
   {
    "duration": 594,
    "start_time": "2021-09-05T23:12:37.633Z"
   },
   {
    "duration": 559,
    "start_time": "2021-09-05T23:13:10.557Z"
   },
   {
    "duration": 8,
    "start_time": "2021-09-05T23:14:02.472Z"
   },
   {
    "duration": 9,
    "start_time": "2021-09-05T23:14:08.351Z"
   },
   {
    "duration": 557,
    "start_time": "2021-09-05T23:14:11.889Z"
   },
   {
    "duration": 597,
    "start_time": "2021-09-05T23:16:59.631Z"
   },
   {
    "duration": 1429,
    "start_time": "2021-09-06T02:47:58.944Z"
   },
   {
    "duration": 28,
    "start_time": "2021-09-06T02:48:00.936Z"
   },
   {
    "duration": 15,
    "start_time": "2021-09-06T02:48:05.351Z"
   },
   {
    "duration": 4,
    "start_time": "2021-09-06T02:48:07.248Z"
   },
   {
    "duration": 4,
    "start_time": "2021-09-06T02:48:09.503Z"
   },
   {
    "duration": 22,
    "start_time": "2021-09-06T02:48:11.471Z"
   },
   {
    "duration": 10,
    "start_time": "2021-09-06T02:48:14.609Z"
   },
   {
    "duration": 14,
    "start_time": "2021-09-06T02:48:17.099Z"
   },
   {
    "duration": 9,
    "start_time": "2021-09-06T02:48:19.487Z"
   },
   {
    "duration": 163,
    "start_time": "2021-09-06T02:48:39.135Z"
   },
   {
    "duration": 113,
    "start_time": "2021-09-06T02:48:52.901Z"
   },
   {
    "duration": 416,
    "start_time": "2021-09-06T02:54:48.457Z"
   },
   {
    "duration": 610,
    "start_time": "2021-09-06T02:55:48.009Z"
   },
   {
    "duration": 397,
    "start_time": "2021-09-06T02:58:43.726Z"
   },
   {
    "duration": 66,
    "start_time": "2021-09-06T03:02:15.257Z"
   },
   {
    "duration": 398,
    "start_time": "2021-09-06T03:02:26.346Z"
   },
   {
    "duration": 506,
    "start_time": "2021-09-06T03:03:10.080Z"
   },
   {
    "duration": 503,
    "start_time": "2021-09-06T03:03:18.703Z"
   },
   {
    "duration": 343,
    "start_time": "2021-09-06T03:05:46.151Z"
   },
   {
    "duration": 509,
    "start_time": "2021-09-06T03:06:08.377Z"
   },
   {
    "duration": 516,
    "start_time": "2021-09-06T03:06:20.998Z"
   },
   {
    "duration": 490,
    "start_time": "2021-09-06T03:06:47.313Z"
   },
   {
    "duration": 61,
    "start_time": "2021-09-06T03:07:22.759Z"
   },
   {
    "duration": 62,
    "start_time": "2021-09-06T03:07:46.417Z"
   },
   {
    "duration": 52,
    "start_time": "2021-09-06T03:07:54.014Z"
   },
   {
    "duration": 95,
    "start_time": "2021-09-06T03:10:27.052Z"
   },
   {
    "duration": 9,
    "start_time": "2021-09-06T03:10:33.030Z"
   },
   {
    "duration": 270,
    "start_time": "2021-09-06T03:10:40.001Z"
   },
   {
    "duration": 267,
    "start_time": "2021-09-06T03:11:06.098Z"
   },
   {
    "duration": 10,
    "start_time": "2021-09-06T03:11:33.741Z"
   },
   {
    "duration": 568,
    "start_time": "2021-09-06T03:11:36.893Z"
   },
   {
    "duration": 1678,
    "start_time": "2021-09-06T16:09:30.619Z"
   },
   {
    "duration": 25,
    "start_time": "2021-09-06T16:09:33.155Z"
   },
   {
    "duration": 14,
    "start_time": "2021-09-06T16:09:37.530Z"
   },
   {
    "duration": 4,
    "start_time": "2021-09-06T16:09:39.345Z"
   },
   {
    "duration": 20,
    "start_time": "2021-09-06T16:09:41.013Z"
   },
   {
    "duration": 10,
    "start_time": "2021-09-06T16:09:42.841Z"
   },
   {
    "duration": 17,
    "start_time": "2021-09-06T16:09:45.655Z"
   },
   {
    "duration": 11,
    "start_time": "2021-09-06T16:09:48.083Z"
   },
   {
    "duration": 189,
    "start_time": "2021-09-06T16:10:22.661Z"
   },
   {
    "duration": 122,
    "start_time": "2021-09-06T16:10:29.587Z"
   },
   {
    "duration": 445,
    "start_time": "2021-09-06T16:10:38.131Z"
   },
   {
    "duration": 641,
    "start_time": "2021-09-06T16:11:59.426Z"
   },
   {
    "duration": 62,
    "start_time": "2021-09-06T16:15:50.180Z"
   },
   {
    "duration": 738,
    "start_time": "2021-09-06T16:15:53.165Z"
   },
   {
    "duration": 12,
    "start_time": "2021-09-06T16:20:02.261Z"
   },
   {
    "duration": 10,
    "start_time": "2021-09-06T16:20:06.658Z"
   },
   {
    "duration": 593,
    "start_time": "2021-09-06T16:20:08.284Z"
   },
   {
    "duration": 1477,
    "start_time": "2021-09-06T22:24:02.481Z"
   },
   {
    "duration": 36,
    "start_time": "2021-09-06T22:27:19.305Z"
   },
   {
    "duration": 36,
    "start_time": "2021-09-06T22:29:25.225Z"
   },
   {
    "duration": 37,
    "start_time": "2021-09-06T22:29:43.793Z"
   },
   {
    "duration": 4,
    "start_time": "2021-09-06T22:29:56.462Z"
   },
   {
    "duration": 14,
    "start_time": "2021-09-06T22:29:58.628Z"
   },
   {
    "duration": 20,
    "start_time": "2021-09-06T22:30:00.463Z"
   },
   {
    "duration": 12,
    "start_time": "2021-09-06T22:30:02.308Z"
   },
   {
    "duration": 16,
    "start_time": "2021-09-06T22:30:05.153Z"
   },
   {
    "duration": 19,
    "start_time": "2021-09-06T22:40:15.231Z"
   },
   {
    "duration": 9,
    "start_time": "2021-09-06T22:40:17.358Z"
   },
   {
    "duration": 15,
    "start_time": "2021-09-06T22:40:19.797Z"
   },
   {
    "duration": 8,
    "start_time": "2021-09-06T22:40:22.184Z"
   },
   {
    "duration": 179,
    "start_time": "2021-09-06T22:40:26.535Z"
   },
   {
    "duration": 116,
    "start_time": "2021-09-06T22:40:29.975Z"
   },
   {
    "duration": 425,
    "start_time": "2021-09-06T22:47:01.016Z"
   },
   {
    "duration": 778,
    "start_time": "2021-09-06T22:47:07.359Z"
   },
   {
    "duration": 401,
    "start_time": "2021-09-06T22:49:53.802Z"
   },
   {
    "duration": 55,
    "start_time": "2021-09-06T22:50:27.386Z"
   },
   {
    "duration": 543,
    "start_time": "2021-09-06T22:50:31.138Z"
   },
   {
    "duration": 127,
    "start_time": "2021-09-06T22:51:27.610Z"
   },
   {
    "duration": 510,
    "start_time": "2021-09-06T22:51:37.265Z"
   },
   {
    "duration": 457,
    "start_time": "2021-09-06T22:52:18.455Z"
   },
   {
    "duration": 57,
    "start_time": "2021-09-06T22:52:26.367Z"
   },
   {
    "duration": 525,
    "start_time": "2021-09-06T22:52:31.778Z"
   },
   {
    "duration": 8,
    "start_time": "2021-09-06T22:57:58.094Z"
   },
   {
    "duration": 11,
    "start_time": "2021-09-06T22:58:00.592Z"
   },
   {
    "duration": 10,
    "start_time": "2021-09-06T22:58:03.562Z"
   },
   {
    "duration": 559,
    "start_time": "2021-09-06T22:58:04.340Z"
   },
   {
    "duration": 2110,
    "start_time": "2021-09-07T08:16:25.329Z"
   },
   {
    "duration": 15,
    "start_time": "2021-09-07T08:16:27.441Z"
   },
   {
    "duration": 8,
    "start_time": "2021-09-07T08:16:27.458Z"
   },
   {
    "duration": 2,
    "start_time": "2021-09-07T08:16:27.468Z"
   },
   {
    "duration": 19,
    "start_time": "2021-09-07T08:16:27.471Z"
   },
   {
    "duration": 7,
    "start_time": "2021-09-07T08:16:27.491Z"
   },
   {
    "duration": 8,
    "start_time": "2021-09-07T08:16:27.500Z"
   },
   {
    "duration": 8,
    "start_time": "2021-09-07T08:16:27.509Z"
   },
   {
    "duration": 142,
    "start_time": "2021-09-07T08:16:27.519Z"
   },
   {
    "duration": 86,
    "start_time": "2021-09-07T08:16:27.663Z"
   },
   {
    "duration": 288,
    "start_time": "2021-09-07T08:16:27.751Z"
   },
   {
    "duration": 561,
    "start_time": "2021-09-07T08:16:28.040Z"
   },
   {
    "duration": 492,
    "start_time": "2021-09-07T08:16:28.603Z"
   },
   {
    "duration": 512,
    "start_time": "2021-09-07T08:16:29.096Z"
   },
   {
    "duration": 149,
    "start_time": "2021-09-07T08:16:29.610Z"
   },
   {
    "duration": 448,
    "start_time": "2021-09-07T08:16:29.761Z"
   },
   {
    "duration": 6,
    "start_time": "2021-09-07T08:16:30.210Z"
   },
   {
    "duration": 8,
    "start_time": "2021-09-07T08:16:30.218Z"
   },
   {
    "duration": 359,
    "start_time": "2021-09-07T08:16:30.227Z"
   },
   {
    "duration": 60,
    "start_time": "2021-09-07T08:16:30.588Z"
   },
   {
    "duration": 1457,
    "start_time": "2021-09-07T16:36:48.787Z"
   },
   {
    "duration": 13,
    "start_time": "2021-09-07T16:37:18.189Z"
   },
   {
    "duration": 13,
    "start_time": "2021-09-07T16:47:33.499Z"
   },
   {
    "duration": 9,
    "start_time": "2021-09-07T16:47:35.784Z"
   },
   {
    "duration": 17,
    "start_time": "2021-09-07T16:52:17.887Z"
   },
   {
    "duration": 9,
    "start_time": "2021-09-07T16:52:20.300Z"
   },
   {
    "duration": 124,
    "start_time": "2021-09-07T17:07:23.153Z"
   },
   {
    "duration": 775,
    "start_time": "2021-09-07T17:33:35.972Z"
   },
   {
    "duration": 281,
    "start_time": "2021-09-07T17:33:49.310Z"
   },
   {
    "duration": 246,
    "start_time": "2021-09-07T17:34:06.390Z"
   },
   {
    "duration": 5975,
    "start_time": "2021-09-07T17:34:29.060Z"
   },
   {
    "duration": 34,
    "start_time": "2021-09-07T17:34:53.061Z"
   },
   {
    "duration": 20,
    "start_time": "2021-09-07T17:34:59.540Z"
   },
   {
    "duration": 12,
    "start_time": "2021-09-07T17:35:02.383Z"
   },
   {
    "duration": 15,
    "start_time": "2021-09-07T17:35:04.927Z"
   },
   {
    "duration": 4,
    "start_time": "2021-09-07T17:35:09.978Z"
   },
   {
    "duration": 4,
    "start_time": "2021-09-07T17:35:13.087Z"
   },
   {
    "duration": 20,
    "start_time": "2021-09-07T17:35:15.047Z"
   },
   {
    "duration": 10,
    "start_time": "2021-09-07T17:35:19.684Z"
   },
   {
    "duration": 171,
    "start_time": "2021-09-07T17:35:22.681Z"
   },
   {
    "duration": 116,
    "start_time": "2021-09-07T17:35:28.293Z"
   },
   {
    "duration": 470,
    "start_time": "2021-09-07T17:35:38.309Z"
   },
   {
    "duration": 594,
    "start_time": "2021-09-07T17:35:47.724Z"
   },
   {
    "duration": 686,
    "start_time": "2021-09-07T17:46:06.569Z"
   },
   {
    "duration": 997,
    "start_time": "2021-09-07T17:50:06.397Z"
   },
   {
    "duration": 671,
    "start_time": "2021-09-07T17:50:18.794Z"
   },
   {
    "duration": 769,
    "start_time": "2021-09-07T17:51:59.821Z"
   },
   {
    "duration": 261,
    "start_time": "2021-09-07T17:52:59.859Z"
   },
   {
    "duration": 278,
    "start_time": "2021-09-07T17:53:44.658Z"
   },
   {
    "duration": 397,
    "start_time": "2021-09-07T17:53:53.934Z"
   },
   {
    "duration": 413,
    "start_time": "2021-09-07T17:53:57.939Z"
   },
   {
    "duration": 327,
    "start_time": "2021-09-07T18:02:32.614Z"
   },
   {
    "duration": 13,
    "start_time": "2021-09-07T18:02:40.617Z"
   },
   {
    "duration": 226,
    "start_time": "2021-09-07T18:15:14.873Z"
   },
   {
    "duration": 246,
    "start_time": "2021-09-07T18:17:25.750Z"
   },
   {
    "duration": 283,
    "start_time": "2021-09-07T18:23:31.595Z"
   },
   {
    "duration": 223,
    "start_time": "2021-09-07T18:28:39.763Z"
   },
   {
    "duration": 36,
    "start_time": "2021-09-07T18:31:40.064Z"
   },
   {
    "duration": 20,
    "start_time": "2021-09-07T18:31:43.140Z"
   },
   {
    "duration": 9,
    "start_time": "2021-09-07T18:31:47.198Z"
   },
   {
    "duration": 4,
    "start_time": "2021-09-07T18:31:52.902Z"
   },
   {
    "duration": 15,
    "start_time": "2021-09-07T18:31:56.325Z"
   },
   {
    "duration": 9,
    "start_time": "2021-09-07T18:31:58.756Z"
   },
   {
    "duration": 15,
    "start_time": "2021-09-07T18:32:00.526Z"
   },
   {
    "duration": 187,
    "start_time": "2021-09-07T18:32:04.297Z"
   },
   {
    "duration": 121,
    "start_time": "2021-09-07T18:32:09.132Z"
   },
   {
    "duration": 483,
    "start_time": "2021-09-07T18:32:13.240Z"
   },
   {
    "duration": 486,
    "start_time": "2021-09-07T18:32:25.369Z"
   },
   {
    "duration": 762,
    "start_time": "2021-09-07T18:32:30.711Z"
   },
   {
    "duration": 420,
    "start_time": "2021-09-07T18:32:36.913Z"
   },
   {
    "duration": 652,
    "start_time": "2021-09-07T18:32:43.677Z"
   },
   {
    "duration": 119,
    "start_time": "2021-09-07T18:33:08.105Z"
   },
   {
    "duration": 416,
    "start_time": "2021-09-07T18:34:25.749Z"
   },
   {
    "duration": 216,
    "start_time": "2021-09-07T18:44:05.871Z"
   },
   {
    "duration": 315,
    "start_time": "2021-09-07T18:47:18.750Z"
   },
   {
    "duration": 1454,
    "start_time": "2021-09-07T18:49:52.810Z"
   },
   {
    "duration": 26,
    "start_time": "2021-09-07T18:49:56.315Z"
   },
   {
    "duration": 11,
    "start_time": "2021-09-07T18:49:59.896Z"
   },
   {
    "duration": 4,
    "start_time": "2021-09-07T18:50:03.984Z"
   },
   {
    "duration": 23,
    "start_time": "2021-09-07T18:50:07.259Z"
   },
   {
    "duration": 12,
    "start_time": "2021-09-07T18:50:09.576Z"
   },
   {
    "duration": 22,
    "start_time": "2021-09-07T18:50:11.521Z"
   },
   {
    "duration": 274,
    "start_time": "2021-09-07T18:50:14.828Z"
   },
   {
    "duration": 153,
    "start_time": "2021-09-07T18:50:18.345Z"
   },
   {
    "duration": 696,
    "start_time": "2021-09-07T18:50:21.932Z"
   },
   {
    "duration": 1103,
    "start_time": "2021-09-07T18:50:25.978Z"
   },
   {
    "duration": 411,
    "start_time": "2021-09-07T18:50:29.773Z"
   },
   {
    "duration": 368,
    "start_time": "2021-09-07T18:50:36.611Z"
   },
   {
    "duration": 8006,
    "start_time": "2021-09-07T18:57:02.549Z"
   },
   {
    "duration": 20,
    "start_time": "2021-09-07T18:57:59.253Z"
   },
   {
    "duration": 5141,
    "start_time": "2021-09-07T18:58:49.773Z"
   },
   {
    "duration": 47,
    "start_time": "2021-09-07T18:59:18.297Z"
   },
   {
    "duration": 5675,
    "start_time": "2021-09-07T19:23:36.021Z"
   },
   {
    "duration": 2674,
    "start_time": "2021-09-07T19:23:47.528Z"
   },
   {
    "duration": 2201,
    "start_time": "2021-09-07T19:57:15.438Z"
   },
   {
    "duration": 2120,
    "start_time": "2021-09-07T19:57:22.931Z"
   },
   {
    "duration": 43,
    "start_time": "2021-09-07T19:57:27.295Z"
   },
   {
    "duration": 1492,
    "start_time": "2021-09-08T00:01:34.710Z"
   },
   {
    "duration": 26,
    "start_time": "2021-09-08T00:01:38.280Z"
   },
   {
    "duration": 10,
    "start_time": "2021-09-08T00:01:41.908Z"
   },
   {
    "duration": 5,
    "start_time": "2021-09-08T00:01:47.605Z"
   },
   {
    "duration": 15,
    "start_time": "2021-09-08T00:01:51.849Z"
   },
   {
    "duration": 11,
    "start_time": "2021-09-08T00:01:54.203Z"
   },
   {
    "duration": 14,
    "start_time": "2021-09-08T00:01:56.425Z"
   },
   {
    "duration": 192,
    "start_time": "2021-09-08T00:01:59.583Z"
   },
   {
    "duration": 124,
    "start_time": "2021-09-08T00:02:03.280Z"
   },
   {
    "duration": 485,
    "start_time": "2021-09-08T00:02:07.238Z"
   },
   {
    "duration": 850,
    "start_time": "2021-09-08T00:02:11.452Z"
   },
   {
    "duration": 435,
    "start_time": "2021-09-08T00:02:17.136Z"
   },
   {
    "duration": 457,
    "start_time": "2021-09-08T00:02:31.479Z"
   },
   {
    "duration": 8782,
    "start_time": "2021-09-08T00:02:37.768Z"
   },
   {
    "duration": 2377,
    "start_time": "2021-09-08T00:02:49.713Z"
   },
   {
    "duration": 2422,
    "start_time": "2021-09-08T00:03:34.590Z"
   },
   {
    "duration": 2437,
    "start_time": "2021-09-08T00:04:33.920Z"
   },
   {
    "duration": 2355,
    "start_time": "2021-09-08T00:04:46.766Z"
   },
   {
    "duration": 2408,
    "start_time": "2021-09-08T00:05:18.344Z"
   },
   {
    "duration": 2449,
    "start_time": "2021-09-08T00:06:03.900Z"
   },
   {
    "duration": 2445,
    "start_time": "2021-09-08T00:06:15.249Z"
   },
   {
    "duration": 2357,
    "start_time": "2021-09-08T00:06:38.584Z"
   },
   {
    "duration": 2323,
    "start_time": "2021-09-08T00:09:09.640Z"
   },
   {
    "duration": 2445,
    "start_time": "2021-09-08T00:09:52.025Z"
   },
   {
    "duration": 2444,
    "start_time": "2021-09-08T00:20:54.991Z"
   },
   {
    "duration": 4915,
    "start_time": "2021-09-08T00:22:24.792Z"
   },
   {
    "duration": 4725,
    "start_time": "2021-09-08T00:22:44.119Z"
   },
   {
    "duration": 5297,
    "start_time": "2021-09-08T00:23:16.056Z"
   },
   {
    "duration": 2323,
    "start_time": "2021-09-08T00:23:41.598Z"
   },
   {
    "duration": 2465,
    "start_time": "2021-09-08T00:24:02.439Z"
   },
   {
    "duration": 2356,
    "start_time": "2021-09-08T00:24:49.449Z"
   },
   {
    "duration": 2625,
    "start_time": "2021-09-08T00:25:33.221Z"
   },
   {
    "duration": 2554,
    "start_time": "2021-09-08T00:28:14.313Z"
   },
   {
    "duration": 2407,
    "start_time": "2021-09-08T00:28:23.647Z"
   },
   {
    "duration": 2399,
    "start_time": "2021-09-08T00:29:37.329Z"
   },
   {
    "duration": 2373,
    "start_time": "2021-09-08T00:30:18.746Z"
   },
   {
    "duration": 2512,
    "start_time": "2021-09-08T00:31:34.569Z"
   },
   {
    "duration": 1807,
    "start_time": "2021-09-08T00:40:44.867Z"
   },
   {
    "duration": 1729,
    "start_time": "2021-09-08T00:41:07.562Z"
   },
   {
    "duration": 2297,
    "start_time": "2021-09-08T00:41:56.142Z"
   },
   {
    "duration": 2325,
    "start_time": "2021-09-08T00:42:25.580Z"
   },
   {
    "duration": 2331,
    "start_time": "2021-09-08T00:43:02.039Z"
   },
   {
    "duration": 2414,
    "start_time": "2021-09-08T00:43:34.618Z"
   },
   {
    "duration": 2307,
    "start_time": "2021-09-08T00:45:17.313Z"
   },
   {
    "duration": 2299,
    "start_time": "2021-09-08T00:51:02.658Z"
   },
   {
    "duration": 2340,
    "start_time": "2021-09-08T00:54:38.080Z"
   },
   {
    "duration": 2436,
    "start_time": "2021-09-08T00:55:09.555Z"
   },
   {
    "duration": 2425,
    "start_time": "2021-09-08T00:55:22.377Z"
   },
   {
    "duration": 2359,
    "start_time": "2021-09-08T00:56:06.233Z"
   },
   {
    "duration": 2593,
    "start_time": "2021-09-08T00:56:40.627Z"
   },
   {
    "duration": 2424,
    "start_time": "2021-09-08T00:59:49.577Z"
   },
   {
    "duration": 2671,
    "start_time": "2021-09-08T01:02:03.897Z"
   },
   {
    "duration": 2435,
    "start_time": "2021-09-08T01:11:55.165Z"
   },
   {
    "duration": 2481,
    "start_time": "2021-09-08T01:12:32.359Z"
   },
   {
    "duration": 2420,
    "start_time": "2021-09-08T01:13:26.760Z"
   },
   {
    "duration": 2366,
    "start_time": "2021-09-08T01:16:18.943Z"
   },
   {
    "duration": 2483,
    "start_time": "2021-09-08T01:20:39.219Z"
   },
   {
    "duration": 2206,
    "start_time": "2021-09-08T01:22:06.646Z"
   },
   {
    "duration": 2634,
    "start_time": "2021-09-08T01:23:19.327Z"
   },
   {
    "duration": 96,
    "start_time": "2021-09-08T01:28:28.637Z"
   },
   {
    "duration": 97,
    "start_time": "2021-09-08T01:29:11.083Z"
   },
   {
    "duration": 2370,
    "start_time": "2021-09-08T01:31:08.675Z"
   },
   {
    "duration": 2487,
    "start_time": "2021-09-08T01:32:49.345Z"
   },
   {
    "duration": 1747,
    "start_time": "2021-09-08T16:32:19.921Z"
   },
   {
    "duration": 10702,
    "start_time": "2021-09-08T16:33:49.335Z"
   },
   {
    "duration": -709,
    "start_time": "2021-09-08T16:34:00.750Z"
   },
   {
    "duration": -711,
    "start_time": "2021-09-08T16:34:00.754Z"
   },
   {
    "duration": 390,
    "start_time": "2021-09-08T16:34:02.245Z"
   },
   {
    "duration": 4,
    "start_time": "2021-09-08T16:34:34.181Z"
   },
   {
    "duration": 198,
    "start_time": "2021-09-08T16:34:36.712Z"
   },
   {
    "duration": 128,
    "start_time": "2021-09-08T16:34:40.593Z"
   },
   {
    "duration": 524,
    "start_time": "2021-09-08T16:34:45.060Z"
   },
   {
    "duration": 753,
    "start_time": "2021-09-08T16:34:54.535Z"
   },
   {
    "duration": 755,
    "start_time": "2021-09-08T16:39:20.851Z"
   },
   {
    "duration": 119,
    "start_time": "2021-09-08T16:39:38.925Z"
   },
   {
    "duration": 798,
    "start_time": "2021-09-08T16:39:45.774Z"
   },
   {
    "duration": 810,
    "start_time": "2021-09-08T16:39:53.469Z"
   },
   {
    "duration": 482,
    "start_time": "2021-09-08T16:40:17.624Z"
   },
   {
    "duration": 8728,
    "start_time": "2021-09-08T16:40:42.169Z"
   },
   {
    "duration": 390,
    "start_time": "2021-09-08T16:42:46.556Z"
   },
   {
    "duration": 8824,
    "start_time": "2021-09-08T16:42:57.081Z"
   },
   {
    "duration": 8762,
    "start_time": "2021-09-08T16:44:06.640Z"
   },
   {
    "duration": 132,
    "start_time": "2021-09-08T16:45:12.641Z"
   },
   {
    "duration": 25,
    "start_time": "2021-09-08T16:53:28.778Z"
   },
   {
    "duration": 24,
    "start_time": "2021-09-08T16:54:58.809Z"
   },
   {
    "duration": 111,
    "start_time": "2021-09-08T16:56:20.111Z"
   },
   {
    "duration": 32,
    "start_time": "2021-09-08T16:56:25.568Z"
   },
   {
    "duration": 5374,
    "start_time": "2021-09-08T17:06:44.206Z"
   },
   {
    "duration": 2221,
    "start_time": "2021-09-08T17:06:52.890Z"
   },
   {
    "duration": 11125,
    "start_time": "2021-09-08T17:07:26.561Z"
   },
   {
    "duration": 2353,
    "start_time": "2021-09-08T17:07:48.443Z"
   },
   {
    "duration": 2379,
    "start_time": "2021-09-08T17:08:10.605Z"
   },
   {
    "duration": 38,
    "start_time": "2021-09-08T17:27:28.017Z"
   },
   {
    "duration": 22,
    "start_time": "2021-09-08T17:27:32.514Z"
   },
   {
    "duration": 11,
    "start_time": "2021-09-08T17:27:41.854Z"
   },
   {
    "duration": 10,
    "start_time": "2021-09-08T17:28:33.381Z"
   },
   {
    "duration": 15,
    "start_time": "2021-09-08T17:28:41.017Z"
   },
   {
    "duration": 9,
    "start_time": "2021-09-08T17:28:44.279Z"
   },
   {
    "duration": 4,
    "start_time": "2021-09-08T17:28:46.541Z"
   },
   {
    "duration": 118,
    "start_time": "2021-09-08T17:28:54.178Z"
   },
   {
    "duration": 492,
    "start_time": "2021-09-08T17:28:57.628Z"
   },
   {
    "duration": 424,
    "start_time": "2021-09-08T17:29:04.089Z"
   },
   {
    "duration": 8,
    "start_time": "2021-09-08T17:29:30.302Z"
   },
   {
    "duration": 7,
    "start_time": "2021-09-08T17:30:31.601Z"
   },
   {
    "duration": 2053,
    "start_time": "2021-09-08T17:30:34.247Z"
   },
   {
    "duration": 7,
    "start_time": "2021-09-08T17:31:22.869Z"
   },
   {
    "duration": 42,
    "start_time": "2021-09-08T17:31:27.694Z"
   },
   {
    "duration": 8793,
    "start_time": "2021-09-08T17:32:00.779Z"
   },
   {
    "duration": 59,
    "start_time": "2021-09-08T17:32:25.126Z"
   },
   {
    "duration": 43,
    "start_time": "2021-09-08T17:34:00.927Z"
   },
   {
    "duration": 8952,
    "start_time": "2021-09-08T17:38:15.798Z"
   },
   {
    "duration": 24987,
    "start_time": "2021-09-08T17:38:40.006Z"
   },
   {
    "duration": 8,
    "start_time": "2021-09-08T17:43:50.521Z"
   },
   {
    "duration": 9042,
    "start_time": "2021-09-08T17:43:53.876Z"
   },
   {
    "duration": 48,
    "start_time": "2021-09-08T17:44:29.058Z"
   },
   {
    "duration": 48,
    "start_time": "2021-09-08T17:45:32.946Z"
   },
   {
    "duration": 8589,
    "start_time": "2021-09-08T17:45:55.517Z"
   },
   {
    "duration": 10014,
    "start_time": "2021-09-08T17:46:06.810Z"
   },
   {
    "duration": 56,
    "start_time": "2021-09-08T17:47:16.674Z"
   },
   {
    "duration": 64,
    "start_time": "2021-09-08T17:48:12.383Z"
   },
   {
    "duration": 64,
    "start_time": "2021-09-08T17:48:28.399Z"
   },
   {
    "duration": 524,
    "start_time": "2021-09-08T17:48:47.743Z"
   },
   {
    "duration": 8,
    "start_time": "2021-09-08T17:48:58.910Z"
   },
   {
    "duration": 406,
    "start_time": "2021-09-08T17:50:03.521Z"
   },
   {
    "duration": 397,
    "start_time": "2021-09-08T18:01:20.827Z"
   },
   {
    "duration": 13,
    "start_time": "2021-09-08T18:04:04.475Z"
   },
   {
    "duration": 16,
    "start_time": "2021-09-08T18:09:31.940Z"
   },
   {
    "duration": 9,
    "start_time": "2021-09-08T18:10:38.279Z"
   },
   {
    "duration": 351,
    "start_time": "2021-09-08T18:27:05.201Z"
   },
   {
    "duration": 22,
    "start_time": "2021-09-08T18:28:07.757Z"
   },
   {
    "duration": 7,
    "start_time": "2021-09-08T18:33:23.555Z"
   },
   {
    "duration": 8425,
    "start_time": "2021-09-08T18:33:32.414Z"
   },
   {
    "duration": 6,
    "start_time": "2021-09-08T18:33:58.336Z"
   },
   {
    "duration": 9,
    "start_time": "2021-09-08T18:40:12.654Z"
   },
   {
    "duration": 6,
    "start_time": "2021-09-08T18:40:29.890Z"
   },
   {
    "duration": 8753,
    "start_time": "2021-09-08T18:42:27.725Z"
   },
   {
    "duration": 30,
    "start_time": "2021-09-08T18:43:12.618Z"
   },
   {
    "duration": 564,
    "start_time": "2021-09-08T18:44:09.947Z"
   },
   {
    "duration": 566,
    "start_time": "2021-09-08T18:51:29.707Z"
   },
   {
    "duration": 647,
    "start_time": "2021-09-08T18:52:01.416Z"
   },
   {
    "duration": 8567,
    "start_time": "2021-09-08T18:53:40.314Z"
   },
   {
    "duration": 35,
    "start_time": "2021-09-08T18:53:58.908Z"
   },
   {
    "duration": 30,
    "start_time": "2021-09-08T18:54:38.786Z"
   },
   {
    "duration": 12,
    "start_time": "2021-09-08T18:55:12.397Z"
   },
   {
    "duration": 338,
    "start_time": "2021-09-08T18:55:47.383Z"
   },
   {
    "duration": 731,
    "start_time": "2021-09-08T18:55:54.003Z"
   },
   {
    "duration": 712,
    "start_time": "2021-09-08T18:56:05.898Z"
   },
   {
    "duration": 710,
    "start_time": "2021-09-08T18:56:20.587Z"
   },
   {
    "duration": 562,
    "start_time": "2021-09-08T18:56:26.881Z"
   },
   {
    "duration": 1614,
    "start_time": "2021-09-08T18:59:35.678Z"
   },
   {
    "duration": 1566,
    "start_time": "2021-09-08T18:59:55.381Z"
   },
   {
    "duration": 1679,
    "start_time": "2021-09-08T19:10:54.621Z"
   },
   {
    "duration": 6,
    "start_time": "2021-09-08T19:28:18.801Z"
   },
   {
    "duration": 364,
    "start_time": "2021-09-08T19:28:26.852Z"
   },
   {
    "duration": 358,
    "start_time": "2021-09-08T19:29:02.300Z"
   },
   {
    "duration": 346,
    "start_time": "2021-09-08T19:32:26.169Z"
   },
   {
    "duration": 1540,
    "start_time": "2021-09-09T00:04:29.536Z"
   },
   {
    "duration": 25,
    "start_time": "2021-09-09T00:04:35.921Z"
   },
   {
    "duration": 9,
    "start_time": "2021-09-09T00:04:39.695Z"
   },
   {
    "duration": 15,
    "start_time": "2021-09-09T00:04:45.849Z"
   },
   {
    "duration": 15,
    "start_time": "2021-09-09T00:04:48.420Z"
   },
   {
    "duration": 9,
    "start_time": "2021-09-09T00:04:51.744Z"
   },
   {
    "duration": 6888,
    "start_time": "2021-09-09T00:04:59.043Z"
   },
   {
    "duration": -458,
    "start_time": "2021-09-09T00:05:06.393Z"
   },
   {
    "duration": 256,
    "start_time": "2021-09-09T00:05:07.759Z"
   },
   {
    "duration": 6823,
    "start_time": "2021-09-09T00:05:26.182Z"
   },
   {
    "duration": 6706,
    "start_time": "2021-09-09T00:05:34.700Z"
   },
   {
    "duration": 4,
    "start_time": "2021-09-09T00:05:48.467Z"
   },
   {
    "duration": 194,
    "start_time": "2021-09-09T00:05:51.155Z"
   },
   {
    "duration": 121,
    "start_time": "2021-09-09T00:05:55.715Z"
   },
   {
    "duration": 450,
    "start_time": "2021-09-09T00:06:14.664Z"
   },
   {
    "duration": 764,
    "start_time": "2021-09-09T00:06:24.020Z"
   },
   {
    "duration": 426,
    "start_time": "2021-09-09T00:06:58.770Z"
   },
   {
    "duration": 418,
    "start_time": "2021-09-09T00:07:32.242Z"
   },
   {
    "duration": 315,
    "start_time": "2021-09-09T00:07:49.665Z"
   },
   {
    "duration": 7,
    "start_time": "2021-09-09T00:07:57.113Z"
   },
   {
    "duration": 67,
    "start_time": "2021-09-09T00:08:01.490Z"
   },
   {
    "duration": 565,
    "start_time": "2021-09-09T00:08:11.352Z"
   },
   {
    "duration": 8,
    "start_time": "2021-09-09T00:12:40.297Z"
   },
   {
    "duration": 9,
    "start_time": "2021-09-09T00:12:43.587Z"
   },
   {
    "duration": 11,
    "start_time": "2021-09-09T00:12:48.233Z"
   },
   {
    "duration": 108,
    "start_time": "2021-09-09T00:13:01.181Z"
   },
   {
    "duration": 7,
    "start_time": "2021-09-09T00:13:13.432Z"
   },
   {
    "duration": 8,
    "start_time": "2021-09-09T00:13:15.842Z"
   },
   {
    "duration": 8,
    "start_time": "2021-09-09T00:13:21.563Z"
   },
   {
    "duration": 6,
    "start_time": "2021-09-09T00:13:29.745Z"
   },
   {
    "duration": 8,
    "start_time": "2021-09-09T00:13:35.324Z"
   },
   {
    "duration": 576,
    "start_time": "2021-09-09T00:13:39.128Z"
   },
   {
    "duration": 35,
    "start_time": "2021-09-09T00:38:49.943Z"
   },
   {
    "duration": 23,
    "start_time": "2021-09-09T00:38:57.432Z"
   },
   {
    "duration": 12,
    "start_time": "2021-09-09T00:39:04.067Z"
   },
   {
    "duration": 263,
    "start_time": "2021-09-09T00:40:05.807Z"
   },
   {
    "duration": 234,
    "start_time": "2021-09-09T00:40:19.503Z"
   },
   {
    "duration": 20,
    "start_time": "2021-09-09T00:40:28.759Z"
   },
   {
    "duration": 21,
    "start_time": "2021-09-09T00:41:12.287Z"
   },
   {
    "duration": 4,
    "start_time": "2021-09-09T00:41:26.942Z"
   },
   {
    "duration": 17,
    "start_time": "2021-09-09T00:41:31.208Z"
   },
   {
    "duration": 9,
    "start_time": "2021-09-09T00:41:41.898Z"
   },
   {
    "duration": 4,
    "start_time": "2021-09-09T00:41:43.861Z"
   },
   {
    "duration": 184,
    "start_time": "2021-09-09T00:41:51.937Z"
   },
   {
    "duration": 184,
    "start_time": "2021-09-09T00:45:49.190Z"
   },
   {
    "duration": 126,
    "start_time": "2021-09-09T00:48:08.400Z"
   },
   {
    "duration": 498,
    "start_time": "2021-09-09T00:51:51.442Z"
   },
   {
    "duration": 955,
    "start_time": "2021-09-09T00:52:05.731Z"
   },
   {
    "duration": 422,
    "start_time": "2021-09-09T00:52:30.613Z"
   },
   {
    "duration": 488,
    "start_time": "2021-09-09T00:52:43.952Z"
   },
   {
    "duration": 3,
    "start_time": "2021-09-09T00:53:00.394Z"
   },
   {
    "duration": 8,
    "start_time": "2021-09-09T00:53:02.407Z"
   },
   {
    "duration": 67,
    "start_time": "2021-09-09T00:53:07.085Z"
   },
   {
    "duration": 550,
    "start_time": "2021-09-09T00:53:23.577Z"
   },
   {
    "duration": 7,
    "start_time": "2021-09-09T00:53:40.459Z"
   },
   {
    "duration": 9,
    "start_time": "2021-09-09T00:53:44.299Z"
   },
   {
    "duration": 10,
    "start_time": "2021-09-09T00:54:24.665Z"
   },
   {
    "duration": 6,
    "start_time": "2021-09-09T00:54:55.259Z"
   },
   {
    "duration": 6,
    "start_time": "2021-09-09T00:54:57.278Z"
   },
   {
    "duration": 8,
    "start_time": "2021-09-09T00:54:59.614Z"
   },
   {
    "duration": 672,
    "start_time": "2021-09-09T00:55:02.011Z"
   },
   {
    "duration": 1487,
    "start_time": "2021-09-09T08:39:57.854Z"
   },
   {
    "duration": 24,
    "start_time": "2021-09-09T08:39:59.343Z"
   },
   {
    "duration": 20,
    "start_time": "2021-09-09T08:39:59.370Z"
   },
   {
    "duration": 3,
    "start_time": "2021-09-09T08:39:59.394Z"
   },
   {
    "duration": 10,
    "start_time": "2021-09-09T08:39:59.400Z"
   },
   {
    "duration": 51,
    "start_time": "2021-09-09T08:39:59.413Z"
   },
   {
    "duration": 16,
    "start_time": "2021-09-09T08:39:59.467Z"
   },
   {
    "duration": 9,
    "start_time": "2021-09-09T08:39:59.488Z"
   },
   {
    "duration": 6,
    "start_time": "2021-09-09T08:39:59.500Z"
   },
   {
    "duration": 222,
    "start_time": "2021-09-09T08:39:59.509Z"
   },
   {
    "duration": 144,
    "start_time": "2021-09-09T08:39:59.734Z"
   },
   {
    "duration": 451,
    "start_time": "2021-09-09T08:39:59.880Z"
   },
   {
    "duration": 706,
    "start_time": "2021-09-09T08:40:00.334Z"
   },
   {
    "duration": 516,
    "start_time": "2021-09-09T08:40:01.043Z"
   },
   {
    "duration": 498,
    "start_time": "2021-09-09T08:40:01.562Z"
   },
   {
    "duration": 4,
    "start_time": "2021-09-09T08:40:02.062Z"
   },
   {
    "duration": 35,
    "start_time": "2021-09-09T08:40:02.068Z"
   },
   {
    "duration": 101,
    "start_time": "2021-09-09T08:40:02.106Z"
   },
   {
    "duration": 546,
    "start_time": "2021-09-09T08:40:02.209Z"
   },
   {
    "duration": 2,
    "start_time": "2021-09-09T08:40:02.758Z"
   },
   {
    "duration": 21,
    "start_time": "2021-09-09T08:40:02.763Z"
   },
   {
    "duration": 27,
    "start_time": "2021-09-09T08:40:02.786Z"
   },
   {
    "duration": 21,
    "start_time": "2021-09-09T08:40:02.817Z"
   },
   {
    "duration": 23,
    "start_time": "2021-09-09T08:40:02.840Z"
   },
   {
    "duration": 15,
    "start_time": "2021-09-09T08:40:02.865Z"
   },
   {
    "duration": 619,
    "start_time": "2021-09-09T08:40:02.882Z"
   }
  ],
  "celltoolbar": "Raw Cell Format",
  "kernelspec": {
   "display_name": "Python 3 (ipykernel)",
   "language": "python",
   "name": "python3"
  },
  "language_info": {
   "codemirror_mode": {
    "name": "ipython",
    "version": 3
   },
   "file_extension": ".py",
   "mimetype": "text/x-python",
   "name": "python",
   "nbconvert_exporter": "python",
   "pygments_lexer": "ipython3",
   "version": "3.9.7"
  },
  "toc": {
   "base_numbering": "",
   "nav_menu": {},
   "number_sections": false,
   "sideBar": false,
   "skip_h1_title": false,
   "title_cell": "Table of Contents",
   "title_sidebar": "Contents",
   "toc_cell": false,
   "toc_position": {
    "height": "calc(100% - 180px)",
    "left": "10px",
    "top": "150px",
    "width": "165px"
   },
   "toc_section_display": true,
   "toc_window_display": false
  }
 },
 "nbformat": 4,
 "nbformat_minor": 2
}
