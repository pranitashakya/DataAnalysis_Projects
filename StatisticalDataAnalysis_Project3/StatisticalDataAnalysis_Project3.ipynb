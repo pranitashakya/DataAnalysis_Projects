{
 "cells": [
  {
   "cell_type": "markdown",
   "metadata": {},
   "source": [
    "Hi Pranita! My name is Dmitry, and I will be reviewing your project.\n",
    "\n",
    "I’ve left my comments throughout the notebook - look for green, yellow and red boxes. Please don’t delete these comments.\n",
    "\n",
    "<div class=\"alert alert-success\">\n",
    "<b>Reviewer's comment</b>\n",
    "<p>Success: everything is done well</p>\n",
    "</div>\n",
    "\n",
    "<div class=\"alert alert-warning\">\n",
    "<b>Reviewer's comment</b>\n",
    "<p>Remarks: my recommendations to make the project even better</p>\n",
    "</div>\n",
    "\n",
    "<div class=\"alert alert-danger\">\n",
    "<b>Reviewer's comment</b>\n",
    "<p>Error: some issues need fixing!</p>\n",
    "</div>\n",
    "\n",
    "<span style=\"color:red\"> Keep in mind that the project will be accepted only when all the “red” issues are resolved.</span>\n",
    "\n",
    "You can add your replies or questions related to my comments using this template:\n",
    "<div class=\"alert alert-info\">\n",
    "<b>Student's comment</b>\n",
    "</div>\n",
    "\n",
    "#### General feedback\n",
    "- Very nice project! \n",
    "- Data preprocessing, plots and statistical analysis look great, and the presentation is quite neat, good job!\n",
    "- There are just a few issues that should be fixed to make the project complete\n",
    "    - The most important in my opinion is the way you obtain the parameters to calculate revenues: rather than hard-coding the numbers, you should try to automatically extract the numbers from \"plans\" dataframe. The motivation for this is simple: what if Megaline increases the price for messages, for example? Your code should still be able to produce correct revenues in that case, without manually changing the numbers.\n",
    "    - Also, I would recommend giving more attention to introduction and general conclusion: try to make them more detailed and structured\n",
    "    - There are a few other minor issues, please take a look at the comments I've left throughout the text\n",
    "- Overall, I think the project is not too far from being complete!\n",
    "- So, good luck! I'm looking forward to the improved version :)\n",
    "\n",
    "***\n",
    "\n",
    "#### <mark>General feedback - V2</mark>\n",
    "- Hi again, Pranita!\n",
    "- Thanks for addressing my comments to the first version. The project looks better now: you have successfully cleaned out the data with inconsisted dates, wrote a nice function for revenue calculation, and fixed other minor issues.\n",
    "- However, as I was going through the project the second time, I noticed that the revenues that you computed look pretty large: people normally don't spent \\\\$200 - \\\\$400 per month on calling plans, right?\n",
    "- I investigated that, and found that your approach to calculating internet usage is not entirely correct:\n",
    "    - According to the task description: *For web traffic, individual web sessions are not rounded up. Instead, the total for the month is rounded up. If someone uses 1025 megabytes this month, they will be charged for 2 gigabytes.*\n",
    "    - It seems that you have accidentally rounded up each session with `np.ceil()`.\n",
    "    - No worries! That's not a very big issue - the rest of the code seems to be working correctly, and I believe you will have no troubles fixing this.\n",
    "- Once you correct the revenue calculations, I think the project will be done (but don't forget to update statistical analysis and conclusions)"
   ]
  },
  {
   "cell_type": "markdown",
   "metadata": {},
   "source": [
    "# Analyze prepaid call plans for Megaline\n",
    "\n",
    "#### Project description:\n",
    "\n",
    "We are working on a project for a telecom company called Megaline. The company offers its clients two prepaid plans, Surf and Ultimate. The commercial department wants to know which of the plans brings in more revenue in order to adjust the advertising budget.\n",
    "\n",
    "We are given the data of 500 clients(users): who the clients are, where they're from, which plan they use, and the number of calls they made and text messages they sent in 2018. \n",
    "\n",
    "The users table (data on users):\n",
    "-   user_id — unique user identifier\n",
    "-   first_name — user's name\n",
    "-   last_name — user's last name\n",
    "-   age — user's age (years)\n",
    "-   reg_date — subscription date (dd, mm, yy)\n",
    "-   churn_date — the date the user stopped using the service (if the value is - -   missing, the calling plan was being used when this data was retrieved)\n",
    "-   city — user's city of residence\n",
    "-   plan — calling plan name\n",
    "\n",
    "The calls table (data on calls):\n",
    "-   id — unique call identifier\n",
    "-   call_date — call date\n",
    "-   duration — call duration (in minutes)\n",
    "-   user_id — the identifier of the user making the call\n",
    "\n",
    "The messages table (data on texts):\n",
    "-    id — unique text message identifier\n",
    "-    message_date — text message date\n",
    "-    user_id — the identifier of the user sending the text\n",
    "\n",
    "The internet table (data on web sessions):\n",
    "-   id — unique session identifier\n",
    "-   mb_used — the volume of data spent during the session (in megabytes)\n",
    "-   session_date — web session date\n",
    "-   user_id — user identifier\n",
    "\n",
    "The plans table (data on the plans):\n",
    "-  plan_name — calling plan name\n",
    "-  usd_monthly_fee — monthly charge in US dollars\n",
    "-  minutes_included — monthly minute allowance\n",
    "-  messages_included — monthly text allowance\n",
    "-  mb_per_month_included — data volume allowance (in megabytes)\n",
    "-  usd_per_minute — price per minute after exceeding the package limits (e.g.,    if the package includes 100 minutes, the 101st minute will be charged)\n",
    "-  usd_per_message — price per text after exceeding the package limits\n",
    "-  usd_per_gb — price per extra gigabyte of data after exceeding the package    limits (1 GB = 1024 megabytes)\n",
    "#### Steps to take:\n",
    "- Step 1: Open the data file and study the general information.\n",
    "- Step 2: Prepare the data \n",
    "We will view the data in more detail to convert them to the necessary types and find missing values.Find and eliminate errors in the data.\n",
    "- Step 3: Analyze the data \n",
    "We will find the minutes, texts and volume of data the users of   each plan require per month and monthly revenue from each user.Also, find the mean, dipersion, and standard deviation. Plot histogram and describe the distributions\n",
    "- Step 4: Test the hypotheses\n",
    "  - the average revenue from users of Ultimate and Surf calling plans differs.\n",
    "  - the average revenue from users in NY-NJ area is different from that of the users from other regions.\n",
    "  \n",
    "#### Goal:\n",
    "Our goal is to help analyze clients' behavior and determine which prepaid plan brings in more revenue.\n",
    "\n",
    "\n",
    "\n",
    "\n",
    "\n",
    "\n",
    "\n"
   ]
  },
  {
   "cell_type": "markdown",
   "metadata": {},
   "source": [
    "<div class=\"alert alert-warning\">\n",
    "<b>Reviewer's comment</b>\n",
    "<p>Best would be to rewrite the introduction in your own words and outline the steps and goals of the analysis.</p>\n",
    "</div>\n",
    "<div class=\"alert alert-success\">\n",
    "<b>Reviewer's comment - V2</b>\n",
    "<p>Looks nice!</p>\n",
    "</div>"
   ]
  },
  {
   "cell_type": "markdown",
   "metadata": {},
   "source": [
    "##  Step 1: Open the data file and study the general information. "
   ]
  },
  {
   "cell_type": "code",
   "execution_count": 1,
   "metadata": {},
   "outputs": [],
   "source": [
    "##### Import default libraries\n",
    "import pandas as pd # manipulate and wrangle the data  \n",
    "import numpy as np\n",
    "import matplotlib.pyplot as plt #2d plotting library which produces publication quality figures in a variety of formats\n",
    "import seaborn as sns # Seaborn provides a high-level interface for drawing attractive and informative statistical graphics\n",
    "\n",
    "from scipy import stats # for mathematics, science, and engineering\n",
    "from math import ceil as math\n",
    "\n",
    "#read data from files \n",
    "calls    = pd.read_csv('/datasets/megaline_calls.csv')\n",
    "internet = pd.read_csv('/datasets/megaline_internet.csv')\n",
    "messages = pd.read_csv('/datasets/megaline_messages.csv')\n",
    "plans    = pd.read_csv('/datasets/megaline_plans.csv')\n",
    "users    = pd.read_csv('/datasets/megaline_users.csv')"
   ]
  },
  {
   "cell_type": "code",
   "execution_count": 2,
   "metadata": {},
   "outputs": [
    {
     "name": "stdout",
     "output_type": "stream",
     "text": [
      "<class 'pandas.core.frame.DataFrame'>\n",
      "RangeIndex: 137735 entries, 0 to 137734\n",
      "Data columns (total 4 columns):\n",
      "id           137735 non-null object\n",
      "user_id      137735 non-null int64\n",
      "call_date    137735 non-null object\n",
      "duration     137735 non-null float64\n",
      "dtypes: float64(1), int64(1), object(2)\n",
      "memory usage: 4.2+ MB\n"
     ]
    },
    {
     "data": {
      "text/html": [
       "<div>\n",
       "<style scoped>\n",
       "    .dataframe tbody tr th:only-of-type {\n",
       "        vertical-align: middle;\n",
       "    }\n",
       "\n",
       "    .dataframe tbody tr th {\n",
       "        vertical-align: top;\n",
       "    }\n",
       "\n",
       "    .dataframe thead th {\n",
       "        text-align: right;\n",
       "    }\n",
       "</style>\n",
       "<table border=\"1\" class=\"dataframe\">\n",
       "  <thead>\n",
       "    <tr style=\"text-align: right;\">\n",
       "      <th></th>\n",
       "      <th>id</th>\n",
       "      <th>user_id</th>\n",
       "      <th>call_date</th>\n",
       "      <th>duration</th>\n",
       "    </tr>\n",
       "  </thead>\n",
       "  <tbody>\n",
       "    <tr>\n",
       "      <td>0</td>\n",
       "      <td>1000_93</td>\n",
       "      <td>1000</td>\n",
       "      <td>2018-12-27</td>\n",
       "      <td>8.52</td>\n",
       "    </tr>\n",
       "    <tr>\n",
       "      <td>1</td>\n",
       "      <td>1000_145</td>\n",
       "      <td>1000</td>\n",
       "      <td>2018-12-27</td>\n",
       "      <td>13.66</td>\n",
       "    </tr>\n",
       "    <tr>\n",
       "      <td>2</td>\n",
       "      <td>1000_247</td>\n",
       "      <td>1000</td>\n",
       "      <td>2018-12-27</td>\n",
       "      <td>14.48</td>\n",
       "    </tr>\n",
       "    <tr>\n",
       "      <td>3</td>\n",
       "      <td>1000_309</td>\n",
       "      <td>1000</td>\n",
       "      <td>2018-12-28</td>\n",
       "      <td>5.76</td>\n",
       "    </tr>\n",
       "    <tr>\n",
       "      <td>4</td>\n",
       "      <td>1000_380</td>\n",
       "      <td>1000</td>\n",
       "      <td>2018-12-30</td>\n",
       "      <td>4.22</td>\n",
       "    </tr>\n",
       "    <tr>\n",
       "      <td>5</td>\n",
       "      <td>1000_388</td>\n",
       "      <td>1000</td>\n",
       "      <td>2018-12-31</td>\n",
       "      <td>2.20</td>\n",
       "    </tr>\n",
       "    <tr>\n",
       "      <td>6</td>\n",
       "      <td>1000_510</td>\n",
       "      <td>1000</td>\n",
       "      <td>2018-12-27</td>\n",
       "      <td>5.75</td>\n",
       "    </tr>\n",
       "    <tr>\n",
       "      <td>7</td>\n",
       "      <td>1000_521</td>\n",
       "      <td>1000</td>\n",
       "      <td>2018-12-28</td>\n",
       "      <td>14.18</td>\n",
       "    </tr>\n",
       "    <tr>\n",
       "      <td>8</td>\n",
       "      <td>1000_530</td>\n",
       "      <td>1000</td>\n",
       "      <td>2018-12-28</td>\n",
       "      <td>5.77</td>\n",
       "    </tr>\n",
       "    <tr>\n",
       "      <td>9</td>\n",
       "      <td>1000_544</td>\n",
       "      <td>1000</td>\n",
       "      <td>2018-12-26</td>\n",
       "      <td>4.40</td>\n",
       "    </tr>\n",
       "  </tbody>\n",
       "</table>\n",
       "</div>"
      ],
      "text/plain": [
       "         id  user_id   call_date  duration\n",
       "0   1000_93     1000  2018-12-27      8.52\n",
       "1  1000_145     1000  2018-12-27     13.66\n",
       "2  1000_247     1000  2018-12-27     14.48\n",
       "3  1000_309     1000  2018-12-28      5.76\n",
       "4  1000_380     1000  2018-12-30      4.22\n",
       "5  1000_388     1000  2018-12-31      2.20\n",
       "6  1000_510     1000  2018-12-27      5.75\n",
       "7  1000_521     1000  2018-12-28     14.18\n",
       "8  1000_530     1000  2018-12-28      5.77\n",
       "9  1000_544     1000  2018-12-26      4.40"
      ]
     },
     "execution_count": 2,
     "metadata": {},
     "output_type": "execute_result"
    }
   ],
   "source": [
    "##### preview the loaded data\n",
    "calls.info()\n",
    "\n",
    "# return the top n- rows of dataframe\n",
    "calls.head(10)\n"
   ]
  },
  {
   "cell_type": "code",
   "execution_count": 3,
   "metadata": {},
   "outputs": [
    {
     "name": "stdout",
     "output_type": "stream",
     "text": [
      "<class 'pandas.core.frame.DataFrame'>\n",
      "RangeIndex: 104825 entries, 0 to 104824\n",
      "Data columns (total 4 columns):\n",
      "id              104825 non-null object\n",
      "user_id         104825 non-null int64\n",
      "session_date    104825 non-null object\n",
      "mb_used         104825 non-null float64\n",
      "dtypes: float64(1), int64(1), object(2)\n",
      "memory usage: 3.2+ MB\n"
     ]
    },
    {
     "data": {
      "text/html": [
       "<div>\n",
       "<style scoped>\n",
       "    .dataframe tbody tr th:only-of-type {\n",
       "        vertical-align: middle;\n",
       "    }\n",
       "\n",
       "    .dataframe tbody tr th {\n",
       "        vertical-align: top;\n",
       "    }\n",
       "\n",
       "    .dataframe thead th {\n",
       "        text-align: right;\n",
       "    }\n",
       "</style>\n",
       "<table border=\"1\" class=\"dataframe\">\n",
       "  <thead>\n",
       "    <tr style=\"text-align: right;\">\n",
       "      <th></th>\n",
       "      <th>id</th>\n",
       "      <th>user_id</th>\n",
       "      <th>session_date</th>\n",
       "      <th>mb_used</th>\n",
       "    </tr>\n",
       "  </thead>\n",
       "  <tbody>\n",
       "    <tr>\n",
       "      <td>0</td>\n",
       "      <td>1000_13</td>\n",
       "      <td>1000</td>\n",
       "      <td>2018-12-29</td>\n",
       "      <td>89.86</td>\n",
       "    </tr>\n",
       "    <tr>\n",
       "      <td>1</td>\n",
       "      <td>1000_204</td>\n",
       "      <td>1000</td>\n",
       "      <td>2018-12-31</td>\n",
       "      <td>0.00</td>\n",
       "    </tr>\n",
       "    <tr>\n",
       "      <td>2</td>\n",
       "      <td>1000_379</td>\n",
       "      <td>1000</td>\n",
       "      <td>2018-12-28</td>\n",
       "      <td>660.40</td>\n",
       "    </tr>\n",
       "    <tr>\n",
       "      <td>3</td>\n",
       "      <td>1000_413</td>\n",
       "      <td>1000</td>\n",
       "      <td>2018-12-26</td>\n",
       "      <td>270.99</td>\n",
       "    </tr>\n",
       "    <tr>\n",
       "      <td>4</td>\n",
       "      <td>1000_442</td>\n",
       "      <td>1000</td>\n",
       "      <td>2018-12-27</td>\n",
       "      <td>880.22</td>\n",
       "    </tr>\n",
       "    <tr>\n",
       "      <td>5</td>\n",
       "      <td>1001_0</td>\n",
       "      <td>1001</td>\n",
       "      <td>2018-08-24</td>\n",
       "      <td>284.68</td>\n",
       "    </tr>\n",
       "    <tr>\n",
       "      <td>6</td>\n",
       "      <td>1001_3</td>\n",
       "      <td>1001</td>\n",
       "      <td>2018-12-09</td>\n",
       "      <td>656.04</td>\n",
       "    </tr>\n",
       "    <tr>\n",
       "      <td>7</td>\n",
       "      <td>1001_4</td>\n",
       "      <td>1001</td>\n",
       "      <td>2018-11-04</td>\n",
       "      <td>16.97</td>\n",
       "    </tr>\n",
       "    <tr>\n",
       "      <td>8</td>\n",
       "      <td>1001_10</td>\n",
       "      <td>1001</td>\n",
       "      <td>2018-11-27</td>\n",
       "      <td>135.18</td>\n",
       "    </tr>\n",
       "    <tr>\n",
       "      <td>9</td>\n",
       "      <td>1001_15</td>\n",
       "      <td>1001</td>\n",
       "      <td>2018-12-13</td>\n",
       "      <td>761.92</td>\n",
       "    </tr>\n",
       "  </tbody>\n",
       "</table>\n",
       "</div>"
      ],
      "text/plain": [
       "         id  user_id session_date  mb_used\n",
       "0   1000_13     1000   2018-12-29    89.86\n",
       "1  1000_204     1000   2018-12-31     0.00\n",
       "2  1000_379     1000   2018-12-28   660.40\n",
       "3  1000_413     1000   2018-12-26   270.99\n",
       "4  1000_442     1000   2018-12-27   880.22\n",
       "5    1001_0     1001   2018-08-24   284.68\n",
       "6    1001_3     1001   2018-12-09   656.04\n",
       "7    1001_4     1001   2018-11-04    16.97\n",
       "8   1001_10     1001   2018-11-27   135.18\n",
       "9   1001_15     1001   2018-12-13   761.92"
      ]
     },
     "execution_count": 3,
     "metadata": {},
     "output_type": "execute_result"
    }
   ],
   "source": [
    "# preview the loaded data\n",
    "internet.info()\n",
    "\n",
    "# return the top n- rows of dataframe\n",
    "internet.head(10)"
   ]
  },
  {
   "cell_type": "code",
   "execution_count": 4,
   "metadata": {},
   "outputs": [
    {
     "name": "stdout",
     "output_type": "stream",
     "text": [
      "<class 'pandas.core.frame.DataFrame'>\n",
      "RangeIndex: 76051 entries, 0 to 76050\n",
      "Data columns (total 3 columns):\n",
      "id              76051 non-null object\n",
      "user_id         76051 non-null int64\n",
      "message_date    76051 non-null object\n",
      "dtypes: int64(1), object(2)\n",
      "memory usage: 1.7+ MB\n"
     ]
    },
    {
     "data": {
      "text/html": [
       "<div>\n",
       "<style scoped>\n",
       "    .dataframe tbody tr th:only-of-type {\n",
       "        vertical-align: middle;\n",
       "    }\n",
       "\n",
       "    .dataframe tbody tr th {\n",
       "        vertical-align: top;\n",
       "    }\n",
       "\n",
       "    .dataframe thead th {\n",
       "        text-align: right;\n",
       "    }\n",
       "</style>\n",
       "<table border=\"1\" class=\"dataframe\">\n",
       "  <thead>\n",
       "    <tr style=\"text-align: right;\">\n",
       "      <th></th>\n",
       "      <th>id</th>\n",
       "      <th>user_id</th>\n",
       "      <th>message_date</th>\n",
       "    </tr>\n",
       "  </thead>\n",
       "  <tbody>\n",
       "    <tr>\n",
       "      <td>0</td>\n",
       "      <td>1000_125</td>\n",
       "      <td>1000</td>\n",
       "      <td>2018-12-27</td>\n",
       "    </tr>\n",
       "    <tr>\n",
       "      <td>1</td>\n",
       "      <td>1000_160</td>\n",
       "      <td>1000</td>\n",
       "      <td>2018-12-31</td>\n",
       "    </tr>\n",
       "    <tr>\n",
       "      <td>2</td>\n",
       "      <td>1000_223</td>\n",
       "      <td>1000</td>\n",
       "      <td>2018-12-31</td>\n",
       "    </tr>\n",
       "    <tr>\n",
       "      <td>3</td>\n",
       "      <td>1000_251</td>\n",
       "      <td>1000</td>\n",
       "      <td>2018-12-27</td>\n",
       "    </tr>\n",
       "    <tr>\n",
       "      <td>4</td>\n",
       "      <td>1000_255</td>\n",
       "      <td>1000</td>\n",
       "      <td>2018-12-26</td>\n",
       "    </tr>\n",
       "    <tr>\n",
       "      <td>5</td>\n",
       "      <td>1000_346</td>\n",
       "      <td>1000</td>\n",
       "      <td>2018-12-29</td>\n",
       "    </tr>\n",
       "    <tr>\n",
       "      <td>6</td>\n",
       "      <td>1000_386</td>\n",
       "      <td>1000</td>\n",
       "      <td>2018-12-30</td>\n",
       "    </tr>\n",
       "    <tr>\n",
       "      <td>7</td>\n",
       "      <td>1000_413</td>\n",
       "      <td>1000</td>\n",
       "      <td>2018-12-31</td>\n",
       "    </tr>\n",
       "    <tr>\n",
       "      <td>8</td>\n",
       "      <td>1000_502</td>\n",
       "      <td>1000</td>\n",
       "      <td>2018-12-27</td>\n",
       "    </tr>\n",
       "    <tr>\n",
       "      <td>9</td>\n",
       "      <td>1000_525</td>\n",
       "      <td>1000</td>\n",
       "      <td>2018-12-28</td>\n",
       "    </tr>\n",
       "  </tbody>\n",
       "</table>\n",
       "</div>"
      ],
      "text/plain": [
       "         id  user_id message_date\n",
       "0  1000_125     1000   2018-12-27\n",
       "1  1000_160     1000   2018-12-31\n",
       "2  1000_223     1000   2018-12-31\n",
       "3  1000_251     1000   2018-12-27\n",
       "4  1000_255     1000   2018-12-26\n",
       "5  1000_346     1000   2018-12-29\n",
       "6  1000_386     1000   2018-12-30\n",
       "7  1000_413     1000   2018-12-31\n",
       "8  1000_502     1000   2018-12-27\n",
       "9  1000_525     1000   2018-12-28"
      ]
     },
     "execution_count": 4,
     "metadata": {},
     "output_type": "execute_result"
    }
   ],
   "source": [
    "# preview the loaded data\n",
    "messages.info()\n",
    "\n",
    "# return the top n- rows of dataframe\n",
    "messages.head(10)"
   ]
  },
  {
   "cell_type": "code",
   "execution_count": 5,
   "metadata": {},
   "outputs": [
    {
     "name": "stdout",
     "output_type": "stream",
     "text": [
      "<class 'pandas.core.frame.DataFrame'>\n",
      "RangeIndex: 2 entries, 0 to 1\n",
      "Data columns (total 8 columns):\n",
      "messages_included        2 non-null int64\n",
      "mb_per_month_included    2 non-null int64\n",
      "minutes_included         2 non-null int64\n",
      "usd_monthly_pay          2 non-null int64\n",
      "usd_per_gb               2 non-null int64\n",
      "usd_per_message          2 non-null float64\n",
      "usd_per_minute           2 non-null float64\n",
      "plan_name                2 non-null object\n",
      "dtypes: float64(2), int64(5), object(1)\n",
      "memory usage: 256.0+ bytes\n"
     ]
    },
    {
     "data": {
      "text/html": [
       "<div>\n",
       "<style scoped>\n",
       "    .dataframe tbody tr th:only-of-type {\n",
       "        vertical-align: middle;\n",
       "    }\n",
       "\n",
       "    .dataframe tbody tr th {\n",
       "        vertical-align: top;\n",
       "    }\n",
       "\n",
       "    .dataframe thead th {\n",
       "        text-align: right;\n",
       "    }\n",
       "</style>\n",
       "<table border=\"1\" class=\"dataframe\">\n",
       "  <thead>\n",
       "    <tr style=\"text-align: right;\">\n",
       "      <th></th>\n",
       "      <th>messages_included</th>\n",
       "      <th>mb_per_month_included</th>\n",
       "      <th>minutes_included</th>\n",
       "      <th>usd_monthly_pay</th>\n",
       "      <th>usd_per_gb</th>\n",
       "      <th>usd_per_message</th>\n",
       "      <th>usd_per_minute</th>\n",
       "      <th>plan_name</th>\n",
       "    </tr>\n",
       "  </thead>\n",
       "  <tbody>\n",
       "    <tr>\n",
       "      <td>0</td>\n",
       "      <td>50</td>\n",
       "      <td>15360</td>\n",
       "      <td>500</td>\n",
       "      <td>20</td>\n",
       "      <td>10</td>\n",
       "      <td>0.03</td>\n",
       "      <td>0.03</td>\n",
       "      <td>surf</td>\n",
       "    </tr>\n",
       "    <tr>\n",
       "      <td>1</td>\n",
       "      <td>1000</td>\n",
       "      <td>30720</td>\n",
       "      <td>3000</td>\n",
       "      <td>70</td>\n",
       "      <td>7</td>\n",
       "      <td>0.01</td>\n",
       "      <td>0.01</td>\n",
       "      <td>ultimate</td>\n",
       "    </tr>\n",
       "  </tbody>\n",
       "</table>\n",
       "</div>"
      ],
      "text/plain": [
       "   messages_included  mb_per_month_included  minutes_included  \\\n",
       "0                 50                  15360               500   \n",
       "1               1000                  30720              3000   \n",
       "\n",
       "   usd_monthly_pay  usd_per_gb  usd_per_message  usd_per_minute plan_name  \n",
       "0               20          10             0.03            0.03      surf  \n",
       "1               70           7             0.01            0.01  ultimate  "
      ]
     },
     "execution_count": 5,
     "metadata": {},
     "output_type": "execute_result"
    }
   ],
   "source": [
    "# preview the loaded data\n",
    "plans.info()\n",
    "\n",
    "# return the top n- rows of dataframe\n",
    "plans.head(10)"
   ]
  },
  {
   "cell_type": "code",
   "execution_count": 6,
   "metadata": {},
   "outputs": [
    {
     "name": "stdout",
     "output_type": "stream",
     "text": [
      "<class 'pandas.core.frame.DataFrame'>\n",
      "RangeIndex: 500 entries, 0 to 499\n",
      "Data columns (total 8 columns):\n",
      "user_id       500 non-null int64\n",
      "first_name    500 non-null object\n",
      "last_name     500 non-null object\n",
      "age           500 non-null int64\n",
      "city          500 non-null object\n",
      "reg_date      500 non-null object\n",
      "plan          500 non-null object\n",
      "churn_date    34 non-null object\n",
      "dtypes: int64(2), object(6)\n",
      "memory usage: 31.4+ KB\n"
     ]
    },
    {
     "data": {
      "text/html": [
       "<div>\n",
       "<style scoped>\n",
       "    .dataframe tbody tr th:only-of-type {\n",
       "        vertical-align: middle;\n",
       "    }\n",
       "\n",
       "    .dataframe tbody tr th {\n",
       "        vertical-align: top;\n",
       "    }\n",
       "\n",
       "    .dataframe thead th {\n",
       "        text-align: right;\n",
       "    }\n",
       "</style>\n",
       "<table border=\"1\" class=\"dataframe\">\n",
       "  <thead>\n",
       "    <tr style=\"text-align: right;\">\n",
       "      <th></th>\n",
       "      <th>user_id</th>\n",
       "      <th>first_name</th>\n",
       "      <th>last_name</th>\n",
       "      <th>age</th>\n",
       "      <th>city</th>\n",
       "      <th>reg_date</th>\n",
       "      <th>plan</th>\n",
       "      <th>churn_date</th>\n",
       "    </tr>\n",
       "  </thead>\n",
       "  <tbody>\n",
       "    <tr>\n",
       "      <td>0</td>\n",
       "      <td>1000</td>\n",
       "      <td>Anamaria</td>\n",
       "      <td>Bauer</td>\n",
       "      <td>45</td>\n",
       "      <td>Atlanta-Sandy Springs-Roswell, GA MSA</td>\n",
       "      <td>2018-12-24</td>\n",
       "      <td>ultimate</td>\n",
       "      <td>NaN</td>\n",
       "    </tr>\n",
       "    <tr>\n",
       "      <td>1</td>\n",
       "      <td>1001</td>\n",
       "      <td>Mickey</td>\n",
       "      <td>Wilkerson</td>\n",
       "      <td>28</td>\n",
       "      <td>Seattle-Tacoma-Bellevue, WA MSA</td>\n",
       "      <td>2018-08-13</td>\n",
       "      <td>surf</td>\n",
       "      <td>NaN</td>\n",
       "    </tr>\n",
       "    <tr>\n",
       "      <td>2</td>\n",
       "      <td>1002</td>\n",
       "      <td>Carlee</td>\n",
       "      <td>Hoffman</td>\n",
       "      <td>36</td>\n",
       "      <td>Las Vegas-Henderson-Paradise, NV MSA</td>\n",
       "      <td>2018-10-21</td>\n",
       "      <td>surf</td>\n",
       "      <td>NaN</td>\n",
       "    </tr>\n",
       "    <tr>\n",
       "      <td>3</td>\n",
       "      <td>1003</td>\n",
       "      <td>Reynaldo</td>\n",
       "      <td>Jenkins</td>\n",
       "      <td>52</td>\n",
       "      <td>Tulsa, OK MSA</td>\n",
       "      <td>2018-01-28</td>\n",
       "      <td>surf</td>\n",
       "      <td>NaN</td>\n",
       "    </tr>\n",
       "    <tr>\n",
       "      <td>4</td>\n",
       "      <td>1004</td>\n",
       "      <td>Leonila</td>\n",
       "      <td>Thompson</td>\n",
       "      <td>40</td>\n",
       "      <td>Seattle-Tacoma-Bellevue, WA MSA</td>\n",
       "      <td>2018-05-23</td>\n",
       "      <td>surf</td>\n",
       "      <td>NaN</td>\n",
       "    </tr>\n",
       "    <tr>\n",
       "      <td>5</td>\n",
       "      <td>1005</td>\n",
       "      <td>Livia</td>\n",
       "      <td>Shields</td>\n",
       "      <td>31</td>\n",
       "      <td>Dallas-Fort Worth-Arlington, TX MSA</td>\n",
       "      <td>2018-11-29</td>\n",
       "      <td>surf</td>\n",
       "      <td>NaN</td>\n",
       "    </tr>\n",
       "    <tr>\n",
       "      <td>6</td>\n",
       "      <td>1006</td>\n",
       "      <td>Jesusa</td>\n",
       "      <td>Bradford</td>\n",
       "      <td>73</td>\n",
       "      <td>San Francisco-Oakland-Berkeley, CA MSA</td>\n",
       "      <td>2018-11-27</td>\n",
       "      <td>ultimate</td>\n",
       "      <td>2018-12-18</td>\n",
       "    </tr>\n",
       "    <tr>\n",
       "      <td>7</td>\n",
       "      <td>1007</td>\n",
       "      <td>Eusebio</td>\n",
       "      <td>Welch</td>\n",
       "      <td>42</td>\n",
       "      <td>Grand Rapids-Kentwood, MI MSA</td>\n",
       "      <td>2018-07-11</td>\n",
       "      <td>surf</td>\n",
       "      <td>NaN</td>\n",
       "    </tr>\n",
       "    <tr>\n",
       "      <td>8</td>\n",
       "      <td>1008</td>\n",
       "      <td>Emely</td>\n",
       "      <td>Hoffman</td>\n",
       "      <td>53</td>\n",
       "      <td>Orlando-Kissimmee-Sanford, FL MSA</td>\n",
       "      <td>2018-08-03</td>\n",
       "      <td>ultimate</td>\n",
       "      <td>NaN</td>\n",
       "    </tr>\n",
       "    <tr>\n",
       "      <td>9</td>\n",
       "      <td>1009</td>\n",
       "      <td>Gerry</td>\n",
       "      <td>Little</td>\n",
       "      <td>19</td>\n",
       "      <td>San Jose-Sunnyvale-Santa Clara, CA MSA</td>\n",
       "      <td>2018-04-22</td>\n",
       "      <td>surf</td>\n",
       "      <td>NaN</td>\n",
       "    </tr>\n",
       "  </tbody>\n",
       "</table>\n",
       "</div>"
      ],
      "text/plain": [
       "   user_id first_name  last_name  age                                    city  \\\n",
       "0     1000   Anamaria      Bauer   45   Atlanta-Sandy Springs-Roswell, GA MSA   \n",
       "1     1001     Mickey  Wilkerson   28         Seattle-Tacoma-Bellevue, WA MSA   \n",
       "2     1002     Carlee    Hoffman   36    Las Vegas-Henderson-Paradise, NV MSA   \n",
       "3     1003   Reynaldo    Jenkins   52                           Tulsa, OK MSA   \n",
       "4     1004    Leonila   Thompson   40         Seattle-Tacoma-Bellevue, WA MSA   \n",
       "5     1005      Livia    Shields   31     Dallas-Fort Worth-Arlington, TX MSA   \n",
       "6     1006     Jesusa   Bradford   73  San Francisco-Oakland-Berkeley, CA MSA   \n",
       "7     1007    Eusebio      Welch   42           Grand Rapids-Kentwood, MI MSA   \n",
       "8     1008      Emely    Hoffman   53       Orlando-Kissimmee-Sanford, FL MSA   \n",
       "9     1009      Gerry     Little   19  San Jose-Sunnyvale-Santa Clara, CA MSA   \n",
       "\n",
       "     reg_date      plan  churn_date  \n",
       "0  2018-12-24  ultimate         NaN  \n",
       "1  2018-08-13      surf         NaN  \n",
       "2  2018-10-21      surf         NaN  \n",
       "3  2018-01-28      surf         NaN  \n",
       "4  2018-05-23      surf         NaN  \n",
       "5  2018-11-29      surf         NaN  \n",
       "6  2018-11-27  ultimate  2018-12-18  \n",
       "7  2018-07-11      surf         NaN  \n",
       "8  2018-08-03  ultimate         NaN  \n",
       "9  2018-04-22      surf         NaN  "
      ]
     },
     "execution_count": 6,
     "metadata": {},
     "output_type": "execute_result"
    }
   ],
   "source": [
    "# preview the loaded data\n",
    "users.info()\n",
    "\n",
    "# return the top n- rows of dataframe\n",
    "users.head(10)"
   ]
  },
  {
   "cell_type": "code",
   "execution_count": 6,
   "metadata": {},
   "outputs": [
    {
     "data": {
      "text/html": [
       "<div>\n",
       "<style scoped>\n",
       "    .dataframe tbody tr th:only-of-type {\n",
       "        vertical-align: middle;\n",
       "    }\n",
       "\n",
       "    .dataframe tbody tr th {\n",
       "        vertical-align: top;\n",
       "    }\n",
       "\n",
       "    .dataframe thead th {\n",
       "        text-align: right;\n",
       "    }\n",
       "</style>\n",
       "<table border=\"1\" class=\"dataframe\">\n",
       "  <thead>\n",
       "    <tr style=\"text-align: right;\">\n",
       "      <th></th>\n",
       "      <th>user_id</th>\n",
       "      <th>duration</th>\n",
       "    </tr>\n",
       "  </thead>\n",
       "  <tbody>\n",
       "    <tr>\n",
       "      <td>count</td>\n",
       "      <td>137735.000000</td>\n",
       "      <td>137735.000000</td>\n",
       "    </tr>\n",
       "    <tr>\n",
       "      <td>mean</td>\n",
       "      <td>1247.658046</td>\n",
       "      <td>6.745927</td>\n",
       "    </tr>\n",
       "    <tr>\n",
       "      <td>std</td>\n",
       "      <td>139.416268</td>\n",
       "      <td>5.839241</td>\n",
       "    </tr>\n",
       "    <tr>\n",
       "      <td>min</td>\n",
       "      <td>1000.000000</td>\n",
       "      <td>0.000000</td>\n",
       "    </tr>\n",
       "    <tr>\n",
       "      <td>25%</td>\n",
       "      <td>1128.000000</td>\n",
       "      <td>1.290000</td>\n",
       "    </tr>\n",
       "    <tr>\n",
       "      <td>50%</td>\n",
       "      <td>1247.000000</td>\n",
       "      <td>5.980000</td>\n",
       "    </tr>\n",
       "    <tr>\n",
       "      <td>75%</td>\n",
       "      <td>1365.000000</td>\n",
       "      <td>10.690000</td>\n",
       "    </tr>\n",
       "    <tr>\n",
       "      <td>max</td>\n",
       "      <td>1499.000000</td>\n",
       "      <td>37.600000</td>\n",
       "    </tr>\n",
       "  </tbody>\n",
       "</table>\n",
       "</div>"
      ],
      "text/plain": [
       "             user_id       duration\n",
       "count  137735.000000  137735.000000\n",
       "mean     1247.658046       6.745927\n",
       "std       139.416268       5.839241\n",
       "min      1000.000000       0.000000\n",
       "25%      1128.000000       1.290000\n",
       "50%      1247.000000       5.980000\n",
       "75%      1365.000000      10.690000\n",
       "max      1499.000000      37.600000"
      ]
     },
     "metadata": {},
     "output_type": "display_data"
    },
    {
     "data": {
      "text/html": [
       "<div>\n",
       "<style scoped>\n",
       "    .dataframe tbody tr th:only-of-type {\n",
       "        vertical-align: middle;\n",
       "    }\n",
       "\n",
       "    .dataframe tbody tr th {\n",
       "        vertical-align: top;\n",
       "    }\n",
       "\n",
       "    .dataframe thead th {\n",
       "        text-align: right;\n",
       "    }\n",
       "</style>\n",
       "<table border=\"1\" class=\"dataframe\">\n",
       "  <thead>\n",
       "    <tr style=\"text-align: right;\">\n",
       "      <th></th>\n",
       "      <th>user_id</th>\n",
       "      <th>mb_used</th>\n",
       "    </tr>\n",
       "  </thead>\n",
       "  <tbody>\n",
       "    <tr>\n",
       "      <td>count</td>\n",
       "      <td>104825.000000</td>\n",
       "      <td>104825.000000</td>\n",
       "    </tr>\n",
       "    <tr>\n",
       "      <td>mean</td>\n",
       "      <td>1242.496361</td>\n",
       "      <td>366.713701</td>\n",
       "    </tr>\n",
       "    <tr>\n",
       "      <td>std</td>\n",
       "      <td>142.053913</td>\n",
       "      <td>277.170542</td>\n",
       "    </tr>\n",
       "    <tr>\n",
       "      <td>min</td>\n",
       "      <td>1000.000000</td>\n",
       "      <td>0.000000</td>\n",
       "    </tr>\n",
       "    <tr>\n",
       "      <td>25%</td>\n",
       "      <td>1122.000000</td>\n",
       "      <td>136.080000</td>\n",
       "    </tr>\n",
       "    <tr>\n",
       "      <td>50%</td>\n",
       "      <td>1236.000000</td>\n",
       "      <td>343.980000</td>\n",
       "    </tr>\n",
       "    <tr>\n",
       "      <td>75%</td>\n",
       "      <td>1367.000000</td>\n",
       "      <td>554.610000</td>\n",
       "    </tr>\n",
       "    <tr>\n",
       "      <td>max</td>\n",
       "      <td>1499.000000</td>\n",
       "      <td>1693.470000</td>\n",
       "    </tr>\n",
       "  </tbody>\n",
       "</table>\n",
       "</div>"
      ],
      "text/plain": [
       "             user_id        mb_used\n",
       "count  104825.000000  104825.000000\n",
       "mean     1242.496361     366.713701\n",
       "std       142.053913     277.170542\n",
       "min      1000.000000       0.000000\n",
       "25%      1122.000000     136.080000\n",
       "50%      1236.000000     343.980000\n",
       "75%      1367.000000     554.610000\n",
       "max      1499.000000    1693.470000"
      ]
     },
     "metadata": {},
     "output_type": "display_data"
    },
    {
     "data": {
      "text/html": [
       "<div>\n",
       "<style scoped>\n",
       "    .dataframe tbody tr th:only-of-type {\n",
       "        vertical-align: middle;\n",
       "    }\n",
       "\n",
       "    .dataframe tbody tr th {\n",
       "        vertical-align: top;\n",
       "    }\n",
       "\n",
       "    .dataframe thead th {\n",
       "        text-align: right;\n",
       "    }\n",
       "</style>\n",
       "<table border=\"1\" class=\"dataframe\">\n",
       "  <thead>\n",
       "    <tr style=\"text-align: right;\">\n",
       "      <th></th>\n",
       "      <th>user_id</th>\n",
       "    </tr>\n",
       "  </thead>\n",
       "  <tbody>\n",
       "    <tr>\n",
       "      <td>count</td>\n",
       "      <td>76051.000000</td>\n",
       "    </tr>\n",
       "    <tr>\n",
       "      <td>mean</td>\n",
       "      <td>1245.972768</td>\n",
       "    </tr>\n",
       "    <tr>\n",
       "      <td>std</td>\n",
       "      <td>139.843635</td>\n",
       "    </tr>\n",
       "    <tr>\n",
       "      <td>min</td>\n",
       "      <td>1000.000000</td>\n",
       "    </tr>\n",
       "    <tr>\n",
       "      <td>25%</td>\n",
       "      <td>1123.000000</td>\n",
       "    </tr>\n",
       "    <tr>\n",
       "      <td>50%</td>\n",
       "      <td>1251.000000</td>\n",
       "    </tr>\n",
       "    <tr>\n",
       "      <td>75%</td>\n",
       "      <td>1362.000000</td>\n",
       "    </tr>\n",
       "    <tr>\n",
       "      <td>max</td>\n",
       "      <td>1497.000000</td>\n",
       "    </tr>\n",
       "  </tbody>\n",
       "</table>\n",
       "</div>"
      ],
      "text/plain": [
       "            user_id\n",
       "count  76051.000000\n",
       "mean    1245.972768\n",
       "std      139.843635\n",
       "min     1000.000000\n",
       "25%     1123.000000\n",
       "50%     1251.000000\n",
       "75%     1362.000000\n",
       "max     1497.000000"
      ]
     },
     "metadata": {},
     "output_type": "display_data"
    },
    {
     "data": {
      "text/html": [
       "<div>\n",
       "<style scoped>\n",
       "    .dataframe tbody tr th:only-of-type {\n",
       "        vertical-align: middle;\n",
       "    }\n",
       "\n",
       "    .dataframe tbody tr th {\n",
       "        vertical-align: top;\n",
       "    }\n",
       "\n",
       "    .dataframe thead th {\n",
       "        text-align: right;\n",
       "    }\n",
       "</style>\n",
       "<table border=\"1\" class=\"dataframe\">\n",
       "  <thead>\n",
       "    <tr style=\"text-align: right;\">\n",
       "      <th></th>\n",
       "      <th>user_id</th>\n",
       "      <th>age</th>\n",
       "    </tr>\n",
       "  </thead>\n",
       "  <tbody>\n",
       "    <tr>\n",
       "      <td>count</td>\n",
       "      <td>500.000000</td>\n",
       "      <td>500.000000</td>\n",
       "    </tr>\n",
       "    <tr>\n",
       "      <td>mean</td>\n",
       "      <td>1249.500000</td>\n",
       "      <td>45.486000</td>\n",
       "    </tr>\n",
       "    <tr>\n",
       "      <td>std</td>\n",
       "      <td>144.481833</td>\n",
       "      <td>16.972269</td>\n",
       "    </tr>\n",
       "    <tr>\n",
       "      <td>min</td>\n",
       "      <td>1000.000000</td>\n",
       "      <td>18.000000</td>\n",
       "    </tr>\n",
       "    <tr>\n",
       "      <td>25%</td>\n",
       "      <td>1124.750000</td>\n",
       "      <td>30.000000</td>\n",
       "    </tr>\n",
       "    <tr>\n",
       "      <td>50%</td>\n",
       "      <td>1249.500000</td>\n",
       "      <td>46.000000</td>\n",
       "    </tr>\n",
       "    <tr>\n",
       "      <td>75%</td>\n",
       "      <td>1374.250000</td>\n",
       "      <td>61.000000</td>\n",
       "    </tr>\n",
       "    <tr>\n",
       "      <td>max</td>\n",
       "      <td>1499.000000</td>\n",
       "      <td>75.000000</td>\n",
       "    </tr>\n",
       "  </tbody>\n",
       "</table>\n",
       "</div>"
      ],
      "text/plain": [
       "           user_id         age\n",
       "count   500.000000  500.000000\n",
       "mean   1249.500000   45.486000\n",
       "std     144.481833   16.972269\n",
       "min    1000.000000   18.000000\n",
       "25%    1124.750000   30.000000\n",
       "50%    1249.500000   46.000000\n",
       "75%    1374.250000   61.000000\n",
       "max    1499.000000   75.000000"
      ]
     },
     "metadata": {},
     "output_type": "display_data"
    }
   ],
   "source": [
    "# provides descriptive statistics\n",
    "display(calls.describe()) \n",
    "\n",
    "display(internet.describe()) \n",
    "\n",
    "display(messages.describe()) \n",
    "\n",
    "display(users.describe()) \n"
   ]
  },
  {
   "cell_type": "markdown",
   "metadata": {},
   "source": [
    "#### Conclusion:"
   ]
  },
  {
   "cell_type": "markdown",
   "metadata": {},
   "source": [
    "- We checked the general information of 'megaline_calls','megaline_internet','megaline_messages', 'megaline_plans'and 'megaline_users' datasets.\n",
    "- Upon checking data, we found that the datasets are much cleaner. We didn't find any big issues and discrepancies. However, data types of 'id','call_date', 'duration','message_date','first_name','last_name','city','reg_date','plan','churn_date' columns need to be changed and 'city','first_name','last_name' columns are object type too and need to be changed into lowercase.\n",
    "- There are 26,834 calls with zero durations which is 19% of the calls. Though these are zero minutes, there are still phone calls so we will keep them.\n",
    "- There are missing values for the 'chur_date' column. chur_date' is the date that the user stopped using the service. However, the project explains it as a call plan was being used when this data was retrieved.\n"
   ]
  },
  {
   "cell_type": "markdown",
   "metadata": {},
   "source": [
    "<div class=\"alert alert-success\">\n",
    "<b>Reviewer's comment</b>\n",
    "<p>Good job! Your conclusions in this part are correct.</p>\n",
    "</div>"
   ]
  },
  {
   "cell_type": "markdown",
   "metadata": {},
   "source": [
    "##  Step 2: Prepare the data \n",
    "In this step, we are viewing the data in more detail to convert them to the necessary types. Find and eliminate errors in the data \n",
    "\n",
    "\n"
   ]
  },
  {
   "cell_type": "code",
   "execution_count": 7,
   "metadata": {},
   "outputs": [
    {
     "name": "stdout",
     "output_type": "stream",
     "text": [
      "id                    int64\n",
      "user_id               int64\n",
      "call_date    datetime64[ns]\n",
      "duration              int64\n",
      "dtype: object\n"
     ]
    }
   ],
   "source": [
    "#converting float data numbers into integers\n",
    "#converting float data numbers into date time\n",
    "# changing data types for calls \n",
    "\n",
    "calls['id'] = calls['id'].astype('int')\n",
    "calls['call_date'] = pd.to_datetime(calls['call_date'])\n",
    "calls['duration'] = calls['duration'].astype('int')\n",
    "\n",
    "print(calls.dtypes)"
   ]
  },
  {
   "cell_type": "code",
   "execution_count": 8,
   "metadata": {},
   "outputs": [
    {
     "name": "stdout",
     "output_type": "stream",
     "text": [
      "             id  user_id  call_date  duration\n",
      "0        100093     1000 2018-12-27       8.0\n",
      "1       1000145     1000 2018-12-27      13.0\n",
      "2       1000247     1000 2018-12-27      14.0\n",
      "3       1000309     1000 2018-12-28       5.0\n",
      "4       1000380     1000 2018-12-30       4.0\n",
      "...         ...      ...        ...       ...\n",
      "137730  1499199     1499 2018-11-21       8.0\n",
      "137731  1499200     1499 2018-10-20      10.0\n",
      "137732  1499201     1499 2018-09-21       8.0\n",
      "137733  1499202     1499 2018-10-10       0.0\n",
      "137734  1499203     1499 2018-12-29      13.0\n",
      "\n",
      "[137735 rows x 4 columns]\n"
     ]
    }
   ],
   "source": [
    "# rounding\n",
    "calls['duration'] = calls['duration'].apply(np.ceil)\n",
    "print(calls)"
   ]
  },
  {
   "cell_type": "code",
   "execution_count": 9,
   "metadata": {},
   "outputs": [
    {
     "name": "stdout",
     "output_type": "stream",
     "text": [
      "id                       int64\n",
      "user_id                  int64\n",
      "message_date    datetime64[ns]\n",
      "dtype: object\n"
     ]
    }
   ],
   "source": [
    "# changing data types for messages \n",
    "messages['id'] = messages['id'].astype('int')\n",
    "messages['message_date'] = pd.to_datetime(messages['message_date'])\n",
    "\n",
    "# check data types of columns\n",
    "print(messages.dtypes)"
   ]
  },
  {
   "cell_type": "code",
   "execution_count": 10,
   "metadata": {},
   "outputs": [
    {
     "name": "stdout",
     "output_type": "stream",
     "text": [
      "id                       int64\n",
      "user_id                  int64\n",
      "session_date    datetime64[ns]\n",
      "mb_used                float64\n",
      "dtype: object\n"
     ]
    }
   ],
   "source": [
    "# changing data types for internet file\n",
    "internet['id'] = internet['id'].astype('int')\n",
    "internet['session_date'] = pd.to_datetime(internet['session_date'])\n",
    "\n",
    "# check data types of columns\n",
    "print(internet.dtypes)"
   ]
  },
  {
   "cell_type": "code",
   "execution_count": 7,
   "metadata": {},
   "outputs": [
    {
     "name": "stdout",
     "output_type": "stream",
     "text": [
      "id                       int64\n",
      "user_id                  int64\n",
      "session_date    datetime64[ns]\n",
      "gb_used                float64\n",
      "dtype: object\n"
     ]
    }
   ],
   "source": [
    "# rounding each web session IS NOT required per project description\n",
    "# Hence, commented\n",
    "#renaming 'mb_per_month_included' column to 'gb_per_month_included' in 'Internet' dataset\n",
    "#internet['mb_used'] = np.ceil(internet['mb_used'] / 1024)\n",
    "#internet = internet.rename(columns={'mb_used': 'gb_used'})\n",
    "# check data types of columns\n",
    "#print(internet.dtypes)\n"
   ]
  },
  {
   "cell_type": "markdown",
   "metadata": {},
   "source": [
    "<div class=\"alert alert-danger\">\n",
    "<b>Reviewer's comment - V2</b>\n",
    "<p>As I mentioned in general conclusion, this way of computing internet usage is different from what is described in the task. Perhaps, you can keep the internet usage in megabytes here, and round up only after summation over all sessions in a given month.</p>\n",
    "</div>"
   ]
  },
  {
   "cell_type": "code",
   "execution_count": 11,
   "metadata": {},
   "outputs": [
    {
     "name": "stdout",
     "output_type": "stream",
     "text": [
      "messages_included          int64\n",
      "gb_per_month_included    float64\n",
      "minutes_included           int64\n",
      "usd_monthly_pay            int64\n",
      "usd_per_gb                 int64\n",
      "usd_per_message          float64\n",
      "usd_per_minute           float64\n",
      "plan_name                 object\n",
      "dtype: object\n"
     ]
    }
   ],
   "source": [
    "# renaming 'mb_per_month_included' column to 'gb_per_month_included' \n",
    "\n",
    "#plans['mb_per_month_included'] = np.ceil(plans['mb_per_month_included'] / 1024)\n",
    "plans['mb_per_month_included'] = plans['mb_per_month_included'] / 1024\n",
    "plans = plans.rename(columns={'mb_per_month_included': 'gb_per_month_included'})\n",
    "\n",
    "# check data types of columns\n",
    "print(plans.dtypes)"
   ]
  },
  {
   "cell_type": "code",
   "execution_count": 12,
   "metadata": {
    "scrolled": true
   },
   "outputs": [
    {
     "name": "stdout",
     "output_type": "stream",
     "text": [
      "user_id                int64\n",
      "first_name            object\n",
      "last_name             object\n",
      "age                    int64\n",
      "city                  object\n",
      "reg_date      datetime64[ns]\n",
      "plan                  object\n",
      "churn_date    datetime64[ns]\n",
      "dtype: object\n"
     ]
    }
   ],
   "source": [
    "# changing data types for users file\n",
    "users['churn_date'] = pd.to_datetime(users['churn_date'])\n",
    "users['reg_date'] = pd.to_datetime(users['reg_date'])\n",
    "users['city'] = users['city'].str.lower()\n",
    "users['first_name'] = users['first_name'].str.lower()\n",
    "users['last_name'] = users['last_name'].str.lower()\n",
    "# check data types of columns\n",
    "print(users.dtypes)"
   ]
  },
  {
   "cell_type": "code",
   "execution_count": 23,
   "metadata": {},
   "outputs": [
    {
     "data": {
      "text/plain": [
       "user_id         0\n",
       "first_name      0\n",
       "last_name       0\n",
       "age             0\n",
       "city            0\n",
       "reg_date        0\n",
       "plan            0\n",
       "churn_date    466\n",
       "dtype: int64"
      ]
     },
     "execution_count": 23,
     "metadata": {},
     "output_type": "execute_result"
    }
   ],
   "source": [
    "calls.isnull().sum()\n",
    "internet.isnull().sum()\n",
    "plans.isnull().sum()\n",
    "messages.isnull().sum()\n",
    "users.isnull().sum()"
   ]
  },
  {
   "cell_type": "code",
   "execution_count": 24,
   "metadata": {},
   "outputs": [
    {
     "data": {
      "text/plain": [
       "0"
      ]
     },
     "execution_count": 24,
     "metadata": {},
     "output_type": "execute_result"
    }
   ],
   "source": [
    "calls.duplicated().sum()\n",
    "messages.duplicated().sum()\n",
    "internet.duplicated().sum()\n",
    "users.duplicated().sum()"
   ]
  },
  {
   "cell_type": "markdown",
   "metadata": {},
   "source": [
    "#### Additional preprocessing for 'churn_date' in 'users' dataset"
   ]
  },
  {
   "cell_type": "code",
   "execution_count": 13,
   "metadata": {
    "scrolled": true
   },
   "outputs": [
    {
     "name": "stdout",
     "output_type": "stream",
     "text": [
      "<class 'pandas.core.frame.DataFrame'>\n",
      "RangeIndex: 500 entries, 0 to 499\n",
      "Data columns (total 8 columns):\n",
      "user_id       500 non-null int64\n",
      "first_name    500 non-null object\n",
      "last_name     500 non-null object\n",
      "age           500 non-null int64\n",
      "city          500 non-null object\n",
      "reg_date      500 non-null datetime64[ns]\n",
      "plan          500 non-null object\n",
      "churn_date    500 non-null datetime64[ns]\n",
      "dtypes: datetime64[ns](2), int64(2), object(4)\n",
      "memory usage: 31.4+ KB\n"
     ]
    }
   ],
   "source": [
    "# filling null churn date with '2021-12-31'\n",
    "\n",
    "users['churn_date']=pd.to_datetime(users['churn_date'].fillna(pd.datetime.now().date().replace(month=12, day=31)))\n",
    "users.info()"
   ]
  },
  {
   "cell_type": "code",
   "execution_count": 38,
   "metadata": {},
   "outputs": [
    {
     "name": "stdout",
     "output_type": "stream",
     "text": [
      "<class 'pandas.core.frame.DataFrame'>\n",
      "Int64Index: 134774 entries, 0 to 137734\n",
      "Data columns (total 4 columns):\n",
      "id           134774 non-null int64\n",
      "user_id      134774 non-null int64\n",
      "call_date    134774 non-null datetime64[ns]\n",
      "duration     134774 non-null int64\n",
      "dtypes: datetime64[ns](1), int64(3)\n",
      "memory usage: 5.1 MB\n",
      "None\n",
      "<class 'pandas.core.frame.DataFrame'>\n",
      "Int64Index: 74460 entries, 0 to 76050\n",
      "Data columns (total 3 columns):\n",
      "id              74460 non-null int64\n",
      "user_id         74460 non-null int64\n",
      "message_date    74460 non-null datetime64[ns]\n",
      "dtypes: datetime64[ns](1), int64(2)\n",
      "memory usage: 2.3 MB\n",
      "None\n",
      "<class 'pandas.core.frame.DataFrame'>\n",
      "Int64Index: 102362 entries, 0 to 104824\n",
      "Data columns (total 4 columns):\n",
      "id              102362 non-null int64\n",
      "user_id         102362 non-null int64\n",
      "session_date    102362 non-null datetime64[ns]\n",
      "mb_used         102362 non-null float64\n",
      "dtypes: datetime64[ns](1), float64(1), int64(2)\n",
      "memory usage: 3.9 MB\n",
      "None\n",
      "<class 'pandas.core.frame.DataFrame'>\n",
      "Int64Index: 500 entries, 0 to 499\n",
      "Data columns (total 8 columns):\n",
      "user_id       500 non-null int64\n",
      "first_name    500 non-null object\n",
      "last_name     500 non-null object\n",
      "age           500 non-null int64\n",
      "city          500 non-null object\n",
      "reg_date      500 non-null datetime64[ns]\n",
      "plan          500 non-null object\n",
      "churn_date    500 non-null datetime64[ns]\n",
      "dtypes: datetime64[ns](2), int64(2), object(4)\n",
      "memory usage: 35.2+ KB\n",
      "None\n"
     ]
    }
   ],
   "source": [
    "user_churn = users[['user_id','churn_date']]\n",
    "\n",
    "for ind, row in user_churn.iterrows():\n",
    "    user_id = row['user_id']\n",
    "    churn_date = row['churn_date']\n",
    "    users.drop(users[(users['user_id'] == user_id) & (users['reg_date'] > churn_date)].index,inplace=True)\n",
    "    calls.drop(calls[(calls['user_id'] == user_id) & (calls['call_date'] > churn_date)].index,inplace=True)\n",
    "    messages.drop(messages[(messages['user_id'] == user_id) &(messages['message_date'] > churn_date)].index, inplace=True)\n",
    "    internet.drop(internet[(internet['user_id'] == user_id) &(internet['session_date'] > churn_date)].index, inplace=True)\n",
    "print(calls.info())\n",
    "print(messages.info())\n",
    "print(internet.info())\n",
    "print(users.info())"
   ]
  },
  {
   "cell_type": "markdown",
   "metadata": {},
   "source": [
    "We did additional preprocessing for 'churn_date' in the 'users' dataset. 'churn_date' is the date the user stopped using the service. There are 466 users who are using the service (out of 500). However, it's not a good idea to keep any column null so we backfilled null 'churn_date' with the end of this year.\n",
    "We also checked if there are any calls, messages, the internet used passed churn_date. If there are, then those are incorrect data and need to be dropped. The above preprocessing code is an attempt to do that.\n"
   ]
  },
  {
   "cell_type": "markdown",
   "metadata": {},
   "source": [
    "### Conclusion:\n",
    "\n",
    "- We changed the date columns to date types. We changed 'city', 'first_name', 'last_name' columns to string type and changed to lowercase. Also, rounded 'duration' and 'mb_used' columns.\n",
    "\n",
    "- Also, checked for missing values in the datasets. There are 466 missing values for 'churn_date'. It's because the calling plan was being used when this data was retrieved. There are zero duration calls in the dataset as well but we are keeping all of them.\n",
    "\n",
    "- We rounded 'duration' and 'md_used' columns.\n",
    "\n",
    "- Also, checked for duplicate data. We didn't find any. Each row in the dataset is found to be unique.\n",
    "\n",
    "- Also, backfilled null 'churn_date' with '2021-12-31' dates. Dropped those records in 'users', 'calls', 'messages', 'internet' datasets those 'call_date', 'message_date','session_date' date is greater than their 'churn_date' date.\n",
    "- We  renamed 'mb_per_month_included' column to 'gb_per_month_included' in 'plan' dataset to keep consistency. We will be calculating internet usage in GB. We also renamed and converted 'mb_used' column to 'gb_used' in 'internet dataset."
   ]
  },
  {
   "cell_type": "markdown",
   "metadata": {},
   "source": [
    "<div class=\"alert alert-danger\">\n",
    "<b>Reviewer's comment</b>\n",
    "<p>Okay, so among the things that you checked there were no issues. However, there might be problems which are not so obvious. For example, can it happen that there are calls, messages or internet sessions before registration date or after churn date?</p>\n",
    "</div>\n",
    "<div class=\"alert alert-warning\">\n",
    "<b>Reviewer's comment</b>\n",
    "<p>And also, I would not recommend to leave missing values in churn_date column, even if it does not affect the results in this project. You can fill them with December 31st, for example.</p>\n",
    "</div>\n",
    "<div class=\"alert alert-success\">\n",
    "<b>Reviewer's comment - V2</b>\n",
    "<p>Great! Now the dataset is clean from calls, messages and internet sessions that happened before registration or after churn. Perhaps, they were the calls of users who had the same phone number in the past, and the data engineers haven't done a good job cleaning it up.</p>\n",
    "</div>"
   ]
  },
  {
   "cell_type": "markdown",
   "metadata": {},
   "source": [
    "##  Step 3: Analyze the data \n",
    "In this step, we are finding the minutes, texts and volume of data the users of each plan require per month. Also, find the mean, dipersion, and standard deviation.\n"
   ]
  },
  {
   "cell_type": "code",
   "execution_count": 14,
   "metadata": {},
   "outputs": [
    {
     "name": "stdout",
     "output_type": "stream",
     "text": [
      "   month  user_id  total_calls  total_duration\n",
      "0      1     1042           18           100.0\n",
      "1      1     1077           42           257.0\n",
      "2      1     1185           23           163.0\n",
      "3      1     1196           42           255.0\n",
      "4      1     1214            5            14.0\n",
      "5      1     1362           42           258.0\n",
      "6      2     1042           37           227.0\n",
      "7      2     1077          111           692.0\n",
      "8      2     1099            7            35.0\n",
      "9      2     1138           42           271.0\n"
     ]
    }
   ],
   "source": [
    "# Finding number of calls made and minutes spent per month for each user\n",
    "\n",
    "calls['month'] = pd.DatetimeIndex(calls['call_date']).month \n",
    "#extracting mth from date so that we can aggregate calls made in a month\n",
    "#print(calls)\n",
    "\n",
    "total_calls = calls.pivot_table(index=['month', 'user_id'], values='duration', aggfunc=['count', 'sum'])\n",
    "total_calls.reset_index(inplace=True)\n",
    "total_calls.columns = ['month', 'user_id', 'total_calls', 'total_duration']\n",
    "print(total_calls.head(10))\n"
   ]
  },
  {
   "cell_type": "code",
   "execution_count": 15,
   "metadata": {
    "scrolled": true
   },
   "outputs": [
    {
     "data": {
      "text/html": [
       "<div>\n",
       "<style scoped>\n",
       "    .dataframe tbody tr th:only-of-type {\n",
       "        vertical-align: middle;\n",
       "    }\n",
       "\n",
       "    .dataframe tbody tr th {\n",
       "        vertical-align: top;\n",
       "    }\n",
       "\n",
       "    .dataframe thead th {\n",
       "        text-align: right;\n",
       "    }\n",
       "</style>\n",
       "<table border=\"1\" class=\"dataframe\">\n",
       "  <thead>\n",
       "    <tr style=\"text-align: right;\">\n",
       "      <th></th>\n",
       "      <th>month</th>\n",
       "      <th>user_id</th>\n",
       "      <th>total_msgs</th>\n",
       "    </tr>\n",
       "  </thead>\n",
       "  <tbody>\n",
       "    <tr>\n",
       "      <td>0</td>\n",
       "      <td>1</td>\n",
       "      <td>1077</td>\n",
       "      <td>37</td>\n",
       "    </tr>\n",
       "    <tr>\n",
       "      <td>1</td>\n",
       "      <td>1</td>\n",
       "      <td>1196</td>\n",
       "      <td>23</td>\n",
       "    </tr>\n",
       "    <tr>\n",
       "      <td>2</td>\n",
       "      <td>1</td>\n",
       "      <td>1214</td>\n",
       "      <td>2</td>\n",
       "    </tr>\n",
       "    <tr>\n",
       "      <td>3</td>\n",
       "      <td>1</td>\n",
       "      <td>1362</td>\n",
       "      <td>21</td>\n",
       "    </tr>\n",
       "    <tr>\n",
       "      <td>4</td>\n",
       "      <td>2</td>\n",
       "      <td>1028</td>\n",
       "      <td>12</td>\n",
       "    </tr>\n",
       "    <tr>\n",
       "      <td>...</td>\n",
       "      <td>...</td>\n",
       "      <td>...</td>\n",
       "      <td>...</td>\n",
       "    </tr>\n",
       "    <tr>\n",
       "      <td>1801</td>\n",
       "      <td>12</td>\n",
       "      <td>1491</td>\n",
       "      <td>43</td>\n",
       "    </tr>\n",
       "    <tr>\n",
       "      <td>1802</td>\n",
       "      <td>12</td>\n",
       "      <td>1492</td>\n",
       "      <td>37</td>\n",
       "    </tr>\n",
       "    <tr>\n",
       "      <td>1803</td>\n",
       "      <td>12</td>\n",
       "      <td>1494</td>\n",
       "      <td>33</td>\n",
       "    </tr>\n",
       "    <tr>\n",
       "      <td>1804</td>\n",
       "      <td>12</td>\n",
       "      <td>1496</td>\n",
       "      <td>11</td>\n",
       "    </tr>\n",
       "    <tr>\n",
       "      <td>1805</td>\n",
       "      <td>12</td>\n",
       "      <td>1497</td>\n",
       "      <td>50</td>\n",
       "    </tr>\n",
       "  </tbody>\n",
       "</table>\n",
       "<p>1806 rows × 3 columns</p>\n",
       "</div>"
      ],
      "text/plain": [
       "      month  user_id  total_msgs\n",
       "0         1     1077          37\n",
       "1         1     1196          23\n",
       "2         1     1214           2\n",
       "3         1     1362          21\n",
       "4         2     1028          12\n",
       "...     ...      ...         ...\n",
       "1801     12     1491          43\n",
       "1802     12     1492          37\n",
       "1803     12     1494          33\n",
       "1804     12     1496          11\n",
       "1805     12     1497          50\n",
       "\n",
       "[1806 rows x 3 columns]"
      ]
     },
     "execution_count": 15,
     "metadata": {},
     "output_type": "execute_result"
    }
   ],
   "source": [
    "# Finding number of messages sent per month per user for each user\n",
    "\n",
    "messages['month'] = pd. DatetimeIndex(messages['message_date']).month\n",
    "#extracting month from date so that we can aggregate messages sent in a month\n",
    "\n",
    "total_messages = messages. pivot_table(index=['month','user_id'], values='id', aggfunc='count')\n",
    "total_messages.reset_index(inplace=True)\n",
    "total_messages.columns = ['month', 'user_id', 'total_msgs']\n",
    "total_messages\n"
   ]
  },
  {
   "cell_type": "code",
   "execution_count": 16,
   "metadata": {},
   "outputs": [
    {
     "data": {
      "text/html": [
       "<div>\n",
       "<style scoped>\n",
       "    .dataframe tbody tr th:only-of-type {\n",
       "        vertical-align: middle;\n",
       "    }\n",
       "\n",
       "    .dataframe tbody tr th {\n",
       "        vertical-align: top;\n",
       "    }\n",
       "\n",
       "    .dataframe thead th {\n",
       "        text-align: right;\n",
       "    }\n",
       "</style>\n",
       "<table border=\"1\" class=\"dataframe\">\n",
       "  <thead>\n",
       "    <tr style=\"text-align: right;\">\n",
       "      <th></th>\n",
       "      <th>month</th>\n",
       "      <th>user_id</th>\n",
       "      <th>total_mb_used</th>\n",
       "    </tr>\n",
       "  </thead>\n",
       "  <tbody>\n",
       "    <tr>\n",
       "      <td>0</td>\n",
       "      <td>1</td>\n",
       "      <td>1042</td>\n",
       "      <td>1854.93</td>\n",
       "    </tr>\n",
       "    <tr>\n",
       "      <td>1</td>\n",
       "      <td>1</td>\n",
       "      <td>1077</td>\n",
       "      <td>10635.64</td>\n",
       "    </tr>\n",
       "    <tr>\n",
       "      <td>2</td>\n",
       "      <td>1</td>\n",
       "      <td>1185</td>\n",
       "      <td>6812.77</td>\n",
       "    </tr>\n",
       "    <tr>\n",
       "      <td>3</td>\n",
       "      <td>1</td>\n",
       "      <td>1196</td>\n",
       "      <td>8908.61</td>\n",
       "    </tr>\n",
       "    <tr>\n",
       "      <td>4</td>\n",
       "      <td>1</td>\n",
       "      <td>1214</td>\n",
       "      <td>1315.35</td>\n",
       "    </tr>\n",
       "    <tr>\n",
       "      <td>...</td>\n",
       "      <td>...</td>\n",
       "      <td>...</td>\n",
       "      <td>...</td>\n",
       "    </tr>\n",
       "    <tr>\n",
       "      <td>2272</td>\n",
       "      <td>12</td>\n",
       "      <td>1495</td>\n",
       "      <td>24097.40</td>\n",
       "    </tr>\n",
       "    <tr>\n",
       "      <td>2273</td>\n",
       "      <td>12</td>\n",
       "      <td>1496</td>\n",
       "      <td>16438.99</td>\n",
       "    </tr>\n",
       "    <tr>\n",
       "      <td>2274</td>\n",
       "      <td>12</td>\n",
       "      <td>1497</td>\n",
       "      <td>11106.55</td>\n",
       "    </tr>\n",
       "    <tr>\n",
       "      <td>2275</td>\n",
       "      <td>12</td>\n",
       "      <td>1498</td>\n",
       "      <td>23137.69</td>\n",
       "    </tr>\n",
       "    <tr>\n",
       "      <td>2276</td>\n",
       "      <td>12</td>\n",
       "      <td>1499</td>\n",
       "      <td>22059.21</td>\n",
       "    </tr>\n",
       "  </tbody>\n",
       "</table>\n",
       "<p>2277 rows × 3 columns</p>\n",
       "</div>"
      ],
      "text/plain": [
       "      month  user_id  total_mb_used\n",
       "0         1     1042        1854.93\n",
       "1         1     1077       10635.64\n",
       "2         1     1185        6812.77\n",
       "3         1     1196        8908.61\n",
       "4         1     1214        1315.35\n",
       "...     ...      ...            ...\n",
       "2272     12     1495       24097.40\n",
       "2273     12     1496       16438.99\n",
       "2274     12     1497       11106.55\n",
       "2275     12     1498       23137.69\n",
       "2276     12     1499       22059.21\n",
       "\n",
       "[2277 rows x 3 columns]"
      ]
     },
     "execution_count": 16,
     "metadata": {},
     "output_type": "execute_result"
    }
   ],
   "source": [
    "#  Finding volume of data (internet) per month per user for each user\n",
    "\n",
    "internet['month'] = pd. DatetimeIndex(internet['session_date']). month\n",
    "#extracting month from date so that we can aggregate internet usage in a month\n",
    "\n",
    "total_internet = internet. pivot_table(index=['month','user_id'], values='mb_used', aggfunc='sum')\n",
    "total_internet.reset_index(inplace=True)\n",
    "total_internet.columns = ['month', 'user_id', 'total_mb_used']\n",
    "total_internet"
   ]
  },
  {
   "cell_type": "code",
   "execution_count": 18,
   "metadata": {},
   "outputs": [
    {
     "data": {
      "text/html": [
       "<div>\n",
       "<style scoped>\n",
       "    .dataframe tbody tr th:only-of-type {\n",
       "        vertical-align: middle;\n",
       "    }\n",
       "\n",
       "    .dataframe tbody tr th {\n",
       "        vertical-align: top;\n",
       "    }\n",
       "\n",
       "    .dataframe thead th {\n",
       "        text-align: right;\n",
       "    }\n",
       "</style>\n",
       "<table border=\"1\" class=\"dataframe\">\n",
       "  <thead>\n",
       "    <tr style=\"text-align: right;\">\n",
       "      <th></th>\n",
       "      <th>user_id</th>\n",
       "      <th>plan</th>\n",
       "      <th>city</th>\n",
       "      <th>calls</th>\n",
       "      <th>duration</th>\n",
       "      <th>gb_used</th>\n",
       "      <th>messages</th>\n",
       "    </tr>\n",
       "  </thead>\n",
       "  <tbody>\n",
       "    <tr>\n",
       "      <td>0</td>\n",
       "      <td>1000</td>\n",
       "      <td>ultimate</td>\n",
       "      <td>atlanta-sandy springs-roswell, ga msa</td>\n",
       "      <td>16.0</td>\n",
       "      <td>108.0</td>\n",
       "      <td>2.0</td>\n",
       "      <td>11.0</td>\n",
       "    </tr>\n",
       "    <tr>\n",
       "      <td>1</td>\n",
       "      <td>1001</td>\n",
       "      <td>surf</td>\n",
       "      <td>seattle-tacoma-bellevue, wa msa</td>\n",
       "      <td>27.0</td>\n",
       "      <td>160.0</td>\n",
       "      <td>7.0</td>\n",
       "      <td>30.0</td>\n",
       "    </tr>\n",
       "    <tr>\n",
       "      <td>2</td>\n",
       "      <td>1001</td>\n",
       "      <td>surf</td>\n",
       "      <td>seattle-tacoma-bellevue, wa msa</td>\n",
       "      <td>49.0</td>\n",
       "      <td>278.0</td>\n",
       "      <td>14.0</td>\n",
       "      <td>44.0</td>\n",
       "    </tr>\n",
       "    <tr>\n",
       "      <td>3</td>\n",
       "      <td>1001</td>\n",
       "      <td>surf</td>\n",
       "      <td>seattle-tacoma-bellevue, wa msa</td>\n",
       "      <td>65.0</td>\n",
       "      <td>348.0</td>\n",
       "      <td>22.0</td>\n",
       "      <td>53.0</td>\n",
       "    </tr>\n",
       "    <tr>\n",
       "      <td>4</td>\n",
       "      <td>1001</td>\n",
       "      <td>surf</td>\n",
       "      <td>seattle-tacoma-bellevue, wa msa</td>\n",
       "      <td>64.0</td>\n",
       "      <td>379.0</td>\n",
       "      <td>19.0</td>\n",
       "      <td>36.0</td>\n",
       "    </tr>\n",
       "    <tr>\n",
       "      <td>...</td>\n",
       "      <td>...</td>\n",
       "      <td>...</td>\n",
       "      <td>...</td>\n",
       "      <td>...</td>\n",
       "      <td>...</td>\n",
       "      <td>...</td>\n",
       "      <td>...</td>\n",
       "    </tr>\n",
       "    <tr>\n",
       "      <td>2288</td>\n",
       "      <td>1498</td>\n",
       "      <td>surf</td>\n",
       "      <td>new york-newark-jersey city, ny-nj-pa msa</td>\n",
       "      <td>39.0</td>\n",
       "      <td>308.0</td>\n",
       "      <td>23.0</td>\n",
       "      <td>NaN</td>\n",
       "    </tr>\n",
       "    <tr>\n",
       "      <td>2289</td>\n",
       "      <td>1499</td>\n",
       "      <td>surf</td>\n",
       "      <td>orlando-kissimmee-sanford, fl msa</td>\n",
       "      <td>41.0</td>\n",
       "      <td>312.0</td>\n",
       "      <td>13.0</td>\n",
       "      <td>NaN</td>\n",
       "    </tr>\n",
       "    <tr>\n",
       "      <td>2290</td>\n",
       "      <td>1499</td>\n",
       "      <td>surf</td>\n",
       "      <td>orlando-kissimmee-sanford, fl msa</td>\n",
       "      <td>53.0</td>\n",
       "      <td>344.0</td>\n",
       "      <td>20.0</td>\n",
       "      <td>NaN</td>\n",
       "    </tr>\n",
       "    <tr>\n",
       "      <td>2291</td>\n",
       "      <td>1499</td>\n",
       "      <td>surf</td>\n",
       "      <td>orlando-kissimmee-sanford, fl msa</td>\n",
       "      <td>45.0</td>\n",
       "      <td>269.0</td>\n",
       "      <td>17.0</td>\n",
       "      <td>NaN</td>\n",
       "    </tr>\n",
       "    <tr>\n",
       "      <td>2292</td>\n",
       "      <td>1499</td>\n",
       "      <td>surf</td>\n",
       "      <td>orlando-kissimmee-sanford, fl msa</td>\n",
       "      <td>65.0</td>\n",
       "      <td>441.0</td>\n",
       "      <td>22.0</td>\n",
       "      <td>NaN</td>\n",
       "    </tr>\n",
       "  </tbody>\n",
       "</table>\n",
       "<p>2293 rows × 7 columns</p>\n",
       "</div>"
      ],
      "text/plain": [
       "      user_id      plan                                       city  calls  \\\n",
       "0        1000  ultimate      atlanta-sandy springs-roswell, ga msa   16.0   \n",
       "1        1001      surf            seattle-tacoma-bellevue, wa msa   27.0   \n",
       "2        1001      surf            seattle-tacoma-bellevue, wa msa   49.0   \n",
       "3        1001      surf            seattle-tacoma-bellevue, wa msa   65.0   \n",
       "4        1001      surf            seattle-tacoma-bellevue, wa msa   64.0   \n",
       "...       ...       ...                                        ...    ...   \n",
       "2288     1498      surf  new york-newark-jersey city, ny-nj-pa msa   39.0   \n",
       "2289     1499      surf          orlando-kissimmee-sanford, fl msa   41.0   \n",
       "2290     1499      surf          orlando-kissimmee-sanford, fl msa   53.0   \n",
       "2291     1499      surf          orlando-kissimmee-sanford, fl msa   45.0   \n",
       "2292     1499      surf          orlando-kissimmee-sanford, fl msa   65.0   \n",
       "\n",
       "      duration  gb_used  messages  \n",
       "0        108.0      2.0      11.0  \n",
       "1        160.0      7.0      30.0  \n",
       "2        278.0     14.0      44.0  \n",
       "3        348.0     22.0      53.0  \n",
       "4        379.0     19.0      36.0  \n",
       "...        ...      ...       ...  \n",
       "2288     308.0     23.0       NaN  \n",
       "2289     312.0     13.0       NaN  \n",
       "2290     344.0     20.0       NaN  \n",
       "2291     269.0     17.0       NaN  \n",
       "2292     441.0     22.0       NaN  \n",
       "\n",
       "[2293 rows x 7 columns]"
      ]
     },
     "metadata": {},
     "output_type": "display_data"
    }
   ],
   "source": [
    "# Inorder to calculate monthyl revenue from each user, \n",
    "#we are combining calls, messages, internet usage  and users datasets together\n",
    "\n",
    "#Calls per user per month\n",
    "calls_made = calls.groupby(['user_id','month']).agg({'id':'count'}).rename(columns={'id':'calls'})\n",
    "\n",
    "#Minutes per user per month\n",
    "min_spent = calls.groupby(['user_id','month']).agg({'duration':'sum'}).rename(columns={'duration':'duration'})\n",
    "\n",
    "#Internet per user per month\n",
    "#mb_used = internet.groupby(['user_id','month']).agg({'mb_used':'sum'}).rename(columns={'mb_used':'mb_used'})\n",
    "# Added for V2\n",
    "gb_used = internet.groupby(['user_id','month']).agg({'mb_used':'sum'}).rename(columns={'mb_used':'gb_used'})\n",
    "gb_used['gb_used'] = np.ceil(gb_used['gb_used']/1024)\n",
    "\n",
    "#Messages per user per month\n",
    "messages_sent = messages.groupby(['user_id','month']).agg({'id':'count'}).rename(columns={'id':'messages'})\n",
    "\n",
    "#Plan for each user\n",
    "user_plan = users[['user_id','plan','city']]\n",
    "callplan_data = pd.concat([calls_made, min_spent, gb_used, messages_sent],axis=1)\n",
    "callplan_data  = user_plan.merge(callplan_data,on='user_id')\n",
    "\n",
    "display(callplan_data)\n",
    "#callplan_data.info()"
   ]
  },
  {
   "cell_type": "code",
   "execution_count": 19,
   "metadata": {
    "scrolled": false
   },
   "outputs": [
    {
     "data": {
      "text/plain": [
       "user_id       0\n",
       "plan          0\n",
       "city          0\n",
       "calls        35\n",
       "duration     35\n",
       "gb_used      16\n",
       "messages    487\n",
       "dtype: int64"
      ]
     },
     "execution_count": 19,
     "metadata": {},
     "output_type": "execute_result"
    }
   ],
   "source": [
    "# Check for empty values \n",
    "callplan_data.isnull().sum ()"
   ]
  },
  {
   "cell_type": "code",
   "execution_count": 21,
   "metadata": {},
   "outputs": [],
   "source": [
    "# Replace empty values with zero \n",
    "callplan_data  =  callplan_data.fillna(0)"
   ]
  },
  {
   "cell_type": "markdown",
   "metadata": {},
   "source": [
    "<div class=\"alert alert-success\">\n",
    "<b>Reviewer's comment</b>\n",
    "<p>Good job collecting all data into one dataframe!</p>\n",
    "</div>"
   ]
  },
  {
   "cell_type": "code",
   "execution_count": 22,
   "metadata": {},
   "outputs": [
    {
     "data": {
      "text/html": [
       "<div>\n",
       "<style scoped>\n",
       "    .dataframe tbody tr th:only-of-type {\n",
       "        vertical-align: middle;\n",
       "    }\n",
       "\n",
       "    .dataframe tbody tr th {\n",
       "        vertical-align: top;\n",
       "    }\n",
       "\n",
       "    .dataframe thead th {\n",
       "        text-align: right;\n",
       "    }\n",
       "</style>\n",
       "<table border=\"1\" class=\"dataframe\">\n",
       "  <thead>\n",
       "    <tr style=\"text-align: right;\">\n",
       "      <th></th>\n",
       "      <th>user_id</th>\n",
       "      <th>plan</th>\n",
       "      <th>city</th>\n",
       "      <th>calls</th>\n",
       "      <th>duration</th>\n",
       "      <th>gb_used</th>\n",
       "      <th>messages</th>\n",
       "    </tr>\n",
       "  </thead>\n",
       "  <tbody>\n",
       "    <tr>\n",
       "      <td>0</td>\n",
       "      <td>1000</td>\n",
       "      <td>ultimate</td>\n",
       "      <td>atlanta-sandy springs-roswell, ga msa</td>\n",
       "      <td>16.0</td>\n",
       "      <td>108.0</td>\n",
       "      <td>2.0</td>\n",
       "      <td>11.0</td>\n",
       "    </tr>\n",
       "    <tr>\n",
       "      <td>1</td>\n",
       "      <td>1001</td>\n",
       "      <td>surf</td>\n",
       "      <td>seattle-tacoma-bellevue, wa msa</td>\n",
       "      <td>27.0</td>\n",
       "      <td>160.0</td>\n",
       "      <td>7.0</td>\n",
       "      <td>30.0</td>\n",
       "    </tr>\n",
       "    <tr>\n",
       "      <td>2</td>\n",
       "      <td>1001</td>\n",
       "      <td>surf</td>\n",
       "      <td>seattle-tacoma-bellevue, wa msa</td>\n",
       "      <td>49.0</td>\n",
       "      <td>278.0</td>\n",
       "      <td>14.0</td>\n",
       "      <td>44.0</td>\n",
       "    </tr>\n",
       "    <tr>\n",
       "      <td>3</td>\n",
       "      <td>1001</td>\n",
       "      <td>surf</td>\n",
       "      <td>seattle-tacoma-bellevue, wa msa</td>\n",
       "      <td>65.0</td>\n",
       "      <td>348.0</td>\n",
       "      <td>22.0</td>\n",
       "      <td>53.0</td>\n",
       "    </tr>\n",
       "    <tr>\n",
       "      <td>4</td>\n",
       "      <td>1001</td>\n",
       "      <td>surf</td>\n",
       "      <td>seattle-tacoma-bellevue, wa msa</td>\n",
       "      <td>64.0</td>\n",
       "      <td>379.0</td>\n",
       "      <td>19.0</td>\n",
       "      <td>36.0</td>\n",
       "    </tr>\n",
       "    <tr>\n",
       "      <td>...</td>\n",
       "      <td>...</td>\n",
       "      <td>...</td>\n",
       "      <td>...</td>\n",
       "      <td>...</td>\n",
       "      <td>...</td>\n",
       "      <td>...</td>\n",
       "      <td>...</td>\n",
       "    </tr>\n",
       "    <tr>\n",
       "      <td>2288</td>\n",
       "      <td>1498</td>\n",
       "      <td>surf</td>\n",
       "      <td>new york-newark-jersey city, ny-nj-pa msa</td>\n",
       "      <td>39.0</td>\n",
       "      <td>308.0</td>\n",
       "      <td>23.0</td>\n",
       "      <td>0.0</td>\n",
       "    </tr>\n",
       "    <tr>\n",
       "      <td>2289</td>\n",
       "      <td>1499</td>\n",
       "      <td>surf</td>\n",
       "      <td>orlando-kissimmee-sanford, fl msa</td>\n",
       "      <td>41.0</td>\n",
       "      <td>312.0</td>\n",
       "      <td>13.0</td>\n",
       "      <td>0.0</td>\n",
       "    </tr>\n",
       "    <tr>\n",
       "      <td>2290</td>\n",
       "      <td>1499</td>\n",
       "      <td>surf</td>\n",
       "      <td>orlando-kissimmee-sanford, fl msa</td>\n",
       "      <td>53.0</td>\n",
       "      <td>344.0</td>\n",
       "      <td>20.0</td>\n",
       "      <td>0.0</td>\n",
       "    </tr>\n",
       "    <tr>\n",
       "      <td>2291</td>\n",
       "      <td>1499</td>\n",
       "      <td>surf</td>\n",
       "      <td>orlando-kissimmee-sanford, fl msa</td>\n",
       "      <td>45.0</td>\n",
       "      <td>269.0</td>\n",
       "      <td>17.0</td>\n",
       "      <td>0.0</td>\n",
       "    </tr>\n",
       "    <tr>\n",
       "      <td>2292</td>\n",
       "      <td>1499</td>\n",
       "      <td>surf</td>\n",
       "      <td>orlando-kissimmee-sanford, fl msa</td>\n",
       "      <td>65.0</td>\n",
       "      <td>441.0</td>\n",
       "      <td>22.0</td>\n",
       "      <td>0.0</td>\n",
       "    </tr>\n",
       "  </tbody>\n",
       "</table>\n",
       "<p>2293 rows × 7 columns</p>\n",
       "</div>"
      ],
      "text/plain": [
       "      user_id      plan                                       city  calls  \\\n",
       "0        1000  ultimate      atlanta-sandy springs-roswell, ga msa   16.0   \n",
       "1        1001      surf            seattle-tacoma-bellevue, wa msa   27.0   \n",
       "2        1001      surf            seattle-tacoma-bellevue, wa msa   49.0   \n",
       "3        1001      surf            seattle-tacoma-bellevue, wa msa   65.0   \n",
       "4        1001      surf            seattle-tacoma-bellevue, wa msa   64.0   \n",
       "...       ...       ...                                        ...    ...   \n",
       "2288     1498      surf  new york-newark-jersey city, ny-nj-pa msa   39.0   \n",
       "2289     1499      surf          orlando-kissimmee-sanford, fl msa   41.0   \n",
       "2290     1499      surf          orlando-kissimmee-sanford, fl msa   53.0   \n",
       "2291     1499      surf          orlando-kissimmee-sanford, fl msa   45.0   \n",
       "2292     1499      surf          orlando-kissimmee-sanford, fl msa   65.0   \n",
       "\n",
       "      duration  gb_used  messages  \n",
       "0        108.0      2.0      11.0  \n",
       "1        160.0      7.0      30.0  \n",
       "2        278.0     14.0      44.0  \n",
       "3        348.0     22.0      53.0  \n",
       "4        379.0     19.0      36.0  \n",
       "...        ...      ...       ...  \n",
       "2288     308.0     23.0       0.0  \n",
       "2289     312.0     13.0       0.0  \n",
       "2290     344.0     20.0       0.0  \n",
       "2291     269.0     17.0       0.0  \n",
       "2292     441.0     22.0       0.0  \n",
       "\n",
       "[2293 rows x 7 columns]"
      ]
     },
     "execution_count": 22,
     "metadata": {},
     "output_type": "execute_result"
    }
   ],
   "source": [
    "#plan_name = users.loc[users['user_id'] == 1000, 'plan']\n",
    "#display(plan_name)\n",
    "callplan_data"
   ]
  },
  {
   "cell_type": "code",
   "execution_count": 23,
   "metadata": {},
   "outputs": [
    {
     "name": "stdout",
     "output_type": "stream",
     "text": [
      "      user_id      plan                                       city  calls  \\\n",
      "0        1000  ultimate      atlanta-sandy springs-roswell, ga msa   16.0   \n",
      "1        1001      surf            seattle-tacoma-bellevue, wa msa   27.0   \n",
      "2        1001      surf            seattle-tacoma-bellevue, wa msa   49.0   \n",
      "3        1001      surf            seattle-tacoma-bellevue, wa msa   65.0   \n",
      "4        1001      surf            seattle-tacoma-bellevue, wa msa   64.0   \n",
      "...       ...       ...                                        ...    ...   \n",
      "2288     1498      surf  new york-newark-jersey city, ny-nj-pa msa   39.0   \n",
      "2289     1499      surf          orlando-kissimmee-sanford, fl msa   41.0   \n",
      "2290     1499      surf          orlando-kissimmee-sanford, fl msa   53.0   \n",
      "2291     1499      surf          orlando-kissimmee-sanford, fl msa   45.0   \n",
      "2292     1499      surf          orlando-kissimmee-sanford, fl msa   65.0   \n",
      "\n",
      "      duration  gb_used  messages  revenue  \n",
      "0        108.0      2.0      11.0    70.00  \n",
      "1        160.0      7.0      30.0    20.00  \n",
      "2        278.0     14.0      44.0    20.00  \n",
      "3        348.0     22.0      53.0    90.09  \n",
      "4        379.0     19.0      36.0    60.00  \n",
      "...        ...      ...       ...      ...  \n",
      "2288     308.0     23.0       0.0   100.00  \n",
      "2289     312.0     13.0       0.0    20.00  \n",
      "2290     344.0     20.0       0.0    70.00  \n",
      "2291     269.0     17.0       0.0    40.00  \n",
      "2292     441.0     22.0       0.0    90.00  \n",
      "\n",
      "[2293 rows x 8 columns]\n"
     ]
    }
   ],
   "source": [
    "# calculating monthly revenue  per user per call plan\n",
    "\n",
    "def calculate_revenue(row):\n",
    "    user_id = row['user_id']\n",
    "    gb_used = row['gb_used']\n",
    "    messages_sent = row['messages']\n",
    "    minutes_sent = row['duration']\n",
    "    \n",
    "    plan_type = users.loc[users['user_id'] == user_id, 'plan'].iloc[0]\n",
    "    plan_detail = plans.loc[plans['plan_name'] == plan_type]\n",
    "    \n",
    "    minutes_included = plan_detail['minutes_included'].iloc[0]\n",
    "    messages_included = plan_detail['messages_included'].iloc[0]\n",
    "    gb_per_month_included = plan_detail['gb_per_month_included'].iloc[0]\n",
    "       \n",
    "    usd_monthly_pay = plan_detail['usd_monthly_pay'].iloc[0]\n",
    "    \n",
    "    usd_per_gb = plan_detail['usd_per_gb'].iloc[0]\n",
    "    usd_per_message =plan_detail['usd_per_message'].iloc[0]\n",
    "    usd_per_minute = plan_detail['usd_per_minute'].iloc[0]\n",
    "     \n",
    "    total_internet_cost = 0\n",
    "    total_message_cost = 0    \n",
    "    total_minute_cost = 0  \n",
    "       \n",
    "    if minutes_sent > minutes_included:\n",
    "        total_minute_cost = (minutes_sent - minutes_included) * usd_per_minute \n",
    "    if messages_sent > messages_included:\n",
    "        total_message_cost = (messages_sent - messages_included) *  usd_per_message\n",
    "    if gb_used > gb_per_month_included:\n",
    "        total_internet_cost = (gb_used - gb_per_month_included) *  usd_per_gb \n",
    "    \n",
    "    return (total_minute_cost+total_message_cost+total_internet_cost+usd_monthly_pay)\n",
    "\n",
    "callplan_data['revenue'] = callplan_data.apply(calculate_revenue, axis=1)\n",
    "print(callplan_data)\n"
   ]
  },
  {
   "cell_type": "markdown",
   "metadata": {},
   "source": [
    "### Conclusion:\n",
    "\n",
    "We calculated monthly revenue for each user by merging the calls, messages, internet usage and users datasets together. Now, our data is combined with all  user usage columns and revenue."
   ]
  },
  {
   "cell_type": "markdown",
   "metadata": {},
   "source": [
    "<div class=\"alert alert-danger\">\n",
    "<b>Reviewer's comment</b>\n",
    "    <p>So, I have a few comments here:\n",
    "        <ul>\n",
    "            <li>First, as I mentioned, it's not a good idea to hard-code the parameters of the plans. Try to extract them automatically from the \"plans\" dataframe.</li>\n",
    "            <li>Then, I guess it's a typo in variable name, but we have cost per GB in the \"plans\" table, not per MB</li>\n",
    "            <li>The function that computes revenue for SURF and ULTIMATE plans is exactly the same, just with different parameters - so it's better to implement it as one function (you have \"plan\" variable associated with each user, so you can use it to select the plan within the function)</li>\n",
    "            <li>Finally, once you implement the revenue calculation as one function, there will be not much motivation to split \"callplan_data\" into \"callplan_data_forsurf\" and \"callplan_data_forultimate\" anymore - you can keep operating the same original dataframe (compute revenue for all users at once, automatically), and just slice when you really need it</li>\n",
    "        </ul>   \n",
    "    </p>\n",
    "</div>\n",
    "<div class=\"alert alert-success\">\n",
    "<b>Reviewer's comment - V2</b>\n",
    "<p>Great, now the revenue calculation looks more concise and automated.\n",
    "    \n",
    "Some alternative ways of extracting the data from a table cell:\n",
    "\n",
    "    plan_detail = plans.loc[plans['plan_name'] == plan_type].reset_index()\n",
    "    minutes_included = plan_detail.loc[0, 'minutes_included']\n",
    "\n",
    "or\n",
    "\n",
    "    minutes_included = plans.loc[plans['plan_name'] == plan_type, 'minutes_included'].values[0]\n",
    "\n",
    "but your approach works too!\n",
    "    </p>\n",
    "</div>"
   ]
  },
  {
   "cell_type": "code",
   "execution_count": 24,
   "metadata": {},
   "outputs": [
    {
     "name": "stdout",
     "output_type": "stream",
     "text": [
      "Mean calls: 59.81\n",
      "Median calls: 60.00\n",
      "Variance calls: 1024.50\n",
      "Standard Deviation calls: 32.01 \n",
      "\n",
      "Mean duration: 381.03\n",
      "Median duration: 378.00\n",
      "Variance duration: 43700.23\n",
      "Standard Deviation duration: 209.05 \n",
      "\n",
      "Mean messages: 31.16\n",
      "Median messages: 24.00\n",
      "Variance messages: 1126.01\n",
      "Standard Deviation messages: 33.56 \n",
      "\n",
      "Mean gb_used: 16.67\n",
      "Median gb_used: 17.00\n",
      "Variance gb_used: 61.54\n",
      "Standard Deviation gb_used: 7.85 \n",
      "\n",
      "Mean revenue: 59.99\n",
      "Median revenue: 40.00\n",
      "Variance revenue: 3039.02\n",
      "Standard Deviation revenue: 55.13 \n",
      "\n"
     ]
    }
   ],
   "source": [
    "# calculate the average number, variance and standard deviation.\n",
    "# SURF plan\n",
    "#applying calculate_revenue_for_surf function to calculate revenue\n",
    "surf_data = callplan_data.query('plan ==\"surf\"')\n",
    "#display(surf_data)\n",
    "\n",
    "for column in surf_data[['calls','duration','messages','gb_used','revenue']]:\n",
    "    \n",
    "    print('Mean {}: {:.2f}'. format(column,surf_data[column]. mean()))\n",
    "    \n",
    "    print('Median {}: {:.2f}'. format(column,surf_data[column]. median()))\n",
    "    \n",
    "    print('Variance {}: {:.2f}'. format(column,np. var(surf_data[column])))\n",
    "    \n",
    "    print('Standard Deviation {}: {:.2f} \\n'. format(column, np. std(surf_data[column])))\n",
    "\n"
   ]
  },
  {
   "cell_type": "markdown",
   "metadata": {},
   "source": [
    "<div class=\"alert alert-warning\">\n",
    "<b>Reviewer's comment</b>\n",
    "    <p>As a general rule: if you find yourself repeating the same lines of code multiple times, it's very likely that you can automate it with a function or a loop.\n",
    "    </p>\n",
    "</div>"
   ]
  },
  {
   "cell_type": "code",
   "execution_count": 25,
   "metadata": {
    "scrolled": false
   },
   "outputs": [
    {
     "name": "stdout",
     "output_type": "stream",
     "text": [
      "Mean calls: 60.63\n",
      "Median calls: 61.00\n",
      "Variance calls: 1103.56\n",
      "Standard Deviation calls: 33.22 \n",
      "\n",
      "Mean duration: 382.29\n",
      "Median duration: 375.00\n",
      "Variance duration: 45874.21\n",
      "Standard Deviation duration: 214.18 \n",
      "\n",
      "Mean messages: 37.55\n",
      "Median messages: 30.00\n",
      "Variance messages: 1207.08\n",
      "Standard Deviation messages: 34.74 \n",
      "\n",
      "Mean gb_used: 17.31\n",
      "Median gb_used: 17.00\n",
      "Variance gb_used: 58.75\n",
      "Standard Deviation gb_used: 7.66 \n",
      "\n",
      "Mean revenue: 72.31\n",
      "Median revenue: 70.00\n",
      "Variance revenue: 129.67\n",
      "Standard Deviation revenue: 11.39 \n",
      "\n"
     ]
    }
   ],
   "source": [
    "# calculate the average number, variance and standard deviation.\n",
    "# ULTIMATE plan\n",
    "ultimate_data = callplan_data.query('plan ==\"ultimate\"')\n",
    "#display(ultimate_data)\n",
    "#ultimate_data.info()\n",
    "\n",
    "for column in ultimate_data[['calls','duration','messages','gb_used','revenue']]:\n",
    "    \n",
    "    print('Mean {}: {:.2f}'. format(column,ultimate_data[column]. mean()))\n",
    "    \n",
    "    print('Median {}: {:.2f}'. format(column,ultimate_data[column]. median()))\n",
    "    \n",
    "    print('Variance {}: {:.2f}'. format(column,np. var(ultimate_data[column])))\n",
    "    \n",
    "    print('Standard Deviation {}: {:.2f} \\n'. format(column, np. std(ultimate_data[column])))\n",
    "\n"
   ]
  },
  {
   "cell_type": "markdown",
   "metadata": {},
   "source": [
    "### Conclusion:\n",
    "\n",
    "- On average, people on surf plan make 60 calls that sum up to 381 minutes and 31 messages sent and 17 GB of data per month while people on the ultimate call plan make 61 calls that sum up to 382 minutes and 38 messages and use 17 GB of data per month. The usage of the call plans is not significantly different. Both the call plans have similar patterns. However, the Ultimate plan is generating more revenue than Surf. The average revenue for the surf plan is 59.99 whereas for the ultimate plan is 72.31.\n",
    "- Let's see if the std deviation of calls, minutes, messages, internet usage, and mb_used could give us any more insights to figure out which plan is better. Based on these parameters, we didn't find much difference in numbers. Based on the finding above, we can say that both the call plans have similar behaviors.\n",
    "- Let's further investigate and see if we could compare these two plans better with histograms and test with the hypothesis.\n"
   ]
  },
  {
   "cell_type": "markdown",
   "metadata": {},
   "source": [
    "#### Plot histograms and describe distributions"
   ]
  },
  {
   "cell_type": "code",
   "execution_count": 27,
   "metadata": {
    "scrolled": true
   },
   "outputs": [
    {
     "data": {
      "text/plain": [
       "Text(0.5, 0, 'Total_calls')"
      ]
     },
     "execution_count": 27,
     "metadata": {},
     "output_type": "execute_result"
    },
    {
     "data": {
      "image/png": "[encoded data removed]",
      "text/plain": [
       "<Figure size 432x288 with 1 Axes>"
      ]
     },
     "metadata": {
      "needs_background": "light"
     },
     "output_type": "display_data"
    }
   ],
   "source": [
    "plt.hist([surf_data['calls'],ultimate_data['calls']],label= ['surf','ultimate'],density = True,bins = 10,rwidth = 0.9)\n",
    "plt.title('Surf calls Vs Ultimate calls')\n",
    "plt.legend()\n",
    "plt.xlabel('Total_calls')\n"
   ]
  },
  {
   "cell_type": "markdown",
   "metadata": {},
   "source": [
    "<div class=\"alert alert-warning\">\n",
    "<b>Reviewer's comment</b>\n",
    "    <p>Just nitpicking here, but breaking the line before a comma looks a little weird and doesn't comply with any styling guidelines 😅\n",
    "        \n",
    "It's definitely better to start a new line after a comma, not before.\n",
    "    </p>\n",
    "</div>"
   ]
  },
  {
   "cell_type": "markdown",
   "metadata": {},
   "source": [
    "### Conclusion:\n",
    "Both the call plans have a similar pattern and the distribution looks normal. The only difference we could notice is that surf bars are longer than ultimate. It's probably because the sample dataset of the surf plan has more users than ultimate. The plotted histogram is skewed to the right and is centered around 60."
   ]
  },
  {
   "cell_type": "code",
   "execution_count": 28,
   "metadata": {},
   "outputs": [
    {
     "data": {
      "text/plain": [
       "Text(0.5, 0, 'Total_messages')"
      ]
     },
     "execution_count": 28,
     "metadata": {},
     "output_type": "execute_result"
    },
    {
     "data": {
      "image/png": "[encoded data removed]",
      "text/plain": [
       "<Figure size 432x288 with 1 Axes>"
      ]
     },
     "metadata": {
      "needs_background": "light"
     },
     "output_type": "display_data"
    }
   ],
   "source": [
    "plt.hist([surf_data['messages']\n",
    "          ,ultimate_data['messages']]\n",
    "          ,label= ['surf','ultimate']\n",
    "          ,density = True\n",
    "          ,bins = 15\n",
    "          ,rwidth = 0.9\n",
    "        )\n",
    "plt.title('Surf messages Vs Ultimate messages')\n",
    "plt.legend()\n",
    "plt.xlabel('Total_messages')"
   ]
  },
  {
   "cell_type": "markdown",
   "metadata": {},
   "source": [
    "### Conclusion:\n",
    "The plotted histograms for both plans follow a similar pattern as well and is skewed to the right. Just like the total_calls histogram, the total_messages histogram also shows higher values(bars) than the ultimate. However, both plans have fewer users after crossing 100 total_messages per month."
   ]
  },
  {
   "cell_type": "code",
   "execution_count": 29,
   "metadata": {
    "scrolled": true
   },
   "outputs": [
    {
     "data": {
      "text/plain": [
       "Text(0.5, 0, 'Total_internet_usage')"
      ]
     },
     "execution_count": 29,
     "metadata": {},
     "output_type": "execute_result"
    },
    {
     "data": {
      "image/png": "[encoded data removed]",
      "text/plain": [
       "<Figure size 432x288 with 1 Axes>"
      ]
     },
     "metadata": {
      "needs_background": "light"
     },
     "output_type": "display_data"
    }
   ],
   "source": [
    "# importing libraries\n",
    "import matplotlib.pyplot as plt\n",
    "\n",
    "plt.hist([surf_data['gb_used'],ultimate_data['gb_used']],label= ['surf','ultimate']\n",
    "         , density = True)\n",
    "plt.title('Surf calls Vs Ultimate calls')\n",
    "plt.legend()\n",
    "plt.xlabel('Total_internet_usage')"
   ]
  },
  {
   "cell_type": "markdown",
   "metadata": {},
   "source": [
    "### Conclusion:\n",
    "The plotted histogram is skewed to the right and is centered at 50GB. This plot is close to being a normal distribution. This histogram also follows a similar pattern to the ones above. Both plans have fewer internet usage users after crossing 80GB.\n"
   ]
  },
  {
   "cell_type": "markdown",
   "metadata": {},
   "source": [
    "<div class=\"alert alert-success\">\n",
    "<b>Reviewer's comment</b>\n",
    "    <p>Nice plots, overall! To make them absolutely perfect, you can label the axes without underscores, just with regular words, i.e. \"Total internet usage\"\n",
    "    </p>\n",
    "</div>"
   ]
  },
  {
   "cell_type": "markdown",
   "metadata": {},
   "source": [
    "## Step 4: Test the hypotheses\n",
    " #### FInd the average revenue from users of Ultimate and Surf calling plans differs.\n"
   ]
  },
  {
   "cell_type": "markdown",
   "metadata": {},
   "source": [
    "Let’s take a look at the steps for testing this hypothesis. We start with the null hypothesis H₀ which is the average revenue from users of Ultimate and Surf calling plans does not differ. The alternative hypothesis, H₁ is the average revenue from users of Ultimate and Surf calling plans to differ. For this, we will use an alpha of 0.05, which means that only in 5% of cases will we reject the null hypothesis when it is true.\n"
   ]
  },
  {
   "cell_type": "code",
   "execution_count": 30,
   "metadata": {},
   "outputs": [
    {
     "name": "stdout",
     "output_type": "stream",
     "text": [
      "surf mean and std is 59.994094087730446 55.1448663303453\n",
      "ultimate mean and std is 72.31388888888888 11.395107965742119\n"
     ]
    }
   ],
   "source": [
    "# The average revenue from users of Ultimate and Surf calling plans differs\n",
    "\n",
    "surf_mean = surf_data['revenue'].mean()\n",
    "surf_std = surf_data['revenue'].std()\n",
    "print('surf mean and std is',surf_mean,surf_std)\n",
    "ultimate_mean = ultimate_data['revenue'].mean()\n",
    "ultimate_std = ultimate_data['revenue'].std()\n",
    "print('ultimate mean and std is',ultimate_mean,ultimate_std)\n"
   ]
  },
  {
   "cell_type": "code",
   "execution_count": 31,
   "metadata": {},
   "outputs": [
    {
     "name": "stdout",
     "output_type": "stream",
     "text": [
      "p-value: 4.7715386491013573e-17\n",
      "We reject the null hypothesis\n"
     ]
    }
   ],
   "source": [
    "from scipy import stats as st\n",
    "alpha = 0.05 # critical statistical significance level\n",
    "\n",
    "# if the p-value is less than alpha, we reject the hypothesis\n",
    "results = st.ttest_ind(surf_data['revenue'], ultimate_data['revenue'],equal_var = False)\n",
    "\n",
    "print('p-value:', results.pvalue)\n",
    "\n",
    "\n",
    "if (results.pvalue < alpha):\n",
    "        print('We reject the null hypothesis')\n",
    "else:\n",
    "    print('We can not reject the null hypothesis')"
   ]
  },
  {
   "cell_type": "markdown",
   "metadata": {},
   "source": [
    "<div class=\"alert alert-warning\">\n",
    "<b>Reviewer's comment</b>\n",
    "    <p>Please keep in mind that st.ttest_ind by default assumes that variances of the datasets are equal - see euqal_var argument <a href=\"https://docs.scipy.org/doc/scipy/reference/generated/scipy.stats.ttest_ind.html\"> here </a>. If the variances are very different, it should be set to False.\n",
    "    </p>\n",
    "</div>\n"
   ]
  },
  {
   "cell_type": "markdown",
   "metadata": {},
   "source": [
    "### Conclusion:\n",
    "\n",
    "This result implies that the average revenue from users of Ultimate and Surf calling plans differs.\n",
    "\n"
   ]
  },
  {
   "cell_type": "markdown",
   "metadata": {},
   "source": [
    " #### FInd the average revenue from users in NY-NJ area is different from that of the users from other regions."
   ]
  },
  {
   "cell_type": "markdown",
   "metadata": {},
   "source": [
    "Let’s take a look at the steps for testing another hypothesis. We start with the null hypothesis H₀ which is 'The average profit from users in NY-NJ area is not different from that of the users from other regions'. The alternative hypothesis, H₁ is 'The average profit from users in NY-NJ area is different from that of the users from other regions'.\n",
    "\n",
    "For this, we will use an alpha of 0.05, which means that only in 5% of cases will we reject the null hypothesis when it is true.\n",
    "\n",
    "We will have to use a t-test to test if there is a difference."
   ]
  },
  {
   "cell_type": "code",
   "execution_count": 32,
   "metadata": {},
   "outputs": [
    {
     "name": "stdout",
     "output_type": "stream",
     "text": [
      "Surf users with mean and std from NY-NJ:  59.34 43.41\n",
      "Surf users with mean and std from other regions:  64.75 47.0\n"
     ]
    }
   ],
   "source": [
    "#The average revenue from users in NY-NJ area is different from that of the users from other regions.\n",
    "user_data_NY_NJ = callplan_data.query('city == \"new york-newark-jersey city, ny-nj-pa msa\"')\n",
    "user_data_not_NY_NJ = callplan_data.query('city != \"new york-newark-jersey city, ny-nj-pa msa\"')\n",
    "\n",
    "user_data_NY_NJ_mu = user_data_NY_NJ['revenue'].mean().round(decimals=2)\n",
    "user_data_not_NY_NJ_mu = user_data_not_NY_NJ['revenue'].mean().round(decimals=2)\n",
    "user_data_NY_NJ_std = user_data_NY_NJ['revenue'].std().round(decimals=2)\n",
    "user_data_not_NY_NJ_std = user_data_not_NY_NJ['revenue'].std().round(decimals=2)\n",
    "\n",
    "print('Surf users with mean and std from NY-NJ: ', user_data_NY_NJ_mu,user_data_NY_NJ_std)\n",
    "\n",
    "print('Surf users with mean and std from other regions: ', user_data_not_NY_NJ_mu,user_data_not_NY_NJ_std)\n",
    "\n"
   ]
  },
  {
   "cell_type": "markdown",
   "metadata": {},
   "source": [
    "As of now, the revenue of call plans is not dependent on regions. Let's dig in more."
   ]
  },
  {
   "cell_type": "code",
   "execution_count": 33,
   "metadata": {},
   "outputs": [
    {
     "name": "stdout",
     "output_type": "stream",
     "text": [
      "p-value:  0.038576783178412365\n",
      "We reject the null hypothesis\n"
     ]
    }
   ],
   "source": [
    "alpha = .05 # critical statistical significance level\n",
    "# if the p-value is less than alpha, we reject the hypothesis\n",
    "\n",
    "results = st.ttest_ind(\n",
    "        user_data_NY_NJ['revenue'], \n",
    "        user_data_not_NY_NJ['revenue'])\n",
    "\n",
    "print('p-value: ', results.pvalue)\n",
    "\n",
    "if (results.pvalue < alpha):\n",
    "        print('We reject the null hypothesis')\n",
    "else:\n",
    "        print('We can not reject the null hypothesis')"
   ]
  },
  {
   "cell_type": "markdown",
   "metadata": {},
   "source": [
    "### Conclusion:\n",
    "\n",
    "This concludes that the average revenue from users in the NY-NJ area is different from that of the users from other regions which means users from big metropolitan cities bring in  more revenue than other regions regardless of the type of call plans they choose.\n"
   ]
  },
  {
   "cell_type": "markdown",
   "metadata": {},
   "source": [
    "<div class=\"alert alert-success\">\n",
    "<b>Reviewer's comment</b>\n",
    "    <p>Overall, that is quite good statistical analysis! Please don't forget to update your conclusions if they change after you edin the project.\n",
    "    </p>\n",
    "</div>"
   ]
  },
  {
   "cell_type": "markdown",
   "metadata": {},
   "source": [
    "##  Step 5: Overall conclusion"
   ]
  },
  {
   "cell_type": "markdown",
   "metadata": {},
   "source": [
    "We verified our 'users', 'plans', 'calls', 'messages', 'internet' datasets, renamed some columns, checked for missing values, changed data types, and checked data against 'churn_date' as our preprocessing step. Then,  we calculated the mean, variance, standard variation of calls made, minutes spent, message spent, and internet usage for each user per month and calculated the revenue to analyze which one is profitable. We also tested the hypothesis to make sure if the revenue of the 'Surf' and 'Ultimate' plans varies or not. We also checked if the revenue from users in big metropolitan cities like NJ and NY varies with call plans.\n",
    "\n",
    "The average monthly revenue made from Surf plan users is 59.99 whereas Ultimate users is 72.31. Hence, the mean revenue of Ultimate plan is more than Surf plan. So, we can conclude that Ultimate is a more revenue-generating plan. \n",
    "Megaline should adjust the advertising budget more towards the Ultimate plan.\n",
    "\n",
    "We think, Surf also has potential to bring in more revenue as there's not much difference in mean total calls, minutes spent, messages sent, and internet usage when compared against Surf plan. Surf plan has a cheaper monthly charge than the Ultimate plan Hence, more people can afford it. Hence, there's not much behavioral difference between these two users plan. \n",
    "\n",
    "However, one thing we noticed based on the above hypothesis test is that big metropolitan cities bring in more revenue than other cities regardless of the type of call plans they choose. So, Megaline should adjust more advertising budget to promote the Ultimate plan to metropolitan cities (NY and NJ) whereas Surf plans to other regions. "
   ]
  },
  {
   "cell_type": "markdown",
   "metadata": {},
   "source": [
    "<div class=\"alert alert-warning\">\n",
    "<b>Reviewer's comment</b>\n",
    "    <p>For a better conclusion, I would recommend listing the steps that you have done in the analysis, as well as give some of the most important numbers to support your conclusions.\n",
    "    </p>\n",
    "</div>"
   ]
  },
  {
   "cell_type": "code",
   "execution_count": null,
   "metadata": {},
   "outputs": [],
   "source": []
  }
 ],
 "metadata": {
  "ExecuteTimeLog": [
   {
    "duration": 1813,
    "start_time": "2021-06-08T17:09:15.946Z"
   },
   {
    "duration": 56,
    "start_time": "2021-06-08T17:09:23.250Z"
   },
   {
    "duration": 12,
    "start_time": "2021-06-08T17:09:26.027Z"
   },
   {
    "duration": 32,
    "start_time": "2021-06-08T17:09:29.006Z"
   },
   {
    "duration": 38,
    "start_time": "2021-06-08T17:09:31.275Z"
   },
   {
    "duration": 5,
    "start_time": "2021-06-08T17:09:34.660Z"
   },
   {
    "duration": 16,
    "start_time": "2021-06-08T17:09:36.541Z"
   },
   {
    "duration": 91,
    "start_time": "2021-06-08T17:09:41.535Z"
   },
   {
    "duration": 102,
    "start_time": "2021-06-08T17:26:18.488Z"
   },
   {
    "duration": 83,
    "start_time": "2021-06-08T17:33:05.875Z"
   },
   {
    "duration": 86,
    "start_time": "2021-06-08T17:35:52.094Z"
   },
   {
    "duration": 442,
    "start_time": "2021-06-08T17:41:17.477Z"
   },
   {
    "duration": 26,
    "start_time": "2021-06-08T17:42:34.139Z"
   },
   {
    "duration": 49,
    "start_time": "2021-06-08T17:46:40.854Z"
   },
   {
    "duration": 339,
    "start_time": "2021-06-08T17:53:57.464Z"
   },
   {
    "duration": 325,
    "start_time": "2021-06-08T17:58:43.858Z"
   },
   {
    "duration": 338,
    "start_time": "2021-06-08T18:00:55.239Z"
   },
   {
    "duration": 340,
    "start_time": "2021-06-08T18:01:29.322Z"
   },
   {
    "duration": 394,
    "start_time": "2021-06-08T18:01:57.549Z"
   },
   {
    "duration": 336,
    "start_time": "2021-06-08T18:02:59.610Z"
   },
   {
    "duration": 57,
    "start_time": "2021-06-08T18:03:36.345Z"
   },
   {
    "duration": 334,
    "start_time": "2021-06-08T18:03:40.654Z"
   },
   {
    "duration": 319,
    "start_time": "2021-06-08T18:05:21.376Z"
   },
   {
    "duration": 41,
    "start_time": "2021-06-08T18:05:40.647Z"
   },
   {
    "duration": 62,
    "start_time": "2021-06-08T18:05:45.604Z"
   },
   {
    "duration": 107,
    "start_time": "2021-06-08T18:06:05.781Z"
   },
   {
    "duration": 84,
    "start_time": "2021-06-08T18:09:06.202Z"
   },
   {
    "duration": 8,
    "start_time": "2021-06-08T18:48:19.694Z"
   },
   {
    "duration": 7,
    "start_time": "2021-06-08T18:50:04.116Z"
   },
   {
    "duration": 6,
    "start_time": "2021-06-08T18:50:27.788Z"
   },
   {
    "duration": 8622,
    "start_time": "2021-06-08T18:50:54.055Z"
   },
   {
    "duration": 9059,
    "start_time": "2021-06-08T18:55:47.136Z"
   },
   {
    "duration": 8423,
    "start_time": "2021-06-08T18:57:17.295Z"
   },
   {
    "duration": 11,
    "start_time": "2021-06-08T18:58:35.881Z"
   },
   {
    "duration": 111,
    "start_time": "2021-06-08T18:59:41.534Z"
   },
   {
    "duration": 6,
    "start_time": "2021-06-08T19:00:07.916Z"
   },
   {
    "duration": 86,
    "start_time": "2021-06-08T19:00:14.035Z"
   },
   {
    "duration": 6,
    "start_time": "2021-06-08T19:05:00.777Z"
   },
   {
    "duration": 80,
    "start_time": "2021-06-08T19:05:03.627Z"
   },
   {
    "duration": 363,
    "start_time": "2021-06-08T19:10:16.593Z"
   },
   {
    "duration": 273,
    "start_time": "2021-06-08T19:14:22.177Z"
   },
   {
    "duration": 4,
    "start_time": "2021-06-08T19:14:52.236Z"
   },
   {
    "duration": 10,
    "start_time": "2021-06-08T19:14:59.959Z"
   },
   {
    "duration": 290,
    "start_time": "2021-06-08T19:15:09.137Z"
   },
   {
    "duration": 7,
    "start_time": "2021-06-08T19:15:35.975Z"
   },
   {
    "duration": 385,
    "start_time": "2021-06-08T19:17:26.779Z"
   },
   {
    "duration": 71,
    "start_time": "2021-06-08T19:17:39.231Z"
   },
   {
    "duration": 289,
    "start_time": "2021-06-08T19:17:48.481Z"
   },
   {
    "duration": 375,
    "start_time": "2021-06-08T19:19:18.985Z"
   },
   {
    "duration": 279,
    "start_time": "2021-06-08T19:19:44.308Z"
   },
   {
    "duration": 6,
    "start_time": "2021-06-08T19:20:01.538Z"
   },
   {
    "duration": 54,
    "start_time": "2021-06-08T19:20:13.128Z"
   },
   {
    "duration": 6,
    "start_time": "2021-06-08T19:21:48.335Z"
   },
   {
    "duration": 12,
    "start_time": "2021-06-08T19:23:54.406Z"
   },
   {
    "duration": 7862,
    "start_time": "2021-06-08T19:25:19.528Z"
   },
   {
    "duration": 312,
    "start_time": "2021-06-08T19:28:10.774Z"
   },
   {
    "duration": 21,
    "start_time": "2021-06-08T19:31:06.272Z"
   },
   {
    "duration": 371,
    "start_time": "2021-06-08T19:35:25.573Z"
   },
   {
    "duration": 50,
    "start_time": "2021-06-08T19:35:46.689Z"
   },
   {
    "duration": 12,
    "start_time": "2021-06-08T19:35:50.499Z"
   },
   {
    "duration": 38,
    "start_time": "2021-06-08T19:35:53.389Z"
   },
   {
    "duration": 39,
    "start_time": "2021-06-08T19:35:55.975Z"
   },
   {
    "duration": 5,
    "start_time": "2021-06-08T19:36:04.916Z"
   },
   {
    "duration": 15,
    "start_time": "2021-06-08T19:36:07.801Z"
   },
   {
    "duration": 83,
    "start_time": "2021-06-08T19:36:15.010Z"
   },
   {
    "duration": 97,
    "start_time": "2021-06-08T19:36:53.385Z"
   },
   {
    "duration": 49,
    "start_time": "2021-06-08T19:37:08.924Z"
   },
   {
    "duration": 327,
    "start_time": "2021-06-08T20:00:43.194Z"
   },
   {
    "duration": 49,
    "start_time": "2021-06-08T20:01:16.413Z"
   },
   {
    "duration": 40,
    "start_time": "2021-06-08T20:01:20.539Z"
   },
   {
    "duration": 94,
    "start_time": "2021-06-08T20:01:23.364Z"
   },
   {
    "duration": 73,
    "start_time": "2021-06-08T20:01:26.083Z"
   },
   {
    "duration": 70,
    "start_time": "2021-06-08T20:01:31.430Z"
   },
   {
    "duration": 67,
    "start_time": "2021-06-08T20:02:13.004Z"
   },
   {
    "duration": 77,
    "start_time": "2021-06-08T20:10:01.285Z"
   },
   {
    "duration": 144,
    "start_time": "2021-06-08T20:11:05.692Z"
   },
   {
    "duration": 96,
    "start_time": "2021-06-08T20:16:11.198Z"
   },
   {
    "duration": 95,
    "start_time": "2021-06-08T20:20:56.712Z"
   },
   {
    "duration": 329,
    "start_time": "2021-06-08T20:21:41.158Z"
   },
   {
    "duration": 386,
    "start_time": "2021-06-08T20:22:51.186Z"
   },
   {
    "duration": 300,
    "start_time": "2021-06-08T20:23:02.540Z"
   },
   {
    "duration": 354,
    "start_time": "2021-06-08T20:23:30.038Z"
   },
   {
    "duration": 290,
    "start_time": "2021-06-08T20:24:08.488Z"
   },
   {
    "duration": 353,
    "start_time": "2021-06-08T20:24:30.882Z"
   },
   {
    "duration": 292,
    "start_time": "2021-06-08T20:25:46.529Z"
   },
   {
    "duration": 299,
    "start_time": "2021-06-08T20:25:58.385Z"
   },
   {
    "duration": 286,
    "start_time": "2021-06-08T20:26:12.293Z"
   },
   {
    "duration": 94,
    "start_time": "2021-06-08T20:27:30.401Z"
   },
   {
    "duration": 131,
    "start_time": "2021-06-08T20:27:55.456Z"
   },
   {
    "duration": 98,
    "start_time": "2021-06-08T20:29:24.577Z"
   },
   {
    "duration": 10,
    "start_time": "2021-06-08T20:29:56.124Z"
   },
   {
    "duration": 44,
    "start_time": "2021-06-08T20:31:16.526Z"
   },
   {
    "duration": 97,
    "start_time": "2021-06-08T20:31:40.933Z"
   },
   {
    "duration": 450,
    "start_time": "2021-06-08T20:31:55.938Z"
   },
   {
    "duration": 41,
    "start_time": "2021-06-08T20:32:40.638Z"
   },
   {
    "duration": 56,
    "start_time": "2021-06-08T20:36:53.079Z"
   },
   {
    "duration": 54,
    "start_time": "2021-06-08T20:43:08.179Z"
   },
   {
    "duration": 59,
    "start_time": "2021-06-08T20:43:44.695Z"
   },
   {
    "duration": 65,
    "start_time": "2021-06-08T20:45:02.909Z"
   },
   {
    "duration": 718,
    "start_time": "2021-06-08T20:46:17.658Z"
   },
   {
    "duration": 371,
    "start_time": "2021-06-08T20:53:08.047Z"
   },
   {
    "duration": 337,
    "start_time": "2021-06-08T20:55:07.864Z"
   },
   {
    "duration": 150,
    "start_time": "2021-06-08T20:55:22.171Z"
   },
   {
    "duration": 82,
    "start_time": "2021-06-08T20:55:36.063Z"
   },
   {
    "duration": 83,
    "start_time": "2021-06-08T20:55:54.839Z"
   },
   {
    "duration": 84,
    "start_time": "2021-06-08T20:59:13.938Z"
   },
   {
    "duration": 82,
    "start_time": "2021-06-08T21:05:05.847Z"
   },
   {
    "duration": 10,
    "start_time": "2021-06-08T21:05:34.264Z"
   },
   {
    "duration": 7,
    "start_time": "2021-06-08T21:05:57.625Z"
   },
   {
    "duration": 7317,
    "start_time": "2021-06-08T21:06:19.805Z"
   },
   {
    "duration": 285,
    "start_time": "2021-06-08T21:06:42.208Z"
   },
   {
    "duration": 359,
    "start_time": "2021-06-08T21:09:07.689Z"
   },
   {
    "duration": 50,
    "start_time": "2021-06-08T21:09:24.353Z"
   },
   {
    "duration": 12,
    "start_time": "2021-06-08T21:09:26.853Z"
   },
   {
    "duration": 33,
    "start_time": "2021-06-08T21:09:29.301Z"
   },
   {
    "duration": 41,
    "start_time": "2021-06-08T21:09:31.743Z"
   },
   {
    "duration": 5,
    "start_time": "2021-06-08T21:09:34.233Z"
   },
   {
    "duration": 16,
    "start_time": "2021-06-08T21:09:36.354Z"
   },
   {
    "duration": 20,
    "start_time": "2021-06-08T21:09:38.862Z"
   },
   {
    "duration": 77,
    "start_time": "2021-06-08T21:09:41.889Z"
   },
   {
    "duration": 73,
    "start_time": "2021-06-08T21:09:44.870Z"
   },
   {
    "duration": 42,
    "start_time": "2021-06-08T21:09:47.168Z"
   },
   {
    "duration": 50,
    "start_time": "2021-06-08T21:09:49.466Z"
   },
   {
    "duration": 83,
    "start_time": "2021-06-08T21:09:51.834Z"
   },
   {
    "duration": 82,
    "start_time": "2021-06-08T21:10:28.419Z"
   },
   {
    "duration": 85,
    "start_time": "2021-06-08T21:11:04.202Z"
   },
   {
    "duration": 80,
    "start_time": "2021-06-08T21:11:23.177Z"
   },
   {
    "duration": 7,
    "start_time": "2021-06-08T21:11:32.790Z"
   },
   {
    "duration": 11,
    "start_time": "2021-06-08T21:11:36.069Z"
   },
   {
    "duration": 7,
    "start_time": "2021-06-08T21:12:01.807Z"
   },
   {
    "duration": 6,
    "start_time": "2021-06-08T21:12:10.304Z"
   },
   {
    "duration": 11,
    "start_time": "2021-06-08T21:12:55.143Z"
   },
   {
    "duration": 80,
    "start_time": "2021-06-08T21:13:15.961Z"
   },
   {
    "duration": 6,
    "start_time": "2021-06-08T21:13:36.151Z"
   },
   {
    "duration": 49,
    "start_time": "2021-06-08T21:14:02.742Z"
   },
   {
    "duration": 6,
    "start_time": "2021-06-08T21:14:37.701Z"
   },
   {
    "duration": 27,
    "start_time": "2021-06-08T21:16:33.144Z"
   },
   {
    "duration": 36,
    "start_time": "2021-06-08T21:19:18.517Z"
   },
   {
    "duration": 32,
    "start_time": "2021-06-08T21:21:57.938Z"
   },
   {
    "duration": 374,
    "start_time": "2021-06-08T21:25:38.529Z"
   },
   {
    "duration": 345,
    "start_time": "2021-06-08T21:30:05.082Z"
   },
   {
    "duration": 278,
    "start_time": "2021-06-08T21:30:43.506Z"
   },
   {
    "duration": 369,
    "start_time": "2021-06-08T21:31:19.866Z"
   },
   {
    "duration": 428,
    "start_time": "2021-06-08T21:36:54.889Z"
   },
   {
    "duration": -259,
    "start_time": "2021-06-08T21:37:42.949Z"
   },
   {
    "duration": 358,
    "start_time": "2021-06-08T21:38:04.058Z"
   },
   {
    "duration": 8,
    "start_time": "2021-06-08T21:49:34.010Z"
   },
   {
    "duration": 9,
    "start_time": "2021-06-08T21:50:08.207Z"
   },
   {
    "duration": 271,
    "start_time": "2021-06-08T21:54:02.515Z"
   },
   {
    "duration": 8,
    "start_time": "2021-06-08T21:54:46.678Z"
   },
   {
    "duration": 284,
    "start_time": "2021-06-08T22:07:58.787Z"
   },
   {
    "duration": 285,
    "start_time": "2021-06-08T22:08:14.940Z"
   },
   {
    "duration": 276,
    "start_time": "2021-06-08T22:10:08.357Z"
   },
   {
    "duration": 293,
    "start_time": "2021-06-08T22:10:31.045Z"
   },
   {
    "duration": 339,
    "start_time": "2021-06-08T22:12:30.750Z"
   },
   {
    "duration": 330,
    "start_time": "2021-06-08T22:12:43.762Z"
   },
   {
    "duration": 334,
    "start_time": "2021-06-08T22:13:06.765Z"
   },
   {
    "duration": 92,
    "start_time": "2021-06-08T22:16:14.123Z"
   },
   {
    "duration": 332,
    "start_time": "2021-06-08T22:17:22.025Z"
   },
   {
    "duration": 7015,
    "start_time": "2021-06-08T22:20:03.312Z"
   },
   {
    "duration": 7524,
    "start_time": "2021-06-08T22:20:18.914Z"
   },
   {
    "duration": 395,
    "start_time": "2021-06-08T22:32:13.520Z"
   },
   {
    "duration": 9,
    "start_time": "2021-06-08T22:32:46.715Z"
   },
   {
    "duration": 75,
    "start_time": "2021-06-08T22:32:51.959Z"
   },
   {
    "duration": 52,
    "start_time": "2021-06-08T22:33:04.205Z"
   },
   {
    "duration": 18,
    "start_time": "2021-06-08T22:33:36.734Z"
   },
   {
    "duration": 19,
    "start_time": "2021-06-08T22:44:19.699Z"
   },
   {
    "duration": 289,
    "start_time": "2021-06-08T22:45:35.003Z"
   },
   {
    "duration": 7,
    "start_time": "2021-06-08T22:45:44.136Z"
   },
   {
    "duration": 1826,
    "start_time": "2021-06-09T16:15:47.137Z"
   },
   {
    "duration": 54,
    "start_time": "2021-06-09T16:18:43.399Z"
   },
   {
    "duration": 13,
    "start_time": "2021-06-09T16:31:40.121Z"
   },
   {
    "duration": 11,
    "start_time": "2021-06-09T16:31:42.572Z"
   },
   {
    "duration": 31,
    "start_time": "2021-06-09T16:31:47.216Z"
   },
   {
    "duration": 39,
    "start_time": "2021-06-09T16:31:50.540Z"
   },
   {
    "duration": 5,
    "start_time": "2021-06-09T16:31:53.506Z"
   },
   {
    "duration": 14,
    "start_time": "2021-06-09T16:31:55.627Z"
   },
   {
    "duration": 23,
    "start_time": "2021-06-09T16:31:59.305Z"
   },
   {
    "duration": 85,
    "start_time": "2021-06-09T16:33:36.322Z"
   },
   {
    "duration": 90,
    "start_time": "2021-06-09T16:41:07.312Z"
   },
   {
    "duration": 16,
    "start_time": "2021-06-09T16:41:45.395Z"
   },
   {
    "duration": 54,
    "start_time": "2021-06-09T16:43:04.302Z"
   },
   {
    "duration": 40,
    "start_time": "2021-06-09T16:43:08.762Z"
   },
   {
    "duration": 77,
    "start_time": "2021-06-09T16:43:16.472Z"
   },
   {
    "duration": 88,
    "start_time": "2021-06-09T16:47:33.248Z"
   },
   {
    "duration": 77,
    "start_time": "2021-06-09T16:48:13.161Z"
   },
   {
    "duration": 10,
    "start_time": "2021-06-09T16:48:25.449Z"
   },
   {
    "duration": 6,
    "start_time": "2021-06-09T16:48:56.297Z"
   },
   {
    "duration": 9,
    "start_time": "2021-06-09T16:51:51.745Z"
   },
   {
    "duration": 6,
    "start_time": "2021-06-09T16:52:38.153Z"
   },
   {
    "duration": 11,
    "start_time": "2021-06-09T16:52:41.167Z"
   },
   {
    "duration": 135,
    "start_time": "2021-06-09T16:53:39.118Z"
   },
   {
    "duration": 7,
    "start_time": "2021-06-09T16:54:13.067Z"
   },
   {
    "duration": 59,
    "start_time": "2021-06-09T16:54:33.287Z"
   },
   {
    "duration": 452,
    "start_time": "2021-06-09T16:55:49.372Z"
   },
   {
    "duration": 6135,
    "start_time": "2021-06-09T16:57:18.916Z"
   },
   {
    "duration": 29,
    "start_time": "2021-06-09T16:57:44.651Z"
   },
   {
    "duration": 28,
    "start_time": "2021-06-09T17:02:09.364Z"
   },
   {
    "duration": 6,
    "start_time": "2021-06-09T17:09:05.706Z"
   },
   {
    "duration": 121,
    "start_time": "2021-06-09T20:21:10.491Z"
   },
   {
    "duration": 110,
    "start_time": "2021-06-09T20:21:53.856Z"
   },
   {
    "duration": 1774,
    "start_time": "2021-06-10T00:13:53.693Z"
   },
   {
    "duration": 53,
    "start_time": "2021-06-10T00:14:52.806Z"
   },
   {
    "duration": 12,
    "start_time": "2021-06-10T00:14:56.584Z"
   },
   {
    "duration": 30,
    "start_time": "2021-06-10T00:15:01.792Z"
   },
   {
    "duration": 39,
    "start_time": "2021-06-10T00:15:04.805Z"
   },
   {
    "duration": 5,
    "start_time": "2021-06-10T00:15:08.206Z"
   },
   {
    "duration": 15,
    "start_time": "2021-06-10T00:15:10.314Z"
   },
   {
    "duration": 86,
    "start_time": "2021-06-10T00:19:21.017Z"
   },
   {
    "duration": 98,
    "start_time": "2021-06-10T00:19:59.403Z"
   },
   {
    "duration": 374,
    "start_time": "2021-06-10T00:23:54.652Z"
   },
   {
    "duration": 274,
    "start_time": "2021-06-10T00:23:59.527Z"
   },
   {
    "duration": 298,
    "start_time": "2021-06-10T00:24:08.032Z"
   },
   {
    "duration": 57,
    "start_time": "2021-06-10T00:24:12.524Z"
   },
   {
    "duration": 51,
    "start_time": "2021-06-10T00:24:15.010Z"
   },
   {
    "duration": 45,
    "start_time": "2021-06-10T00:24:17.758Z"
   },
   {
    "duration": 75,
    "start_time": "2021-06-10T00:24:22.761Z"
   },
   {
    "duration": 39,
    "start_time": "2021-06-10T00:24:24.821Z"
   },
   {
    "duration": 46,
    "start_time": "2021-06-10T00:24:27.159Z"
   },
   {
    "duration": 81,
    "start_time": "2021-06-10T00:25:21.095Z"
   },
   {
    "duration": 8,
    "start_time": "2021-06-10T00:25:31.101Z"
   },
   {
    "duration": 5,
    "start_time": "2021-06-10T00:25:35.314Z"
   },
   {
    "duration": 6,
    "start_time": "2021-06-10T00:25:59.216Z"
   },
   {
    "duration": 8,
    "start_time": "2021-06-10T00:26:03.693Z"
   },
   {
    "duration": 7,
    "start_time": "2021-06-10T00:26:11.933Z"
   },
   {
    "duration": 6,
    "start_time": "2021-06-10T00:26:21.321Z"
   },
   {
    "duration": 6660,
    "start_time": "2021-06-10T00:26:27.673Z"
   },
   {
    "duration": 65,
    "start_time": "2021-06-10T00:27:27.924Z"
   },
   {
    "duration": 72,
    "start_time": "2021-06-10T00:27:38.440Z"
   },
   {
    "duration": 29,
    "start_time": "2021-06-10T00:28:03.575Z"
   },
   {
    "duration": 356,
    "start_time": "2021-06-10T01:10:42.103Z"
   },
   {
    "duration": 742,
    "start_time": "2021-06-10T01:14:53.056Z"
   },
   {
    "duration": 502,
    "start_time": "2021-06-10T01:15:46.431Z"
   },
   {
    "duration": 590,
    "start_time": "2021-06-10T01:19:53.228Z"
   },
   {
    "duration": 95,
    "start_time": "2021-06-10T01:21:32.024Z"
   },
   {
    "duration": 408,
    "start_time": "2021-06-10T01:21:40.330Z"
   },
   {
    "duration": 552,
    "start_time": "2021-06-10T01:22:18.742Z"
   },
   {
    "duration": 476,
    "start_time": "2021-06-10T01:22:34.449Z"
   },
   {
    "duration": 436,
    "start_time": "2021-06-10T02:41:39.541Z"
   },
   {
    "duration": 9,
    "start_time": "2021-06-10T03:19:44.914Z"
   },
   {
    "duration": 7,
    "start_time": "2021-06-10T03:20:46.728Z"
   },
   {
    "duration": 312,
    "start_time": "2021-06-10T03:21:44.969Z"
   },
   {
    "duration": 3595,
    "start_time": "2021-06-10T16:45:01.198Z"
   },
   {
    "duration": 94,
    "start_time": "2021-06-10T16:45:30.232Z"
   },
   {
    "duration": 53,
    "start_time": "2021-06-10T16:56:38.935Z"
   },
   {
    "duration": 11,
    "start_time": "2021-06-10T16:56:43.249Z"
   },
   {
    "duration": 31,
    "start_time": "2021-06-10T16:56:46.605Z"
   },
   {
    "duration": 39,
    "start_time": "2021-06-10T16:56:48.942Z"
   },
   {
    "duration": 5,
    "start_time": "2021-06-10T16:56:53.509Z"
   },
   {
    "duration": 20,
    "start_time": "2021-06-10T17:01:17.621Z"
   },
   {
    "duration": 89,
    "start_time": "2021-06-10T17:06:11.068Z"
   },
   {
    "duration": 51,
    "start_time": "2021-06-10T17:06:14.751Z"
   },
   {
    "duration": 48,
    "start_time": "2021-06-10T17:06:21.330Z"
   },
   {
    "duration": 512,
    "start_time": "2021-06-10T17:07:10.207Z"
   },
   {
    "duration": 392,
    "start_time": "2021-06-10T17:07:21.376Z"
   },
   {
    "duration": 77,
    "start_time": "2021-06-10T17:07:35.958Z"
   },
   {
    "duration": 45,
    "start_time": "2021-06-10T17:07:40.049Z"
   },
   {
    "duration": 49,
    "start_time": "2021-06-10T17:07:42.530Z"
   },
   {
    "duration": 86,
    "start_time": "2021-06-10T17:07:44.905Z"
   },
   {
    "duration": 90,
    "start_time": "2021-06-10T17:07:59.266Z"
   },
   {
    "duration": -707,
    "start_time": "2021-06-10T17:09:24.635Z"
   },
   {
    "duration": 8379,
    "start_time": "2021-06-10T17:09:25.280Z"
   },
   {
    "duration": 8857,
    "start_time": "2021-06-10T17:09:35.639Z"
   },
   {
    "duration": 447,
    "start_time": "2021-06-10T17:10:12.441Z"
   },
   {
    "duration": 88,
    "start_time": "2021-06-10T17:10:28.850Z"
   },
   {
    "duration": 10,
    "start_time": "2021-06-10T17:10:46.856Z"
   },
   {
    "duration": 6,
    "start_time": "2021-06-10T17:10:49.366Z"
   },
   {
    "duration": 9,
    "start_time": "2021-06-10T17:13:05.729Z"
   },
   {
    "duration": 12,
    "start_time": "2021-06-10T17:13:11.133Z"
   },
   {
    "duration": 323,
    "start_time": "2021-06-10T17:13:25.043Z"
   },
   {
    "duration": 8,
    "start_time": "2021-06-10T17:13:47.120Z"
   },
   {
    "duration": 6,
    "start_time": "2021-06-10T17:13:49.076Z"
   },
   {
    "duration": 107,
    "start_time": "2021-06-10T17:13:53.019Z"
   },
   {
    "duration": 6,
    "start_time": "2021-06-10T17:13:56.955Z"
   },
   {
    "duration": 56,
    "start_time": "2021-06-10T17:14:05.779Z"
   },
   {
    "duration": 29,
    "start_time": "2021-06-10T17:14:17.557Z"
   },
   {
    "duration": 429,
    "start_time": "2021-06-10T17:20:07.307Z"
   },
   {
    "duration": 389,
    "start_time": "2021-06-10T17:29:33.142Z"
   },
   {
    "duration": 938,
    "start_time": "2021-06-10T17:29:59.507Z"
   },
   {
    "duration": 919,
    "start_time": "2021-06-10T17:30:25.525Z"
   },
   {
    "duration": 469,
    "start_time": "2021-06-10T17:30:50.809Z"
   },
   {
    "duration": 417,
    "start_time": "2021-06-10T17:33:06.171Z"
   },
   {
    "duration": 414,
    "start_time": "2021-06-10T17:33:21.211Z"
   },
   {
    "duration": 536,
    "start_time": "2021-06-10T17:34:35.831Z"
   },
   {
    "duration": 375,
    "start_time": "2021-06-10T17:34:42.174Z"
   },
   {
    "duration": 303,
    "start_time": "2021-06-10T17:35:53.079Z"
   },
   {
    "duration": 383,
    "start_time": "2021-06-10T17:36:05.187Z"
   },
   {
    "duration": 409,
    "start_time": "2021-06-10T18:20:25.611Z"
   },
   {
    "duration": 7,
    "start_time": "2021-06-10T18:48:40.980Z"
   },
   {
    "duration": 9,
    "start_time": "2021-06-10T18:55:07.535Z"
   },
   {
    "duration": 23,
    "start_time": "2021-06-10T19:14:48.045Z"
   },
   {
    "duration": 18,
    "start_time": "2021-06-10T19:17:48.696Z"
   },
   {
    "duration": 16,
    "start_time": "2021-06-10T19:18:08.289Z"
   },
   {
    "duration": 7,
    "start_time": "2021-06-10T19:22:59.649Z"
   },
   {
    "duration": 2573,
    "start_time": "2021-06-12T01:03:16.172Z"
   },
   {
    "duration": 8,
    "start_time": "2021-06-12T01:12:39.153Z"
   },
   {
    "duration": 17,
    "start_time": "2021-06-12T01:12:48.126Z"
   },
   {
    "duration": 270,
    "start_time": "2021-06-12T01:27:06.454Z"
   },
   {
    "duration": 251,
    "start_time": "2021-06-12T01:27:22.524Z"
   },
   {
    "duration": 208,
    "start_time": "2021-06-12T01:27:35.117Z"
   },
   {
    "duration": 10,
    "start_time": "2021-06-12T01:27:46.286Z"
   },
   {
    "duration": 4,
    "start_time": "2021-06-12T01:33:18.551Z"
   },
   {
    "duration": 4,
    "start_time": "2021-06-12T01:33:28.211Z"
   },
   {
    "duration": 58,
    "start_time": "2021-06-12T01:33:37.135Z"
   },
   {
    "duration": 865,
    "start_time": "2021-06-12T01:33:51.230Z"
   },
   {
    "duration": 5,
    "start_time": "2021-06-12T01:40:17.953Z"
   },
   {
    "duration": 15,
    "start_time": "2021-06-12T01:40:27.178Z"
   },
   {
    "duration": 5,
    "start_time": "2021-06-12T01:41:02.616Z"
   },
   {
    "duration": 5,
    "start_time": "2021-06-12T01:41:08.129Z"
   },
   {
    "duration": 4,
    "start_time": "2021-06-12T01:43:54.716Z"
   },
   {
    "duration": 182,
    "start_time": "2021-06-12T01:44:06.963Z"
   },
   {
    "duration": 18,
    "start_time": "2021-06-12T01:44:12.114Z"
   },
   {
    "duration": 301,
    "start_time": "2021-06-12T01:45:43.051Z"
   },
   {
    "duration": 15,
    "start_time": "2021-06-12T01:45:59.656Z"
   },
   {
    "duration": 4372,
    "start_time": "2021-06-12T01:47:07.794Z"
   },
   {
    "duration": 6,
    "start_time": "2021-06-12T01:47:26.097Z"
   },
   {
    "duration": 16,
    "start_time": "2021-06-12T01:48:19.317Z"
   },
   {
    "duration": 6,
    "start_time": "2021-06-12T01:49:01.573Z"
   },
   {
    "duration": 175,
    "start_time": "2021-06-12T01:57:13.479Z"
   },
   {
    "duration": 175,
    "start_time": "2021-06-12T01:57:22.021Z"
   },
   {
    "duration": 16,
    "start_time": "2021-06-12T01:57:45.063Z"
   },
   {
    "duration": 8,
    "start_time": "2021-06-12T02:03:40.993Z"
   },
   {
    "duration": 5,
    "start_time": "2021-06-12T02:04:43.977Z"
   },
   {
    "duration": 8,
    "start_time": "2021-06-12T02:05:13.163Z"
   },
   {
    "duration": 9,
    "start_time": "2021-06-12T02:05:21.588Z"
   },
   {
    "duration": 10,
    "start_time": "2021-06-12T02:06:07.960Z"
   },
   {
    "duration": 9,
    "start_time": "2021-06-12T02:07:25.410Z"
   },
   {
    "duration": 9,
    "start_time": "2021-06-12T02:08:14.673Z"
   },
   {
    "duration": 8,
    "start_time": "2021-06-12T02:10:09.180Z"
   },
   {
    "duration": 5,
    "start_time": "2021-06-12T02:12:14.717Z"
   },
   {
    "duration": 5,
    "start_time": "2021-06-12T02:13:01.420Z"
   },
   {
    "duration": 6,
    "start_time": "2021-06-12T02:14:35.850Z"
   },
   {
    "duration": 7,
    "start_time": "2021-06-12T02:17:03.264Z"
   },
   {
    "duration": 283,
    "start_time": "2021-06-12T02:17:21.896Z"
   },
   {
    "duration": 15,
    "start_time": "2021-06-12T02:17:33.480Z"
   },
   {
    "duration": 694,
    "start_time": "2021-06-12T02:18:08.677Z"
   },
   {
    "duration": 760,
    "start_time": "2021-06-12T02:18:23.791Z"
   },
   {
    "duration": 12,
    "start_time": "2021-06-12T02:18:51.588Z"
   },
   {
    "duration": 182,
    "start_time": "2021-06-12T02:19:21.459Z"
   },
   {
    "duration": 5,
    "start_time": "2021-06-12T02:19:33.537Z"
   },
   {
    "duration": 10,
    "start_time": "2021-06-12T02:19:41.701Z"
   },
   {
    "duration": 15,
    "start_time": "2021-06-12T02:20:19.256Z"
   },
   {
    "duration": 58,
    "start_time": "2021-06-12T02:20:51.519Z"
   },
   {
    "duration": 10,
    "start_time": "2021-06-12T02:21:20.919Z"
   },
   {
    "duration": 10,
    "start_time": "2021-06-12T02:21:37.912Z"
   },
   {
    "duration": 11,
    "start_time": "2021-06-12T02:21:50.128Z"
   },
   {
    "duration": 4825,
    "start_time": "2021-06-12T02:39:09.693Z"
   },
   {
    "duration": 4268,
    "start_time": "2021-06-12T02:39:46.885Z"
   },
   {
    "duration": 180,
    "start_time": "2021-06-12T02:40:21.087Z"
   },
   {
    "duration": 173,
    "start_time": "2021-06-12T02:43:28.205Z"
   },
   {
    "duration": 180,
    "start_time": "2021-06-12T02:45:31.567Z"
   },
   {
    "duration": 192,
    "start_time": "2021-06-12T03:04:25.418Z"
   },
   {
    "duration": 176,
    "start_time": "2021-06-12T03:18:34.862Z"
   },
   {
    "duration": 4700,
    "start_time": "2021-06-12T03:19:04.306Z"
   },
   {
    "duration": 177,
    "start_time": "2021-06-12T03:19:12.856Z"
   },
   {
    "duration": 185,
    "start_time": "2021-06-12T03:24:31.444Z"
   },
   {
    "duration": 198,
    "start_time": "2021-06-12T03:29:06.461Z"
   },
   {
    "duration": 37,
    "start_time": "2021-06-12T03:37:19.013Z"
   },
   {
    "duration": 8,
    "start_time": "2021-06-12T03:37:22.507Z"
   },
   {
    "duration": 22,
    "start_time": "2021-06-12T03:37:26.038Z"
   },
   {
    "duration": 27,
    "start_time": "2021-06-12T03:37:28.781Z"
   },
   {
    "duration": 10,
    "start_time": "2021-06-12T03:37:32.526Z"
   },
   {
    "duration": 17,
    "start_time": "2021-06-12T03:37:36.150Z"
   },
   {
    "duration": 50,
    "start_time": "2021-06-12T03:43:43.273Z"
   },
   {
    "duration": 229,
    "start_time": "2021-06-12T03:51:21.036Z"
   },
   {
    "duration": 4,
    "start_time": "2021-06-12T04:06:38.062Z"
   },
   {
    "duration": 62,
    "start_time": "2021-06-12T04:06:49.316Z"
   },
   {
    "duration": 18,
    "start_time": "2021-06-12T04:06:54.529Z"
   },
   {
    "duration": 4408,
    "start_time": "2021-06-12T04:08:18.269Z"
   },
   {
    "duration": 17,
    "start_time": "2021-06-12T04:08:46.731Z"
   },
   {
    "duration": 186,
    "start_time": "2021-06-12T04:10:56.304Z"
   },
   {
    "duration": 204,
    "start_time": "2021-06-12T04:11:25.702Z"
   },
   {
    "duration": 185,
    "start_time": "2021-06-12T04:11:43.995Z"
   },
   {
    "duration": 19,
    "start_time": "2021-06-12T04:14:16.796Z"
   },
   {
    "duration": 1863,
    "start_time": "2021-06-12T14:09:05.207Z"
   },
   {
    "duration": 5,
    "start_time": "2021-06-12T14:09:20.820Z"
   },
   {
    "duration": 5,
    "start_time": "2021-06-12T14:09:45.644Z"
   },
   {
    "duration": 1532,
    "start_time": "2021-06-12T14:09:48.613Z"
   },
   {
    "duration": 56,
    "start_time": "2021-06-12T14:10:18.446Z"
   },
   {
    "duration": 31,
    "start_time": "2021-06-12T14:10:22.416Z"
   },
   {
    "duration": 39,
    "start_time": "2021-06-12T14:10:25.248Z"
   },
   {
    "duration": 5,
    "start_time": "2021-06-12T14:10:28.206Z"
   },
   {
    "duration": 16,
    "start_time": "2021-06-12T14:10:30.577Z"
   },
   {
    "duration": 37,
    "start_time": "2021-06-12T14:10:39.768Z"
   },
   {
    "duration": 7,
    "start_time": "2021-06-12T14:21:05.472Z"
   },
   {
    "duration": 7,
    "start_time": "2021-06-12T14:21:10.035Z"
   },
   {
    "duration": 9,
    "start_time": "2021-06-12T14:21:28.141Z"
   },
   {
    "duration": 36,
    "start_time": "2021-06-12T14:21:36.121Z"
   },
   {
    "duration": 14,
    "start_time": "2021-06-12T14:25:21.446Z"
   },
   {
    "duration": 13,
    "start_time": "2021-06-12T14:25:32.816Z"
   },
   {
    "duration": 9,
    "start_time": "2021-06-12T14:25:49.478Z"
   },
   {
    "duration": 39,
    "start_time": "2021-06-12T14:25:54.516Z"
   },
   {
    "duration": 404,
    "start_time": "2021-06-12T14:44:45.557Z"
   },
   {
    "duration": 320,
    "start_time": "2021-06-12T14:45:31.211Z"
   },
   {
    "duration": 99,
    "start_time": "2021-06-12T14:48:22.701Z"
   },
   {
    "duration": 361,
    "start_time": "2021-06-12T14:48:32.053Z"
   },
   {
    "duration": 6,
    "start_time": "2021-06-12T14:53:14.460Z"
   },
   {
    "duration": 6,
    "start_time": "2021-06-12T14:53:24.752Z"
   },
   {
    "duration": 104,
    "start_time": "2021-06-12T16:16:22.885Z"
   },
   {
    "duration": 118,
    "start_time": "2021-06-12T16:17:57.056Z"
   },
   {
    "duration": 17,
    "start_time": "2021-06-12T16:18:10.055Z"
   },
   {
    "duration": 364,
    "start_time": "2021-06-12T17:09:12.059Z"
   },
   {
    "duration": 6,
    "start_time": "2021-06-12T17:09:31.156Z"
   },
   {
    "duration": 385,
    "start_time": "2021-06-12T17:09:44.591Z"
   },
   {
    "duration": 377,
    "start_time": "2021-06-12T17:09:54.336Z"
   },
   {
    "duration": 111,
    "start_time": "2021-06-12T17:11:10.387Z"
   },
   {
    "duration": 8,
    "start_time": "2021-06-12T17:11:47.912Z"
   },
   {
    "duration": 377,
    "start_time": "2021-06-12T18:28:17.175Z"
   },
   {
    "duration": 54,
    "start_time": "2021-06-12T18:28:37.649Z"
   },
   {
    "duration": 12,
    "start_time": "2021-06-12T18:28:40.533Z"
   },
   {
    "duration": 33,
    "start_time": "2021-06-12T18:28:43.054Z"
   },
   {
    "duration": 40,
    "start_time": "2021-06-12T18:28:45.985Z"
   },
   {
    "duration": 5,
    "start_time": "2021-06-12T18:28:48.578Z"
   },
   {
    "duration": 16,
    "start_time": "2021-06-12T18:28:50.836Z"
   },
   {
    "duration": 20,
    "start_time": "2021-06-12T18:28:55.199Z"
   },
   {
    "duration": 107,
    "start_time": "2021-06-12T18:28:58.347Z"
   },
   {
    "duration": 11,
    "start_time": "2021-06-12T18:42:33.951Z"
   },
   {
    "duration": -2695,
    "start_time": "2021-06-12T18:48:31.124Z"
   },
   {
    "duration": 9437,
    "start_time": "2021-06-12T18:50:11.919Z"
   },
   {
    "duration": 9,
    "start_time": "2021-06-12T18:50:23.545Z"
   },
   {
    "duration": 7,
    "start_time": "2021-06-12T18:50:35.670Z"
   },
   {
    "duration": 1464,
    "start_time": "2021-06-12T18:50:39.624Z"
   },
   {
    "duration": 11,
    "start_time": "2021-06-12T18:50:43.852Z"
   },
   {
    "duration": 111,
    "start_time": "2021-06-12T19:02:38.628Z"
   },
   {
    "duration": 194,
    "start_time": "2021-06-12T19:10:11.678Z"
   },
   {
    "duration": 356,
    "start_time": "2021-06-12T19:21:28.404Z"
   },
   {
    "duration": 350,
    "start_time": "2021-06-12T19:22:10.945Z"
   },
   {
    "duration": 338,
    "start_time": "2021-06-12T19:30:53.063Z"
   },
   {
    "duration": 335,
    "start_time": "2021-06-12T19:31:16.241Z"
   },
   {
    "duration": 4218,
    "start_time": "2021-06-12T19:36:31.109Z"
   },
   {
    "duration": 137,
    "start_time": "2021-06-12T19:39:42.247Z"
   },
   {
    "duration": 2725,
    "start_time": "2021-06-12T19:40:05.151Z"
   },
   {
    "duration": 382,
    "start_time": "2021-06-12T19:40:24.567Z"
   },
   {
    "duration": 3062,
    "start_time": "2021-06-12T19:40:37.245Z"
   },
   {
    "duration": 2655,
    "start_time": "2021-06-12T19:44:12.278Z"
   },
   {
    "duration": 397,
    "start_time": "2021-06-12T19:44:56.767Z"
   },
   {
    "duration": 8721,
    "start_time": "2021-06-12T19:46:38.876Z"
   },
   {
    "duration": 8221,
    "start_time": "2021-06-12T19:46:58.213Z"
   },
   {
    "duration": 1189,
    "start_time": "2021-06-12T19:47:22.270Z"
   },
   {
    "duration": 1286,
    "start_time": "2021-06-12T19:48:16.689Z"
   },
   {
    "duration": 352,
    "start_time": "2021-06-12T19:48:38.531Z"
   },
   {
    "duration": 1561,
    "start_time": "2021-06-12T19:48:45.884Z"
   },
   {
    "duration": 1246,
    "start_time": "2021-06-12T19:49:04.273Z"
   },
   {
    "duration": 1267,
    "start_time": "2021-06-12T19:49:26.396Z"
   },
   {
    "duration": 1265,
    "start_time": "2021-06-12T19:49:43.951Z"
   },
   {
    "duration": 1700,
    "start_time": "2021-06-12T19:51:08.274Z"
   },
   {
    "duration": 1236,
    "start_time": "2021-06-12T19:51:39.548Z"
   },
   {
    "duration": 1257,
    "start_time": "2021-06-12T19:52:52.976Z"
   },
   {
    "duration": 11,
    "start_time": "2021-06-12T19:53:44.405Z"
   },
   {
    "duration": 15,
    "start_time": "2021-06-12T19:54:39.936Z"
   },
   {
    "duration": 1163,
    "start_time": "2021-06-12T19:54:48.972Z"
   },
   {
    "duration": 1225,
    "start_time": "2021-06-12T19:55:06.954Z"
   },
   {
    "duration": 1295,
    "start_time": "2021-06-12T19:55:28.853Z"
   },
   {
    "duration": 8452,
    "start_time": "2021-06-12T19:59:32.619Z"
   },
   {
    "duration": 2034,
    "start_time": "2021-06-12T20:00:09.896Z"
   },
   {
    "duration": 2414,
    "start_time": "2021-06-12T20:01:01.535Z"
   },
   {
    "duration": 2401,
    "start_time": "2021-06-12T20:01:45.220Z"
   },
   {
    "duration": 2040,
    "start_time": "2021-06-12T20:03:21.706Z"
   },
   {
    "duration": 2042,
    "start_time": "2021-06-12T20:03:34.079Z"
   },
   {
    "duration": 2562,
    "start_time": "2021-06-12T20:04:27.243Z"
   },
   {
    "duration": 3117,
    "start_time": "2021-06-12T20:09:49.654Z"
   },
   {
    "duration": 38637,
    "start_time": "2021-06-12T20:10:56.172Z"
   },
   {
    "duration": 8767,
    "start_time": "2021-06-12T20:11:46.031Z"
   },
   {
    "duration": 33869,
    "start_time": "2021-06-12T20:12:01.346Z"
   },
   {
    "duration": 33171,
    "start_time": "2021-06-12T20:14:25.340Z"
   },
   {
    "duration": 370,
    "start_time": "2021-06-12T20:17:10.537Z"
   },
   {
    "duration": 32,
    "start_time": "2021-06-12T20:17:12.975Z"
   },
   {
    "duration": 21,
    "start_time": "2021-06-12T20:17:21.611Z"
   },
   {
    "duration": 46,
    "start_time": "2021-06-12T20:17:34.350Z"
   },
   {
    "duration": 10,
    "start_time": "2021-06-12T20:17:37.025Z"
   },
   {
    "duration": 31,
    "start_time": "2021-06-12T20:17:39.496Z"
   },
   {
    "duration": 5,
    "start_time": "2021-06-12T20:17:45.669Z"
   },
   {
    "duration": 6,
    "start_time": "2021-06-12T20:17:48.246Z"
   },
   {
    "duration": 8660,
    "start_time": "2021-06-12T20:17:55.707Z"
   },
   {
    "duration": -2676,
    "start_time": "2021-06-12T20:18:07.045Z"
   },
   {
    "duration": 12,
    "start_time": "2021-06-12T20:18:07.588Z"
   },
   {
    "duration": 1431,
    "start_time": "2021-06-12T20:18:27.823Z"
   },
   {
    "duration": 1407,
    "start_time": "2021-06-12T20:19:02.976Z"
   },
   {
    "duration": 1345,
    "start_time": "2021-06-12T20:19:11.303Z"
   },
   {
    "duration": 2080,
    "start_time": "2021-06-12T20:20:39.601Z"
   },
   {
    "duration": 37,
    "start_time": "2021-06-12T20:21:24.429Z"
   },
   {
    "duration": 3027,
    "start_time": "2021-06-12T20:21:43.059Z"
   },
   {
    "duration": 34142,
    "start_time": "2021-06-12T20:58:23.697Z"
   },
   {
    "duration": 9114,
    "start_time": "2021-06-12T21:03:17.914Z"
   },
   {
    "duration": 8543,
    "start_time": "2021-06-12T21:03:47.819Z"
   },
   {
    "duration": 34905,
    "start_time": "2021-06-12T21:04:36.754Z"
   },
   {
    "duration": 1972,
    "start_time": "2021-06-13T14:07:41.182Z"
   },
   {
    "duration": 61,
    "start_time": "2021-06-13T14:07:59.614Z"
   },
   {
    "duration": 14,
    "start_time": "2021-06-13T14:08:03.557Z"
   },
   {
    "duration": 32,
    "start_time": "2021-06-13T14:08:06.464Z"
   },
   {
    "duration": 39,
    "start_time": "2021-06-13T14:08:09.228Z"
   },
   {
    "duration": 6,
    "start_time": "2021-06-13T14:08:13.516Z"
   },
   {
    "duration": 12,
    "start_time": "2021-06-13T14:08:55.934Z"
   },
   {
    "duration": 15,
    "start_time": "2021-06-13T14:09:06.958Z"
   },
   {
    "duration": 28,
    "start_time": "2021-06-13T14:09:09.799Z"
   },
   {
    "duration": 95,
    "start_time": "2021-06-13T14:09:12.356Z"
   },
   {
    "duration": 493,
    "start_time": "2021-06-13T14:35:38.928Z"
   },
   {
    "duration": 352,
    "start_time": "2021-06-13T14:39:21.882Z"
   },
   {
    "duration": 8870,
    "start_time": "2021-06-13T14:39:29.811Z"
   },
   {
    "duration": 388,
    "start_time": "2021-06-13T14:39:45.697Z"
   },
   {
    "duration": 390,
    "start_time": "2021-06-13T14:43:25.026Z"
   },
   {
    "duration": 348,
    "start_time": "2021-06-13T14:53:10.051Z"
   },
   {
    "duration": 383,
    "start_time": "2021-06-13T14:57:01.513Z"
   },
   {
    "duration": 360,
    "start_time": "2021-06-13T15:07:58.419Z"
   },
   {
    "duration": 116,
    "start_time": "2021-06-13T15:08:13.040Z"
   },
   {
    "duration": 13533,
    "start_time": "2021-06-13T15:09:11.469Z"
   },
   {
    "duration": 34690,
    "start_time": "2021-06-13T15:09:31.999Z"
   },
   {
    "duration": 383,
    "start_time": "2021-06-13T15:11:20.296Z"
   },
   {
    "duration": 36580,
    "start_time": "2021-06-13T15:12:18.796Z"
   },
   {
    "duration": 81,
    "start_time": "2021-06-13T15:55:29.523Z"
   },
   {
    "duration": 371,
    "start_time": "2021-06-13T16:20:39.222Z"
   },
   {
    "duration": 55,
    "start_time": "2021-06-13T16:20:55.171Z"
   },
   {
    "duration": 12,
    "start_time": "2021-06-13T16:20:57.428Z"
   },
   {
    "duration": 30,
    "start_time": "2021-06-13T16:20:58.666Z"
   },
   {
    "duration": 39,
    "start_time": "2021-06-13T16:20:59.736Z"
   },
   {
    "duration": 5,
    "start_time": "2021-06-13T16:21:03.451Z"
   },
   {
    "duration": 7,
    "start_time": "2021-06-13T16:21:08.033Z"
   },
   {
    "duration": 16,
    "start_time": "2021-06-13T16:21:09.962Z"
   },
   {
    "duration": 14,
    "start_time": "2021-06-13T16:21:15.428Z"
   },
   {
    "duration": 348,
    "start_time": "2021-06-13T16:21:32.215Z"
   },
   {
    "duration": 376,
    "start_time": "2021-06-13T16:22:07.172Z"
   },
   {
    "duration": 312,
    "start_time": "2021-06-13T16:22:13.605Z"
   },
   {
    "duration": 87,
    "start_time": "2021-06-13T16:22:26.402Z"
   },
   {
    "duration": 44,
    "start_time": "2021-06-13T16:22:27.602Z"
   },
   {
    "duration": 54,
    "start_time": "2021-06-13T16:22:31.638Z"
   },
   {
    "duration": 98,
    "start_time": "2021-06-13T16:22:34.533Z"
   },
   {
    "duration": 9793,
    "start_time": "2021-06-13T16:22:42.203Z"
   },
   {
    "duration": 97,
    "start_time": "2021-06-13T16:31:21.220Z"
   },
   {
    "duration": -285,
    "start_time": "2021-06-13T16:36:57.246Z"
   },
   {
    "duration": -292,
    "start_time": "2021-06-13T16:36:57.254Z"
   },
   {
    "duration": -295,
    "start_time": "2021-06-13T16:36:57.259Z"
   },
   {
    "duration": 36351,
    "start_time": "2021-06-13T16:37:02.629Z"
   },
   {
    "duration": 388,
    "start_time": "2021-06-13T16:40:34.855Z"
   },
   {
    "duration": 32,
    "start_time": "2021-06-13T16:40:37.458Z"
   },
   {
    "duration": 36,
    "start_time": "2021-06-13T16:40:40.242Z"
   },
   {
    "duration": 29,
    "start_time": "2021-06-13T16:40:42.882Z"
   },
   {
    "duration": 23,
    "start_time": "2021-06-13T16:40:45.433Z"
   },
   {
    "duration": 20,
    "start_time": "2021-06-13T16:40:48.549Z"
   },
   {
    "duration": 22,
    "start_time": "2021-06-13T16:40:51.115Z"
   },
   {
    "duration": 48,
    "start_time": "2021-06-13T16:40:59.777Z"
   },
   {
    "duration": 11,
    "start_time": "2021-06-13T16:41:07.812Z"
   },
   {
    "duration": 29,
    "start_time": "2021-06-13T16:41:10.594Z"
   },
   {
    "duration": -287,
    "start_time": "2021-06-13T16:41:40.922Z"
   },
   {
    "duration": 10,
    "start_time": "2021-06-13T16:42:25.610Z"
   },
   {
    "duration": 15,
    "start_time": "2021-06-13T16:43:21.979Z"
   },
   {
    "duration": 15,
    "start_time": "2021-06-13T16:43:30.627Z"
   },
   {
    "duration": 31,
    "start_time": "2021-06-13T16:43:33.366Z"
   },
   {
    "duration": 109,
    "start_time": "2021-06-13T16:43:36.133Z"
   },
   {
    "duration": 15,
    "start_time": "2021-06-13T16:43:45.994Z"
   },
   {
    "duration": 1559,
    "start_time": "2021-06-13T16:43:51.042Z"
   },
   {
    "duration": 16,
    "start_time": "2021-06-13T16:44:20.798Z"
   },
   {
    "duration": 1395,
    "start_time": "2021-06-13T16:44:31.166Z"
   },
   {
    "duration": 38,
    "start_time": "2021-06-13T16:44:58.818Z"
   },
   {
    "duration": 35432,
    "start_time": "2021-06-13T16:45:07.398Z"
   },
   {
    "duration": 116,
    "start_time": "2021-06-13T16:49:02.180Z"
   },
   {
    "duration": 41,
    "start_time": "2021-06-13T16:49:04.468Z"
   },
   {
    "duration": 55,
    "start_time": "2021-06-13T16:49:27.276Z"
   },
   {
    "duration": 150,
    "start_time": "2021-06-13T16:49:52.876Z"
   },
   {
    "duration": 89,
    "start_time": "2021-06-13T16:50:06.582Z"
   },
   {
    "duration": 92,
    "start_time": "2021-06-13T16:50:13.961Z"
   },
   {
    "duration": 91,
    "start_time": "2021-06-13T16:50:56.661Z"
   },
   {
    "duration": 8,
    "start_time": "2021-06-13T16:51:03.074Z"
   },
   {
    "duration": 6,
    "start_time": "2021-06-13T16:51:06.438Z"
   },
   {
    "duration": 10285,
    "start_time": "2021-06-13T16:51:16.094Z"
   },
   {
    "duration": 10535,
    "start_time": "2021-06-13T16:52:23.724Z"
   },
   {
    "duration": 10343,
    "start_time": "2021-06-13T17:00:25.347Z"
   },
   {
    "duration": 97,
    "start_time": "2021-06-13T17:02:23.485Z"
   },
   {
    "duration": 591,
    "start_time": "2021-06-13T17:02:55.011Z"
   },
   {
    "duration": 632,
    "start_time": "2021-06-13T17:03:24.795Z"
   },
   {
    "duration": 5491,
    "start_time": "2021-06-13T17:05:11.100Z"
   },
   {
    "duration": 5396,
    "start_time": "2021-06-13T17:05:30.648Z"
   },
   {
    "duration": 339,
    "start_time": "2021-06-13T17:13:31.499Z"
   },
   {
    "duration": 8381,
    "start_time": "2021-06-13T17:14:16.981Z"
   },
   {
    "duration": 8746,
    "start_time": "2021-06-13T17:14:27.660Z"
   },
   {
    "duration": 32,
    "start_time": "2021-06-13T17:14:49.507Z"
   },
   {
    "duration": 53,
    "start_time": "2021-06-13T17:16:22.465Z"
   },
   {
    "duration": 36,
    "start_time": "2021-06-13T17:16:28.851Z"
   },
   {
    "duration": 387,
    "start_time": "2021-06-13T17:32:41.054Z"
   },
   {
    "duration": 35,
    "start_time": "2021-06-13T17:33:36.219Z"
   },
   {
    "duration": 37,
    "start_time": "2021-06-13T17:34:18.044Z"
   },
   {
    "duration": 38,
    "start_time": "2021-06-13T17:34:31.184Z"
   },
   {
    "duration": 427,
    "start_time": "2021-06-13T17:35:27.615Z"
   },
   {
    "duration": 375,
    "start_time": "2021-06-13T17:35:58.264Z"
   },
   {
    "duration": 9,
    "start_time": "2021-06-13T17:36:57.496Z"
   },
   {
    "duration": 7,
    "start_time": "2021-06-13T17:38:16.964Z"
   },
   {
    "duration": 15,
    "start_time": "2021-06-13T17:40:11.374Z"
   },
   {
    "duration": 14,
    "start_time": "2021-06-13T17:43:59.869Z"
   },
   {
    "duration": 17,
    "start_time": "2021-06-13T17:44:09.834Z"
   },
   {
    "duration": 16,
    "start_time": "2021-06-13T17:45:20.459Z"
   },
   {
    "duration": 24,
    "start_time": "2021-06-13T17:45:31.161Z"
   },
   {
    "duration": 24,
    "start_time": "2021-06-13T17:47:01.891Z"
   },
   {
    "duration": 23,
    "start_time": "2021-06-13T17:47:14.671Z"
   },
   {
    "duration": 16,
    "start_time": "2021-06-13T17:47:24.695Z"
   },
   {
    "duration": 16,
    "start_time": "2021-06-13T17:47:56.827Z"
   },
   {
    "duration": 111,
    "start_time": "2021-06-13T17:48:08.379Z"
   },
   {
    "duration": 16,
    "start_time": "2021-06-13T17:48:13.621Z"
   },
   {
    "duration": 7,
    "start_time": "2021-06-13T17:48:31.307Z"
   },
   {
    "duration": 366,
    "start_time": "2021-06-13T18:00:37.558Z"
   },
   {
    "duration": 33,
    "start_time": "2021-06-13T18:00:40.662Z"
   },
   {
    "duration": 28,
    "start_time": "2021-06-13T18:00:43.829Z"
   },
   {
    "duration": 27,
    "start_time": "2021-06-13T18:00:47.813Z"
   },
   {
    "duration": 23,
    "start_time": "2021-06-13T18:00:50.273Z"
   },
   {
    "duration": 18,
    "start_time": "2021-06-13T18:00:52.912Z"
   },
   {
    "duration": 22,
    "start_time": "2021-06-13T18:00:55.516Z"
   },
   {
    "duration": 92,
    "start_time": "2021-06-13T18:01:06.517Z"
   },
   {
    "duration": 46,
    "start_time": "2021-06-13T18:01:12.954Z"
   },
   {
    "duration": 11,
    "start_time": "2021-06-13T18:01:15.445Z"
   },
   {
    "duration": 30,
    "start_time": "2021-06-13T18:01:18.754Z"
   },
   {
    "duration": 37,
    "start_time": "2021-06-13T18:01:21.127Z"
   },
   {
    "duration": 12,
    "start_time": "2021-06-13T18:01:23.495Z"
   },
   {
    "duration": 9,
    "start_time": "2021-06-13T18:01:25.928Z"
   },
   {
    "duration": 18,
    "start_time": "2021-06-13T18:01:28.085Z"
   },
   {
    "duration": 18,
    "start_time": "2021-06-13T18:01:30.333Z"
   },
   {
    "duration": 15,
    "start_time": "2021-06-13T18:01:33.438Z"
   },
   {
    "duration": 72,
    "start_time": "2021-06-13T18:02:50.440Z"
   },
   {
    "duration": 42,
    "start_time": "2021-06-13T18:02:52.574Z"
   },
   {
    "duration": 49,
    "start_time": "2021-06-13T18:02:54.891Z"
   },
   {
    "duration": 97,
    "start_time": "2021-06-13T18:02:57.697Z"
   },
   {
    "duration": 8,
    "start_time": "2021-06-13T18:03:01.743Z"
   },
   {
    "duration": 7,
    "start_time": "2021-06-13T18:03:14.857Z"
   },
   {
    "duration": 5273,
    "start_time": "2021-06-13T18:03:32.684Z"
   },
   {
    "duration": 38,
    "start_time": "2021-06-13T18:03:50.842Z"
   },
   {
    "duration": 41,
    "start_time": "2021-06-13T18:04:57.109Z"
   },
   {
    "duration": 31,
    "start_time": "2021-06-13T18:05:06.381Z"
   },
   {
    "duration": 5327,
    "start_time": "2021-06-13T18:13:59.012Z"
   },
   {
    "duration": 170,
    "start_time": "2021-06-13T18:21:32.514Z"
   },
   {
    "duration": 363,
    "start_time": "2021-06-13T18:23:50.058Z"
   },
   {
    "duration": 51,
    "start_time": "2021-06-13T18:24:38.922Z"
   },
   {
    "duration": 12,
    "start_time": "2021-06-13T18:24:41.946Z"
   },
   {
    "duration": 32,
    "start_time": "2021-06-13T18:24:45.418Z"
   },
   {
    "duration": 16,
    "start_time": "2021-06-13T18:24:49.834Z"
   },
   {
    "duration": 10,
    "start_time": "2021-06-13T18:25:01.522Z"
   },
   {
    "duration": 15,
    "start_time": "2021-06-13T18:25:03.993Z"
   },
   {
    "duration": 26,
    "start_time": "2021-06-13T18:25:06.516Z"
   },
   {
    "duration": 14,
    "start_time": "2021-06-13T18:25:09.932Z"
   },
   {
    "duration": 1503,
    "start_time": "2021-06-13T18:25:21.242Z"
   },
   {
    "duration": 8952,
    "start_time": "2021-06-13T18:26:23.557Z"
   },
   {
    "duration": -249,
    "start_time": "2021-06-13T18:26:41.985Z"
   },
   {
    "duration": 9223,
    "start_time": "2021-06-13T18:27:11.463Z"
   },
   {
    "duration": -248,
    "start_time": "2021-06-13T18:28:51.839Z"
   },
   {
    "duration": 14,
    "start_time": "2021-06-13T18:28:52.827Z"
   },
   {
    "duration": 20,
    "start_time": "2021-06-13T18:29:02.202Z"
   },
   {
    "duration": 362,
    "start_time": "2021-06-13T18:30:11.797Z"
   },
   {
    "duration": 52,
    "start_time": "2021-06-13T18:30:25.061Z"
   },
   {
    "duration": 15,
    "start_time": "2021-06-13T18:30:27.552Z"
   },
   {
    "duration": 31,
    "start_time": "2021-06-13T18:30:31.514Z"
   },
   {
    "duration": 41,
    "start_time": "2021-06-13T18:30:33.484Z"
   },
   {
    "duration": 5,
    "start_time": "2021-06-13T18:31:09.499Z"
   },
   {
    "duration": 12,
    "start_time": "2021-06-13T18:33:31.528Z"
   },
   {
    "duration": 9,
    "start_time": "2021-06-13T18:33:39.825Z"
   },
   {
    "duration": 15,
    "start_time": "2021-06-13T18:33:42.671Z"
   },
   {
    "duration": 18,
    "start_time": "2021-06-13T18:33:45.080Z"
   },
   {
    "duration": 14,
    "start_time": "2021-06-13T18:33:49.717Z"
   },
   {
    "duration": 11,
    "start_time": "2021-06-13T18:34:33.166Z"
   },
   {
    "duration": 32639,
    "start_time": "2021-06-13T18:34:48.157Z"
   },
   {
    "duration": 316,
    "start_time": "2021-06-13T18:37:13.378Z"
   },
   {
    "duration": 301,
    "start_time": "2021-06-13T18:38:04.161Z"
   },
   {
    "duration": 308,
    "start_time": "2021-06-13T18:38:19.153Z"
   },
   {
    "duration": 927,
    "start_time": "2021-06-13T18:39:32.726Z"
   },
   {
    "duration": 75,
    "start_time": "2021-06-13T18:39:48.681Z"
   },
   {
    "duration": 40,
    "start_time": "2021-06-13T18:39:50.605Z"
   },
   {
    "duration": 50,
    "start_time": "2021-06-13T18:39:52.593Z"
   },
   {
    "duration": 105,
    "start_time": "2021-06-13T18:39:54.841Z"
   },
   {
    "duration": 109,
    "start_time": "2021-06-13T18:40:23.605Z"
   },
   {
    "duration": 9,
    "start_time": "2021-06-13T18:41:06.801Z"
   },
   {
    "duration": 7,
    "start_time": "2021-06-13T18:41:21.129Z"
   },
   {
    "duration": 5400,
    "start_time": "2021-06-13T18:41:28.965Z"
   },
   {
    "duration": 32,
    "start_time": "2021-06-13T18:42:55.401Z"
   },
   {
    "duration": 31,
    "start_time": "2021-06-13T18:45:57.111Z"
   },
   {
    "duration": 367,
    "start_time": "2021-06-13T18:47:28.112Z"
   },
   {
    "duration": 54,
    "start_time": "2021-06-13T18:47:39.358Z"
   },
   {
    "duration": 12,
    "start_time": "2021-06-13T18:47:41.656Z"
   },
   {
    "duration": 31,
    "start_time": "2021-06-13T18:47:44.147Z"
   },
   {
    "duration": 39,
    "start_time": "2021-06-13T18:47:46.314Z"
   },
   {
    "duration": 11,
    "start_time": "2021-06-13T18:47:48.579Z"
   },
   {
    "duration": 9,
    "start_time": "2021-06-13T18:47:51.050Z"
   },
   {
    "duration": 15,
    "start_time": "2021-06-13T18:47:53.245Z"
   },
   {
    "duration": 18,
    "start_time": "2021-06-13T18:47:55.638Z"
   },
   {
    "duration": 89,
    "start_time": "2021-06-13T18:47:58.006Z"
   },
   {
    "duration": 17,
    "start_time": "2021-06-13T18:48:00.844Z"
   },
   {
    "duration": 32889,
    "start_time": "2021-06-13T18:48:03.227Z"
   },
   {
    "duration": 33660,
    "start_time": "2021-06-13T18:55:46.828Z"
   },
   {
    "duration": 32906,
    "start_time": "2021-06-13T18:56:43.342Z"
   },
   {
    "duration": 69,
    "start_time": "2021-06-13T18:57:44.303Z"
   },
   {
    "duration": 41,
    "start_time": "2021-06-13T18:57:46.209Z"
   },
   {
    "duration": 50,
    "start_time": "2021-06-13T18:57:48.669Z"
   },
   {
    "duration": 96,
    "start_time": "2021-06-13T18:57:51.278Z"
   },
   {
    "duration": 5345,
    "start_time": "2021-06-13T18:58:03.651Z"
   },
   {
    "duration": 33,
    "start_time": "2021-06-13T18:58:13.867Z"
   },
   {
    "duration": 21,
    "start_time": "2021-06-13T20:42:06.477Z"
   },
   {
    "duration": 371,
    "start_time": "2021-06-13T20:45:15.069Z"
   },
   {
    "duration": 327,
    "start_time": "2021-06-13T20:45:44.273Z"
   },
   {
    "duration": 378,
    "start_time": "2021-06-13T20:46:47.657Z"
   },
   {
    "duration": 372,
    "start_time": "2021-06-13T20:48:21.227Z"
   },
   {
    "duration": 348,
    "start_time": "2021-06-13T20:49:03.199Z"
   },
   {
    "duration": 373,
    "start_time": "2021-06-13T20:49:23.573Z"
   },
   {
    "duration": 51,
    "start_time": "2021-06-13T20:49:31.883Z"
   },
   {
    "duration": 34,
    "start_time": "2021-06-13T20:49:46.258Z"
   },
   {
    "duration": 33,
    "start_time": "2021-06-13T20:49:56.883Z"
   },
   {
    "duration": 23,
    "start_time": "2021-06-13T20:50:41.604Z"
   },
   {
    "duration": 351,
    "start_time": "2021-06-13T20:51:21.603Z"
   },
   {
    "duration": 32,
    "start_time": "2021-06-13T20:51:29.302Z"
   },
   {
    "duration": 125,
    "start_time": "2021-06-13T20:52:20.280Z"
   },
   {
    "duration": 124,
    "start_time": "2021-06-13T20:52:27.094Z"
   },
   {
    "duration": 115,
    "start_time": "2021-06-13T20:54:11.754Z"
   },
   {
    "duration": 122,
    "start_time": "2021-06-13T20:54:17.772Z"
   },
   {
    "duration": 128,
    "start_time": "2021-06-13T20:54:26.604Z"
   },
   {
    "duration": 115,
    "start_time": "2021-06-13T20:54:43.836Z"
   },
   {
    "duration": 100,
    "start_time": "2021-06-13T20:55:45.885Z"
   },
   {
    "duration": 24,
    "start_time": "2021-06-13T20:56:47.053Z"
   },
   {
    "duration": 23,
    "start_time": "2021-06-13T20:57:27.881Z"
   },
   {
    "duration": 7,
    "start_time": "2021-06-13T20:59:52.528Z"
   },
   {
    "duration": 356,
    "start_time": "2021-06-13T21:30:51.828Z"
   },
   {
    "duration": 51,
    "start_time": "2021-06-13T21:31:06.530Z"
   },
   {
    "duration": 12,
    "start_time": "2021-06-13T21:31:08.697Z"
   },
   {
    "duration": 33,
    "start_time": "2021-06-13T21:31:11.521Z"
   },
   {
    "duration": 44,
    "start_time": "2021-06-13T21:31:14.198Z"
   },
   {
    "duration": 11,
    "start_time": "2021-06-13T21:31:16.465Z"
   },
   {
    "duration": 11,
    "start_time": "2021-06-13T21:31:19.648Z"
   },
   {
    "duration": 15,
    "start_time": "2021-06-13T21:31:22.352Z"
   },
   {
    "duration": 80,
    "start_time": "2021-06-13T21:31:27.801Z"
   },
   {
    "duration": 15,
    "start_time": "2021-06-13T21:31:33.712Z"
   },
   {
    "duration": 75,
    "start_time": "2021-06-13T21:42:40.173Z"
   },
   {
    "duration": 42,
    "start_time": "2021-06-13T21:42:45.275Z"
   },
   {
    "duration": 51,
    "start_time": "2021-06-13T21:42:47.674Z"
   },
   {
    "duration": 103,
    "start_time": "2021-06-13T21:42:49.785Z"
   },
   {
    "duration": 9,
    "start_time": "2021-06-13T21:42:53.989Z"
   },
   {
    "duration": 21,
    "start_time": "2021-06-13T21:42:57.900Z"
   },
   {
    "duration": 5242,
    "start_time": "2021-06-13T21:43:09.185Z"
   },
   {
    "duration": 25,
    "start_time": "2021-06-13T21:44:34.564Z"
   },
   {
    "duration": 22,
    "start_time": "2021-06-13T21:50:46.903Z"
   },
   {
    "duration": 360,
    "start_time": "2021-06-14T00:00:24.472Z"
   },
   {
    "duration": 51,
    "start_time": "2021-06-14T00:01:33.823Z"
   },
   {
    "duration": 12,
    "start_time": "2021-06-14T00:01:36.640Z"
   },
   {
    "duration": 30,
    "start_time": "2021-06-14T00:01:41.015Z"
   },
   {
    "duration": 41,
    "start_time": "2021-06-14T00:01:43.982Z"
   },
   {
    "duration": 11,
    "start_time": "2021-06-14T00:01:46.262Z"
   },
   {
    "duration": 9,
    "start_time": "2021-06-14T00:01:48.422Z"
   },
   {
    "duration": 15,
    "start_time": "2021-06-14T00:02:49.742Z"
   },
   {
    "duration": 18,
    "start_time": "2021-06-14T00:02:53.378Z"
   },
   {
    "duration": 78,
    "start_time": "2021-06-14T00:02:57.048Z"
   },
   {
    "duration": 15,
    "start_time": "2021-06-14T00:02:59.938Z"
   },
   {
    "duration": 70,
    "start_time": "2021-06-14T00:03:18.722Z"
   },
   {
    "duration": 50,
    "start_time": "2021-06-14T00:03:22.789Z"
   },
   {
    "duration": 395,
    "start_time": "2021-06-14T00:03:25.296Z"
   },
   {
    "duration": 42,
    "start_time": "2021-06-14T00:03:36.191Z"
   },
   {
    "duration": 97,
    "start_time": "2021-06-14T00:03:40.353Z"
   },
   {
    "duration": 10,
    "start_time": "2021-06-14T00:03:47.611Z"
   },
   {
    "duration": 6,
    "start_time": "2021-06-14T00:03:50.450Z"
   },
   {
    "duration": 6,
    "start_time": "2021-06-14T00:03:53.182Z"
   },
   {
    "duration": 5461,
    "start_time": "2021-06-14T00:03:57.493Z"
   },
   {
    "duration": 23,
    "start_time": "2021-06-14T00:04:09.735Z"
   },
   {
    "duration": 23,
    "start_time": "2021-06-14T00:05:00.449Z"
   },
   {
    "duration": 377,
    "start_time": "2021-06-14T00:08:21.353Z"
   },
   {
    "duration": 398,
    "start_time": "2021-06-14T00:08:28.960Z"
   },
   {
    "duration": 8,
    "start_time": "2021-06-14T00:09:18.044Z"
   },
   {
    "duration": 8,
    "start_time": "2021-06-14T00:09:31.957Z"
   },
   {
    "duration": 18,
    "start_time": "2021-06-14T00:09:42.423Z"
   },
   {
    "duration": 8,
    "start_time": "2021-06-14T00:09:56.458Z"
   },
   {
    "duration": 2846,
    "start_time": "2021-06-14T04:13:30.494Z"
   },
   {
    "duration": 24,
    "start_time": "2021-06-14T04:13:33.343Z"
   },
   {
    "duration": 20,
    "start_time": "2021-06-14T04:13:33.369Z"
   },
   {
    "duration": 17,
    "start_time": "2021-06-14T04:13:33.392Z"
   },
   {
    "duration": 11,
    "start_time": "2021-06-14T04:13:33.410Z"
   },
   {
    "duration": 16,
    "start_time": "2021-06-14T04:13:33.422Z"
   },
   {
    "duration": 92,
    "start_time": "2021-06-14T04:13:33.439Z"
   },
   {
    "duration": 33,
    "start_time": "2021-06-14T04:13:33.533Z"
   },
   {
    "duration": 28,
    "start_time": "2021-06-14T04:13:33.568Z"
   },
   {
    "duration": 20,
    "start_time": "2021-06-14T04:13:33.599Z"
   },
   {
    "duration": 24,
    "start_time": "2021-06-14T04:13:33.620Z"
   },
   {
    "duration": 11,
    "start_time": "2021-06-14T04:13:33.646Z"
   },
   {
    "duration": 7,
    "start_time": "2021-06-14T04:13:33.684Z"
   },
   {
    "duration": 17,
    "start_time": "2021-06-14T04:13:33.693Z"
   },
   {
    "duration": 13,
    "start_time": "2021-06-14T04:13:33.712Z"
   },
   {
    "duration": 81,
    "start_time": "2021-06-14T04:13:33.727Z"
   },
   {
    "duration": 9,
    "start_time": "2021-06-14T04:13:33.810Z"
   },
   {
    "duration": 19902,
    "start_time": "2021-06-14T04:13:33.821Z"
   },
   {
    "duration": 62,
    "start_time": "2021-06-14T04:13:53.725Z"
   },
   {
    "duration": 30,
    "start_time": "2021-06-14T04:13:53.789Z"
   },
   {
    "duration": 33,
    "start_time": "2021-06-14T04:13:53.821Z"
   },
   {
    "duration": 89,
    "start_time": "2021-06-14T04:13:53.856Z"
   },
   {
    "duration": 6,
    "start_time": "2021-06-14T04:13:53.946Z"
   },
   {
    "duration": 5,
    "start_time": "2021-06-14T04:13:53.954Z"
   },
   {
    "duration": 3,
    "start_time": "2021-06-14T04:13:53.961Z"
   },
   {
    "duration": 18,
    "start_time": "2021-06-14T04:13:56.814Z"
   },
   {
    "duration": 18,
    "start_time": "2021-06-14T04:13:56.834Z"
   },
   {
    "duration": 285,
    "start_time": "2021-06-14T04:13:56.853Z"
   },
   {
    "duration": 259,
    "start_time": "2021-06-14T04:13:57.140Z"
   },
   {
    "duration": 229,
    "start_time": "2021-06-14T04:13:57.402Z"
   },
   {
    "duration": 5,
    "start_time": "2021-06-14T04:13:57.633Z"
   },
   {
    "duration": 9,
    "start_time": "2021-06-14T04:13:57.639Z"
   },
   {
    "duration": 10,
    "start_time": "2021-06-14T04:13:57.649Z"
   },
   {
    "duration": 4,
    "start_time": "2021-06-14T04:13:57.660Z"
   },
   {
    "duration": 3105,
    "start_time": "2021-06-14T04:13:57.684Z"
   },
   {
    "duration": 2739,
    "start_time": "2021-06-14T04:14:10.500Z"
   },
   {
    "duration": 2835,
    "start_time": "2021-06-14T04:14:28.620Z"
   },
   {
    "duration": 3021,
    "start_time": "2021-06-14T04:14:40.166Z"
   },
   {
    "duration": 2813,
    "start_time": "2021-06-14T04:14:52.126Z"
   },
   {
    "duration": 2833,
    "start_time": "2021-06-14T04:15:08.898Z"
   },
   {
    "duration": 3006,
    "start_time": "2021-06-14T04:16:53.405Z"
   },
   {
    "duration": 2878,
    "start_time": "2021-06-14T04:17:00.285Z"
   },
   {
    "duration": 7028,
    "start_time": "2021-06-14T04:17:11.875Z"
   },
   {
    "duration": 2850,
    "start_time": "2021-06-14T04:17:28.297Z"
   },
   {
    "duration": 2789,
    "start_time": "2021-06-14T04:17:43.876Z"
   },
   {
    "duration": 2573,
    "start_time": "2021-06-14T14:17:11.659Z"
   },
   {
    "duration": 56,
    "start_time": "2021-06-14T14:17:57.039Z"
   },
   {
    "duration": 14,
    "start_time": "2021-06-14T14:17:59.802Z"
   },
   {
    "duration": 33,
    "start_time": "2021-06-14T14:18:02.603Z"
   },
   {
    "duration": 41,
    "start_time": "2021-06-14T14:18:05.109Z"
   },
   {
    "duration": 17,
    "start_time": "2021-06-14T14:18:07.403Z"
   },
   {
    "duration": 5,
    "start_time": "2021-06-14T14:18:53.822Z"
   },
   {
    "duration": 359,
    "start_time": "2021-06-14T14:19:48.319Z"
   },
   {
    "duration": 55,
    "start_time": "2021-06-14T14:19:57.519Z"
   },
   {
    "duration": 11,
    "start_time": "2021-06-14T14:20:00.455Z"
   },
   {
    "duration": 32,
    "start_time": "2021-06-14T14:20:03.216Z"
   },
   {
    "duration": 50,
    "start_time": "2021-06-14T14:20:05.661Z"
   },
   {
    "duration": 596,
    "start_time": "2021-06-14T14:21:19.433Z"
   },
   {
    "duration": 16,
    "start_time": "2021-06-14T14:21:48.325Z"
   },
   {
    "duration": 355,
    "start_time": "2021-06-14T14:21:55.967Z"
   },
   {
    "duration": 374,
    "start_time": "2021-06-14T14:22:39.160Z"
   },
   {
    "duration": 51,
    "start_time": "2021-06-14T14:22:48.723Z"
   },
   {
    "duration": 12,
    "start_time": "2021-06-14T14:22:51.515Z"
   },
   {
    "duration": 32,
    "start_time": "2021-06-14T14:22:54.129Z"
   },
   {
    "duration": 41,
    "start_time": "2021-06-14T14:22:56.350Z"
   },
   {
    "duration": 9,
    "start_time": "2021-06-14T14:23:24.519Z"
   },
   {
    "duration": 16,
    "start_time": "2021-06-14T14:23:28.254Z"
   },
   {
    "duration": 21,
    "start_time": "2021-06-14T14:23:30.399Z"
   },
   {
    "duration": 91,
    "start_time": "2021-06-14T14:23:32.905Z"
   },
   {
    "duration": 14,
    "start_time": "2021-06-14T14:23:37.292Z"
   },
   {
    "duration": 12,
    "start_time": "2021-06-14T14:24:25.803Z"
   },
   {
    "duration": 485,
    "start_time": "2021-06-14T14:33:04.591Z"
   },
   {
    "duration": 516,
    "start_time": "2021-06-14T14:33:11.000Z"
   },
   {
    "duration": 373,
    "start_time": "2021-06-14T14:33:49.962Z"
   },
   {
    "duration": 32,
    "start_time": "2021-06-14T14:33:56.629Z"
   },
   {
    "duration": 47,
    "start_time": "2021-06-14T14:34:20.664Z"
   },
   {
    "duration": 349,
    "start_time": "2021-06-14T14:34:53.346Z"
   },
   {
    "duration": 32,
    "start_time": "2021-06-14T14:35:02.052Z"
   },
   {
    "duration": 39,
    "start_time": "2021-06-14T14:35:09.053Z"
   },
   {
    "duration": 8,
    "start_time": "2021-06-14T14:36:03.964Z"
   },
   {
    "duration": 15,
    "start_time": "2021-06-14T14:36:18.004Z"
   },
   {
    "duration": 23,
    "start_time": "2021-06-14T14:36:36.900Z"
   },
   {
    "duration": 48230,
    "start_time": "2021-06-14T14:36:46.339Z"
   },
   {
    "duration": 84,
    "start_time": "2021-06-14T14:40:07.655Z"
   },
   {
    "duration": 42,
    "start_time": "2021-06-14T14:40:14.781Z"
   },
   {
    "duration": 52,
    "start_time": "2021-06-14T14:40:34.813Z"
   },
   {
    "duration": 391,
    "start_time": "2021-06-14T14:41:01.673Z"
   },
   {
    "duration": 95,
    "start_time": "2021-06-14T14:41:31.569Z"
   },
   {
    "duration": 371,
    "start_time": "2021-06-14T15:03:54.578Z"
   },
   {
    "duration": 81,
    "start_time": "2021-06-14T15:04:05.095Z"
   },
   {
    "duration": -60,
    "start_time": "2021-06-14T15:04:40.521Z"
   },
   {
    "duration": 101,
    "start_time": "2021-06-14T15:08:01.162Z"
   },
   {
    "duration": 8814,
    "start_time": "2021-06-14T15:08:37.616Z"
   },
   {
    "duration": 23,
    "start_time": "2021-06-14T15:19:40.058Z"
   },
   {
    "duration": 141,
    "start_time": "2021-06-14T15:19:55.181Z"
   },
   {
    "duration": 20,
    "start_time": "2021-06-14T15:20:01.123Z"
   },
   {
    "duration": 5256,
    "start_time": "2021-06-14T15:20:24.547Z"
   },
   {
    "duration": 23,
    "start_time": "2021-06-14T15:21:32.160Z"
   },
   {
    "duration": 24,
    "start_time": "2021-06-14T15:21:58.404Z"
   },
   {
    "duration": 407,
    "start_time": "2021-06-14T15:22:11.787Z"
   },
   {
    "duration": 1805,
    "start_time": "2021-06-14T21:34:40.593Z"
   },
   {
    "duration": 36,
    "start_time": "2021-06-14T21:34:42.814Z"
   },
   {
    "duration": 26,
    "start_time": "2021-06-14T21:34:45.704Z"
   },
   {
    "duration": 22,
    "start_time": "2021-06-14T21:34:48.067Z"
   },
   {
    "duration": 18,
    "start_time": "2021-06-14T21:34:50.761Z"
   },
   {
    "duration": 87,
    "start_time": "2021-06-14T21:34:53.747Z"
   },
   {
    "duration": 53,
    "start_time": "2021-06-14T21:35:01.742Z"
   },
   {
    "duration": 13,
    "start_time": "2021-06-14T21:37:43.647Z"
   },
   {
    "duration": 30,
    "start_time": "2021-06-14T21:37:53.310Z"
   },
   {
    "duration": 38,
    "start_time": "2021-06-14T21:37:56.620Z"
   },
   {
    "duration": 14,
    "start_time": "2021-06-14T21:40:13.265Z"
   },
   {
    "duration": 16,
    "start_time": "2021-06-14T21:40:22.636Z"
   },
   {
    "duration": 18,
    "start_time": "2021-06-14T21:40:28.167Z"
   },
   {
    "duration": 99,
    "start_time": "2021-06-14T21:41:02.907Z"
   },
   {
    "duration": 46,
    "start_time": "2021-06-14T21:41:07.803Z"
   },
   {
    "duration": 57,
    "start_time": "2021-06-14T21:41:16.154Z"
   },
   {
    "duration": 80,
    "start_time": "2021-06-14T21:43:31.371Z"
   },
   {
    "duration": 92,
    "start_time": "2021-06-14T21:43:40.628Z"
   },
   {
    "duration": 8,
    "start_time": "2021-06-14T21:44:05.608Z"
   },
   {
    "duration": 6,
    "start_time": "2021-06-14T21:44:08.684Z"
   },
   {
    "duration": 8,
    "start_time": "2021-06-14T21:44:12.904Z"
   },
   {
    "duration": 30,
    "start_time": "2021-06-14T21:44:15.525Z"
   },
   {
    "duration": 8096,
    "start_time": "2021-06-14T21:44:24.708Z"
   },
   {
    "duration": 36,
    "start_time": "2021-06-14T21:45:09.056Z"
   },
   {
    "duration": 32,
    "start_time": "2021-06-14T21:46:19.815Z"
   },
   {
    "duration": 665,
    "start_time": "2021-06-14T22:01:48.301Z"
   },
   {
    "duration": 386,
    "start_time": "2021-06-14T22:02:03.506Z"
   },
   {
    "duration": 470,
    "start_time": "2021-06-14T22:02:07.158Z"
   },
   {
    "duration": 376,
    "start_time": "2021-06-14T22:02:11.403Z"
   },
   {
    "duration": 8,
    "start_time": "2021-06-14T22:02:20.452Z"
   },
   {
    "duration": 7,
    "start_time": "2021-06-14T22:02:27.642Z"
   },
   {
    "duration": 17,
    "start_time": "2021-06-14T22:02:42.134Z"
   },
   {
    "duration": 7,
    "start_time": "2021-06-14T22:03:19.335Z"
   }
  ],
  "kernelspec": {
   "display_name": "Python 3",
   "language": "python",
   "name": "python3"
  },
  "language_info": {
   "codemirror_mode": {
    "name": "ipython",
    "version": 3
   },
   "file_extension": ".py",
   "mimetype": "text/x-python",
   "name": "python",
   "nbconvert_exporter": "python",
   "pygments_lexer": "ipython3",
   "version": "3.7.8"
  },
  "toc": {
   "base_numbering": "",
   "nav_menu": {},
   "number_sections": false,
   "sideBar": true,
   "skip_h1_title": false,
   "title_cell": "Table of Contents",
   "title_sidebar": "Contents",
   "toc_cell": false,
   "toc_position": {},
   "toc_section_display": true,
   "toc_window_display": false
  }
 },
 "nbformat": 4,
 "nbformat_minor": 2
}
